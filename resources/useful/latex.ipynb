{
 "cells": [
  {
   "cell_type": "markdown",
   "id": "ready-prefix",
   "metadata": {},
   "source": [
    "$$\\underbrace{x + \\cdots + x}_{n\\rm\\times}^{\\text{(note here)}}$$"
   ]
  },
  {
   "cell_type": "markdown",
   "id": "optimum-anime",
   "metadata": {},
   "source": [
    "$$\n",
    "\\underbrace{\n",
    "  \\hspace{0.5cm}\n",
    "  \\frac{gb^3}{\\eta\\kappa}\n",
    "  \\hspace{0.5cm}\n",
    "  }_{\\mathrm{dimensionless}}\n",
    "$$"
   ]
  },
  {
   "cell_type": "markdown",
   "id": "digital-differential",
   "metadata": {},
   "source": [
    "$$\n",
    "\\underbrace{\n",
    "    \\frac{gb^3}{\\eta\\kappa}\n",
    "    }_{bah}\n",
    "\\underbrace{\n",
    "    \\vphantom{\\frac{gb^3}{\\eta\\kappa}}\n",
    "    \\alpha\n",
    "    }_{zap}\n",
    "$$"
   ]
  },
  {
   "cell_type": "markdown",
   "id": "included-white",
   "metadata": {},
   "source": [
    "$$\n",
    "\\stackrel{2}{3}\n",
    "$$"
   ]
  },
  {
   "cell_type": "markdown",
   "id": "overall-blind",
   "metadata": {},
   "source": [
    "$$\n",
    "f(n) = \\begin{cases}\n",
    "  n/2  & n \\text{ is even} \\\\\n",
    "  3n+1 & n \\text{ is odd}\n",
    "\\end{cases}\n",
    "$$"
   ]
  },
  {
   "cell_type": "markdown",
   "id": "endangered-whale",
   "metadata": {},
   "source": [
    "$$\n",
    "\\begin{array}{c}\n",
    "    \\\\ foo\n",
    "    \\\\ bah\n",
    "    \\end{array}\n",
    "$$"
   ]
  },
  {
   "cell_type": "markdown",
   "id": "particular-opposition",
   "metadata": {},
   "source": [
    "$$\n",
    "\\newcommand\n",
    "    {\\standardcolumn}[4]\n",
    "    {\n",
    "        \\begin{array}{c}\n",
    "            {\n",
    "                \\vphantom{\\huge \\strut}\n",
    "                {\\tiny #1}\n",
    "                }\n",
    "         \\\\ {#2}\n",
    "         \\\\ {\n",
    "                \\vphantom{\n",
    "                    \\begin{array}{c}\n",
    "                        \\strut\n",
    "                     \\\\ \\strut\n",
    "                        \\end{array}\n",
    "                    }\n",
    "                #3\n",
    "                }\n",
    "         \\\\ {\\strut {\\tiny #4}}\n",
    "            \\end{array}\n",
    "        }\n",
    "\\standardcolumn\n",
    "    {\n",
    "        \\begin{array}{c}\n",
    "            \\text{Rayleigh}\n",
    "         \\\\ \\text{number}\n",
    "            \\end{array}\n",
    "        }\n",
    "    {\\mathrm{Ra}}\n",
    "    {}\n",
    "    {(\\text{dimensionless})}\n",
    "\\standardcolumn{}{=}{}{}\n",
    "\\standardcolumn\n",
    "    {\n",
    "        \\begin{array}{c}\n",
    "            \\text{Scale}\n",
    "         \\\\ \\text{coefficient}\n",
    "            \\end{array}\n",
    "        }\n",
    "    {\\zeta}\n",
    "    {\\equiv {\\large \\frac{gb^3}{\\mu \\kappa}}}\n",
    "    {(\\text{dimensionless})}\n",
    "\\standardcolumn{}{\\bullet}{}{}\n",
    "\\standardcolumn\n",
    "    {\n",
    "        \\begin{array}{c}\n",
    "            \\text{Thermal}\n",
    "         \\\\ \\text{expansivity}\n",
    "            \\end{array}\n",
    "        }\n",
    "    {\\alpha}\n",
    "    {}\n",
    "    {(\\text{temperature}^{-1})}\n",
    "\\standardcolumn{}{\\bullet}{}{}\n",
    "\\standardcolumn\n",
    "    {\n",
    "        \\begin{array}{c}\n",
    "            \\text{Temperature}\n",
    "         \\\\ \\text{scale}\n",
    "            \\end{array}\n",
    "        }\n",
    "    {\\tau}\n",
    "    {\n",
    "        = \\begin{cases}\n",
    "            \\Delta T & {\\tiny (basal)}\n",
    "         \\\\ \\frac{b^2}{\\kappa c_p} H & {\\tiny (volume)}\n",
    "            \\end{cases}\n",
    "        }\n",
    "    {(\\text{temperature})}\n",
    "$$"
   ]
  },
  {
   "cell_type": "markdown",
   "id": "killing-negative",
   "metadata": {},
   "source": [
    "$$\n",
    "{\\Huge foo} bah\n",
    "$$"
   ]
  },
  {
   "cell_type": "markdown",
   "id": "understanding-accent",
   "metadata": {},
   "source": [
    "$$\n",
    "\\newcommand\n",
    "    {\\standardgap}\n",
    "    {\\vphantom{\\begin{matrix}\\int\\\\\\int\\\\\\int\\end{matrix}}}\n",
    "\\overset\n",
    "    {\\begin{matrix}\\text{Rayleigh}\\\\\\text{number}\\end{matrix}}\n",
    "    {\n",
    "        \\underset\n",
    "            {\\vphantom{\\int}(\\mathrm{dimensionless})}\n",
    "            {\n",
    "                \\standardgap\n",
    "                \\mathrm{Ra}\n",
    "                }\n",
    "        }\n",
    "\\hspace{0.25cm}\n",
    "=\n",
    "\\hspace{0.25cm}\n",
    "\\overset\n",
    "    {\\begin{matrix}\\text{Scale}\\\\\\text{coefficient}\\end{matrix}}\n",
    "    {\n",
    "        \\underset\n",
    "            {\\vphantom{\\int}(\\mathrm{dimensionless})}\n",
    "            {\n",
    "                \\standardgap\n",
    "                \\begin{array}{c}\n",
    "                \\zeta \\\\\n",
    "                \\equiv \\frac{gb^3}{\\nu\\kappa}\n",
    "                \\end{array}\n",
    "                }\n",
    "        }\n",
    "\\hspace{0.25cm}\n",
    "\\bullet\n",
    "\\hspace{0.25cm}\n",
    "\\overset\n",
    "    {\\begin{matrix}\\text{Thermal}\\\\\\text{expansivity}\\end{matrix}}\n",
    "    {\n",
    "        \\underset\n",
    "            {\\vphantom{\\int}(\\mathrm{temperature}^{-1})}\n",
    "            {\n",
    "                \\standardgap\n",
    "                \\alpha\n",
    "                }\n",
    "        }\n",
    "\\hspace{0.25cm}\n",
    "\\bullet\n",
    "\\hspace{0.25cm}\n",
    "\\overset\n",
    "    {\\begin{matrix}\\text{Characteristic}\\\\\\text{temperature}\\end{matrix}}\n",
    "    {\n",
    "        \\underset\n",
    "            {\\vphantom{\\int}(\\mathrm{temperature})}\n",
    "            {\n",
    "                \\vphantom{\\begin{matrix}\\int\\\\\\int\\\\\\int\\end{matrix}}\n",
    "                \\begin{array}{c}\n",
    "                \\tau \\\\\n",
    "                = \\Delta T \\\\\n",
    "                = \\frac{b^2}{\\kappa c_p} H\n",
    "                \\end{array}\n",
    "                }\n",
    "        }\n",
    "$$"
   ]
  },
  {
   "cell_type": "markdown",
   "id": "wireless-lighting",
   "metadata": {},
   "source": [
    "$$\n",
    "\\begin{cases}\n",
    "\\end{cases}\n",
    "$$"
   ]
  },
  {
   "cell_type": "markdown",
   "id": "surprising-console",
   "metadata": {},
   "source": [
    "$$\n",
    "\\begin{array}{c}\n",
    "    \\begin{array}{c}\n",
    "    \\text{Rayleigh} \\\\\n",
    "    \\text{number}\n",
    "    \\end{array} \\\\\n",
    "Ra \\\\\n",
    "\\strut\n",
    "\\end{array}\n",
    "=\n",
    "\\begin{array}{c}\n",
    "    \\begin{array}{c}\n",
    "    \\text{Scale} \\\\\n",
    "    \\text{coefficient}\n",
    "    \\end{array} \\\\\n",
    "\\zeta \\\\\n",
    "\\equiv \\frac{gb^3}{\\mu\\kappa}\n",
    "\\end{array}\n",
    "$$"
   ]
  },
  {
   "cell_type": "markdown",
   "id": "tribal-baking",
   "metadata": {},
   "source": [
    "$$\n",
    "\\begin{array}{lcl}\n",
    "  z & = & a \\\\\n",
    "  & = & a \\\\\n",
    "  f(x,y,z) & = & x + y + z\n",
    "\\end{array}\n",
    "$$"
   ]
  },
  {
   "cell_type": "markdown",
   "id": "surprised-turkish",
   "metadata": {},
   "source": [
    "$$\\frac{\\frac{2}{\\vphantom{2cm}}}{3}$$"
   ]
  },
  {
   "cell_type": "markdown",
   "id": "mighty-cambodia",
   "metadata": {},
   "source": [
    "$$\n",
    "\\binom{\\frac ab}c \\binom{\\vphantom{\\frac ab}?}c\n",
    "$$"
   ]
  },
  {
   "cell_type": "markdown",
   "id": "disciplinary-blowing",
   "metadata": {},
   "source": [
    "$$\\fbox{2}{3}$$"
   ]
  },
  {
   "cell_type": "markdown",
   "id": "classified-lingerie",
   "metadata": {},
   "source": [
    "$$\n",
    "\\binom{\\frac ab}c \\binom{\\vphantom{\\frac ab}?}c\n",
    "$$"
   ]
  },
  {
   "cell_type": "markdown",
   "id": "demanding-monaco",
   "metadata": {},
   "source": [
    "$$\n",
    "\\hspace{0.5cm} \\bullet \\hspace{0.5cm}\n",
    "\\underbrace{\\alpha}_{\\mathrm{temperature}^{-1}}\n",
    "\\hspace{0.5cm} \\bullet \\hspace{0.5cm}\n",
    "\\underbrace{T_{ref}}_{\\mathrm{temperature}}\n",
    "\\overbrace{2}^{note}\n",
    "$$"
   ]
  }
 ],
 "metadata": {
  "kernelspec": {
   "display_name": "Python 3",
   "language": "python",
   "name": "python3"
  },
  "language_info": {
   "codemirror_mode": {
    "name": "ipython",
    "version": 3
   },
   "file_extension": ".py",
   "mimetype": "text/x-python",
   "name": "python",
   "nbconvert_exporter": "python",
   "pygments_lexer": "ipython3",
   "version": "3.8.6"
  }
 },
 "nbformat": 4,
 "nbformat_minor": 5
}
