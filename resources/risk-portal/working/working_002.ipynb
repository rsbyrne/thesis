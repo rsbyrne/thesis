{
 "cells": [
  {
   "cell_type": "code",
   "execution_count": null,
   "id": "22ee4199-322b-43d6-b6f5-31d8aeaabbbf",
   "metadata": {},
   "outputs": [],
   "source": [
    "import recipes"
   ]
  },
  {
   "cell_type": "code",
   "execution_count": null,
   "id": "e1389faf-4187-4292-a1e8-93131b9e0508",
   "metadata": {},
   "outputs": [],
   "source": [
    "canvas = recipes.melsummary_plot()"
   ]
  },
  {
   "cell_type": "code",
   "execution_count": null,
   "id": "df713576-a97c-46b2-b5fd-efc85822d2ce",
   "metadata": {},
   "outputs": [],
   "source": [
    "canvas"
   ]
  },
  {
   "cell_type": "code",
   "execution_count": null,
   "id": "c344e3ea-a110-4f42-a4ad-804882853eca",
   "metadata": {},
   "outputs": [],
   "source": [
    "from functools import lru_cache\n",
    "import os\n",
    "\n",
    "import aliases\n",
    "import load\n",
    "import analysis\n",
    "import produce\n",
    "from everest import window"
   ]
  },
  {
   "cell_type": "code",
   "execution_count": null,
   "id": "bd425bce-c11b-492a-b09c-fef9c1ac36ec",
   "metadata": {},
   "outputs": [],
   "source": [
    "frm = produce.google_score('syd', n = 12)"
   ]
  },
  {
   "cell_type": "code",
   "execution_count": null,
   "id": "c975920a-0793-403a-8164-b9b970a13c3f",
   "metadata": {},
   "outputs": [],
   "source": [
    "canvas = window.Canvas(size = (18, 4.5))\n",
    "ax = canvas.make_ax()\n",
    "names = []\n",
    "for name in frm.index.levels[1]:\n",
    "    data = frm.xs(name, level = 'name')\n",
    "    if len(data) < len(frm.index.levels[0]) * 0.9:\n",
    "        continue\n",
    "    names.append(name)\n",
    "    ax.line(data.index, data.values)"
   ]
  },
  {
   "cell_type": "code",
   "execution_count": null,
   "id": "4379e893-2aa2-4f12-8cd9-e307432cb32b",
   "metadata": {},
   "outputs": [],
   "source": [
    "names"
   ]
  },
  {
   "cell_type": "code",
   "execution_count": null,
   "id": "b9be2155-0bb6-4197-82e1-f7d8ffca8fd6",
   "metadata": {},
   "outputs": [],
   "source": [
    "canvas"
   ]
  },
  {
   "cell_type": "code",
   "execution_count": null,
   "id": "e0cab094-0d08-44d0-84d6-9e1cd908b8ad",
   "metadata": {},
   "outputs": [],
   "source": []
  },
  {
   "cell_type": "code",
   "execution_count": null,
   "id": "a52000a8-ef49-4cda-99df-4bd927c97406",
   "metadata": {},
   "outputs": [],
   "source": [
    "region = 'mel'\n",
    "\n",
    "cases = analysis.make_casesFrm_gov()\n",
    "\n",
    "frm = produce.google_score(region, n = 12)\n",
    "\n",
    "frm = frm.to_frame()\n",
    "frm['new'] = cases['new_rolling']\n",
    "\n",
    "canvas = window.Canvas(size = (18, 4.5))\n",
    "\n",
    "ax1 = canvas.make_ax()\n",
    "alldays = frm['mobility'].xs('average', level = 'name')\n",
    "days = analysis.get_days(alldays.index, region)\n",
    "workdays = alldays.iloc[days < 5]\n",
    "ax1.scatter(\n",
    "    workdays.index,\n",
    "    window.DataChannel(workdays.values, lims = (-1, 2)),\n",
    "    s = 10.\n",
    "    )\n",
    "ax1.line(\n",
    "    workdays.index,\n",
    "    window.DataChannel(workdays.values, lims = (-1, 2)),\n",
    "    )\n",
    "ax1.props.edges.x.label.text = '!$Date'\n",
    "ax1.props.edges.y.label.text = '!$Mobility score'\n",
    "\n",
    "ax2 = canvas.make_ax()\n",
    "data = frm['new'].xs('average', level = 'name')\n",
    "ax2.line(\n",
    "    data.index,\n",
    "    data.values,\n",
    "    color = 'red'\n",
    "    )\n",
    "ax2.props.edges.x.visible = False\n",
    "ax2.props.edges.y.swap()\n",
    "ax2.props.grid.visible = False\n",
    "ax2.props.edges.y.label.text = '!$New cases\\n(7-day rolling average per 10,000 people)'"
   ]
  },
  {
   "cell_type": "code",
   "execution_count": null,
   "id": "e6c38ab0-65dd-4d28-ab4d-28c3c8b80f82",
   "metadata": {},
   "outputs": [],
   "source": [
    "canvas"
   ]
  },
  {
   "cell_type": "code",
   "execution_count": null,
   "id": "2ae0371d-55df-4c21-9180-cc217c89bfef",
   "metadata": {},
   "outputs": [],
   "source": []
  }
 ],
 "metadata": {
  "kernelspec": {
   "display_name": "Python 3",
   "language": "python",
   "name": "python3"
  },
  "language_info": {
   "codemirror_mode": {
    "name": "ipython",
    "version": 3
   },
   "file_extension": ".py",
   "mimetype": "text/x-python",
   "name": "python",
   "nbconvert_exporter": "python",
   "pygments_lexer": "ipython3",
   "version": "3.9.5"
  }
 },
 "nbformat": 4,
 "nbformat_minor": 5
}
