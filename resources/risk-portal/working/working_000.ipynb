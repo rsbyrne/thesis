{
 "cells": [
  {
   "cell_type": "code",
   "execution_count": null,
   "id": "1af1a9fe-0a20-44ea-8ead-0be5c85b67f7",
   "metadata": {},
   "outputs": [],
   "source": [
    "from functools import partial\n",
    "\n",
    "import pandas as pd\n",
    "idx = pd.IndexSlice\n",
    "\n",
    "import get\n",
    "import load\n",
    "import aliases\n",
    "import analysis\n",
    "import aggregate\n",
    "import diagnostics\n",
    "\n",
    "from everest import window"
   ]
  },
  {
   "cell_type": "code",
   "execution_count": null,
   "id": "4437de0c-8bf2-4233-a331-38aaeb38a07c",
   "metadata": {},
   "outputs": [],
   "source": [
    "from glob import glob\n",
    "import os\n",
    "\n",
    "filepaths = sorted(glob(os.path.join(aliases.datadir, 'fb', '78*', '*.csv')))\n",
    "data = [os.path.getsize(path) for path in filepaths]\n",
    "canvas = window.Canvas(size = (12, 3))\n",
    "ax = canvas.make_ax()\n",
    "ax.line(\n",
    "    range(len(data)),\n",
    "    data,\n",
    "    )\n",
    "canvas"
   ]
  },
  {
   "cell_type": "code",
   "execution_count": null,
   "id": "a02260e8-678d-4dd8-ab62-460f6b082c26",
   "metadata": {},
   "outputs": [],
   "source": [
    "display(diagnostics.plot_unique_quads('mel'))"
   ]
  },
  {
   "cell_type": "code",
   "execution_count": null,
   "id": "d43af92f-b541-4017-a85b-338a0dc821ef",
   "metadata": {},
   "outputs": [],
   "source": [
    "# for reg in ('vic', 'mel', 'nsw', 'syd'):\n",
    "for reg in ('mel', 'syd'):\n",
    "    display(diagnostics.plot_unique_quads(reg))"
   ]
  },
  {
   "cell_type": "code",
   "execution_count": null,
   "id": "cdf27c2e-5237-4814-99e7-c9014d621f36",
   "metadata": {},
   "outputs": [],
   "source": [
    "# for reg in ('vic', 'mel', 'nsw', 'syd'):\n",
    "for reg in ('vic', 'nsw'):\n",
    "    display(diagnostics.plot_unique_quads(reg))"
   ]
  },
  {
   "cell_type": "code",
   "execution_count": null,
   "id": "1f13f040-625e-40b0-97d5-8742f2d4ef55",
   "metadata": {},
   "outputs": [],
   "source": [
    "for plot in diagnostics.show_quad_coverage('mel', 'sa4', '2021-04-01'):\n",
    "    display(plot)"
   ]
  },
  {
   "cell_type": "code",
   "execution_count": null,
   "id": "9568175a-f98f-4fda-af57-2bb8c15cb001",
   "metadata": {},
   "outputs": [],
   "source": [
    "for plot in diagnostics.show_quad_coverage('syd', 'sa4', '2021-03-30'):\n",
    "    display(plot)"
   ]
  },
  {
   "cell_type": "code",
   "execution_count": null,
   "id": "87e4d115-acca-4b46-9307-13974459174a",
   "metadata": {},
   "outputs": [],
   "source": [
    "for plot in diagnostics.show_quad_coverage('syd', 'sa4', '2021-04-01'):\n",
    "    display(plot)"
   ]
  },
  {
   "cell_type": "code",
   "execution_count": null,
   "id": "3130cc66-2ea8-4298-8062-9e74e482e066",
   "metadata": {},
   "outputs": [],
   "source": [
    "for plot in diagnostics.show_quad_coverage('mel', 'sa4', '2021-03-30'):\n",
    "    display(plot)"
   ]
  },
  {
   "cell_type": "code",
   "execution_count": null,
   "id": "6aa61f44-6520-4b71-88d0-d2bea5a15f20",
   "metadata": {},
   "outputs": [],
   "source": [
    "for plot in diagnostics.show_quad_coverage('mel', 'sa4', '2021-04-01'):\n",
    "    display(plot)"
   ]
  },
  {
   "cell_type": "code",
   "execution_count": null,
   "id": "43533ebd-e19b-4ac9-9a45-5e5678684766",
   "metadata": {},
   "outputs": [],
   "source": [
    "for plot in diagnostics.show_quad_coverage('nsw', 'sa4', '2021-04-01'):\n",
    "    display(plot)"
   ]
  },
  {
   "cell_type": "code",
   "execution_count": null,
   "id": "a92cfd82-7988-4de7-b134-c3884804b8d8",
   "metadata": {},
   "outputs": [],
   "source": [
    "from functools import partial\n",
    "\n",
    "import pandas as pd\n",
    "idx = pd.IndexSlice\n",
    "\n",
    "import get\n",
    "import load\n",
    "\n",
    "import aliases\n",
    "import analysis\n",
    "\n",
    "from everest import window\n",
    "\n",
    "\n",
    "frm = get.get_aggregated_data('syd', aggtype = 'sa4')\n",
    "metro = load.load_sa(4, 'syd')\n",
    "frm = frm.loc[idx[:], metro.index]\n",
    "# frm = frm.loc['2021-01-01':]\n",
    "\n",
    "mobprops = analysis.mobile_proportion(frm).dropna()\n",
    "scores = mobprops.groupby(level = 'start') \\\n",
    "    .apply(partial(analysis.calculate_day_scores, n = 8)) \\\n",
    "    .dropna()\n",
    "\n",
    "canvas = window.Canvas(size = (12, 4))\n",
    "ax = canvas.make_ax()\n",
    "linenames = []\n",
    "for start, series in scores.groupby(level = 'start'):\n",
    "    name = metro.loc[start]['name']\n",
    "    if not 'Inner' in name:\n",
    "        continue\n",
    "    linenames.append(name.split(' - ')[-1])\n",
    "    ax.line(\n",
    "        series.index.get_level_values('date'),\n",
    "        window.DataChannel(series.values, lims = (-2, 2), capped = (True, True)),\n",
    "        )\n",
    "# ax.props.legend.set_handles_labels([row[0] for row in ax.collections], linenames)\n",
    "# ax.props.legend.mplprops['bbox_to_anchor'] = (0.9, 0.5)\n",
    "# ax.props.legend.frame.visible = True\n",
    "canvas"
   ]
  },
  {
   "cell_type": "code",
   "execution_count": null,
   "id": "fa7fefa4-b308-4067-8e25-7d9dc0155744",
   "metadata": {},
   "outputs": [],
   "source": []
  }
 ],
 "metadata": {
  "kernelspec": {
   "display_name": "Python 3",
   "language": "python",
   "name": "python3"
  },
  "language_info": {
   "codemirror_mode": {
    "name": "ipython",
    "version": 3
   },
   "file_extension": ".py",
   "mimetype": "text/x-python",
   "name": "python",
   "nbconvert_exporter": "python",
   "pygments_lexer": "ipython3",
   "version": "3.9.5"
  }
 },
 "nbformat": 4,
 "nbformat_minor": 5
}
