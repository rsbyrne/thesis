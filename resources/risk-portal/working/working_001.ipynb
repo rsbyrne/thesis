{
 "cells": [
  {
   "cell_type": "code",
   "execution_count": null,
   "id": "5f80142c-daf6-4bb8-adea-3ef3318380a5",
   "metadata": {},
   "outputs": [],
   "source": [
    "import recipes"
   ]
  },
  {
   "cell_type": "code",
   "execution_count": null,
   "id": "6bb5fdb4-89e1-4a3e-93b1-b8ec43f7fe9f",
   "metadata": {},
   "outputs": [],
   "source": [
    "canvas = recipes.melsummary_plot()"
   ]
  },
  {
   "cell_type": "code",
   "execution_count": null,
   "id": "ccd9b637-3b21-4b87-8875-dc62e91e8ecf",
   "metadata": {},
   "outputs": [],
   "source": [
    "canvas"
   ]
  },
  {
   "cell_type": "code",
   "execution_count": null,
   "id": "476c4a78-621d-43a5-9627-f33716711d12",
   "metadata": {},
   "outputs": [],
   "source": []
  }
 ],
 "metadata": {
  "kernelspec": {
   "display_name": "Python 3",
   "language": "python",
   "name": "python3"
  },
  "language_info": {
   "codemirror_mode": {
    "name": "ipython",
    "version": 3
   },
   "file_extension": ".py",
   "mimetype": "text/x-python",
   "name": "python",
   "nbconvert_exporter": "python",
   "pygments_lexer": "ipython3",
   "version": "3.9.5"
  }
 },
 "nbformat": 4,
 "nbformat_minor": 5
}
