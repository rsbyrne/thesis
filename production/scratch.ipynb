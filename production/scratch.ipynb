{
 "cells": [
  {
   "cell_type": "code",
   "execution_count": 54,
   "id": "7de11d94-daf2-40c2-9b4e-345de6f08d77",
   "metadata": {},
   "outputs": [],
   "source": [
    "from datetime import datetime\n",
    "import numpy as np"
   ]
  },
  {
   "cell_type": "code",
   "execution_count": 85,
   "id": "8e700317-4640-4199-85b5-342ec1df7155",
   "metadata": {},
   "outputs": [
    {
     "data": {
      "text/plain": [
       "363"
      ]
     },
     "execution_count": 85,
     "metadata": {},
     "output_type": "execute_result"
    }
   ],
   "source": [
    "3*11*11"
   ]
  },
  {
   "cell_type": "code",
   "execution_count": 79,
   "id": "773e66b1-d3be-4b4e-92ca-b9abcb5ec8b0",
   "metadata": {},
   "outputs": [
    {
     "data": {
      "text/plain": [
       "array([1., 2., 3., 4., 5.])"
      ]
     },
     "execution_count": 79,
     "metadata": {},
     "output_type": "execute_result"
    }
   ],
   "source": [
    "np.arange(1, 6).astype(float)"
   ]
  },
  {
   "cell_type": "code",
   "execution_count": 75,
   "id": "1dcf7871-e378-4b70-80e3-f37b0cb0e3cf",
   "metadata": {},
   "outputs": [
    {
     "data": {
      "text/plain": [
       "array([0.        , 0.02040816, 0.04081633, 0.06122449, 0.08163265,\n",
       "       0.10204082, 0.12244898, 0.14285714, 0.16326531, 0.18367347,\n",
       "       0.20408163, 0.2244898 , 0.24489796, 0.26530612, 0.28571429,\n",
       "       0.30612245, 0.32653061, 0.34693878, 0.36734694, 0.3877551 ,\n",
       "       0.40816327, 0.42857143, 0.44897959, 0.46938776, 0.48979592,\n",
       "       0.51020408, 0.53061224, 0.55102041, 0.57142857, 0.59183673,\n",
       "       0.6122449 , 0.63265306, 0.65306122, 0.67346939, 0.69387755,\n",
       "       0.71428571, 0.73469388, 0.75510204, 0.7755102 , 0.79591837,\n",
       "       0.81632653, 0.83673469, 0.85714286, 0.87755102, 0.89795918,\n",
       "       0.91836735, 0.93877551, 0.95918367, 0.97959184, 1.        ])"
      ]
     },
     "execution_count": 75,
     "metadata": {},
     "output_type": "execute_result"
    }
   ],
   "source": [
    "np.linspace(0., 1.)"
   ]
  },
  {
   "cell_type": "code",
   "execution_count": 74,
   "id": "e41e2034-f9b3-4a7d-a998-796d4be0d41f",
   "metadata": {},
   "outputs": [
    {
     "data": {
      "text/plain": [
       "array([1, 2, 3, 4, 5])"
      ]
     },
     "execution_count": 74,
     "metadata": {},
     "output_type": "execute_result"
    }
   ],
   "source": [
    "np.arange(1, 6)"
   ]
  },
  {
   "cell_type": "code",
   "execution_count": 71,
   "id": "0dfa32bc-475e-45cd-ac33-7f6433b94f9c",
   "metadata": {},
   "outputs": [
    {
     "data": {
      "text/plain": [
       "818004.282"
      ]
     },
     "execution_count": 71,
     "metadata": {},
     "output_type": "execute_result"
    }
   ],
   "source": [
    "seed = 0\n",
    "iteration = 5\n",
    "rand = np.random.default_rng(seed).random(1_000_000)[iteration]\n",
    "tauRef = np.round(10**(5 + rand), 3)\n",
    "tauRef"
   ]
  },
  {
   "cell_type": "code",
   "execution_count": 68,
   "id": "45cc33e6-c5d3-437a-9ea1-d8e8ec212a33",
   "metadata": {},
   "outputs": [
    {
     "data": {
      "text/plain": [
       "(array([  0,   1,   2,   3,   4,   5,   6,   7,   8,   9,  10,  11,  12,\n",
       "         13,  14,  15,  16,  17,  18,  19,  20,  21,  22,  23,  24,  25,\n",
       "         26,  27,  28,  29,  30,  31,  32,  33,  34,  35,  36,  37,  38,\n",
       "         39,  40,  41,  42,  43,  44,  45,  46,  47,  48,  49,  50,  51,\n",
       "         52,  53,  54,  55,  56,  57,  58,  59,  60,  61,  62,  63,  64,\n",
       "         65,  66,  67,  68,  69,  70,  71,  72,  73,  74,  75,  76,  77,\n",
       "         78,  79,  80,  81,  82,  83,  84,  85,  86,  87,  88,  89,  90,\n",
       "         91,  92,  93,  94,  95,  96,  97,  98,  99, 100, 101, 102, 103,\n",
       "        104, 105, 106, 107, 108, 109, 110, 111, 112, 113, 114, 115, 116,\n",
       "        117, 118, 119, 120, 121, 122, 123, 124, 125, 126, 127, 128, 129,\n",
       "        130, 131, 132, 133, 134, 135, 136, 137, 138, 139, 140, 141, 142,\n",
       "        143, 144, 145, 146, 147, 148, 149, 150, 151, 152, 153, 154, 155,\n",
       "        156, 157, 158, 159, 160, 161, 162, 163, 164, 165, 166, 167, 168,\n",
       "        169, 170, 171, 172, 173, 174, 175, 176, 177, 178, 179, 180, 181,\n",
       "        182, 183, 184, 185, 186, 187, 188, 189, 190, 191, 192, 193, 194,\n",
       "        195, 196, 197, 198, 199, 200, 201, 202, 203, 204, 205, 206, 207,\n",
       "        208, 209, 210, 211, 212, 213, 214, 215, 216, 217, 218, 219, 220,\n",
       "        221, 222, 223, 224, 225, 226, 227, 228, 229, 230, 231, 232, 233,\n",
       "        234, 235, 236, 237, 238, 239, 240, 241, 242, 243, 244, 245, 246,\n",
       "        247, 248, 249, 250, 251, 252, 253, 254, 255, 256, 257, 258, 259,\n",
       "        260, 261, 262, 263, 264, 265, 266, 267, 268, 269, 270, 271, 272,\n",
       "        273, 274, 275, 276, 277, 278, 279, 280, 281, 282, 283, 284, 285,\n",
       "        286, 287, 288, 289, 290, 291, 292, 293, 294, 295, 296, 297, 298,\n",
       "        299, 300, 301, 302, 303, 304, 305, 306, 307, 308, 309, 310, 311,\n",
       "        312, 313, 314, 315, 316, 317, 318, 319, 320, 321, 322, 323, 324,\n",
       "        325, 326, 327, 328, 329, 330, 331, 332, 333, 334, 335, 336, 337,\n",
       "        338, 339, 340, 341, 342, 343, 344, 345, 346, 347, 348, 349, 350,\n",
       "        351, 352, 353, 354, 355, 356, 357, 358, 359, 360, 361, 362, 363,\n",
       "        364, 365, 366, 367, 368, 369, 370, 371, 372, 373, 374, 375, 376,\n",
       "        377, 378, 379, 380, 381, 382, 383, 384, 385, 386, 387, 388, 389,\n",
       "        390, 391, 392, 393, 394, 395, 396, 397, 398, 399, 400, 401, 402,\n",
       "        403, 404, 405, 406, 407, 408, 409, 410, 411, 412, 413, 414, 415,\n",
       "        416, 417, 418, 419, 420, 421, 422, 423, 424, 425, 426, 427, 428,\n",
       "        429, 430, 431, 432, 433, 434, 435, 436, 437, 438, 439, 440, 441,\n",
       "        442, 443, 444, 445, 446, 447, 448, 449, 450, 451, 452, 453, 454,\n",
       "        455, 456, 457, 458, 459, 460, 461, 462, 463, 464, 465, 466, 467,\n",
       "        468, 469, 470, 471, 472, 473, 474, 475, 476, 477, 478, 479, 480,\n",
       "        481, 482, 483, 484, 485, 486, 487, 488, 489, 490, 491, 492, 493,\n",
       "        494, 495, 496, 497, 498, 499, 500, 501, 502, 503, 504, 505, 506,\n",
       "        507, 508, 509, 510, 511, 512, 513, 514, 515, 516, 517, 518, 519,\n",
       "        520, 521, 522, 523, 524, 525, 526, 527, 528, 529, 530, 531, 532,\n",
       "        533, 534, 535, 536, 537, 538, 539, 540, 541, 542, 543, 544, 545,\n",
       "        546, 547, 548, 549, 550, 551, 552, 553, 554, 555, 556, 557, 558,\n",
       "        559, 560, 561, 562, 563, 564, 565, 566, 567, 568, 569, 570, 571,\n",
       "        572, 573, 574, 575, 576, 577, 578, 579, 580, 581, 582, 583, 584,\n",
       "        585, 586, 587, 588, 589, 590, 591, 592, 593, 594, 595, 596, 597,\n",
       "        598, 599, 600, 601, 602, 603, 604, 605, 606, 607, 608, 609, 610,\n",
       "        611, 612, 613, 614, 615, 616, 617, 618, 619, 620, 621, 622, 623,\n",
       "        624, 625, 626, 627, 628, 629, 630, 631, 632, 633, 634, 635, 636,\n",
       "        637, 638, 639, 640, 641, 642, 643, 644, 645, 646, 647, 648, 649,\n",
       "        650, 651, 652, 653, 654, 655, 656, 657, 658, 659, 660, 661, 662,\n",
       "        663, 664, 665, 666, 667, 668, 669, 670, 671, 672, 673, 674, 675,\n",
       "        676, 677, 678, 679, 680, 681, 682, 683, 684, 685, 686, 687, 688,\n",
       "        689, 690, 691, 692, 693, 694, 695, 696, 697, 698, 699, 700, 701,\n",
       "        702, 703, 704, 705, 706, 707, 708, 709, 710, 711, 712, 713, 714,\n",
       "        715, 716, 717, 718, 719, 720, 721, 722, 723, 724, 725, 726, 727,\n",
       "        728, 729, 730, 731, 732, 733, 734, 735, 736, 737, 738, 739, 740,\n",
       "        741, 742, 743, 744, 745, 746, 747, 748, 749, 750, 751, 752, 753,\n",
       "        754, 755, 756, 757, 758, 759, 760, 761, 762, 763, 764, 765, 766,\n",
       "        767, 768, 769, 770, 771, 772, 773, 774, 775, 776, 777, 778, 779,\n",
       "        780, 781, 782, 783, 784, 785, 786, 787, 788, 789, 790, 791, 792,\n",
       "        793, 794, 795, 796, 797, 798, 799, 800, 801, 802, 803, 804, 805,\n",
       "        806, 807, 808, 809, 810, 811, 812, 813, 814, 815, 816, 817, 818,\n",
       "        819, 820, 821, 822, 823, 824, 825, 826, 827, 828, 829, 830, 831,\n",
       "        832, 833, 834, 835, 836, 837, 838, 839, 840, 841, 842, 843, 844,\n",
       "        845, 846, 847, 848, 849, 850, 851, 852, 853, 854, 855, 856, 857,\n",
       "        858, 859, 860, 861, 862, 863, 864, 865, 866, 867, 868, 869, 870,\n",
       "        871, 872, 873, 874, 875, 876, 877, 878, 879, 880, 881, 882, 883,\n",
       "        884, 885, 886, 887, 888, 889, 890, 891, 892, 893, 894, 895, 896,\n",
       "        897, 898, 899, 900, 901, 902, 903, 904, 905, 906, 907, 908, 909,\n",
       "        910, 911, 912, 913, 914, 915, 916, 917, 918, 919, 920, 921, 922,\n",
       "        923, 924, 925, 926, 927, 928, 929, 930, 931, 932, 933, 934, 935,\n",
       "        936, 937, 938, 939, 940, 941, 942, 943, 944, 945, 946, 947, 948,\n",
       "        949, 950, 951, 952, 953, 954, 955, 956, 957, 958, 959, 960, 961,\n",
       "        962, 963, 964, 965, 966, 967, 968, 969, 970, 971, 972, 973, 974,\n",
       "        975, 976, 977, 978, 979, 980, 981, 982, 983, 984, 985, 986, 987,\n",
       "        988, 989, 990, 991, 992, 993, 994, 995, 996, 997, 998, 999]),\n",
       " array([     0,      1,      2, ..., 999997, 999998, 999999]),\n",
       " array([1.  , 0.95, 0.9 , 0.85, 0.8 , 0.75, 0.7 , 0.65, 0.6 , 0.55, 0.5 ]),\n",
       " array([1.   , 1.072, 1.149, 1.231, 1.32 , 1.414, 1.516, 1.625, 1.741,\n",
       "        1.866, 2.   ]),\n",
       " array([0, 1, 2, 3, 4]))"
      ]
     },
     "execution_count": 68,
     "metadata": {},
     "output_type": "execute_result"
    }
   ],
   "source": [
    "dims = (\n",
    "    np.arange(0, 1000), # seed\n",
    "    np.arange(0, 1_000_000), # iteration\n",
    "    np.round(np.linspace(1., 0.5, 11), 3), # f\n",
    "    np.round(2. ** np.linspace(0, 1, 11), 3), # aspect\n",
    "    np.arange(5), # freq\n",
    "    )\n",
    "\n",
    "dims"
   ]
  },
  {
   "cell_type": "code",
   "execution_count": 53,
   "id": "3a813f56-6274-4a61-bb24-e1691726007d",
   "metadata": {},
   "outputs": [
    {
     "data": {
      "text/plain": [
       "'week_05'"
      ]
     },
     "execution_count": 53,
     "metadata": {},
     "output_type": "execute_result"
    }
   ],
   "source": [
    "\"week_\" + str(datetime.today().isocalendar()[1]).zfill(2)"
   ]
  },
  {
   "cell_type": "code",
   "execution_count": 48,
   "id": "3ca604ed-eaf3-4a1d-86f4-f87aa7abe26d",
   "metadata": {},
   "outputs": [
    {
     "data": {
      "text/plain": [
       "'2025-01-29'"
      ]
     },
     "execution_count": 48,
     "metadata": {},
     "output_type": "execute_result"
    }
   ],
   "source": [
    "today.strftime('%Y-%m-%d')"
   ]
  },
  {
   "cell_type": "code",
   "execution_count": 14,
   "id": "a1c90f5b-1e7d-4487-987c-d2a0fd2d0f7d",
   "metadata": {},
   "outputs": [],
   "source": [
    "import numpy as np\n",
    "import itertools"
   ]
  },
  {
   "cell_type": "code",
   "execution_count": 83,
   "id": "1c6ef563-1a91-4284-8d9a-03d28a0dd801",
   "metadata": {},
   "outputs": [
    {
     "data": {
      "text/plain": [
       "array([433472.637, 186117.287, 109893.884, 103878.97 , 650534.359,\n",
       "       818004.282, 404236.733, 536409.624, 349643.124, 861137.345])"
      ]
     },
     "execution_count": 83,
     "metadata": {},
     "output_type": "execute_result"
    }
   ],
   "source": [
    "rng = np.random.default_rng(0)\n",
    "tauRef = np.round(10**(5 + rng.random(10)), 3)\n",
    "tauRef"
   ]
  },
  {
   "cell_type": "code",
   "execution_count": 24,
   "id": "392db306-61c5-433c-8401-19046502f901",
   "metadata": {},
   "outputs": [],
   "source": [
    "dims = (\n",
    "    np.round(10**(5 + rng.random(10))), # tauRef\n",
    "    np.round(np.linspace(1., 0.5, 11), 3), # f\n",
    "#     np.round(2. ** np.linspace(0, 1, 11), 3), # aspect\n",
    "    )"
   ]
  },
  {
   "cell_type": "code",
   "execution_count": 25,
   "id": "90acb741-b0c7-480f-8a42-2082d1fc4526",
   "metadata": {},
   "outputs": [],
   "source": [
    "combos = np.array(list(itertools.product(*dims))).reshape(\n",
    "    *(len(dim) for dim in dims), len(dims)\n",
    "    )"
   ]
  },
  {
   "cell_type": "code",
   "execution_count": 35,
   "id": "b2bbbfc0-499a-4e02-b32d-838451cabe7f",
   "metadata": {},
   "outputs": [
    {
     "data": {
      "text/plain": [
       "slice(None, None, 3)"
      ]
     },
     "execution_count": 35,
     "metadata": {},
     "output_type": "execute_result"
    }
   ],
   "source": [
    "def proc_arg(astr):\n",
    "    astr = astr.strip()\n",
    "    if astr[0] == '[' and astr[-1] == ']':\n",
    "        return list(proc_arg(st) for st in astr[1:-1].split(','))\n",
    "    if astr[0] == '(' and astr[-1] == ')':\n",
    "        return list(proc_arg(st) for st in astr[1:-1].split(','))\n",
    "    els = astr.split(':')\n",
    "    els = tuple(\n",
    "        None if (el == 'None' or el == '')\n",
    "        else int(el)\n",
    "        for el in els\n",
    "        )\n",
    "    nels = len(els)\n",
    "    if nels == 1:\n",
    "        return els[0]\n",
    "    return slice(*els)\n",
    "\n",
    "proc_arg('::3')"
   ]
  },
  {
   "cell_type": "code",
   "execution_count": 32,
   "id": "b2ab4004-2769-4c36-be7c-b5ecbb7f7dd3",
   "metadata": {},
   "outputs": [
    {
     "data": {
      "text/plain": [
       "[(1, 10, 100),\n",
       " (1, 10, 200),\n",
       " (1, 10, 300),\n",
       " (1, 20, 100),\n",
       " (1, 20, 200),\n",
       " (1, 20, 300),\n",
       " (1, 30, 100),\n",
       " (1, 30, 200),\n",
       " (1, 30, 300),\n",
       " (2, 10, 100),\n",
       " (2, 10, 200),\n",
       " (2, 10, 300),\n",
       " (2, 20, 100),\n",
       " (2, 20, 200),\n",
       " (2, 20, 300),\n",
       " (2, 30, 100),\n",
       " (2, 30, 200),\n",
       " (2, 30, 300),\n",
       " (3, 10, 100),\n",
       " (3, 10, 200),\n",
       " (3, 10, 300),\n",
       " (3, 20, 100),\n",
       " (3, 20, 200),\n",
       " (3, 20, 300),\n",
       " (3, 30, 100),\n",
       " (3, 30, 200),\n",
       " (3, 30, 300)]"
      ]
     },
     "execution_count": 32,
     "metadata": {},
     "output_type": "execute_result"
    }
   ],
   "source": [
    "list(itertools.product(\n",
    "    (1, 2, 3),\n",
    "    (10, 20, 30),\n",
    "    (100, 200, 300),\n",
    "    ))"
   ]
  },
  {
   "cell_type": "code",
   "execution_count": 30,
   "id": "86274a2e-f5b0-4618-a629-689c72596800",
   "metadata": {},
   "outputs": [
    {
     "data": {
      "text/plain": [
       "(10, 11, 2)"
      ]
     },
     "execution_count": 30,
     "metadata": {},
     "output_type": "execute_result"
    }
   ],
   "source": [
    "combos.shape"
   ]
  },
  {
   "cell_type": "code",
   "execution_count": 26,
   "id": "291af1ec-7254-4321-812a-e46ee30b5efb",
   "metadata": {},
   "outputs": [],
   "source": [
    "from matplotlib import pyplot as plt"
   ]
  },
  {
   "cell_type": "code",
   "execution_count": 27,
   "id": "c236c799-850e-4c04-a2b0-0493d4fc1711",
   "metadata": {},
   "outputs": [
    {
     "ename": "ValueError",
     "evalue": "x and y can be no greater than 2D, but have shapes (10,) and (10, 11, 2)",
     "output_type": "error",
     "traceback": [
      "\u001b[0;31m---------------------------------------------------------------------------\u001b[0m",
      "\u001b[0;31mValueError\u001b[0m                                Traceback (most recent call last)",
      "\u001b[0;32m<ipython-input-27-39dcb48d61c2>\u001b[0m in \u001b[0;36m<module>\u001b[0;34m\u001b[0m\n\u001b[0;32m----> 1\u001b[0;31m \u001b[0mplt\u001b[0m\u001b[0;34m.\u001b[0m\u001b[0mplot\u001b[0m\u001b[0;34m(\u001b[0m\u001b[0mcombos\u001b[0m\u001b[0;34m)\u001b[0m\u001b[0;34m\u001b[0m\u001b[0;34m\u001b[0m\u001b[0m\n\u001b[0m",
      "\u001b[0;32m/usr/local/lib/python3.9/dist-packages/matplotlib/pyplot.py\u001b[0m in \u001b[0;36mplot\u001b[0;34m(scalex, scaley, data, *args, **kwargs)\u001b[0m\n\u001b[1;32m   3017\u001b[0m \u001b[0;34m@\u001b[0m\u001b[0m_copy_docstring_and_deprecators\u001b[0m\u001b[0;34m(\u001b[0m\u001b[0mAxes\u001b[0m\u001b[0;34m.\u001b[0m\u001b[0mplot\u001b[0m\u001b[0;34m)\u001b[0m\u001b[0;34m\u001b[0m\u001b[0;34m\u001b[0m\u001b[0m\n\u001b[1;32m   3018\u001b[0m \u001b[0;32mdef\u001b[0m \u001b[0mplot\u001b[0m\u001b[0;34m(\u001b[0m\u001b[0;34m*\u001b[0m\u001b[0margs\u001b[0m\u001b[0;34m,\u001b[0m \u001b[0mscalex\u001b[0m\u001b[0;34m=\u001b[0m\u001b[0;32mTrue\u001b[0m\u001b[0;34m,\u001b[0m \u001b[0mscaley\u001b[0m\u001b[0;34m=\u001b[0m\u001b[0;32mTrue\u001b[0m\u001b[0;34m,\u001b[0m \u001b[0mdata\u001b[0m\u001b[0;34m=\u001b[0m\u001b[0;32mNone\u001b[0m\u001b[0;34m,\u001b[0m \u001b[0;34m**\u001b[0m\u001b[0mkwargs\u001b[0m\u001b[0;34m)\u001b[0m\u001b[0;34m:\u001b[0m\u001b[0;34m\u001b[0m\u001b[0;34m\u001b[0m\u001b[0m\n\u001b[0;32m-> 3019\u001b[0;31m     return gca().plot(\n\u001b[0m\u001b[1;32m   3020\u001b[0m         \u001b[0;34m*\u001b[0m\u001b[0margs\u001b[0m\u001b[0;34m,\u001b[0m \u001b[0mscalex\u001b[0m\u001b[0;34m=\u001b[0m\u001b[0mscalex\u001b[0m\u001b[0;34m,\u001b[0m \u001b[0mscaley\u001b[0m\u001b[0;34m=\u001b[0m\u001b[0mscaley\u001b[0m\u001b[0;34m,\u001b[0m\u001b[0;34m\u001b[0m\u001b[0;34m\u001b[0m\u001b[0m\n\u001b[1;32m   3021\u001b[0m         **({\"data\": data} if data is not None else {}), **kwargs)\n",
      "\u001b[0;32m/usr/local/lib/python3.9/dist-packages/matplotlib/axes/_axes.py\u001b[0m in \u001b[0;36mplot\u001b[0;34m(self, scalex, scaley, data, *args, **kwargs)\u001b[0m\n\u001b[1;32m   1603\u001b[0m         \"\"\"\n\u001b[1;32m   1604\u001b[0m         \u001b[0mkwargs\u001b[0m \u001b[0;34m=\u001b[0m \u001b[0mcbook\u001b[0m\u001b[0;34m.\u001b[0m\u001b[0mnormalize_kwargs\u001b[0m\u001b[0;34m(\u001b[0m\u001b[0mkwargs\u001b[0m\u001b[0;34m,\u001b[0m \u001b[0mmlines\u001b[0m\u001b[0;34m.\u001b[0m\u001b[0mLine2D\u001b[0m\u001b[0;34m)\u001b[0m\u001b[0;34m\u001b[0m\u001b[0;34m\u001b[0m\u001b[0m\n\u001b[0;32m-> 1605\u001b[0;31m         \u001b[0mlines\u001b[0m \u001b[0;34m=\u001b[0m \u001b[0;34m[\u001b[0m\u001b[0;34m*\u001b[0m\u001b[0mself\u001b[0m\u001b[0;34m.\u001b[0m\u001b[0m_get_lines\u001b[0m\u001b[0;34m(\u001b[0m\u001b[0;34m*\u001b[0m\u001b[0margs\u001b[0m\u001b[0;34m,\u001b[0m \u001b[0mdata\u001b[0m\u001b[0;34m=\u001b[0m\u001b[0mdata\u001b[0m\u001b[0;34m,\u001b[0m \u001b[0;34m**\u001b[0m\u001b[0mkwargs\u001b[0m\u001b[0;34m)\u001b[0m\u001b[0;34m]\u001b[0m\u001b[0;34m\u001b[0m\u001b[0;34m\u001b[0m\u001b[0m\n\u001b[0m\u001b[1;32m   1606\u001b[0m         \u001b[0;32mfor\u001b[0m \u001b[0mline\u001b[0m \u001b[0;32min\u001b[0m \u001b[0mlines\u001b[0m\u001b[0;34m:\u001b[0m\u001b[0;34m\u001b[0m\u001b[0;34m\u001b[0m\u001b[0m\n\u001b[1;32m   1607\u001b[0m             \u001b[0mself\u001b[0m\u001b[0;34m.\u001b[0m\u001b[0madd_line\u001b[0m\u001b[0;34m(\u001b[0m\u001b[0mline\u001b[0m\u001b[0;34m)\u001b[0m\u001b[0;34m\u001b[0m\u001b[0;34m\u001b[0m\u001b[0m\n",
      "\u001b[0;32m/usr/local/lib/python3.9/dist-packages/matplotlib/axes/_base.py\u001b[0m in \u001b[0;36m__call__\u001b[0;34m(self, data, *args, **kwargs)\u001b[0m\n\u001b[1;32m    313\u001b[0m                 \u001b[0mthis\u001b[0m \u001b[0;34m+=\u001b[0m \u001b[0margs\u001b[0m\u001b[0;34m[\u001b[0m\u001b[0;36m0\u001b[0m\u001b[0;34m]\u001b[0m\u001b[0;34m,\u001b[0m\u001b[0;34m\u001b[0m\u001b[0;34m\u001b[0m\u001b[0m\n\u001b[1;32m    314\u001b[0m                 \u001b[0margs\u001b[0m \u001b[0;34m=\u001b[0m \u001b[0margs\u001b[0m\u001b[0;34m[\u001b[0m\u001b[0;36m1\u001b[0m\u001b[0;34m:\u001b[0m\u001b[0;34m]\u001b[0m\u001b[0;34m\u001b[0m\u001b[0;34m\u001b[0m\u001b[0m\n\u001b[0;32m--> 315\u001b[0;31m             \u001b[0;32myield\u001b[0m \u001b[0;32mfrom\u001b[0m \u001b[0mself\u001b[0m\u001b[0;34m.\u001b[0m\u001b[0m_plot_args\u001b[0m\u001b[0;34m(\u001b[0m\u001b[0mthis\u001b[0m\u001b[0;34m,\u001b[0m \u001b[0mkwargs\u001b[0m\u001b[0;34m)\u001b[0m\u001b[0;34m\u001b[0m\u001b[0;34m\u001b[0m\u001b[0m\n\u001b[0m\u001b[1;32m    316\u001b[0m \u001b[0;34m\u001b[0m\u001b[0m\n\u001b[1;32m    317\u001b[0m     \u001b[0;32mdef\u001b[0m \u001b[0mget_next_color\u001b[0m\u001b[0;34m(\u001b[0m\u001b[0mself\u001b[0m\u001b[0;34m)\u001b[0m\u001b[0;34m:\u001b[0m\u001b[0;34m\u001b[0m\u001b[0;34m\u001b[0m\u001b[0m\n",
      "\u001b[0;32m/usr/local/lib/python3.9/dist-packages/matplotlib/axes/_base.py\u001b[0m in \u001b[0;36m_plot_args\u001b[0;34m(self, tup, kwargs, return_kwargs)\u001b[0m\n\u001b[1;32m    502\u001b[0m                              f\"have shapes {x.shape} and {y.shape}\")\n\u001b[1;32m    503\u001b[0m         \u001b[0;32mif\u001b[0m \u001b[0mx\u001b[0m\u001b[0;34m.\u001b[0m\u001b[0mndim\u001b[0m \u001b[0;34m>\u001b[0m \u001b[0;36m2\u001b[0m \u001b[0;32mor\u001b[0m \u001b[0my\u001b[0m\u001b[0;34m.\u001b[0m\u001b[0mndim\u001b[0m \u001b[0;34m>\u001b[0m \u001b[0;36m2\u001b[0m\u001b[0;34m:\u001b[0m\u001b[0;34m\u001b[0m\u001b[0;34m\u001b[0m\u001b[0m\n\u001b[0;32m--> 504\u001b[0;31m             raise ValueError(f\"x and y can be no greater than 2D, but have \"\n\u001b[0m\u001b[1;32m    505\u001b[0m                              f\"shapes {x.shape} and {y.shape}\")\n\u001b[1;32m    506\u001b[0m         \u001b[0;32mif\u001b[0m \u001b[0mx\u001b[0m\u001b[0;34m.\u001b[0m\u001b[0mndim\u001b[0m \u001b[0;34m==\u001b[0m \u001b[0;36m1\u001b[0m\u001b[0;34m:\u001b[0m\u001b[0;34m\u001b[0m\u001b[0;34m\u001b[0m\u001b[0m\n",
      "\u001b[0;31mValueError\u001b[0m: x and y can be no greater than 2D, but have shapes (10,) and (10, 11, 2)"
     ]
    },
    {
     "data": {
      "image/png": "[encoded data removed]",
      "text/plain": [
       "<Figure size 432x288 with 1 Axes>"
      ]
     },
     "metadata": {
      "needs_background": "light"
     },
     "output_type": "display_data"
    }
   ],
   "source": [
    "plt.plot(combos)"
   ]
  },
  {
   "cell_type": "code",
   "execution_count": 21,
   "id": "48ad263f-64a9-4a77-bcd6-6bf10f0da213",
   "metadata": {},
   "outputs": [
    {
     "data": {
      "text/plain": [
       "array([[[[7.88499e+05, 1.00000e+00, 1.00000e+00],\n",
       "         [7.88499e+05, 1.00000e+00, 1.07200e+00],\n",
       "         [7.88499e+05, 1.00000e+00, 1.14900e+00],\n",
       "         ...,\n",
       "         [7.88499e+05, 1.00000e+00, 1.74100e+00],\n",
       "         [7.88499e+05, 1.00000e+00, 1.86600e+00],\n",
       "         [7.88499e+05, 1.00000e+00, 2.00000e+00]],\n",
       "\n",
       "        [[7.88499e+05, 9.50000e-01, 1.00000e+00],\n",
       "         [7.88499e+05, 9.50000e-01, 1.07200e+00],\n",
       "         [7.88499e+05, 9.50000e-01, 1.14900e+00],\n",
       "         ...,\n",
       "         [7.88499e+05, 9.50000e-01, 1.74100e+00],\n",
       "         [7.88499e+05, 9.50000e-01, 1.86600e+00],\n",
       "         [7.88499e+05, 9.50000e-01, 2.00000e+00]],\n",
       "\n",
       "        [[7.88499e+05, 9.00000e-01, 1.00000e+00],\n",
       "         [7.88499e+05, 9.00000e-01, 1.07200e+00],\n",
       "         [7.88499e+05, 9.00000e-01, 1.14900e+00],\n",
       "         ...,\n",
       "         [7.88499e+05, 9.00000e-01, 1.74100e+00],\n",
       "         [7.88499e+05, 9.00000e-01, 1.86600e+00],\n",
       "         [7.88499e+05, 9.00000e-01, 2.00000e+00]],\n",
       "\n",
       "        ...,\n",
       "\n",
       "        [[7.88499e+05, 6.00000e-01, 1.00000e+00],\n",
       "         [7.88499e+05, 6.00000e-01, 1.07200e+00],\n",
       "         [7.88499e+05, 6.00000e-01, 1.14900e+00],\n",
       "         ...,\n",
       "         [7.88499e+05, 6.00000e-01, 1.74100e+00],\n",
       "         [7.88499e+05, 6.00000e-01, 1.86600e+00],\n",
       "         [7.88499e+05, 6.00000e-01, 2.00000e+00]],\n",
       "\n",
       "        [[7.88499e+05, 5.50000e-01, 1.00000e+00],\n",
       "         [7.88499e+05, 5.50000e-01, 1.07200e+00],\n",
       "         [7.88499e+05, 5.50000e-01, 1.14900e+00],\n",
       "         ...,\n",
       "         [7.88499e+05, 5.50000e-01, 1.74100e+00],\n",
       "         [7.88499e+05, 5.50000e-01, 1.86600e+00],\n",
       "         [7.88499e+05, 5.50000e-01, 2.00000e+00]],\n",
       "\n",
       "        [[7.88499e+05, 5.00000e-01, 1.00000e+00],\n",
       "         [7.88499e+05, 5.00000e-01, 1.07200e+00],\n",
       "         [7.88499e+05, 5.00000e-01, 1.14900e+00],\n",
       "         ...,\n",
       "         [7.88499e+05, 5.00000e-01, 1.74100e+00],\n",
       "         [7.88499e+05, 5.00000e-01, 1.86600e+00],\n",
       "         [7.88499e+05, 5.00000e-01, 2.00000e+00]]],\n",
       "\n",
       "\n",
       "       [[[3.83107e+05, 1.00000e+00, 1.00000e+00],\n",
       "         [3.83107e+05, 1.00000e+00, 1.07200e+00],\n",
       "         [3.83107e+05, 1.00000e+00, 1.14900e+00],\n",
       "         ...,\n",
       "         [3.83107e+05, 1.00000e+00, 1.74100e+00],\n",
       "         [3.83107e+05, 1.00000e+00, 1.86600e+00],\n",
       "         [3.83107e+05, 1.00000e+00, 2.00000e+00]],\n",
       "\n",
       "        [[3.83107e+05, 9.50000e-01, 1.00000e+00],\n",
       "         [3.83107e+05, 9.50000e-01, 1.07200e+00],\n",
       "         [3.83107e+05, 9.50000e-01, 1.14900e+00],\n",
       "         ...,\n",
       "         [3.83107e+05, 9.50000e-01, 1.74100e+00],\n",
       "         [3.83107e+05, 9.50000e-01, 1.86600e+00],\n",
       "         [3.83107e+05, 9.50000e-01, 2.00000e+00]],\n",
       "\n",
       "        [[3.83107e+05, 9.00000e-01, 1.00000e+00],\n",
       "         [3.83107e+05, 9.00000e-01, 1.07200e+00],\n",
       "         [3.83107e+05, 9.00000e-01, 1.14900e+00],\n",
       "         ...,\n",
       "         [3.83107e+05, 9.00000e-01, 1.74100e+00],\n",
       "         [3.83107e+05, 9.00000e-01, 1.86600e+00],\n",
       "         [3.83107e+05, 9.00000e-01, 2.00000e+00]],\n",
       "\n",
       "        ...,\n",
       "\n",
       "        [[3.83107e+05, 6.00000e-01, 1.00000e+00],\n",
       "         [3.83107e+05, 6.00000e-01, 1.07200e+00],\n",
       "         [3.83107e+05, 6.00000e-01, 1.14900e+00],\n",
       "         ...,\n",
       "         [3.83107e+05, 6.00000e-01, 1.74100e+00],\n",
       "         [3.83107e+05, 6.00000e-01, 1.86600e+00],\n",
       "         [3.83107e+05, 6.00000e-01, 2.00000e+00]],\n",
       "\n",
       "        [[3.83107e+05, 5.50000e-01, 1.00000e+00],\n",
       "         [3.83107e+05, 5.50000e-01, 1.07200e+00],\n",
       "         [3.83107e+05, 5.50000e-01, 1.14900e+00],\n",
       "         ...,\n",
       "         [3.83107e+05, 5.50000e-01, 1.74100e+00],\n",
       "         [3.83107e+05, 5.50000e-01, 1.86600e+00],\n",
       "         [3.83107e+05, 5.50000e-01, 2.00000e+00]],\n",
       "\n",
       "        [[3.83107e+05, 5.00000e-01, 1.00000e+00],\n",
       "         [3.83107e+05, 5.00000e-01, 1.07200e+00],\n",
       "         [3.83107e+05, 5.00000e-01, 1.14900e+00],\n",
       "         ...,\n",
       "         [3.83107e+05, 5.00000e-01, 1.74100e+00],\n",
       "         [3.83107e+05, 5.00000e-01, 1.86600e+00],\n",
       "         [3.83107e+05, 5.00000e-01, 2.00000e+00]]],\n",
       "\n",
       "\n",
       "       [[[1.09703e+05, 1.00000e+00, 1.00000e+00],\n",
       "         [1.09703e+05, 1.00000e+00, 1.07200e+00],\n",
       "         [1.09703e+05, 1.00000e+00, 1.14900e+00],\n",
       "         ...,\n",
       "         [1.09703e+05, 1.00000e+00, 1.74100e+00],\n",
       "         [1.09703e+05, 1.00000e+00, 1.86600e+00],\n",
       "         [1.09703e+05, 1.00000e+00, 2.00000e+00]],\n",
       "\n",
       "        [[1.09703e+05, 9.50000e-01, 1.00000e+00],\n",
       "         [1.09703e+05, 9.50000e-01, 1.07200e+00],\n",
       "         [1.09703e+05, 9.50000e-01, 1.14900e+00],\n",
       "         ...,\n",
       "         [1.09703e+05, 9.50000e-01, 1.74100e+00],\n",
       "         [1.09703e+05, 9.50000e-01, 1.86600e+00],\n",
       "         [1.09703e+05, 9.50000e-01, 2.00000e+00]],\n",
       "\n",
       "        [[1.09703e+05, 9.00000e-01, 1.00000e+00],\n",
       "         [1.09703e+05, 9.00000e-01, 1.07200e+00],\n",
       "         [1.09703e+05, 9.00000e-01, 1.14900e+00],\n",
       "         ...,\n",
       "         [1.09703e+05, 9.00000e-01, 1.74100e+00],\n",
       "         [1.09703e+05, 9.00000e-01, 1.86600e+00],\n",
       "         [1.09703e+05, 9.00000e-01, 2.00000e+00]],\n",
       "\n",
       "        ...,\n",
       "\n",
       "        [[1.09703e+05, 6.00000e-01, 1.00000e+00],\n",
       "         [1.09703e+05, 6.00000e-01, 1.07200e+00],\n",
       "         [1.09703e+05, 6.00000e-01, 1.14900e+00],\n",
       "         ...,\n",
       "         [1.09703e+05, 6.00000e-01, 1.74100e+00],\n",
       "         [1.09703e+05, 6.00000e-01, 1.86600e+00],\n",
       "         [1.09703e+05, 6.00000e-01, 2.00000e+00]],\n",
       "\n",
       "        [[1.09703e+05, 5.50000e-01, 1.00000e+00],\n",
       "         [1.09703e+05, 5.50000e-01, 1.07200e+00],\n",
       "         [1.09703e+05, 5.50000e-01, 1.14900e+00],\n",
       "         ...,\n",
       "         [1.09703e+05, 5.50000e-01, 1.74100e+00],\n",
       "         [1.09703e+05, 5.50000e-01, 1.86600e+00],\n",
       "         [1.09703e+05, 5.50000e-01, 2.00000e+00]],\n",
       "\n",
       "        [[1.09703e+05, 5.00000e-01, 1.00000e+00],\n",
       "         [1.09703e+05, 5.00000e-01, 1.07200e+00],\n",
       "         [1.09703e+05, 5.00000e-01, 1.14900e+00],\n",
       "         ...,\n",
       "         [1.09703e+05, 5.00000e-01, 1.74100e+00],\n",
       "         [1.09703e+05, 5.00000e-01, 1.86600e+00],\n",
       "         [1.09703e+05, 5.00000e-01, 2.00000e+00]]],\n",
       "\n",
       "\n",
       "       ...,\n",
       "\n",
       "\n",
       "       [[[6.50495e+05, 1.00000e+00, 1.00000e+00],\n",
       "         [6.50495e+05, 1.00000e+00, 1.07200e+00],\n",
       "         [6.50495e+05, 1.00000e+00, 1.14900e+00],\n",
       "         ...,\n",
       "         [6.50495e+05, 1.00000e+00, 1.74100e+00],\n",
       "         [6.50495e+05, 1.00000e+00, 1.86600e+00],\n",
       "         [6.50495e+05, 1.00000e+00, 2.00000e+00]],\n",
       "\n",
       "        [[6.50495e+05, 9.50000e-01, 1.00000e+00],\n",
       "         [6.50495e+05, 9.50000e-01, 1.07200e+00],\n",
       "         [6.50495e+05, 9.50000e-01, 1.14900e+00],\n",
       "         ...,\n",
       "         [6.50495e+05, 9.50000e-01, 1.74100e+00],\n",
       "         [6.50495e+05, 9.50000e-01, 1.86600e+00],\n",
       "         [6.50495e+05, 9.50000e-01, 2.00000e+00]],\n",
       "\n",
       "        [[6.50495e+05, 9.00000e-01, 1.00000e+00],\n",
       "         [6.50495e+05, 9.00000e-01, 1.07200e+00],\n",
       "         [6.50495e+05, 9.00000e-01, 1.14900e+00],\n",
       "         ...,\n",
       "         [6.50495e+05, 9.00000e-01, 1.74100e+00],\n",
       "         [6.50495e+05, 9.00000e-01, 1.86600e+00],\n",
       "         [6.50495e+05, 9.00000e-01, 2.00000e+00]],\n",
       "\n",
       "        ...,\n",
       "\n",
       "        [[6.50495e+05, 6.00000e-01, 1.00000e+00],\n",
       "         [6.50495e+05, 6.00000e-01, 1.07200e+00],\n",
       "         [6.50495e+05, 6.00000e-01, 1.14900e+00],\n",
       "         ...,\n",
       "         [6.50495e+05, 6.00000e-01, 1.74100e+00],\n",
       "         [6.50495e+05, 6.00000e-01, 1.86600e+00],\n",
       "         [6.50495e+05, 6.00000e-01, 2.00000e+00]],\n",
       "\n",
       "        [[6.50495e+05, 5.50000e-01, 1.00000e+00],\n",
       "         [6.50495e+05, 5.50000e-01, 1.07200e+00],\n",
       "         [6.50495e+05, 5.50000e-01, 1.14900e+00],\n",
       "         ...,\n",
       "         [6.50495e+05, 5.50000e-01, 1.74100e+00],\n",
       "         [6.50495e+05, 5.50000e-01, 1.86600e+00],\n",
       "         [6.50495e+05, 5.50000e-01, 2.00000e+00]],\n",
       "\n",
       "        [[6.50495e+05, 5.00000e-01, 1.00000e+00],\n",
       "         [6.50495e+05, 5.00000e-01, 1.07200e+00],\n",
       "         [6.50495e+05, 5.00000e-01, 1.14900e+00],\n",
       "         ...,\n",
       "         [6.50495e+05, 5.00000e-01, 1.74100e+00],\n",
       "         [6.50495e+05, 5.00000e-01, 1.86600e+00],\n",
       "         [6.50495e+05, 5.00000e-01, 2.00000e+00]]],\n",
       "\n",
       "\n",
       "       [[[9.93140e+05, 1.00000e+00, 1.00000e+00],\n",
       "         [9.93140e+05, 1.00000e+00, 1.07200e+00],\n",
       "         [9.93140e+05, 1.00000e+00, 1.14900e+00],\n",
       "         ...,\n",
       "         [9.93140e+05, 1.00000e+00, 1.74100e+00],\n",
       "         [9.93140e+05, 1.00000e+00, 1.86600e+00],\n",
       "         [9.93140e+05, 1.00000e+00, 2.00000e+00]],\n",
       "\n",
       "        [[9.93140e+05, 9.50000e-01, 1.00000e+00],\n",
       "         [9.93140e+05, 9.50000e-01, 1.07200e+00],\n",
       "         [9.93140e+05, 9.50000e-01, 1.14900e+00],\n",
       "         ...,\n",
       "         [9.93140e+05, 9.50000e-01, 1.74100e+00],\n",
       "         [9.93140e+05, 9.50000e-01, 1.86600e+00],\n",
       "         [9.93140e+05, 9.50000e-01, 2.00000e+00]],\n",
       "\n",
       "        [[9.93140e+05, 9.00000e-01, 1.00000e+00],\n",
       "         [9.93140e+05, 9.00000e-01, 1.07200e+00],\n",
       "         [9.93140e+05, 9.00000e-01, 1.14900e+00],\n",
       "         ...,\n",
       "         [9.93140e+05, 9.00000e-01, 1.74100e+00],\n",
       "         [9.93140e+05, 9.00000e-01, 1.86600e+00],\n",
       "         [9.93140e+05, 9.00000e-01, 2.00000e+00]],\n",
       "\n",
       "        ...,\n",
       "\n",
       "        [[9.93140e+05, 6.00000e-01, 1.00000e+00],\n",
       "         [9.93140e+05, 6.00000e-01, 1.07200e+00],\n",
       "         [9.93140e+05, 6.00000e-01, 1.14900e+00],\n",
       "         ...,\n",
       "         [9.93140e+05, 6.00000e-01, 1.74100e+00],\n",
       "         [9.93140e+05, 6.00000e-01, 1.86600e+00],\n",
       "         [9.93140e+05, 6.00000e-01, 2.00000e+00]],\n",
       "\n",
       "        [[9.93140e+05, 5.50000e-01, 1.00000e+00],\n",
       "         [9.93140e+05, 5.50000e-01, 1.07200e+00],\n",
       "         [9.93140e+05, 5.50000e-01, 1.14900e+00],\n",
       "         ...,\n",
       "         [9.93140e+05, 5.50000e-01, 1.74100e+00],\n",
       "         [9.93140e+05, 5.50000e-01, 1.86600e+00],\n",
       "         [9.93140e+05, 5.50000e-01, 2.00000e+00]],\n",
       "\n",
       "        [[9.93140e+05, 5.00000e-01, 1.00000e+00],\n",
       "         [9.93140e+05, 5.00000e-01, 1.07200e+00],\n",
       "         [9.93140e+05, 5.00000e-01, 1.14900e+00],\n",
       "         ...,\n",
       "         [9.93140e+05, 5.00000e-01, 1.74100e+00],\n",
       "         [9.93140e+05, 5.00000e-01, 1.86600e+00],\n",
       "         [9.93140e+05, 5.00000e-01, 2.00000e+00]]],\n",
       "\n",
       "\n",
       "       [[[2.24158e+05, 1.00000e+00, 1.00000e+00],\n",
       "         [2.24158e+05, 1.00000e+00, 1.07200e+00],\n",
       "         [2.24158e+05, 1.00000e+00, 1.14900e+00],\n",
       "         ...,\n",
       "         [2.24158e+05, 1.00000e+00, 1.74100e+00],\n",
       "         [2.24158e+05, 1.00000e+00, 1.86600e+00],\n",
       "         [2.24158e+05, 1.00000e+00, 2.00000e+00]],\n",
       "\n",
       "        [[2.24158e+05, 9.50000e-01, 1.00000e+00],\n",
       "         [2.24158e+05, 9.50000e-01, 1.07200e+00],\n",
       "         [2.24158e+05, 9.50000e-01, 1.14900e+00],\n",
       "         ...,\n",
       "         [2.24158e+05, 9.50000e-01, 1.74100e+00],\n",
       "         [2.24158e+05, 9.50000e-01, 1.86600e+00],\n",
       "         [2.24158e+05, 9.50000e-01, 2.00000e+00]],\n",
       "\n",
       "        [[2.24158e+05, 9.00000e-01, 1.00000e+00],\n",
       "         [2.24158e+05, 9.00000e-01, 1.07200e+00],\n",
       "         [2.24158e+05, 9.00000e-01, 1.14900e+00],\n",
       "         ...,\n",
       "         [2.24158e+05, 9.00000e-01, 1.74100e+00],\n",
       "         [2.24158e+05, 9.00000e-01, 1.86600e+00],\n",
       "         [2.24158e+05, 9.00000e-01, 2.00000e+00]],\n",
       "\n",
       "        ...,\n",
       "\n",
       "        [[2.24158e+05, 6.00000e-01, 1.00000e+00],\n",
       "         [2.24158e+05, 6.00000e-01, 1.07200e+00],\n",
       "         [2.24158e+05, 6.00000e-01, 1.14900e+00],\n",
       "         ...,\n",
       "         [2.24158e+05, 6.00000e-01, 1.74100e+00],\n",
       "         [2.24158e+05, 6.00000e-01, 1.86600e+00],\n",
       "         [2.24158e+05, 6.00000e-01, 2.00000e+00]],\n",
       "\n",
       "        [[2.24158e+05, 5.50000e-01, 1.00000e+00],\n",
       "         [2.24158e+05, 5.50000e-01, 1.07200e+00],\n",
       "         [2.24158e+05, 5.50000e-01, 1.14900e+00],\n",
       "         ...,\n",
       "         [2.24158e+05, 5.50000e-01, 1.74100e+00],\n",
       "         [2.24158e+05, 5.50000e-01, 1.86600e+00],\n",
       "         [2.24158e+05, 5.50000e-01, 2.00000e+00]],\n",
       "\n",
       "        [[2.24158e+05, 5.00000e-01, 1.00000e+00],\n",
       "         [2.24158e+05, 5.00000e-01, 1.07200e+00],\n",
       "         [2.24158e+05, 5.00000e-01, 1.14900e+00],\n",
       "         ...,\n",
       "         [2.24158e+05, 5.00000e-01, 1.74100e+00],\n",
       "         [2.24158e+05, 5.00000e-01, 1.86600e+00],\n",
       "         [2.24158e+05, 5.00000e-01, 2.00000e+00]]]])"
      ]
     },
     "execution_count": 21,
     "metadata": {},
     "output_type": "execute_result"
    }
   ],
   "source": [
    "combos"
   ]
  },
  {
   "cell_type": "code",
   "execution_count": null,
   "id": "621092c9-6147-4a5d-9b32-278ad64d6afc",
   "metadata": {},
   "outputs": [],
   "source": []
  }
 ],
 "metadata": {
  "kernelspec": {
   "display_name": "Python 3",
   "language": "python",
   "name": "python3"
  },
  "language_info": {
   "codemirror_mode": {
    "name": "ipython",
    "version": 3
   },
   "file_extension": ".py",
   "mimetype": "text/x-python",
   "name": "python",
   "nbconvert_exporter": "python",
   "pygments_lexer": "ipython3",
   "version": "3.9.4"
  }
 },
 "nbformat": 4,
 "nbformat_minor": 5
}
