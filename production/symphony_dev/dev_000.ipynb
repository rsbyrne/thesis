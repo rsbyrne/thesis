{
 "cells": [
  {
   "cell_type": "code",
   "execution_count": 1,
   "id": "fd7d43ec-7393-4968-8abc-b54da8da3c8b",
   "metadata": {},
   "outputs": [],
   "source": [
    "import symphony"
   ]
  },
  {
   "cell_type": "code",
   "execution_count": 2,
   "id": "20cc0a8d-1ce6-4082-b7c6-24af77ca409c",
   "metadata": {},
   "outputs": [
    {
     "name": "stdout",
     "output_type": "stream",
     "text": [
      ".pieces/\n",
      "  7646d69e94b5bca6e189d3ff6c4bc238/\n",
      "    params.pkl\n",
      "    .state\n",
      "    out/\n",
      ".state\n",
      "__init__.py\n",
      "__pycache__/\n",
      "  __init__.cpython-39.pyc\n",
      "  __init__.cpython-310.pyc\n"
     ]
    }
   ],
   "source": [
    "conductor = symphony.Conductor('work')\n",
    "conductor.purge()\n",
    "project = conductor['my_project']\n",
    "project.purge()\n",
    "project_view = project.view\n",
    "piece = project.pick_piece()\n",
    "piece_view = piece.view\n",
    "print(symphony.strn_directory(project.workdir))"
   ]
  },
  {
   "cell_type": "code",
   "execution_count": 6,
   "id": "6615ced9-d12c-4716-8fcf-8febc8acfdb5",
   "metadata": {},
   "outputs": [],
   "source": [
    "import pickle\n",
    "import hashlib"
   ]
  },
  {
   "cell_type": "code",
   "execution_count": 7,
   "id": "48aa55af-b499-4dc2-84bf-48532162fac7",
   "metadata": {},
   "outputs": [
    {
     "data": {
      "text/plain": [
       "'7646d69e94b5bca6e189d3ff6c4bc238'"
      ]
     },
     "execution_count": 7,
     "metadata": {},
     "output_type": "execute_result"
    }
   ],
   "source": [
    "arg = piece.params\n",
    "hashlib.md5(pickle.dumps(arg)).hexdigest()"
   ]
  },
  {
   "cell_type": "code",
   "execution_count": 5,
   "id": "41c7d06d-59ef-43f6-8ae3-e439c045b9a4",
   "metadata": {},
   "outputs": [
    {
     "data": {
      "text/plain": [
       "<PieceParams(foo)>"
      ]
     },
     "execution_count": 5,
     "metadata": {},
     "output_type": "execute_result"
    }
   ],
   "source": [
    "piece.params"
   ]
  },
  {
   "cell_type": "code",
   "execution_count": 3,
   "id": "20e979b5-523d-415a-ae2e-24308d15a6ac",
   "metadata": {},
   "outputs": [
    {
     "ename": "RemoteExecuteError",
     "evalue": "Traceback (most recent call last):\n  File \"/home/ubuntu/volume/thesis/production/symphony_dev/symphony.py\", line 573, in __getitem__\n    return Piece(self, arg)\n  File \"/home/ubuntu/volume/thesis/production/symphony_dev/symphony.py\", line 220, in __call__\n    args, kwargs, extras = cls._process_params_(args, kwargs)\n  File \"/home/ubuntu/volume/thesis/production/symphony_dev/symphony.py\", line 600, in _process_params_\n    raise ValueError(piece_id, hashcode)\nValueError: ('7ec642d04fcc7c562aa50ac7f4dadabd', '09958554d9def74021b8a20386db409b')\n\nThe above exception was the direct cause of the following exception:\n\nTraceback (most recent call last):\n  File \"/home/ubuntu/volume/thesis/production/symphony_dev/symphony.py\", line 1069, in <module>\n    func(\n  File \"/home/ubuntu/volume/thesis/production/symphony_dev/symphony.py\", line 86, in wrapped\n    out = func(*args, **kwargs)\n  File \"/home/ubuntu/volume/thesis/production/symphony_dev/symphony.py\", line 969, in request_task\n    return Conductor(workingdir).pick_piece().reserve()\n  File \"/home/ubuntu/volume/thesis/production/symphony_dev/symphony.py\", line 103, in wrapped\n    return func(obj, *args, **kwargs)\n  File \"/home/ubuntu/volume/thesis/production/symphony_dev/symphony.py\", line 642, in reserve\n    for path in (*project.manifest, *self.manifest):\n  File \"/home/ubuntu/volume/thesis/production/symphony_dev/symphony.py\", line 126, in wrapped\n    out = cache[name] = func(obj)\n  File \"/home/ubuntu/volume/thesis/production/symphony_dev/symphony.py\", line 538, in manifest\n    return types.MappingProxyType({\n  File \"/home/ubuntu/volume/thesis/production/symphony_dev/symphony.py\", line 540, in <dictcomp>\n    self[name].state\n  File \"/home/ubuntu/volume/thesis/production/symphony_dev/symphony.py\", line 575, in __getitem__\n    raise KeyError from exc\nKeyError",
     "output_type": "error",
     "traceback": [
      "\u001b[0;31m---------------------------------------------------------------------------\u001b[0m",
      "\u001b[0;31mRemoteExecuteError\u001b[0m                        Traceback (most recent call last)",
      "\u001b[0;32m<ipython-input-3-49d0cbed3169>\u001b[0m in \u001b[0;36m<module>\u001b[0;34m\u001b[0m\n\u001b[1;32m      6\u001b[0m     \u001b[0;34m\"~/.ssh/general.pem\"\u001b[0m\u001b[0;34m,\u001b[0m\u001b[0;34m\u001b[0m\u001b[0;34m\u001b[0m\u001b[0m\n\u001b[1;32m      7\u001b[0m     )\n\u001b[0;32m----> 8\u001b[0;31m ret = symphony._single_run(\n\u001b[0m\u001b[1;32m      9\u001b[0m     \u001b[0mremote\u001b[0m\u001b[0;34m,\u001b[0m\u001b[0;34m\u001b[0m\u001b[0;34m\u001b[0m\u001b[0m\n\u001b[1;32m     10\u001b[0m     \u001b[0;34m'volume/thesis/production/symphony_dev'\u001b[0m\u001b[0;34m,\u001b[0m\u001b[0;34m\u001b[0m\u001b[0;34m\u001b[0m\u001b[0m\n",
      "\u001b[0;32m~/workspace/mount/production/symphony_dev/symphony.py\u001b[0m in \u001b[0;36m_single_run\u001b[0;34m(remote, directory, remotedir, localdir)\u001b[0m\n\u001b[1;32m    837\u001b[0m     \u001b[0msys\u001b[0m\u001b[0;34m.\u001b[0m\u001b[0mpath\u001b[0m \u001b[0;34m=\u001b[0m \u001b[0;34m[\u001b[0m\u001b[0mstr\u001b[0m\u001b[0;34m(\u001b[0m\u001b[0mlocaldir\u001b[0m\u001b[0;34m)\u001b[0m\u001b[0;34m,\u001b[0m \u001b[0;34m*\u001b[0m\u001b[0msys\u001b[0m\u001b[0;34m.\u001b[0m\u001b[0mpath\u001b[0m\u001b[0;34m]\u001b[0m\u001b[0;34m\u001b[0m\u001b[0;34m\u001b[0m\u001b[0m\n\u001b[1;32m    838\u001b[0m \u001b[0;34m\u001b[0m\u001b[0m\n\u001b[0;32m--> 839\u001b[0;31m     transid, return_address = remote.execute(\n\u001b[0m\u001b[1;32m    840\u001b[0m         \u001b[0mdirectory\u001b[0m\u001b[0;34m,\u001b[0m\u001b[0;34m\u001b[0m\u001b[0;34m\u001b[0m\u001b[0m\n\u001b[1;32m    841\u001b[0m         \u001b[0;34m'python3'\u001b[0m\u001b[0;34m,\u001b[0m\u001b[0;34m\u001b[0m\u001b[0;34m\u001b[0m\u001b[0m\n",
      "\u001b[0;32m~/workspace/mount/production/symphony_dev/symphony.py\u001b[0m in \u001b[0;36mexecute\u001b[0;34m(self, workdir, *command)\u001b[0m\n\u001b[1;32m    785\u001b[0m \u001b[0;34m\u001b[0m\u001b[0m\n\u001b[1;32m    786\u001b[0m         \u001b[0;32mif\u001b[0m \u001b[0merror\u001b[0m\u001b[0;34m:\u001b[0m\u001b[0;34m\u001b[0m\u001b[0;34m\u001b[0m\u001b[0m\n\u001b[0;32m--> 787\u001b[0;31m             \u001b[0;32mraise\u001b[0m \u001b[0mRemoteExecuteError\u001b[0m\u001b[0;34m(\u001b[0m\u001b[0merror\u001b[0m\u001b[0;34m)\u001b[0m\u001b[0;34m\u001b[0m\u001b[0;34m\u001b[0m\u001b[0m\n\u001b[0m\u001b[1;32m    788\u001b[0m \u001b[0;34m\u001b[0m\u001b[0m\n\u001b[1;32m    789\u001b[0m         \u001b[0mout\u001b[0m \u001b[0;34m=\u001b[0m \u001b[0mtuple\u001b[0m\u001b[0;34m(\u001b[0m\u001b[0mout\u001b[0m\u001b[0;34m.\u001b[0m\u001b[0msplit\u001b[0m\u001b[0;34m(\u001b[0m\u001b[0;34m)\u001b[0m\u001b[0;34m)\u001b[0m\u001b[0;34m\u001b[0m\u001b[0;34m\u001b[0m\u001b[0m\n",
      "\u001b[0;31mRemoteExecuteError\u001b[0m: Traceback (most recent call last):\n  File \"/home/ubuntu/volume/thesis/production/symphony_dev/symphony.py\", line 573, in __getitem__\n    return Piece(self, arg)\n  File \"/home/ubuntu/volume/thesis/production/symphony_dev/symphony.py\", line 220, in __call__\n    args, kwargs, extras = cls._process_params_(args, kwargs)\n  File \"/home/ubuntu/volume/thesis/production/symphony_dev/symphony.py\", line 600, in _process_params_\n    raise ValueError(piece_id, hashcode)\nValueError: ('7ec642d04fcc7c562aa50ac7f4dadabd', '09958554d9def74021b8a20386db409b')\n\nThe above exception was the direct cause of the following exception:\n\nTraceback (most recent call last):\n  File \"/home/ubuntu/volume/thesis/production/symphony_dev/symphony.py\", line 1069, in <module>\n    func(\n  File \"/home/ubuntu/volume/thesis/production/symphony_dev/symphony.py\", line 86, in wrapped\n    out = func(*args, **kwargs)\n  File \"/home/ubuntu/volume/thesis/production/symphony_dev/symphony.py\", line 969, in request_task\n    return Conductor(workingdir).pick_piece().reserve()\n  File \"/home/ubuntu/volume/thesis/production/symphony_dev/symphony.py\", line 103, in wrapped\n    return func(obj, *args, **kwargs)\n  File \"/home/ubuntu/volume/thesis/production/symphony_dev/symphony.py\", line 642, in reserve\n    for path in (*project.manifest, *self.manifest):\n  File \"/home/ubuntu/volume/thesis/production/symphony_dev/symphony.py\", line 126, in wrapped\n    out = cache[name] = func(obj)\n  File \"/home/ubuntu/volume/thesis/production/symphony_dev/symphony.py\", line 538, in manifest\n    return types.MappingProxyType({\n  File \"/home/ubuntu/volume/thesis/production/symphony_dev/symphony.py\", line 540, in <dictcomp>\n    self[name].state\n  File \"/home/ubuntu/volume/thesis/production/symphony_dev/symphony.py\", line 575, in __getitem__\n    raise KeyError from exc\nKeyError"
     ]
    }
   ],
   "source": [
    "! rm -rf worker\n",
    "\n",
    "remote = symphony.Remote(\n",
    "    'ubuntu',\n",
    "    '172.26.133.172',\n",
    "    \"~/.ssh/general.pem\",\n",
    "    )\n",
    "ret = symphony._single_run(\n",
    "    remote,\n",
    "    'volume/thesis/production/symphony_dev',\n",
    "    'work',\n",
    "    'worker',\n",
    "    )\n",
    "# ret = symphony._multi_run(\n",
    "#     remote,\n",
    "#     'volume/thesis/production/symphony_dev',\n",
    "#     'work',\n",
    "#     'worker',\n",
    "#     number=1,\n",
    "#     threads=1,\n",
    "#     )\n",
    "ret"
   ]
  },
  {
   "cell_type": "code",
   "execution_count": null,
   "id": "0eced20d-b76b-4ef3-ac58-5f686c3173b5",
   "metadata": {},
   "outputs": [],
   "source": []
  }
 ],
 "metadata": {
  "kernelspec": {
   "display_name": "Python 3",
   "language": "python",
   "name": "python3"
  },
  "language_info": {
   "codemirror_mode": {
    "name": "ipython",
    "version": 3
   },
   "file_extension": ".py",
   "mimetype": "text/x-python",
   "name": "python",
   "nbconvert_exporter": "python",
   "pygments_lexer": "ipython3",
   "version": "3.9.4"
  }
 },
 "nbformat": 4,
 "nbformat_minor": 5
}
