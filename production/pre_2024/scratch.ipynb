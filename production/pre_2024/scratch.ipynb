{
 "cells": [
  {
   "cell_type": "code",
   "execution_count": 1,
   "id": "rental-throw",
   "metadata": {},
   "outputs": [],
   "source": [
    "tauRefs = [10 ** round((i / 20), 2) for i in range(49, 61)]"
   ]
  },
  {
   "cell_type": "code",
   "execution_count": 2,
   "id": "insured-oxford",
   "metadata": {},
   "outputs": [
    {
     "data": {
      "text/plain": [
       "[281.8382931264455,\n",
       " 316.22776601683796,\n",
       " 354.8133892335753,\n",
       " 398.1071705534973,\n",
       " 446.683592150963,\n",
       " 501.18723362727246,\n",
       " 562.341325190349,\n",
       " 630.957344480193,\n",
       " 707.945784384138,\n",
       " 794.3282347242813,\n",
       " 891.2509381337459,\n",
       " 1000.0]"
      ]
     },
     "execution_count": 2,
     "metadata": {},
     "output_type": "execute_result"
    }
   ],
   "source": [
    "tauRefs"
   ]
  },
  {
   "cell_type": "code",
   "execution_count": 3,
   "id": "prime-setup",
   "metadata": {},
   "outputs": [
    {
     "data": {
      "text/plain": [
       "[79432.82347242821,\n",
       " 100000.0,\n",
       " 125892.54117941661,\n",
       " 158489.3192461114,\n",
       " 199526.2314968879,\n",
       " 251188.6431509582,\n",
       " 316227.7660168379,\n",
       " 398107.1705534969,\n",
       " 501187.2336272725,\n",
       " 630957.344480193,\n",
       " 794328.2347242822,\n",
       " 1000000.0]"
      ]
     },
     "execution_count": 3,
     "metadata": {},
     "output_type": "execute_result"
    }
   ],
   "source": [
    "[10 ** (i / 10) for i in range(49, 61)]"
   ]
  },
  {
   "cell_type": "code",
   "execution_count": 7,
   "id": "prompt-mountain",
   "metadata": {},
   "outputs": [
    {
     "ename": "NameError",
     "evalue": "name 'ravel' is not defined",
     "output_type": "error",
     "traceback": [
      "\u001b[0;31m---------------------------------------------------------------------------\u001b[0m",
      "\u001b[0;31mNameError\u001b[0m                                 Traceback (most recent call last)",
      "\u001b[0;32m<ipython-input-7-69bbd9bae8a8>\u001b[0m in \u001b[0;36m<module>\u001b[0;34m\u001b[0m\n\u001b[0;32m----> 1\u001b[0;31m \u001b[0mravel\u001b[0m\u001b[0;34m\u001b[0m\u001b[0;34m\u001b[0m\u001b[0m\n\u001b[0m",
      "\u001b[0;31mNameError\u001b[0m: name 'ravel' is not defined"
     ]
    }
   ],
   "source": [
    "ravel"
   ]
  },
  {
   "cell_type": "code",
   "execution_count": 10,
   "id": "norwegian-framework",
   "metadata": {},
   "outputs": [],
   "source": [
    "from functools import reduce"
   ]
  },
  {
   "cell_type": "code",
   "execution_count": 11,
   "id": "authentic-friendly",
   "metadata": {},
   "outputs": [],
   "source": [
    "import numpy as np"
   ]
  },
  {
   "cell_type": "code",
   "execution_count": 14,
   "id": "expanded-bahamas",
   "metadata": {},
   "outputs": [
    {
     "data": {
      "text/plain": [
       "array([10. , 10.1, 10.2, 10.3, 10.4, 10.5, 10.6, 10.7, 10.8, 10.9, 11. ,\n",
       "       11.1, 11.2, 11.3, 11.4, 11.5, 11.6, 11.7, 11.8, 11.9, 12. , 12.1,\n",
       "       12.2, 12.3, 12.4, 12.5, 12.6, 12.7, 12.8, 12.9, 13. , 13.1, 13.2,\n",
       "       13.3, 13.4, 13.5, 13.6, 13.7, 13.8, 13.9, 14. , 14.1, 14.2, 14.3,\n",
       "       14.4, 14.5, 14.6, 14.7, 14.8, 14.9, 15. , 15.1, 15.2, 15.3, 15.4,\n",
       "       15.5, 15.6, 15.7, 15.8, 15.9, 16. , 16.1, 16.2, 16.3, 16.4, 16.5,\n",
       "       16.6, 16.7, 16.8, 16.9, 17. , 17.1, 17.2, 17.3, 17.4, 17.5, 17.6,\n",
       "       17.7, 17.8, 17.9, 18. , 18.1, 18.2, 18.3, 18.4, 18.5, 18.6, 18.7,\n",
       "       18.8, 18.9, 19. , 19.1, 19.2, 19.3, 19.4, 19.5, 19.6, 19.7, 19.8,\n",
       "       19.9])"
      ]
     },
     "execution_count": 14,
     "metadata": {},
     "output_type": "execute_result"
    }
   ],
   "source": [
    "np.arange(10, 20, 0.1)"
   ]
  },
  {
   "cell_type": "code",
   "execution_count": null,
   "id": "graduate-gazette",
   "metadata": {},
   "outputs": [],
   "source": [
    "reduce()"
   ]
  },
  {
   "cell_type": "code",
   "execution_count": null,
   "id": "institutional-minutes",
   "metadata": {},
   "outputs": [],
   "source": [
    "[]"
   ]
  },
  {
   "cell_type": "code",
   "execution_count": 19,
   "id": "intensive-branch",
   "metadata": {},
   "outputs": [],
   "source": [
    "exps = "
   ]
  },
  {
   "cell_type": "code",
   "execution_count": 21,
   "id": "neither-refrigerator",
   "metadata": {},
   "outputs": [
    {
     "data": {
      "text/plain": [
       "21"
      ]
     },
     "execution_count": 21,
     "metadata": {},
     "output_type": "execute_result"
    }
   ],
   "source": [
    "len(exps)"
   ]
  },
  {
   "cell_type": "code",
   "execution_count": 22,
   "id": "finnish-cartridge",
   "metadata": {},
   "outputs": [
    {
     "data": {
      "text/plain": [
       "array([5.  , 5.05, 5.1 , 5.15, 5.2 , 5.25, 5.3 , 5.35, 5.4 , 5.45, 5.5 ,\n",
       "       5.55, 5.6 , 5.65, 5.7 , 5.75, 5.8 , 5.85, 5.9 , 5.95, 6.  ])"
      ]
     },
     "execution_count": 22,
     "metadata": {},
     "output_type": "execute_result"
    }
   ],
   "source": [
    "exps"
   ]
  },
  {
   "cell_type": "code",
   "execution_count": 60,
   "id": "educational-ottawa",
   "metadata": {},
   "outputs": [],
   "source": [
    "tauRefs = [10. ** i for i in np.arange(5, 6.05, 0.05)]"
   ]
  },
  {
   "cell_type": "code",
   "execution_count": 61,
   "id": "bibliographic-degree",
   "metadata": {},
   "outputs": [
    {
     "data": {
      "text/plain": [
       "[100000.0,\n",
       " 112201.84543019629,\n",
       " 125892.54117941661,\n",
       " 141253.75446227525,\n",
       " 158489.3192461111,\n",
       " 177827.94100389193,\n",
       " 199526.23149688746,\n",
       " 223872.1138568333,\n",
       " 251188.64315095718,\n",
       " 281838.29312644433,\n",
       " 316227.7660168366,\n",
       " 354813.38923357386,\n",
       " 398107.1705534953,\n",
       " 446683.59215096076,\n",
       " 501187.2336272694,\n",
       " 562341.3251903456,\n",
       " 630957.3444801891,\n",
       " 707945.784384133,\n",
       " 794328.2347242757,\n",
       " 891250.9381337386,\n",
       " 999999.9999999919]"
      ]
     },
     "execution_count": 61,
     "metadata": {},
     "output_type": "execute_result"
    }
   ],
   "source": [
    "tauRefs"
   ]
  },
  {
   "cell_type": "code",
   "execution_count": 62,
   "id": "fantastic-oliver",
   "metadata": {},
   "outputs": [
    {
     "data": {
      "text/plain": [
       "21"
      ]
     },
     "execution_count": 62,
     "metadata": {},
     "output_type": "execute_result"
    }
   ],
   "source": [
    "len(tauRefs)"
   ]
  },
  {
   "cell_type": "code",
   "execution_count": 65,
   "id": "equivalent-dynamics",
   "metadata": {},
   "outputs": [
    {
     "data": {
      "text/plain": [
       "[0.707, 1.0, 1.414]"
      ]
     },
     "execution_count": 65,
     "metadata": {},
     "output_type": "execute_result"
    }
   ],
   "source": []
  },
  {
   "cell_type": "code",
   "execution_count": 66,
   "id": "proud-gross",
   "metadata": {},
   "outputs": [],
   "source": [
    "import itertools"
   ]
  },
  {
   "cell_type": "code",
   "execution_count": 68,
   "id": "hollow-haiti",
   "metadata": {},
   "outputs": [
    {
     "data": {
      "text/plain": [
       "array([0.5, 0.6, 0.7, 0.8, 0.9, 1. ])"
      ]
     },
     "execution_count": 68,
     "metadata": {},
     "output_type": "execute_result"
    }
   ],
   "source": []
  },
  {
   "cell_type": "code",
   "execution_count": 73,
   "id": "deluxe-barrier",
   "metadata": {},
   "outputs": [],
   "source": [
    "geometry = "
   ]
  },
  {
   "cell_type": "code",
   "execution_count": 74,
   "id": "abandoned-penny",
   "metadata": {},
   "outputs": [
    {
     "data": {
      "text/plain": [
       "12"
      ]
     },
     "execution_count": 74,
     "metadata": {},
     "output_type": "execute_result"
    }
   ],
   "source": [
    "len(geometry)"
   ]
  },
  {
   "cell_type": "code",
   "execution_count": 76,
   "id": "acknowledged-beach",
   "metadata": {},
   "outputs": [
    {
     "data": {
      "text/plain": [
       "[(0.5, 1.0),\n",
       " (0.5, 1.414),\n",
       " (0.6, 1.0),\n",
       " (0.6, 1.414),\n",
       " (0.7, 1.0),\n",
       " (0.7, 1.414),\n",
       " (0.8, 1.0),\n",
       " (0.8, 1.414),\n",
       " (0.9, 1.0),\n",
       " (0.9, 1.414),\n",
       " (1.0, 1.0),\n",
       " (1.0, 1.414)]"
      ]
     },
     "execution_count": 76,
     "metadata": {},
     "output_type": "execute_result"
    }
   ],
   "source": [
    "geometry"
   ]
  },
  {
   "cell_type": "code",
   "execution_count": 86,
   "id": "convenient-lecture",
   "metadata": {},
   "outputs": [],
   "source": [
    "tauRefFreqs = "
   ]
  },
  {
   "cell_type": "code",
   "execution_count": null,
   "id": "comfortable-marketplace",
   "metadata": {},
   "outputs": [],
   "source": [
    "geometry = "
   ]
  },
  {
   "cell_type": "code",
   "execution_count": 88,
   "id": "selective-reynolds",
   "metadata": {},
   "outputs": [
    {
     "data": {
      "text/plain": [
       "[(0.5, 1.0), (1.0, 1.0)]"
      ]
     },
     "execution_count": 88,
     "metadata": {},
     "output_type": "execute_result"
    }
   ],
   "source": [
    "list(itertools.product(\n",
    "    [0.5, 1.0],\n",
    "    [1.,],\n",
    "    ))"
   ]
  },
  {
   "cell_type": "code",
   "execution_count": 89,
   "id": "crude-equipment",
   "metadata": {},
   "outputs": [
    {
     "data": {
      "text/plain": [
       "[(100000.0, 1.0, 0.5, 1.0),\n",
       " (100000.0, 1.0, 1.0, 1.0),\n",
       " (158489.3192461114, 1.0, 0.5, 1.0),\n",
       " (158489.3192461114, 1.0, 1.0, 1.0),\n",
       " (251188.6431509582, 1.0, 0.5, 1.0),\n",
       " (251188.6431509582, 1.0, 1.0, 1.0),\n",
       " (398107.1705534969, 1.0, 0.5, 1.0),\n",
       " (398107.1705534969, 1.0, 1.0, 1.0),\n",
       " (630957.344480193, 1.0, 0.5, 1.0),\n",
       " (630957.344480193, 1.0, 1.0, 1.0),\n",
       " (1000000.0, 1.0, 0.5, 1.0),\n",
       " (1000000.0, 1.0, 1.0, 1.0)]"
      ]
     },
     "execution_count": 89,
     "metadata": {},
     "output_type": "execute_result"
    }
   ],
   "source": [
    "list(itertools.product(\n",
    "    [10 ** i for i in np.linspace(5, 6, 6)],\n",
    "    [1.,],\n",
    "    [0.5, 1.0],\n",
    "    [1.,],\n",
    "    ))"
   ]
  },
  {
   "cell_type": "code",
   "execution_count": null,
   "id": "catholic-scene",
   "metadata": {},
   "outputs": [],
   "source": []
  }
 ],
 "metadata": {
  "kernelspec": {
   "display_name": "Python 3",
   "language": "python",
   "name": "python3"
  },
  "language_info": {
   "codemirror_mode": {
    "name": "ipython",
    "version": 3
   },
   "file_extension": ".py",
   "mimetype": "text/x-python",
   "name": "python",
   "nbconvert_exporter": "python",
   "pygments_lexer": "ipython3",
   "version": "3.8.6"
  }
 },
 "nbformat": 4,
 "nbformat_minor": 5
}
