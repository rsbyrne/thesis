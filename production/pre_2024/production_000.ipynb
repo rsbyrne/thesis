{
 "cells": [
  {
   "cell_type": "code",
   "execution_count": 1,
   "id": "little-booth",
   "metadata": {},
   "outputs": [],
   "source": [
    "import itertools\n",
    "import numpy as np\n",
    "\n",
    "from thesis_initialise import *"
   ]
  },
  {
   "cell_type": "code",
   "execution_count": 2,
   "id": "furnished-partnership",
   "metadata": {},
   "outputs": [
    {
     "data": {
      "text/plain": [
       "10"
      ]
     },
     "execution_count": 2,
     "metadata": {},
     "output_type": "execute_result"
    }
   ],
   "source": [
    "len([0., *[10. ** (i / 4) for i in range(-4, 5)]])"
   ]
  },
  {
   "cell_type": "code",
   "execution_count": 3,
   "id": "unable-gardening",
   "metadata": {},
   "outputs": [
    {
     "data": {
      "text/plain": [
       "[(1.0, 1.0),\n",
       " (1.0, 1.072),\n",
       " (1.0, 1.149),\n",
       " (1.0, 1.231),\n",
       " (1.0, 1.32),\n",
       " (1.0, 1.414),\n",
       " (0.9, 1.0),\n",
       " (0.9, 1.072),\n",
       " (0.9, 1.149),\n",
       " (0.9, 1.231),\n",
       " (0.9, 1.32),\n",
       " (0.9, 1.414),\n",
       " (0.8, 1.0),\n",
       " (0.8, 1.072),\n",
       " (0.8, 1.149),\n",
       " (0.8, 1.231),\n",
       " (0.8, 1.32),\n",
       " (0.8, 1.414),\n",
       " (0.7, 1.0),\n",
       " (0.7, 1.072),\n",
       " (0.7, 1.149),\n",
       " (0.7, 1.231),\n",
       " (0.7, 1.32),\n",
       " (0.7, 1.414),\n",
       " (0.6, 1.0),\n",
       " (0.6, 1.072),\n",
       " (0.6, 1.149),\n",
       " (0.6, 1.231),\n",
       " (0.6, 1.32),\n",
       " (0.6, 1.414),\n",
       " (0.5, 1.0),\n",
       " (0.5, 1.072),\n",
       " (0.5, 1.149),\n",
       " (0.5, 1.231),\n",
       " (0.5, 1.32),\n",
       " (0.5, 1.414)]"
      ]
     },
     "execution_count": 3,
     "metadata": {},
     "output_type": "execute_result"
    }
   ],
   "source": [
    "geometries = list(itertools.product(\n",
    "    np.linspace(1.0, 0.5, 6),\n",
    "    np.round(2 ** np.linspace(0, 0.5, 6), 3),\n",
    "    ))\n",
    "geometries"
   ]
  },
  {
   "cell_type": "code",
   "execution_count": 8,
   "id": "fantastic-trinity",
   "metadata": {},
   "outputs": [
    {
     "data": {
      "text/plain": [
       "(0.5, 1.0)"
      ]
     },
     "execution_count": 8,
     "metadata": {},
     "output_type": "execute_result"
    }
   ],
   "source": [
    "geometries[30]"
   ]
  },
  {
   "cell_type": "code",
   "execution_count": null,
   "id": "ideal-basis",
   "metadata": {},
   "outputs": [],
   "source": [
    "# geom 0 [0-11, 12-22]\n",
    "# geom 5 [0-11, 12-22]\n",
    "# geom 12 [0-5, 6-10, 11-22]\n",
    "# geom 17 [0-11, 12-22]\n",
    "# geom 30 [0-5, 6-11]"
   ]
  },
  {
   "cell_type": "code",
   "execution_count": null,
   "id": "controversial-shakespeare",
   "metadata": {},
   "outputs": [],
   "source": [
    "geometries[3]"
   ]
  },
  {
   "cell_type": "code",
   "execution_count": null,
   "id": "substantial-earth",
   "metadata": {},
   "outputs": [],
   "source": [
    "geometries[12]"
   ]
  },
  {
   "cell_type": "code",
   "execution_count": null,
   "id": "northern-wagon",
   "metadata": {},
   "outputs": [],
   "source": [
    "geometries[15]"
   ]
  },
  {
   "cell_type": "code",
   "execution_count": null,
   "id": "tender-armstrong",
   "metadata": {},
   "outputs": [],
   "source": [
    "geometries[33]"
   ]
  },
  {
   "cell_type": "code",
   "execution_count": null,
   "id": "convinced-documentation",
   "metadata": {},
   "outputs": [],
   "source": [
    "list(itertools.product(\n",
    "    [0.5, 0.6, 0.7, 0.8, 0.9, 1.0],\n",
    "    [2. ** (i / 2) for i in range(2)]))[3]"
   ]
  },
  {
   "cell_type": "code",
   "execution_count": null,
   "id": "unavailable-swiss",
   "metadata": {},
   "outputs": [],
   "source": [
    "from everest import window\n",
    "%matplotlib inline"
   ]
  },
  {
   "cell_type": "code",
   "execution_count": null,
   "id": "finnish-bottle",
   "metadata": {},
   "outputs": [],
   "source": [
    "window.plot.scatter(*zip(*geometries), size = (12, 12))"
   ]
  },
  {
   "cell_type": "code",
   "execution_count": null,
   "id": "other-jurisdiction",
   "metadata": {},
   "outputs": [],
   "source": [
    "geometries[0]"
   ]
  },
  {
   "cell_type": "code",
   "execution_count": null,
   "id": "established-decline",
   "metadata": {},
   "outputs": [],
   "source": [
    "list([0., *[10. ** (i / 2) for i in range(-2, 3)]])"
   ]
  },
  {
   "cell_type": "code",
   "execution_count": null,
   "id": "considerable-belief",
   "metadata": {},
   "outputs": [],
   "source": [
    "geometries[35]"
   ]
  },
  {
   "cell_type": "code",
   "execution_count": null,
   "id": "silver-papua",
   "metadata": {},
   "outputs": [],
   "source": [
    "done = [0, 5, 12, 17, 30, 35]"
   ]
  },
  {
   "cell_type": "code",
   "execution_count": null,
   "id": "lesser-stuff",
   "metadata": {},
   "outputs": [],
   "source": [
    "list(geometries[i] for i in done)"
   ]
  },
  {
   "cell_type": "code",
   "execution_count": null,
   "id": "realistic-mapping",
   "metadata": {},
   "outputs": [],
   "source": []
  },
  {
   "cell_type": "code",
   "execution_count": null,
   "id": "authorized-contents",
   "metadata": {},
   "outputs": [],
   "source": []
  },
  {
   "cell_type": "code",
   "execution_count": null,
   "id": "painted-steal",
   "metadata": {},
   "outputs": [],
   "source": [
    "geometries"
   ]
  },
  {
   "cell_type": "code",
   "execution_count": null,
   "id": "perfect-rough",
   "metadata": {},
   "outputs": [],
   "source": []
  },
  {
   "cell_type": "code",
   "execution_count": null,
   "id": "veterinary-cache",
   "metadata": {},
   "outputs": [],
   "source": [
    "geometries[30]"
   ]
  },
  {
   "cell_type": "code",
   "execution_count": null,
   "id": "molecular-finance",
   "metadata": {},
   "outputs": [],
   "source": [
    "# Done:\n",
    "# for freq 1:\n",
    "doneGeoms = sorted(set([\n",
    "    *itertools.product(np.linspace(0.5, 1.0, 6), [1., 1.414]), # 12 geoms\n",
    "    *itertools.product([1.,], np.round(2 ** np.linspace(0, 0.5, 6), 3)), # aspects\n",
    "    *itertools.product(np.linspace(0.5, 1.0, 6), [1.,]), # freqs\n",
    "    ]))\n",
    "doneGeoms"
   ]
  },
  {
   "cell_type": "code",
   "execution_count": null,
   "id": "revolutionary-correction",
   "metadata": {},
   "outputs": [],
   "source": [
    "list(enumerate(itertools.product(\n",
    "    [0.5, 0.6, 0.7, 0.8, 0.9, 1.0],\n",
    "    [2. ** (i / 2) for i in range(2)],\n",
    "    )))"
   ]
  },
  {
   "cell_type": "code",
   "execution_count": null,
   "id": "optical-roulette",
   "metadata": {},
   "outputs": [],
   "source": []
  },
  {
   "cell_type": "code",
   "execution_count": null,
   "id": "stupid-apartment",
   "metadata": {},
   "outputs": [],
   "source": []
  }
 ],
 "metadata": {
  "kernelspec": {
   "display_name": "Python 3",
   "language": "python",
   "name": "python3"
  },
  "language_info": {
   "codemirror_mode": {
    "name": "ipython",
    "version": 3
   },
   "file_extension": ".py",
   "mimetype": "text/x-python",
   "name": "python",
   "nbconvert_exporter": "python",
   "pygments_lexer": "ipython3",
   "version": "3.8.6"
  }
 },
 "nbformat": 4,
 "nbformat_minor": 5
}
