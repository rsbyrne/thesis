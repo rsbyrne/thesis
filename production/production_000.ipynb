{
 "cells": [
  {
   "cell_type": "code",
   "execution_count": 6,
   "id": "intermediate-intake",
   "metadata": {},
   "outputs": [],
   "source": [
    "import itertools\n",
    "import numpy as np\n",
    "\n",
    "from thesis_initialise import *"
   ]
  },
  {
   "cell_type": "code",
   "execution_count": 13,
   "id": "biblical-battlefield",
   "metadata": {},
   "outputs": [
    {
     "data": {
      "text/plain": [
       "[(1.0, 1.0),\n",
       " (1.0, 1.072),\n",
       " (1.0, 1.149),\n",
       " (1.0, 1.231),\n",
       " (1.0, 1.32),\n",
       " (1.0, 1.414),\n",
       " (0.9, 1.0),\n",
       " (0.9, 1.072),\n",
       " (0.9, 1.149),\n",
       " (0.9, 1.231),\n",
       " (0.9, 1.32),\n",
       " (0.9, 1.414),\n",
       " (0.8, 1.0),\n",
       " (0.8, 1.072),\n",
       " (0.8, 1.149),\n",
       " (0.8, 1.231),\n",
       " (0.8, 1.32),\n",
       " (0.8, 1.414),\n",
       " (0.7, 1.0),\n",
       " (0.7, 1.072),\n",
       " (0.7, 1.149),\n",
       " (0.7, 1.231),\n",
       " (0.7, 1.32),\n",
       " (0.7, 1.414),\n",
       " (0.6, 1.0),\n",
       " (0.6, 1.072),\n",
       " (0.6, 1.149),\n",
       " (0.6, 1.231),\n",
       " (0.6, 1.32),\n",
       " (0.6, 1.414),\n",
       " (0.5, 1.0),\n",
       " (0.5, 1.072),\n",
       " (0.5, 1.149),\n",
       " (0.5, 1.231),\n",
       " (0.5, 1.32),\n",
       " (0.5, 1.414)]"
      ]
     },
     "execution_count": 13,
     "metadata": {},
     "output_type": "execute_result"
    }
   ],
   "source": [
    "geometries = list(itertools.product(\n",
    "    np.linspace(1.0, 0.5, 6),\n",
    "    np.round(2 ** np.linspace(0, 0.5, 6), 3),\n",
    "    ))\n",
    "geometries"
   ]
  },
  {
   "cell_type": "code",
   "execution_count": 23,
   "id": "floppy-indication",
   "metadata": {},
   "outputs": [
    {
     "data": {
      "text/plain": [
       "(0.5, 1.0)"
      ]
     },
     "execution_count": 23,
     "metadata": {},
     "output_type": "execute_result"
    }
   ],
   "source": [
    "geometries[30]"
   ]
  },
  {
   "cell_type": "code",
   "execution_count": null,
   "id": "bored-safety",
   "metadata": {},
   "outputs": [],
   "source": [
    "#!/bin/bash\n",
    "sudo docker attach --detach-keys \"ctrl-a,a\" reverent_goldberg"
   ]
  },
  {
   "cell_type": "code",
   "execution_count": 8,
   "id": "broke-green",
   "metadata": {},
   "outputs": [
    {
     "data": {
      "text/plain": [
       "[(0.5, 1.0),\n",
       " (0.5, 1.414),\n",
       " (0.6, 1.0),\n",
       " (0.6, 1.414),\n",
       " (0.7, 1.0),\n",
       " (0.7, 1.414),\n",
       " (0.8, 1.0),\n",
       " (0.8, 1.414),\n",
       " (0.9, 1.0),\n",
       " (0.9, 1.414),\n",
       " (1.0, 1.0),\n",
       " (1.0, 1.072),\n",
       " (1.0, 1.149),\n",
       " (1.0, 1.231),\n",
       " (1.0, 1.32),\n",
       " (1.0, 1.414)]"
      ]
     },
     "execution_count": 8,
     "metadata": {},
     "output_type": "execute_result"
    }
   ],
   "source": [
    "# Done:\n",
    "# for freq 1:\n",
    "doneGeoms = sorted(set([\n",
    "    *itertools.product(np.linspace(0.5, 1.0, 6), [1., 1.414]), # 12 geoms\n",
    "    *itertools.product([1.,], np.round(2 ** np.linspace(0, 0.5, 6), 3)), # aspects\n",
    "    *itertools.product(np.linspace(0.5, 1.0, 6), [1.,]), # freqs\n",
    "    ]))\n",
    "doneGeoms"
   ]
  },
  {
   "cell_type": "code",
   "execution_count": 11,
   "id": "romance-battlefield",
   "metadata": {},
   "outputs": [
    {
     "data": {
      "text/plain": [
       "[(0, (0.5, 1.0)),\n",
       " (1, (0.5, 1.4142135623730951)),\n",
       " (2, (0.6, 1.0)),\n",
       " (3, (0.6, 1.4142135623730951)),\n",
       " (4, (0.7, 1.0)),\n",
       " (5, (0.7, 1.4142135623730951)),\n",
       " (6, (0.8, 1.0)),\n",
       " (7, (0.8, 1.4142135623730951)),\n",
       " (8, (0.9, 1.0)),\n",
       " (9, (0.9, 1.4142135623730951)),\n",
       " (10, (1.0, 1.0)),\n",
       " (11, (1.0, 1.4142135623730951))]"
      ]
     },
     "execution_count": 11,
     "metadata": {},
     "output_type": "execute_result"
    }
   ],
   "source": [
    "list(enumerate(itertools.product(\n",
    "    [0.5, 0.6, 0.7, 0.8, 0.9, 1.0],\n",
    "    [2. ** (i / 2) for i in range(2)],\n",
    "    )))"
   ]
  },
  {
   "cell_type": "code",
   "execution_count": 12,
   "id": "dependent-recovery",
   "metadata": {},
   "outputs": [
    {
     "data": {
      "text/plain": [
       "'for i in 0 1 2 3 4 5 6 7 8 9 10 11; do ls -lh *.py-6-$i-*.error; done'"
      ]
     },
     "execution_count": 12,
     "metadata": {},
     "output_type": "execute_result"
    }
   ],
   "source": []
  },
  {
   "cell_type": "code",
   "execution_count": null,
   "id": "productive-quilt",
   "metadata": {},
   "outputs": [],
   "source": []
  }
 ],
 "metadata": {
  "kernelspec": {
   "display_name": "Python 3",
   "language": "python",
   "name": "python3"
  },
  "language_info": {
   "codemirror_mode": {
    "name": "ipython",
    "version": 3
   },
   "file_extension": ".py",
   "mimetype": "text/x-python",
   "name": "python",
   "nbconvert_exporter": "python",
   "pygments_lexer": "ipython3",
   "version": "3.8.6"
  }
 },
 "nbformat": 4,
 "nbformat_minor": 5
}
