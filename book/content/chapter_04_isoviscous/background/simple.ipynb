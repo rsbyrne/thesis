{
 "cells": [
  {
   "cell_type": "code",
   "execution_count": 1,
   "id": "chemical-publisher",
   "metadata": {
    "tags": [
     "remove-cell"
    ]
   },
   "outputs": [],
   "source": [
    "# This cell is tagged for removal\n",
    "\n",
    "import math as maths\n",
    "\n",
    "import numpy as np\n",
    "\n",
    "import aliases\n",
    "\n",
    "from everest.window import Canvas, DataChannel as Channel"
   ]
  },
  {
   "cell_type": "markdown",
   "id": "taken-resident",
   "metadata": {},
   "source": [
    "### Simple isoviscous rheology"
   ]
  },
  {
   "cell_type": "markdown",
   "id": "5c001535-e3e2-4128-b66b-1c48903e11d0",
   "metadata": {},
   "source": [
    "Due to their relative simplicity and amenability to symbolic analysis, isoviscous models were among the earliest published mantle convection models {cite}`McKenzie1973-gt,McKenzie1974-wb,Jarvis1986-me,Blankenbach1989-li`, and they continue to be produced and discussed today {cite}`Zhong2005-lh,Weller2016-cc,Weller2016-nm,Vilella2018-il`.\n",
    "\n",
    "In an isoviscous model, the viscosity function (usually set to $\\eta=1$) is constant throughout space and time. Though simple, it is nevertheless able to reproduce appropriate surface velocities, gravitational profiles, and even topographic wavelengths {cite}`McKenzie1973-gt,McKenzie1974-wb`. Though its parameters are few, there remain limitless possible variations through *Rayleigh* number, internal heat $H$, domain geometry, and choice of boundary condition - many of which boast long-term stability solutions with enough implicit nonlinearity to make purely analytical studies infeasible {cite}`Daly1980-xl`. Even within each parameter set, chaotic dynamics ensure that two nearly identical configurations may yet have wildly divergent outcomes {cite}`Stewart1989-os,Palymskiy2003-fq`. And while the isoviscous model is certainly the most computationally tractable of all mantle-like rheologies, it is only in the last decade that long-run simulations of appropriate scale for the Earth ($\\mathrm{Ra}>10^7$) have become possible {cite}`Vynnycky2013-wg,Trubitsyn2018-jo`; these have confirmed earlier intuitions that stable convective planforms may not exist, or at least may never manifest on planetary spatiotemporal scales {cite}`Huttig2011-jt`.\n",
    "\n",
    "Although the isoviscous model does bely considerable complexity, it is simple enough to make some solutions analytically attainable. Like all convecting systems, a 'critical' *Rayleigh* number $\\mathrm{Ra}_{\\mathrm{cr}}$ should exist below which convection ceases and conduction dominates (i.e. $\\mathrm{Nu}=1$), defining a 'supercritical $\\mathrm{Ra}$':\n",
    "\n",
    "$$ R \\equiv \\frac{\\mathrm{Ra}}{\\mathrm{Ra}_{\\mathrm{cr}}} $$\n",
    "\n",
    "What occurs at any given value of $R$ is determined by the availability of a certain 'critical' wavelength of thermal perturbation. A thermal perturbation at the critical wavelength is guaranteed to grow faster than any other perturbation at any other wavelength - but there is no guarantee that even a critical perturbation such as this will grow fast enough to overcome the conductive geotherm and establish convection. At $R<1$, the conductive timescale is always quicker than the convective timescale, even for a critical perturbation. At values of $R>1$, there is always at least one perturbation wavelength that is fast enough to outstrip conduction and establish a convective geotherm. Increasing $R$ beyond $1$ makes more wavelengths available for convective growth, until at extreme values ($\\mathrm{Ra} >> 10^7$) even artificial heterogeneities introduced by random noise can grow, such that large-scale models become overwhelmingly time-dependent {cite}`Jarvis1984-xo`. Between these sub- and super-critical scenarios lies the point $R=1$, where the growth timescale of a critical perturbation is comparable to the conductive timescale, and the two thermal mechanisms are in perpetual contention.\n",
    "\n",
    "Remarkably, the value of the critical wavelength $\\mathrm{Ra}_{\\mathrm{cr}}$ is independent of the thermal properties of the system and, for the sorts of plane box geometries under discussion here, should theoretically be exactly $\\sqrt{2}$ {cite}`Chandrasekhar1961-ez`. Whether that wavelength is actually *available* is another question. A domain whose aspect ratio $A$ is smaller than $\\sqrt{2}$ is forced to make do with perturbations of a maximum wavelength of $A$. The effect of this is to create a dependency of $\\mathrm{Ra}_{\\mathrm{cr}}$ on $A$ such that {cite}`Malkus1954-ee`:\n",
    "\n",
    "$$ \\mathrm{Ra}_{\\mathrm{cr}} = \\min_{x > 0} \\frac{\\pi^4 \\left( 1 + A^2 \\right)^3}{A^4} $$\n",
    "\n",
    "At any value of $A$ greater than the 'global' critical wavelength of $\\sqrt{2}$, we find that the critical *Rayleigh* number should come to:\n",
    "\n",
    "$$ \\mathrm{Ra}_{\\mathrm{cr}} = \\frac{27\\pi^4}{4} \\approx 657.5 $$\n",
    "\n",
    "By comparison, at the unit aspect ratios typically modelled ($A=1$), the value of $\\mathrm{Ra}_{\\mathrm{cr}}$ lies instead at ({cite}`Grover1968-wa`):\n",
    "\n",
    "$$ \\mathrm{Ra}_{\\mathrm{cr}} = 2^3\\pi^4 \\approx 779.3 $$\n",
    "\n",
    "A value which is borne out in laboratory testing {cite}`Whitehead2011-gs`."
   ]
  },
  {
   "cell_type": "code",
   "execution_count": 2,
   "id": "4f75d00a-023b-4cf7-9370-173ecf863a8f",
   "metadata": {
    "editable": true,
    "slideshow": {
     "slide_type": ""
    },
    "tags": [
     "remove-cell"
    ]
   },
   "outputs": [],
   "source": [
    "canvas = Canvas(size=(4, 4))\n",
    "ax = canvas.make_ax()\n",
    "\n",
    "crit_func = lambda A: maths.pi**4 * (1 + A**2)**3 / A**4\n",
    "\n",
    "xchan = Channel(\n",
    "    tuple(val / 100 for val in range(30, 201)),\n",
    "    label='$A$',\n",
    "    )\n",
    "ychan = Channel(\n",
    "    tuple(map(crit_func, xchan.data)),\n",
    "    label=r'$\\mathrm{Ra}_{\\mathrm{notional}}$',\n",
    "    log=True,\n",
    "    )\n",
    "\n",
    "ax.line(\n",
    "    xchan, ychan,\n",
    "    color='tab:blue',\n",
    "    )\n",
    "\n",
    "dashed_xchan = Channel(\n",
    "    tuple(val / 100 for val in range(1, 301)),\n",
    "    capped=(False, True)\n",
    "    )\n",
    "dashed_ychan = Channel(\n",
    "    tuple(map(crit_func, dashed_xchan.data)),\n",
    "    log=True,\n",
    "    lims=(None, 10**8),\n",
    "    )\n",
    "dashed_line = ax.line(\n",
    "    dashed_xchan, dashed_ychan,\n",
    "    linestyle='--',\n",
    "    color='tab:blue'\n",
    "    )\n",
    "\n",
    "ymin = np.min(ychan.data)\n",
    "xmin = xchan.data[np.where(ychan.data == np.min(ychan.data))[0][0]]\n",
    "\n",
    "ax.annotate(\n",
    "    xmin, ymin,\n",
    "    ''.join((\n",
    "        r\"\\begin{eqnarray*}\",\n",
    "        r\"A &=& \\sqrt{2},\\\\\",\n",
    "        (r\"\\mathrm{Ra}_\\mathrm{cr} &\\approx&\"+str(round(10**ymin, 1))),\n",
    "        r\"\\end{eqnarray*}\",\n",
    "        )),\n",
    "    points=(0, 60),\n",
    "    )\n",
    "\n",
    "# ax.props.title.text = r\"\\beta = \\frac{1}{3}\"\n",
    "ax.props.title.visible = True\n",
    "\n",
    "canvas.save('critical_ra_aspect_law')"
   ]
  },
  {
   "cell_type": "markdown",
   "id": "82e5e591-d6b4-4bfa-9ec2-3298c24404cc",
   "metadata": {},
   "source": [
    "```{figure} ../content/chapter_04_isoviscous/background/critical_ra_aspect_law.png\n",
    ":critical_ra_aspect_law:\n",
    ":alt: A graph of how 'notional' *Rayleigh* number relates to the aspect ratio.\n",
    ":width: 350px\n",
    ":align: right\n",
    "\n",
    "The global minimum of the curve of aspect ratio to 'notional' *Rayleigh* number gives the 'critical' *Rayleigh* number below which convection yields to conduction.\n",
    "```"
   ]
  },
  {
   "cell_type": "markdown",
   "id": "0ecba171-f666-4518-8a80-ca9d5b1796a5",
   "metadata": {
    "editable": true,
    "slideshow": {
     "slide_type": ""
    },
    "tags": [
     "remove-cell"
    ]
   },
   "source": [
    "```{figure} /home/ubuntu/workspace/book/content/chapter_04_isoviscous/background/critical_ra_aspect_law.png\n",
    ":critical_ra_aspect_law:\n",
    ":alt: A graph of how 'notional' *Rayleigh* number relates to the aspect ratio.\n",
    ":width: 350px\n",
    ":align: right\n",
    "\n",
    "The global minimum of the curve of aspect ratio to 'notional' *Rayleigh* number gives the 'critical' *Rayleigh* number below which convection yields to conduction.\n",
    "```"
   ]
  },
  {
   "cell_type": "markdown",
   "id": "52fc1c66-2e4f-4251-a76a-31a5051fce63",
   "metadata": {},
   "source": [
    "```{figure} ../content/chapter_04_isoviscous/background/critical_ra_aspect_law.png\n",
    ":critical_ra_aspect_law:\n",
    ":alt: A graph of how 'notional' *Rayleigh* number relates to the aspect ratio.\n",
    ":width: 350px\n",
    ":align: right\n",
    "\n",
    "The global minimum of the curve of aspect ratio to 'notional' *Rayleigh* number gives the 'critical' *Rayleigh* number below which convection yields to conduction.\n",
    "```"
   ]
  },
  {
   "cell_type": "markdown",
   "id": "b89d18b8-ee01-4ee9-b20a-a94fdc5c8385",
   "metadata": {},
   "source": [
    "While heat may be transported by convection in the interior of the system, heat may only cross in or out of the system as a whole via conduction. This occurs across two thin layers at the outer and inner boundaries. Since we stipulate that these layers are purely conductive, a *Rayleigh* number defined only across each layer must be below the critical value for that layer: ${\\mathrm{Ra}}_{layer} < {{\\mathrm{Ra}}_{layer}}_{\\mathrm{cr}}$ `Olson1987-do`. This is the first observation of boundary layer theory, whence can be deduced the following fundamental power law relationship between the *Rayleigh* and *Nusselt* numbers {cite}`Schubert2001-ea`:\n",
    "\n",
    "$$ \\mathrm{Nu} \\propto \\mathrm{Ra}^{\\beta}, \\quad \\beta \\to \\frac{1}{3} $$\n",
    "\n",
    "Where $\\mathrm{Nu}$ is the Nusselt number. The coefficient of proportionality is theoretically $\\approx 0.1941$ {cite}`Olson1987-do`, though it has been argued that its value will tend to be dominated by uncertainty in practice {cite}`Lenardic2003-wd`; reported values have ranged between $0.25-0.27$ {cite}`Olson1987-do,Jarvis1989-qj`.\n",
    "\n",
    "An equivalent scaling {cite}`Jarvis1982-ua` has instead:\n",
    "\n",
    "$$ \\mathrm{Nu} \\propto R^{\\beta} $$\n",
    "\n",
    "Where $R$, again, is the proportion by which $\\mathrm{Ra}$ exceeds $\\mathrm{Ra}_{\\mathrm{cr}}$.\n",
    "\n",
    "Defining $\\mathrm{Ra}$ in this way preserves the value of $\\beta$ insofar as $\\mathrm{Ra}^{\\mathrm{cr}}$ is independent of it, but allows the coefficient of proportionality to relate more strictly to non-thermal factors like the domain geometry - for example the aspect ratio, which (above a certain threshold) has been observed to stretch or compress the planform horizontally without changing the underlying boundary stability criteria {cite}`Jarvis1982-ua`.\n",
    "\n",
    "Another neat implication of the $\\beta$ law is that $ \\mathrm{Nu} \\to 1 $ as $ R \\to 1 $. This is intuitive because $ \\mathrm{Nu} \\to 1 $ when convection collapses, which is just what is implied by $ R \\to 1 $. However, we do have to be careful when considering subcritical values of $\\mathrm{Ra}$, which - if the $\\beta$ scaling is taken literally - would drive $\\mathrm{Nu}$ to values below one: a sub-conductive geotherm. While a scenario like this could conceivably obtain over the short term - potentially even as a consequence of abrupt convective failure, as the scaling law suggests - it could not persist over the long term due to the relatively rapid rate of thermal diffusion relative to planetary timescales. Thus it is arguably inappropriate for a steady-state scaling law to project $\\mathrm{Nu} < 1$ in any scenario whatsoever:\n",
    "\n",
    "$$\n",
    "\\mathrm{Nu} =\n",
    "\\begin{cases} \n",
    "k R^{\\beta}, & R > 1 \\\\\n",
    "1 &\n",
    "\\end{cases} \\quad k \\ge 1\n",
    "$$\n",
    "\n",
    "A conditional definition like this implies a piecewise function. If the relation is in fact continuous, as would be natural, the behaviour at the limit $R \\to 1$ is unclear. In practice, as we have discussed, the fate of any convecting system near this boundary will be heavily controlled by the particular distribution of hot and cold material at any given time."
   ]
  },
  {
   "cell_type": "code",
   "execution_count": null,
   "id": "902e4b39-3ff1-46dd-b91c-592fc66db88d",
   "metadata": {
    "tags": [
     "remove-input"
    ]
   },
   "outputs": [],
   "source": [
    "canvas = Canvas(size=(4.5, 3))\n",
    "ax = canvas.make_ax()\n",
    "\n",
    "xchan = Channel(\n",
    "    tuple(val / 10 for val in range(81)),\n",
    "    label='R', capped=(True, True),\n",
    "    )\n",
    "ychan = Channel(\n",
    "    tuple(map(lambda x: 1 if x < 1 else x**(1/3), xchan.data)),\n",
    "    label=r'\\mathrm{Nu} (k)', capped=(True, True)\n",
    "    )\n",
    "ax.line(xchan, ychan)\n",
    "\n",
    "ax.props.title.text = r\"\\beta = \\frac{1}{3}\"\n",
    "ax.props.title.visible = True\n",
    "\n",
    "canvas"
   ]
  },
  {
   "cell_type": "markdown",
   "id": "d7f45232-05d9-4e44-ba58-cc3ffd94a168",
   "metadata": {},
   "source": [
    "In any case, at the state where $\\mathrm{Nu}$ satisfies the $\\beta$ law, the interior of each cell becomes a homogeneous region of uniform temperature $T^{cell}$ and variable but low velocities, with strong gradients and shears at the margins, and overall cell dimensions approaching an aspect ratio of $\\sqrt{2}$. Because of the fixed temperature scale, the only way heat transport can be enhanced in such a system is by thinning the boundary layers, which in practice occurs by dripping/pluming until only the theoretical stable boundary thickness is left. For this reason, $\\mathrm{Nu}$ also functions as a useful proxy for boundary layer thickness when this is otherwise hard to define.\n",
    "\n",
    "The canonical $\\beta$ scaling is seductive because it connects the relatively well-constrained fact of surface geothermal flux with the more mysterious thermal state of the mantle, and so allows parameterised thermal histories to be projected through deep time. The $\\beta \\to \\frac{1}{3}$ limit itself ultimately derives from the *Rayleigh* number's dependence on length cubed, and while there is no *a priori* reason to believe that this analytical justification must be borne out in practice, it has been recognised as extremely suggestive for over half a century {cite}`Chan1971-xv`. Testing this scaling behaviour empirically was an early priority of computational geodynamics, with several studies producing estimates that converged on, but did not achieve, the theoretical $\\frac{1}{3}$ scaling: the value has been reported as any of $0.313$ {cite}`Jarvis1982-ua`, $0.318$ {cite}`Jarvis1986-me`, $0.319$ {cite}`Schubert1985-sy`, $0.326$ {cite}`Jarvis1989-qj`, $0.36$ {cite}`Quareni1985-ff`, and $0.31$ {cite}`Niemela2000-cu`, using various methods both numerical and laboratory-based. The reason for the deviation is uncertain. One possibility is that the boundary layer instability theory is only valid in the limit $\\mathrm{Ra}\\to\\infty$ {cite}`Olson1987-do`. Alternatively, high $\\mathrm{Ra}$ values may witness transitions to alternate scaling logics altogether - perhaps lowering $\\beta$. It has even been suggested that, at very high *Rayleigh* numbers, an 'asymptotic regime' of $\\beta \\to \\frac{1}{2}$ might emerge, though nothing like this has been observed in practice {cite}`Niemela2000-cu`.\n",
    "\n",
    "While the $\\beta$ scaling strictly holds only for those isoviscous systems with purely basal (no volumetric) heating, Cartesian geometry, and free-slip boundaries, it has been found to hold for a wide range of systems if certain corrections are made {cite}`Schubert2001-ea`."
   ]
  }
 ],
 "metadata": {
  "kernelspec": {
   "display_name": "Python 3 (ipykernel)",
   "language": "python",
   "name": "python3"
  },
  "language_info": {
   "codemirror_mode": {
    "name": "ipython",
    "version": 3
   },
   "file_extension": ".py",
   "mimetype": "text/x-python",
   "name": "python",
   "nbconvert_exporter": "python",
   "pygments_lexer": "ipython3",
   "version": "3.13.3"
  }
 },
 "nbformat": 4,
 "nbformat_minor": 5
}
