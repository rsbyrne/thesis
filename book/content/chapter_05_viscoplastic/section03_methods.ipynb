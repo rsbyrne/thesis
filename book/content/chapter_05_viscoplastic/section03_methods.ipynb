{
 "cells": [
  {
   "cell_type": "markdown",
   "id": "common-plenty",
   "metadata": {},
   "source": [
    "# Method"
   ]
  }
 ],
 "metadata": {
  "kernelspec": {
   "display_name": "",
   "name": ""
  },
  "language_info": {
   "name": ""
  }
 },
 "nbformat": 4,
 "nbformat_minor": 5
}
