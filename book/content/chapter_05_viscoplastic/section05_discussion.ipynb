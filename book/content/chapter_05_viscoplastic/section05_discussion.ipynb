{
 "cells": [
  {
   "cell_type": "markdown",
   "id": "developed-defendant",
   "metadata": {},
   "source": [
    "# Discussion"
   ]
  }
 ],
 "metadata": {
  "kernelspec": {
   "display_name": "",
   "name": ""
  },
  "language_info": {
   "name": ""
  }
 },
 "nbformat": 4,
 "nbformat_minor": 5
}
