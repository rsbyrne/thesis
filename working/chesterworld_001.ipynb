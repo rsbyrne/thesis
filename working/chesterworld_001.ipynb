{
 "cells": [
  {
   "cell_type": "code",
   "execution_count": null,
   "id": "olive-satisfaction",
   "metadata": {},
   "outputs": [],
   "source": [
    "import numpy as _np\n",
    "from scipy.spatial.ckdtree import cKDTree as _cKDTree"
   ]
  },
  {
   "cell_type": "code",
   "execution_count": null,
   "id": "illegal-seller",
   "metadata": {},
   "outputs": [],
   "source": [
    "nAgents = 10_000_000\n",
    "nTimes = 4\n",
    "dtype = 'uint8'\n",
    "schedule = _np.random.randint(0, 2**8, (nAgents, nTimes, 3), dtype = dtype)\n",
    "trackSched = timeCoords[0]"
   ]
  },
  {
   "cell_type": "code",
   "execution_count": null,
   "id": "occupational-vehicle",
   "metadata": {},
   "outputs": [],
   "source": [
    "timeCoords.nbytes / 2**20"
   ]
  },
  {
   "cell_type": "code",
   "execution_count": null,
   "id": "attempted-import",
   "metadata": {},
   "outputs": [],
   "source": [
    "%timeit _np.argwhere(schedule[:, :, 0] == trackSched[:, 0])"
   ]
  },
  {
   "cell_type": "code",
   "execution_count": null,
   "id": "accessible-browse",
   "metadata": {},
   "outputs": [],
   "source": [
    "%timeit _np.nonzero(schedule[:, :, 0] == trackSched[:, 0])"
   ]
  },
  {
   "cell_type": "code",
   "execution_count": null,
   "id": "another-laundry",
   "metadata": {},
   "outputs": [],
   "source": [
    "_np.argwhere(schedule[:, :, 0] == trackSched[:, 0])"
   ]
  },
  {
   "cell_type": "code",
   "execution_count": null,
   "id": "exterior-silence",
   "metadata": {},
   "outputs": [],
   "source": [
    "%timeit subSchedule = schedule[_np.nonzero(schedule[:, :, 0] == trackSched[:, 0])[0]]"
   ]
  },
  {
   "cell_type": "code",
   "execution_count": null,
   "id": "played-circle",
   "metadata": {},
   "outputs": [],
   "source": [
    "%timeit _np.argwhere(subSchedule[:, :, 0] == trackSched[:, 0])"
   ]
  },
  {
   "cell_type": "code",
   "execution_count": null,
   "id": "satisfactory-challenge",
   "metadata": {},
   "outputs": [],
   "source": [
    "area = 35000 #km2 == area of met NY\n",
    "zoom = 3\n",
    "edge = _np.sqrt(area / (256 ** zoom)) # in km\n",
    "edge"
   ]
  }
 ],
 "metadata": {
  "kernelspec": {
   "display_name": "Python 3",
   "language": "python",
   "name": "python3"
  },
  "language_info": {
   "codemirror_mode": {
    "name": "ipython",
    "version": 3
   },
   "file_extension": ".py",
   "mimetype": "text/x-python",
   "name": "python",
   "nbconvert_exporter": "python",
   "pygments_lexer": "ipython3",
   "version": "3.8.6"
  }
 },
 "nbformat": 4,
 "nbformat_minor": 5
}
