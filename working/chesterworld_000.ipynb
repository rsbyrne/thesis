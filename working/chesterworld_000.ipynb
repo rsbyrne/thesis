{
 "cells": [
  {
   "cell_type": "code",
   "execution_count": null,
   "id": "coupled-state",
   "metadata": {},
   "outputs": [],
   "source": [
    "from functools import lru_cache as _lru_cache\n",
    "import numpy as _np\n",
    "\n",
    "class ChestersWorld:\n",
    "    def __init__(self,\n",
    "            nAgents = int(1e5),\n",
    "            nPlaces = int(1e4),\n",
    "            nTimes = 24 * 4,\n",
    "            nCases = 100,\n",
    "            rSeed = 1066,\n",
    "            chance = 0.1,\n",
    "            ):\n",
    "        self.nAgents, self.nPlaces, self.nTimes, self.nCases, self.rSeed, self.chance = \\\n",
    "            nAgents, nPlaces, nTimes, nCases, rSeed, chance\n",
    "    def initialise(self):\n",
    "        nAgents, nPlaces, nTimes, nCases, rSeed = \\\n",
    "            self.nAgents, self.nPlaces, self.nTimes, self.nCases, self.rSeed\n",
    "        self.rng = rng = _np.random.default_rng(rSeed)\n",
    "        self.schedule = _np.random.randint(1, nPlaces, (nAgents, nTimes), dtype = 'uint32')\n",
    "        self.status = status = _np.zeros(nAgents, dtype = bool)\n",
    "        status[rng.choice(_np.arange(nAgents), nCases, replace = False)] = True\n",
    "        self.contactLog = []\n",
    "        self.day = 0\n",
    "    def iterate(self):\n",
    "        schedule, status, contactLog, day, rng, chance = \\\n",
    "            self.schedule, self.status, self.contactLog, self.day, self.rng, self.chance\n",
    "        for contacter in _np.nonzero(status)[0]:\n",
    "            colocs = _np.argwhere(schedule == schedule[contacter])\n",
    "            for contactee, timeSlot in colocs:\n",
    "                place = schedule[contactee, timeSlot]\n",
    "                if rng.random() < chance:\n",
    "                    contactEvent = (day, timeSlot, place, contacter, contactee)\n",
    "                    contactLog.append(contactEvent)\n",
    "        day += 1\n",
    "    def go(self, n, /):\n",
    "        for i in range(n):\n",
    "            self.iterate()\n",
    "    def __hash__(self):\n",
    "        return hash((self.nAgents, self.nPlaces, self.nTimes))"
   ]
  },
  {
   "cell_type": "code",
   "execution_count": null,
   "id": "unlikely-suicide",
   "metadata": {},
   "outputs": [],
   "source": [
    "mymodel = ChestersWorld(\n",
    "    nAgents = int(1e6),\n",
    "    nPlaces = int(1e5),\n",
    "    nTimes = 24 * 6,\n",
    "    nCases = 1,\n",
    "    )bash"
   ]
  },
  {
   "cell_type": "code",
   "execution_count": null,
   "id": "another-notice",
   "metadata": {},
   "outputs": [],
   "source": [
    "# %%timeit\n",
    "mymodel.initialise()"
   ]
  },
  {
   "cell_type": "code",
   "execution_count": null,
   "id": "occupied-religion",
   "metadata": {},
   "outputs": [],
   "source": [
    "%%timeit\n",
    "mymodel.iterate()"
   ]
  }
 ],
 "metadata": {
  "kernelspec": {
   "display_name": "Python 3",
   "language": "python",
   "name": "python3"
  },
  "language_info": {
   "codemirror_mode": {
    "name": "ipython",
    "version": 3
   },
   "file_extension": ".py",
   "mimetype": "text/x-python",
   "name": "python",
   "nbconvert_exporter": "python",
   "pygments_lexer": "ipython3",
   "version": "3.8.6"
  }
 },
 "nbformat": 4,
 "nbformat_minor": 5
}
