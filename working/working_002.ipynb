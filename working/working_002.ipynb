{
 "cells": [
  {
   "cell_type": "code",
   "execution_count": 34,
   "id": "attempted-sunday",
   "metadata": {},
   "outputs": [
    {
     "name": "stdout",
     "output_type": "stream",
     "text": [
      "2 (4, 8)\n",
      "2.5 (4, 8)\n",
      "3.0 (4, 8)\n",
      "3.5 (8, 12)\n",
      "4.0 (8, 16)\n",
      "4.5 (12, 24)\n",
      "5.0 (16, 32)\n",
      "5.5 (24, 44)\n",
      "6.0 (32, 64)\n",
      "6.5 (48, 92)\n",
      "7.0 (64, 128)\n"
     ]
    }
   ],
   "source": [
    "alphaexp = 2\n",
    "while alphaexp <= 7.:\n",
    "    fine = max(8, round(2 ** alphaexp / 4) * 4)\n",
    "    coarse = max(4, round(fine // 2 / 4) * 4)\n",
    "    print(alphaexp, (coarse, fine))\n",
    "    assert not fine % 4\n",
    "    assert not coarse % 4\n",
    "    alphaexp = round(alphaexp + 0.5, 1)"
   ]
  },
  {
   "cell_type": "code",
   "execution_count": 36,
   "id": "religious-pointer",
   "metadata": {},
   "outputs": [
    {
     "data": {
      "text/plain": [
       "14.116666666666667"
      ]
     },
     "execution_count": 36,
     "metadata": {},
     "output_type": "execute_result"
    }
   ],
   "source": [
    "11 * 11 * 14 / 10 / 12"
   ]
  },
  {
   "cell_type": "code",
   "execution_count": null,
   "id": "defined-transcription",
   "metadata": {},
   "outputs": [],
   "source": [
    "myfile = open('tesfile.txt', mode = 'w')"
   ]
  },
  {
   "cell_type": "code",
   "execution_count": null,
   "id": "filled-absolute",
   "metadata": {},
   "outputs": [],
   "source": [
    "myfile2 = open('tesfile.txt', mode = 'w')"
   ]
  },
  {
   "cell_type": "code",
   "execution_count": null,
   "id": "architectural-wound",
   "metadata": {},
   "outputs": [],
   "source": [
    "myfile"
   ]
  },
  {
   "cell_type": "code",
   "execution_count": null,
   "id": "moved-operations",
   "metadata": {},
   "outputs": [],
   "source": [
    "myfile2"
   ]
  },
  {
   "cell_type": "code",
   "execution_count": null,
   "id": "controlled-delicious",
   "metadata": {},
   "outputs": [],
   "source": [
    "myfile.close()"
   ]
  },
  {
   "cell_type": "code",
   "execution_count": null,
   "id": "worldwide-township",
   "metadata": {},
   "outputs": [],
   "source": [
    "myfile2.close()"
   ]
  },
  {
   "cell_type": "code",
   "execution_count": null,
   "id": "patent-fruit",
   "metadata": {},
   "outputs": [],
   "source": [
    "myfile.close()"
   ]
  },
  {
   "cell_type": "code",
   "execution_count": null,
   "id": "directed-johnston",
   "metadata": {},
   "outputs": [],
   "source": [
    "FileExistsError"
   ]
  },
  {
   "cell_type": "code",
   "execution_count": null,
   "id": "ancient-repository",
   "metadata": {},
   "outputs": [],
   "source": [
    "import os"
   ]
  },
  {
   "cell_type": "code",
   "execution_count": null,
   "id": "lesser-bleeding",
   "metadata": {},
   "outputs": [],
   "source": [
    "os.remove('mymadeupfile')"
   ]
  },
  {
   "cell_type": "code",
   "execution_count": null,
   "id": "canadian-account",
   "metadata": {},
   "outputs": [],
   "source": [
    "import time\n",
    "import random"
   ]
  },
  {
   "cell_type": "code",
   "execution_count": null,
   "id": "appreciated-medline",
   "metadata": {},
   "outputs": [],
   "source": [
    "time.sleep(random.random())"
   ]
  },
  {
   "cell_type": "code",
   "execution_count": null,
   "id": "greek-basics",
   "metadata": {},
   "outputs": [],
   "source": [
    "FileExistsError"
   ]
  },
  {
   "cell_type": "code",
   "execution_count": null,
   "id": "distributed-junior",
   "metadata": {},
   "outputs": [],
   "source": [
    "import subprocess"
   ]
  },
  {
   "cell_type": "code",
   "execution_count": null,
   "id": "organic-transformation",
   "metadata": {},
   "outputs": [],
   "source": [
    "myproc = subprocess.Popen"
   ]
  },
  {
   "cell_type": "code",
   "execution_count": null,
   "id": "conscious-texture",
   "metadata": {},
   "outputs": [],
   "source": [
    "help(myproc)"
   ]
  },
  {
   "cell_type": "code",
   "execution_count": null,
   "id": "common-updating",
   "metadata": {},
   "outputs": [],
   "source": [
    "exec"
   ]
  },
  {
   "cell_type": "code",
   "execution_count": null,
   "id": "metric-stanford",
   "metadata": {},
   "outputs": [],
   "source": [
    "import Path"
   ]
  },
  {
   "cell_type": "code",
   "execution_count": null,
   "id": "opponent-stream",
   "metadata": {},
   "outputs": [],
   "source": [
    "from pathlib import Path"
   ]
  },
  {
   "cell_type": "code",
   "execution_count": null,
   "id": "retained-deployment",
   "metadata": {},
   "outputs": [],
   "source": [
    "mypath = Path('mymadeuppath')"
   ]
  },
  {
   "cell_type": "code",
   "execution_count": null,
   "id": "transparent-smoke",
   "metadata": {},
   "outputs": [],
   "source": [
    "ARG1, *ARGN = (0, 10, 30, 3)\n",
    "\n",
    "list(itertools.product(\n",
    "    [float(a) for a in np.round(10. ** np.linspace(0, 5, 11), 3)],\n",
    "    [float(a) for a in np.round(np.linspace(1., 0.5, 11), 3)],\n",
    "    [float(a) for a in np.round(10 ** np.linspace(-2, 1, 13), 3)],\n",
    "    ))[slice(*ARGN)][ARG1]"
   ]
  },
  {
   "cell_type": "code",
   "execution_count": null,
   "id": "hybrid-sapphire",
   "metadata": {},
   "outputs": [],
   "source": [
    "combos = list(itertools.product(\n",
    "    [float(a) for a in np.round(10. ** np.linspace(0, 5, 11), 3)],\n",
    "    [float(a) for a in np.round(np.linspace(1., 0.5, 11), 3)],\n",
    "    [float(a) for a in np.round(10 ** np.linspace(-2, 1, 13), 3)],\n",
    "    ))"
   ]
  },
  {
   "cell_type": "code",
   "execution_count": null,
   "id": "superior-contents",
   "metadata": {},
   "outputs": [],
   "source": [
    "import os"
   ]
  },
  {
   "cell_type": "code",
   "execution_count": null,
   "id": "mobile-shock",
   "metadata": {},
   "outputs": [],
   "source": [
    "import string"
   ]
  },
  {
   "cell_type": "code",
   "execution_count": null,
   "id": "continuing-angola",
   "metadata": {},
   "outputs": [],
   "source": [
    "string.ascii_lowercase[slice(0, None, 3)]"
   ]
  },
  {
   "cell_type": "code",
   "execution_count": null,
   "id": "vertical-incentive",
   "metadata": {},
   "outputs": [],
   "source": [
    "string.ascii_lowercase[slice(1, None, 3)]"
   ]
  },
  {
   "cell_type": "code",
   "execution_count": null,
   "id": "matched-importance",
   "metadata": {},
   "outputs": [],
   "source": [
    "string.ascii_lowercase[slice(2, None, 3)]"
   ]
  },
  {
   "cell_type": "code",
   "execution_count": null,
   "id": "victorian-american",
   "metadata": {},
   "outputs": [],
   "source": [
    "string.ascii_lowercase[slice(3, None, 3)]"
   ]
  },
  {
   "cell_type": "code",
   "execution_count": null,
   "id": "constant-sequence",
   "metadata": {},
   "outputs": [],
   "source": [
    "import subprocess"
   ]
  },
  {
   "cell_type": "code",
   "execution_count": null,
   "id": "informational-brunei",
   "metadata": {},
   "outputs": [],
   "source": [
    "2 ** 7"
   ]
  },
  {
   "cell_type": "code",
   "execution_count": null,
   "id": "consolidated-rider",
   "metadata": {},
   "outputs": [],
   "source": [
    "alphaexp = 2.\n",
    "res = 8\n",
    "\n",
    "while alphaexp < 7.:\n",
    "    alphaexp = round(alphaexp + 0.1, 1)\n",
    "    res = round(2 ** alphaexp / 4) * 4\n",
    "    print(alphaexp, res)"
   ]
  },
  {
   "cell_type": "code",
   "execution_count": null,
   "id": "mysterious-zimbabwe",
   "metadata": {},
   "outputs": [],
   "source": [
    "try:\n",
    "    raise IndexError()\n",
    "except Exception as exc:\n",
    "    print(type(exc))"
   ]
  },
  {
   "cell_type": "code",
   "execution_count": null,
   "id": "antique-catering",
   "metadata": {},
   "outputs": [],
   "source": [
    "'0'.zfill(8)"
   ]
  },
  {
   "cell_type": "code",
   "execution_count": null,
   "id": "atmospheric-cabin",
   "metadata": {},
   "outputs": [],
   "source": [
    "combos[slice(1, None, 10)]"
   ]
  },
  {
   "cell_type": "code",
   "execution_count": null,
   "id": "parallel-square",
   "metadata": {},
   "outputs": [],
   "source": [
    "combos[slice(0, None, 10)]"
   ]
  },
  {
   "cell_type": "code",
   "execution_count": null,
   "id": "productive-elite",
   "metadata": {},
   "outputs": [],
   "source": [
    "'abc'[:int('-1')]"
   ]
  },
  {
   "cell_type": "code",
   "execution_count": null,
   "id": "recent-cornwall",
   "metadata": {},
   "outputs": [],
   "source": [
    "len(combos)"
   ]
  },
  {
   "cell_type": "code",
   "execution_count": null,
   "id": "equipped-agenda",
   "metadata": {},
   "outputs": [],
   "source": [
    "np.linspace(2.5, 7.5, 21)"
   ]
  },
  {
   "cell_type": "code",
   "execution_count": null,
   "id": "affecting-feelings",
   "metadata": {},
   "outputs": [],
   "source": [
    "import math\n",
    "\n",
    "for alphaexp in np.linspace(2.5, 7.5, 21):\n",
    "    print(alphaexp, min(64, max(16, 2 ** math.floor(alphaexp))))"
   ]
  },
  {
   "cell_type": "code",
   "execution_count": null,
   "id": "smart-neighborhood",
   "metadata": {},
   "outputs": [],
   "source": []
  },
  {
   "cell_type": "code",
   "execution_count": null,
   "id": "certified-questionnaire",
   "metadata": {},
   "outputs": [],
   "source": [
    "import sys"
   ]
  },
  {
   "cell_type": "code",
   "execution_count": null,
   "id": "agricultural-mixture",
   "metadata": {},
   "outputs": [],
   "source": [
    "sys.argv[4]"
   ]
  },
  {
   "cell_type": "code",
   "execution_count": null,
   "id": "expensive-shape",
   "metadata": {},
   "outputs": [],
   "source": []
  },
  {
   "cell_type": "code",
   "execution_count": null,
   "id": "reliable-hepatitis",
   "metadata": {},
   "outputs": [],
   "source": [
    "try:\n",
    "    raise IndexError\n",
    "except IndexError as exc:\n",
    "    raise Exception from IndexError"
   ]
  },
  {
   "cell_type": "code",
   "execution_count": null,
   "id": "interesting-sheriff",
   "metadata": {},
   "outputs": [],
   "source": [
    "round(time.time())"
   ]
  },
  {
   "cell_type": "code",
   "execution_count": null,
   "id": "fuzzy-discussion",
   "metadata": {},
   "outputs": [],
   "source": [
    "import itertools\n",
    "\n",
    "import numpy as np"
   ]
  },
  {
   "cell_type": "code",
   "execution_count": null,
   "id": "exotic-virtue",
   "metadata": {},
   "outputs": [],
   "source": [
    "import glob"
   ]
  },
  {
   "cell_type": "code",
   "execution_count": null,
   "id": "preliminary-investigator",
   "metadata": {},
   "outputs": [],
   "source": [
    "glob.glob('working*')"
   ]
  },
  {
   "cell_type": "code",
   "execution_count": null,
   "id": "unlimited-myanmar",
   "metadata": {},
   "outputs": [],
   "source": [
    "import subprocess"
   ]
  },
  {
   "cell_type": "code",
   "execution_count": null,
   "id": "willing-marks",
   "metadata": {},
   "outputs": [],
   "source": [
    "help(subprocess.run)"
   ]
  },
  {
   "cell_type": "code",
   "execution_count": null,
   "id": "bound-beauty",
   "metadata": {},
   "outputs": [],
   "source": [
    "subprocess.run"
   ]
  },
  {
   "cell_type": "code",
   "execution_count": null,
   "id": "entitled-canyon",
   "metadata": {},
   "outputs": [],
   "source": [
    "subprocess."
   ]
  },
  {
   "cell_type": "code",
   "execution_count": null,
   "id": "frozen-means",
   "metadata": {},
   "outputs": [],
   "source": [
    "import a"
   ]
  },
  {
   "cell_type": "code",
   "execution_count": null,
   "id": "final-suffering",
   "metadata": {},
   "outputs": [],
   "source": [
    "dir(sys)"
   ]
  },
  {
   "cell_type": "code",
   "execution_count": null,
   "id": "handled-blackberry",
   "metadata": {},
   "outputs": [],
   "source": []
  },
  {
   "cell_type": "code",
   "execution_count": null,
   "id": "public-academy",
   "metadata": {},
   "outputs": [],
   "source": [
    "list(itertools.product(\n",
    "    [float(a) for a in np.round(10. ** np.linspace(0, 5, 11), 3)],\n",
    "    [float(a) for a in np.round(np.linspace(1., 0.5, 11), 3)],\n",
    "    [float(a) for a in np.round(10 ** np.linspace(-2, 1, 13), 3)],\n",
    "    ))"
   ]
  },
  {
   "cell_type": "code",
   "execution_count": null,
   "id": "confident-metro",
   "metadata": {},
   "outputs": [],
   "source": []
  }
 ],
 "metadata": {
  "kernelspec": {
   "display_name": "Python 3",
   "language": "python",
   "name": "python3"
  },
  "language_info": {
   "codemirror_mode": {
    "name": "ipython",
    "version": 3
   },
   "file_extension": ".py",
   "mimetype": "text/x-python",
   "name": "python",
   "nbconvert_exporter": "python",
   "pygments_lexer": "ipython3",
   "version": "3.8.6"
  }
 },
 "nbformat": 4,
 "nbformat_minor": 5
}
