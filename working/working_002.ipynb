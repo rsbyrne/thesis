{
 "cells": [
  {
   "cell_type": "code",
   "execution_count": null,
   "id": "central-carnival",
   "metadata": {},
   "outputs": [],
   "source": [
    "import os"
   ]
  },
  {
   "cell_type": "code",
   "execution_count": null,
   "id": "beautiful-grace",
   "metadata": {},
   "outputs": [],
   "source": [
    "import itertools\n",
    "import numpy as np\n",
    "list(itertools.product(\n",
    "    np.linspace(1.0, 0.5, 6),\n",
    "    np.round(2 ** np.linspace(0, 0.5, 6), 3),\n",
    "    ))[5]"
   ]
  },
  {
   "cell_type": "code",
   "execution_count": null,
   "id": "finnish-premises",
   "metadata": {},
   "outputs": [],
   "source": [
    "os.listdir('..')"
   ]
  },
  {
   "cell_type": "code",
   "execution_count": null,
   "id": "dress-blues",
   "metadata": {},
   "outputs": [],
   "source": [
    "filedir = os.path.abspath('../data/annuimgs')"
   ]
  },
  {
   "cell_type": "code",
   "execution_count": null,
   "id": "sophisticated-footage",
   "metadata": {},
   "outputs": [],
   "source": [
    "filedir"
   ]
  },
  {
   "cell_type": "code",
   "execution_count": null,
   "id": "median-database",
   "metadata": {},
   "outputs": [],
   "source": [
    "import glob"
   ]
  },
  {
   "cell_type": "code",
   "execution_count": null,
   "id": "sixth-weapon",
   "metadata": {},
   "outputs": [],
   "source": [
    "help(glob)"
   ]
  },
  {
   "cell_type": "code",
   "execution_count": null,
   "id": "downtown-louisville",
   "metadata": {},
   "outputs": [],
   "source": [
    "glob.glob(filedir + '/' + '*complete.png')"
   ]
  },
  {
   "cell_type": "code",
   "execution_count": null,
   "id": "patent-cornwall",
   "metadata": {},
   "outputs": [],
   "source": [
    "import random"
   ]
  },
  {
   "cell_type": "code",
   "execution_count": null,
   "id": "empirical-jacket",
   "metadata": {},
   "outputs": [],
   "source": [
    "sorted(os.path.basename(path) for path in glob.glob(os.path.join(filedir, '*complete.png')))"
   ]
  },
  {
   "cell_type": "code",
   "execution_count": null,
   "id": "based-methodology",
   "metadata": {},
   "outputs": [],
   "source": [
    "items = sorted(\n",
    "    os.path.basename(path)\n",
    "        for path in glob.glob(os.path.join(filedir, '*complete.png'))\n",
    "    )\n",
    "with open(os.path.join(filedir, 'in.ffconcat'), mode = 'w') as file:\n",
    "    file.write('ffconcat version 1.0' + '\\n')\n",
    "    for item in items:\n",
    "        file.write('file ' + item + '\\n')\n",
    "        file.write('duration ' + str(random.randint(1, 5)) + '\\n')"
   ]
  },
  {
   "cell_type": "code",
   "execution_count": null,
   "id": "tight-ordering",
   "metadata": {},
   "outputs": [],
   "source": [
    "mygen = (i**2 for i in range(10))"
   ]
  },
  {
   "cell_type": "code",
   "execution_count": null,
   "id": "forward-requirement",
   "metadata": {},
   "outputs": [],
   "source": [
    "myval = next(mygen)"
   ]
  },
  {
   "cell_type": "code",
   "execution_count": null,
   "id": "valid-grant",
   "metadata": {},
   "outputs": [],
   "source": [
    "myval"
   ]
  },
  {
   "cell_type": "code",
   "execution_count": null,
   "id": "horizontal-trigger",
   "metadata": {},
   "outputs": [],
   "source": [
    "mygen2 = (myval, *mygen)"
   ]
  },
  {
   "cell_type": "code",
   "execution_count": null,
   "id": "social-lawrence",
   "metadata": {},
   "outputs": [],
   "source": [
    "type(mygen2)"
   ]
  },
  {
   "cell_type": "code",
   "execution_count": null,
   "id": "coupled-wiring",
   "metadata": {},
   "outputs": [],
   "source": [
    "list(mygen2)"
   ]
  },
  {
   "cell_type": "code",
   "execution_count": null,
   "id": "breathing-population",
   "metadata": {},
   "outputs": [],
   "source": [
    "import numpy as np"
   ]
  },
  {
   "cell_type": "code",
   "execution_count": null,
   "id": "integrated-edwards",
   "metadata": {},
   "outputs": [],
   "source": [
    "myarr = np.arange(10)"
   ]
  },
  {
   "cell_type": "code",
   "execution_count": null,
   "id": "pharmaceutical-sleeping",
   "metadata": {},
   "outputs": [],
   "source": [
    "myarr += 2"
   ]
  },
  {
   "cell_type": "code",
   "execution_count": null,
   "id": "abroad-savage",
   "metadata": {},
   "outputs": [],
   "source": [
    "myarr = myarr / 2"
   ]
  },
  {
   "cell_type": "code",
   "execution_count": null,
   "id": "standing-reporter",
   "metadata": {},
   "outputs": [],
   "source": [
    "myarr"
   ]
  },
  {
   "cell_type": "code",
   "execution_count": null,
   "id": "approximate-reform",
   "metadata": {},
   "outputs": [],
   "source": [
    "myarr.max()"
   ]
  },
  {
   "cell_type": "code",
   "execution_count": null,
   "id": "experienced-feeding",
   "metadata": {},
   "outputs": [],
   "source": [
    "myarr = myarr / myarr.max()"
   ]
  },
  {
   "cell_type": "code",
   "execution_count": null,
   "id": "informal-corporation",
   "metadata": {},
   "outputs": [],
   "source": [
    "myarr"
   ]
  },
  {
   "cell_type": "code",
   "execution_count": null,
   "id": "amended-deficit",
   "metadata": {},
   "outputs": [],
   "source": []
  }
 ],
 "metadata": {
  "kernelspec": {
   "display_name": "Python 3",
   "language": "python",
   "name": "python3"
  },
  "language_info": {
   "codemirror_mode": {
    "name": "ipython",
    "version": 3
   },
   "file_extension": ".py",
   "mimetype": "text/x-python",
   "name": "python",
   "nbconvert_exporter": "python",
   "pygments_lexer": "ipython3",
   "version": "3.8.6"
  }
 },
 "nbformat": 4,
 "nbformat_minor": 5
}
