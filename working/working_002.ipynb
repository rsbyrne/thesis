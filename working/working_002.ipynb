{
 "cells": [
  {
   "cell_type": "code",
   "execution_count": 37,
   "id": "awful-holiday",
   "metadata": {},
   "outputs": [],
   "source": [
    "import os"
   ]
  },
  {
   "cell_type": "code",
   "execution_count": 39,
   "id": "informative-vault",
   "metadata": {},
   "outputs": [
    {
     "data": {
      "text/plain": [
       "['thesis_initialise.py',\n",
       " 'lb.sh',\n",
       " '__pycache__',\n",
       " 'data',\n",
       " 'merged.frm',\n",
       " 'general.pem',\n",
       " 'dev',\n",
       " 'it.sh',\n",
       " 'README.md',\n",
       " 'LICENSE',\n",
       " 'merge.py',\n",
       " 'analysis',\n",
       " 'book',\n",
       " '.gitignore',\n",
       " '.git',\n",
       " 'working',\n",
       " '.ipynb_checkpoints',\n",
       " 'resources',\n",
       " 'thesiscode',\n",
       " 'scratch',\n",
       " 'production',\n",
       " 'Dockerfile',\n",
       " '.dockerignore',\n",
       " 'build.sh',\n",
       " 'lb2.sh']"
      ]
     },
     "execution_count": 39,
     "metadata": {},
     "output_type": "execute_result"
    }
   ],
   "source": [
    "os.listdir('..')"
   ]
  },
  {
   "cell_type": "code",
   "execution_count": 40,
   "id": "answering-particular",
   "metadata": {},
   "outputs": [],
   "source": [
    "filedir = os.path.abspath('../data/annuimgs')"
   ]
  },
  {
   "cell_type": "code",
   "execution_count": 41,
   "id": "competent-retreat",
   "metadata": {},
   "outputs": [
    {
     "data": {
      "text/plain": [
       "'/home/morpheus/workspace/mount/data/annuimgs'"
      ]
     },
     "execution_count": 41,
     "metadata": {},
     "output_type": "execute_result"
    }
   ],
   "source": [
    "filedir"
   ]
  },
  {
   "cell_type": "code",
   "execution_count": 43,
   "id": "static-ready",
   "metadata": {},
   "outputs": [],
   "source": [
    "import glob"
   ]
  },
  {
   "cell_type": "code",
   "execution_count": 44,
   "id": "ancient-maple",
   "metadata": {},
   "outputs": [
    {
     "name": "stdout",
     "output_type": "stream",
     "text": [
      "Help on module glob:\n",
      "\n",
      "NAME\n",
      "    glob - Filename globbing utility.\n",
      "\n",
      "MODULE REFERENCE\n",
      "    https://docs.python.org/3.8/library/glob\n",
      "    \n",
      "    The following documentation is automatically generated from the Python\n",
      "    source files.  It may be incomplete, incorrect or include features that\n",
      "    are considered implementation detail and may vary between Python\n",
      "    implementations.  When in doubt, consult the module reference at the\n",
      "    location listed above.\n",
      "\n",
      "FUNCTIONS\n",
      "    escape(pathname)\n",
      "        Escape all special characters.\n",
      "    \n",
      "    glob(pathname, *, recursive=False)\n",
      "        Return a list of paths matching a pathname pattern.\n",
      "        \n",
      "        The pattern may contain simple shell-style wildcards a la\n",
      "        fnmatch. However, unlike fnmatch, filenames starting with a\n",
      "        dot are special cases that are not matched by '*' and '?'\n",
      "        patterns.\n",
      "        \n",
      "        If recursive is true, the pattern '**' will match any files and\n",
      "        zero or more directories and subdirectories.\n",
      "    \n",
      "    iglob(pathname, *, recursive=False)\n",
      "        Return an iterator which yields the paths matching a pathname pattern.\n",
      "        \n",
      "        The pattern may contain simple shell-style wildcards a la\n",
      "        fnmatch. However, unlike fnmatch, filenames starting with a\n",
      "        dot are special cases that are not matched by '*' and '?'\n",
      "        patterns.\n",
      "        \n",
      "        If recursive is true, the pattern '**' will match any files and\n",
      "        zero or more directories and subdirectories.\n",
      "\n",
      "DATA\n",
      "    __all__ = ['glob', 'iglob', 'escape']\n",
      "\n",
      "FILE\n",
      "    /usr/lib/python3.8/glob.py\n",
      "\n",
      "\n"
     ]
    }
   ],
   "source": [
    "help(glob)"
   ]
  },
  {
   "cell_type": "code",
   "execution_count": 47,
   "id": "exceptional-student",
   "metadata": {},
   "outputs": [
    {
     "data": {
      "text/plain": [
       "['/home/morpheus/workspace/mount/data/annuimgs/plasticannu_4_5_complete.png',\n",
       " '/home/morpheus/workspace/mount/data/annuimgs/plasticannu_4_2_complete.png',\n",
       " '/home/morpheus/workspace/mount/data/annuimgs/plasticannu_4_10_complete.png',\n",
       " '/home/morpheus/workspace/mount/data/annuimgs/plasticannu_4_6_complete.png',\n",
       " '/home/morpheus/workspace/mount/data/annuimgs/plasticannu_4_4_complete.png',\n",
       " '/home/morpheus/workspace/mount/data/annuimgs/plasticannu_4_8_complete.png',\n",
       " '/home/morpheus/workspace/mount/data/annuimgs/plasticannu_4_0_complete.png',\n",
       " '/home/morpheus/workspace/mount/data/annuimgs/plasticannu_4_7_complete.png',\n",
       " '/home/morpheus/workspace/mount/data/annuimgs/plasticannu_4_1_complete.png',\n",
       " '/home/morpheus/workspace/mount/data/annuimgs/plasticannu_4_9_complete.png']"
      ]
     },
     "execution_count": 47,
     "metadata": {},
     "output_type": "execute_result"
    }
   ],
   "source": [
    "glob.glob(filedir + '/' + '*complete.png')"
   ]
  },
  {
   "cell_type": "code",
   "execution_count": 48,
   "id": "medium-browser",
   "metadata": {},
   "outputs": [],
   "source": [
    "import random"
   ]
  },
  {
   "cell_type": "code",
   "execution_count": 54,
   "id": "bizarre-sponsorship",
   "metadata": {},
   "outputs": [
    {
     "data": {
      "text/plain": [
       "['plasticannu_4_0_complete.png',\n",
       " 'plasticannu_4_10_complete.png',\n",
       " 'plasticannu_4_1_complete.png',\n",
       " 'plasticannu_4_2_complete.png',\n",
       " 'plasticannu_4_4_complete.png',\n",
       " 'plasticannu_4_5_complete.png',\n",
       " 'plasticannu_4_6_complete.png',\n",
       " 'plasticannu_4_7_complete.png',\n",
       " 'plasticannu_4_8_complete.png',\n",
       " 'plasticannu_4_9_complete.png']"
      ]
     },
     "execution_count": 54,
     "metadata": {},
     "output_type": "execute_result"
    }
   ],
   "source": [
    "sorted(os.path.basename(path) for path in glob.glob(os.path.join(filedir, '*complete.png')))"
   ]
  },
  {
   "cell_type": "code",
   "execution_count": 55,
   "id": "invisible-agreement",
   "metadata": {},
   "outputs": [],
   "source": [
    "items = sorted(\n",
    "    os.path.basename(path)\n",
    "        for path in glob.glob(os.path.join(filedir, '*complete.png'))\n",
    "    )\n",
    "with open(os.path.join(filedir, 'in.ffconcat'), mode = 'w') as file:\n",
    "    file.write('ffconcat version 1.0' + '\\n')\n",
    "    for item in items:\n",
    "        file.write('file ' + item + '\\n')\n",
    "        file.write('duration ' + str(random.randint(1, 5)) + '\\n')"
   ]
  },
  {
   "cell_type": "code",
   "execution_count": 62,
   "id": "alien-female",
   "metadata": {},
   "outputs": [],
   "source": [
    "mygen = (i**2 for i in range(10))"
   ]
  },
  {
   "cell_type": "code",
   "execution_count": 63,
   "id": "detected-acoustic",
   "metadata": {},
   "outputs": [],
   "source": [
    "myval = next(mygen)"
   ]
  },
  {
   "cell_type": "code",
   "execution_count": 64,
   "id": "japanese-liberty",
   "metadata": {},
   "outputs": [
    {
     "data": {
      "text/plain": [
       "0"
      ]
     },
     "execution_count": 64,
     "metadata": {},
     "output_type": "execute_result"
    }
   ],
   "source": [
    "myval"
   ]
  },
  {
   "cell_type": "code",
   "execution_count": 65,
   "id": "expressed-greeting",
   "metadata": {},
   "outputs": [],
   "source": [
    "mygen2 = (myval, *mygen)"
   ]
  },
  {
   "cell_type": "code",
   "execution_count": 67,
   "id": "brutal-accused",
   "metadata": {},
   "outputs": [
    {
     "data": {
      "text/plain": [
       "tuple"
      ]
     },
     "execution_count": 67,
     "metadata": {},
     "output_type": "execute_result"
    }
   ],
   "source": [
    "type(mygen2)"
   ]
  },
  {
   "cell_type": "code",
   "execution_count": 61,
   "id": "healthy-american",
   "metadata": {},
   "outputs": [
    {
     "data": {
      "text/plain": [
       "[0, 1, 4, 9, 16, 25, 36, 49, 64, 81]"
      ]
     },
     "execution_count": 61,
     "metadata": {},
     "output_type": "execute_result"
    }
   ],
   "source": [
    "list(mygen2)"
   ]
  },
  {
   "cell_type": "code",
   "execution_count": 68,
   "id": "satellite-popularity",
   "metadata": {},
   "outputs": [],
   "source": [
    "import numpy as np"
   ]
  },
  {
   "cell_type": "code",
   "execution_count": 70,
   "id": "compressed-architecture",
   "metadata": {},
   "outputs": [],
   "source": [
    "myarr = np.arange(10)"
   ]
  },
  {
   "cell_type": "code",
   "execution_count": 72,
   "id": "eleven-sentence",
   "metadata": {},
   "outputs": [],
   "source": [
    "myarr += 2"
   ]
  },
  {
   "cell_type": "code",
   "execution_count": 74,
   "id": "chemical-friendship",
   "metadata": {},
   "outputs": [],
   "source": [
    "myarr = myarr / 2"
   ]
  },
  {
   "cell_type": "code",
   "execution_count": 75,
   "id": "geological-cooking",
   "metadata": {},
   "outputs": [
    {
     "data": {
      "text/plain": [
       "array([1. , 1.5, 2. , 2.5, 3. , 3.5, 4. , 4.5, 5. , 5.5])"
      ]
     },
     "execution_count": 75,
     "metadata": {},
     "output_type": "execute_result"
    }
   ],
   "source": [
    "myarr"
   ]
  },
  {
   "cell_type": "code",
   "execution_count": 77,
   "id": "compliant-selling",
   "metadata": {},
   "outputs": [
    {
     "data": {
      "text/plain": [
       "5.5"
      ]
     },
     "execution_count": 77,
     "metadata": {},
     "output_type": "execute_result"
    }
   ],
   "source": [
    "myarr.max()"
   ]
  },
  {
   "cell_type": "code",
   "execution_count": 78,
   "id": "classical-composition",
   "metadata": {},
   "outputs": [],
   "source": [
    "myarr = myarr / myarr.max()"
   ]
  },
  {
   "cell_type": "code",
   "execution_count": 79,
   "id": "expanded-isaac",
   "metadata": {},
   "outputs": [
    {
     "data": {
      "text/plain": [
       "array([0.18181818, 0.27272727, 0.36363636, 0.45454545, 0.54545455,\n",
       "       0.63636364, 0.72727273, 0.81818182, 0.90909091, 1.        ])"
      ]
     },
     "execution_count": 79,
     "metadata": {},
     "output_type": "execute_result"
    }
   ],
   "source": [
    "myarr"
   ]
  },
  {
   "cell_type": "code",
   "execution_count": null,
   "id": "white-findings",
   "metadata": {},
   "outputs": [],
   "source": []
  }
 ],
 "metadata": {
  "kernelspec": {
   "display_name": "Python 3",
   "language": "python",
   "name": "python3"
  },
  "language_info": {
   "codemirror_mode": {
    "name": "ipython",
    "version": 3
   },
   "file_extension": ".py",
   "mimetype": "text/x-python",
   "name": "python",
   "nbconvert_exporter": "python",
   "pygments_lexer": "ipython3",
   "version": "3.8.6"
  }
 },
 "nbformat": 4,
 "nbformat_minor": 5
}
