{
 "cells": [
  {
   "cell_type": "code",
   "execution_count": null,
   "id": "brutal-edwards",
   "metadata": {},
   "outputs": [],
   "source": [
    "import glob\n",
    "from PIL import Image\n",
    "\n",
    "directory = 'umbriel6'\n",
    "prefix = 'linearfocus_8_5_'\n",
    "\n",
    "# filepaths\n",
    "fp_in = \"../data/\" + directory + '/' + prefix + \"*complete.png\"\n",
    "fp_out = \"../data/\" + directory + '/' + prefix + \".gif\"\n",
    "\n",
    "# https://pillow.readthedocs.io/en/stable/handbook/image-file-formats.html#gif\n",
    "img, *imgs = [Image.open(f) for f in sorted(glob.glob(fp_in))]\n",
    "img.save(\n",
    "    fp = fp_out,\n",
    "    format = 'GIF',\n",
    "    append_images = imgs,\n",
    "    save_all = True,\n",
    "    duration = 200,\n",
    "    loop = 0\n",
    "    )"
   ]
  }
 ],
 "metadata": {
  "kernelspec": {
   "display_name": "Python 3",
   "language": "python",
   "name": "python3"
  },
  "language_info": {
   "codemirror_mode": {
    "name": "ipython",
    "version": 3
   },
   "file_extension": ".py",
   "mimetype": "text/x-python",
   "name": "python",
   "nbconvert_exporter": "python",
   "pygments_lexer": "ipython3",
   "version": "3.8.6"
  }
 },
 "nbformat": 4,
 "nbformat_minor": 5
}
