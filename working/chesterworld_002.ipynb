{
 "cells": [
  {
   "cell_type": "code",
   "execution_count": 1,
   "id": "controlled-kennedy",
   "metadata": {},
   "outputs": [],
   "source": [
    "from thesis_initialise import *\n",
    "\n",
    "import numpy as _np"
   ]
  },
  {
   "cell_type": "code",
   "execution_count": 251,
   "id": "homeless-flesh",
   "metadata": {},
   "outputs": [],
   "source": [
    "from dataclasses import dataclass, fields, Field, InitVar"
   ]
  },
  {
   "cell_type": "code",
   "execution_count": 346,
   "id": "together-internship",
   "metadata": {},
   "outputs": [],
   "source": [
    "################################################################################\n",
    "\n",
    "from functools import lru_cache as _lru_cache, reduce as _reduce\n",
    "import numpy as _np\n",
    "\n",
    "@dataclass\n",
    "class ChesterWorld:\n",
    "    nTimes: int = 24\n",
    "    levels: int = 3\n",
    "    popDensity: int = 1500 # persons per km 2\n",
    "    res: float = 0.016 # innermost edge km\n",
    "    init: InitVar(bool) = True\n",
    "    def __post_init__(self, init):\n",
    "        self.maxLevel = (levels := self.levels) - 1\n",
    "        self.nTiles = nTiles = 2 ** (8 * levels)\n",
    "        self.length = length = (res := self.res) * 16 ** levels\n",
    "        self.area = area = length ** 2\n",
    "        self.nAgents = nAgents = round(self.popDensity * area)\n",
    "        self.agentsPerTile = nAgents / nTiles\n",
    "        self.agentIDs = _np.arange(nAgents)\n",
    "        self._hashVal = np.random.randint(10 ** 12, 10 ** 13 - 1)\n",
    "        if init:\n",
    "            self.initialise()\n",
    "    def initialise(self):\n",
    "        shape = (self.nAgents, self.nTimes, self.levels)\n",
    "        self.schedule = _np.random.randint(0, 2**8, shape, 'uint8')\n",
    "#         self.places = _np.zeros(self.nAgents,)\n",
    "    @_lru_cache\n",
    "    def get_potential_contacts(self, agentID: int, level: int = None, /):\n",
    "        level = self.maxLevel if level is None else level\n",
    "        if level:\n",
    "            shortlist = self.get_potential_contacts(agentID, level - 1)\n",
    "        else:\n",
    "            shortlist = self.agentIDs\n",
    "        schedule = self.schedule[:, :, level][shortlist]\n",
    "        matches = schedule == schedule[agentID]\n",
    "        return shortlist[_np.unique(_np.nonzero(matches)[0])]\n",
    "    def __hash__(self):\n",
    "        return self._hashVal\n",
    "\n",
    "################################################################################\n",
    "\n",
    "#         if level = 0:\n",
    "#             schedule = self.schedule\n",
    "#         else:\n",
    "#             schedule = self.get_potential_contacts(agentID, level - 1)\n",
    "#         schedule = self.schedule[:, :, :level+1]\n",
    "#         contacts = _np.nonzero(schedule == schedule[agentID])[0]\n",
    "#         return sorted(set(contacts))\n",
    "#     def get_contacts(self, agentID: int):\n",
    "#         schedule = self.schedule\n",
    "#         f\n",
    "#         return _reduce(\n",
    "#             self.get_potential_contacts,\n",
    "#             (agentID, )\n",
    "#             )"
   ]
  },
  {
   "cell_type": "code",
   "execution_count": 347,
   "id": "indian-chile",
   "metadata": {},
   "outputs": [
    {
     "name": "stdout",
     "output_type": "stream",
     "text": [
      "CPU times: user 40.9 ms, sys: 111 ms, total: 152 ms\n",
      "Wall time: 155 ms\n",
      "CPU times: user 46.7 ms, sys: 0 ns, total: 46.7 ms\n",
      "Wall time: 46.3 ms\n",
      "CPU times: user 790 µs, sys: 218 µs, total: 1.01 ms\n",
      "Wall time: 1.02 ms\n",
      "CPU times: user 46 µs, sys: 24 µs, total: 70 µs\n",
      "Wall time: 75.6 µs\n",
      "nContacts = 1\n"
     ]
    }
   ],
   "source": [
    "%time model = ChesterWorld(nTimes = 1)\n",
    "%time contacts = model.get_potential_contacts(0, 0)\n",
    "%time contacts = model.get_potential_contacts(0, 1)\n",
    "%time contacts = model.get_potential_contacts(0, 2)\n",
    "print(f\"nContacts = {len(contacts)}\")\n",
    "assert all(_np.any(model.schedule[0] == model.schedule[contact]) for contact in contacts)\n",
    "assert all(_np.any(model.schedule[0, :, 0] == model.schedule[contact, :, 0]) for contact in contacts)"
   ]
  },
  {
   "cell_type": "code",
   "execution_count": 342,
   "id": "coral-secondary",
   "metadata": {},
   "outputs": [
    {
     "name": "stdout",
     "output_type": "stream",
     "text": [
      "CPU times: user 694 ms, sys: 116 ms, total: 810 ms\n",
      "Wall time: 814 ms\n",
      "CPU times: user 713 ms, sys: 865 ms, total: 1.58 s\n",
      "Wall time: 1.59 s\n",
      "CPU times: user 95.5 ms, sys: 0 ns, total: 95.5 ms\n",
      "Wall time: 95.5 ms\n",
      "CPU times: user 11.7 ms, sys: 0 ns, total: 11.7 ms\n",
      "Wall time: 11.8 ms\n",
      "nContacts = 4697\n"
     ]
    }
   ],
   "source": [
    "%time model = ChesterWorld(nTimes = 24)\n",
    "%time contacts = model.get_potential_contacts(0, 0)\n",
    "%time contacts = model.get_potential_contacts(0, 1)\n",
    "%time contacts = model.get_potential_contacts(0, 2)\n",
    "print(f\"nContacts = {len(contacts)}\")\n",
    "assert all(_np.any(model.schedule[0] == model.schedule[contact]) for contact in contacts)\n",
    "assert all(_np.any(model.schedule[0, :, 0] == model.schedule[contact, :, 0]) for contact in contacts)"
   ]
  },
  {
   "cell_type": "code",
   "execution_count": 348,
   "id": "stopped-admission",
   "metadata": {},
   "outputs": [],
   "source": [
    "self = ChesterWorld(nTimes = 4)"
   ]
  },
  {
   "cell_type": "code",
   "execution_count": 355,
   "id": "painful-thomson",
   "metadata": {},
   "outputs": [],
   "source": [
    "contacts = self.get_potential_contacts(0)"
   ]
  },
  {
   "cell_type": "code",
   "execution_count": 361,
   "id": "bored-kidney",
   "metadata": {},
   "outputs": [
    {
     "name": "stdout",
     "output_type": "stream",
     "text": [
      "[[171 125 214]\n",
      " [  3 238 247]\n",
      " [153 218   2]\n",
      " [ 90  44  81]]\n",
      "[[171 125 214]\n",
      " [  3 238 247]\n",
      " [153 218   2]\n",
      " [ 90  44  81]\n",
      " [193 202  26]\n",
      " [231 193 147]\n",
      " [154 253 178]\n",
      " [ 87 117  20]\n",
      " [ 90 232 224]\n",
      " [160 194  13]\n",
      " [ 72  40  18]\n",
      " [ 28 154   9]\n",
      " [ 37 213  87]\n",
      " [ 33 156  16]\n",
      " [167 139  82]\n",
      " [ 61 201 202]\n",
      " [156  39 254]\n",
      " [238 127 235]\n",
      " [165  76 206]\n",
      " [126 244  47]\n",
      " [136 176 194]\n",
      " [ 20 195 171]\n",
      " [ 47  24 170]\n",
      " [ 99  86 147]\n",
      " [167 224 213]\n",
      " [151  83  41]\n",
      " [226  17 111]\n",
      " [147 141  55]\n",
      " [158 108 161]\n",
      " [ 31  87  93]\n",
      " [138 180  29]]\n"
     ]
    }
   ],
   "source": [
    "subSchedule = (schedule := self.schedule)[:, :, -1]\n",
    "contactMatrix = schedule[_np.nonzero(subSchedule[contacts] == subSchedule[0])]\n",
    "print(self.schedule[0])\n",
    "print(contactMatrix)"
   ]
  },
  {
   "cell_type": "code",
   "execution_count": 368,
   "id": "apparent-finder",
   "metadata": {},
   "outputs": [
    {
     "data": {
      "text/plain": [
       "array([      0,   93882,  405289,  893499,  956509, 1211134, 1348901,\n",
       "       2083650, 2248550, 2708725, 2897214, 3214244, 3223969, 3236468,\n",
       "       3268390, 3424756, 3484654, 3876479, 3886267, 3948473, 4915086,\n",
       "       4948541, 5168450, 5197619, 5457133, 5717441, 5748002])"
      ]
     },
     "execution_count": 368,
     "metadata": {},
     "output_type": "execute_result"
    }
   ],
   "source": [
    "contacts"
   ]
  },
  {
   "cell_type": "code",
   "execution_count": null,
   "id": "subjective-blues",
   "metadata": {},
   "outputs": [],
   "source": []
  },
  {
   "cell_type": "code",
   "execution_count": 365,
   "id": "public-romantic",
   "metadata": {},
   "outputs": [],
   "source": [
    "tracerSchedule = schedule[0]"
   ]
  },
  {
   "cell_type": "code",
   "execution_count": 367,
   "id": "placed-certificate",
   "metadata": {},
   "outputs": [
    {
     "data": {
      "text/plain": [
       "array([[171, 125, 214],\n",
       "       [  3, 238, 247],\n",
       "       [153, 218,   2],\n",
       "       [ 90,  44,  81]], dtype=uint8)"
      ]
     },
     "execution_count": 367,
     "metadata": {},
     "output_type": "execute_result"
    }
   ],
   "source": [
    "tracerSchedule"
   ]
  },
  {
   "cell_type": "code",
   "execution_count": 364,
   "id": "absolute-guinea",
   "metadata": {},
   "outputs": [
    {
     "data": {
      "text/plain": [
       "array([[ True,  True,  True,  True],\n",
       "       [False,  True, False, False],\n",
       "       [ True, False, False, False],\n",
       "       [False, False,  True, False],\n",
       "       [False,  True, False, False],\n",
       "       [False, False,  True, False],\n",
       "       [False,  True, False, False],\n",
       "       [False,  True, False, False],\n",
       "       [ True,  True, False, False],\n",
       "       [False,  True, False, False],\n",
       "       [False, False, False,  True],\n",
       "       [False, False, False,  True],\n",
       "       [False,  True, False, False],\n",
       "       [False, False,  True, False],\n",
       "       [False,  True, False, False],\n",
       "       [ True, False, False, False],\n",
       "       [False, False,  True, False],\n",
       "       [ True, False, False, False],\n",
       "       [False, False, False,  True],\n",
       "       [ True, False, False, False],\n",
       "       [False,  True, False, False],\n",
       "       [ True, False, False, False],\n",
       "       [False, False,  True, False],\n",
       "       [False,  True, False, False],\n",
       "       [False, False, False,  True],\n",
       "       [False,  True, False, False],\n",
       "       [False, False, False,  True]])"
      ]
     },
     "execution_count": 364,
     "metadata": {},
     "output_type": "execute_result"
    }
   ],
   "source": [
    "subSchedule[contacts] == subSchedule[0]"
   ]
  },
  {
   "cell_type": "code",
   "execution_count": 358,
   "id": "minor-harvard",
   "metadata": {},
   "outputs": [
    {
     "data": {
      "text/plain": [
       "array([[ 0,  0],\n",
       "       [ 0,  1],\n",
       "       [ 0,  2],\n",
       "       [ 0,  3],\n",
       "       [ 1,  1],\n",
       "       [ 2,  0],\n",
       "       [ 3,  2],\n",
       "       [ 4,  1],\n",
       "       [ 5,  2],\n",
       "       [ 6,  1],\n",
       "       [ 7,  1],\n",
       "       [ 8,  0],\n",
       "       [ 8,  1],\n",
       "       [ 9,  1],\n",
       "       [10,  3],\n",
       "       [11,  3],\n",
       "       [12,  1],\n",
       "       [13,  2],\n",
       "       [14,  1],\n",
       "       [15,  0],\n",
       "       [16,  2],\n",
       "       [17,  0],\n",
       "       [18,  3],\n",
       "       [19,  0],\n",
       "       [20,  1],\n",
       "       [21,  0],\n",
       "       [22,  2],\n",
       "       [23,  1],\n",
       "       [24,  3],\n",
       "       [25,  1],\n",
       "       [26,  3]])"
      ]
     },
     "execution_count": 358,
     "metadata": {},
     "output_type": "execute_result"
    }
   ],
   "source": [
    "_np.argwhere(contactMatrix)"
   ]
  },
  {
   "cell_type": "code",
   "execution_count": 328,
   "id": "material-pharmaceutical",
   "metadata": {},
   "outputs": [
    {
     "data": {
      "text/plain": [
       "array([[[ True,  True,  True],\n",
       "        [ True,  True,  True],\n",
       "        [ True,  True,  True],\n",
       "        [ True,  True,  True]],\n",
       "\n",
       "       [[False, False,  True],\n",
       "        [False, False, False],\n",
       "        [ True, False, False],\n",
       "        [False,  True, False]],\n",
       "\n",
       "       [[False, False, False],\n",
       "        [ True,  True, False],\n",
       "        [False, False,  True],\n",
       "        [False, False, False]],\n",
       "\n",
       "       [[ True,  True, False],\n",
       "        [False, False, False],\n",
       "        [False, False, False],\n",
       "        [False, False,  True]],\n",
       "\n",
       "       [[False,  True, False],\n",
       "        [False, False, False],\n",
       "        [False, False, False],\n",
       "        [ True, False,  True]],\n",
       "\n",
       "       [[False,  True, False],\n",
       "        [ True, False, False],\n",
       "        [False, False, False],\n",
       "        [False, False,  True]],\n",
       "\n",
       "       [[False, False,  True],\n",
       "        [False, False, False],\n",
       "        [False,  True, False],\n",
       "        [ True, False, False]],\n",
       "\n",
       "       [[False, False, False],\n",
       "        [ True,  True,  True],\n",
       "        [False, False, False],\n",
       "        [False, False, False]],\n",
       "\n",
       "       [[False, False,  True],\n",
       "        [ True, False, False],\n",
       "        [False, False, False],\n",
       "        [False,  True, False]],\n",
       "\n",
       "       [[ True,  True, False],\n",
       "        [False, False, False],\n",
       "        [False, False, False],\n",
       "        [False, False,  True]],\n",
       "\n",
       "       [[ True,  True, False],\n",
       "        [False, False, False],\n",
       "        [False, False,  True],\n",
       "        [False, False, False]],\n",
       "\n",
       "       [[ True, False,  True],\n",
       "        [False,  True, False],\n",
       "        [False, False, False],\n",
       "        [False, False, False]],\n",
       "\n",
       "       [[False, False, False],\n",
       "        [False, False, False],\n",
       "        [ True, False,  True],\n",
       "        [False,  True, False]],\n",
       "\n",
       "       [[False,  True, False],\n",
       "        [ True, False, False],\n",
       "        [False, False, False],\n",
       "        [False, False,  True]],\n",
       "\n",
       "       [[False,  True, False],\n",
       "        [False, False, False],\n",
       "        [False, False, False],\n",
       "        [ True, False,  True]],\n",
       "\n",
       "       [[ True,  True,  True],\n",
       "        [False, False, False],\n",
       "        [False, False, False],\n",
       "        [False, False, False]],\n",
       "\n",
       "       [[False, False, False],\n",
       "        [False, False, False],\n",
       "        [ True, False,  True],\n",
       "        [False,  True, False]],\n",
       "\n",
       "       [[False, False,  True],\n",
       "        [False, False, False],\n",
       "        [ True,  True, False],\n",
       "        [False, False, False]],\n",
       "\n",
       "       [[ True, False,  True],\n",
       "        [False,  True, False],\n",
       "        [False, False, False],\n",
       "        [False, False, False]],\n",
       "\n",
       "       [[ True,  True, False],\n",
       "        [False, False, False],\n",
       "        [False, False, False],\n",
       "        [False, False,  True]],\n",
       "\n",
       "       [[False, False, False],\n",
       "        [False, False, False],\n",
       "        [False,  True, False],\n",
       "        [ True, False,  True]],\n",
       "\n",
       "       [[False,  True,  True],\n",
       "        [False, False, False],\n",
       "        [False, False, False],\n",
       "        [ True, False, False]],\n",
       "\n",
       "       [[False, False,  True],\n",
       "        [False, False, False],\n",
       "        [False, False, False],\n",
       "        [ True,  True, False]],\n",
       "\n",
       "       [[False, False,  True],\n",
       "        [False, False, False],\n",
       "        [False, False, False],\n",
       "        [ True,  True, False]],\n",
       "\n",
       "       [[False, False, False],\n",
       "        [False, False, False],\n",
       "        [ True,  True,  True],\n",
       "        [False, False, False]],\n",
       "\n",
       "       [[ True, False, False],\n",
       "        [False,  True, False],\n",
       "        [False, False,  True],\n",
       "        [False, False, False]],\n",
       "\n",
       "       [[ True, False, False],\n",
       "        [False, False, False],\n",
       "        [False, False,  True],\n",
       "        [False,  True, False]],\n",
       "\n",
       "       [[ True, False, False],\n",
       "        [False, False, False],\n",
       "        [False,  True, False],\n",
       "        [False, False,  True]],\n",
       "\n",
       "       [[False,  True,  True],\n",
       "        [ True, False, False],\n",
       "        [False, False, False],\n",
       "        [False, False, False]],\n",
       "\n",
       "       [[False, False, False],\n",
       "        [False, False,  True],\n",
       "        [False,  True, False],\n",
       "        [ True, False, False]],\n",
       "\n",
       "       [[False, False, False],\n",
       "        [ True, False, False],\n",
       "        [False, False, False],\n",
       "        [False,  True,  True]]])"
      ]
     },
     "execution_count": 328,
     "metadata": {},
     "output_type": "execute_result"
    }
   ],
   "source": []
  },
  {
   "cell_type": "code",
   "execution_count": null,
   "id": "appointed-polls",
   "metadata": {},
   "outputs": [],
   "source": []
  }
 ],
 "metadata": {
  "kernelspec": {
   "display_name": "Python 3",
   "language": "python",
   "name": "python3"
  },
  "language_info": {
   "codemirror_mode": {
    "name": "ipython",
    "version": 3
   },
   "file_extension": ".py",
   "mimetype": "text/x-python",
   "name": "python",
   "nbconvert_exporter": "python",
   "pygments_lexer": "ipython3",
   "version": "3.8.6"
  }
 },
 "nbformat": 4,
 "nbformat_minor": 5
}
