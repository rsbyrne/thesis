{
 "cells": [
  {
   "cell_type": "code",
   "execution_count": null,
   "id": "controlled-kennedy",
   "metadata": {},
   "outputs": [],
   "source": [
    "from thesis_initialise import *\n",
    "\n",
    "import numpy as _np"
   ]
  },
  {
   "cell_type": "code",
   "execution_count": null,
   "id": "homeless-flesh",
   "metadata": {},
   "outputs": [],
   "source": [
    "from dataclasses import dataclass, fields, Field, InitVar"
   ]
  },
  {
   "cell_type": "code",
   "execution_count": null,
   "id": "together-internship",
   "metadata": {},
   "outputs": [],
   "source": [
    "################################################################################\n",
    "\n",
    "from functools import lru_cache as _lru_cache, reduce as _reduce\n",
    "import numpy as _np\n",
    "\n",
    "@dataclass\n",
    "class ChesterWorld:\n",
    "    nTimes: int = 24\n",
    "    levels: int = 3\n",
    "    popDensity: int = 1500 # persons per km 2\n",
    "    res: float = 0.016 # innermost edge km\n",
    "    init: InitVar(bool) = True\n",
    "    def __post_init__(self, init):\n",
    "        self.maxLevel = (levels := self.levels) - 1\n",
    "        self.nTiles = nTiles = 2 ** (8 * levels)\n",
    "        self.length = length = (res := self.res) * 16 ** levels\n",
    "        self.area = area = length ** 2\n",
    "        self.nAgents = nAgents = round(self.popDensity * area)\n",
    "        self.agentsPerTile = nAgents / nTiles\n",
    "        self.agentIDs = _np.arange(nAgents)\n",
    "        self._hashVal = np.random.randint(10 ** 12, 10 ** 13 - 1)\n",
    "        if init:\n",
    "            self.initialise()\n",
    "    def initialise(self):\n",
    "        shape = (self.nAgents, self.nTimes, self.levels)\n",
    "        self.schedule = _np.random.randint(0, 2**8, shape, 'uint8')\n",
    "#         self.places = _np.zeros(self.nAgents,)\n",
    "    @_lru_cache\n",
    "    def get_potential_contacts(self, agentID: int, level: int = None, /):\n",
    "        level = self.maxLevel if level is None else level\n",
    "        if level:\n",
    "            shortlist = self.get_potential_contacts(agentID, level - 1)\n",
    "        else:\n",
    "            shortlist = self.agentIDs\n",
    "        schedule = self.schedule[:, :, level][shortlist]\n",
    "        matches = schedule == schedule[agentID]\n",
    "        return shortlist[_np.unique(_np.nonzero(matches)[0])]\n",
    "    def __hash__(self):\n",
    "        return self._hashVal\n",
    "\n",
    "################################################################################\n",
    "\n",
    "#         if level = 0:\n",
    "#             schedule = self.schedule\n",
    "#         else:\n",
    "#             schedule = self.get_potential_contacts(agentID, level - 1)\n",
    "#         schedule = self.schedule[:, :, :level+1]\n",
    "#         contacts = _np.nonzero(schedule == schedule[agentID])[0]\n",
    "#         return sorted(set(contacts))\n",
    "#     def get_contacts(self, agentID: int):\n",
    "#         schedule = self.schedule\n",
    "#         f\n",
    "#         return _reduce(\n",
    "#             self.get_potential_contacts,\n",
    "#             (agentID, )\n",
    "#             )"
   ]
  },
  {
   "cell_type": "code",
   "execution_count": null,
   "id": "indian-chile",
   "metadata": {},
   "outputs": [],
   "source": [
    "%time model = ChesterWorld(nTimes = 1)\n",
    "%time contacts = model.get_potential_contacts(0, 0)\n",
    "%time contacts = model.get_potential_contacts(0, 1)\n",
    "%time contacts = model.get_potential_contacts(0, 2)\n",
    "print(f\"nContacts = {len(contacts)}\")\n",
    "assert all(_np.any(model.schedule[0] == model.schedule[contact]) for contact in contacts)\n",
    "assert all(_np.any(model.schedule[0, :, 0] == model.schedule[contact, :, 0]) for contact in contacts)"
   ]
  },
  {
   "cell_type": "code",
   "execution_count": null,
   "id": "coral-secondary",
   "metadata": {},
   "outputs": [],
   "source": [
    "%time model = ChesterWorld(nTimes = 24)\n",
    "%time contacts = model.get_potential_contacts(0, 0)\n",
    "%time contacts = model.get_potential_contacts(0, 1)\n",
    "%time contacts = model.get_potential_contacts(0, 2)\n",
    "print(f\"nContacts = {len(contacts)}\")\n",
    "assert all(_np.any(model.schedule[0] == model.schedule[contact]) for contact in contacts)\n",
    "assert all(_np.any(model.schedule[0, :, 0] == model.schedule[contact, :, 0]) for contact in contacts)"
   ]
  },
  {
   "cell_type": "code",
   "execution_count": null,
   "id": "stopped-admission",
   "metadata": {},
   "outputs": [],
   "source": [
    "self = ChesterWorld(nTimes = 4)"
   ]
  },
  {
   "cell_type": "code",
   "execution_count": null,
   "id": "painful-thomson",
   "metadata": {},
   "outputs": [],
   "source": [
    "contacts = self.get_potential_contacts(0)"
   ]
  },
  {
   "cell_type": "code",
   "execution_count": null,
   "id": "bored-kidney",
   "metadata": {},
   "outputs": [],
   "source": [
    "subSchedule = (schedule := self.schedule)[:, :, -1]\n",
    "contactMatrix = schedule[_np.nonzero(subSchedule[contacts] == subSchedule[0])]\n",
    "print(self.schedule[0])\n",
    "print(contactMatrix)"
   ]
  },
  {
   "cell_type": "code",
   "execution_count": null,
   "id": "apparent-finder",
   "metadata": {},
   "outputs": [],
   "source": [
    "contacts"
   ]
  },
  {
   "cell_type": "code",
   "execution_count": null,
   "id": "subjective-blues",
   "metadata": {},
   "outputs": [],
   "source": []
  },
  {
   "cell_type": "code",
   "execution_count": null,
   "id": "public-romantic",
   "metadata": {},
   "outputs": [],
   "source": [
    "tracerSchedule = schedule[0]"
   ]
  },
  {
   "cell_type": "code",
   "execution_count": null,
   "id": "placed-certificate",
   "metadata": {},
   "outputs": [],
   "source": [
    "tracerSchedule"
   ]
  },
  {
   "cell_type": "code",
   "execution_count": null,
   "id": "absolute-guinea",
   "metadata": {},
   "outputs": [],
   "source": [
    "subSchedule[contacts] == subSchedule[0]"
   ]
  },
  {
   "cell_type": "code",
   "execution_count": null,
   "id": "minor-harvard",
   "metadata": {},
   "outputs": [],
   "source": [
    "_np.argwhere(contactMatrix)"
   ]
  },
  {
   "cell_type": "code",
   "execution_count": null,
   "id": "material-pharmaceutical",
   "metadata": {},
   "outputs": [],
   "source": []
  },
  {
   "cell_type": "code",
   "execution_count": null,
   "id": "appointed-polls",
   "metadata": {},
   "outputs": [],
   "source": []
  }
 ],
 "metadata": {
  "kernelspec": {
   "display_name": "Python 3",
   "language": "python",
   "name": "python3"
  },
  "language_info": {
   "codemirror_mode": {
    "name": "ipython",
    "version": 3
   },
   "file_extension": ".py",
   "mimetype": "text/x-python",
   "name": "python",
   "nbconvert_exporter": "python",
   "pygments_lexer": "ipython3",
   "version": "3.8.6"
  }
 },
 "nbformat": 4,
 "nbformat_minor": 5
}
