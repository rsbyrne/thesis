{
 "cells": [
  {
   "cell_type": "code",
   "execution_count": 1,
   "id": "aquatic-label",
   "metadata": {},
   "outputs": [],
   "source": [
    "from thesis_initialise import *\n",
    "\n",
    "import numpy as _np"
   ]
  },
  {
   "cell_type": "code",
   "execution_count": 3,
   "id": "french-tobago",
   "metadata": {},
   "outputs": [],
   "source": [
    "from dataclasses import dataclass, fields"
   ]
  },
  {
   "cell_type": "code",
   "execution_count": 237,
   "id": "biblical-visit",
   "metadata": {},
   "outputs": [],
   "source": [
    "################################################################################\n",
    "\n",
    "from functools import lru_cache as _lru_cache, reduce as _reduce\n",
    "import numpy as _np\n",
    "\n",
    "@dataclass\n",
    "class ChesterWorld:\n",
    "    nTimes: int = 24\n",
    "    dtype: str = 'uint8'\n",
    "    levels: int = 2\n",
    "    popDensity: int = 1500 # persons per km 2\n",
    "    scale: float = 2**12 / 1e3 # outermost edge km\n",
    "    def __post_init__(self):\n",
    "        self.nAgents = nAgents = round(self.popDensity * self.scale ** 2)\n",
    "        shape = (nAgents, self.nTimes, self.levels)\n",
    "        self.agentIDs = _np.arange(nAgents)\n",
    "        self.schedule = _np.random.randint(0, 2**8, shape, self.dtype)\n",
    "        self._hashVal = np.random.randint(10**12, 10**13 - 1)\n",
    "    @_lru_cache\n",
    "    def get_potential_contacts(self, agentID: int, level: int, /):\n",
    "        if level:\n",
    "            shortlist = self.get_potential_contacts(agentID, level - 1)\n",
    "        else:\n",
    "            shortlist = self.agentIDs\n",
    "        schedule = self.schedule[:, :, level][shortlist]\n",
    "        matches = schedule == schedule[agentID]\n",
    "        return shortlist[_np.unique(_np.nonzero(matches)[0])]\n",
    "    def __hash__(self):\n",
    "        return self._hashVal\n",
    "\n",
    "################################################################################\n",
    "\n",
    "#         if level = 0:\n",
    "#             schedule = self.schedule\n",
    "#         else:\n",
    "#             schedule = self.get_potential_contacts(agentID, level - 1)\n",
    "#         schedule = self.schedule[:, :, :level+1]\n",
    "#         contacts = _np.nonzero(schedule == schedule[agentID])[0]\n",
    "#         return sorted(set(contacts))\n",
    "#     def get_contacts(self, agentID: int):\n",
    "#         schedule = self.schedule\n",
    "#         f\n",
    "#         return _reduce(\n",
    "#             self.get_potential_contacts,\n",
    "#             (agentID, )\n",
    "#             )"
   ]
  },
  {
   "cell_type": "code",
   "execution_count": 250,
   "id": "ancient-synthesis",
   "metadata": {},
   "outputs": [
    {
     "name": "stdout",
     "output_type": "stream",
     "text": [
      "CPU times: user 689 ms, sys: 236 ms, total: 925 ms\n",
      "Wall time: 931 ms\n",
      "CPU times: user 725 ms, sys: 196 ms, total: 921 ms\n",
      "Wall time: 921 ms\n",
      "CPU times: user 95.3 ms, sys: 73 µs, total: 95.4 ms\n",
      "Wall time: 95.4 ms\n",
      "CPU times: user 11.6 ms, sys: 0 ns, total: 11.6 ms\n",
      "Wall time: 11.7 ms\n",
      "nContacts = 4639\n"
     ]
    }
   ],
   "source": [
    "%time model = ChesterWorld(levels = 3, scale = 2**16/1e3)\n",
    "%time contacts = model.get_potential_contacts(0, 0)\n",
    "%time contacts = model.get_potential_contacts(0, 1)\n",
    "%time contacts = model.get_potential_contacts(0, 2)\n",
    "print(f\"nContacts = {len(contacts)}\")\n",
    "assert all(_np.any(model.schedule[0] == model.schedule[contact]) for contact in contacts)"
   ]
  }
 ],
 "metadata": {
  "kernelspec": {
   "display_name": "Python 3",
   "language": "python",
   "name": "python3"
  },
  "language_info": {
   "codemirror_mode": {
    "name": "ipython",
    "version": 3
   },
   "file_extension": ".py",
   "mimetype": "text/x-python",
   "name": "python",
   "nbconvert_exporter": "python",
   "pygments_lexer": "ipython3",
   "version": "3.8.6"
  }
 },
 "nbformat": 4,
 "nbformat_minor": 5
}
