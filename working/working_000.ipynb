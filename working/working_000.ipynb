{
 "cells": [
  {
   "cell_type": "code",
   "execution_count": 1,
   "id": "general-rabbit",
   "metadata": {},
   "outputs": [],
   "source": [
    "import init"
   ]
  },
  {
   "cell_type": "code",
   "execution_count": 4,
   "id": "white-throat",
   "metadata": {},
   "outputs": [],
   "source": [
    "from crisis_model.array import *\n",
    "import numpy as np\n",
    "from functools import partial\n",
    "import warnings\n",
    "\n",
    "class Covid1:\n",
    "\n",
    "    def __init__(self,\n",
    "            # params\n",
    "                aspect = 1.2, # x length relative to y length\n",
    "                scale = 22., # y length in km\n",
    "                corner = [0., 0.], # coords of bottom-left corner\n",
    "                timescale = 1., # days per timestep\n",
    "                popDensity = 508, # people per sq km\n",
    "                initialIndicated = 1, # initial mystery cases\n",
    "                directionChange = 0.5, # where 1 == 180 deg per day\n",
    "                speed = 5, # agent travel speed in km / h\n",
    "                infectionChance = 0.1, # chance of transmission by 'contact'\n",
    "                recoverMean = 14, # average recovery time in days\n",
    "                recoverSpread = 2, # standard deviations of recovery curve\n",
    "                contactLength = 1.5, # proximity in metres defining 'contact'\n",
    "                spatialDecimals = None, # spatial precision limit\n",
    "                seed = 1066, # random seed\n",
    "            # _configs\n",
    "                agentCoords = None,\n",
    "                headings = None,\n",
    "                indicated = False,\n",
    "                recovered = False,\n",
    "                timeIndicated = 0.,\n",
    "            ):\n",
    "\n",
    "        super().__init__()\n",
    "\n",
    "    @staticmethod\n",
    "    def _construct(p):\n",
    "\n",
    "        nAgents = int(p.scale ** 2 * p.aspect * p.popDensity)\n",
    "        travelLength = p.speed * p.timescale * 24.\n",
    "\n",
    "        minCoords, maxCoords, domainLengths = get_coordInfo(\n",
    "            p.corner, p.aspect, p.scale\n",
    "            )\n",
    "\n",
    "        agentCoords = np.full((nAgents, 2), np.nan, dtype = float)\n",
    "\n",
    "        headings = np.full(nAgents, np.nan, dtype = float)\n",
    "        distances = np.full(nAgents, np.nan, dtype = float)\n",
    "\n",
    "        indicated = np.empty(nAgents, dtype = bool)\n",
    "        timeIndicated = np.zeros(nAgents, dtype = float)\n",
    "        recovered = np.empty(nAgents, dtype = bool)\n",
    "        susceptible = np.empty(nAgents, dtype = bool)\n",
    "\n",
    "        def iterate_coords(rng):\n",
    "            distances[...] = rng.random(nAgents) * travelLength\n",
    "            ang = p.directionChange * p.timescale\n",
    "            headings[...] += (rng.random(nAgents) - 0.5) * 2. * np.pi * ang\n",
    "            wrap = minCoords, maxCoords\n",
    "            displace_coords(agentCoords, distances, headings, wrap)\n",
    "            if not p.spatialDecimals is None:\n",
    "                round_coords(agentCoords, p.spatialDecimals)\n",
    "\n",
    "        def get_encounters():\n",
    "            susceptibles = susceptible.nonzero()[0]\n",
    "            indicateds = indicated.nonzero()[0]\n",
    "            if not (len(susceptibles) and len(indicateds)):\n",
    "                return []\n",
    "            flip = len(susceptibles) < len(indicateds)\n",
    "            if not flip:\n",
    "                ids1, ids2 = susceptibles, indicateds\n",
    "            else:\n",
    "                ids1, ids2 = indicateds, susceptibles\n",
    "            adjCoords = agentCoords - minCoords\n",
    "            strategy = partial(\n",
    "                accelerated_neighbours_radius_array,\n",
    "                leafsize = 128\n",
    "                )\n",
    "            contacts = strategy(\n",
    "                adjCoords[ids1],\n",
    "                adjCoords[ids2],\n",
    "                p.contactLength / 1000.,\n",
    "                maxCoords - minCoords,\n",
    "                )\n",
    "            encounters = np.array([\n",
    "                (id1, id2)\n",
    "                    for id1, subcontacts in zip(ids2, contacts)\n",
    "                        for id2 in ids1[subcontacts]\n",
    "                ]) # <- very quick\n",
    "            if len(encounters) and flip:\n",
    "                encounters = encounters[:, slice(None, None, -1)]\n",
    "            return encounters\n",
    "\n",
    "        def get_newIndicateds(rng):\n",
    "            encounters = get_encounters()\n",
    "            if len(encounters):\n",
    "                return np.unique(\n",
    "                    encounters[\n",
    "                        rng.random(encounters.shape[0]) < p.infectionChance\n",
    "                        ][:, 1]\n",
    "                    )\n",
    "            else:\n",
    "                return []\n",
    "\n",
    "        def iterate_indicateds(rng):\n",
    "            newIndicateds = get_newIndicateds(rng)\n",
    "            indicated[newIndicateds] = True\n",
    "            susceptible[newIndicateds] = False\n",
    "\n",
    "        def iterate_recovered(rng):\n",
    "            indicateds = indicated.nonzero()[0]\n",
    "            recovery = rng.normal(\n",
    "                p.recoverMean,\n",
    "                p.recoverSpread,\n",
    "                len(indicateds),\n",
    "                ) < timeIndicated[indicated]\n",
    "            indicated[indicateds] = ~recovery\n",
    "            recovered[indicateds] = recovery\n",
    "\n",
    "        def get_rng(addseed = None):\n",
    "            if addseed is None:\n",
    "                addseed = int(agentCoords.sum())\n",
    "            seed = int(p.seed + addseed)\n",
    "            return np.random.default_rng(seed)\n",
    "\n",
    "        def add_mystery_indicateds(rng):\n",
    "            nonSusceptible = susceptible.nonzero()[0]\n",
    "            nNew = min(len(nonSusceptible), p.initialIndicated)\n",
    "            newCases = rng.choice(nonSusceptible, nNew, replace = False)\n",
    "            indicated[newCases] = True\n",
    "            susceptible[newCases] = False\n",
    "\n",
    "        def randomise_coords(rng):\n",
    "            warnings.warn(\n",
    "                \"Setting coords randomly - did you expect this?\",\n",
    "                stacklevel = 3\n",
    "                )\n",
    "            agentCoords[...] = \\\n",
    "                rng.random((nAgents, 2)) \\\n",
    "                * (maxCoords - minCoords) \\\n",
    "                + p.corner\n",
    "\n",
    "        def randomise_headings(rng):\n",
    "            warnings.warn(\n",
    "                \"Setting headings randomly - did you expect this?\",\n",
    "                stacklevel = 3\n",
    "                )\n",
    "            headings[...] = rng.random(nAgents) * 2. * np.pi\n",
    "\n",
    "        def initialise():\n",
    "            rng = get_rng(0)\n",
    "            if np.isnan(agentCoords).any():\n",
    "                randomise_coords(rng)\n",
    "            if np.isnan(headings).any():\n",
    "                randomise_headings(rng)\n",
    "            update_statuses()\n",
    "            if p.initialIndicated:\n",
    "                add_mystery_indicateds(rng)\n",
    "\n",
    "        def iterate():\n",
    "            rng = get_rng()\n",
    "            timeIndicated[~susceptible] += p.timescale\n",
    "            iterate_coords(rng)\n",
    "            iterate_indicateds(rng)\n",
    "            iterate_recovered(rng)\n",
    "            return p.timescale\n",
    "\n",
    "        def stop():\n",
    "            return not bool(len(indicated.nonzero()[0]))\n",
    "\n",
    "        def update_statuses():\n",
    "            indicated[recovered] = False\n",
    "            susceptible[...] = True\n",
    "            susceptible[indicated] = False\n",
    "            susceptible[recovered] = False\n",
    "\n",
    "        def _update():\n",
    "            update_statuses()\n",
    "\n",
    "        return locals()"
   ]
  },
  {
   "cell_type": "code",
   "execution_count": 5,
   "id": "expired-opening",
   "metadata": {},
   "outputs": [],
   "source": [
    "mymodel = Covid1()"
   ]
  },
  {
   "cell_type": "code",
   "execution_count": 14,
   "id": "sixth-parts",
   "metadata": {},
   "outputs": [],
   "source": [
    "from everest.cascade import Inputs"
   ]
  },
  {
   "cell_type": "code",
   "execution_count": 32,
   "id": "outer-catalog",
   "metadata": {},
   "outputs": [],
   "source": [
    "class Grouper:\n",
    "    def __init__(self, **kwargs):\n",
    "        for k, v in kwargs.items():\n",
    "            setattr(self, k, v)"
   ]
  },
  {
   "cell_type": "code",
   "execution_count": 42,
   "id": "imported-kernel",
   "metadata": {},
   "outputs": [],
   "source": [
    "mymodel = Covid1._construct(Grouper(\n",
    "    # params\n",
    "    aspect = 1.2, # x length relative to y length\n",
    "    scale = 2., # y length in km\n",
    "    corner = [0., 0.], # coords of bottom-left corner\n",
    "    timescale = 1., # days per timestep\n",
    "    popDensity = 508, # people per sq km\n",
    "    initialIndicated = 1, # initial mystery cases\n",
    "    directionChange = 0.5, # where 1 == 180 deg per day\n",
    "    speed = 5, # agent travel speed in km / h\n",
    "    infectionChance = 0.1, # chance of transmission by 'contact'\n",
    "    recoverMean = 14, # average recovery time in days\n",
    "    recoverSpread = 2, # standard deviations of recovery curve\n",
    "    contactLength = 1.5, # proximity in metres defining 'contact'\n",
    "    spatialDecimals = None, # spatial precision limit\n",
    "    seed = 1066, # random seed\n",
    "    # _configs\n",
    "    agentCoords = None,\n",
    "    headings = None,\n",
    "    indicated = False,\n",
    "    recovered = False,\n",
    "    timeIndicated = 0.,\n",
    "    ))"
   ]
  },
  {
   "cell_type": "code",
   "execution_count": 43,
   "id": "directed-bronze",
   "metadata": {},
   "outputs": [
    {
     "name": "stderr",
     "output_type": "stream",
     "text": [
      "<ipython-input-43-a148a1aa9660>:1: UserWarning: Setting coords randomly - did you expect this?\n",
      "  mymodel['initialise']()\n",
      "<ipython-input-43-a148a1aa9660>:1: UserWarning: Setting headings randomly - did you expect this?\n",
      "  mymodel['initialise']()\n"
     ]
    }
   ],
   "source": [
    "mymodel['initialise']()"
   ]
  },
  {
   "cell_type": "code",
   "execution_count": 44,
   "id": "restricted-running",
   "metadata": {},
   "outputs": [],
   "source": [
    "iterate = mymodel['iterate']"
   ]
  },
  {
   "cell_type": "code",
   "execution_count": 45,
   "id": "comic-boring",
   "metadata": {},
   "outputs": [],
   "source": [
    "from timeit import timeit"
   ]
  },
  {
   "cell_type": "code",
   "execution_count": 46,
   "id": "aerial-feelings",
   "metadata": {},
   "outputs": [
    {
     "data": {
      "text/plain": [
       "0.07909614604432136"
      ]
     },
     "execution_count": 46,
     "metadata": {},
     "output_type": "execute_result"
    }
   ],
   "source": [
    "timeit(iterate, number = 100)"
   ]
  },
  {
   "cell_type": "code",
   "execution_count": 47,
   "id": "expired-portugal",
   "metadata": {},
   "outputs": [
    {
     "data": {
      "text/plain": [
       "2438"
      ]
     },
     "execution_count": 47,
     "metadata": {},
     "output_type": "execute_result"
    }
   ],
   "source": [
    "mymodel['nAgents']"
   ]
  },
  {
   "cell_type": "code",
   "execution_count": 49,
   "id": "sought-scroll",
   "metadata": {},
   "outputs": [
    {
     "data": {
      "text/plain": [
       "37.5"
      ]
     },
     "execution_count": 49,
     "metadata": {},
     "output_type": "execute_result"
    }
   ],
   "source": [
    "3 / 0.08"
   ]
  },
  {
   "cell_type": "code",
   "execution_count": null,
   "id": "finished-victorian",
   "metadata": {},
   "outputs": [],
   "source": []
  },
  {
   "cell_type": "code",
   "execution_count": 11,
   "id": "further-chinese",
   "metadata": {},
   "outputs": [
    {
     "ename": "AttributeError",
     "evalue": "'Covid1' object has no attribute 'inputs'",
     "output_type": "error",
     "traceback": [
      "\u001b[0;31m---------------------------------------------------------------------------\u001b[0m",
      "\u001b[0;31mAttributeError\u001b[0m                            Traceback (most recent call last)",
      "\u001b[0;32m<ipython-input-11-e521008263f9>\u001b[0m in \u001b[0;36m<module>\u001b[0;34m\u001b[0m\n\u001b[0;32m----> 1\u001b[0;31m \u001b[0mmymodel\u001b[0m\u001b[0;34m.\u001b[0m\u001b[0minputs\u001b[0m\u001b[0;34m\u001b[0m\u001b[0;34m\u001b[0m\u001b[0m\n\u001b[0m",
      "\u001b[0;31mAttributeError\u001b[0m: 'Covid1' object has no attribute 'inputs'"
     ]
    }
   ],
   "source": [
    "mymodel."
   ]
  },
  {
   "cell_type": "code",
   "execution_count": 8,
   "id": "affecting-forum",
   "metadata": {},
   "outputs": [
    {
     "ename": "TypeError",
     "evalue": "_construct() missing 1 required positional argument: 'p'",
     "output_type": "error",
     "traceback": [
      "\u001b[0;31m---------------------------------------------------------------------------\u001b[0m",
      "\u001b[0;31mTypeError\u001b[0m                                 Traceback (most recent call last)",
      "\u001b[0;32m<ipython-input-8-d57a8a14238c>\u001b[0m in \u001b[0;36m<module>\u001b[0;34m\u001b[0m\n\u001b[0;32m----> 1\u001b[0;31m \u001b[0mmyconstruct\u001b[0m \u001b[0;34m=\u001b[0m \u001b[0mmymodel\u001b[0m\u001b[0;34m.\u001b[0m\u001b[0m_construct\u001b[0m\u001b[0;34m(\u001b[0m\u001b[0;34m)\u001b[0m\u001b[0;34m\u001b[0m\u001b[0;34m\u001b[0m\u001b[0m\n\u001b[0m",
      "\u001b[0;31mTypeError\u001b[0m: _construct() missing 1 required positional argument: 'p'"
     ]
    }
   ],
   "source": [
    "myconstruct = mymodel._construct(\n",
    "    )"
   ]
  },
  {
   "cell_type": "code",
   "execution_count": null,
   "id": "seventh-basics",
   "metadata": {},
   "outputs": [],
   "source": []
  }
 ],
 "metadata": {
  "kernelspec": {
   "display_name": "Python 3",
   "language": "python",
   "name": "python3"
  },
  "language_info": {
   "codemirror_mode": {
    "name": "ipython",
    "version": 3
   },
   "file_extension": ".py",
   "mimetype": "text/x-python",
   "name": "python",
   "nbconvert_exporter": "python",
   "pygments_lexer": "ipython3",
   "version": "3.8.6"
  }
 },
 "nbformat": 4,
 "nbformat_minor": 5
}
