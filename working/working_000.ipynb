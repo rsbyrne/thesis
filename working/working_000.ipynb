{
 "cells": [
  {
   "cell_type": "code",
   "execution_count": null,
   "id": "together-intake",
   "metadata": {},
   "outputs": [],
   "source": [
    "import os"
   ]
  },
  {
   "cell_type": "code",
   "execution_count": null,
   "id": "independent-transfer",
   "metadata": {},
   "outputs": [],
   "source": []
  },
  {
   "cell_type": "code",
   "execution_count": null,
   "id": "banner-finding",
   "metadata": {},
   "outputs": [],
   "source": [
    "np.linspace(1., 0.5, 11)"
   ]
  },
  {
   "cell_type": "code",
   "execution_count": null,
   "id": "consolidated-burden",
   "metadata": {},
   "outputs": [],
   "source": [
    "list(itertools.product(\n",
    "    [0.5, 0.6, 0.7, 0.8, 0.9, 1.0],\n",
    "    [2. ** (i / 2) for i in range(2)],\n",
    "    ))[3]"
   ]
  },
  {
   "cell_type": "code",
   "execution_count": null,
   "id": "infectious-nomination",
   "metadata": {},
   "outputs": [],
   "source": [
    "[0., *[10. ** (i / 2) for i in range(-2, 3)]][1]"
   ]
  },
  {
   "cell_type": "code",
   "execution_count": null,
   "id": "figured-passage",
   "metadata": {},
   "outputs": [],
   "source": [
    "[0., *[10. ** (i / 2) for i in range(-2, 3)]]"
   ]
  },
  {
   "cell_type": "code",
   "execution_count": null,
   "id": "convenient-product",
   "metadata": {},
   "outputs": [],
   "source": [
    "import numpy as np"
   ]
  },
  {
   "cell_type": "code",
   "execution_count": null,
   "id": "heavy-analysis",
   "metadata": {},
   "outputs": [],
   "source": [
    "10 ** np.linspace(0, 1, 11)"
   ]
  },
  {
   "cell_type": "code",
   "execution_count": null,
   "id": "published-theater",
   "metadata": {},
   "outputs": [],
   "source": [
    "[(i / 4.) for i in range(8, 29)]"
   ]
  },
  {
   "cell_type": "code",
   "execution_count": null,
   "id": "attempted-attention",
   "metadata": {},
   "outputs": [],
   "source": [
    "np.linspace(2.5, 7.5, 21)"
   ]
  },
  {
   "cell_type": "code",
   "execution_count": null,
   "id": "still-logging",
   "metadata": {},
   "outputs": [],
   "source": [
    "[0., *(float(n) for n in np.round(10 ** np.linspace(-2, 1, 13), 3))]"
   ]
  },
  {
   "cell_type": "code",
   "execution_count": null,
   "id": "supreme-finder",
   "metadata": {},
   "outputs": [],
   "source": [
    "[10. ** (i / 2) for i in range(11)][3]"
   ]
  },
  {
   "cell_type": "code",
   "execution_count": null,
   "id": "raised-photograph",
   "metadata": {},
   "outputs": [],
   "source": [
    "[0., *[10. ** (i / 2) for i in range(-2, 3)]]"
   ]
  },
  {
   "cell_type": "code",
   "execution_count": null,
   "id": "attractive-massachusetts",
   "metadata": {},
   "outputs": [],
   "source": [
    "def get_aspect(f):\n",
    "    outer = 1 / (1 - f)\n",
    "    inner = outer - 1\n",
    "    full = math.pi * (outer + inner)\n",
    "    cycles = round(full / 2) * 2\n",
    "    partial = round(full / cycles, 3)\n",
    "    return cycles, partial\n",
    "cycles, partial = get_aspect(f)"
   ]
  },
  {
   "cell_type": "code",
   "execution_count": null,
   "id": "immediate-thompson",
   "metadata": {},
   "outputs": [],
   "source": [
    "[get_aspect(f) for f in np.linspace(0.95, 0.5, 10)]"
   ]
  },
  {
   "cell_type": "code",
   "execution_count": null,
   "id": "cutting-sigma",
   "metadata": {},
   "outputs": [],
   "source": [
    "[0., *[10. ** (i / 2) for i in range(-2, 3)]][2]"
   ]
  },
  {
   "cell_type": "code",
   "execution_count": null,
   "id": "hollywood-introduction",
   "metadata": {},
   "outputs": [],
   "source": [
    "np.linspace(0.95, 0.5, 10)"
   ]
  },
  {
   "cell_type": "code",
   "execution_count": null,
   "id": "bacterial-involvement",
   "metadata": {},
   "outputs": [],
   "source": [
    "[10. ** (i / 2) for i in range(11)][9]"
   ]
  },
  {
   "cell_type": "code",
   "execution_count": null,
   "id": "suspected-office",
   "metadata": {},
   "outputs": [],
   "source": [
    "31622 / 3e4"
   ]
  },
  {
   "cell_type": "code",
   "execution_count": null,
   "id": "reserved-account",
   "metadata": {},
   "outputs": [],
   "source": [
    "get_aspect(0.1)"
   ]
  },
  {
   "cell_type": "code",
   "execution_count": null,
   "id": "studied-invitation",
   "metadata": {},
   "outputs": [],
   "source": [
    "get_aspect(0.9)"
   ]
  },
  {
   "cell_type": "code",
   "execution_count": null,
   "id": "creative-beatles",
   "metadata": {},
   "outputs": [],
   "source": [
    "np.round(2 ** np.linspace(0, 0.5, 6), 3)"
   ]
  },
  {
   "cell_type": "code",
   "execution_count": null,
   "id": "documented-preparation",
   "metadata": {},
   "outputs": [],
   "source": [
    "np.linspace(1.0, 0.5, 11)"
   ]
  },
  {
   "cell_type": "code",
   "execution_count": null,
   "id": "horizontal-editor",
   "metadata": {},
   "outputs": [],
   "source": []
  },
  {
   "cell_type": "code",
   "execution_count": null,
   "id": "exterior-exemption",
   "metadata": {},
   "outputs": [],
   "source": []
  },
  {
   "cell_type": "code",
   "execution_count": null,
   "id": "broken-adrian",
   "metadata": {},
   "outputs": [],
   "source": [
    "ARG1, ARG2, ARG3, alpha = 1, 2, 3, 4"
   ]
  },
  {
   "cell_type": "code",
   "execution_count": null,
   "id": "eight-mechanics",
   "metadata": {},
   "outputs": [],
   "source": [
    "args = [str(a) for a in [ARG1, ARG2, ARG3, round(math.log10(alpha))]]"
   ]
  },
  {
   "cell_type": "code",
   "execution_count": null,
   "id": "clear-jonathan",
   "metadata": {},
   "outputs": [],
   "source": [
    "args"
   ]
  },
  {
   "cell_type": "code",
   "execution_count": null,
   "id": "funky-artist",
   "metadata": {},
   "outputs": [],
   "source": [
    "'_'.join(args)"
   ]
  },
  {
   "cell_type": "code",
   "execution_count": null,
   "id": "damaged-slovakia",
   "metadata": {},
   "outputs": [],
   "source": [
    "import itertools\n",
    "\n",
    "import numpy as np"
   ]
  },
  {
   "cell_type": "code",
   "execution_count": null,
   "id": "certified-cabin",
   "metadata": {},
   "outputs": [],
   "source": [
    "list(itertools.product(\n",
    "    [0.5, 0.6, 0.7, 0.8, 0.9, 1.0],\n",
    "    [2. ** (i / 2) for i in range(2)],\n",
    "    ))"
   ]
  },
  {
   "cell_type": "code",
   "execution_count": null,
   "id": "stock-telescope",
   "metadata": {},
   "outputs": [],
   "source": [
    "np.linspace(5, 6, 11)"
   ]
  },
  {
   "cell_type": "code",
   "execution_count": null,
   "id": "regular-inquiry",
   "metadata": {},
   "outputs": [],
   "source": [
    "round(9.35 / 2) * 2"
   ]
  },
  {
   "cell_type": "code",
   "execution_count": null,
   "id": "extensive-smooth",
   "metadata": {},
   "outputs": [],
   "source": [
    "def get_aspect(f):\n",
    "    outer = 1 / (1 - f)\n",
    "    inner = outer - 1\n",
    "    full = math.pi * (outer + inner)\n",
    "    cycles = round(full / 2) * 2\n",
    "    partial = round(full / cycles, 3)\n",
    "    return cycles, partial\n",
    "# cycles, partial = get_aspect(f)"
   ]
  },
  {
   "cell_type": "code",
   "execution_count": null,
   "id": "stopped-nirvana",
   "metadata": {},
   "outputs": [],
   "source": [
    "get_aspect(0.5)"
   ]
  },
  {
   "cell_type": "code",
   "execution_count": null,
   "id": "accredited-bishop",
   "metadata": {},
   "outputs": [],
   "source": []
  },
  {
   "cell_type": "code",
   "execution_count": null,
   "id": "vital-customs",
   "metadata": {},
   "outputs": [],
   "source": [
    "import init"
   ]
  },
  {
   "cell_type": "code",
   "execution_count": null,
   "id": "excessive-network",
   "metadata": {},
   "outputs": [],
   "source": [
    "from crisis_model.array import *\n",
    "import numpy as np\n",
    "from functools import partial\n",
    "import warnings\n",
    "\n",
    "class Covid1:\n",
    "\n",
    "    def __init__(self,\n",
    "            # params\n",
    "                aspect = 1.2, # x length relative to y length\n",
    "                scale = 22., # y length in km\n",
    "                corner = [0., 0.], # coords of bottom-left corner\n",
    "                timescale = 1., # days per timestep\n",
    "                popDensity = 508, # people per sq km\n",
    "                initialIndicated = 1, # initial mystery cases\n",
    "                directionChange = 0.5, # where 1 == 180 deg per day\n",
    "                speed = 5, # agent travel speed in km / h\n",
    "                infectionChance = 0.1, # chance of transmission by 'contact'\n",
    "                recoverMean = 14, # average recovery time in days\n",
    "                recoverSpread = 2, # standard deviations of recovery curve\n",
    "                contactLength = 1.5, # proximity in metres defining 'contact'\n",
    "                spatialDecimals = None, # spatial precision limit\n",
    "                seed = 1066, # random seed\n",
    "            # _configs\n",
    "                agentCoords = None,\n",
    "                headings = None,\n",
    "                indicated = False,\n",
    "                recovered = False,\n",
    "                timeIndicated = 0.,\n",
    "            ):\n",
    "\n",
    "        super().__init__()\n",
    "\n",
    "    @staticmethod\n",
    "    def _construct(p):\n",
    "\n",
    "        nAgents = int(p.scale ** 2 * p.aspect * p.popDensity)\n",
    "        travelLength = p.speed * p.timescale * 24.\n",
    "\n",
    "        minCoords, maxCoords, domainLengths = get_coordInfo(\n",
    "            p.corner, p.aspect, p.scale\n",
    "            )\n",
    "\n",
    "        agentCoords = np.full((nAgents, 2), np.nan, dtype = float)\n",
    "\n",
    "        headings = np.full(nAgents, np.nan, dtype = float)\n",
    "        distances = np.full(nAgents, np.nan, dtype = float)\n",
    "\n",
    "        indicated = np.empty(nAgents, dtype = bool)\n",
    "        timeIndicated = np.zeros(nAgents, dtype = float)\n",
    "        recovered = np.empty(nAgents, dtype = bool)\n",
    "        susceptible = np.empty(nAgents, dtype = bool)\n",
    "\n",
    "        def iterate_coords(rng):\n",
    "            distances[...] = rng.random(nAgents) * travelLength\n",
    "            ang = p.directionChange * p.timescale\n",
    "            headings[...] += (rng.random(nAgents) - 0.5) * 2. * np.pi * ang\n",
    "            wrap = minCoords, maxCoords\n",
    "            displace_coords(agentCoords, distances, headings, wrap)\n",
    "            if not p.spatialDecimals is None:\n",
    "                round_coords(agentCoords, p.spatialDecimals)\n",
    "\n",
    "        def get_encounters():\n",
    "            susceptibles = susceptible.nonzero()[0]\n",
    "            indicateds = indicated.nonzero()[0]\n",
    "            if not (len(susceptibles) and len(indicateds)):\n",
    "                return []\n",
    "            flip = len(susceptibles) < len(indicateds)\n",
    "            if not flip:\n",
    "                ids1, ids2 = susceptibles, indicateds\n",
    "            else:\n",
    "                ids1, ids2 = indicateds, susceptibles\n",
    "            adjCoords = agentCoords - minCoords\n",
    "            strategy = partial(\n",
    "                accelerated_neighbours_radius_array,\n",
    "                leafsize = 128\n",
    "                )\n",
    "            contacts = strategy(\n",
    "                adjCoords[ids1],\n",
    "                adjCoords[ids2],\n",
    "                p.contactLength / 1000.,\n",
    "                maxCoords - minCoords,\n",
    "                )\n",
    "            encounters = np.array([\n",
    "                (id1, id2)\n",
    "                    for id1, subcontacts in zip(ids2, contacts)\n",
    "                        for id2 in ids1[subcontacts]\n",
    "                ]) # <- very quick\n",
    "            if len(encounters) and flip:\n",
    "                encounters = encounters[:, slice(None, None, -1)]\n",
    "            return encounters\n",
    "\n",
    "        def get_newIndicateds(rng):\n",
    "            encounters = get_encounters()\n",
    "            if len(encounters):\n",
    "                return np.unique(\n",
    "                    encounters[\n",
    "                        rng.random(encounters.shape[0]) < p.infectionChance\n",
    "                        ][:, 1]\n",
    "                    )\n",
    "            else:\n",
    "                return []\n",
    "\n",
    "        def iterate_indicateds(rng):\n",
    "            newIndicateds = get_newIndicateds(rng)\n",
    "            indicated[newIndicateds] = True\n",
    "            susceptible[newIndicateds] = False\n",
    "\n",
    "        def iterate_recovered(rng):\n",
    "            indicateds = indicated.nonzero()[0]\n",
    "            recovery = rng.normal(\n",
    "                p.recoverMean,\n",
    "                p.recoverSpread,\n",
    "                len(indicateds),\n",
    "                ) < timeIndicated[indicated]\n",
    "            indicated[indicateds] = ~recovery\n",
    "            recovered[indicateds] = recovery\n",
    "\n",
    "        def get_rng(addseed = None):\n",
    "            if addseed is None:\n",
    "                addseed = int(agentCoords.sum())\n",
    "            seed = int(p.seed + addseed)\n",
    "            return np.random.default_rng(seed)\n",
    "\n",
    "        def add_mystery_indicateds(rng):\n",
    "            nonSusceptible = susceptible.nonzero()[0]\n",
    "            nNew = min(len(nonSusceptible), p.initialIndicated)\n",
    "            newCases = rng.choice(nonSusceptible, nNew, replace = False)\n",
    "            indicated[newCases] = True\n",
    "            susceptible[newCases] = False\n",
    "\n",
    "        def randomise_coords(rng):\n",
    "            warnings.warn(\n",
    "                \"Setting coords randomly - did you expect this?\",\n",
    "                stacklevel = 3\n",
    "                )\n",
    "            agentCoords[...] = \\\n",
    "                rng.random((nAgents, 2)) \\\n",
    "                * (maxCoords - minCoords) \\\n",
    "                + p.corner\n",
    "\n",
    "        def randomise_headings(rng):\n",
    "            warnings.warn(\n",
    "                \"Setting headings randomly - did you expect this?\",\n",
    "                stacklevel = 3\n",
    "                )\n",
    "            headings[...] = rng.random(nAgents) * 2. * np.pi\n",
    "\n",
    "        def initialise():\n",
    "            rng = get_rng(0)\n",
    "            if np.isnan(agentCoords).any():\n",
    "                randomise_coords(rng)\n",
    "            if np.isnan(headings).any():\n",
    "                randomise_headings(rng)\n",
    "            update_statuses()\n",
    "            if p.initialIndicated:\n",
    "                add_mystery_indicateds(rng)\n",
    "\n",
    "        def iterate():\n",
    "            rng = get_rng()\n",
    "            timeIndicated[~susceptible] += p.timescale\n",
    "            iterate_coords(rng)\n",
    "            iterate_indicateds(rng)\n",
    "            iterate_recovered(rng)\n",
    "            return p.timescale\n",
    "\n",
    "        def stop():\n",
    "            return not bool(len(indicated.nonzero()[0]))\n",
    "\n",
    "        def update_statuses():\n",
    "            indicated[recovered] = False\n",
    "            susceptible[...] = True\n",
    "            susceptible[indicated] = False\n",
    "            susceptible[recovered] = False\n",
    "\n",
    "        def _update():\n",
    "            update_statuses()\n",
    "\n",
    "        return locals()"
   ]
  },
  {
   "cell_type": "code",
   "execution_count": null,
   "id": "encouraging-individual",
   "metadata": {},
   "outputs": [],
   "source": [
    "mymodel = Covid1()"
   ]
  },
  {
   "cell_type": "code",
   "execution_count": null,
   "id": "limiting-belarus",
   "metadata": {},
   "outputs": [],
   "source": [
    "from everest.cascade import Inputs"
   ]
  },
  {
   "cell_type": "code",
   "execution_count": null,
   "id": "african-kenya",
   "metadata": {},
   "outputs": [],
   "source": [
    "class Grouper:\n",
    "    def __init__(self, **kwargs):\n",
    "        for k, v in kwargs.items():\n",
    "            setattr(self, k, v)"
   ]
  },
  {
   "cell_type": "code",
   "execution_count": null,
   "id": "valuable-orbit",
   "metadata": {},
   "outputs": [],
   "source": [
    "mymodel = Covid1._construct(Grouper(\n",
    "    # params\n",
    "    aspect = 1.2, # x length relative to y length\n",
    "    scale = 2., # y length in km\n",
    "    corner = [0., 0.], # coords of bottom-left corner\n",
    "    timescale = 1., # days per timestep\n",
    "    popDensity = 508, # people per sq km\n",
    "    initialIndicated = 1, # initial mystery cases\n",
    "    directionChange = 0.5, # where 1 == 180 deg per day\n",
    "    speed = 5, # agent travel speed in km / h\n",
    "    infectionChance = 0.1, # chance of transmission by 'contact'\n",
    "    recoverMean = 14, # average recovery time in days\n",
    "    recoverSpread = 2, # standard deviations of recovery curve\n",
    "    contactLength = 1.5, # proximity in metres defining 'contact'\n",
    "    spatialDecimals = None, # spatial precision limit\n",
    "    seed = 1066, # random seed\n",
    "    # _configs\n",
    "    agentCoords = None,\n",
    "    headings = None,\n",
    "    indicated = False,\n",
    "    recovered = False,\n",
    "    timeIndicated = 0.,\n",
    "    ))"
   ]
  },
  {
   "cell_type": "code",
   "execution_count": null,
   "id": "august-speaking",
   "metadata": {},
   "outputs": [],
   "source": [
    "mymodel['initialise']()"
   ]
  },
  {
   "cell_type": "code",
   "execution_count": null,
   "id": "entitled-reception",
   "metadata": {},
   "outputs": [],
   "source": [
    "iterate = mymodel['iterate']"
   ]
  },
  {
   "cell_type": "code",
   "execution_count": null,
   "id": "dental-doctrine",
   "metadata": {},
   "outputs": [],
   "source": [
    "from timeit import timeit"
   ]
  },
  {
   "cell_type": "code",
   "execution_count": null,
   "id": "parliamentary-chapter",
   "metadata": {},
   "outputs": [],
   "source": [
    "timeit(iterate, number = 100)"
   ]
  },
  {
   "cell_type": "code",
   "execution_count": null,
   "id": "identical-brass",
   "metadata": {},
   "outputs": [],
   "source": [
    "mymodel['nAgents']"
   ]
  },
  {
   "cell_type": "code",
   "execution_count": null,
   "id": "documented-findings",
   "metadata": {},
   "outputs": [],
   "source": [
    "3 / 0.08"
   ]
  },
  {
   "cell_type": "code",
   "execution_count": null,
   "id": "renewable-coach",
   "metadata": {},
   "outputs": [],
   "source": []
  },
  {
   "cell_type": "code",
   "execution_count": null,
   "id": "center-sample",
   "metadata": {},
   "outputs": [],
   "source": [
    "mymodel."
   ]
  },
  {
   "cell_type": "code",
   "execution_count": null,
   "id": "opening-taiwan",
   "metadata": {},
   "outputs": [],
   "source": [
    "myconstruct = mymodel._construct(\n",
    "    )"
   ]
  },
  {
   "cell_type": "code",
   "execution_count": null,
   "id": "delayed-minority",
   "metadata": {},
   "outputs": [],
   "source": []
  }
 ],
 "metadata": {
  "kernelspec": {
   "display_name": "Python 3",
   "language": "python",
   "name": "python3"
  },
  "language_info": {
   "codemirror_mode": {
    "name": "ipython",
    "version": 3
   },
   "file_extension": ".py",
   "mimetype": "text/x-python",
   "name": "python",
   "nbconvert_exporter": "python",
   "pygments_lexer": "ipython3",
   "version": "3.8.6"
  }
 },
 "nbformat": 4,
 "nbformat_minor": 5
}
