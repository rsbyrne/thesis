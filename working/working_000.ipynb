{
 "cells": [
  {
   "cell_type": "code",
   "execution_count": 111,
   "id": "together-intake",
   "metadata": {},
   "outputs": [],
   "source": [
    "import os"
   ]
  },
  {
   "cell_type": "code",
   "execution_count": 115,
   "id": "independent-transfer",
   "metadata": {},
   "outputs": [],
   "source": []
  },
  {
   "cell_type": "code",
   "execution_count": 110,
   "id": "banner-finding",
   "metadata": {},
   "outputs": [
    {
     "data": {
      "text/plain": [
       "array([1.  , 0.95, 0.9 , 0.85, 0.8 , 0.75, 0.7 , 0.65, 0.6 , 0.55, 0.5 ])"
      ]
     },
     "execution_count": 110,
     "metadata": {},
     "output_type": "execute_result"
    }
   ],
   "source": [
    "np.linspace(1., 0.5, 11)"
   ]
  },
  {
   "cell_type": "code",
   "execution_count": 104,
   "id": "consolidated-burden",
   "metadata": {},
   "outputs": [
    {
     "data": {
      "text/plain": [
       "(0.6, 1.4142135623730951)"
      ]
     },
     "execution_count": 104,
     "metadata": {},
     "output_type": "execute_result"
    }
   ],
   "source": [
    "list(itertools.product(\n",
    "    [0.5, 0.6, 0.7, 0.8, 0.9, 1.0],\n",
    "    [2. ** (i / 2) for i in range(2)],\n",
    "    ))[3]"
   ]
  },
  {
   "cell_type": "code",
   "execution_count": 107,
   "id": "infectious-nomination",
   "metadata": {},
   "outputs": [
    {
     "data": {
      "text/plain": [
       "0.1"
      ]
     },
     "execution_count": 107,
     "metadata": {},
     "output_type": "execute_result"
    }
   ],
   "source": [
    "[0., *[10. ** (i / 2) for i in range(-2, 3)]][1]"
   ]
  },
  {
   "cell_type": "code",
   "execution_count": 59,
   "id": "figured-passage",
   "metadata": {},
   "outputs": [
    {
     "data": {
      "text/plain": [
       "[0.0, 0.1, 0.31622776601683794, 1.0, 3.1622776601683795, 10.0]"
      ]
     },
     "execution_count": 59,
     "metadata": {},
     "output_type": "execute_result"
    }
   ],
   "source": [
    "[0., *[10. ** (i / 2) for i in range(-2, 3)]]"
   ]
  },
  {
   "cell_type": "code",
   "execution_count": 60,
   "id": "convenient-product",
   "metadata": {},
   "outputs": [],
   "source": [
    "import numpy as np"
   ]
  },
  {
   "cell_type": "code",
   "execution_count": 64,
   "id": "heavy-analysis",
   "metadata": {},
   "outputs": [
    {
     "data": {
      "text/plain": [
       "array([ 1.        ,  1.25892541,  1.58489319,  1.99526231,  2.51188643,\n",
       "        3.16227766,  3.98107171,  5.01187234,  6.30957344,  7.94328235,\n",
       "       10.        ])"
      ]
     },
     "execution_count": 64,
     "metadata": {},
     "output_type": "execute_result"
    }
   ],
   "source": [
    "10 ** np.linspace(0, 1, 11)"
   ]
  },
  {
   "cell_type": "code",
   "execution_count": 66,
   "id": "published-theater",
   "metadata": {},
   "outputs": [
    {
     "data": {
      "text/plain": [
       "[2.0,\n",
       " 2.25,\n",
       " 2.5,\n",
       " 2.75,\n",
       " 3.0,\n",
       " 3.25,\n",
       " 3.5,\n",
       " 3.75,\n",
       " 4.0,\n",
       " 4.25,\n",
       " 4.5,\n",
       " 4.75,\n",
       " 5.0,\n",
       " 5.25,\n",
       " 5.5,\n",
       " 5.75,\n",
       " 6.0,\n",
       " 6.25,\n",
       " 6.5,\n",
       " 6.75,\n",
       " 7.0]"
      ]
     },
     "execution_count": 66,
     "metadata": {},
     "output_type": "execute_result"
    }
   ],
   "source": [
    "[(i / 4.) for i in range(8, 29)]"
   ]
  },
  {
   "cell_type": "code",
   "execution_count": 77,
   "id": "attempted-attention",
   "metadata": {},
   "outputs": [
    {
     "data": {
      "text/plain": [
       "array([2.5 , 2.75, 3.  , 3.25, 3.5 , 3.75, 4.  , 4.25, 4.5 , 4.75, 5.  ,\n",
       "       5.25, 5.5 , 5.75, 6.  , 6.25, 6.5 , 6.75, 7.  , 7.25, 7.5 ])"
      ]
     },
     "execution_count": 77,
     "metadata": {},
     "output_type": "execute_result"
    }
   ],
   "source": [
    "np.linspace(2.5, 7.5, 21)"
   ]
  },
  {
   "cell_type": "code",
   "execution_count": 91,
   "id": "still-logging",
   "metadata": {},
   "outputs": [
    {
     "data": {
      "text/plain": [
       "[0.0,\n",
       " 0.01,\n",
       " 0.018,\n",
       " 0.032,\n",
       " 0.056,\n",
       " 0.1,\n",
       " 0.178,\n",
       " 0.316,\n",
       " 0.562,\n",
       " 1.0,\n",
       " 1.778,\n",
       " 3.162,\n",
       " 5.623,\n",
       " 10.0]"
      ]
     },
     "execution_count": 91,
     "metadata": {},
     "output_type": "execute_result"
    }
   ],
   "source": [
    "[0., *(float(n) for n in np.round(10 ** np.linspace(-2, 1, 13), 3))]"
   ]
  },
  {
   "cell_type": "code",
   "execution_count": 99,
   "id": "supreme-finder",
   "metadata": {},
   "outputs": [
    {
     "data": {
      "text/plain": [
       "31.622776601683793"
      ]
     },
     "execution_count": 99,
     "metadata": {},
     "output_type": "execute_result"
    }
   ],
   "source": [
    "[10. ** (i / 2) for i in range(11)][3]"
   ]
  },
  {
   "cell_type": "code",
   "execution_count": 78,
   "id": "raised-photograph",
   "metadata": {},
   "outputs": [
    {
     "data": {
      "text/plain": [
       "[0.0, 0.1, 0.31622776601683794, 1.0, 3.1622776601683795, 10.0]"
      ]
     },
     "execution_count": 78,
     "metadata": {},
     "output_type": "execute_result"
    }
   ],
   "source": [
    "[0., *[10. ** (i / 2) for i in range(-2, 3)]]"
   ]
  },
  {
   "cell_type": "code",
   "execution_count": 42,
   "id": "attractive-massachusetts",
   "metadata": {},
   "outputs": [
    {
     "ename": "NameError",
     "evalue": "name 'f' is not defined",
     "output_type": "error",
     "traceback": [
      "\u001b[0;31m---------------------------------------------------------------------------\u001b[0m",
      "\u001b[0;31mNameError\u001b[0m                                 Traceback (most recent call last)",
      "\u001b[0;32m<ipython-input-42-2b9d8478d8db>\u001b[0m in \u001b[0;36m<module>\u001b[0;34m\u001b[0m\n\u001b[1;32m      6\u001b[0m     \u001b[0mpartial\u001b[0m \u001b[0;34m=\u001b[0m \u001b[0mround\u001b[0m\u001b[0;34m(\u001b[0m\u001b[0mfull\u001b[0m \u001b[0;34m/\u001b[0m \u001b[0mcycles\u001b[0m\u001b[0;34m,\u001b[0m \u001b[0;36m3\u001b[0m\u001b[0;34m)\u001b[0m\u001b[0;34m\u001b[0m\u001b[0;34m\u001b[0m\u001b[0m\n\u001b[1;32m      7\u001b[0m     \u001b[0;32mreturn\u001b[0m \u001b[0mcycles\u001b[0m\u001b[0;34m,\u001b[0m \u001b[0mpartial\u001b[0m\u001b[0;34m\u001b[0m\u001b[0;34m\u001b[0m\u001b[0m\n\u001b[0;32m----> 8\u001b[0;31m \u001b[0mcycles\u001b[0m\u001b[0;34m,\u001b[0m \u001b[0mpartial\u001b[0m \u001b[0;34m=\u001b[0m \u001b[0mget_aspect\u001b[0m\u001b[0;34m(\u001b[0m\u001b[0mf\u001b[0m\u001b[0;34m)\u001b[0m\u001b[0;34m\u001b[0m\u001b[0;34m\u001b[0m\u001b[0m\n\u001b[0m",
      "\u001b[0;31mNameError\u001b[0m: name 'f' is not defined"
     ]
    }
   ],
   "source": [
    "def get_aspect(f):\n",
    "    outer = 1 / (1 - f)\n",
    "    inner = outer - 1\n",
    "    full = math.pi * (outer + inner)\n",
    "    cycles = round(full / 2) * 2\n",
    "    partial = round(full / cycles, 3)\n",
    "    return cycles, partial\n",
    "cycles, partial = get_aspect(f)"
   ]
  },
  {
   "cell_type": "code",
   "execution_count": 98,
   "id": "immediate-thompson",
   "metadata": {},
   "outputs": [
    {
     "data": {
      "text/plain": [
       "[(122, 1.004),\n",
       " (60, 0.995),\n",
       " (38, 1.02),\n",
       " (28, 1.01),\n",
       " (22, 1.0),\n",
       " (18, 0.989),\n",
       " (14, 1.058),\n",
       " (12, 1.047),\n",
       " (10, 1.082),\n",
       " (10, 0.942)]"
      ]
     },
     "execution_count": 98,
     "metadata": {},
     "output_type": "execute_result"
    }
   ],
   "source": [
    "[get_aspect(f) for f in np.linspace(0.95, 0.5, 10)]"
   ]
  },
  {
   "cell_type": "code",
   "execution_count": 100,
   "id": "cutting-sigma",
   "metadata": {},
   "outputs": [
    {
     "data": {
      "text/plain": [
       "0.31622776601683794"
      ]
     },
     "execution_count": 100,
     "metadata": {},
     "output_type": "execute_result"
    }
   ],
   "source": [
    "[0., *[10. ** (i / 2) for i in range(-2, 3)]][2]"
   ]
  },
  {
   "cell_type": "code",
   "execution_count": 95,
   "id": "hollywood-introduction",
   "metadata": {},
   "outputs": [
    {
     "data": {
      "text/plain": [
       "array([0.95, 0.9 , 0.85, 0.8 , 0.75, 0.7 , 0.65, 0.6 , 0.55, 0.5 ])"
      ]
     },
     "execution_count": 95,
     "metadata": {},
     "output_type": "execute_result"
    }
   ],
   "source": [
    "np.linspace(0.95, 0.5, 10)"
   ]
  },
  {
   "cell_type": "code",
   "execution_count": 52,
   "id": "bacterial-involvement",
   "metadata": {},
   "outputs": [
    {
     "data": {
      "text/plain": [
       "31622.776601683792"
      ]
     },
     "execution_count": 52,
     "metadata": {},
     "output_type": "execute_result"
    }
   ],
   "source": [
    "[10. ** (i / 2) for i in range(11)][9]"
   ]
  },
  {
   "cell_type": "code",
   "execution_count": 51,
   "id": "suspected-office",
   "metadata": {},
   "outputs": [
    {
     "data": {
      "text/plain": [
       "1.0540666666666667"
      ]
     },
     "execution_count": 51,
     "metadata": {},
     "output_type": "execute_result"
    }
   ],
   "source": [
    "31622 / 3e4"
   ]
  },
  {
   "cell_type": "code",
   "execution_count": 46,
   "id": "reserved-account",
   "metadata": {},
   "outputs": [
    {
     "data": {
      "text/plain": [
       "(4, 0.96)"
      ]
     },
     "execution_count": 46,
     "metadata": {},
     "output_type": "execute_result"
    }
   ],
   "source": [
    "get_aspect(0.1)"
   ]
  },
  {
   "cell_type": "code",
   "execution_count": 45,
   "id": "studied-invitation",
   "metadata": {},
   "outputs": [
    {
     "data": {
      "text/plain": [
       "(60, 0.995)"
      ]
     },
     "execution_count": 45,
     "metadata": {},
     "output_type": "execute_result"
    }
   ],
   "source": [
    "get_aspect(0.9)"
   ]
  },
  {
   "cell_type": "code",
   "execution_count": 47,
   "id": "creative-beatles",
   "metadata": {},
   "outputs": [
    {
     "data": {
      "text/plain": [
       "array([1.   , 1.072, 1.149, 1.231, 1.32 , 1.414])"
      ]
     },
     "execution_count": 47,
     "metadata": {},
     "output_type": "execute_result"
    }
   ],
   "source": [
    "np.round(2 ** np.linspace(0, 0.5, 6), 3)"
   ]
  },
  {
   "cell_type": "code",
   "execution_count": 48,
   "id": "documented-preparation",
   "metadata": {},
   "outputs": [
    {
     "data": {
      "text/plain": [
       "array([1.  , 0.95, 0.9 , 0.85, 0.8 , 0.75, 0.7 , 0.65, 0.6 , 0.55, 0.5 ])"
      ]
     },
     "execution_count": 48,
     "metadata": {},
     "output_type": "execute_result"
    }
   ],
   "source": [
    "np.linspace(1.0, 0.5, 11)"
   ]
  },
  {
   "cell_type": "code",
   "execution_count": null,
   "id": "horizontal-editor",
   "metadata": {},
   "outputs": [],
   "source": []
  },
  {
   "cell_type": "code",
   "execution_count": null,
   "id": "exterior-exemption",
   "metadata": {},
   "outputs": [],
   "source": []
  },
  {
   "cell_type": "code",
   "execution_count": 35,
   "id": "broken-adrian",
   "metadata": {},
   "outputs": [],
   "source": [
    "ARG1, ARG2, ARG3, alpha = 1, 2, 3, 4"
   ]
  },
  {
   "cell_type": "code",
   "execution_count": 36,
   "id": "eight-mechanics",
   "metadata": {},
   "outputs": [],
   "source": [
    "args = [str(a) for a in [ARG1, ARG2, ARG3, round(math.log10(alpha))]]"
   ]
  },
  {
   "cell_type": "code",
   "execution_count": 37,
   "id": "clear-jonathan",
   "metadata": {},
   "outputs": [
    {
     "data": {
      "text/plain": [
       "['1', '2', '3', '1']"
      ]
     },
     "execution_count": 37,
     "metadata": {},
     "output_type": "execute_result"
    }
   ],
   "source": [
    "args"
   ]
  },
  {
   "cell_type": "code",
   "execution_count": 38,
   "id": "funky-artist",
   "metadata": {},
   "outputs": [
    {
     "data": {
      "text/plain": [
       "'1_2_3_1'"
      ]
     },
     "execution_count": 38,
     "metadata": {},
     "output_type": "execute_result"
    }
   ],
   "source": [
    "'_'.join(args)"
   ]
  },
  {
   "cell_type": "code",
   "execution_count": 32,
   "id": "damaged-slovakia",
   "metadata": {},
   "outputs": [],
   "source": [
    "import itertools\n",
    "\n",
    "import numpy as np"
   ]
  },
  {
   "cell_type": "code",
   "execution_count": 33,
   "id": "certified-cabin",
   "metadata": {},
   "outputs": [
    {
     "data": {
      "text/plain": [
       "[(0.5, 1.0),\n",
       " (0.5, 1.4142135623730951),\n",
       " (0.6, 1.0),\n",
       " (0.6, 1.4142135623730951),\n",
       " (0.7, 1.0),\n",
       " (0.7, 1.4142135623730951),\n",
       " (0.8, 1.0),\n",
       " (0.8, 1.4142135623730951),\n",
       " (0.9, 1.0),\n",
       " (0.9, 1.4142135623730951),\n",
       " (1.0, 1.0),\n",
       " (1.0, 1.4142135623730951)]"
      ]
     },
     "execution_count": 33,
     "metadata": {},
     "output_type": "execute_result"
    }
   ],
   "source": [
    "list(itertools.product(\n",
    "    [0.5, 0.6, 0.7, 0.8, 0.9, 1.0],\n",
    "    [2. ** (i / 2) for i in range(2)],\n",
    "    ))"
   ]
  },
  {
   "cell_type": "code",
   "execution_count": 7,
   "id": "stock-telescope",
   "metadata": {},
   "outputs": [
    {
     "data": {
      "text/plain": [
       "array([5. , 5.1, 5.2, 5.3, 5.4, 5.5, 5.6, 5.7, 5.8, 5.9, 6. ])"
      ]
     },
     "execution_count": 7,
     "metadata": {},
     "output_type": "execute_result"
    }
   ],
   "source": [
    "np.linspace(5, 6, 11)"
   ]
  },
  {
   "cell_type": "code",
   "execution_count": 8,
   "id": "regular-inquiry",
   "metadata": {},
   "outputs": [
    {
     "data": {
      "text/plain": [
       "10"
      ]
     },
     "execution_count": 8,
     "metadata": {},
     "output_type": "execute_result"
    }
   ],
   "source": [
    "round(9.35 / 2) * 2"
   ]
  },
  {
   "cell_type": "code",
   "execution_count": 29,
   "id": "extensive-smooth",
   "metadata": {},
   "outputs": [],
   "source": [
    "def get_aspect(f):\n",
    "    outer = 1 / (1 - f)\n",
    "    inner = outer - 1\n",
    "    full = math.pi * (outer + inner)\n",
    "    cycles = round(full / 2) * 2\n",
    "    partial = round(full / cycles, 3)\n",
    "    return cycles, partial\n",
    "# cycles, partial = get_aspect(f)"
   ]
  },
  {
   "cell_type": "code",
   "execution_count": 30,
   "id": "stopped-nirvana",
   "metadata": {},
   "outputs": [
    {
     "data": {
      "text/plain": [
       "(10, 0.942)"
      ]
     },
     "execution_count": 30,
     "metadata": {},
     "output_type": "execute_result"
    }
   ],
   "source": [
    "get_aspect(0.5)"
   ]
  },
  {
   "cell_type": "code",
   "execution_count": null,
   "id": "accredited-bishop",
   "metadata": {},
   "outputs": [],
   "source": []
  },
  {
   "cell_type": "code",
   "execution_count": 1,
   "id": "vital-customs",
   "metadata": {},
   "outputs": [],
   "source": [
    "import init"
   ]
  },
  {
   "cell_type": "code",
   "execution_count": 4,
   "id": "excessive-network",
   "metadata": {},
   "outputs": [],
   "source": [
    "from crisis_model.array import *\n",
    "import numpy as np\n",
    "from functools import partial\n",
    "import warnings\n",
    "\n",
    "class Covid1:\n",
    "\n",
    "    def __init__(self,\n",
    "            # params\n",
    "                aspect = 1.2, # x length relative to y length\n",
    "                scale = 22., # y length in km\n",
    "                corner = [0., 0.], # coords of bottom-left corner\n",
    "                timescale = 1., # days per timestep\n",
    "                popDensity = 508, # people per sq km\n",
    "                initialIndicated = 1, # initial mystery cases\n",
    "                directionChange = 0.5, # where 1 == 180 deg per day\n",
    "                speed = 5, # agent travel speed in km / h\n",
    "                infectionChance = 0.1, # chance of transmission by 'contact'\n",
    "                recoverMean = 14, # average recovery time in days\n",
    "                recoverSpread = 2, # standard deviations of recovery curve\n",
    "                contactLength = 1.5, # proximity in metres defining 'contact'\n",
    "                spatialDecimals = None, # spatial precision limit\n",
    "                seed = 1066, # random seed\n",
    "            # _configs\n",
    "                agentCoords = None,\n",
    "                headings = None,\n",
    "                indicated = False,\n",
    "                recovered = False,\n",
    "                timeIndicated = 0.,\n",
    "            ):\n",
    "\n",
    "        super().__init__()\n",
    "\n",
    "    @staticmethod\n",
    "    def _construct(p):\n",
    "\n",
    "        nAgents = int(p.scale ** 2 * p.aspect * p.popDensity)\n",
    "        travelLength = p.speed * p.timescale * 24.\n",
    "\n",
    "        minCoords, maxCoords, domainLengths = get_coordInfo(\n",
    "            p.corner, p.aspect, p.scale\n",
    "            )\n",
    "\n",
    "        agentCoords = np.full((nAgents, 2), np.nan, dtype = float)\n",
    "\n",
    "        headings = np.full(nAgents, np.nan, dtype = float)\n",
    "        distances = np.full(nAgents, np.nan, dtype = float)\n",
    "\n",
    "        indicated = np.empty(nAgents, dtype = bool)\n",
    "        timeIndicated = np.zeros(nAgents, dtype = float)\n",
    "        recovered = np.empty(nAgents, dtype = bool)\n",
    "        susceptible = np.empty(nAgents, dtype = bool)\n",
    "\n",
    "        def iterate_coords(rng):\n",
    "            distances[...] = rng.random(nAgents) * travelLength\n",
    "            ang = p.directionChange * p.timescale\n",
    "            headings[...] += (rng.random(nAgents) - 0.5) * 2. * np.pi * ang\n",
    "            wrap = minCoords, maxCoords\n",
    "            displace_coords(agentCoords, distances, headings, wrap)\n",
    "            if not p.spatialDecimals is None:\n",
    "                round_coords(agentCoords, p.spatialDecimals)\n",
    "\n",
    "        def get_encounters():\n",
    "            susceptibles = susceptible.nonzero()[0]\n",
    "            indicateds = indicated.nonzero()[0]\n",
    "            if not (len(susceptibles) and len(indicateds)):\n",
    "                return []\n",
    "            flip = len(susceptibles) < len(indicateds)\n",
    "            if not flip:\n",
    "                ids1, ids2 = susceptibles, indicateds\n",
    "            else:\n",
    "                ids1, ids2 = indicateds, susceptibles\n",
    "            adjCoords = agentCoords - minCoords\n",
    "            strategy = partial(\n",
    "                accelerated_neighbours_radius_array,\n",
    "                leafsize = 128\n",
    "                )\n",
    "            contacts = strategy(\n",
    "                adjCoords[ids1],\n",
    "                adjCoords[ids2],\n",
    "                p.contactLength / 1000.,\n",
    "                maxCoords - minCoords,\n",
    "                )\n",
    "            encounters = np.array([\n",
    "                (id1, id2)\n",
    "                    for id1, subcontacts in zip(ids2, contacts)\n",
    "                        for id2 in ids1[subcontacts]\n",
    "                ]) # <- very quick\n",
    "            if len(encounters) and flip:\n",
    "                encounters = encounters[:, slice(None, None, -1)]\n",
    "            return encounters\n",
    "\n",
    "        def get_newIndicateds(rng):\n",
    "            encounters = get_encounters()\n",
    "            if len(encounters):\n",
    "                return np.unique(\n",
    "                    encounters[\n",
    "                        rng.random(encounters.shape[0]) < p.infectionChance\n",
    "                        ][:, 1]\n",
    "                    )\n",
    "            else:\n",
    "                return []\n",
    "\n",
    "        def iterate_indicateds(rng):\n",
    "            newIndicateds = get_newIndicateds(rng)\n",
    "            indicated[newIndicateds] = True\n",
    "            susceptible[newIndicateds] = False\n",
    "\n",
    "        def iterate_recovered(rng):\n",
    "            indicateds = indicated.nonzero()[0]\n",
    "            recovery = rng.normal(\n",
    "                p.recoverMean,\n",
    "                p.recoverSpread,\n",
    "                len(indicateds),\n",
    "                ) < timeIndicated[indicated]\n",
    "            indicated[indicateds] = ~recovery\n",
    "            recovered[indicateds] = recovery\n",
    "\n",
    "        def get_rng(addseed = None):\n",
    "            if addseed is None:\n",
    "                addseed = int(agentCoords.sum())\n",
    "            seed = int(p.seed + addseed)\n",
    "            return np.random.default_rng(seed)\n",
    "\n",
    "        def add_mystery_indicateds(rng):\n",
    "            nonSusceptible = susceptible.nonzero()[0]\n",
    "            nNew = min(len(nonSusceptible), p.initialIndicated)\n",
    "            newCases = rng.choice(nonSusceptible, nNew, replace = False)\n",
    "            indicated[newCases] = True\n",
    "            susceptible[newCases] = False\n",
    "\n",
    "        def randomise_coords(rng):\n",
    "            warnings.warn(\n",
    "                \"Setting coords randomly - did you expect this?\",\n",
    "                stacklevel = 3\n",
    "                )\n",
    "            agentCoords[...] = \\\n",
    "                rng.random((nAgents, 2)) \\\n",
    "                * (maxCoords - minCoords) \\\n",
    "                + p.corner\n",
    "\n",
    "        def randomise_headings(rng):\n",
    "            warnings.warn(\n",
    "                \"Setting headings randomly - did you expect this?\",\n",
    "                stacklevel = 3\n",
    "                )\n",
    "            headings[...] = rng.random(nAgents) * 2. * np.pi\n",
    "\n",
    "        def initialise():\n",
    "            rng = get_rng(0)\n",
    "            if np.isnan(agentCoords).any():\n",
    "                randomise_coords(rng)\n",
    "            if np.isnan(headings).any():\n",
    "                randomise_headings(rng)\n",
    "            update_statuses()\n",
    "            if p.initialIndicated:\n",
    "                add_mystery_indicateds(rng)\n",
    "\n",
    "        def iterate():\n",
    "            rng = get_rng()\n",
    "            timeIndicated[~susceptible] += p.timescale\n",
    "            iterate_coords(rng)\n",
    "            iterate_indicateds(rng)\n",
    "            iterate_recovered(rng)\n",
    "            return p.timescale\n",
    "\n",
    "        def stop():\n",
    "            return not bool(len(indicated.nonzero()[0]))\n",
    "\n",
    "        def update_statuses():\n",
    "            indicated[recovered] = False\n",
    "            susceptible[...] = True\n",
    "            susceptible[indicated] = False\n",
    "            susceptible[recovered] = False\n",
    "\n",
    "        def _update():\n",
    "            update_statuses()\n",
    "\n",
    "        return locals()"
   ]
  },
  {
   "cell_type": "code",
   "execution_count": 5,
   "id": "encouraging-individual",
   "metadata": {},
   "outputs": [],
   "source": [
    "mymodel = Covid1()"
   ]
  },
  {
   "cell_type": "code",
   "execution_count": 14,
   "id": "limiting-belarus",
   "metadata": {},
   "outputs": [],
   "source": [
    "from everest.cascade import Inputs"
   ]
  },
  {
   "cell_type": "code",
   "execution_count": 32,
   "id": "african-kenya",
   "metadata": {},
   "outputs": [],
   "source": [
    "class Grouper:\n",
    "    def __init__(self, **kwargs):\n",
    "        for k, v in kwargs.items():\n",
    "            setattr(self, k, v)"
   ]
  },
  {
   "cell_type": "code",
   "execution_count": 42,
   "id": "valuable-orbit",
   "metadata": {},
   "outputs": [],
   "source": [
    "mymodel = Covid1._construct(Grouper(\n",
    "    # params\n",
    "    aspect = 1.2, # x length relative to y length\n",
    "    scale = 2., # y length in km\n",
    "    corner = [0., 0.], # coords of bottom-left corner\n",
    "    timescale = 1., # days per timestep\n",
    "    popDensity = 508, # people per sq km\n",
    "    initialIndicated = 1, # initial mystery cases\n",
    "    directionChange = 0.5, # where 1 == 180 deg per day\n",
    "    speed = 5, # agent travel speed in km / h\n",
    "    infectionChance = 0.1, # chance of transmission by 'contact'\n",
    "    recoverMean = 14, # average recovery time in days\n",
    "    recoverSpread = 2, # standard deviations of recovery curve\n",
    "    contactLength = 1.5, # proximity in metres defining 'contact'\n",
    "    spatialDecimals = None, # spatial precision limit\n",
    "    seed = 1066, # random seed\n",
    "    # _configs\n",
    "    agentCoords = None,\n",
    "    headings = None,\n",
    "    indicated = False,\n",
    "    recovered = False,\n",
    "    timeIndicated = 0.,\n",
    "    ))"
   ]
  },
  {
   "cell_type": "code",
   "execution_count": 43,
   "id": "august-speaking",
   "metadata": {},
   "outputs": [
    {
     "name": "stderr",
     "output_type": "stream",
     "text": [
      "<ipython-input-43-a148a1aa9660>:1: UserWarning: Setting coords randomly - did you expect this?\n",
      "  mymodel['initialise']()\n",
      "<ipython-input-43-a148a1aa9660>:1: UserWarning: Setting headings randomly - did you expect this?\n",
      "  mymodel['initialise']()\n"
     ]
    }
   ],
   "source": [
    "mymodel['initialise']()"
   ]
  },
  {
   "cell_type": "code",
   "execution_count": 44,
   "id": "entitled-reception",
   "metadata": {},
   "outputs": [],
   "source": [
    "iterate = mymodel['iterate']"
   ]
  },
  {
   "cell_type": "code",
   "execution_count": 45,
   "id": "dental-doctrine",
   "metadata": {},
   "outputs": [],
   "source": [
    "from timeit import timeit"
   ]
  },
  {
   "cell_type": "code",
   "execution_count": 46,
   "id": "parliamentary-chapter",
   "metadata": {},
   "outputs": [
    {
     "data": {
      "text/plain": [
       "0.07909614604432136"
      ]
     },
     "execution_count": 46,
     "metadata": {},
     "output_type": "execute_result"
    }
   ],
   "source": [
    "timeit(iterate, number = 100)"
   ]
  },
  {
   "cell_type": "code",
   "execution_count": 47,
   "id": "identical-brass",
   "metadata": {},
   "outputs": [
    {
     "data": {
      "text/plain": [
       "2438"
      ]
     },
     "execution_count": 47,
     "metadata": {},
     "output_type": "execute_result"
    }
   ],
   "source": [
    "mymodel['nAgents']"
   ]
  },
  {
   "cell_type": "code",
   "execution_count": 49,
   "id": "documented-findings",
   "metadata": {},
   "outputs": [
    {
     "data": {
      "text/plain": [
       "37.5"
      ]
     },
     "execution_count": 49,
     "metadata": {},
     "output_type": "execute_result"
    }
   ],
   "source": [
    "3 / 0.08"
   ]
  },
  {
   "cell_type": "code",
   "execution_count": null,
   "id": "renewable-coach",
   "metadata": {},
   "outputs": [],
   "source": []
  },
  {
   "cell_type": "code",
   "execution_count": 11,
   "id": "center-sample",
   "metadata": {},
   "outputs": [
    {
     "ename": "AttributeError",
     "evalue": "'Covid1' object has no attribute 'inputs'",
     "output_type": "error",
     "traceback": [
      "\u001b[0;31m---------------------------------------------------------------------------\u001b[0m",
      "\u001b[0;31mAttributeError\u001b[0m                            Traceback (most recent call last)",
      "\u001b[0;32m<ipython-input-11-e521008263f9>\u001b[0m in \u001b[0;36m<module>\u001b[0;34m\u001b[0m\n\u001b[0;32m----> 1\u001b[0;31m \u001b[0mmymodel\u001b[0m\u001b[0;34m.\u001b[0m\u001b[0minputs\u001b[0m\u001b[0;34m\u001b[0m\u001b[0;34m\u001b[0m\u001b[0m\n\u001b[0m",
      "\u001b[0;31mAttributeError\u001b[0m: 'Covid1' object has no attribute 'inputs'"
     ]
    }
   ],
   "source": [
    "mymodel."
   ]
  },
  {
   "cell_type": "code",
   "execution_count": 8,
   "id": "opening-taiwan",
   "metadata": {},
   "outputs": [
    {
     "ename": "TypeError",
     "evalue": "_construct() missing 1 required positional argument: 'p'",
     "output_type": "error",
     "traceback": [
      "\u001b[0;31m---------------------------------------------------------------------------\u001b[0m",
      "\u001b[0;31mTypeError\u001b[0m                                 Traceback (most recent call last)",
      "\u001b[0;32m<ipython-input-8-d57a8a14238c>\u001b[0m in \u001b[0;36m<module>\u001b[0;34m\u001b[0m\n\u001b[0;32m----> 1\u001b[0;31m \u001b[0mmyconstruct\u001b[0m \u001b[0;34m=\u001b[0m \u001b[0mmymodel\u001b[0m\u001b[0;34m.\u001b[0m\u001b[0m_construct\u001b[0m\u001b[0;34m(\u001b[0m\u001b[0;34m)\u001b[0m\u001b[0;34m\u001b[0m\u001b[0;34m\u001b[0m\u001b[0m\n\u001b[0m",
      "\u001b[0;31mTypeError\u001b[0m: _construct() missing 1 required positional argument: 'p'"
     ]
    }
   ],
   "source": [
    "myconstruct = mymodel._construct(\n",
    "    )"
   ]
  },
  {
   "cell_type": "code",
   "execution_count": null,
   "id": "delayed-minority",
   "metadata": {},
   "outputs": [],
   "source": []
  }
 ],
 "metadata": {
  "kernelspec": {
   "display_name": "Python 3",
   "language": "python",
   "name": "python3"
  },
  "language_info": {
   "codemirror_mode": {
    "name": "ipython",
    "version": 3
   },
   "file_extension": ".py",
   "mimetype": "text/x-python",
   "name": "python",
   "nbconvert_exporter": "python",
   "pygments_lexer": "ipython3",
   "version": "3.8.6"
  }
 },
 "nbformat": 4,
 "nbformat_minor": 5
}
