{
 "cells": [
  {
   "cell_type": "code",
   "execution_count": null,
   "id": "outer-disability",
   "metadata": {},
   "outputs": [],
   "source": [
    "import aliases"
   ]
  },
  {
   "cell_type": "code",
   "execution_count": null,
   "id": "constant-fitness",
   "metadata": {},
   "outputs": [],
   "source": [
    "import itertools as _itertools\n",
    "from collections import deque as _deque\n",
    "import sys as _sys\n",
    "\n",
    "import h5py as _h5py"
   ]
  },
  {
   "cell_type": "code",
   "execution_count": null,
   "id": "statistical-scale",
   "metadata": {},
   "outputs": [],
   "source": [
    "'1'.zfill(2)"
   ]
  },
  {
   "cell_type": "code",
   "execution_count": null,
   "id": "developed-stuff",
   "metadata": {},
   "outputs": [],
   "source": [
    "def message(i, maxi, name = ''):\n",
    "    frac = i / maxi\n",
    "    msg = ''.join((\n",
    "        \"\\r\",\n",
    "        f\" {str(i).rjust(9)} / {str(maxi).ljust(9)} \",\n",
    "        f\" {name} \".ljust(32),\n",
    "        f\" [{(round(25 * frac) * '#').ljust(25, '.')}] \",\n",
    "        f\" ({str(round(100 * frac)).zfill(2)}%) \",\n",
    "        )).ljust(79)\n",
    "    if frac == 1:\n",
    "        msg += '\\n'\n",
    "    _sys.stdout.write(msg)\n",
    "    _sys.stdout.flush()\n",
    "\n",
    "def record_manifest(h5obj, manifest = None):\n",
    "    if mannone := (manifest is None):\n",
    "        manifest = dict()\n",
    "    length = len(h5obj)\n",
    "    message(0, length)\n",
    "    for i, name in enumerate(h5obj):\n",
    "        try:\n",
    "            record_manifest_sub(\n",
    "                h5obj[name],\n",
    "                manifest.setdefault(name, _deque()),\n",
    "                )\n",
    "            message(i, length, name)\n",
    "        except KeyError:\n",
    "            continue\n",
    "    message(length, length, 'Complete.')\n",
    "    if mannone:\n",
    "        return manifest\n",
    "        \n",
    "def record_manifest_sub(h5obj, manifest, prename = ''):\n",
    "    manifest.extend((f\"{prename}.{name}\" for name in h5obj.attrs))\n",
    "    if isinstance(h5obj, _h5py.Group):\n",
    "        for name in h5obj:\n",
    "            try:\n",
    "                record_manifest_sub(\n",
    "                    h5obj[name],\n",
    "                    manifest,\n",
    "                    f\"{prename}/{name}\"\n",
    "                    )\n",
    "            except KeyError:\n",
    "                continue\n",
    "    else:\n",
    "        manifest.append(f\"{prename}#{h5obj.shape}\".replace(' ', ''))"
   ]
  },
  {
   "cell_type": "code",
   "execution_count": null,
   "id": "three-discharge",
   "metadata": {},
   "outputs": [],
   "source": [
    "%%time\n",
    "with _h5py.File('../data/allout.frm', mode = 'r') as h5file:\n",
    "    out = record_manifest(h5file)"
   ]
  },
  {
   "cell_type": "code",
   "execution_count": null,
   "id": "cleared-toronto",
   "metadata": {},
   "outputs": [],
   "source": [
    "import itertools"
   ]
  },
  {
   "cell_type": "code",
   "execution_count": null,
   "id": "indie-magazine",
   "metadata": {},
   "outputs": [],
   "source": [
    "%%time\n",
    "filt = tuple(filter(lambda x: x.endswith('d'), itertools.chain.from_iterable(out.values())))"
   ]
  },
  {
   "cell_type": "code",
   "execution_count": null,
   "id": "likely-gauge",
   "metadata": {},
   "outputs": [],
   "source": [
    "filt"
   ]
  },
  {
   "cell_type": "code",
   "execution_count": null,
   "id": "medieval-benjamin",
   "metadata": {},
   "outputs": [],
   "source": []
  }
 ],
 "metadata": {
  "kernelspec": {
   "display_name": "Python 3",
   "language": "python",
   "name": "python3"
  },
  "language_info": {
   "codemirror_mode": {
    "name": "ipython",
    "version": 3
   },
   "file_extension": ".py",
   "mimetype": "text/x-python",
   "name": "python",
   "nbconvert_exporter": "python",
   "pygments_lexer": "ipython3",
   "version": "3.8.6"
  }
 },
 "nbformat": 4,
 "nbformat_minor": 5
}
