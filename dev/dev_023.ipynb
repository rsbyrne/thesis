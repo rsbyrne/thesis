{
 "cells": [
  {
   "cell_type": "code",
   "execution_count": 1,
   "id": "technical-preserve",
   "metadata": {},
   "outputs": [],
   "source": [
    "import aliases"
   ]
  },
  {
   "cell_type": "code",
   "execution_count": 11,
   "id": "tropical-bottom",
   "metadata": {},
   "outputs": [],
   "source": [
    "import fnmatch\n",
    "import re"
   ]
  },
  {
   "cell_type": "code",
   "execution_count": 4,
   "id": "third-membrane",
   "metadata": {},
   "outputs": [
    {
     "data": {
      "text/plain": [
       "<module 'fnmatch' from '/usr/lib/python3.8/fnmatch.py'>"
      ]
     },
     "execution_count": 4,
     "metadata": {},
     "output_type": "execute_result"
    }
   ],
   "source": [
    "fnmatch."
   ]
  },
  {
   "cell_type": "code",
   "execution_count": 14,
   "id": "flying-eleven",
   "metadata": {},
   "outputs": [],
   "source": [
    "from glob import glob"
   ]
  },
  {
   "cell_type": "code",
   "execution_count": 22,
   "id": "interracial-conditions",
   "metadata": {},
   "outputs": [],
   "source": [
    "filepaths = glob('../data/**', recursive = True)"
   ]
  },
  {
   "cell_type": "code",
   "execution_count": 28,
   "id": "indie-transport",
   "metadata": {},
   "outputs": [
    {
     "data": {
      "text/plain": [
       "['../data/pluto1',\n",
       " '../data/pluto1/linear.frm',\n",
       " '../data/pluto1/linear2.frm',\n",
       " '../data/pluto1/pluto1.frm',\n",
       " '../data/pluto1/plasticannu_4_0_complete.png',\n",
       " '../data/pluto1/plasticheat.frm',\n",
       " '../data/pluto1/plasticfull.frm',\n",
       " '../data/pluto1/plasticannu_4_0_preview.png',\n",
       " '../data/pluto1/plasticfull2.frm',\n",
       " '../data/pluto1/pluto1old.frm',\n",
       " '../data/pluto1/pluto1extra.frm',\n",
       " '../data/pluto1/plasticannu.frm']"
      ]
     },
     "execution_count": 28,
     "metadata": {},
     "output_type": "execute_result"
    }
   ],
   "source": [
    "fnmatch.filter(filepaths, '*/data/pluto1*')"
   ]
  },
  {
   "cell_type": "code",
   "execution_count": 12,
   "id": "flush-spiritual",
   "metadata": {},
   "outputs": [
    {
     "data": {
      "text/plain": [
       "False"
      ]
     },
     "execution_count": 12,
     "metadata": {},
     "output_type": "execute_result"
    }
   ],
   "source": [
    "fnmatch.fnmatchcase(myfilename, '')"
   ]
  },
  {
   "cell_type": "code",
   "execution_count": null,
   "id": "fleet-russell",
   "metadata": {},
   "outputs": [],
   "source": [
    "fnmatch"
   ]
  },
  {
   "cell_type": "code",
   "execution_count": 13,
   "id": "later-rebound",
   "metadata": {},
   "outputs": [
    {
     "name": "stdout",
     "output_type": "stream",
     "text": [
      "Help on module fnmatch:\n",
      "\n",
      "NAME\n",
      "    fnmatch - Filename matching with shell patterns.\n",
      "\n",
      "MODULE REFERENCE\n",
      "    https://docs.python.org/3.8/library/fnmatch\n",
      "    \n",
      "    The following documentation is automatically generated from the Python\n",
      "    source files.  It may be incomplete, incorrect or include features that\n",
      "    are considered implementation detail and may vary between Python\n",
      "    implementations.  When in doubt, consult the module reference at the\n",
      "    location listed above.\n",
      "\n",
      "DESCRIPTION\n",
      "    fnmatch(FILENAME, PATTERN) matches according to the local convention.\n",
      "    fnmatchcase(FILENAME, PATTERN) always takes case in account.\n",
      "    \n",
      "    The functions operate by translating the pattern into a regular\n",
      "    expression.  They cache the compiled regular expressions for speed.\n",
      "    \n",
      "    The function translate(PATTERN) returns a regular expression\n",
      "    corresponding to PATTERN.  (It does not compile it.)\n",
      "\n",
      "FUNCTIONS\n",
      "    filter(names, pat)\n",
      "        Return the subset of the list NAMES that match PAT.\n",
      "    \n",
      "    fnmatch(name, pat)\n",
      "        Test whether FILENAME matches PATTERN.\n",
      "        \n",
      "        Patterns are Unix shell style:\n",
      "        \n",
      "        *       matches everything\n",
      "        ?       matches any single character\n",
      "        [seq]   matches any character in seq\n",
      "        [!seq]  matches any char not in seq\n",
      "        \n",
      "        An initial period in FILENAME is not special.\n",
      "        Both FILENAME and PATTERN are first case-normalized\n",
      "        if the operating system requires it.\n",
      "        If you don't want this, use fnmatchcase(FILENAME, PATTERN).\n",
      "    \n",
      "    fnmatchcase(name, pat)\n",
      "        Test whether FILENAME matches PATTERN, including case.\n",
      "        \n",
      "        This is a version of fnmatch() which doesn't case-normalize\n",
      "        its arguments.\n",
      "    \n",
      "    translate(pat)\n",
      "        Translate a shell PATTERN to a regular expression.\n",
      "        \n",
      "        There is no way to quote meta-characters.\n",
      "\n",
      "DATA\n",
      "    __all__ = ['filter', 'fnmatch', 'fnmatchcase', 'translate']\n",
      "\n",
      "FILE\n",
      "    /usr/lib/python3.8/fnmatch.py\n",
      "\n",
      "\n"
     ]
    }
   ],
   "source": [
    "help(fnmatch)"
   ]
  },
  {
   "cell_type": "code",
   "execution_count": null,
   "id": "german-cologne",
   "metadata": {},
   "outputs": [],
   "source": []
  }
 ],
 "metadata": {
  "kernelspec": {
   "display_name": "Python 3",
   "language": "python",
   "name": "python3"
  },
  "language_info": {
   "codemirror_mode": {
    "name": "ipython",
    "version": 3
   },
   "file_extension": ".py",
   "mimetype": "text/x-python",
   "name": "python",
   "nbconvert_exporter": "python",
   "pygments_lexer": "ipython3",
   "version": "3.8.6"
  }
 },
 "nbformat": 4,
 "nbformat_minor": 5
}
