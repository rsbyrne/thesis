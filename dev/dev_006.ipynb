{
 "cells": [
  {
   "cell_type": "code",
   "execution_count": 1,
   "id": "latter-massage",
   "metadata": {},
   "outputs": [],
   "source": [
    "from thesis_initialise import *"
   ]
  },
  {
   "cell_type": "code",
   "execution_count": null,
   "id": "occupied-scoop",
   "metadata": {},
   "outputs": [],
   "source": [
    "from abc import ABC, abstractmethod\n",
    "\n",
    "class MyABC(ABC):\n",
    "    def __init__(self, fooval: str = 'foo'):\n",
    "        self.fooval = fooval\n",
    "    def foo(self) -> str:\n",
    "        return self.fooval\n",
    "class A(MyABC):\n",
    "    ...\n",
    "\n",
    "class Meta(type, A):\n",
    "    def __new__(cls, name, bases, dic, *args, **kwargs):\n",
    "        obj = type.__new__(cls, name, bases, dic)\n",
    "        return obj\n",
    "    def __init__(self, name, bases, dic, *args, **kwargs):\n",
    "        type.__init__(self, name, bases, dic)\n",
    "        A.__init__(self, *args, **kwargs)\n",
    "    def __getitem__(self, arg: str, /):\n",
    "        return self.__class__(\n",
    "            f\"{self.__name__}_{arg}\", \n",
    "            (self, *self.__bases__),\n",
    "            dict(self.__dict__),\n",
    "            arg,\n",
    "            )"
   ]
  },
  {
   "cell_type": "code",
   "execution_count": null,
   "id": "individual-pocket",
   "metadata": {},
   "outputs": [],
   "source": [
    "class B(metaclass = Meta):\n",
    "    def bmeth(self):\n",
    "        print(\"Banana!\")\n",
    "print(B)\n",
    "print(B.foo())\n",
    "myobj = B()\n",
    "print(myobj.bmeth())"
   ]
  },
  {
   "cell_type": "code",
   "execution_count": null,
   "id": "experimental-oakland",
   "metadata": {},
   "outputs": [],
   "source": [
    "B2 = B['2']\n",
    "print(B2)\n",
    "print(B2.foo())\n",
    "myobj2 = B2()\n",
    "print(myobj2.bmeth())"
   ]
  },
  {
   "cell_type": "code",
   "execution_count": null,
   "id": "ethical-visibility",
   "metadata": {},
   "outputs": [],
   "source": [
    "isinstance(B2, Meta)"
   ]
  },
  {
   "cell_type": "code",
   "execution_count": null,
   "id": "white-award",
   "metadata": {},
   "outputs": [],
   "source": [
    "issubclass(B2, B)"
   ]
  }
 ],
 "metadata": {
  "kernelspec": {
   "display_name": "Python 3",
   "language": "python",
   "name": "python3"
  },
  "language_info": {
   "codemirror_mode": {
    "name": "ipython",
    "version": 3
   },
   "file_extension": ".py",
   "mimetype": "text/x-python",
   "name": "python",
   "nbconvert_exporter": "python",
   "pygments_lexer": "ipython3",
   "version": "3.8.6"
  }
 },
 "nbformat": 4,
 "nbformat_minor": 5
}
