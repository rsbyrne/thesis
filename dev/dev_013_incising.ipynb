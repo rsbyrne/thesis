{
 "cells": [
  {
   "cell_type": "code",
   "execution_count": 1,
   "id": "convinced-preparation",
   "metadata": {},
   "outputs": [],
   "source": [
    "from thesis_initialise import *"
   ]
  },
  {
   "cell_type": "code",
   "execution_count": 2,
   "id": "official-thompson",
   "metadata": {},
   "outputs": [],
   "source": [
    "from everest.funcy import generic as _generic\n",
    "class MyArray(_generic.FuncyIncisable):\n",
    "    def __init__(self, arr, /):\n",
    "        self.arr = arr\n",
    "    @property\n",
    "    def shape(self):\n",
    "        return self.arr.shape\n",
    "    def __iter__(self):\n",
    "        return iter(self.arr)\n",
    "    def __repr__(self):\n",
    "        return f\"{self.__class__.__name__}({str(self.arr)})\""
   ]
  },
  {
   "cell_type": "code",
   "execution_count": 3,
   "id": "controversial-wales",
   "metadata": {},
   "outputs": [],
   "source": [
    "myarr = np.random.rand(3, 4, 5, 6, 7)\n",
    "myinst = MyArray(myarr)"
   ]
  },
  {
   "cell_type": "code",
   "execution_count": 6,
   "id": "after-massachusetts",
   "metadata": {},
   "outputs": [],
   "source": [
    "sl = slice(1, 2, 3)\n",
    "tests = [\n",
    "    0,\n",
    "    (0, 0),\n",
    "    slice(None),\n",
    "    sl,\n",
    "    (sl, 0),\n",
    "    (0, sl),\n",
    "    (sl, 0, 0),\n",
    "    (0, 0, sl),\n",
    "    (0, sl, 0),\n",
    "    (0, sl, 0, 0),\n",
    "    (0, 0, sl, 0),\n",
    "    (0, 0, sl, 0, 0),\n",
    "    (0, sl, 0, sl, 0),\n",
    "    (sl, sl, 0, 0, sl),\n",
    "    ...,\n",
    "    (..., 0),\n",
    "    (0, ...),\n",
    "    (..., 0, 0),\n",
    "    (0, 0, ...),\n",
    "    (sl, 0, ...),\n",
    "    (0, sl, ...),\n",
    "    (..., sl, 0),\n",
    "    (..., 0, sl),\n",
    "    (..., 0, sl, 0),\n",
    "    (..., sl, sl, sl),\n",
    "    ]\n",
    "assert all(np.allclose(np.array(myinst[test]), myarr[test]) for test in tests)\n",
    "# for test in tests:\n",
    "#     print(test)\n",
    "#     print(' ', np.allclose(myinst[test].arr, myarr[test]))\n",
    "#     print('\\n')"
   ]
  },
  {
   "cell_type": "code",
   "execution_count": 5,
   "id": "coordinated-paint",
   "metadata": {},
   "outputs": [
    {
     "name": "stdout",
     "output_type": "stream",
     "text": [
      "<class 'everest.funcy.generic.datalike.FuncyBool'>\n"
     ]
    }
   ],
   "source": [
    "for i, metType in enumerate(myinst.metricTypes):\n",
    "    if isinstance(False, metType):\n",
    "        print(metType)\n",
    "        break"
   ]
  },
  {
   "cell_type": "code",
   "execution_count": null,
   "id": "level-wesley",
   "metadata": {},
   "outputs": [],
   "source": [
    "myinst._get_meti(False)"
   ]
  },
  {
   "cell_type": "code",
   "execution_count": null,
   "id": "popular-answer",
   "metadata": {},
   "outputs": [],
   "source": [
    "from everest.funcy import generic"
   ]
  },
  {
   "cell_type": "code",
   "execution_count": null,
   "id": "available-hammer",
   "metadata": {},
   "outputs": [],
   "source": [
    "isinstance(True, generic.FuncyIntegral)"
   ]
  },
  {
   "cell_type": "code",
   "execution_count": null,
   "id": "forty-bradley",
   "metadata": {},
   "outputs": [],
   "source": [
    "isinstance(True, int)"
   ]
  },
  {
   "cell_type": "code",
   "execution_count": null,
   "id": "christian-stevens",
   "metadata": {},
   "outputs": [],
   "source": [
    "# from everest.funcy.utilities import delim_split\n",
    "# tests = [\n",
    "#     (0,),\n",
    "#     (0, 1),\n",
    "#     ((0, 1), 2),\n",
    "#     (0, ...),\n",
    "#     (..., 0),\n",
    "#     (0, 1, ...),\n",
    "#     (..., 0, 1),\n",
    "#     ((0, 1), ...),\n",
    "#     ((0, 1), 2, ...),\n",
    "#     (0, ..., 1),\n",
    "#     (0, 1, ..., 2),\n",
    "#     (0, ..., 1, 2),\n",
    "#     (0, 1, ..., 2, 3),\n",
    "#     ((0, 1), ..., 2, 3),\n",
    "#     ((0, 1), ..., (2, 3)),\n",
    "#     ]\n",
    "# for test in tests:\n",
    "#     print(test)\n",
    "#     prelim, *postlim = delim_split(test)\n",
    "#     postlim = postlim[0] if postlim else postlim\n",
    "#     print(' ', prelim)\n",
    "#     print(' ', postlim)\n",
    "#     print('\\n')"
   ]
  }
 ],
 "metadata": {
  "kernelspec": {
   "display_name": "Python 3",
   "language": "python",
   "name": "python3"
  },
  "language_info": {
   "codemirror_mode": {
    "name": "ipython",
    "version": 3
   },
   "file_extension": ".py",
   "mimetype": "text/x-python",
   "name": "python",
   "nbconvert_exporter": "python",
   "pygments_lexer": "ipython3",
   "version": "3.8.6"
  }
 },
 "nbformat": 4,
 "nbformat_minor": 5
}
