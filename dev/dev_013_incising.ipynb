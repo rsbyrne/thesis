{
 "cells": [
  {
   "cell_type": "code",
   "execution_count": 1,
   "id": "naked-providence",
   "metadata": {},
   "outputs": [],
   "source": [
    "from thesis_initialise import *"
   ]
  },
  {
   "cell_type": "code",
   "execution_count": 2,
   "id": "labeled-repeat",
   "metadata": {},
   "outputs": [],
   "source": [
    "import itertools as _itertools\n",
    "\n",
    "from everest.funcy import generic as _generic\n",
    "from everest.funcy.base import Base as _Base\n",
    "\n",
    "from collections.abc import Collection as _Collection\n",
    "\n",
    "class HierCont(_Collection):\n",
    "    def __repr__(self):\n",
    "        return f\"{self.__class__.__name__}({super().__repr__()})\"\n",
    "    def _getvals(self):\n",
    "        return self\n",
    "    @property\n",
    "    def shape(self):\n",
    "        try:\n",
    "            return self._shape\n",
    "        except AttributeError:\n",
    "            vals = self._getvals()\n",
    "            self._shape = shape = tuple((\n",
    "                sum(1 for o in self if not isinstance(o, HierCont)),\n",
    "                tuple(o.shape for o in self if isinstance(o, HierCont)),\n",
    "                ))\n",
    "            return shape\n",
    "class HierDict(HierCont, dict):\n",
    "    def _getvals(self):\n",
    "        return tuple(self.values())\n",
    "class HierList(HierCont, list):\n",
    "    ...\n",
    "\n",
    "def hierarchicalise_muddle(mud, /, n = 1_000_000):\n",
    "    mud = sorted(_itertools.islice(mud, n + 1))\n",
    "    if len(mud) > n:\n",
    "        raise ValueError(f\"Sequence exceeded max length {n}\")\n",
    "    rowLen = len(mud[0])\n",
    "    assert rowLen > 0\n",
    "    if rowLen == 1:\n",
    "        out = HierList(row[0] for row in mud)\n",
    "    else:\n",
    "        out = HierDict()\n",
    "        for row in mud:\n",
    "            d = out\n",
    "            *row, lastkey, lastval = row\n",
    "            for o in row:\n",
    "                d = d.setdefault(o, HierDict())\n",
    "            ls = d.setdefault(lastkey, HierList())\n",
    "            ls.append(lastval)\n",
    "    return out\n",
    "\n",
    "class Armature(_Base, _generic.FuncyIncisable):\n",
    "    def __init__(self, *, n = 1_000_000, **kwargs) -> None:\n",
    "        self._maxn = n\n",
    "        super().__init__(n = n, **kwargs)\n",
    "    @property\n",
    "    def value(self):\n",
    "        try:\n",
    "            return self._value\n",
    "        except AttributeError:\n",
    "            it, n = self._alliter(), self._maxn\n",
    "            value = self._value = hierarchicalise_muddle(it, n)\n",
    "            return value\n",
    "    @property\n",
    "    def shape(self):\n",
    "        return self.value.shape\n",
    "    def __getitem__(self, arg, /):\n",
    "        return type(self)(self.value[arg])\n",
    "    def __iter__(self):\n",
    "        return (self[k] for k in self.value)"
   ]
  },
  {
   "cell_type": "code",
   "execution_count": 22,
   "id": "extreme-alliance",
   "metadata": {},
   "outputs": [],
   "source": [
    "from everest.funcy import generic as _generic\n",
    "\n",
    "myarr = np.round(np.random.rand(3, 4, 5, 6, 7), 2)\n",
    "\n",
    "class MyArray(_generic.FuncySoftIncisable):\n",
    "    def __init__(self, **kwargs):\n",
    "        self.arr = myarr\n",
    "        super().__init__(**kwargs)\n",
    "    @property\n",
    "    def shape(self):\n",
    "        return self.arr.shape\n",
    "    def _incision_finalise(self, args):\n",
    "        return self.arr[args]\n",
    "\n",
    "myinst = MyArray()"
   ]
  },
  {
   "cell_type": "code",
   "execution_count": 23,
   "id": "regional-cardiff",
   "metadata": {},
   "outputs": [
    {
     "name": "stdout",
     "output_type": "stream",
     "text": [
      "(2, 4, 5, 6, 7)\n",
      "(2, 4, 5, 6, 7)\n"
     ]
    }
   ],
   "source": [
    "print(np.array(myinst[:2]).shape)\n",
    "print(myarr[:2].shape)"
   ]
  },
  {
   "cell_type": "code",
   "execution_count": 47,
   "id": "familiar-offense",
   "metadata": {},
   "outputs": [],
   "source": [
    "mycut = myinst[:2, :2]"
   ]
  },
  {
   "cell_type": "code",
   "execution_count": 48,
   "id": "consecutive-frequency",
   "metadata": {},
   "outputs": [],
   "source": [
    "mycut2 = mycut[:1]"
   ]
  },
  {
   "cell_type": "code",
   "execution_count": 60,
   "id": "synthetic-highlight",
   "metadata": {},
   "outputs": [
    {
     "name": "stdout",
     "output_type": "stream",
     "text": [
      "foo\n"
     ]
    },
    {
     "data": {
      "text/plain": [
       "(6, 5, 6, 7)"
      ]
     },
     "execution_count": 60,
     "metadata": {},
     "output_type": "execute_result"
    }
   ],
   "source": [
    "mycut = myinst[:2, :3]\n",
    "np.array(mycut).shape"
   ]
  },
  {
   "cell_type": "code",
   "execution_count": 62,
   "id": "modern-memorabilia",
   "metadata": {},
   "outputs": [
    {
     "name": "stdout",
     "output_type": "stream",
     "text": [
      "foo\n"
     ]
    },
    {
     "data": {
      "text/plain": [
       "(4, 5, 6, 7)"
      ]
     },
     "execution_count": 62,
     "metadata": {},
     "output_type": "execute_result"
    }
   ],
   "source": [
    "mycut = myinst[:2, :3][:, 1:]\n",
    "np.array(mycut).shape"
   ]
  },
  {
   "cell_type": "code",
   "execution_count": 63,
   "id": "removable-mystery",
   "metadata": {},
   "outputs": [
    {
     "name": "stdout",
     "output_type": "stream",
     "text": [
      "foo\n"
     ]
    },
    {
     "data": {
      "text/plain": [
       "(2, 5, 6, 7)"
      ]
     },
     "execution_count": 63,
     "metadata": {},
     "output_type": "execute_result"
    }
   ],
   "source": [
    "mycut = myinst[:2, :3][:, 1:][0]\n",
    "np.array(mycut).shape"
   ]
  },
  {
   "cell_type": "code",
   "execution_count": 65,
   "id": "ultimate-mauritius",
   "metadata": {},
   "outputs": [
    {
     "data": {
      "text/plain": [
       "(2, 5, 6, 7)"
      ]
     },
     "execution_count": 65,
     "metadata": {},
     "output_type": "execute_result"
    }
   ],
   "source": [
    "myarr[:2, :3][:, 1:][0].shape"
   ]
  },
  {
   "cell_type": "code",
   "execution_count": 59,
   "id": "steady-jumping",
   "metadata": {},
   "outputs": [
    {
     "name": "stdout",
     "output_type": "stream",
     "text": [
      "foo\n"
     ]
    },
    {
     "data": {
      "text/plain": [
       "(6, 5, 6, 7)"
      ]
     },
     "execution_count": 59,
     "metadata": {},
     "output_type": "execute_result"
    }
   ],
   "source": [
    "mycut = myinst[:2, :3]\n",
    "np.array(mycut).shape"
   ]
  },
  {
   "cell_type": "code",
   "execution_count": 50,
   "id": "robust-columbus",
   "metadata": {},
   "outputs": [
    {
     "name": "stdout",
     "output_type": "stream",
     "text": [
      "foo\n"
     ]
    },
    {
     "data": {
      "text/plain": [
       "(4, 5, 6, 7)"
      ]
     },
     "execution_count": 50,
     "metadata": {},
     "output_type": "execute_result"
    }
   ],
   "source": [
    "np.array(mycut).shape"
   ]
  },
  {
   "cell_type": "code",
   "execution_count": 49,
   "id": "naval-pathology",
   "metadata": {},
   "outputs": [
    {
     "name": "stdout",
     "output_type": "stream",
     "text": [
      "foo\n"
     ]
    },
    {
     "data": {
      "text/plain": [
       "(2, 5, 6, 7)"
      ]
     },
     "execution_count": 49,
     "metadata": {},
     "output_type": "execute_result"
    }
   ],
   "source": [
    "np.array(mycut2).shape"
   ]
  },
  {
   "cell_type": "code",
   "execution_count": 44,
   "id": "severe-smell",
   "metadata": {},
   "outputs": [
    {
     "name": "stdout",
     "output_type": "stream",
     "text": [
      "foo\n"
     ]
    },
    {
     "data": {
      "text/plain": [
       "(4, 5, 6, 7)"
      ]
     },
     "execution_count": 44,
     "metadata": {},
     "output_type": "execute_result"
    }
   ],
   "source": [
    "np.array(mycut).shape"
   ]
  },
  {
   "cell_type": "code",
   "execution_count": 45,
   "id": "accepting-bishop",
   "metadata": {},
   "outputs": [
    {
     "name": "stdout",
     "output_type": "stream",
     "text": [
      "foo\n"
     ]
    },
    {
     "data": {
      "text/plain": [
       "(4, 5, 6, 7)"
      ]
     },
     "execution_count": 45,
     "metadata": {},
     "output_type": "execute_result"
    }
   ],
   "source": [
    "np.array(mycut[:2][:2]).shape"
   ]
  },
  {
   "cell_type": "code",
   "execution_count": 38,
   "id": "least-latest",
   "metadata": {},
   "outputs": [
    {
     "name": "stdout",
     "output_type": "stream",
     "text": [
      "foo\n"
     ]
    },
    {
     "data": {
      "text/plain": [
       "(4, 5, 6, 7)"
      ]
     },
     "execution_count": 38,
     "metadata": {},
     "output_type": "execute_result"
    }
   ],
   "source": [
    "np.array(mycut).shape"
   ]
  },
  {
   "cell_type": "code",
   "execution_count": null,
   "id": "elegant-vinyl",
   "metadata": {},
   "outputs": [],
   "source": [
    "mycut.source"
   ]
  },
  {
   "cell_type": "code",
   "execution_count": null,
   "id": "distributed-zealand",
   "metadata": {},
   "outputs": [],
   "source": []
  },
  {
   "cell_type": "code",
   "execution_count": null,
   "id": "elder-friendship",
   "metadata": {},
   "outputs": [],
   "source": []
  },
  {
   "cell_type": "code",
   "execution_count": null,
   "id": "sustainable-newton",
   "metadata": {},
   "outputs": [],
   "source": [
    "list(mycut.levels[1])"
   ]
  },
  {
   "cell_type": "code",
   "execution_count": null,
   "id": "generic-bibliography",
   "metadata": {},
   "outputs": [],
   "source": [
    "np.array(mycut).shape"
   ]
  },
  {
   "cell_type": "code",
   "execution_count": null,
   "id": "medium-arrest",
   "metadata": {},
   "outputs": [],
   "source": [
    "mycut.levels[0].shape"
   ]
  },
  {
   "cell_type": "code",
   "execution_count": null,
   "id": "apart-gossip",
   "metadata": {},
   "outputs": [],
   "source": [
    "len(mycut)"
   ]
  },
  {
   "cell_type": "code",
   "execution_count": null,
   "id": "adolescent-picnic",
   "metadata": {},
   "outputs": [],
   "source": [
    "len(list(mycut))"
   ]
  },
  {
   "cell_type": "code",
   "execution_count": null,
   "id": "affected-toronto",
   "metadata": {},
   "outputs": [],
   "source": [
    "np.array(mycut.levels[1]).shape"
   ]
  },
  {
   "cell_type": "code",
   "execution_count": null,
   "id": "southwest-japanese",
   "metadata": {},
   "outputs": [],
   "source": []
  },
  {
   "cell_type": "code",
   "execution_count": null,
   "id": "liquid-glasgow",
   "metadata": {},
   "outputs": [],
   "source": []
  },
  {
   "cell_type": "code",
   "execution_count": null,
   "id": "boolean-dream",
   "metadata": {},
   "outputs": [],
   "source": [
    "print(np.array(myinst[:2, :2]).shape)\n",
    "print(myarr[:2, :2].shape)"
   ]
  },
  {
   "cell_type": "code",
   "execution_count": null,
   "id": "excessive-wireless",
   "metadata": {},
   "outputs": [],
   "source": [
    "print(np.array(myinst[:2, :2, :2]).shape)\n",
    "print(myarr[:2, :2, :2].shape)"
   ]
  },
  {
   "cell_type": "code",
   "execution_count": null,
   "id": "received-premium",
   "metadata": {},
   "outputs": [],
   "source": [
    "print(np.array(myinst[:2, :2, :2, :2]).shape)\n",
    "print(myarr[:2, :2, :2, :2].shape)"
   ]
  },
  {
   "cell_type": "code",
   "execution_count": null,
   "id": "statistical-gasoline",
   "metadata": {},
   "outputs": [],
   "source": [
    "print(np.array(myinst[:, :, :4][:, :, :2]).shape)\n",
    "print(myarr[:, :, :4][:, :, 2].shape)"
   ]
  },
  {
   "cell_type": "code",
   "execution_count": null,
   "id": "framed-postcard",
   "metadata": {},
   "outputs": [],
   "source": [
    "np.array(myinst[:, :, :4]).shape"
   ]
  },
  {
   "cell_type": "code",
   "execution_count": null,
   "id": "sublime-routine",
   "metadata": {},
   "outputs": [],
   "source": [
    "myarr[:, :, 4].shape"
   ]
  },
  {
   "cell_type": "code",
   "execution_count": null,
   "id": "worst-pipeline",
   "metadata": {},
   "outputs": [],
   "source": [
    "3 * 4"
   ]
  },
  {
   "cell_type": "code",
   "execution_count": null,
   "id": "invisible-journalist",
   "metadata": {},
   "outputs": [],
   "source": []
  },
  {
   "cell_type": "code",
   "execution_count": null,
   "id": "registered-customs",
   "metadata": {},
   "outputs": [],
   "source": []
  },
  {
   "cell_type": "code",
   "execution_count": null,
   "id": "attempted-lightning",
   "metadata": {},
   "outputs": [],
   "source": [
    "testarr = np.vstack(tuple(\n",
    "    myarr[inds]\n",
    "        for inds in tuple(myinst[:2, :2, :2]._prime_indices()))\n",
    "    )\n",
    "np.allclose(testarr, np.vstack(myinst[:2, :2, :2]))"
   ]
  },
  {
   "cell_type": "code",
   "execution_count": null,
   "id": "northern-debate",
   "metadata": {},
   "outputs": [],
   "source": [
    "print(np.array(myinst[:2, 0]).shape)\n",
    "print(myarr[:2, 0].shape)"
   ]
  },
  {
   "cell_type": "code",
   "execution_count": null,
   "id": "young-rugby",
   "metadata": {},
   "outputs": [],
   "source": [
    "print(np.array(myinst[:2, 0, :2]).shape)\n",
    "print(myarr[:2, 0, :2].shape)"
   ]
  },
  {
   "cell_type": "code",
   "execution_count": null,
   "id": "automatic-drawing",
   "metadata": {},
   "outputs": [],
   "source": [
    "sl = slice(1, 3, 1)\n",
    "tests = [\n",
    "    0,\n",
    "    (0, 0),\n",
    "    slice(None),\n",
    "    sl,\n",
    "    (sl, 0),\n",
    "    (0, sl),\n",
    "    (sl, 0, 0),\n",
    "    (0, 0, sl),\n",
    "    (0, sl, 0),\n",
    "    (0, sl, 0, 0),\n",
    "    (0, 0, sl, 0),\n",
    "    (0, 0, sl, 0, 0),\n",
    "    (0, sl, 0, sl, 0),\n",
    "    (sl, sl, 0, 0, sl),\n",
    "    ...,\n",
    "    (..., 0),\n",
    "    (0, ...),\n",
    "    (..., 0, 0),\n",
    "    (0, 0, ...),\n",
    "    (sl, 0, ...),\n",
    "    (0, sl, ...),\n",
    "    (..., sl, 0),\n",
    "    (..., 0, sl),\n",
    "    (..., 0, sl, 0),\n",
    "    (..., sl, sl, sl),\n",
    "    ]\n",
    "# assert all(np.allclose(np.array(myinst[test]), myarr[test]) for test in tests)\n",
    "for test in tests:\n",
    "    print(test)\n",
    "    print(' ', np.allclose(myarr[test], np.array(myinst[test])))\n",
    "#     try:\n",
    "#         print(' ', np.allclose(myarr[test], np.array(myinst[test])))\n",
    "#     except:\n",
    "#         print('Fail')\n",
    "    print('\\n')"
   ]
  },
  {
   "cell_type": "code",
   "execution_count": null,
   "id": "growing-intersection",
   "metadata": {},
   "outputs": [],
   "source": [
    "# from everest.funcy.utilities import delim_split\n",
    "# tests = [\n",
    "#     (0,),\n",
    "#     (0, 1),\n",
    "#     ((0, 1), 2),\n",
    "#     (0, ...),\n",
    "#     (..., 0),\n",
    "#     (0, 1, ...),\n",
    "#     (..., 0, 1),\n",
    "#     ((0, 1), ...),\n",
    "#     ((0, 1), 2, ...),\n",
    "#     (0, ..., 1),\n",
    "#     (0, 1, ..., 2),\n",
    "#     (0, ..., 1, 2),\n",
    "#     (0, 1, ..., 2, 3),\n",
    "#     ((0, 1), ..., 2, 3),\n",
    "#     ((0, 1), ..., (2, 3)),\n",
    "#     ]\n",
    "# for test in tests:\n",
    "#     print(test)\n",
    "#     prelim, *postlim = delim_split(test)\n",
    "#     postlim = postlim[0] if postlim else postlim\n",
    "#     print(' ', prelim)\n",
    "#     print(' ', postlim)\n",
    "#     print('\\n')"
   ]
  }
 ],
 "metadata": {
  "kernelspec": {
   "display_name": "Python 3",
   "language": "python",
   "name": "python3"
  },
  "language_info": {
   "codemirror_mode": {
    "name": "ipython",
    "version": 3
   },
   "file_extension": ".py",
   "mimetype": "text/x-python",
   "name": "python",
   "nbconvert_exporter": "python",
   "pygments_lexer": "ipython3",
   "version": "3.8.6"
  }
 },
 "nbformat": 4,
 "nbformat_minor": 5
}
