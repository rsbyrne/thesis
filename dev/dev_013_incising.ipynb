{
 "cells": [
  {
   "cell_type": "code",
   "execution_count": 1,
   "id": "endless-police",
   "metadata": {},
   "outputs": [],
   "source": [
    "from thesis_initialise import *"
   ]
  },
  {
   "cell_type": "code",
   "execution_count": 2,
   "id": "identical-binary",
   "metadata": {},
   "outputs": [],
   "source": [
    "from everest.funcy import generic as _generic\n",
    "class MyArray(_generic.FuncyIncisable):\n",
    "    def __init__(self, arr, /):\n",
    "        self.arr = arr\n",
    "    @property\n",
    "    def shape(self):\n",
    "        return self.arr.shape\n",
    "    def _getitem_broad(self, ind):\n",
    "        print('broad', ind)\n",
    "        return self.__class__(self.arr[ind])\n",
    "    def _getitem_strict(self, ind):\n",
    "        print('strict', ind)\n",
    "        return self.__class__(self.arr[ind])\n",
    "    def _getitem_sub(self, arg0, *argn):\n",
    "        print('sub', arg0, argn)\n",
    "        ind = tuple((slice(None), arg0, *argn))\n",
    "        return self.__class__(self.arr[ind])\n",
    "    def __repr__(self):\n",
    "        return f\"{self.__class__.__name__}({str(self.arr)})\""
   ]
  },
  {
   "cell_type": "code",
   "execution_count": 3,
   "id": "desperate-shakespeare",
   "metadata": {},
   "outputs": [],
   "source": [
    "myarr = np.random.rand(3, 4, 5, 6, 7)\n",
    "myinst = MyArray(myarr)"
   ]
  },
  {
   "cell_type": "code",
   "execution_count": 4,
   "id": "sexual-kitchen",
   "metadata": {},
   "outputs": [
    {
     "name": "stdout",
     "output_type": "stream",
     "text": [
      "0\n",
      "strict 0\n",
      "  True\n",
      "\n",
      "\n",
      "(0, 0)\n",
      "strict 0\n",
      "strict 0\n",
      "  True\n",
      "\n",
      "\n",
      "slice(None, None, None)\n",
      "broad slice(None, None, None)\n",
      "  True\n",
      "\n",
      "\n",
      "slice(1, 2, 3)\n",
      "broad slice(1, 2, 3)\n",
      "  True\n",
      "\n",
      "\n",
      "(slice(1, 2, 3), 0)\n",
      "broad slice(1, 2, 3)\n",
      "sub 0 ()\n",
      "  True\n",
      "\n",
      "\n",
      "(0, slice(1, 2, 3))\n",
      "strict 0\n",
      "broad slice(1, 2, 3)\n",
      "  True\n",
      "\n",
      "\n",
      "(slice(1, 2, 3), 0, 0)\n",
      "broad slice(1, 2, 3)\n",
      "sub 0 (0,)\n",
      "  True\n",
      "\n",
      "\n",
      "(0, 0, slice(1, 2, 3))\n",
      "strict 0\n",
      "strict 0\n",
      "broad slice(1, 2, 3)\n",
      "  True\n",
      "\n",
      "\n",
      "(0, slice(1, 2, 3), 0)\n",
      "strict 0\n",
      "broad slice(1, 2, 3)\n",
      "sub 0 ()\n",
      "  True\n",
      "\n",
      "\n",
      "(0, slice(1, 2, 3), 0, 0)\n",
      "strict 0\n",
      "broad slice(1, 2, 3)\n",
      "sub 0 (0,)\n",
      "  True\n",
      "\n",
      "\n",
      "(0, 0, slice(1, 2, 3), 0)\n",
      "strict 0\n",
      "strict 0\n",
      "broad slice(1, 2, 3)\n",
      "sub 0 ()\n",
      "  True\n",
      "\n",
      "\n",
      "(0, 0, slice(1, 2, 3), 0, 0)\n",
      "strict 0\n",
      "strict 0\n",
      "broad slice(1, 2, 3)\n",
      "sub 0 (0,)\n",
      "  True\n",
      "\n",
      "\n",
      "(0, slice(1, 2, 3), 0, slice(1, 2, 3), 0)\n",
      "strict 0\n",
      "broad slice(1, 2, 3)\n",
      "sub 0 (slice(1, 2, 3), 0)\n",
      "  True\n",
      "\n",
      "\n",
      "(slice(1, 2, 3), slice(1, 2, 3), 0, 0, slice(1, 2, 3))\n",
      "broad slice(1, 2, 3)\n",
      "sub slice(1, 2, 3) (0, 0, slice(1, 2, 3))\n",
      "  True\n",
      "\n",
      "\n",
      "Ellipsis\n",
      "  True\n",
      "\n",
      "\n",
      "(Ellipsis, 0)\n",
      "broad slice(None, None, None)\n",
      "sub slice(None, None, None) (slice(None, None, None), slice(None, None, None), 0)\n",
      "  True\n",
      "\n",
      "\n",
      "(0, Ellipsis)\n",
      "strict 0\n",
      "  True\n",
      "\n",
      "\n",
      "(Ellipsis, 0, 0)\n",
      "broad slice(None, None, None)\n",
      "sub slice(None, None, None) (slice(None, None, None), 0, 0)\n",
      "  True\n",
      "\n",
      "\n",
      "(0, 0, Ellipsis)\n",
      "strict 0\n",
      "strict 0\n",
      "  True\n",
      "\n",
      "\n",
      "(slice(1, 2, 3), 0, Ellipsis)\n",
      "broad slice(1, 2, 3)\n",
      "sub 0 (Ellipsis,)\n",
      "  True\n",
      "\n",
      "\n",
      "(0, slice(1, 2, 3), Ellipsis)\n",
      "strict 0\n",
      "broad slice(1, 2, 3)\n",
      "sub Ellipsis ()\n",
      "  True\n",
      "\n",
      "\n",
      "(Ellipsis, slice(1, 2, 3), 0)\n",
      "broad slice(None, None, None)\n",
      "sub slice(None, None, None) (slice(None, None, None), slice(1, 2, 3), 0)\n",
      "  True\n",
      "\n",
      "\n",
      "(Ellipsis, 0, slice(1, 2, 3))\n",
      "broad slice(None, None, None)\n",
      "sub slice(None, None, None) (slice(None, None, None), 0, slice(1, 2, 3))\n",
      "  True\n",
      "\n",
      "\n",
      "(Ellipsis, 0, slice(1, 2, 3), 0)\n",
      "broad slice(None, None, None)\n",
      "sub slice(None, None, None) (0, slice(1, 2, 3), 0)\n",
      "  True\n",
      "\n",
      "\n",
      "(Ellipsis, slice(1, 2, 3), slice(1, 2, 3), slice(1, 2, 3))\n",
      "broad slice(None, None, None)\n",
      "sub slice(None, None, None) (slice(1, 2, 3), slice(1, 2, 3), slice(1, 2, 3))\n",
      "  True\n",
      "\n",
      "\n"
     ]
    }
   ],
   "source": [
    "sl = slice(1, 2, 3)\n",
    "tests = [\n",
    "    0,\n",
    "    (0, 0),\n",
    "    slice(None),\n",
    "    sl,\n",
    "    (sl, 0),\n",
    "    (0, sl),\n",
    "    (sl, 0, 0),\n",
    "    (0, 0, sl),\n",
    "    (0, sl, 0),\n",
    "    (0, sl, 0, 0),\n",
    "    (0, 0, sl, 0),\n",
    "    (0, 0, sl, 0, 0),\n",
    "    (0, sl, 0, sl, 0),\n",
    "    (sl, sl, 0, 0, sl),\n",
    "    ...,\n",
    "    (..., 0),\n",
    "    (0, ...),\n",
    "    (..., 0, 0),\n",
    "    (0, 0, ...),\n",
    "    (sl, 0, ...),\n",
    "    (0, sl, ...),\n",
    "    (..., sl, 0),\n",
    "    (..., 0, sl),\n",
    "    (..., 0, sl, 0),\n",
    "    (..., sl, sl, sl),\n",
    "    ]\n",
    "for test in tests:\n",
    "    print(test)\n",
    "    print(' ', np.allclose(myinst[test].arr, myarr[test]))\n",
    "    print('\\n')"
   ]
  },
  {
   "cell_type": "code",
   "execution_count": null,
   "id": "choice-india",
   "metadata": {},
   "outputs": [],
   "source": [
    "np.allclose(myinst[0].arr, myarr[0])"
   ]
  },
  {
   "cell_type": "code",
   "execution_count": null,
   "id": "voluntary-valuable",
   "metadata": {},
   "outputs": [],
   "source": [
    "np.allclose(myinst[:].arr, myarr[:])"
   ]
  },
  {
   "cell_type": "code",
   "execution_count": null,
   "id": "fabulous-thermal",
   "metadata": {},
   "outputs": [],
   "source": [
    "np.allclose(myinst[0, 0].arr, myarr[0, 0])"
   ]
  },
  {
   "cell_type": "code",
   "execution_count": null,
   "id": "narrative-judges",
   "metadata": {},
   "outputs": [],
   "source": [
    "np.allclose(myinst[:, 0].arr, myarr[:, 0])"
   ]
  },
  {
   "cell_type": "code",
   "execution_count": null,
   "id": "twenty-atlas",
   "metadata": {},
   "outputs": [],
   "source": [
    "np.allclose(myinst[0, :, 0].arr, myarr[0, :, 0])"
   ]
  },
  {
   "cell_type": "code",
   "execution_count": null,
   "id": "indoor-profession",
   "metadata": {},
   "outputs": [],
   "source": [
    "myinst[..., 0].shape"
   ]
  },
  {
   "cell_type": "code",
   "execution_count": null,
   "id": "artistic-nightlife",
   "metadata": {},
   "outputs": [],
   "source": [
    "myarr[..., 0].shape"
   ]
  },
  {
   "cell_type": "code",
   "execution_count": null,
   "id": "proved-refrigerator",
   "metadata": {},
   "outputs": [],
   "source": [
    "np.allclose(myinst[..., 0].arr, myarr[..., 0])"
   ]
  },
  {
   "cell_type": "code",
   "execution_count": null,
   "id": "exotic-census",
   "metadata": {},
   "outputs": [],
   "source": [
    "np.allclose(myinst[..., 0, 0].arr, myarr[..., 0, 0])"
   ]
  },
  {
   "cell_type": "code",
   "execution_count": null,
   "id": "uniform-preference",
   "metadata": {},
   "outputs": [],
   "source": [
    "np.allclose(myinst[0, ...].arr, myarr[0, ...])"
   ]
  },
  {
   "cell_type": "code",
   "execution_count": null,
   "id": "buried-conducting",
   "metadata": {},
   "outputs": [],
   "source": [
    "np.allclose(myinst[0, 0, ...].arr, myarr[0, 0, ...])"
   ]
  },
  {
   "cell_type": "code",
   "execution_count": null,
   "id": "renewable-accountability",
   "metadata": {},
   "outputs": [],
   "source": [
    "np.allclose(myinst[0, ..., 0].arr, myarr[0, ..., 0])"
   ]
  },
  {
   "cell_type": "code",
   "execution_count": null,
   "id": "metropolitan-russian",
   "metadata": {},
   "outputs": [],
   "source": [
    "np.allclose(myinst[0, 0, ..., 0].arr, myarr[0, 0, ..., 0])"
   ]
  },
  {
   "cell_type": "code",
   "execution_count": null,
   "id": "broke-distinction",
   "metadata": {},
   "outputs": [],
   "source": [
    "np.allclose(myinst[0, 0, ..., 0].arr, myarr[0, 0, ..., 0])"
   ]
  },
  {
   "cell_type": "code",
   "execution_count": null,
   "id": "progressive-solution",
   "metadata": {},
   "outputs": [],
   "source": []
  },
  {
   "cell_type": "code",
   "execution_count": null,
   "id": "artificial-houston",
   "metadata": {},
   "outputs": [],
   "source": [
    "myinst[:, 0]"
   ]
  },
  {
   "cell_type": "code",
   "execution_count": null,
   "id": "dress-clearing",
   "metadata": {},
   "outputs": [],
   "source": [
    "myarr[:, 0]"
   ]
  },
  {
   "cell_type": "code",
   "execution_count": null,
   "id": "light-petite",
   "metadata": {},
   "outputs": [],
   "source": [
    "myarr[0, 0]"
   ]
  },
  {
   "cell_type": "code",
   "execution_count": null,
   "id": "coastal-refrigerator",
   "metadata": {},
   "outputs": [],
   "source": [
    "myarr[0][0]"
   ]
  },
  {
   "cell_type": "code",
   "execution_count": null,
   "id": "scientific-passion",
   "metadata": {},
   "outputs": [],
   "source": [
    "from everest.funcy.utilities import delim_split\n",
    "tests = [\n",
    "    (0,),\n",
    "    (0, 1),\n",
    "    ((0, 1), 2),\n",
    "    (0, ...),\n",
    "    (..., 0),\n",
    "    (0, 1, ...),\n",
    "    (..., 0, 1),\n",
    "    ((0, 1), ...),\n",
    "    ((0, 1), 2, ...),\n",
    "    (0, ..., 1),\n",
    "    (0, 1, ..., 2),\n",
    "    (0, ..., 1, 2),\n",
    "    (0, 1, ..., 2, 3),\n",
    "    ((0, 1), ..., 2, 3),\n",
    "    ((0, 1), ..., (2, 3)),\n",
    "    ]\n",
    "for test in tests:\n",
    "    print(test)\n",
    "    prelim, *postlim = delim_split(test)\n",
    "    postlim = postlim[0] if postlim else postlim\n",
    "    print(' ', prelim)\n",
    "    print(' ', postlim)\n",
    "    print('\\n')"
   ]
  }
 ],
 "metadata": {
  "kernelspec": {
   "display_name": "Python 3",
   "language": "python",
   "name": "python3"
  },
  "language_info": {
   "codemirror_mode": {
    "name": "ipython",
    "version": 3
   },
   "file_extension": ".py",
   "mimetype": "text/x-python",
   "name": "python",
   "nbconvert_exporter": "python",
   "pygments_lexer": "ipython3",
   "version": "3.8.6"
  }
 },
 "nbformat": 4,
 "nbformat_minor": 5
}
