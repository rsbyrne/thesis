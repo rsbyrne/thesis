{
 "cells": [
  {
   "cell_type": "code",
   "execution_count": 1,
   "id": "suitable-winning",
   "metadata": {},
   "outputs": [],
   "source": [
    "from thesis_initialise import *"
   ]
  },
  {
   "cell_type": "code",
   "execution_count": 2,
   "id": "female-disabled",
   "metadata": {},
   "outputs": [],
   "source": [
    "myseq = Fn[[10, 100], [20, 200], [30, 300]]"
   ]
  },
  {
   "cell_type": "code",
   "execution_count": 3,
   "id": "accessible-spanking",
   "metadata": {},
   "outputs": [],
   "source": [
    "seqiter = myseq.value"
   ]
  },
  {
   "cell_type": "code",
   "execution_count": 4,
   "id": "utility-reliance",
   "metadata": {},
   "outputs": [
    {
     "data": {
      "text/plain": [
       "funcy.Arbitrary(funcy.Array 'anon_673265518588' {dtype: np.int64, name: anon_673265518588, shape: (2,)}, funcy.Array 'anon_560639462229' {dtype: np.int64, name: anon_560639462229, shape: (2,)}, funcy.Array 'anon_335450920824' {dtype: np.int64, name: anon_335450920824, shape: (2,)})"
      ]
     },
     "execution_count": 4,
     "metadata": {},
     "output_type": "execute_result"
    }
   ],
   "source": [
    "myseq"
   ]
  },
  {
   "cell_type": "code",
   "execution_count": 5,
   "id": "elementary-munich",
   "metadata": {},
   "outputs": [
    {
     "data": {
      "text/plain": [
       "[(array([ 10, 100]), 0), (array([ 20, 200]), 0), (array([ 30, 300]), 0)]"
      ]
     },
     "execution_count": 5,
     "metadata": {},
     "output_type": "execute_result"
    }
   ],
   "source": [
    "list(myseq[0]._muddle_terms())"
   ]
  },
  {
   "cell_type": "code",
   "execution_count": 6,
   "id": "synthetic-brick",
   "metadata": {},
   "outputs": [
    {
     "data": {
      "text/plain": [
       "[10, 20, 30]"
      ]
     },
     "execution_count": 6,
     "metadata": {},
     "output_type": "execute_result"
    }
   ],
   "source": [
    "list(myseq[0].value)"
   ]
  },
  {
   "cell_type": "code",
   "execution_count": 7,
   "id": "graphic-princess",
   "metadata": {},
   "outputs": [
    {
     "data": {
      "text/plain": [
       "[array([ 10, 100])]"
      ]
     },
     "execution_count": 7,
     "metadata": {},
     "output_type": "execute_result"
    }
   ],
   "source": [
    "list(myseq.sub[:1].value)"
   ]
  },
  {
   "cell_type": "code",
   "execution_count": 8,
   "id": "brazilian-headline",
   "metadata": {},
   "outputs": [],
   "source": [
    "mydict = Fn(dict(\n",
    "    a = Fn[1, 2, 3],\n",
    "    b = Fn[10, 20, 30],\n",
    "    ))"
   ]
  },
  {
   "cell_type": "code",
   "execution_count": 9,
   "id": "theoretical-appendix",
   "metadata": {},
   "outputs": [
    {
     "data": {
      "text/plain": [
       "[GrupleMap{'a': 1, 'b': 10},\n",
       " GrupleMap{'a': 2, 'b': 10},\n",
       " GrupleMap{'a': 1, 'b': 20},\n",
       " GrupleMap{'a': 2, 'b': 20},\n",
       " GrupleMap{'a': 3, 'b': 10},\n",
       " GrupleMap{'a': 3, 'b': 20},\n",
       " GrupleMap{'a': 1, 'b': 30},\n",
       " GrupleMap{'a': 2, 'b': 30},\n",
       " GrupleMap{'a': 3, 'b': 30}]"
      ]
     },
     "execution_count": 9,
     "metadata": {},
     "output_type": "execute_result"
    }
   ],
   "source": [
    "list(mydict.value)"
   ]
  },
  {
   "cell_type": "code",
   "execution_count": 10,
   "id": "chronic-circumstances",
   "metadata": {},
   "outputs": [
    {
     "data": {
      "text/plain": [
       "[1, 2, 1, 2, 3, 3, 1, 2, 3]"
      ]
     },
     "execution_count": 10,
     "metadata": {},
     "output_type": "execute_result"
    }
   ],
   "source": [
    "list(mydict['a'].value)"
   ]
  },
  {
   "cell_type": "code",
   "execution_count": 11,
   "id": "connected-specialist",
   "metadata": {},
   "outputs": [
    {
     "data": {
      "text/plain": [
       "[GrupleMap{'a': 1, 'b': 10},\n",
       " GrupleMap{'a': 2, 'b': 10},\n",
       " GrupleMap{'a': 1, 'b': 20}]"
      ]
     },
     "execution_count": 11,
     "metadata": {},
     "output_type": "execute_result"
    }
   ],
   "source": [
    "list(mydict.sub[:3].value)"
   ]
  },
  {
   "cell_type": "code",
   "execution_count": null,
   "id": "understood-michael",
   "metadata": {},
   "outputs": [],
   "source": []
  }
 ],
 "metadata": {
  "kernelspec": {
   "display_name": "Python 3",
   "language": "python",
   "name": "python3"
  },
  "language_info": {
   "codemirror_mode": {
    "name": "ipython",
    "version": 3
   },
   "file_extension": ".py",
   "mimetype": "text/x-python",
   "name": "python",
   "nbconvert_exporter": "python",
   "pygments_lexer": "ipython3",
   "version": "3.8.6"
  }
 },
 "nbformat": 4,
 "nbformat_minor": 5
}
