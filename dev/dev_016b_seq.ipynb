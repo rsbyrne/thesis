{
 "cells": [
  {
   "cell_type": "code",
   "execution_count": null,
   "id": "suitable-winning",
   "metadata": {},
   "outputs": [],
   "source": [
    "from thesis_initialise import *"
   ]
  },
  {
   "cell_type": "code",
   "execution_count": null,
   "id": "female-disabled",
   "metadata": {},
   "outputs": [],
   "source": [
    "myseq = Fn[[10, 100], [20, 200], [30, 300]]"
   ]
  },
  {
   "cell_type": "code",
   "execution_count": null,
   "id": "accessible-spanking",
   "metadata": {},
   "outputs": [],
   "source": [
    "seqiter = myseq.value"
   ]
  },
  {
   "cell_type": "code",
   "execution_count": null,
   "id": "utility-reliance",
   "metadata": {},
   "outputs": [],
   "source": [
    "myseq"
   ]
  },
  {
   "cell_type": "code",
   "execution_count": null,
   "id": "elementary-munich",
   "metadata": {},
   "outputs": [],
   "source": [
    "list(myseq[0]._muddle_terms())"
   ]
  },
  {
   "cell_type": "code",
   "execution_count": null,
   "id": "synthetic-brick",
   "metadata": {},
   "outputs": [],
   "source": [
    "list(myseq[0].value)"
   ]
  },
  {
   "cell_type": "code",
   "execution_count": null,
   "id": "graphic-princess",
   "metadata": {},
   "outputs": [],
   "source": [
    "list(myseq.sub[:1].value)"
   ]
  },
  {
   "cell_type": "code",
   "execution_count": null,
   "id": "brazilian-headline",
   "metadata": {},
   "outputs": [],
   "source": [
    "mydict = Fn(dict(\n",
    "    a = Fn[1, 2, 3],\n",
    "    b = Fn[10, 20, 30],\n",
    "    ))"
   ]
  },
  {
   "cell_type": "code",
   "execution_count": null,
   "id": "theoretical-appendix",
   "metadata": {},
   "outputs": [],
   "source": [
    "list(mydict.value)"
   ]
  },
  {
   "cell_type": "code",
   "execution_count": null,
   "id": "chronic-circumstances",
   "metadata": {},
   "outputs": [],
   "source": [
    "list(mydict['a'].value)"
   ]
  },
  {
   "cell_type": "code",
   "execution_count": null,
   "id": "connected-specialist",
   "metadata": {},
   "outputs": [],
   "source": [
    "list(mydict.sub[:3].value)"
   ]
  },
  {
   "cell_type": "code",
   "execution_count": null,
   "id": "understood-michael",
   "metadata": {},
   "outputs": [],
   "source": []
  }
 ],
 "metadata": {
  "kernelspec": {
   "display_name": "Python 3",
   "language": "python",
   "name": "python3"
  },
  "language_info": {
   "codemirror_mode": {
    "name": "ipython",
    "version": 3
   },
   "file_extension": ".py",
   "mimetype": "text/x-python",
   "name": "python",
   "nbconvert_exporter": "python",
   "pygments_lexer": "ipython3",
   "version": "3.8.6"
  }
 },
 "nbformat": 4,
 "nbformat_minor": 5
}
