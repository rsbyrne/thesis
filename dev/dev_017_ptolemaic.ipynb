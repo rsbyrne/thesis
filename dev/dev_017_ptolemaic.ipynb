{
 "cells": [
  {
   "cell_type": "code",
   "execution_count": null,
   "id": "cubic-canvas",
   "metadata": {},
   "outputs": [],
   "source": [
    "from thesis_initialise import *"
   ]
  },
  {
   "cell_type": "code",
   "execution_count": null,
   "id": "quiet-quarter",
   "metadata": {},
   "outputs": [],
   "source": [
    "from collections.abc import Mapping as _Mapping\n",
    "import numbers as _numbers\n",
    "import functools as _functools\n",
    "import inspect as _inspect\n",
    "import weakref as _weakref\n",
    "\n",
    "from everest.h5anchor import disk as _disk\n",
    "from everest import reseed as _reseed\n",
    "from everest.funcy import (\n",
    "    Function as _Function,\n",
    "    generic as _generic,\n",
    "    special as _special,\n",
    "    Fn as _Fn,\n",
    "    )\n",
    "from everest.cascade import (\n",
    "    Cascade as _Cascade,\n",
    "    Inputs as _Inputs,\n",
    "    )\n",
    "from everest.funcy.base import Base as _Base\n",
    "from everest import wordhash as _wordhash\n",
    "from everest.exceptions import *"
   ]
  },
  {
   "cell_type": "code",
   "execution_count": null,
   "id": "secure-universe",
   "metadata": {},
   "outputs": [],
   "source": [
    "################################################################################\n",
    "\n",
    "class SchemaIncisable(_generic.FuncyHardIncisable):\n",
    "    def __init__(self, schema):\n",
    "        self._schema = schema\n",
    "    @property\n",
    "    def schema(self):\n",
    "        return self._schema\n",
    "    @property\n",
    "    def shape(self):\n",
    "        return self.schema.shape\n",
    "\n",
    "################################################################################\n",
    "\n",
    "class Schema(type):\n",
    "    userdefined = False\n",
    "    def __new__(meta, name, bases, dic, *args, **kwargs):\n",
    "        cls = super().__new__(meta, name, bases, dic)\n",
    "        cls.root = cls\n",
    "        if cls.userdefined:\n",
    "            cls.script = script = \\\n",
    "                str(_reseed.digits(12)) # <- TEMPORARY\n",
    "    #             _disk.ToOpen(inspect.getfile(schema))()\n",
    "            cls._schemaID = schemaID = \\\n",
    "                _wordhash.get_random_proper(2, seed = script)\n",
    "            try:\n",
    "                cls = meta._premade[schemaID]\n",
    "                assert cls.script == script, (script[:32], schema.script[:32])\n",
    "                raise KeyError\n",
    "            except KeyError:\n",
    "                meta._premade[schemaID] = cls\n",
    "        else:\n",
    "            cls._schemaID = f'EverestSchema({cls.__name__})'\n",
    "            return cls\n",
    "        return cls\n",
    "    @property\n",
    "    def defaults(self):\n",
    "        try:\n",
    "            return self._defaults\n",
    "        except AttributeError:\n",
    "            defaults = self._defaults = _Inputs(\n",
    "                self.__init__,\n",
    "                name = self.__name__\n",
    "                )\n",
    "            return defaults\n",
    "    @property\n",
    "    def inputs(self):\n",
    "        return self.defaults\n",
    "    @property\n",
    "    def schemaID(self):\n",
    "        return self.root._schemaID\n",
    "    @property\n",
    "    def hashID(self):\n",
    "        return self.schemaID\n",
    "    def __call__(self, *args, **kwargs):\n",
    "        instance = object.__new__(self)\n",
    "        inputs = self.inputs.copy(*args, **kwargs)\n",
    "        setArgs, setKwargs = inputs.args, inputs.kwargs\n",
    "        instance.__init__(*setArgs, **{**kwargs, **setKwargs})\n",
    "        instanceID = str(_reseed.digits(12))\n",
    "        instance.instanceID = instanceID\n",
    "        instance.hashID = self.hashID + ';' + instanceID\n",
    "        instance.inputs = inputs\n",
    "        return instance\n",
    "\n",
    "    @property\n",
    "    def schemaIncisable(self):\n",
    "        try:\n",
    "            return self._schemaIncisable(self)\n",
    "        except AttributeError:\n",
    "            self._schemaIncisable = schInc = SchemaIncisable(self)\n",
    "            return schInc\n",
    "    @property\n",
    "    def shape(self) -> tuple:\n",
    "        return (_special.infint,)\n",
    "    def __getitem__(self, arg, /):\n",
    "        return self.schemaIncisable[arg]\n",
    "\n",
    "def make_case(cls, *args, **kwargs):\n",
    "    if not isinstance(cls, Schema):\n",
    "        raise TypeError\n",
    "    case = _Cascade(*args, **kwargs)\n",
    "    case = Case(\n",
    "        f\"{cls.__name__}:{case.hashID}\",\n",
    "        (cls, *cls.__bases__),\n",
    "        dict(cls.__dict__),\n",
    "        case = case,\n",
    "        )\n",
    "    return case\n",
    "\n",
    "class Case(Schema):\n",
    "    def __init__(self, *args, case: _Cascade, **kwargs):\n",
    "        self._case = case\n",
    "        super().__init__(*args, **kwargs)\n",
    "    @property\n",
    "    def inputs(self):\n",
    "        return self.defaults.copy(**self._case)\n",
    "\n",
    "################################################################################\n",
    "\n",
    "class Basic(metaclass = Schema):\n",
    "    def __repr__(self):\n",
    "        return self.hashID\n",
    "\n",
    "################################################################################\n",
    "\n",
    "class MyClass(Basic):\n",
    "    userdefined = False\n",
    "    def __init__(self,\n",
    "            a = 1,\n",
    "            b = 2,\n",
    "            c = 3,\n",
    "            _d = 4,\n",
    "            **kwargs,\n",
    "            ):\n",
    "        self.foo = a * b * c\n",
    "        super().__init__(**kwargs)"
   ]
  },
  {
   "cell_type": "code",
   "execution_count": null,
   "id": "light-navigation",
   "metadata": {},
   "outputs": [],
   "source": [
    "MyClass.hashID"
   ]
  },
  {
   "cell_type": "code",
   "execution_count": null,
   "id": "raised-debut",
   "metadata": {},
   "outputs": [],
   "source": [
    "case = make_case(MyClass, a = 10)\n",
    "case()"
   ]
  },
  {
   "cell_type": "code",
   "execution_count": null,
   "id": "complicated-million",
   "metadata": {},
   "outputs": [],
   "source": [
    "case.hashID"
   ]
  },
  {
   "cell_type": "code",
   "execution_count": null,
   "id": "superior-aquarium",
   "metadata": {},
   "outputs": [],
   "source": [
    "case.inputs"
   ]
  },
  {
   "cell_type": "code",
   "execution_count": null,
   "id": "infectious-journal",
   "metadata": {},
   "outputs": [],
   "source": [
    "case().inputs"
   ]
  },
  {
   "cell_type": "code",
   "execution_count": null,
   "id": "gentle-oracle",
   "metadata": {},
   "outputs": [],
   "source": [
    "case.inputs"
   ]
  },
  {
   "cell_type": "code",
   "execution_count": null,
   "id": "chemical-settle",
   "metadata": {},
   "outputs": [],
   "source": [
    "myinst.inputs"
   ]
  },
  {
   "cell_type": "code",
   "execution_count": null,
   "id": "distinct-painting",
   "metadata": {},
   "outputs": [],
   "source": [
    "case.defaults"
   ]
  },
  {
   "cell_type": "code",
   "execution_count": null,
   "id": "finnish-pavilion",
   "metadata": {},
   "outputs": [],
   "source": [
    "case.inputs"
   ]
  },
  {
   "cell_type": "code",
   "execution_count": null,
   "id": "regional-moscow",
   "metadata": {},
   "outputs": [],
   "source": []
  },
  {
   "cell_type": "code",
   "execution_count": null,
   "id": "swedish-consideration",
   "metadata": {},
   "outputs": [],
   "source": []
  },
  {
   "cell_type": "code",
   "execution_count": null,
   "id": "discrete-better",
   "metadata": {},
   "outputs": [],
   "source": []
  },
  {
   "cell_type": "code",
   "execution_count": null,
   "id": "detected-fifty",
   "metadata": {},
   "outputs": [],
   "source": []
  },
  {
   "cell_type": "code",
   "execution_count": null,
   "id": "above-citizenship",
   "metadata": {},
   "outputs": [],
   "source": [
    "MyClass"
   ]
  },
  {
   "cell_type": "code",
   "execution_count": null,
   "id": "federal-chemical",
   "metadata": {},
   "outputs": [],
   "source": [
    "MyClass[dict(a = 10)]"
   ]
  },
  {
   "cell_type": "code",
   "execution_count": null,
   "id": "valued-graduation",
   "metadata": {},
   "outputs": [],
   "source": [
    "mystrict = SchemaIncisable(MyClass)[dict(a = 1)]"
   ]
  },
  {
   "cell_type": "code",
   "execution_count": null,
   "id": "checked-charlotte",
   "metadata": {},
   "outputs": [],
   "source": [
    "mystrict.source"
   ]
  },
  {
   "cell_type": "code",
   "execution_count": null,
   "id": "substantial-spending",
   "metadata": {},
   "outputs": [],
   "source": [
    "mystrict.incisor"
   ]
  },
  {
   "cell_type": "code",
   "execution_count": null,
   "id": "damaged-malaysia",
   "metadata": {},
   "outputs": [],
   "source": []
  },
  {
   "cell_type": "code",
   "execution_count": null,
   "id": "tutorial-motion",
   "metadata": {},
   "outputs": [],
   "source": []
  },
  {
   "cell_type": "code",
   "execution_count": null,
   "id": "greatest-river",
   "metadata": {},
   "outputs": [],
   "source": []
  },
  {
   "cell_type": "code",
   "execution_count": null,
   "id": "coordinated-thumb",
   "metadata": {},
   "outputs": [],
   "source": [
    "myinst = MyClass(a = 10)"
   ]
  },
  {
   "cell_type": "code",
   "execution_count": null,
   "id": "healthy-trace",
   "metadata": {},
   "outputs": [],
   "source": []
  },
  {
   "cell_type": "code",
   "execution_count": null,
   "id": "international-tuition",
   "metadata": {},
   "outputs": [],
   "source": [
    "MyClass.schemaIncisable"
   ]
  },
  {
   "cell_type": "code",
   "execution_count": null,
   "id": "becoming-desire",
   "metadata": {},
   "outputs": [],
   "source": [
    "myobj = mycase()"
   ]
  },
  {
   "cell_type": "code",
   "execution_count": null,
   "id": "tested-lafayette",
   "metadata": {},
   "outputs": [],
   "source": [
    "type(myobj).shape"
   ]
  },
  {
   "cell_type": "code",
   "execution_count": null,
   "id": "standard-registrar",
   "metadata": {},
   "outputs": [],
   "source": [
    "repr(myobj)"
   ]
  },
  {
   "cell_type": "code",
   "execution_count": null,
   "id": "clear-invalid",
   "metadata": {},
   "outputs": [],
   "source": [
    "myobj"
   ]
  },
  {
   "cell_type": "code",
   "execution_count": null,
   "id": "religious-pearl",
   "metadata": {},
   "outputs": [],
   "source": [
    "################################################################################\n",
    "\n",
    "class Schema(_generic.FuncyHardIncisable, type):\n",
    "    userdefined = False\n",
    "    def __new__(meta, name, bases, dic, *args, **kwargs):\n",
    "        cls = super().__new__(meta, name, bases, dic)\n",
    "        cls.root = cls\n",
    "        if cls.userdefined:\n",
    "            cls.script = script = \\\n",
    "                str(_reseed.digits(12)) # <- TEMPORARY\n",
    "    #             _disk.ToOpen(inspect.getfile(schema))()\n",
    "            cls._schemaID = schemaID = \\\n",
    "                _wordhash.get_random_proper(2, seed = script)\n",
    "            try:\n",
    "                cls = meta._premade[schemaID]\n",
    "                assert cls.script == script, (script[:32], schema.script[:32])\n",
    "                raise KeyError\n",
    "            except KeyError:\n",
    "                meta._premade[schemaID] = cls\n",
    "        else:\n",
    "            cls._schemaID = f'EverestSchema_{cls.__name__}'\n",
    "            return cls\n",
    "        return cls\n",
    "    def __init__(self, *args, defaults = None, **kwargs):\n",
    "        if not defaults is None:\n",
    "            self._defaults = defaults\n",
    "        self.cases = _weakref.WeakValueDictionary()\n",
    "        super().__init__(*args, **kwargs)\n",
    "    @property\n",
    "    def incisionTypes(self):\n",
    "        return {**super().incisionTypes, **dict(declarative = Case)}\n",
    "    @property\n",
    "    def defaults(self):\n",
    "        try:\n",
    "            return self._defaults\n",
    "        except AttributeError:\n",
    "            defaults = self._defaults = _Inputs(\n",
    "                self.__init__,\n",
    "                name = self.__name__\n",
    "                )\n",
    "            return defaults\n",
    "    @property\n",
    "    def schemaID(self):\n",
    "        return self.root._schemaID\n",
    "    @property\n",
    "    def hashID(self):\n",
    "        return self.schemaID\n",
    "    @classmethod\n",
    "    def _get_incision_method(cls, arg):\n",
    "        if isinstance(arg, _Function):\n",
    "            if arg.isSeq:\n",
    "                return cls._getitem_seq\n",
    "        return super()._get_incision_method(arg)\n",
    "    def _getitem_declarative(self, arg):\n",
    "        return self._get_case(arg)\n",
    "    def _get_case(self, *args, **kwargs):\n",
    "        case = _Cascade(*args, **kwargs)\n",
    "        try:\n",
    "            case = self.cases[(hashID := case.hashID)]\n",
    "        except KeyError:\n",
    "            case = self._get_incision_type('declarative')(\n",
    "                f\"{self.root.__name__}:{case.hashID}\",\n",
    "                (self, *self.__bases__),\n",
    "                dict(self.__dict__),\n",
    "                case = case,\n",
    "                defaults = self.defaults,\n",
    "                )\n",
    "            case.root = self.root\n",
    "            self.cases[hashID] = case\n",
    "        return case\n",
    "    def __call__(self, *args, **kwargs):\n",
    "        return self._get_case(*args, **kwargs)(**kwargs)\n",
    "    @property\n",
    "    def shape(self) -> tuple:\n",
    "        return (_special.infint,)\n",
    "\n",
    "class Case(_generic.FuncyStrictIncision, Schema):\n",
    "#     def __init__(self, *args, case: _Cascade, **kwargs):\n",
    "#         self._case = case\n",
    "#         self._inputs = self.defaults.copy(**case)\n",
    "#         super().__init__(*args, **kwargs)\n",
    "    @property\n",
    "    def inputs(self):\n",
    "        return self._inputs\n",
    "    @property\n",
    "    def case(self):\n",
    "        return self._case\n",
    "    @property\n",
    "    def hashID(self):\n",
    "        return self.schemaID + ':' + self.case.hashID\n",
    "    @property\n",
    "    def shape(self):\n",
    "        _, *dims = super().shape\n",
    "        return tuple(dims)\n",
    "    def __call__(self, **kwargs):\n",
    "        instance = object.__new__(self)\n",
    "        inputs = self.inputs\n",
    "        setArgs, setKwargs = inputs.args, inputs.kwargs\n",
    "        instance.__init__(*setArgs, **{**kwargs, **setKwargs})\n",
    "        instance.case = self.case\n",
    "        instanceID = str(_reseed.digits(12))\n",
    "        instance.instanceID = instanceID\n",
    "        instance.hashID = self.hashID + ';' + instanceID\n",
    "        instance.inputs = inputs\n",
    "        return instance\n",
    "\n",
    "################################################################################\n",
    "\n",
    "class Basic(metaclass = Schema):\n",
    "    ...\n",
    "\n",
    "################################################################################\n",
    "\n",
    "class MyClass(Basic):\n",
    "    userdefined = False\n",
    "    def __init__(self,\n",
    "            a = 1,\n",
    "            b = 2,\n",
    "            c = 3,\n",
    "            _d = 4,\n",
    "            **kwargs,\n",
    "            ):\n",
    "        self.foo = a * b * c\n",
    "        super().__init__(**kwargs)"
   ]
  }
 ],
 "metadata": {
  "kernelspec": {
   "display_name": "Python 3",
   "language": "python",
   "name": "python3"
  },
  "language_info": {
   "codemirror_mode": {
    "name": "ipython",
    "version": 3
   },
   "file_extension": ".py",
   "mimetype": "text/x-python",
   "name": "python",
   "nbconvert_exporter": "python",
   "pygments_lexer": "ipython3",
   "version": "3.8.5"
  }
 },
 "nbformat": 4,
 "nbformat_minor": 5
}
