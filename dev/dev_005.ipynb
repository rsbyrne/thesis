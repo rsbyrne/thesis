{
 "cells": [
  {
   "cell_type": "code",
   "execution_count": 1,
   "id": "dimensional-receptor",
   "metadata": {},
   "outputs": [],
   "source": [
    "from dataclasses import dataclass, field\n",
    "import typing\n",
    "from enum import Enum\n",
    "\n",
    "import numpy as np\n",
    "\n",
    "from thesis_initialise import *\n",
    "\n",
    "from everest.funcy.special import *\n",
    "from everest.cascade import Cascade, Hierarchy"
   ]
  },
  {
   "cell_type": "code",
   "execution_count": 2,
   "id": "strange-revolution",
   "metadata": {},
   "outputs": [],
   "source": [
    "myCascade = Cascade(\n",
    "    a = 1,\n",
    "    b = Cascade(\n",
    "        ba = 11,\n",
    "        bb = 12,\n",
    "        bc = Cascade(\n",
    "            bca = 111,\n",
    "            )\n",
    "        ),\n",
    "    c = 3,\n",
    "    )\n",
    "\n",
    "# def deduce_shape(cascade: Cascade): -> tuple"
   ]
  },
  {
   "cell_type": "code",
   "execution_count": 3,
   "id": "gross-lancaster",
   "metadata": {},
   "outputs": [
    {
     "data": {
      "text/plain": [
       "{'MySchemaA': {'MyCaseAA': {'MyLotAAA': {'MyDataAAAA': array([0.53893095, 0.64333763, 0.57870259, 0.12079808, 0.36861598,\n",
       "           0.40194348, 0.81452547, 0.13174983, 0.88329586, 0.28377157]),\n",
       "    'MyDataAAAB': array([[0.96317929, 0.95008403, 0.90087423, 0.58680833, 0.81473956],\n",
       "           [0.51066193, 0.53097369, 0.98134257, 0.58663691, 0.82762282],\n",
       "           [0.08273319, 0.91885866, 0.03088767, 0.20370586, 0.90928959]])}}},\n",
       " 'MySchemaB': {},\n",
       " 'MySchemaC': {}}"
      ]
     },
     "execution_count": 3,
     "metadata": {},
     "output_type": "execute_result"
    }
   ],
   "source": [
    "myexample = {\n",
    "    'MySchemaA': {\n",
    "        'MyCaseAA': {\n",
    "            'MyLotAAA': {\n",
    "                'MyDataAAAA': np.random.rand(10),\n",
    "                'MyDataAAAB': np.random.rand(3, 5),\n",
    "                }\n",
    "            }\n",
    "        },\n",
    "    'MySchemaB': {},\n",
    "    'MySchemaC': {},\n",
    "    }\n",
    "myexample"
   ]
  },
  {
   "cell_type": "code",
   "execution_count": 4,
   "id": "civil-hawaiian",
   "metadata": {},
   "outputs": [],
   "source": [
    "class DimType(Enum):\n",
    "    CATEGORICAL = 1\n",
    "    NUMERICAL = 2\n",
    "\n",
    "@dataclass\n",
    "class Dim:\n",
    "    name: str\n",
    "    length: int = unkint\n",
    "    dimType: DimType = DimType.CATEGORICAL"
   ]
  },
  {
   "cell_type": "code",
   "execution_count": 5,
   "id": "pleased-lighter",
   "metadata": {},
   "outputs": [],
   "source": [
    "@dataclass\n",
    "class MyClass:\n",
    "    arg: typing.List[int] = field(default_factory = list)"
   ]
  },
  {
   "cell_type": "code",
   "execution_count": 8,
   "id": "better-county",
   "metadata": {},
   "outputs": [],
   "source": [
    "class Accordion:\n",
    "    "
   ]
  }
 ],
 "metadata": {
  "kernelspec": {
   "display_name": "Python 3",
   "language": "python",
   "name": "python3"
  },
  "language_info": {
   "codemirror_mode": {
    "name": "ipython",
    "version": 3
   },
   "file_extension": ".py",
   "mimetype": "text/x-python",
   "name": "python",
   "nbconvert_exporter": "python",
   "pygments_lexer": "ipython3",
   "version": "3.8.6"
  }
 },
 "nbformat": 4,
 "nbformat_minor": 5
}
