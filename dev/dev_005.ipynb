{
 "cells": [
  {
   "cell_type": "code",
   "execution_count": null,
   "id": "dimensional-receptor",
   "metadata": {},
   "outputs": [],
   "source": [
    "from dataclasses import dataclass, field\n",
    "import typing\n",
    "from enum import Enum\n",
    "\n",
    "import numpy as np\n",
    "\n",
    "from thesis_initialise import *\n",
    "\n",
    "from everest.funcy.special import *\n",
    "from everest.cascade import Cascade, Hierarchy"
   ]
  },
  {
   "cell_type": "code",
   "execution_count": null,
   "id": "strange-revolution",
   "metadata": {},
   "outputs": [],
   "source": [
    "myCascade = Cascade(\n",
    "    a = 1,\n",
    "    b = Cascade(\n",
    "        ba = 11,\n",
    "        bb = 12,\n",
    "        bc = Cascade(\n",
    "            bca = 111,\n",
    "            )\n",
    "        ),\n",
    "    c = 3,\n",
    "    )\n",
    "\n",
    "# def deduce_shape(cascade: Cascade): -> tuple"
   ]
  },
  {
   "cell_type": "code",
   "execution_count": null,
   "id": "gross-lancaster",
   "metadata": {},
   "outputs": [],
   "source": [
    "myexample = {\n",
    "    'MySchemaA': {\n",
    "        'MyCaseAA': {\n",
    "            'MyLotAAA': {\n",
    "                'MyDataAAAA': np.random.rand(10),\n",
    "                'MyDataAAAB': np.random.rand(3, 5),\n",
    "                }\n",
    "            }\n",
    "        },\n",
    "    'MySchemaB': {},\n",
    "    'MySchemaC': {},\n",
    "    }\n",
    "myexample"
   ]
  },
  {
   "cell_type": "code",
   "execution_count": null,
   "id": "civil-hawaiian",
   "metadata": {},
   "outputs": [],
   "source": [
    "class DimType(Enum):\n",
    "    CATEGORICAL = 1\n",
    "    NUMERICAL = 2\n",
    "\n",
    "@dataclass\n",
    "class Dim:\n",
    "    name: str\n",
    "    length: int = unkint\n",
    "    dimType: DimType = DimType.CATEGORICAL"
   ]
  },
  {
   "cell_type": "code",
   "execution_count": null,
   "id": "pleased-lighter",
   "metadata": {},
   "outputs": [],
   "source": [
    "@dataclass\n",
    "class MyClass:\n",
    "    arg: typing.List[int] = field(default_factory = list)"
   ]
  },
  {
   "cell_type": "code",
   "execution_count": null,
   "id": "better-county",
   "metadata": {},
   "outputs": [],
   "source": [
    "class Accordion:\n",
    "    "
   ]
  }
 ],
 "metadata": {
  "kernelspec": {
   "display_name": "Python 3",
   "language": "python",
   "name": "python3"
  },
  "language_info": {
   "codemirror_mode": {
    "name": "ipython",
    "version": 3
   },
   "file_extension": ".py",
   "mimetype": "text/x-python",
   "name": "python",
   "nbconvert_exporter": "python",
   "pygments_lexer": "ipython3",
   "version": "3.8.6"
  }
 },
 "nbformat": 4,
 "nbformat_minor": 5
}
