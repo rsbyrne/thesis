{
 "cells": [
  {
   "cell_type": "code",
   "execution_count": null,
   "id": "regional-regulation",
   "metadata": {},
   "outputs": [],
   "source": [
    "from thesis_initialise import *"
   ]
  },
  {
   "cell_type": "code",
   "execution_count": null,
   "id": "ultimate-jackson",
   "metadata": {},
   "outputs": [],
   "source": [
    "from everest.funcy import Fn"
   ]
  },
  {
   "cell_type": "code",
   "execution_count": null,
   "id": "interior-newfoundland",
   "metadata": {},
   "outputs": [],
   "source": [
    "myseq = Fn[1, 2, 3]\n",
    "list(myseq.value)"
   ]
  },
  {
   "cell_type": "code",
   "execution_count": null,
   "id": "atmospheric-professor",
   "metadata": {},
   "outputs": [],
   "source": [
    "myseq = Fn[Fn[1, 2], Fn[10, 20], Fn[100, 200]]\n",
    "list(myseq.value)"
   ]
  },
  {
   "cell_type": "code",
   "execution_count": null,
   "id": "bigger-brooks",
   "metadata": {},
   "outputs": [],
   "source": [
    "myseq = Fn[[Fn[1, 2], Fn[10, 20], Fn[100, 200]]]\n",
    "list(myseq.value)"
   ]
  },
  {
   "cell_type": "code",
   "execution_count": null,
   "id": "serial-property",
   "metadata": {},
   "outputs": [],
   "source": [
    "myseq = Fn[Fn[1, 2], Fn[10, 20], Fn[100, 200]]\n",
    "myseq[0].value"
   ]
  },
  {
   "cell_type": "code",
   "execution_count": null,
   "id": "lovely-mainstream",
   "metadata": {},
   "outputs": [],
   "source": [
    "myseq.value[0]"
   ]
  }
 ],
 "metadata": {
  "kernelspec": {
   "display_name": "Python 3",
   "language": "python",
   "name": "python3"
  },
  "language_info": {
   "codemirror_mode": {
    "name": "ipython",
    "version": 3
   },
   "file_extension": ".py",
   "mimetype": "text/x-python",
   "name": "python",
   "nbconvert_exporter": "python",
   "pygments_lexer": "ipython3",
   "version": "3.8.6"
  }
 },
 "nbformat": 4,
 "nbformat_minor": 5
}
