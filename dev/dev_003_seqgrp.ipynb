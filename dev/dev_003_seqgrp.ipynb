{
 "cells": [
  {
   "cell_type": "code",
   "execution_count": 1,
   "id": "regional-regulation",
   "metadata": {},
   "outputs": [],
   "source": [
    "from thesis_initialise import *"
   ]
  },
  {
   "cell_type": "code",
   "execution_count": 2,
   "id": "ultimate-jackson",
   "metadata": {},
   "outputs": [],
   "source": [
    "from everest.funcy import Fn"
   ]
  },
  {
   "cell_type": "code",
   "execution_count": 3,
   "id": "interior-newfoundland",
   "metadata": {},
   "outputs": [
    {
     "data": {
      "text/plain": [
       "[1, 2, 3]"
      ]
     },
     "execution_count": 3,
     "metadata": {},
     "output_type": "execute_result"
    }
   ],
   "source": [
    "myseq = Fn[1, 2, 3]\n",
    "list(myseq.value)"
   ]
  },
  {
   "cell_type": "code",
   "execution_count": 4,
   "id": "atmospheric-professor",
   "metadata": {},
   "outputs": [
    {
     "data": {
      "text/plain": [
       "[Fn(1, 10, 100),\n",
       " Fn(2, 10, 100),\n",
       " Fn(1, 20, 100),\n",
       " Fn(1, 10, 200),\n",
       " Fn(2, 20, 100),\n",
       " Fn(2, 10, 200),\n",
       " Fn(1, 20, 200),\n",
       " Fn(2, 20, 200)]"
      ]
     },
     "execution_count": 4,
     "metadata": {},
     "output_type": "execute_result"
    }
   ],
   "source": [
    "myseq = Fn[Fn[1, 2], Fn[10, 20], Fn[100, 200]]\n",
    "list(myseq.value)"
   ]
  },
  {
   "cell_type": "code",
   "execution_count": 5,
   "id": "bigger-brooks",
   "metadata": {},
   "outputs": [
    {
     "data": {
      "text/plain": [
       "[SeqIterable(Arbitrary(1, 2)) == [1, 2],\n",
       " SeqIterable(Arbitrary(10, 20)) == [10, 20],\n",
       " SeqIterable(Arbitrary(100, 200)) == [100, 200]]"
      ]
     },
     "execution_count": 5,
     "metadata": {},
     "output_type": "execute_result"
    }
   ],
   "source": [
    "myseq = Fn[[Fn[1, 2], Fn[10, 20], Fn[100, 200]]]\n",
    "list(myseq.value)"
   ]
  },
  {
   "cell_type": "code",
   "execution_count": 6,
   "id": "serial-property",
   "metadata": {},
   "outputs": [
    {
     "data": {
      "text/plain": [
       "SeqIterable([getitem]{style: muddle}([Group]{style: muddle}(Arbitrary(1, 2), Arbitrary(10, 20), Arbitrary(100, 200)), 0)) == [1, 2, 1, 1, 2, 2, 1, 2]"
      ]
     },
     "execution_count": 6,
     "metadata": {},
     "output_type": "execute_result"
    }
   ],
   "source": [
    "myseq = Fn[Fn[1, 2], Fn[10, 20], Fn[100, 200]]\n",
    "myseq[0].value"
   ]
  },
  {
   "cell_type": "code",
   "execution_count": 7,
   "id": "lovely-mainstream",
   "metadata": {},
   "outputs": [
    {
     "data": {
      "text/plain": [
       "Fn(1, 10, 100)"
      ]
     },
     "execution_count": 7,
     "metadata": {},
     "output_type": "execute_result"
    }
   ],
   "source": [
    "myseq.value[0]"
   ]
  }
 ],
 "metadata": {
  "kernelspec": {
   "display_name": "Python 3",
   "language": "python",
   "name": "python3"
  },
  "language_info": {
   "codemirror_mode": {
    "name": "ipython",
    "version": 3
   },
   "file_extension": ".py",
   "mimetype": "text/x-python",
   "name": "python",
   "nbconvert_exporter": "python",
   "pygments_lexer": "ipython3",
   "version": "3.8.6"
  }
 },
 "nbformat": 4,
 "nbformat_minor": 5
}
