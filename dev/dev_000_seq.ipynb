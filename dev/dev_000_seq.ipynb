{
 "cells": [
  {
   "cell_type": "code",
   "execution_count": null,
   "id": "dense-insured",
   "metadata": {},
   "outputs": [],
   "source": [
    "from thesis_initialise import *"
   ]
  },
  {
   "cell_type": "code",
   "execution_count": null,
   "id": "conceptual-siemens",
   "metadata": {},
   "outputs": [],
   "source": [
    "from everest.funcy import Fn"
   ]
  },
  {
   "cell_type": "code",
   "execution_count": null,
   "id": "limited-drawing",
   "metadata": {},
   "outputs": [],
   "source": [
    "myobj = Fn(slice(None))"
   ]
  },
  {
   "cell_type": "code",
   "execution_count": null,
   "id": "industrial-wales",
   "metadata": {},
   "outputs": [],
   "source": [
    "myobj"
   ]
  },
  {
   "cell_type": "code",
   "execution_count": null,
   "id": "fiscal-universe",
   "metadata": {},
   "outputs": [],
   "source": [
    "myarr = Fn([[1, 2], [10, 20]])"
   ]
  },
  {
   "cell_type": "code",
   "execution_count": null,
   "id": "verbal-queens",
   "metadata": {},
   "outputs": [],
   "source": [
    "myget = myarr[:, 1]"
   ]
  },
  {
   "cell_type": "code",
   "execution_count": null,
   "id": "accredited-portugal",
   "metadata": {},
   "outputs": [],
   "source": [
    "myget.value"
   ]
  },
  {
   "cell_type": "code",
   "execution_count": null,
   "id": "impossible-forge",
   "metadata": {},
   "outputs": [],
   "source": []
  },
  {
   "cell_type": "code",
   "execution_count": null,
   "id": "matched-verse",
   "metadata": {},
   "outputs": [],
   "source": []
  },
  {
   "cell_type": "code",
   "execution_count": null,
   "id": "turkish-commissioner",
   "metadata": {},
   "outputs": [],
   "source": [
    "slice(None)"
   ]
  },
  {
   "cell_type": "code",
   "execution_count": null,
   "id": "seventh-blade",
   "metadata": {},
   "outputs": [],
   "source": [
    "help(slice)"
   ]
  },
  {
   "cell_type": "code",
   "execution_count": null,
   "id": "ordered-administrator",
   "metadata": {},
   "outputs": [],
   "source": []
  },
  {
   "cell_type": "code",
   "execution_count": null,
   "id": "inside-direction",
   "metadata": {},
   "outputs": [],
   "source": []
  },
  {
   "cell_type": "code",
   "execution_count": null,
   "id": "mysterious-breath",
   "metadata": {},
   "outputs": [],
   "source": [
    "myval = Fn(0)"
   ]
  },
  {
   "cell_type": "code",
   "execution_count": null,
   "id": "square-visiting",
   "metadata": {},
   "outputs": [],
   "source": [
    "myval"
   ]
  },
  {
   "cell_type": "code",
   "execution_count": null,
   "id": "opposite-genome",
   "metadata": {},
   "outputs": [],
   "source": [
    "myval.value"
   ]
  },
  {
   "cell_type": "code",
   "execution_count": null,
   "id": "neutral-infrastructure",
   "metadata": {},
   "outputs": [],
   "source": [
    "myobj = Fn([1, 2, 3])"
   ]
  },
  {
   "cell_type": "code",
   "execution_count": null,
   "id": "breathing-shanghai",
   "metadata": {},
   "outputs": [],
   "source": [
    "Fn(0, 1, 2)"
   ]
  },
  {
   "cell_type": "code",
   "execution_count": null,
   "id": "former-mitchell",
   "metadata": {},
   "outputs": [],
   "source": [
    "Fn([0, 1], 2, 3)"
   ]
  },
  {
   "cell_type": "code",
   "execution_count": null,
   "id": "advisory-lawyer",
   "metadata": {},
   "outputs": [],
   "source": [
    "type(slice(None)) is slice"
   ]
  },
  {
   "cell_type": "code",
   "execution_count": null,
   "id": "right-bridges",
   "metadata": {},
   "outputs": [],
   "source": [
    "myslice = slice(1, 2, 3)"
   ]
  },
  {
   "cell_type": "code",
   "execution_count": null,
   "id": "signal-guide",
   "metadata": {},
   "outputs": [],
   "source": [
    "myslice.start"
   ]
  },
  {
   "cell_type": "code",
   "execution_count": null,
   "id": "qualified-delay",
   "metadata": {},
   "outputs": [],
   "source": [
    "myslice.stop"
   ]
  },
  {
   "cell_type": "code",
   "execution_count": null,
   "id": "drawn-model",
   "metadata": {},
   "outputs": [],
   "source": [
    "myslice.step"
   ]
  },
  {
   "cell_type": "code",
   "execution_count": null,
   "id": "complicated-township",
   "metadata": {},
   "outputs": [],
   "source": []
  },
  {
   "cell_type": "code",
   "execution_count": null,
   "id": "saving-prague",
   "metadata": {},
   "outputs": [],
   "source": [
    "myarr = Fn([[1, 2], [10, 20]])"
   ]
  }
 ],
 "metadata": {
  "kernelspec": {
   "display_name": "Python 3",
   "language": "python",
   "name": "python3"
  },
  "language_info": {
   "codemirror_mode": {
    "name": "ipython",
    "version": 3
   },
   "file_extension": ".py",
   "mimetype": "text/x-python",
   "name": "python",
   "nbconvert_exporter": "python",
   "pygments_lexer": "ipython3",
   "version": "3.8.6"
  }
 },
 "nbformat": 4,
 "nbformat_minor": 5
}
