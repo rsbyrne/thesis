{
 "cells": [
  {
   "cell_type": "code",
   "execution_count": 1,
   "id": "prescription-student",
   "metadata": {},
   "outputs": [],
   "source": [
    "from thesis_initialise import *"
   ]
  },
  {
   "cell_type": "code",
   "execution_count": 2,
   "id": "beginning-filing",
   "metadata": {},
   "outputs": [],
   "source": [
    "from everest.funcy import Fn"
   ]
  },
  {
   "cell_type": "code",
   "execution_count": 4,
   "id": "mexican-regression",
   "metadata": {},
   "outputs": [],
   "source": [
    "myobj = Fn(slice(None))"
   ]
  },
  {
   "cell_type": "code",
   "execution_count": 5,
   "id": "medical-luther",
   "metadata": {},
   "outputs": [
    {
     "data": {
      "text/plain": [
       "Slyce(None, None, None)"
      ]
     },
     "execution_count": 5,
     "metadata": {},
     "output_type": "execute_result"
    }
   ],
   "source": [
    "myobj"
   ]
  },
  {
   "cell_type": "code",
   "execution_count": 6,
   "id": "typical-pacific",
   "metadata": {},
   "outputs": [],
   "source": [
    "myarr = Fn([[1, 2], [10, 20]])"
   ]
  },
  {
   "cell_type": "code",
   "execution_count": 9,
   "id": "pressing-oakland",
   "metadata": {},
   "outputs": [],
   "source": [
    "myget = myarr[:, 1]"
   ]
  },
  {
   "cell_type": "code",
   "execution_count": 10,
   "id": "oriental-sheep",
   "metadata": {},
   "outputs": [
    {
     "data": {
      "text/plain": [
       "array([ 2, 20])"
      ]
     },
     "execution_count": 10,
     "metadata": {},
     "output_type": "execute_result"
    }
   ],
   "source": [
    "myget.value"
   ]
  },
  {
   "cell_type": "code",
   "execution_count": null,
   "id": "hidden-editor",
   "metadata": {},
   "outputs": [],
   "source": []
  },
  {
   "cell_type": "code",
   "execution_count": null,
   "id": "annual-break",
   "metadata": {},
   "outputs": [],
   "source": []
  },
  {
   "cell_type": "code",
   "execution_count": null,
   "id": "tamil-schema",
   "metadata": {},
   "outputs": [],
   "source": [
    "slice(None)"
   ]
  },
  {
   "cell_type": "code",
   "execution_count": null,
   "id": "italian-sperm",
   "metadata": {},
   "outputs": [],
   "source": [
    "help(slice)"
   ]
  },
  {
   "cell_type": "code",
   "execution_count": null,
   "id": "regional-church",
   "metadata": {},
   "outputs": [],
   "source": []
  },
  {
   "cell_type": "code",
   "execution_count": null,
   "id": "supposed-radius",
   "metadata": {},
   "outputs": [],
   "source": []
  },
  {
   "cell_type": "code",
   "execution_count": null,
   "id": "typical-baseline",
   "metadata": {},
   "outputs": [],
   "source": [
    "myval = Fn(0)"
   ]
  },
  {
   "cell_type": "code",
   "execution_count": null,
   "id": "median-burlington",
   "metadata": {},
   "outputs": [],
   "source": [
    "myval"
   ]
  },
  {
   "cell_type": "code",
   "execution_count": null,
   "id": "prerequisite-literacy",
   "metadata": {},
   "outputs": [],
   "source": [
    "myval.value"
   ]
  },
  {
   "cell_type": "code",
   "execution_count": null,
   "id": "latin-waste",
   "metadata": {},
   "outputs": [],
   "source": [
    "myobj = Fn([1, 2, 3])"
   ]
  },
  {
   "cell_type": "code",
   "execution_count": null,
   "id": "checked-yeast",
   "metadata": {},
   "outputs": [],
   "source": [
    "Fn(0, 1, 2)"
   ]
  },
  {
   "cell_type": "code",
   "execution_count": null,
   "id": "considerable-aviation",
   "metadata": {},
   "outputs": [],
   "source": [
    "Fn([0, 1], 2, 3)"
   ]
  },
  {
   "cell_type": "code",
   "execution_count": null,
   "id": "recent-roommate",
   "metadata": {},
   "outputs": [],
   "source": [
    "type(slice(None)) is slice"
   ]
  },
  {
   "cell_type": "code",
   "execution_count": null,
   "id": "foster-devon",
   "metadata": {},
   "outputs": [],
   "source": [
    "myslice = slice(1, 2, 3)"
   ]
  },
  {
   "cell_type": "code",
   "execution_count": null,
   "id": "steady-hindu",
   "metadata": {},
   "outputs": [],
   "source": [
    "myslice.start"
   ]
  },
  {
   "cell_type": "code",
   "execution_count": null,
   "id": "graphic-spice",
   "metadata": {},
   "outputs": [],
   "source": [
    "myslice.stop"
   ]
  },
  {
   "cell_type": "code",
   "execution_count": null,
   "id": "floral-adapter",
   "metadata": {},
   "outputs": [],
   "source": [
    "myslice.step"
   ]
  },
  {
   "cell_type": "code",
   "execution_count": null,
   "id": "negative-cache",
   "metadata": {},
   "outputs": [],
   "source": []
  },
  {
   "cell_type": "code",
   "execution_count": null,
   "id": "excessive-belarus",
   "metadata": {},
   "outputs": [],
   "source": [
    "myarr = Fn([[1, 2], [10, 20]])"
   ]
  }
 ],
 "metadata": {
  "kernelspec": {
   "display_name": "Python 3",
   "language": "python",
   "name": "python3"
  },
  "language_info": {
   "codemirror_mode": {
    "name": "ipython",
    "version": 3
   },
   "file_extension": ".py",
   "mimetype": "text/x-python",
   "name": "python",
   "nbconvert_exporter": "python",
   "pygments_lexer": "ipython3",
   "version": "3.8.6"
  }
 },
 "nbformat": 4,
 "nbformat_minor": 5
}
