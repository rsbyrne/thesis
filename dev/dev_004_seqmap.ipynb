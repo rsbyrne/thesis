{
 "cells": [
  {
   "cell_type": "code",
   "execution_count": null,
   "id": "honest-creature",
   "metadata": {},
   "outputs": [],
   "source": [
    "from thesis_initialise import *"
   ]
  },
  {
   "cell_type": "code",
   "execution_count": null,
   "id": "coordinated-theorem",
   "metadata": {},
   "outputs": [],
   "source": [
    "from everest.funcy import Fn"
   ]
  },
  {
   "cell_type": "code",
   "execution_count": null,
   "id": "computational-casino",
   "metadata": {
    "jupyter": {
     "outputs_hidden": true
    }
   },
   "outputs": [],
   "source": [
    "mymap = Fn[{\n",
    "    'a': 1,\n",
    "    'b': Fn[2, 20, 200],\n",
    "    Fn['ca', 'cb']: 3,\n",
    "    Fn('d', 'e'): Fn[[4, 5], [40, 50]],\n",
    "    ('f', 'g'): (6, 7),\n",
    "    Fn('h', 'i', 'j'): Fn[Fn[8, 80], Fn[9, 90], Fn[10, 100]]\n",
    "    }]\n",
    "list(mymap.value)"
   ]
  },
  {
   "cell_type": "code",
   "execution_count": null,
   "id": "enhanced-entry",
   "metadata": {},
   "outputs": [],
   "source": []
  }
 ],
 "metadata": {
  "kernelspec": {
   "display_name": "Python 3",
   "language": "python",
   "name": "python3"
  },
  "language_info": {
   "codemirror_mode": {
    "name": "ipython",
    "version": 3
   },
   "file_extension": ".py",
   "mimetype": "text/x-python",
   "name": "python",
   "nbconvert_exporter": "python",
   "pygments_lexer": "ipython3",
   "version": "3.8.6"
  }
 },
 "nbformat": 4,
 "nbformat_minor": 5
}
