{
 "cells": [
  {
   "cell_type": "code",
   "execution_count": 1,
   "id": "confidential-rwanda",
   "metadata": {},
   "outputs": [],
   "source": [
    "import aliases"
   ]
  },
  {
   "cell_type": "code",
   "execution_count": 2,
   "id": "pregnant-antarctica",
   "metadata": {},
   "outputs": [],
   "source": [
    "from everest import bythic"
   ]
  },
  {
   "cell_type": "code",
   "execution_count": null,
   "id": "tamil-accordance",
   "metadata": {},
   "outputs": [],
   "source": [
    "import itertools as _it\n",
    "import more_itertools as _moreit"
   ]
  },
  {
   "cell_type": "code",
   "execution_count": null,
   "id": "eleven-bathroom",
   "metadata": {},
   "outputs": [],
   "source": [
    "myobj = bythic.metrics.Orderable()"
   ]
  },
  {
   "cell_type": "code",
   "execution_count": null,
   "id": "attempted-serve",
   "metadata": {},
   "outputs": [],
   "source": [
    "myobj[:]"
   ]
  },
  {
   "cell_type": "code",
   "execution_count": null,
   "id": "responsible-iraqi",
   "metadata": {},
   "outputs": [],
   "source": [
    "list(_moreit.numeric_range(0, 10, 2)[::-1])"
   ]
  },
  {
   "cell_type": "code",
   "execution_count": null,
   "id": "removable-courage",
   "metadata": {},
   "outputs": [],
   "source": [
    "list(_moreit.islice_extended(\n",
    "    _moreit.numeric_range(0, 10, 2),\n",
    "    None, None, -1\n",
    "    ))"
   ]
  },
  {
   "cell_type": "code",
   "execution_count": null,
   "id": "taken-batman",
   "metadata": {},
   "outputs": [],
   "source": [
    "list(_moreit.numeric_range(0, 10, 2)[::-1])"
   ]
  },
  {
   "cell_type": "code",
   "execution_count": null,
   "id": "enclosed-montgomery",
   "metadata": {},
   "outputs": [],
   "source": []
  }
 ],
 "metadata": {
  "kernelspec": {
   "display_name": "Python 3",
   "language": "python",
   "name": "python3"
  },
  "language_info": {
   "codemirror_mode": {
    "name": "ipython",
    "version": 3
   },
   "file_extension": ".py",
   "mimetype": "text/x-python",
   "name": "python",
   "nbconvert_exporter": "python",
   "pygments_lexer": "ipython3",
   "version": "3.8.6"
  }
 },
 "nbformat": 4,
 "nbformat_minor": 5
}
