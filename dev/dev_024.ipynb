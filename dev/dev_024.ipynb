{
 "cells": [
  {
   "cell_type": "code",
   "execution_count": 1,
   "id": "partial-finding",
   "metadata": {},
   "outputs": [],
   "source": [
    "import aliases"
   ]
  },
  {
   "cell_type": "code",
   "execution_count": 2,
   "id": "meaning-blank",
   "metadata": {},
   "outputs": [],
   "source": [
    "from everest import bythic"
   ]
  },
  {
   "cell_type": "code",
   "execution_count": null,
   "id": "parliamentary-alignment",
   "metadata": {},
   "outputs": [],
   "source": [
    "import itertools as _it\n",
    "import more_itertools as _moreit"
   ]
  },
  {
   "cell_type": "code",
   "execution_count": null,
   "id": "dangerous-handbook",
   "metadata": {},
   "outputs": [],
   "source": [
    "myobj = bythic.metrics.Orderable()"
   ]
  },
  {
   "cell_type": "code",
   "execution_count": null,
   "id": "incomplete-worst",
   "metadata": {},
   "outputs": [],
   "source": [
    "myobj[:]"
   ]
  },
  {
   "cell_type": "code",
   "execution_count": null,
   "id": "adverse-winter",
   "metadata": {},
   "outputs": [],
   "source": [
    "list(_moreit.numeric_range(0, 10, 2)[::-1])"
   ]
  },
  {
   "cell_type": "code",
   "execution_count": null,
   "id": "finished-tiger",
   "metadata": {},
   "outputs": [],
   "source": [
    "list(_moreit.islice_extended(\n",
    "    _moreit.numeric_range(0, 10, 2),\n",
    "    None, None, -1\n",
    "    ))"
   ]
  },
  {
   "cell_type": "code",
   "execution_count": null,
   "id": "front-settle",
   "metadata": {},
   "outputs": [],
   "source": [
    "list(_moreit.numeric_range(0, 10, 2)[::-1])"
   ]
  },
  {
   "cell_type": "code",
   "execution_count": 1,
   "id": "sustained-vertical",
   "metadata": {},
   "outputs": [],
   "source": [
    "import numpy as np"
   ]
  }
 ],
 "metadata": {
  "kernelspec": {
   "display_name": "Python 3",
   "language": "python",
   "name": "python3"
  },
  "language_info": {
   "codemirror_mode": {
    "name": "ipython",
    "version": 3
   },
   "file_extension": ".py",
   "mimetype": "text/x-python",
   "name": "python",
   "nbconvert_exporter": "python",
   "pygments_lexer": "ipython3",
   "version": "3.8.6"
  }
 },
 "nbformat": 4,
 "nbformat_minor": 5
}
