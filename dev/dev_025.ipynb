{
 "cells": [
  {
   "cell_type": "code",
   "execution_count": null,
   "id": "6ef34b3c-a14f-40c5-ac62-351c5b369d01",
   "metadata": {},
   "outputs": [],
   "source": [
    "import pandas"
   ]
  },
  {
   "cell_type": "code",
   "execution_count": null,
   "id": "8dca2470-ce68-4ff7-891e-e60ca06494e7",
   "metadata": {},
   "outputs": [],
   "source": [
    "import aliases\n",
    "\n",
    "from utilities.referencing import *"
   ]
  },
  {
   "cell_type": "code",
   "execution_count": null,
   "id": "9cea1dc0-4857-41ac-8eb7-75fc24cceb91",
   "metadata": {},
   "outputs": [],
   "source": [
    "search('planet')"
   ]
  },
  {
   "cell_type": "code",
   "execution_count": null,
   "id": "3b286155-21f5-4c3d-b791-92a839563d50",
   "metadata": {},
   "outputs": [],
   "source": [
    "import matplotlib"
   ]
  },
  {
   "cell_type": "code",
   "execution_count": null,
   "id": "48f60b74-b7a1-4ede-be48-310d7259b909",
   "metadata": {},
   "outputs": [],
   "source": [
    "matplotlib.__version__"
   ]
  },
  {
   "cell_type": "code",
   "execution_count": null,
   "id": "5bc42dd9-5f70-4d07-b7a1-fe5b0d39a329",
   "metadata": {},
   "outputs": [],
   "source": [
    "import matplotlib.pyplot as plt\n",
    "import numpy as np\n",
    "\n",
    "plt.rcParams['text.usetex'] = True\n",
    "\n",
    "\n",
    "t = np.linspace(0.0, 1.0, 100)\n",
    "s = np.cos(4 * np.pi * t) + 2\n",
    "\n",
    "fig, ax = plt.subplots(figsize=(6, 4), tight_layout=True)\n",
    "ax.plot(t, s)\n",
    "\n",
    "ax.set_xlabel(r'\\textbf{time (s)}')\n",
    "ax.set_ylabel('\\\\textit{Velocity (\\N{DEGREE SIGN}/sec)}', fontsize=16)\n",
    "ax.set_title(r'\\TeX\\ is Number $\\displaystyle\\sum_{n=1}^\\infty'\n",
    "             r'\\frac{-e^{i\\pi}}{2^n}$!', fontsize=16, color='r')"
   ]
  },
  {
   "cell_type": "code",
   "execution_count": null,
   "id": "887c7230-2653-443b-afac-0ebc2aea138a",
   "metadata": {
    "tags": []
   },
   "outputs": [],
   "source": [
    "fig, ax = plt.subplots()\n",
    "# interface tracking profiles\n",
    "N = 500\n",
    "delta = 0.6\n",
    "X = np.linspace(-1, 1, N)\n",
    "ax.plot(X, (1 - np.tanh(4 * X / delta)) / 2,    # phase field tanh profiles\n",
    "        X, (1.4 + np.tanh(4 * X / delta)) / 4, \"C2\",  # composition profile\n",
    "        X, X < 0, \"k--\")                        # sharp interface\n",
    "\n",
    "# legend\n",
    "ax.legend((\"phase field $10^4 $foo $2$ $ $\", \"level set\", \"sharp interface\"),\n",
    "          shadow=True, loc=(0.01, 0.48), handlelength=1.5, fontsize=16)\n",
    "\n",
    "# the arrow\n",
    "ax.annotate(\"\", xy=(-delta / 2., 0.1), xytext=(delta / 2., 0.1),\n",
    "            arrowprops=dict(arrowstyle=\"<->\", connectionstyle=\"arc3\"))\n",
    "ax.text(0, 0.1, r\"$\\delta$\",\n",
    "        color=\"black\", fontsize=24,\n",
    "        horizontalalignment=\"center\", verticalalignment=\"center\",\n",
    "        bbox=dict(boxstyle=\"round\", fc=\"white\", ec=\"black\", pad=0.2))\n",
    "\n",
    "# Use tex in labels\n",
    "ax.set_xticks([-1, 0, 1])\n",
    "ax.set_xticklabels([\"$-1$\", r\"$\\pm 0$\", \"$+1$\"], color=\"k\", size=20)\n",
    "\n",
    "# Left Y-axis labels, combine math mode and text mode\n",
    "ax.set_ylabel(r\"\\bf{phase field} $\\phi$\", color=\"C0\", fontsize=20)\n",
    "ax.set_yticks([0, 0.5, 1])\n",
    "ax.set_yticklabels([r\"\\bf{0}\", r\"\\bf{.5}\", r\"\\bf{1}\"], color=\"k\", size=20)\n",
    "\n",
    "# Right Y-axis labels\n",
    "ax.text(1.02, 0.5, r\"\\bf{level set} $\\phi$\",\n",
    "        color=\"C2\", fontsize=20, rotation=90,\n",
    "        horizontalalignment=\"left\", verticalalignment=\"center\",\n",
    "        clip_on=False, transform=ax.transAxes)\n",
    "\n",
    "# Use multiline environment inside a `text`.\n",
    "# level set equations\n",
    "eq1 = (r\"\\begin{eqnarray*}\"\n",
    "       r\"|\\nabla\\phi| &=& 1,\\\\\"\n",
    "       r\"\\frac{\\partial \\phi}{\\partial t} + U|\\nabla \\phi| &=& 0 \"\n",
    "       r\"\\end{eqnarray*}\")\n",
    "ax.text(1, 0.9, eq1, color=\"C2\", fontsize=18,\n",
    "        horizontalalignment=\"right\", verticalalignment=\"top\")\n",
    "\n",
    "# phase field equations\n",
    "eq2 = (r\"\\begin{eqnarray*}\"\n",
    "       r\"\\mathcal{F} &=& \\int f\\left( \\phi, c \\right) dV, \\\\ \"\n",
    "       r\"\\frac{ \\partial \\phi } { \\partial t } &=& -M_{ \\phi } \"\n",
    "       r\"\\frac{ \\delta \\mathcal{F} } { \\delta \\phi }\"\n",
    "       r\"\\end{eqnarray*}\")\n",
    "ax.text(0.18, 0.18, eq2, color=\"C0\", fontsize=16)\n",
    "\n",
    "ax.text(-1, .30, r\"gamma: $\\gamma$\", color=\"r\", fontsize=20)\n",
    "ax.text(-1, .18, r\"Omega: $\\Omega$\", color=\"b\", fontsize=20)\n",
    "\n",
    "plt.show()"
   ]
  },
  {
   "cell_type": "code",
   "execution_count": null,
   "id": "6c2e637f-3e2e-4258-afe5-5e7f6748687d",
   "metadata": {},
   "outputs": [],
   "source": []
  }
 ],
 "metadata": {
  "kernelspec": {
   "display_name": "Python 3 (ipykernel)",
   "language": "python",
   "name": "python3"
  },
  "language_info": {
   "codemirror_mode": {
    "name": "ipython",
    "version": 3
   },
   "file_extension": ".py",
   "mimetype": "text/x-python",
   "name": "python",
   "nbconvert_exporter": "python",
   "pygments_lexer": "ipython3",
   "version": "3.13.3"
  }
 },
 "nbformat": 4,
 "nbformat_minor": 5
}
