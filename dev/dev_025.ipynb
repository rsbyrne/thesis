{
 "cells": [
  {
   "cell_type": "code",
   "execution_count": null,
   "id": "6c2e637f-3e2e-4258-afe5-5e7f6748687d",
   "metadata": {},
   "outputs": [],
   "source": [
    "import math\n",
    "import numbers\n",
    "from collections import OrderedDict\n",
    "import time\n",
    "from datetime import datetime\n",
    "import itertools\n",
    "\n",
    "import numpy as _np\n",
    "\n",
    "# vvv Not currently in use but may be handy in future vvv\n",
    "\n",
    "import sympy as _sympy\n",
    "\n",
    "def factorise(val):\n",
    "    return tuple(sorted(_sympy.factorint(val).keys()))\n",
    "\n",
    "def round_decimal(val):\n",
    "    if val == 0:\n",
    "        return round(val), 0\n",
    "    if val < 0:\n",
    "        sign = -1\n",
    "        val = 0 - val\n",
    "    else:\n",
    "        sign = 1\n",
    "    basepwr = -math.floor(math.log10(val))\n",
    "    val = val * 10**basepwr\n",
    "    pwr = 0\n",
    "    while not val.is_integer():\n",
    "        val *= 10\n",
    "        pwr -= 1\n",
    "    return round(val), pwr - basepwr"
   ]
  },
  {
   "cell_type": "code",
   "execution_count": null,
   "id": "60f2b7e1-c1f9-4123-b16d-0519fc9992b6",
   "metadata": {},
   "outputs": [],
   "source": [
    "tickVals = (0.12, 0.42, 0.72)\n",
    "interval = round(float(_np.diff(tickVals)[0]), 5)\n",
    "rnd, pwr = round_decimal(interval)\n",
    "minfactor = min(factorise(rnd))"
   ]
  },
  {
   "cell_type": "code",
   "execution_count": null,
   "id": "fef3fd26-e94e-48a2-84c5-5a16a4fe8e1d",
   "metadata": {},
   "outputs": [],
   "source": [
    "factorise(0)"
   ]
  },
  {
   "cell_type": "code",
   "execution_count": null,
   "id": "6720e701-4589-44e3-a067-9636adb4538a",
   "metadata": {},
   "outputs": [],
   "source": [
    "factorise(1)"
   ]
  },
  {
   "cell_type": "code",
   "execution_count": null,
   "id": "f0a32f70-6759-42bc-adf2-e65c2df4804f",
   "metadata": {},
   "outputs": [],
   "source": [
    "import scipy.signal"
   ]
  },
  {
   "cell_type": "code",
   "execution_count": null,
   "id": "a23c0341-d6b0-4978-9206-00ab1c2cb205",
   "metadata": {},
   "outputs": [],
   "source": [
    "scipy.signal."
   ]
  },
  {
   "cell_type": "code",
   "execution_count": null,
   "id": "c1a122da-74c6-40d6-908f-b1d61825d370",
   "metadata": {},
   "outputs": [],
   "source": []
  },
  {
   "cell_type": "markdown",
   "id": "10086253-a688-4474-9a18-89f523b5ebd3",
   "metadata": {
    "editable": true,
    "slideshow": {
     "slide_type": ""
    },
    "tags": [
     "remove-cell"
    ]
   },
   "source": [
    "```{figure}\n",
    "The global minimum of the curve of aspect ratio to 'notional' *Rayleigh* number gives the 'critical' *Rayleigh* number below which convection yields to conduction.\n",
    "```"
   ]
  }
 ],
 "metadata": {
  "kernelspec": {
   "display_name": "Python 3 (ipykernel)",
   "language": "python",
   "name": "python3"
  },
  "language_info": {
   "codemirror_mode": {
    "name": "ipython",
    "version": 3
   },
   "file_extension": ".py",
   "mimetype": "text/x-python",
   "name": "python",
   "nbconvert_exporter": "python",
   "pygments_lexer": "ipython3",
   "version": "3.13.3"
  }
 },
 "nbformat": 4,
 "nbformat_minor": 5
}
