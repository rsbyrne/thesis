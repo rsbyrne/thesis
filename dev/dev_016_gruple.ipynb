{
 "cells": [
  {
   "cell_type": "code",
   "execution_count": 1,
   "id": "velvet-tribune",
   "metadata": {},
   "outputs": [],
   "source": [
    "from thesis_initialise import *"
   ]
  },
  {
   "cell_type": "code",
   "execution_count": 2,
   "id": "perfect-carolina",
   "metadata": {},
   "outputs": [],
   "source": [
    "from everest.funcy.gruple import Gruple, GrupleMap"
   ]
  },
  {
   "cell_type": "code",
   "execution_count": 3,
   "id": "lasting-little",
   "metadata": {},
   "outputs": [
    {
     "data": {
      "text/plain": [
       "[]"
      ]
     },
     "execution_count": 3,
     "metadata": {},
     "output_type": "execute_result"
    }
   ],
   "source": [
    "myempty = Gruple(())\n",
    "list(myempty)"
   ]
  },
  {
   "cell_type": "code",
   "execution_count": 4,
   "id": "loose-slide",
   "metadata": {},
   "outputs": [],
   "source": [
    "import string"
   ]
  },
  {
   "cell_type": "code",
   "execution_count": 5,
   "id": "korean-reconstruction",
   "metadata": {},
   "outputs": [
    {
     "name": "stdout",
     "output_type": "stream",
     "text": [
      "['a', 'b', 'c', 'd', 'e', 'f', 'g', 'h', 'i', 'j', 'k', 'l', 'm', 'n', 'o', 'p', 'q', 'r', 's', 't', 'u', 'v', 'w', 'x', 'y', 'z']\n",
      "['a', 'b', 'c', 'd', 'e', 'f', 'g', 'h', 'i', 'j', 'k', 'l', 'm', 'n', 'o', 'p', 'q', 'r', 's', 't', 'u', 'v', 'w', 'x', 'y', 'z']\n"
     ]
    }
   ],
   "source": [
    "mylist = list(string.ascii_lowercase)\n",
    "mydata = Gruple(iter(mylist))\n",
    "print(mylist)\n",
    "print(mydata)"
   ]
  },
  {
   "cell_type": "code",
   "execution_count": 6,
   "id": "gross-junior",
   "metadata": {},
   "outputs": [
    {
     "name": "stdout",
     "output_type": "stream",
     "text": [
      "['d', 'e', 'f', 'g']\n",
      "['d', 'e', 'f', 'g']\n"
     ]
    }
   ],
   "source": [
    "print(mylist[3:7])\n",
    "print(list(mydata[3:7]))"
   ]
  },
  {
   "cell_type": "code",
   "execution_count": 7,
   "id": "earlier-riverside",
   "metadata": {},
   "outputs": [
    {
     "data": {
      "text/plain": [
       "everest.funcy.gruple.GrupleSwathe"
      ]
     },
     "execution_count": 7,
     "metadata": {},
     "output_type": "execute_result"
    }
   ],
   "source": [
    "type(mydata[3:7])"
   ]
  },
  {
   "cell_type": "code",
   "execution_count": 8,
   "id": "civic-armenia",
   "metadata": {},
   "outputs": [
    {
     "name": "stdout",
     "output_type": "stream",
     "text": [
      "['e', 'f']\n",
      "['e', 'f']\n"
     ]
    }
   ],
   "source": [
    "print(mylist[3:7][1:3])\n",
    "print(list(mydata[3:7][1:3]))"
   ]
  },
  {
   "cell_type": "code",
   "execution_count": 9,
   "id": "short-caribbean",
   "metadata": {},
   "outputs": [
    {
     "name": "stdout",
     "output_type": "stream",
     "text": [
      "e\n",
      "e\n"
     ]
    }
   ],
   "source": [
    "print(mylist[3:7][1:3][0])\n",
    "print(mydata[3:7][1:3][0])"
   ]
  },
  {
   "cell_type": "code",
   "execution_count": 10,
   "id": "skilled-classification",
   "metadata": {},
   "outputs": [
    {
     "data": {
      "text/plain": [
       "[(4, 1, 0), (5, 2, 1)]"
      ]
     },
     "execution_count": 10,
     "metadata": {},
     "output_type": "execute_result"
    }
   ],
   "source": [
    "list(mydata[3:7][1:3]._indices())"
   ]
  },
  {
   "cell_type": "code",
   "execution_count": 11,
   "id": "fitting-dublin",
   "metadata": {},
   "outputs": [],
   "source": [
    "mydata = GrupleMap(zip(\n",
    "    mylist,\n",
    "    string.ascii_uppercase,\n",
    "    ))"
   ]
  },
  {
   "cell_type": "code",
   "execution_count": 12,
   "id": "answering-alpha",
   "metadata": {},
   "outputs": [
    {
     "data": {
      "text/plain": [
       "['B', 'C']"
      ]
     },
     "execution_count": 12,
     "metadata": {},
     "output_type": "execute_result"
    }
   ],
   "source": [
    "list(mydata['b':'d'])"
   ]
  },
  {
   "cell_type": "code",
   "execution_count": 13,
   "id": "danish-fellowship",
   "metadata": {},
   "outputs": [
    {
     "data": {
      "text/plain": [
       "['B', 'C', 'D', 'E']"
      ]
     },
     "execution_count": 13,
     "metadata": {},
     "output_type": "execute_result"
    }
   ],
   "source": [
    "list(mydata['b':'f'])"
   ]
  },
  {
   "cell_type": "code",
   "execution_count": 14,
   "id": "brief-deputy",
   "metadata": {},
   "outputs": [
    {
     "data": {
      "text/plain": [
       "['B', 'C', 'D']"
      ]
     },
     "execution_count": 14,
     "metadata": {},
     "output_type": "execute_result"
    }
   ],
   "source": [
    "list(mydata['b':'f'][:'e'])"
   ]
  },
  {
   "cell_type": "code",
   "execution_count": 15,
   "id": "compliant-alexander",
   "metadata": {},
   "outputs": [
    {
     "data": {
      "text/plain": [
       "'C'"
      ]
     },
     "execution_count": 15,
     "metadata": {},
     "output_type": "execute_result"
    }
   ],
   "source": [
    "mydata['b':'f'][:'e'][1]"
   ]
  }
 ],
 "metadata": {
  "kernelspec": {
   "display_name": "Python 3",
   "language": "python",
   "name": "python3"
  },
  "language_info": {
   "codemirror_mode": {
    "name": "ipython",
    "version": 3
   },
   "file_extension": ".py",
   "mimetype": "text/x-python",
   "name": "python",
   "nbconvert_exporter": "python",
   "pygments_lexer": "ipython3",
   "version": "3.8.6"
  }
 },
 "nbformat": 4,
 "nbformat_minor": 5
}
