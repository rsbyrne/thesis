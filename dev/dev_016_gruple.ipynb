{
 "cells": [
  {
   "cell_type": "code",
   "execution_count": null,
   "id": "velvet-tribune",
   "metadata": {},
   "outputs": [],
   "source": [
    "from thesis_initialise import *"
   ]
  },
  {
   "cell_type": "code",
   "execution_count": null,
   "id": "perfect-carolina",
   "metadata": {},
   "outputs": [],
   "source": [
    "from everest.funcy.gruple import Gruple, GrupleMap"
   ]
  },
  {
   "cell_type": "code",
   "execution_count": null,
   "id": "lasting-little",
   "metadata": {},
   "outputs": [],
   "source": [
    "myempty = Gruple(())\n",
    "list(myempty)"
   ]
  },
  {
   "cell_type": "code",
   "execution_count": null,
   "id": "loose-slide",
   "metadata": {},
   "outputs": [],
   "source": [
    "import string"
   ]
  },
  {
   "cell_type": "code",
   "execution_count": null,
   "id": "korean-reconstruction",
   "metadata": {},
   "outputs": [],
   "source": [
    "mylist = list(string.ascii_lowercase)\n",
    "mydata = Gruple(iter(mylist))\n",
    "print(mylist)\n",
    "print(mydata)"
   ]
  },
  {
   "cell_type": "code",
   "execution_count": null,
   "id": "gross-junior",
   "metadata": {},
   "outputs": [],
   "source": [
    "print(mylist[3:7])\n",
    "print(list(mydata[3:7]))"
   ]
  },
  {
   "cell_type": "code",
   "execution_count": null,
   "id": "earlier-riverside",
   "metadata": {},
   "outputs": [],
   "source": [
    "type(mydata[3:7])"
   ]
  },
  {
   "cell_type": "code",
   "execution_count": null,
   "id": "civic-armenia",
   "metadata": {},
   "outputs": [],
   "source": [
    "print(mylist[3:7][1:3])\n",
    "print(list(mydata[3:7][1:3]))"
   ]
  },
  {
   "cell_type": "code",
   "execution_count": null,
   "id": "short-caribbean",
   "metadata": {},
   "outputs": [],
   "source": [
    "print(mylist[3:7][1:3][0])\n",
    "print(mydata[3:7][1:3][0])"
   ]
  },
  {
   "cell_type": "code",
   "execution_count": null,
   "id": "skilled-classification",
   "metadata": {},
   "outputs": [],
   "source": [
    "list(mydata[3:7][1:3]._indices())"
   ]
  },
  {
   "cell_type": "code",
   "execution_count": null,
   "id": "fitting-dublin",
   "metadata": {},
   "outputs": [],
   "source": [
    "mydata = GrupleMap(zip(\n",
    "    mylist,\n",
    "    string.ascii_uppercase,\n",
    "    ))"
   ]
  },
  {
   "cell_type": "code",
   "execution_count": null,
   "id": "answering-alpha",
   "metadata": {},
   "outputs": [],
   "source": [
    "list(mydata['b':'d'])"
   ]
  },
  {
   "cell_type": "code",
   "execution_count": null,
   "id": "danish-fellowship",
   "metadata": {},
   "outputs": [],
   "source": [
    "list(mydata['b':'f'])"
   ]
  },
  {
   "cell_type": "code",
   "execution_count": null,
   "id": "brief-deputy",
   "metadata": {},
   "outputs": [],
   "source": [
    "list(mydata['b':'f'][:'e'])"
   ]
  },
  {
   "cell_type": "code",
   "execution_count": null,
   "id": "compliant-alexander",
   "metadata": {},
   "outputs": [],
   "source": [
    "mydata['b':'f'][:'e'][1]"
   ]
  }
 ],
 "metadata": {
  "kernelspec": {
   "display_name": "Python 3",
   "language": "python",
   "name": "python3"
  },
  "language_info": {
   "codemirror_mode": {
    "name": "ipython",
    "version": 3
   },
   "file_extension": ".py",
   "mimetype": "text/x-python",
   "name": "python",
   "nbconvert_exporter": "python",
   "pygments_lexer": "ipython3",
   "version": "3.8.6"
  }
 },
 "nbformat": 4,
 "nbformat_minor": 5
}
