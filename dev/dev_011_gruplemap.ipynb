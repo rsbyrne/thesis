{
 "cells": [
  {
   "cell_type": "code",
   "execution_count": null,
   "id": "adjustable-organ",
   "metadata": {},
   "outputs": [],
   "source": [
    "from thesis_initialise import *"
   ]
  },
  {
   "cell_type": "code",
   "execution_count": null,
   "id": "formed-gabriel",
   "metadata": {},
   "outputs": [],
   "source": [
    "from everest.funcy.gruple import Gruple, GrupleMap"
   ]
  },
  {
   "cell_type": "code",
   "execution_count": null,
   "id": "minus-rental",
   "metadata": {},
   "outputs": [],
   "source": [
    "mygruple1 = Gruple((1, 2, 3))\n",
    "mygruple2 = mygruple1[...]\n",
    "assert mygruple1 == mygruple2\n",
    "assert not mygruple1 is mygruple2\n",
    "print(\"Ok :)\")"
   ]
  },
  {
   "cell_type": "code",
   "execution_count": null,
   "id": "bright-imagination",
   "metadata": {},
   "outputs": [],
   "source": [
    "mymap1 = GrupleMap((('a', 1), ('b', 2), ('c', 3)))\n",
    "mymap2 = mymap1[...]\n",
    "assert mymap1 == mymap2\n",
    "assert not mymap1 is mymap2\n",
    "print(\"Ok :)\")"
   ]
  },
  {
   "cell_type": "code",
   "execution_count": null,
   "id": "developing-education",
   "metadata": {},
   "outputs": [],
   "source": [
    "myfn1 = Fn(dict(a = Fn(1), b = Fn(2), c = Fn(3)))\n",
    "myfn2 = Fn(dict(a = 10, b = 20, c = 30))"
   ]
  },
  {
   "cell_type": "code",
   "execution_count": null,
   "id": "completed-casino",
   "metadata": {},
   "outputs": [],
   "source": [
    "myfn1['b':] = myfn2"
   ]
  },
  {
   "cell_type": "code",
   "execution_count": null,
   "id": "piano-accuracy",
   "metadata": {},
   "outputs": [],
   "source": [
    "mygruple1[[True, False, True]]"
   ]
  },
  {
   "cell_type": "code",
   "execution_count": null,
   "id": "moderate-smith",
   "metadata": {},
   "outputs": [],
   "source": [
    "mymap1"
   ]
  },
  {
   "cell_type": "code",
   "execution_count": null,
   "id": "forbidden-mobile",
   "metadata": {},
   "outputs": [],
   "source": [
    "mygruple1[True]"
   ]
  },
  {
   "cell_type": "code",
   "execution_count": null,
   "id": "rational-distributor",
   "metadata": {},
   "outputs": [],
   "source": [
    "mymap1 == dict(a = 1, b = 2)"
   ]
  },
  {
   "cell_type": "code",
   "execution_count": null,
   "id": "velvet-lucas",
   "metadata": {},
   "outputs": [],
   "source": []
  }
 ],
 "metadata": {
  "kernelspec": {
   "display_name": "Python 3",
   "language": "python",
   "name": "python3"
  },
  "language_info": {
   "codemirror_mode": {
    "name": "ipython",
    "version": 3
   },
   "file_extension": ".py",
   "mimetype": "text/x-python",
   "name": "python",
   "nbconvert_exporter": "python",
   "pygments_lexer": "ipython3",
   "version": "3.8.6"
  }
 },
 "nbformat": 4,
 "nbformat_minor": 5
}
