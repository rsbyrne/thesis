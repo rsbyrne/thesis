{
 "cells": [
  {
   "cell_type": "code",
   "execution_count": 1,
   "id": "beautiful-seminar",
   "metadata": {},
   "outputs": [],
   "source": [
    "from thesis_initialise import *"
   ]
  },
  {
   "cell_type": "code",
   "execution_count": 2,
   "id": "matched-equality",
   "metadata": {},
   "outputs": [],
   "source": [
    "from everest.funcy import Fn"
   ]
  },
  {
   "cell_type": "code",
   "execution_count": 3,
   "id": "hundred-spell",
   "metadata": {},
   "outputs": [
    {
     "name": "stdout",
     "output_type": "stream",
     "text": [
      "Fn(1, 20.0, array([[300., 300.],\n",
      "       [300., 300.],\n",
      "       [300., 300.]]), 4000)\n",
      "All good.\n",
      "Fn(0, 0.0, array([[300., 300.],\n",
      "       [300., 300.],\n",
      "       [300., 300.]]), 4000)\n"
     ]
    }
   ],
   "source": [
    "myvar1 = Fn(int, initVal = 1)\n",
    "myvar2 = Fn(float, initVal = 20.)\n",
    "myvar3 = Fn(float, shape = (3, 2), initVal = 300.)\n",
    "myvar4 = Fn(int, initVal = 4000)\n",
    "\n",
    "mygrp = Fn(myvar1, myvar2, myvar3, myvar4)\n",
    "print(mygrp.value)\n",
    "mygrp[0] = None\n",
    "try:\n",
    "    print(mygrp.value)\n",
    "except:\n",
    "    print(\"All good.\")\n",
    "mygrp[:2] = 0\n",
    "print(mygrp.value)"
   ]
  },
  {
   "cell_type": "code",
   "execution_count": 4,
   "id": "tracked-lighter",
   "metadata": {},
   "outputs": [
    {
     "name": "stdout",
     "output_type": "stream",
     "text": [
      "Fn{'a': 1, 'b': 1, 'c': 1, 'd': 20.0, 'e': array([[300., 300.],\n",
      "       [300., 300.],\n",
      "       [300., 300.]]), 'f': 4000}\n"
     ]
    }
   ],
   "source": [
    "myvar1 = Fn(int, initVal = 1)\n",
    "myvar2 = Fn(float, initVal = 20.)\n",
    "myvar3 = Fn(float, shape = (3, 2), initVal = 300.)\n",
    "myvar4 = Fn(int, initVal = 4000)\n",
    "\n",
    "mymap = Fn({\n",
    "    Fn('a', 'b', 'c'): myvar1,\n",
    "    Fn('d', 'e'): Fn(myvar2, myvar3),\n",
    "    'f': myvar4,\n",
    "    })\n",
    "\n",
    "print(mymap.value)"
   ]
  },
  {
   "cell_type": "code",
   "execution_count": 5,
   "id": "thirty-founder",
   "metadata": {},
   "outputs": [],
   "source": [
    "myseq = Fn[1, 2, 3]"
   ]
  },
  {
   "cell_type": "code",
   "execution_count": 7,
   "id": "acting-martial",
   "metadata": {},
   "outputs": [
    {
     "ename": "NotYetImplemented",
     "evalue": "",
     "output_type": "error",
     "traceback": [
      "\u001b[0;31m---------------------------------------------------------------------------\u001b[0m",
      "\u001b[0;31mNotYetImplemented\u001b[0m                         Traceback (most recent call last)",
      "\u001b[0;32m<ipython-input-7-9fe469c1cd3b>\u001b[0m in \u001b[0;36m<module>\u001b[0;34m\u001b[0m\n\u001b[0;32m----> 1\u001b[0;31m \u001b[0mlist\u001b[0m\u001b[0;34m(\u001b[0m\u001b[0mmyseq\u001b[0m\u001b[0;34m.\u001b[0m\u001b[0mvalue\u001b[0m\u001b[0;34m)\u001b[0m\u001b[0;34m\u001b[0m\u001b[0;34m\u001b[0m\u001b[0m\n\u001b[0m",
      "\u001b[0;32m~/workspace/mount/resources/everest/everest/funcy/derived/_seqiterable.py\u001b[0m in \u001b[0;36m__len__\u001b[0;34m(self)\u001b[0m\n\u001b[1;32m     46\u001b[0m     \u001b[0;32mdef\u001b[0m \u001b[0m__len__\u001b[0m\u001b[0;34m(\u001b[0m\u001b[0mself\u001b[0m\u001b[0;34m)\u001b[0m\u001b[0;34m:\u001b[0m\u001b[0;34m\u001b[0m\u001b[0;34m\u001b[0m\u001b[0m\n\u001b[1;32m     47\u001b[0m \u001b[0;31m#         return len(self.seq)\u001b[0m\u001b[0;34m\u001b[0m\u001b[0;34m\u001b[0m\u001b[0;34m\u001b[0m\u001b[0m\n\u001b[0;32m---> 48\u001b[0;31m         \u001b[0;32mraise\u001b[0m \u001b[0mNotYetImplemented\u001b[0m\u001b[0;34m\u001b[0m\u001b[0;34m\u001b[0m\u001b[0m\n\u001b[0m\u001b[1;32m     49\u001b[0m \u001b[0;34m\u001b[0m\u001b[0m\n\u001b[1;32m     50\u001b[0m     \u001b[0;32mdef\u001b[0m \u001b[0m__getitem__\u001b[0m\u001b[0;34m(\u001b[0m\u001b[0mself\u001b[0m\u001b[0;34m,\u001b[0m \u001b[0marg\u001b[0m\u001b[0;34m)\u001b[0m\u001b[0;34m:\u001b[0m\u001b[0;34m\u001b[0m\u001b[0;34m\u001b[0m\u001b[0m\n",
      "\u001b[0;31mNotYetImplemented\u001b[0m: "
     ]
    }
   ],
   "source": [
    "list(myseq.value)"
   ]
  },
  {
   "cell_type": "code",
   "execution_count": null,
   "id": "wooden-comment",
   "metadata": {},
   "outputs": [],
   "source": []
  }
 ],
 "metadata": {
  "kernelspec": {
   "display_name": "Python 3",
   "language": "python",
   "name": "python3"
  },
  "language_info": {
   "codemirror_mode": {
    "name": "ipython",
    "version": 3
   },
   "file_extension": ".py",
   "mimetype": "text/x-python",
   "name": "python",
   "nbconvert_exporter": "python",
   "pygments_lexer": "ipython3",
   "version": "3.8.6"
  }
 },
 "nbformat": 4,
 "nbformat_minor": 5
}
