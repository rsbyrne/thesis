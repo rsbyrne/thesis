{
 "cells": [
  {
   "cell_type": "code",
   "execution_count": null,
   "id": "casual-verse",
   "metadata": {},
   "outputs": [],
   "source": [
    "from thesis_initialise import *"
   ]
  },
  {
   "cell_type": "code",
   "execution_count": null,
   "id": "fitting-klein",
   "metadata": {},
   "outputs": [],
   "source": [
    "from everest.funcy import Fn"
   ]
  },
  {
   "cell_type": "code",
   "execution_count": null,
   "id": "public-arctic",
   "metadata": {},
   "outputs": [],
   "source": [
    "myvar1 = Fn(int, initVal = 1)\n",
    "myvar2 = Fn(float, initVal = 20.)\n",
    "myvar3 = Fn(float, shape = (3, 2), initVal = 300.)\n",
    "myvar4 = Fn(int, initVal = 4000)\n",
    "\n",
    "mygrp = Fn(myvar1, myvar2, myvar3, myvar4)\n",
    "print(mygrp.value)\n",
    "mygrp[0] = None\n",
    "try:\n",
    "    print(mygrp.value)\n",
    "except:\n",
    "    print(\"All good.\")\n",
    "mygrp[:2] = 0\n",
    "print(mygrp.value)"
   ]
  },
  {
   "cell_type": "code",
   "execution_count": null,
   "id": "positive-disclaimer",
   "metadata": {},
   "outputs": [],
   "source": [
    "myvar1 = Fn(int, initVal = 1)\n",
    "myvar2 = Fn(float, initVal = 20.)\n",
    "myvar3 = Fn(float, shape = (3, 2), initVal = 300.)\n",
    "myvar4 = Fn(int, initVal = 4000)\n",
    "\n",
    "mymap = Fn({\n",
    "    Fn('a', 'b', 'c'): myvar1,\n",
    "    Fn('d', 'e'): Fn(myvar2, myvar3),\n",
    "    'f': myvar4,\n",
    "    })\n",
    "\n",
    "print(mymap.value)"
   ]
  },
  {
   "cell_type": "code",
   "execution_count": null,
   "id": "derived-adrian",
   "metadata": {},
   "outputs": [],
   "source": [
    "myseq = Fn[1, 2, 3]"
   ]
  },
  {
   "cell_type": "code",
   "execution_count": null,
   "id": "controlling-quality",
   "metadata": {},
   "outputs": [],
   "source": [
    "list(myseq.value)"
   ]
  },
  {
   "cell_type": "code",
   "execution_count": null,
   "id": "eight-athletics",
   "metadata": {},
   "outputs": [],
   "source": [
    "myfn = Fn(Fn[1, 2, 3], 10)"
   ]
  },
  {
   "cell_type": "code",
   "execution_count": null,
   "id": "human-argentina",
   "metadata": {},
   "outputs": [],
   "source": [
    "list(myfn.value)"
   ]
  },
  {
   "cell_type": "code",
   "execution_count": null,
   "id": "recorded-round",
   "metadata": {},
   "outputs": [],
   "source": [
    "import math"
   ]
  },
  {
   "cell_type": "code",
   "execution_count": null,
   "id": "broke-symphony",
   "metadata": {},
   "outputs": [],
   "source": [
    "math.prod"
   ]
  },
  {
   "cell_type": "code",
   "execution_count": null,
   "id": "secret-integer",
   "metadata": {},
   "outputs": [],
   "source": [
    "list((Fn[2, 3, 4] ** Fn[2, 3, 4]).value)"
   ]
  },
  {
   "cell_type": "code",
   "execution_count": null,
   "id": "spread-avatar",
   "metadata": {},
   "outputs": [],
   "source": []
  }
 ],
 "metadata": {
  "kernelspec": {
   "display_name": "Python 3",
   "language": "python",
   "name": "python3"
  },
  "language_info": {
   "codemirror_mode": {
    "name": "ipython",
    "version": 3
   },
   "file_extension": ".py",
   "mimetype": "text/x-python",
   "name": "python",
   "nbconvert_exporter": "python",
   "pygments_lexer": "ipython3",
   "version": "3.8.6"
  }
 },
 "nbformat": 4,
 "nbformat_minor": 5
}
