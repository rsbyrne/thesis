{
 "cells": [
  {
   "cell_type": "code",
   "execution_count": 1,
   "metadata": {},
   "outputs": [],
   "source": [
    "from working import *"
   ]
  },
  {
   "cell_type": "code",
   "execution_count": 69,
   "metadata": {},
   "outputs": [
    {
     "name": "stdout",
     "output_type": "stream",
     "text": [
      "making new\n"
     ]
    }
   ],
   "source": [
    "from abc import ABC as _ABC, ABCMeta as _ABCMeta\n",
    "import inspect as _inspect\n",
    "# import weakref as _weakref\n",
    "\n",
    "# from everest.cascade import (\n",
    "#     Cascade as _Cascade,\n",
    "#     Inputs as _Inputs,\n",
    "#     )\n",
    "from everest import (\n",
    "    reseed as _reseed,\n",
    "    wordhash as _wordhash,\n",
    "    )\n",
    "# from everest.h5anchor import disk as _disk\n",
    "\n",
    "class Schema(_ABCMeta):\n",
    "    userdefined = False\n",
    "    schemas = dict()\n",
    "    inputs = None\n",
    "    hashID = None\n",
    "    def __new__(meta, name, bases, dic):\n",
    "        schema = super().__new__(meta, name, bases, dic)\n",
    "        if schema.userdefined:\n",
    "#             schema.script = script = _disk.ToOpen(inspect.getfile(schema))()\n",
    "            schema.script = script = str(_reseed.digits(12))\n",
    "            hashID = schema.hashID = _wordhash.get_random_proper(2, seed = script)\n",
    "        else:\n",
    "            hashID = schema.hashID = schema.__name__\n",
    "        if not hashID in (pre := meta.schemas):\n",
    "            pre[hashID] = schema\n",
    "#             schema.inputs = _Inputs(schema.__init__, name = schema.__name__)\n",
    "            schema.sig = _inspect.signature(schema)\n",
    "            schema.hashID = hashID\n",
    "        return pre[hashID]\n",
    "    def __init__(schema, *args, **kwargs):\n",
    "        schema.cases = dict()\n",
    "    def _case_new__(schema, *args, **kwargs):\n",
    "        inputs = schema.inputs.copy(*args, **kwargs)\n",
    "        inhash = inputs.hashID\n",
    "        if inhash in (cases := schema.cases):\n",
    "            case = cases[inhash]\n",
    "        else:\n",
    "            case = cases[inhash] = super().__new__(\n",
    "                type(schema),\n",
    "                f\"{schema.__name__}:{inhash}\",\n",
    "                (schema,),\n",
    "                {**schema.__dict__, **dict(\n",
    "                    inputs = inputs,\n",
    "                    hashID = schema.hashID + ':' + inhash,\n",
    "                    )},\n",
    "                )\n",
    "        return case\n",
    "    def __getitem__(schema, inputs):\n",
    "        return schema._case_new__(**inputs)\n",
    "    def __call__(schema, *args, **kwargs):\n",
    "        if type(schema) is Schema:\n",
    "            case = schema._case_new__(*args, **kwargs)\n",
    "\n",
    "class Case(Schema):\n",
    "    def __call__(case, *args, **kwargs):\n",
    "        if hasattr(case, 'process_inputs'):\n",
    "            args, kwargs = case.process_inputs(args, kwargs)\n",
    "        inputs = case.inputs.copy(*args, **kwargs)\n",
    "        inst = super().__call__(*inputs.args, **inputs.kwargs)\n",
    "        inst.hashID = case.hashID + ';' + str(_reseed.digits(12))\n",
    "        return inst\n",
    "\n",
    "class MySchema(_ABC, metaclass = Schema):\n",
    "    def __init__(self,\n",
    "            foo = 1,\n",
    "            bah = 2,\n",
    "            qux = 3,\n",
    "            ):\n",
    "        print(foo, bah, qux)\n",
    "\n",
    "# class Funcy(_ABC, metaclass = Schema):\n",
    "#     def __init__(self,\n",
    "#             *args,\n",
    "#             **kwargs\n",
    "#             ):\n",
    "        \n",
    "\n",
    "# class Ur(Funcy):\n",
    "#     ...\n",
    "\n",
    "# class Base(Funcy):\n",
    "#     ...\n",
    "\n",
    "# class Derived(Funcy):\n",
    "#     ..."
   ]
  },
  {
   "cell_type": "code",
   "execution_count": 70,
   "metadata": {},
   "outputs": [],
   "source": [
    "mycase = MySchema[{}]"
   ]
  },
  {
   "cell_type": "code",
   "execution_count": 64,
   "metadata": {},
   "outputs": [
    {
     "name": "stdout",
     "output_type": "stream",
     "text": [
      "10 2 3\n"
     ]
    },
    {
     "data": {
      "text/plain": [
       "<__main__.MySchema:inelegance-autocracies at 0x1ea8abcc970>"
      ]
     },
     "execution_count": 64,
     "metadata": {},
     "output_type": "execute_result"
    }
   ],
   "source": [
    "mycase(foo = 10)"
   ]
  },
  {
   "cell_type": "code",
   "execution_count": 68,
   "metadata": {},
   "outputs": [],
   "source": [
    "mycase = MySchema[dict(foo = 100)]"
   ]
  },
  {
   "cell_type": "code",
   "execution_count": 66,
   "metadata": {},
   "outputs": [
    {
     "data": {
      "text/plain": [
       "'MySchema:incommunicado-calcification'"
      ]
     },
     "execution_count": 66,
     "metadata": {},
     "output_type": "execute_result"
    }
   ],
   "source": [
    "mycase.hashID"
   ]
  },
  {
   "cell_type": "code",
   "execution_count": 71,
   "metadata": {},
   "outputs": [
    {
     "data": {
      "text/plain": [
       "everest.cascade.inputs.Inputs"
      ]
     },
     "execution_count": 71,
     "metadata": {},
     "output_type": "execute_result"
    }
   ],
   "source": [
    "_Inputs"
   ]
  },
  {
   "cell_type": "code",
   "execution_count": 74,
   "metadata": {},
   "outputs": [],
   "source": [
    "def myfn(\n",
    "        a,\n",
    "        _b,\n",
    "        ):\n",
    "    ..."
   ]
  },
  {
   "cell_type": "code",
   "execution_count": 75,
   "metadata": {},
   "outputs": [
    {
     "data": {
      "text/plain": [
       "Inputs{None}(\n",
       "    a = ReqArg(a: <class 'object'>)\n",
       "    )"
      ]
     },
     "execution_count": 75,
     "metadata": {},
     "output_type": "execute_result"
    }
   ],
   "source": [
    "_Inputs(myfn)"
   ]
  },
  {
   "cell_type": "code",
   "execution_count": null,
   "metadata": {},
   "outputs": [],
   "source": []
  },
  {
   "cell_type": "code",
   "execution_count": null,
   "metadata": {},
   "outputs": [],
   "source": []
  },
  {
   "cell_type": "code",
   "execution_count": null,
   "metadata": {},
   "outputs": [],
   "source": []
  },
  {
   "cell_type": "code",
   "execution_count": 29,
   "metadata": {},
   "outputs": [
    {
     "name": "stdout",
     "output_type": "stream",
     "text": [
      "foo\n",
      "('MyClass', (), {'__module__': '__main__', '__qualname__': 'MyClass'})\n"
     ]
    }
   ],
   "source": [
    "class MyMeta(type):\n",
    "    def __new__(cls, *args):\n",
    "        print(args)\n",
    "        return super().__new__(cls, *args)\n",
    "class MyClass(metaclass = MyMeta):\n",
    "    print('foo')"
   ]
  },
  {
   "cell_type": "code",
   "execution_count": null,
   "metadata": {},
   "outputs": [],
   "source": []
  },
  {
   "cell_type": "code",
   "execution_count": 13,
   "metadata": {},
   "outputs": [
    {
     "name": "stdout",
     "output_type": "stream",
     "text": [
      "making new\n"
     ]
    }
   ],
   "source": [
    "mycase = Case(MySchema, foo = 10)[0]"
   ]
  },
  {
   "cell_type": "code",
   "execution_count": 17,
   "metadata": {},
   "outputs": [
    {
     "data": {
      "text/plain": [
       "__main__.MySchema:disagreement-substitutes"
      ]
     },
     "execution_count": 17,
     "metadata": {},
     "output_type": "execute_result"
    }
   ],
   "source": [
    "mycase"
   ]
  },
  {
   "cell_type": "code",
   "execution_count": 14,
   "metadata": {},
   "outputs": [
    {
     "ename": "TypeError",
     "evalue": "type.__init__() takes no keyword arguments",
     "output_type": "error",
     "traceback": [
      "\u001b[1;31m---------------------------------------------------------------------------\u001b[0m",
      "\u001b[1;31mTypeError\u001b[0m                                 Traceback (most recent call last)",
      "\u001b[1;32m<ipython-input-14-768e7dd9474f>\u001b[0m in \u001b[0;36m<module>\u001b[1;34m\u001b[0m\n\u001b[1;32m----> 1\u001b[1;33m \u001b[0mmycase\u001b[0m \u001b[1;33m=\u001b[0m \u001b[0mCase\u001b[0m\u001b[1;33m(\u001b[0m\u001b[0mMySchema\u001b[0m\u001b[1;33m,\u001b[0m \u001b[0mfoo\u001b[0m \u001b[1;33m=\u001b[0m \u001b[1;36m10\u001b[0m\u001b[1;33m)\u001b[0m\u001b[1;33m[\u001b[0m\u001b[1;36m0\u001b[0m\u001b[1;33m]\u001b[0m\u001b[1;33m\u001b[0m\u001b[1;33m\u001b[0m\u001b[0m\n\u001b[0m",
      "\u001b[1;31mTypeError\u001b[0m: type.__init__() takes no keyword arguments"
     ]
    }
   ],
   "source": [
    "mycase = Case(MySchema, foo = 10)[0]"
   ]
  },
  {
   "cell_type": "code",
   "execution_count": null,
   "metadata": {},
   "outputs": [],
   "source": []
  },
  {
   "cell_type": "code",
   "execution_count": null,
   "metadata": {},
   "outputs": [],
   "source": []
  },
  {
   "cell_type": "code",
   "execution_count": null,
   "metadata": {},
   "outputs": [],
   "source": [
    "class MySchema2(_ABC, metaclass = Case):\n",
    "    def __init__(self,\n",
    "            foo,\n",
    "            bah,\n",
    "            qux = 5,\n",
    "            ):\n",
    "        ..."
   ]
  },
  {
   "cell_type": "code",
   "execution_count": null,
   "metadata": {},
   "outputs": [],
   "source": [
    "type(MySchema2)"
   ]
  },
  {
   "cell_type": "code",
   "execution_count": null,
   "metadata": {},
   "outputs": [],
   "source": [
    "class MyClass:\n",
    "    foo : int = 1"
   ]
  },
  {
   "cell_type": "code",
   "execution_count": null,
   "metadata": {},
   "outputs": [],
   "source": [
    "MyClass.__annotations__"
   ]
  },
  {
   "cell_type": "code",
   "execution_count": null,
   "metadata": {},
   "outputs": [],
   "source": [
    "dir(MyClass)"
   ]
  },
  {
   "cell_type": "code",
   "execution_count": null,
   "metadata": {},
   "outputs": [],
   "source": [
    "weakref.WeakValueDictionary()"
   ]
  },
  {
   "cell_type": "code",
   "execution_count": null,
   "metadata": {},
   "outputs": [],
   "source": [
    "myweak = weakref.WeakValueDictionary()"
   ]
  },
  {
   "cell_type": "code",
   "execution_count": null,
   "metadata": {},
   "outputs": [],
   "source": [
    "myweak.setdefault()"
   ]
  },
  {
   "cell_type": "code",
   "execution_count": null,
   "metadata": {},
   "outputs": [],
   "source": [
    "dict.setdefault"
   ]
  },
  {
   "cell_type": "code",
   "execution_count": null,
   "metadata": {},
   "outputs": [],
   "source": [
    "Funcy(a = 1)"
   ]
  },
  {
   "cell_type": "code",
   "execution_count": null,
   "metadata": {},
   "outputs": [],
   "source": [
    "class A:\n",
    "    ...\n",
    "class B:\n",
    "    ...\n",
    "class C(A, B):\n",
    "    ..."
   ]
  },
  {
   "cell_type": "code",
   "execution_count": null,
   "metadata": {},
   "outputs": [],
   "source": [
    "import weakref"
   ]
  },
  {
   "cell_type": "code",
   "execution_count": null,
   "metadata": {},
   "outputs": [],
   "source": [
    "ref = weakref.ref(C)"
   ]
  },
  {
   "cell_type": "code",
   "execution_count": null,
   "metadata": {},
   "outputs": [],
   "source": [
    "ref()"
   ]
  },
  {
   "cell_type": "code",
   "execution_count": null,
   "metadata": {},
   "outputs": [],
   "source": [
    "del C"
   ]
  },
  {
   "cell_type": "code",
   "execution_count": null,
   "metadata": {},
   "outputs": [],
   "source": [
    "class C(A, B):\n",
    "    ..."
   ]
  },
  {
   "cell_type": "code",
   "execution_count": null,
   "metadata": {},
   "outputs": [],
   "source": [
    "ref()"
   ]
  },
  {
   "cell_type": "code",
   "execution_count": null,
   "metadata": {},
   "outputs": [],
   "source": [
    "C"
   ]
  },
  {
   "cell_type": "code",
   "execution_count": null,
   "metadata": {},
   "outputs": [],
   "source": []
  }
 ],
 "metadata": {
  "kernelspec": {
   "display_name": "Python 3",
   "language": "python",
   "name": "python3"
  },
  "language_info": {
   "codemirror_mode": {
    "name": "ipython",
    "version": 3
   },
   "file_extension": ".py",
   "mimetype": "text/x-python",
   "name": "python",
   "nbconvert_exporter": "python",
   "pygments_lexer": "ipython3",
   "version": "3.8.5"
  }
 },
 "nbformat": 4,
 "nbformat_minor": 4
}
