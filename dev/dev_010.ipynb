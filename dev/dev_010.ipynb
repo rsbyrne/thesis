{
 "cells": [
  {
   "cell_type": "code",
   "execution_count": null,
   "id": "rational-senegal",
   "metadata": {},
   "outputs": [],
   "source": [
    "from thesis_initialise import *"
   ]
  },
  {
   "cell_type": "code",
   "execution_count": null,
   "id": "developmental-living",
   "metadata": {},
   "outputs": [],
   "source": [
    "from everest.funcy import Fn"
   ]
  },
  {
   "cell_type": "code",
   "execution_count": null,
   "id": "aerial-dover",
   "metadata": {},
   "outputs": [],
   "source": [
    "from functools import lru_cache, partial"
   ]
  },
  {
   "cell_type": "code",
   "execution_count": null,
   "id": "cooperative-brighton",
   "metadata": {},
   "outputs": [],
   "source": [
    "import inspect\n",
    "for line in inspect.getsource(partial).split('\\n'):\n",
    "    print(line)"
   ]
  },
  {
   "cell_type": "code",
   "execution_count": null,
   "id": "waiting-pointer",
   "metadata": {},
   "outputs": [],
   "source": [
    "[*filter(lambda x: type(x) is str, [1, 2, 'a', 3, 'b'])]"
   ]
  },
  {
   "cell_type": "code",
   "execution_count": null,
   "id": "cellular-sunday",
   "metadata": {},
   "outputs": [],
   "source": [
    "class MyClass:\n",
    "    def __init__(self):\n",
    "        self.myfn2 = self.myfn\n",
    "    def myfn(self):\n",
    "        print('foo')"
   ]
  },
  {
   "cell_type": "code",
   "execution_count": null,
   "id": "sticky-mineral",
   "metadata": {},
   "outputs": [],
   "source": [
    "myobj = MyClass()"
   ]
  },
  {
   "cell_type": "code",
   "execution_count": null,
   "id": "demonstrated-workplace",
   "metadata": {},
   "outputs": [],
   "source": [
    "myobj.myfn2()"
   ]
  },
  {
   "cell_type": "code",
   "execution_count": null,
   "id": "unauthorized-arabic",
   "metadata": {},
   "outputs": [],
   "source": [
    "import weakref\n",
    "from functools import cached_property, partial, lru_cache\n",
    "class MyDescriptor:\n",
    "    __slots__ = ('host')\n",
    "    def __init__(self, host):\n",
    "        self._host = weakref.ref(host)\n",
    "        self._myfn = lambda x: print(x)\n",
    "    @property\n",
    "    def host(self):\n",
    "        return self._host()\n",
    "    @lru_cache(1)\n",
    "    def __get__(self):\n",
    "        return partial(self._myfn, \n",
    "\n",
    "class MyClass:\n",
    "    ..."
   ]
  }
 ],
 "metadata": {
  "kernelspec": {
   "display_name": "Python 3",
   "language": "python",
   "name": "python3"
  },
  "language_info": {
   "codemirror_mode": {
    "name": "ipython",
    "version": 3
   },
   "file_extension": ".py",
   "mimetype": "text/x-python",
   "name": "python",
   "nbconvert_exporter": "python",
   "pygments_lexer": "ipython3",
   "version": "3.8.6"
  }
 },
 "nbformat": 4,
 "nbformat_minor": 5
}
