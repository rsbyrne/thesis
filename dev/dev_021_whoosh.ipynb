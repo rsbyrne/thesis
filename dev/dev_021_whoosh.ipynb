{
 "cells": [
  {
   "cell_type": "code",
   "execution_count": null,
   "id": "resistant-demonstration",
   "metadata": {},
   "outputs": [],
   "source": [
    "from whoosh.index import create_in\n",
    "from whoosh.fields import Schema, TEXT\n",
    "from whoosh.qparser import QueryParser\n",
    "from whoosh.qparser import QueryParser\n",
    "\n",
    "from thesiscode import references\n",
    "import aliases\n",
    "\n",
    "schema = Schema(\n",
    "    **{key: TEXT(stored = True) for key in allkeys}\n",
    "    )\n",
    "\n",
    "ix = create_in(\"indexdir\", schema)\n",
    "writer = ix.writer()\n",
    "\n",
    "biblio = references.parse_bibtex('references', aliases.bookdir)\n",
    "allkeys = set.union(*list(set(entry.keys()) for entry in biblio.entries))\n",
    "\n",
    "for entry in biblio.entries:\n",
    "    writer.add_document(**entry)\n",
    "writer.commit()\n",
    "\n",
    "def print_hit(hit):\n",
    "    print('\\n')\n",
    "    print('-' * 79)\n",
    "    print(hit['ID'])\n",
    "    print(hit['title'])\n",
    "    print(hit['author'])\n",
    "    print('-' * 79)\n",
    "    if 'abstract' in hit:\n",
    "        print('Abstract:')\n",
    "        for line in hit['abstract'].split('\\n'):\n",
    "            print(line)\n",
    "    if 'keywords' in hit:\n",
    "        print('Keywords:' + hit['keywords'])\n",
    "    print('-' * 79)\n",
    "    print('\\n')\n",
    "\n",
    "def search(strn, **kwargs):\n",
    "    with ix.searcher() as searcher:\n",
    "        parser = QueryParser(\"abstract\", ix.schema)\n",
    "        hits = searcher.search(parser.parse(strn), **kwargs)\n",
    "        for hit in hits:\n",
    "            print_hit(hit)"
   ]
  }
 ],
 "metadata": {
  "kernelspec": {
   "display_name": "Python 3",
   "language": "python",
   "name": "python3"
  },
  "language_info": {
   "codemirror_mode": {
    "name": "ipython",
    "version": 3
   },
   "file_extension": ".py",
   "mimetype": "text/x-python",
   "name": "python",
   "nbconvert_exporter": "python",
   "pygments_lexer": "ipython3",
   "version": "3.9.4"
  }
 },
 "nbformat": 4,
 "nbformat_minor": 5
}
