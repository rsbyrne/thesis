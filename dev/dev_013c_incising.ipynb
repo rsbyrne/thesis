{
 "cells": [
  {
   "cell_type": "code",
   "execution_count": null,
   "id": "sudden-complexity",
   "metadata": {},
   "outputs": [],
   "source": [
    "from thesis_initialise import *"
   ]
  },
  {
   "cell_type": "code",
   "execution_count": null,
   "id": "human-mitchell",
   "metadata": {},
   "outputs": [],
   "source": []
  },
  {
   "cell_type": "code",
   "execution_count": null,
   "id": "pressing-picnic",
   "metadata": {},
   "outputs": [],
   "source": [
    "import numpy as _np\n",
    "_np.array((i**2 for i in range(10)))"
   ]
  },
  {
   "cell_type": "code",
   "execution_count": null,
   "id": "frank-launch",
   "metadata": {},
   "outputs": [],
   "source": [
    "mysequences = (\n",
    "    range(3),\n",
    "    'abcd',\n",
    "    [0.1, 0.2, 0.3, 0.4, 0.5]\n",
    "    )"
   ]
  },
  {
   "cell_type": "code",
   "execution_count": null,
   "id": "original-setting",
   "metadata": {},
   "outputs": [],
   "source": [
    "from everest.funcy.seqmerge import muddle"
   ]
  },
  {
   "cell_type": "code",
   "execution_count": null,
   "id": "solid-background",
   "metadata": {},
   "outputs": [],
   "source": [
    "it = iter(muddle(mysequences))\n",
    "sorted(next(it) for _ in range(10))"
   ]
  },
  {
   "cell_type": "code",
   "execution_count": null,
   "id": "clear-surname",
   "metadata": {},
   "outputs": [],
   "source": [
    "import itertools"
   ]
  },
  {
   "cell_type": "code",
   "execution_count": null,
   "id": "premier-system",
   "metadata": {},
   "outputs": [],
   "source": [
    "mud = list(muddle(mysequences))"
   ]
  },
  {
   "cell_type": "code",
   "execution_count": null,
   "id": "hundred-prophet",
   "metadata": {},
   "outputs": [],
   "source": [
    "itertools.islice(mud, 1_000_000)"
   ]
  },
  {
   "cell_type": "code",
   "execution_count": null,
   "id": "destroyed-conjunction",
   "metadata": {},
   "outputs": [],
   "source": []
  },
  {
   "cell_type": "code",
   "execution_count": null,
   "id": "eastern-mineral",
   "metadata": {},
   "outputs": [],
   "source": [
    "mydict = dict()"
   ]
  },
  {
   "cell_type": "code",
   "execution_count": null,
   "id": "terminal-southeast",
   "metadata": {},
   "outputs": [],
   "source": [
    "myvar = mydict.setdefault('foo', [])"
   ]
  },
  {
   "cell_type": "code",
   "execution_count": null,
   "id": "thirty-poison",
   "metadata": {},
   "outputs": [],
   "source": [
    "myvar"
   ]
  },
  {
   "cell_type": "code",
   "execution_count": null,
   "id": "subtle-yesterday",
   "metadata": {},
   "outputs": [],
   "source": [
    "def hierarchicalise_muddle(mud, /, n = 1_000_000):\n",
    "    mud = sorted(itertools.islice(mud, n + 1))\n",
    "    if len(mud) > n:\n",
    "        raise ValueError(f\"Sequence exceeded max length {n}\")\n",
    "    out = dict()\n",
    "    for row in mud:\n",
    "        d = out\n",
    "        *row, lastkey, lastval = row\n",
    "        for o in row:\n",
    "            d = d.setdefault(o, dict())\n",
    "        ls = d.setdefault(lastkey, list())\n",
    "        ls.append(lastval)\n",
    "    return out"
   ]
  },
  {
   "cell_type": "code",
   "execution_count": null,
   "id": "aware-newport",
   "metadata": {},
   "outputs": [],
   "source": [
    "myhier = hierarchicalise_muddle(mud)"
   ]
  },
  {
   "cell_type": "code",
   "execution_count": null,
   "id": "perceived-salmon",
   "metadata": {},
   "outputs": [],
   "source": [
    "class Armature"
   ]
  },
  {
   "cell_type": "code",
   "execution_count": null,
   "id": "answering-disposition",
   "metadata": {},
   "outputs": [],
   "source": [
    "myhier[0]['a'][0]"
   ]
  },
  {
   "cell_type": "code",
   "execution_count": null,
   "id": "automated-twist",
   "metadata": {},
   "outputs": [],
   "source": []
  },
  {
   "cell_type": "code",
   "execution_count": null,
   "id": "charming-crack",
   "metadata": {},
   "outputs": [],
   "source": []
  },
  {
   "cell_type": "code",
   "execution_count": null,
   "id": "dutch-promise",
   "metadata": {},
   "outputs": [],
   "source": [
    "import pandas as pd"
   ]
  },
  {
   "cell_type": "code",
   "execution_count": null,
   "id": "limiting-socket",
   "metadata": {},
   "outputs": [],
   "source": [
    "pd.DataFrame(myhier)"
   ]
  },
  {
   "cell_type": "code",
   "execution_count": null,
   "id": "virtual-richards",
   "metadata": {},
   "outputs": [],
   "source": []
  },
  {
   "cell_type": "code",
   "execution_count": null,
   "id": "graduate-brunswick",
   "metadata": {},
   "outputs": [],
   "source": [
    "def is_palindrome(num):\n",
    "    # Skip single-digit inputs\n",
    "    if num // 10 == 0:\n",
    "        return False\n",
    "    temp = num\n",
    "    reversed_num = 0\n",
    "\n",
    "    while temp != 0:\n",
    "        reversed_num = (reversed_num * 10) + (temp % 10)\n",
    "        temp = temp // 10\n",
    "\n",
    "    if num == reversed_num:\n",
    "        return True\n",
    "    else:\n",
    "        return False"
   ]
  },
  {
   "cell_type": "code",
   "execution_count": null,
   "id": "black-blade",
   "metadata": {},
   "outputs": [],
   "source": [
    "def infinite_palindromes():\n",
    "    num = 0\n",
    "    while True:\n",
    "        if is_palindrome(num):\n",
    "            i = (yield num)\n",
    "            if i is not None:\n",
    "                num = i\n",
    "        num += 1"
   ]
  },
  {
   "cell_type": "code",
   "execution_count": null,
   "id": "tested-mounting",
   "metadata": {},
   "outputs": [],
   "source": [
    "def my_fn(ndigits = 5):\n",
    "    pal_gen = infinite_palindromes()\n",
    "    for i in pal_gen:\n",
    "        digits = len(str(i))\n",
    "        if digits == ndigits:\n",
    "            pal_gen.close()\n",
    "        else:\n",
    "            pal_gen.send(10 ** (digits))\n",
    "        yield i"
   ]
  },
  {
   "cell_type": "code",
   "execution_count": null,
   "id": "extreme-controversy",
   "metadata": {},
   "outputs": [],
   "source": [
    "list(my_fn(7))"
   ]
  },
  {
   "cell_type": "code",
   "execution_count": null,
   "id": "anticipated-judgment",
   "metadata": {},
   "outputs": [],
   "source": [
    "for i, arg in enumerate(args := iter('abcde')):\n",
    "    if arg == 'c':\n",
    "        break\n",
    "print(i, list(args))"
   ]
  },
  {
   "cell_type": "code",
   "execution_count": null,
   "id": "traditional-bonus",
   "metadata": {},
   "outputs": [],
   "source": [
    "def mygen():\n",
    "    return\n",
    "    yield"
   ]
  },
  {
   "cell_type": "code",
   "execution_count": null,
   "id": "piano-surveillance",
   "metadata": {},
   "outputs": [],
   "source": [
    "def myfn():\n",
    "    yield from mygen()\n",
    "    yield 'foo'"
   ]
  },
  {
   "cell_type": "code",
   "execution_count": null,
   "id": "stupid-coaching",
   "metadata": {},
   "outputs": [],
   "source": [
    "list(myfn())"
   ]
  },
  {
   "cell_type": "code",
   "execution_count": null,
   "id": "modern-government",
   "metadata": {},
   "outputs": [],
   "source": [
    "if i < (myvar := len('abc')):\n",
    "    print(i, myvar)"
   ]
  },
  {
   "cell_type": "code",
   "execution_count": null,
   "id": "designing-edinburgh",
   "metadata": {},
   "outputs": [],
   "source": [
    "args = 0, 1, 2\n",
    "ignoredim = None\n",
    "if (argsLen := len(args)) < (level := 7):\n",
    "    args = tuple((*args, *(ignoredim for _ in range(level - argsLen))))"
   ]
  }
 ],
 "metadata": {
  "kernelspec": {
   "display_name": "Python 3",
   "language": "python",
   "name": "python3"
  },
  "language_info": {
   "codemirror_mode": {
    "name": "ipython",
    "version": 3
   },
   "file_extension": ".py",
   "mimetype": "text/x-python",
   "name": "python",
   "nbconvert_exporter": "python",
   "pygments_lexer": "ipython3",
   "version": "3.8.6"
  }
 },
 "nbformat": 4,
 "nbformat_minor": 5
}
