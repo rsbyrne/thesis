{
 "cells": [
  {
   "cell_type": "code",
   "execution_count": 1,
   "id": "sudden-complexity",
   "metadata": {},
   "outputs": [],
   "source": [
    "from thesis_initialise import *"
   ]
  },
  {
   "cell_type": "code",
   "execution_count": 99,
   "id": "human-mitchell",
   "metadata": {},
   "outputs": [],
   "source": []
  },
  {
   "cell_type": "code",
   "execution_count": 38,
   "id": "pressing-picnic",
   "metadata": {},
   "outputs": [
    {
     "data": {
      "text/plain": [
       "array(<generator object <genexpr> at 0x7f8c111c7040>, dtype=object)"
      ]
     },
     "execution_count": 38,
     "metadata": {},
     "output_type": "execute_result"
    }
   ],
   "source": [
    "import numpy as _np\n",
    "_np.array((i**2 for i in range(10)))"
   ]
  },
  {
   "cell_type": "code",
   "execution_count": 2,
   "id": "frank-launch",
   "metadata": {},
   "outputs": [],
   "source": [
    "mysequences = (\n",
    "    range(3),\n",
    "    'abcd',\n",
    "    [0.1, 0.2, 0.3, 0.4, 0.5]\n",
    "    )"
   ]
  },
  {
   "cell_type": "code",
   "execution_count": 3,
   "id": "original-setting",
   "metadata": {},
   "outputs": [],
   "source": [
    "from everest.funcy.seqmerge import muddle"
   ]
  },
  {
   "cell_type": "code",
   "execution_count": 8,
   "id": "solid-background",
   "metadata": {},
   "outputs": [
    {
     "data": {
      "text/plain": [
       "[(0, 'a', 0.1),\n",
       " (0, 'a', 0.2),\n",
       " (0, 'b', 0.1),\n",
       " (0, 'b', 0.2),\n",
       " (1, 'a', 0.1),\n",
       " (1, 'a', 0.2),\n",
       " (1, 'b', 0.1),\n",
       " (1, 'b', 0.2),\n",
       " (2, 'a', 0.1),\n",
       " (2, 'a', 0.2)]"
      ]
     },
     "execution_count": 8,
     "metadata": {},
     "output_type": "execute_result"
    }
   ],
   "source": [
    "it = iter(muddle(mysequences))\n",
    "sorted(next(it) for _ in range(10))"
   ]
  },
  {
   "cell_type": "code",
   "execution_count": 10,
   "id": "clear-surname",
   "metadata": {},
   "outputs": [],
   "source": [
    "import itertools"
   ]
  },
  {
   "cell_type": "code",
   "execution_count": 16,
   "id": "premier-system",
   "metadata": {},
   "outputs": [],
   "source": [
    "mud = list(muddle(mysequences))"
   ]
  },
  {
   "cell_type": "code",
   "execution_count": 19,
   "id": "hundred-prophet",
   "metadata": {},
   "outputs": [
    {
     "data": {
      "text/plain": [
       "<itertools.islice at 0x7f8c12884cc0>"
      ]
     },
     "execution_count": 19,
     "metadata": {},
     "output_type": "execute_result"
    }
   ],
   "source": [
    "itertools.islice(mud, 1_000_000)"
   ]
  },
  {
   "cell_type": "code",
   "execution_count": null,
   "id": "destroyed-conjunction",
   "metadata": {},
   "outputs": [],
   "source": []
  },
  {
   "cell_type": "code",
   "execution_count": 20,
   "id": "eastern-mineral",
   "metadata": {},
   "outputs": [],
   "source": [
    "mydict = dict()"
   ]
  },
  {
   "cell_type": "code",
   "execution_count": 21,
   "id": "terminal-southeast",
   "metadata": {},
   "outputs": [],
   "source": [
    "myvar = mydict.setdefault('foo', [])"
   ]
  },
  {
   "cell_type": "code",
   "execution_count": null,
   "id": "thirty-poison",
   "metadata": {},
   "outputs": [],
   "source": [
    "myvar"
   ]
  },
  {
   "cell_type": "code",
   "execution_count": 28,
   "id": "subtle-yesterday",
   "metadata": {},
   "outputs": [],
   "source": [
    "def hierarchicalise_muddle(mud, /, n = 1_000_000):\n",
    "    mud = sorted(itertools.islice(mud, n + 1))\n",
    "    if len(mud) > n:\n",
    "        raise ValueError(f\"Sequence exceeded max length {n}\")\n",
    "    out = dict()\n",
    "    for row in mud:\n",
    "        d = out\n",
    "        *row, lastkey, lastval = row\n",
    "        for o in row:\n",
    "            d = d.setdefault(o, dict())\n",
    "        ls = d.setdefault(lastkey, list())\n",
    "        ls.append(lastval)\n",
    "    return out"
   ]
  },
  {
   "cell_type": "code",
   "execution_count": 40,
   "id": "aware-newport",
   "metadata": {},
   "outputs": [],
   "source": [
    "myhier = hierarchicalise_muddle(mud)"
   ]
  },
  {
   "cell_type": "code",
   "execution_count": null,
   "id": "perceived-salmon",
   "metadata": {},
   "outputs": [],
   "source": [
    "class Armature"
   ]
  },
  {
   "cell_type": "code",
   "execution_count": 41,
   "id": "answering-disposition",
   "metadata": {},
   "outputs": [
    {
     "data": {
      "text/plain": [
       "{0: {'a': [0.1, 0.2, 0.3, 0.4, 0.5],\n",
       "  'b': [0.1, 0.2, 0.3, 0.4, 0.5],\n",
       "  'c': [0.1, 0.2, 0.3, 0.4, 0.5],\n",
       "  'd': [0.1, 0.2, 0.3, 0.4, 0.5]},\n",
       " 1: {'a': [0.1, 0.2, 0.3, 0.4, 0.5],\n",
       "  'b': [0.1, 0.2, 0.3, 0.4, 0.5],\n",
       "  'c': [0.1, 0.2, 0.3, 0.4, 0.5],\n",
       "  'd': [0.1, 0.2, 0.3, 0.4, 0.5]},\n",
       " 2: {'a': [0.1, 0.2, 0.3, 0.4, 0.5],\n",
       "  'b': [0.1, 0.2, 0.3, 0.4, 0.5],\n",
       "  'c': [0.1, 0.2, 0.3, 0.4, 0.5],\n",
       "  'd': [0.1, 0.2, 0.3, 0.4, 0.5]}}"
      ]
     },
     "execution_count": 41,
     "metadata": {},
     "output_type": "execute_result"
    }
   ],
   "source": [
    "myhier[0]['a'][0]"
   ]
  },
  {
   "cell_type": "code",
   "execution_count": null,
   "id": "automated-twist",
   "metadata": {},
   "outputs": [],
   "source": []
  },
  {
   "cell_type": "code",
   "execution_count": null,
   "id": "charming-crack",
   "metadata": {},
   "outputs": [],
   "source": []
  },
  {
   "cell_type": "code",
   "execution_count": 35,
   "id": "dutch-promise",
   "metadata": {},
   "outputs": [],
   "source": [
    "import pandas as pd"
   ]
  },
  {
   "cell_type": "code",
   "execution_count": 36,
   "id": "limiting-socket",
   "metadata": {},
   "outputs": [
    {
     "data": {
      "text/html": [
       "<div>\n",
       "<style scoped>\n",
       "    .dataframe tbody tr th:only-of-type {\n",
       "        vertical-align: middle;\n",
       "    }\n",
       "\n",
       "    .dataframe tbody tr th {\n",
       "        vertical-align: top;\n",
       "    }\n",
       "\n",
       "    .dataframe thead th {\n",
       "        text-align: right;\n",
       "    }\n",
       "</style>\n",
       "<table border=\"1\" class=\"dataframe\">\n",
       "  <thead>\n",
       "    <tr style=\"text-align: right;\">\n",
       "      <th></th>\n",
       "      <th>0</th>\n",
       "    </tr>\n",
       "  </thead>\n",
       "  <tbody>\n",
       "    <tr>\n",
       "      <th>0</th>\n",
       "      <td>0.1</td>\n",
       "    </tr>\n",
       "    <tr>\n",
       "      <th>1</th>\n",
       "      <td>0.2</td>\n",
       "    </tr>\n",
       "    <tr>\n",
       "      <th>2</th>\n",
       "      <td>0.3</td>\n",
       "    </tr>\n",
       "    <tr>\n",
       "      <th>3</th>\n",
       "      <td>0.4</td>\n",
       "    </tr>\n",
       "    <tr>\n",
       "      <th>4</th>\n",
       "      <td>0.5</td>\n",
       "    </tr>\n",
       "  </tbody>\n",
       "</table>\n",
       "</div>"
      ],
      "text/plain": [
       "     0\n",
       "0  0.1\n",
       "1  0.2\n",
       "2  0.3\n",
       "3  0.4\n",
       "4  0.5"
      ]
     },
     "execution_count": 36,
     "metadata": {},
     "output_type": "execute_result"
    }
   ],
   "source": [
    "pd.DataFrame(myhier)"
   ]
  },
  {
   "cell_type": "code",
   "execution_count": null,
   "id": "virtual-richards",
   "metadata": {},
   "outputs": [],
   "source": []
  },
  {
   "cell_type": "code",
   "execution_count": null,
   "id": "graduate-brunswick",
   "metadata": {},
   "outputs": [],
   "source": [
    "def is_palindrome(num):\n",
    "    # Skip single-digit inputs\n",
    "    if num // 10 == 0:\n",
    "        return False\n",
    "    temp = num\n",
    "    reversed_num = 0\n",
    "\n",
    "    while temp != 0:\n",
    "        reversed_num = (reversed_num * 10) + (temp % 10)\n",
    "        temp = temp // 10\n",
    "\n",
    "    if num == reversed_num:\n",
    "        return True\n",
    "    else:\n",
    "        return False"
   ]
  },
  {
   "cell_type": "code",
   "execution_count": null,
   "id": "black-blade",
   "metadata": {},
   "outputs": [],
   "source": [
    "def infinite_palindromes():\n",
    "    num = 0\n",
    "    while True:\n",
    "        if is_palindrome(num):\n",
    "            i = (yield num)\n",
    "            if i is not None:\n",
    "                num = i\n",
    "        num += 1"
   ]
  },
  {
   "cell_type": "code",
   "execution_count": null,
   "id": "tested-mounting",
   "metadata": {},
   "outputs": [],
   "source": [
    "def my_fn(ndigits = 5):\n",
    "    pal_gen = infinite_palindromes()\n",
    "    for i in pal_gen:\n",
    "        digits = len(str(i))\n",
    "        if digits == ndigits:\n",
    "            pal_gen.close()\n",
    "        else:\n",
    "            pal_gen.send(10 ** (digits))\n",
    "        yield i"
   ]
  },
  {
   "cell_type": "code",
   "execution_count": null,
   "id": "extreme-controversy",
   "metadata": {},
   "outputs": [],
   "source": [
    "list(my_fn(7))"
   ]
  },
  {
   "cell_type": "code",
   "execution_count": null,
   "id": "anticipated-judgment",
   "metadata": {},
   "outputs": [],
   "source": [
    "for i, arg in enumerate(args := iter('abcde')):\n",
    "    if arg == 'c':\n",
    "        break\n",
    "print(i, list(args))"
   ]
  },
  {
   "cell_type": "code",
   "execution_count": null,
   "id": "traditional-bonus",
   "metadata": {},
   "outputs": [],
   "source": [
    "def mygen():\n",
    "    return\n",
    "    yield"
   ]
  },
  {
   "cell_type": "code",
   "execution_count": null,
   "id": "piano-surveillance",
   "metadata": {},
   "outputs": [],
   "source": [
    "def myfn():\n",
    "    yield from mygen()\n",
    "    yield 'foo'"
   ]
  },
  {
   "cell_type": "code",
   "execution_count": null,
   "id": "stupid-coaching",
   "metadata": {},
   "outputs": [],
   "source": [
    "list(myfn())"
   ]
  },
  {
   "cell_type": "code",
   "execution_count": null,
   "id": "modern-government",
   "metadata": {},
   "outputs": [],
   "source": [
    "if i < (myvar := len('abc')):\n",
    "    print(i, myvar)"
   ]
  },
  {
   "cell_type": "code",
   "execution_count": null,
   "id": "designing-edinburgh",
   "metadata": {},
   "outputs": [],
   "source": [
    "args = 0, 1, 2\n",
    "ignoredim = None\n",
    "if (argsLen := len(args)) < (level := 7):\n",
    "    args = tuple((*args, *(ignoredim for _ in range(level - argsLen))))"
   ]
  }
 ],
 "metadata": {
  "kernelspec": {
   "display_name": "Python 3",
   "language": "python",
   "name": "python3"
  },
  "language_info": {
   "codemirror_mode": {
    "name": "ipython",
    "version": 3
   },
   "file_extension": ".py",
   "mimetype": "text/x-python",
   "name": "python",
   "nbconvert_exporter": "python",
   "pygments_lexer": "ipython3",
   "version": "3.8.6"
  }
 },
 "nbformat": 4,
 "nbformat_minor": 5
}
