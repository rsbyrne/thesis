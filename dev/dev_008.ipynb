{
 "cells": [
  {
   "cell_type": "code",
   "execution_count": 1,
   "id": "continuous-policy",
   "metadata": {},
   "outputs": [],
   "source": [
    "from thesis_initialise import *"
   ]
  },
  {
   "cell_type": "code",
   "execution_count": 2,
   "id": "historic-error",
   "metadata": {},
   "outputs": [],
   "source": [
    "from everest.examples import Lorenz"
   ]
  },
  {
   "cell_type": "code",
   "execution_count": 12,
   "id": "patient-macintosh",
   "metadata": {},
   "outputs": [],
   "source": [
    "mymodel = Lorenz()"
   ]
  },
  {
   "cell_type": "code",
   "execution_count": 20,
   "id": "prime-joint",
   "metadata": {},
   "outputs": [],
   "source": [
    "mymodel.state['coords'] = 0"
   ]
  },
  {
   "cell_type": "code",
   "execution_count": 23,
   "id": "unlimited-diving",
   "metadata": {},
   "outputs": [
    {
     "data": {
      "text/plain": [
       "{'coords': [0.0, 1.0, 1.05]}"
      ]
     },
     "execution_count": 23,
     "metadata": {},
     "output_type": "execute_result"
    }
   ],
   "source": [
    "mymodel.configs.value"
   ]
  },
  {
   "cell_type": "code",
   "execution_count": 24,
   "id": "norwegian-dealer",
   "metadata": {},
   "outputs": [],
   "source": [
    "mymodel.state['coords'] = mymodel.configs.value['coords']"
   ]
  },
  {
   "cell_type": "code",
   "execution_count": 25,
   "id": "unable-election",
   "metadata": {},
   "outputs": [
    {
     "data": {
      "text/plain": [
       "{'coords': array([0.  , 1.  , 1.05])}"
      ]
     },
     "execution_count": 25,
     "metadata": {},
     "output_type": "execute_result"
    }
   ],
   "source": [
    "mymodel.state.value"
   ]
  },
  {
   "cell_type": "code",
   "execution_count": 10,
   "id": "widespread-nature",
   "metadata": {},
   "outputs": [],
   "source": [
    "mymodel.state.plain_get('coords').value = [1, 2, 3]"
   ]
  },
  {
   "cell_type": "code",
   "execution_count": 11,
   "id": "committed-feature",
   "metadata": {},
   "outputs": [
    {
     "ename": "ValueError",
     "evalue": "setting an array element with a sequence.",
     "output_type": "error",
     "traceback": [
      "\u001b[0;31m---------------------------------------------------------------------------\u001b[0m",
      "\u001b[0;31mTypeError\u001b[0m                                 Traceback (most recent call last)",
      "\u001b[0;31mTypeError\u001b[0m: Operation.__float__ returned non-float (type Operation)",
      "\nThe above exception was the direct cause of the following exception:\n",
      "\u001b[0;31mValueError\u001b[0m                                Traceback (most recent call last)",
      "\u001b[0;32m<ipython-input-11-107be520a857>\u001b[0m in \u001b[0;36m<module>\u001b[0;34m\u001b[0m\n\u001b[0;32m----> 1\u001b[0;31m \u001b[0mmymodel\u001b[0m\u001b[0;34m.\u001b[0m\u001b[0minitialise\u001b[0m\u001b[0;34m(\u001b[0m\u001b[0;34m)\u001b[0m\u001b[0;34m\u001b[0m\u001b[0;34m\u001b[0m\u001b[0m\n\u001b[0m",
      "\u001b[0;32m~/workspace/mount/resources/everest/everest/ptolemaic/frames/geometric.py\u001b[0m in \u001b[0;36minitialise\u001b[0;34m(self)\u001b[0m\n\u001b[1;32m    255\u001b[0m     \u001b[0;32mdef\u001b[0m \u001b[0minitialise\u001b[0m\u001b[0;34m(\u001b[0m\u001b[0mself\u001b[0m\u001b[0;34m)\u001b[0m\u001b[0;34m:\u001b[0m\u001b[0;34m\u001b[0m\u001b[0;34m\u001b[0m\u001b[0m\n\u001b[1;32m    256\u001b[0m         \u001b[0mself\u001b[0m\u001b[0;34m.\u001b[0m\u001b[0mindices\u001b[0m\u001b[0;34m.\u001b[0m\u001b[0mzero\u001b[0m\u001b[0;34m(\u001b[0m\u001b[0;34m)\u001b[0m\u001b[0;34m\u001b[0m\u001b[0;34m\u001b[0m\u001b[0m\n\u001b[0;32m--> 257\u001b[0;31m         \u001b[0mself\u001b[0m\u001b[0;34m.\u001b[0m\u001b[0m_initialise\u001b[0m\u001b[0;34m(\u001b[0m\u001b[0;34m)\u001b[0m\u001b[0;34m\u001b[0m\u001b[0;34m\u001b[0m\u001b[0m\n\u001b[0m\u001b[1;32m    258\u001b[0m     \u001b[0;32mdef\u001b[0m \u001b[0m_initialise\u001b[0m\u001b[0;34m(\u001b[0m\u001b[0mself\u001b[0m\u001b[0;34m)\u001b[0m\u001b[0;34m:\u001b[0m\u001b[0;34m\u001b[0m\u001b[0;34m\u001b[0m\u001b[0m\n\u001b[1;32m    259\u001b[0m         \u001b[0;32mpass\u001b[0m\u001b[0;34m\u001b[0m\u001b[0;34m\u001b[0m\u001b[0m\n",
      "\u001b[0;32m~/workspace/mount/resources/everest/everest/ptolemaic/frames/traversable.py\u001b[0m in \u001b[0;36m_initialise\u001b[0;34m(self)\u001b[0m\n\u001b[1;32m     26\u001b[0m     \u001b[0;32mdef\u001b[0m \u001b[0m_initialise\u001b[0m\u001b[0;34m(\u001b[0m\u001b[0mself\u001b[0m\u001b[0;34m)\u001b[0m\u001b[0;34m:\u001b[0m\u001b[0;34m\u001b[0m\u001b[0;34m\u001b[0m\u001b[0m\n\u001b[1;32m     27\u001b[0m         \u001b[0msuper\u001b[0m\u001b[0;34m(\u001b[0m\u001b[0;34m)\u001b[0m\u001b[0;34m.\u001b[0m\u001b[0m_initialise\u001b[0m\u001b[0;34m(\u001b[0m\u001b[0;34m)\u001b[0m\u001b[0;34m\u001b[0m\u001b[0;34m\u001b[0m\u001b[0m\n\u001b[0;32m---> 28\u001b[0;31m         \u001b[0mself\u001b[0m\u001b[0;34m.\u001b[0m\u001b[0mconfigs\u001b[0m\u001b[0;34m.\u001b[0m\u001b[0mapply\u001b[0m\u001b[0;34m(\u001b[0m\u001b[0;34m)\u001b[0m\u001b[0;34m\u001b[0m\u001b[0;34m\u001b[0m\u001b[0m\n\u001b[0m\u001b[1;32m     29\u001b[0m \u001b[0;34m\u001b[0m\u001b[0m\n\u001b[1;32m     30\u001b[0m     \u001b[0;31m# @classmethod\u001b[0m\u001b[0;34m\u001b[0m\u001b[0;34m\u001b[0m\u001b[0;34m\u001b[0m\u001b[0m\n",
      "\u001b[0;32m~/workspace/mount/resources/everest/everest/ptolemaic/frames/configurable.py\u001b[0m in \u001b[0;36mapply\u001b[0;34m(self)\u001b[0m\n\u001b[1;32m     35\u001b[0m                 \u001b[0mself\u001b[0m\u001b[0;34m.\u001b[0m\u001b[0mstate\u001b[0m\u001b[0;34m.\u001b[0m\u001b[0mnullify\u001b[0m\u001b[0;34m(\u001b[0m\u001b[0;34m)\u001b[0m\u001b[0;34m\u001b[0m\u001b[0;34m\u001b[0m\u001b[0m\n\u001b[1;32m     36\u001b[0m             \u001b[0;32mdef\u001b[0m \u001b[0mapply\u001b[0m\u001b[0;34m(\u001b[0m\u001b[0mself\u001b[0m\u001b[0;34m)\u001b[0m\u001b[0;34m:\u001b[0m\u001b[0;34m\u001b[0m\u001b[0;34m\u001b[0m\u001b[0m\n\u001b[0;32m---> 37\u001b[0;31m                 \u001b[0mself\u001b[0m\u001b[0;34m.\u001b[0m\u001b[0mstate\u001b[0m\u001b[0;34m[\u001b[0m\u001b[0;34m...\u001b[0m\u001b[0;34m]\u001b[0m \u001b[0;34m=\u001b[0m \u001b[0mself\u001b[0m\u001b[0;34m\u001b[0m\u001b[0;34m\u001b[0m\u001b[0m\n\u001b[0m\u001b[1;32m     38\u001b[0m         \u001b[0mcls\u001b[0m\u001b[0;34m.\u001b[0m\u001b[0mConfigs\u001b[0m \u001b[0;34m=\u001b[0m \u001b[0mConfigs\u001b[0m\u001b[0;34m\u001b[0m\u001b[0;34m\u001b[0m\u001b[0m\n\u001b[1;32m     39\u001b[0m         \u001b[0;32mreturn\u001b[0m\u001b[0;34m\u001b[0m\u001b[0;34m\u001b[0m\u001b[0m\n",
      "\u001b[0;32m~/workspace/mount/resources/everest/everest/funcy/derived/map/varmap.py\u001b[0m in \u001b[0;36m__setitem__\u001b[0;34m(self, key, val)\u001b[0m\n\u001b[1;32m     79\u001b[0m     \u001b[0;32mdef\u001b[0m \u001b[0m__setitem__\u001b[0m\u001b[0;34m(\u001b[0m\u001b[0mself\u001b[0m\u001b[0;34m,\u001b[0m \u001b[0mkey\u001b[0m\u001b[0;34m,\u001b[0m \u001b[0mval\u001b[0m\u001b[0;34m)\u001b[0m\u001b[0;34m:\u001b[0m\u001b[0;34m\u001b[0m\u001b[0;34m\u001b[0m\u001b[0m\n\u001b[1;32m     80\u001b[0m         \u001b[0;32mfor\u001b[0m \u001b[0mk\u001b[0m\u001b[0;34m,\u001b[0m \u001b[0mv\u001b[0m \u001b[0;32min\u001b[0m \u001b[0mordered_unpack\u001b[0m\u001b[0;34m(\u001b[0m\u001b[0mself\u001b[0m\u001b[0;34m,\u001b[0m \u001b[0mkey\u001b[0m\u001b[0;34m,\u001b[0m \u001b[0mval\u001b[0m\u001b[0;34m)\u001b[0m\u001b[0;34m.\u001b[0m\u001b[0mitems\u001b[0m\u001b[0;34m(\u001b[0m\u001b[0;34m)\u001b[0m\u001b[0;34m:\u001b[0m\u001b[0;34m\u001b[0m\u001b[0;34m\u001b[0m\u001b[0m\n\u001b[0;32m---> 81\u001b[0;31m             \u001b[0mself\u001b[0m\u001b[0;34m.\u001b[0m\u001b[0mplain_get\u001b[0m\u001b[0;34m(\u001b[0m\u001b[0mk\u001b[0m\u001b[0;34m)\u001b[0m\u001b[0;34m.\u001b[0m\u001b[0mvalue\u001b[0m \u001b[0;34m=\u001b[0m \u001b[0mv\u001b[0m\u001b[0;34m\u001b[0m\u001b[0;34m\u001b[0m\u001b[0m\n\u001b[0m\u001b[1;32m     82\u001b[0m     \u001b[0;32mdef\u001b[0m \u001b[0m__delitem__\u001b[0m\u001b[0;34m(\u001b[0m\u001b[0mself\u001b[0m\u001b[0;34m,\u001b[0m \u001b[0mk\u001b[0m\u001b[0;34m)\u001b[0m\u001b[0;34m:\u001b[0m\u001b[0;34m\u001b[0m\u001b[0;34m\u001b[0m\u001b[0m\n\u001b[1;32m     83\u001b[0m         \u001b[0mself\u001b[0m\u001b[0;34m.\u001b[0m\u001b[0mplain_get\u001b[0m\u001b[0;34m(\u001b[0m\u001b[0mk\u001b[0m\u001b[0;34m)\u001b[0m\u001b[0;34m.\u001b[0m\u001b[0mnullify\u001b[0m\u001b[0;34m(\u001b[0m\u001b[0;34m)\u001b[0m\u001b[0;34m\u001b[0m\u001b[0;34m\u001b[0m\u001b[0m\n",
      "\u001b[0;32m~/workspace/mount/resources/everest/everest/funcy/base/variable/variable.py\u001b[0m in \u001b[0;36mvalue\u001b[0;34m(self, val)\u001b[0m\n\u001b[1;32m     34\u001b[0m     \u001b[0;32mdef\u001b[0m \u001b[0mvalue\u001b[0m\u001b[0;34m(\u001b[0m\u001b[0mself\u001b[0m\u001b[0;34m,\u001b[0m \u001b[0mval\u001b[0m\u001b[0;34m)\u001b[0m\u001b[0;34m:\u001b[0m\u001b[0;34m\u001b[0m\u001b[0;34m\u001b[0m\u001b[0m\n\u001b[1;32m     35\u001b[0m         \u001b[0;32mtry\u001b[0m\u001b[0;34m:\u001b[0m\u001b[0;34m\u001b[0m\u001b[0;34m\u001b[0m\u001b[0m\n\u001b[0;32m---> 36\u001b[0;31m             \u001b[0mself\u001b[0m\u001b[0;34m.\u001b[0m\u001b[0mset_value\u001b[0m\u001b[0;34m(\u001b[0m\u001b[0mval\u001b[0m\u001b[0;34m)\u001b[0m\u001b[0;34m\u001b[0m\u001b[0;34m\u001b[0m\u001b[0m\n\u001b[0m\u001b[1;32m     37\u001b[0m         \u001b[0;32mexcept\u001b[0m \u001b[0mTypeError\u001b[0m\u001b[0;34m:\u001b[0m\u001b[0;34m\u001b[0m\u001b[0;34m\u001b[0m\u001b[0m\n\u001b[1;32m     38\u001b[0m             \u001b[0;32mif\u001b[0m \u001b[0mval\u001b[0m \u001b[0;32mis\u001b[0m \u001b[0mEllipsis\u001b[0m\u001b[0;34m:\u001b[0m\u001b[0;34m\u001b[0m\u001b[0;34m\u001b[0m\u001b[0m\n",
      "\u001b[0;32m~/workspace/mount/resources/everest/everest/funcy/base/variable/array.py\u001b[0m in \u001b[0;36mset_value\u001b[0;34m(self, val)\u001b[0m\n\u001b[1;32m     81\u001b[0m     \u001b[0;32mdef\u001b[0m \u001b[0mset_value\u001b[0m\u001b[0;34m(\u001b[0m\u001b[0mself\u001b[0m\u001b[0;34m,\u001b[0m \u001b[0mval\u001b[0m\u001b[0;34m)\u001b[0m\u001b[0;34m:\u001b[0m\u001b[0;34m\u001b[0m\u001b[0;34m\u001b[0m\u001b[0m\n\u001b[1;32m     82\u001b[0m         \u001b[0;32mtry\u001b[0m\u001b[0;34m:\u001b[0m\u001b[0;34m\u001b[0m\u001b[0;34m\u001b[0m\u001b[0m\n\u001b[0;32m---> 83\u001b[0;31m             \u001b[0mself\u001b[0m\u001b[0;34m.\u001b[0m\u001b[0mmemory\u001b[0m\u001b[0;34m[\u001b[0m\u001b[0;34m...\u001b[0m\u001b[0;34m]\u001b[0m \u001b[0;34m=\u001b[0m \u001b[0mval\u001b[0m\u001b[0;34m\u001b[0m\u001b[0;34m\u001b[0m\u001b[0m\n\u001b[0m\u001b[1;32m     84\u001b[0m         \u001b[0;32mexcept\u001b[0m \u001b[0mNullValueDetected\u001b[0m\u001b[0;34m:\u001b[0m\u001b[0;34m\u001b[0m\u001b[0;34m\u001b[0m\u001b[0m\n\u001b[1;32m     85\u001b[0m             \u001b[0mself\u001b[0m\u001b[0;34m.\u001b[0m\u001b[0mmemory\u001b[0m \u001b[0;34m=\u001b[0m \u001b[0mself\u001b[0m\u001b[0;34m.\u001b[0m\u001b[0m_memory\u001b[0m\u001b[0;34m\u001b[0m\u001b[0;34m\u001b[0m\u001b[0m\n",
      "\u001b[0;31mValueError\u001b[0m: setting an array element with a sequence."
     ]
    }
   ],
   "source": [
    "mymodel.initialise()"
   ]
  },
  {
   "cell_type": "code",
   "execution_count": null,
   "id": "resistant-estimate",
   "metadata": {},
   "outputs": [],
   "source": []
  },
  {
   "cell_type": "code",
   "execution_count": null,
   "id": "outer-probability",
   "metadata": {},
   "outputs": [],
   "source": [
    "mymodel.state"
   ]
  },
  {
   "cell_type": "code",
   "execution_count": null,
   "id": "engaging-inflation",
   "metadata": {},
   "outputs": [],
   "source": [
    "mymodel.state.plain_get('coords').value = [1, 2, 3]"
   ]
  },
  {
   "cell_type": "code",
   "execution_count": null,
   "id": "experimental-station",
   "metadata": {},
   "outputs": [],
   "source": [
    "mymodel.configs.value['coords']"
   ]
  },
  {
   "cell_type": "code",
   "execution_count": null,
   "id": "generous-benefit",
   "metadata": {},
   "outputs": [],
   "source": [
    "mymodel.state['coords'] = 0"
   ]
  },
  {
   "cell_type": "code",
   "execution_count": null,
   "id": "adaptive-drawing",
   "metadata": {},
   "outputs": [],
   "source": [
    "mymodel.state.variables[0].memory"
   ]
  },
  {
   "cell_type": "code",
   "execution_count": null,
   "id": "working-silence",
   "metadata": {},
   "outputs": [],
   "source": [
    "from everest.funcy.base.variable import Array"
   ]
  },
  {
   "cell_type": "code",
   "execution_count": null,
   "id": "behind-bristol",
   "metadata": {},
   "outputs": [],
   "source": [
    "myarr = Array(shape = (3), dtype = float)"
   ]
  },
  {
   "cell_type": "code",
   "execution_count": null,
   "id": "greatest-noise",
   "metadata": {},
   "outputs": [],
   "source": [
    "myarr.memory[:] = [1, 2, 3]"
   ]
  },
  {
   "cell_type": "code",
   "execution_count": null,
   "id": "romance-terminology",
   "metadata": {},
   "outputs": [],
   "source": [
    "myarr.value"
   ]
  },
  {
   "cell_type": "code",
   "execution_count": null,
   "id": "appropriate-bunch",
   "metadata": {},
   "outputs": [],
   "source": [
    "mymodel.indices.indexers"
   ]
  },
  {
   "cell_type": "code",
   "execution_count": null,
   "id": "competent-afternoon",
   "metadata": {},
   "outputs": [],
   "source": [
    "Lorenz.CountVar(name = 'foo')"
   ]
  },
  {
   "cell_type": "code",
   "execution_count": null,
   "id": "dated-cambridge",
   "metadata": {},
   "outputs": [],
   "source": [
    "from everest.funcy.base.variable import ScalarReal"
   ]
  },
  {
   "cell_type": "code",
   "execution_count": null,
   "id": "adjustable-sussex",
   "metadata": {},
   "outputs": [],
   "source": [
    "import numbers"
   ]
  },
  {
   "cell_type": "code",
   "execution_count": null,
   "id": "colored-priority",
   "metadata": {},
   "outputs": [],
   "source": [
    "issubclass(float, numbers.Real)"
   ]
  },
  {
   "cell_type": "code",
   "execution_count": null,
   "id": "short-baking",
   "metadata": {},
   "outputs": [],
   "source": [
    "Lorenz.StateVar"
   ]
  },
  {
   "cell_type": "code",
   "execution_count": null,
   "id": "motivated-feeding",
   "metadata": {},
   "outputs": [],
   "source": [
    "2 ** 64"
   ]
  },
  {
   "cell_type": "code",
   "execution_count": null,
   "id": "adaptive-baghdad",
   "metadata": {},
   "outputs": [],
   "source": [
    "import inspect"
   ]
  },
  {
   "cell_type": "code",
   "execution_count": null,
   "id": "intermediate-numbers",
   "metadata": {},
   "outputs": [],
   "source": [
    "def myfn(a : int):\n",
    "    ...\n",
    "sig = inspect.signature(myfn)"
   ]
  },
  {
   "cell_type": "code",
   "execution_count": null,
   "id": "grateful-transcript",
   "metadata": {},
   "outputs": [],
   "source": [
    "sig.parameters.values()"
   ]
  },
  {
   "cell_type": "code",
   "execution_count": null,
   "id": "cardiac-bulgaria",
   "metadata": {},
   "outputs": [],
   "source": [
    "inspect.Signature"
   ]
  },
  {
   "cell_type": "code",
   "execution_count": null,
   "id": "contained-progressive",
   "metadata": {},
   "outputs": [],
   "source": [
    "inspect.signature"
   ]
  },
  {
   "cell_type": "code",
   "execution_count": null,
   "id": "understanding-attempt",
   "metadata": {},
   "outputs": [],
   "source": [
    "from everest.funcy import Fn"
   ]
  },
  {
   "cell_type": "code",
   "execution_count": null,
   "id": "local-boost",
   "metadata": {},
   "outputs": [],
   "source": [
    "from everest.funcy.derived.map import VarMap"
   ]
  },
  {
   "cell_type": "code",
   "execution_count": null,
   "id": "understanding-collector",
   "metadata": {},
   "outputs": [],
   "source": [
    "# Fn(object, name = 'foo', initVal = 1)"
   ]
  },
  {
   "cell_type": "code",
   "execution_count": null,
   "id": "environmental-bikini",
   "metadata": {},
   "outputs": [],
   "source": [
    "slice(2, 5, 2).indices(3)"
   ]
  },
  {
   "cell_type": "code",
   "execution_count": null,
   "id": "finnish-couple",
   "metadata": {},
   "outputs": [],
   "source": [
    "mymap = VarMap(\n",
    "    Fn(object, name = 'foo', initVal = 1),\n",
    "    Fn(object, name = 'bah', initVal = 2),\n",
    "    Fn(object, name = 'qux', initVal = 3),\n",
    "    )\n",
    "mymap.value"
   ]
  },
  {
   "cell_type": "code",
   "execution_count": null,
   "id": "provincial-ukraine",
   "metadata": {},
   "outputs": [],
   "source": [
    "mymap['foo'] = 3\n",
    "mymap.value"
   ]
  },
  {
   "cell_type": "code",
   "execution_count": null,
   "id": "selected-newsletter",
   "metadata": {},
   "outputs": [],
   "source": [
    "mymap[...] = None\n",
    "mymap.value"
   ]
  },
  {
   "cell_type": "code",
   "execution_count": null,
   "id": "competent-shoulder",
   "metadata": {},
   "outputs": [],
   "source": [
    "mymap[1:] = 1\n",
    "mymap.value"
   ]
  },
  {
   "cell_type": "code",
   "execution_count": null,
   "id": "recovered-emperor",
   "metadata": {},
   "outputs": [],
   "source": [
    "mymap.terms[0]"
   ]
  },
  {
   "cell_type": "code",
   "execution_count": null,
   "id": "automated-colombia",
   "metadata": {},
   "outputs": [],
   "source": [
    "mymap._Fn"
   ]
  },
  {
   "cell_type": "code",
   "execution_count": null,
   "id": "driving-montgomery",
   "metadata": {},
   "outputs": [],
   "source": [
    "Fn(object, name = 'foo', initVal = 1)"
   ]
  },
  {
   "cell_type": "code",
   "execution_count": null,
   "id": "protecting-ceramic",
   "metadata": {},
   "outputs": [],
   "source": []
  },
  {
   "cell_type": "code",
   "execution_count": null,
   "id": "musical-easter",
   "metadata": {},
   "outputs": [],
   "source": [
    "from everest.examples import Lorenz"
   ]
  },
  {
   "cell_type": "code",
   "execution_count": null,
   "id": "legislative-pierce",
   "metadata": {},
   "outputs": [],
   "source": [
    "from everest.datalike.qualifieds.indexed import Chroned"
   ]
  },
  {
   "cell_type": "code",
   "execution_count": null,
   "id": "extra-officer",
   "metadata": {},
   "outputs": [],
   "source": [
    "mym"
   ]
  },
  {
   "cell_type": "code",
   "execution_count": null,
   "id": "every-retailer",
   "metadata": {},
   "outputs": [],
   "source": [
    "import numpy as np\n",
    "np.empty((3, 2), dtype = np.int64)"
   ]
  },
  {
   "cell_type": "code",
   "execution_count": null,
   "id": "moderate-planner",
   "metadata": {},
   "outputs": [],
   "source": [
    "ints = np.random.default_rng().integers"
   ]
  },
  {
   "cell_type": "code",
   "execution_count": null,
   "id": "owned-excess",
   "metadata": {},
   "outputs": [],
   "source": [
    "ints"
   ]
  },
  {
   "cell_type": "code",
   "execution_count": null,
   "id": "abroad-wholesale",
   "metadata": {},
   "outputs": [],
   "source": [
    "np.int64"
   ]
  },
  {
   "cell_type": "code",
   "execution_count": null,
   "id": "solid-ready",
   "metadata": {},
   "outputs": [],
   "source": [
    "np.empty((3, 2), dtype = np.int128)"
   ]
  },
  {
   "cell_type": "code",
   "execution_count": null,
   "id": "academic-accountability",
   "metadata": {},
   "outputs": [],
   "source": [
    "from everest.funcy import Fn\n",
    "from everest.funcy.generic import *\n",
    "from everest.cascade import Inputs"
   ]
  },
  {
   "cell_type": "code",
   "execution_count": null,
   "id": "pressing-midwest",
   "metadata": {},
   "outputs": [],
   "source": [
    "myFn = Fn(3) ** 2"
   ]
  },
  {
   "cell_type": "code",
   "execution_count": null,
   "id": "differential-dinner",
   "metadata": {},
   "outputs": [],
   "source": [
    "myFn.hashID"
   ]
  },
  {
   "cell_type": "code",
   "execution_count": null,
   "id": "outer-peeing",
   "metadata": {},
   "outputs": [],
   "source": [
    "class MyClass:\n",
    "    ..."
   ]
  },
  {
   "cell_type": "code",
   "execution_count": null,
   "id": "skilled-finland",
   "metadata": {},
   "outputs": [],
   "source": [
    "MyClass().__name__"
   ]
  },
  {
   "cell_type": "code",
   "execution_count": null,
   "id": "sacred-assignment",
   "metadata": {},
   "outputs": [],
   "source": [
    "import types"
   ]
  },
  {
   "cell_type": "code",
   "execution_count": null,
   "id": "convertible-journal",
   "metadata": {},
   "outputs": [],
   "source": [
    "types.MethodType"
   ]
  },
  {
   "cell_type": "code",
   "execution_count": null,
   "id": "satisfactory-enough",
   "metadata": {},
   "outputs": [],
   "source": [
    "def myfn(\n",
    "        a: int,\n",
    "        /,\n",
    "        b,\n",
    "        *args,\n",
    "        c = 3,\n",
    "        d = 4,\n",
    "        **kwargs,\n",
    "        ) -> None:\n",
    "    print(a, b, args, c, d, kwargs)\n",
    "#     self.a, self.b, self.c, self.d = a, b, c, d"
   ]
  },
  {
   "cell_type": "code",
   "execution_count": null,
   "id": "informational-climate",
   "metadata": {},
   "outputs": [],
   "source": [
    "inputs = Inputs(myfn)"
   ]
  },
  {
   "cell_type": "code",
   "execution_count": null,
   "id": "nervous-complex",
   "metadata": {},
   "outputs": [],
   "source": [
    "inputs.a = 1"
   ]
  },
  {
   "cell_type": "code",
   "execution_count": null,
   "id": "absent-authorization",
   "metadata": {},
   "outputs": [],
   "source": [
    "inputs.b = 2"
   ]
  },
  {
   "cell_type": "code",
   "execution_count": null,
   "id": "still-poker",
   "metadata": {},
   "outputs": [],
   "source": [
    "inputs.kwargs"
   ]
  },
  {
   "cell_type": "code",
   "execution_count": null,
   "id": "searching-incident",
   "metadata": {},
   "outputs": [],
   "source": [
    "def myfn():\n",
    "    'foo'"
   ]
  },
  {
   "cell_type": "code",
   "execution_count": null,
   "id": "colonial-microphone",
   "metadata": {},
   "outputs": [],
   "source": [
    "mycascade"
   ]
  },
  {
   "cell_type": "code",
   "execution_count": null,
   "id": "hollow-programmer",
   "metadata": {},
   "outputs": [],
   "source": [
    "myvar = True\n",
    "if myalias := myvar:\n",
    "    print(myalias)"
   ]
  },
  {
   "cell_type": "code",
   "execution_count": null,
   "id": "constant-peripheral",
   "metadata": {},
   "outputs": [],
   "source": [
    "type(myfn)"
   ]
  },
  {
   "cell_type": "code",
   "execution_count": null,
   "id": "present-ridge",
   "metadata": {},
   "outputs": [],
   "source": [
    "from everest.cascade import Req"
   ]
  },
  {
   "cell_type": "code",
   "execution_count": null,
   "id": "continent-charleston",
   "metadata": {},
   "outputs": [],
   "source": [
    "def unpack(casc, func):\n",
    "    sig = inspect.signature(func)\n",
    "    params = sig.parameters\n",
    "    args = []\n",
    "    kwargs = dict()\n",
    "    for key, val in casc.items():\n",
    "        if isinstance(val, Req):\n",
    "            raise ValueError(f\"Cannot unpack incomplete Cascade: {key}: {val.note}\")\n",
    "        try:\n",
    "            param = params[key]\n",
    "            if param.kind.value:\n",
    "                kwargs[key] = val\n",
    "            else:\n",
    "                args.append(val)\n",
    "        except KeyError:\n",
    "            kwargs[key] = val"
   ]
  },
  {
   "cell_type": "code",
   "execution_count": null,
   "id": "immune-optimization",
   "metadata": {},
   "outputs": [],
   "source": [
    "unpack(mycascade, myfn)"
   ]
  },
  {
   "cell_type": "code",
   "execution_count": null,
   "id": "bigger-coating",
   "metadata": {},
   "outputs": [],
   "source": [
    "import inspect"
   ]
  },
  {
   "cell_type": "code",
   "execution_count": null,
   "id": "vital-province",
   "metadata": {},
   "outputs": [],
   "source": [
    "sig = inspect.signature(myfn)"
   ]
  },
  {
   "cell_type": "code",
   "execution_count": null,
   "id": "verified-integrity",
   "metadata": {},
   "outputs": [],
   "source": [
    "para = sig.parameters['a']"
   ]
  },
  {
   "cell_type": "code",
   "execution_count": null,
   "id": "latest-composition",
   "metadata": {},
   "outputs": [],
   "source": [
    "para.kind.value"
   ]
  },
  {
   "cell_type": "code",
   "execution_count": null,
   "id": "wrapped-graduate",
   "metadata": {},
   "outputs": [],
   "source": [
    "para."
   ]
  },
  {
   "cell_type": "code",
   "execution_count": null,
   "id": "romantic-casino",
   "metadata": {},
   "outputs": [],
   "source": [
    "mycascade = Cascade(myfn, 1, 2, c = 'foo')\n",
    "mycascade"
   ]
  },
  {
   "cell_type": "code",
   "execution_count": null,
   "id": "golden-bowling",
   "metadata": {},
   "outputs": [],
   "source": [
    "mycascade.hashID"
   ]
  },
  {
   "cell_type": "code",
   "execution_count": null,
   "id": "gross-necklace",
   "metadata": {},
   "outputs": [],
   "source": [
    "class Schema(type, FuncyIncisable):\n",
    "    def __new__(cls, name, bases, dic, *args, **kwargs):\n",
    "        "
   ]
  },
  {
   "cell_type": "code",
   "execution_count": null,
   "id": "broken-montgomery",
   "metadata": {},
   "outputs": [],
   "source": [
    "import random"
   ]
  },
  {
   "cell_type": "code",
   "execution_count": null,
   "id": "inappropriate-jungle",
   "metadata": {},
   "outputs": [],
   "source": [
    "mydict = {}\n",
    "for i in range(int(1e7)):\n",
    "    mydict[i] = str(i)"
   ]
  },
  {
   "cell_type": "code",
   "execution_count": null,
   "id": "offensive-compound",
   "metadata": {},
   "outputs": [],
   "source": [
    "mydict[int(1e6)]"
   ]
  },
  {
   "cell_type": "code",
   "execution_count": null,
   "id": "suited-bidding",
   "metadata": {},
   "outputs": [],
   "source": []
  }
 ],
 "metadata": {
  "kernelspec": {
   "display_name": "Python 3",
   "language": "python",
   "name": "python3"
  },
  "language_info": {
   "codemirror_mode": {
    "name": "ipython",
    "version": 3
   },
   "file_extension": ".py",
   "mimetype": "text/x-python",
   "name": "python",
   "nbconvert_exporter": "python",
   "pygments_lexer": "ipython3",
   "version": "3.8.6"
  }
 },
 "nbformat": 4,
 "nbformat_minor": 5
}
