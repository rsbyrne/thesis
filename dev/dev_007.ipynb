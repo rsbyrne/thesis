{
 "cells": [
  {
   "cell_type": "code",
   "execution_count": null,
   "id": "municipal-accessory",
   "metadata": {},
   "outputs": [],
   "source": [
    "from thesis_initialise import *"
   ]
  },
  {
   "cell_type": "code",
   "execution_count": null,
   "id": "studied-dream",
   "metadata": {},
   "outputs": [],
   "source": [
    "from everest.funcy import Fn"
   ]
  },
  {
   "cell_type": "code",
   "execution_count": null,
   "id": "dirty-token",
   "metadata": {},
   "outputs": [],
   "source": [
    "from everest.funcy.generic import *\n",
    "\n",
    "from collections.abc import *"
   ]
  },
  {
   "cell_type": "code",
   "execution_count": null,
   "id": "surprising-canada",
   "metadata": {},
   "outputs": [],
   "source": [
    "issubclass(tuple, FuncyDeepIncisor)"
   ]
  },
  {
   "cell_type": "code",
   "execution_count": null,
   "id": "biological-rebate",
   "metadata": {},
   "outputs": [],
   "source": [
    "issubclass(tuple, FuncyStruct)"
   ]
  },
  {
   "cell_type": "code",
   "execution_count": null,
   "id": "alive-newsletter",
   "metadata": {},
   "outputs": [],
   "source": [
    "import numpy as np\n",
    "class MyArr(np.ndarray, FuncyArray):\n",
    "    @property\n",
    "    def dtype(self):\n",
    "        return super().dtype.type"
   ]
  },
  {
   "cell_type": "code",
   "execution_count": null,
   "id": "municipal-enzyme",
   "metadata": {},
   "outputs": [],
   "source": [
    "class MyClass(FuncyIncisable, Sequence):\n",
    "    def __init__(self, iterable = []):\n",
    "        self._content = list(iterable)\n",
    "    def __len__(self):\n",
    "        return len(self._content)\n",
    "    @property\n",
    "    def shape(self):\n",
    "        return (len(self),)\n",
    "    def _getitem_strict(self, arg):\n",
    "        return self._content[arg]\n",
    "    def _getitem_broad(self, arg):\n",
    "        return self._content[arg]\n",
    "    def _getitem_deep(self, arg):\n",
    "        return self.__class__(self.__getitem__(sub) for sub in arg)\n",
    "    def __repr__(self):\n",
    "        return self._content.__repr__()\n",
    "myobj = MyClass(range(10))\n",
    "print(myobj[0])\n",
    "print(myobj[2:5])\n",
    "print(myobj[0, 1:3, 4])"
   ]
  },
  {
   "cell_type": "code",
   "execution_count": null,
   "id": "productive-graph",
   "metadata": {},
   "outputs": [],
   "source": [
    "from collections.abc import *"
   ]
  },
  {
   "cell_type": "code",
   "execution_count": null,
   "id": "starting-elite",
   "metadata": {},
   "outputs": [],
   "source": [
    "issubclass(tuple, Sequence)"
   ]
  },
  {
   "cell_type": "code",
   "execution_count": null,
   "id": "controversial-computer",
   "metadata": {},
   "outputs": [],
   "source": [
    "import numpy as np"
   ]
  },
  {
   "cell_type": "code",
   "execution_count": null,
   "id": "polar-cleaner",
   "metadata": {},
   "outputs": [],
   "source": [
    "myarr = np.random.rand(3, 5, 2, 3, 4)"
   ]
  },
  {
   "cell_type": "code",
   "execution_count": null,
   "id": "civil-danish",
   "metadata": {},
   "outputs": [],
   "source": [
    "myarr[0, ..., 0, ..., 0]"
   ]
  },
  {
   "cell_type": "code",
   "execution_count": null,
   "id": "final-vaccine",
   "metadata": {},
   "outputs": [],
   "source": [
    "mytup = tuple((1, ..., 3))"
   ]
  },
  {
   "cell_type": "code",
   "execution_count": null,
   "id": "rational-recognition",
   "metadata": {},
   "outputs": [],
   "source": [
    "dir(mytup)"
   ]
  },
  {
   "cell_type": "code",
   "execution_count": null,
   "id": "altered-grove",
   "metadata": {},
   "outputs": [],
   "source": []
  }
 ],
 "metadata": {
  "kernelspec": {
   "display_name": "Python 3",
   "language": "python",
   "name": "python3"
  },
  "language_info": {
   "codemirror_mode": {
    "name": "ipython",
    "version": 3
   },
   "file_extension": ".py",
   "mimetype": "text/x-python",
   "name": "python",
   "nbconvert_exporter": "python",
   "pygments_lexer": "ipython3",
   "version": "3.8.6"
  }
 },
 "nbformat": 4,
 "nbformat_minor": 5
}
