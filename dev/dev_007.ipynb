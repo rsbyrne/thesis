{
 "cells": [
  {
   "cell_type": "code",
   "execution_count": 1,
   "id": "municipal-accessory",
   "metadata": {},
   "outputs": [],
   "source": [
    "from thesis_initialise import *"
   ]
  },
  {
   "cell_type": "code",
   "execution_count": 2,
   "id": "studied-dream",
   "metadata": {},
   "outputs": [],
   "source": [
    "from everest.funcy import Fn"
   ]
  },
  {
   "cell_type": "code",
   "execution_count": 3,
   "id": "dirty-token",
   "metadata": {},
   "outputs": [],
   "source": [
    "from everest.funcy.generic import *\n",
    "\n",
    "from collections.abc import *"
   ]
  },
  {
   "cell_type": "code",
   "execution_count": 4,
   "id": "surprising-canada",
   "metadata": {},
   "outputs": [
    {
     "data": {
      "text/plain": [
       "True"
      ]
     },
     "execution_count": 4,
     "metadata": {},
     "output_type": "execute_result"
    }
   ],
   "source": [
    "issubclass(tuple, FuncyDeepIncisor)"
   ]
  },
  {
   "cell_type": "code",
   "execution_count": 5,
   "id": "biological-rebate",
   "metadata": {},
   "outputs": [
    {
     "data": {
      "text/plain": [
       "True"
      ]
     },
     "execution_count": 5,
     "metadata": {},
     "output_type": "execute_result"
    }
   ],
   "source": [
    "issubclass(tuple, FuncyStruct)"
   ]
  },
  {
   "cell_type": "code",
   "execution_count": null,
   "id": "alive-newsletter",
   "metadata": {},
   "outputs": [],
   "source": [
    "import numpy as np\n",
    "class MyArr(np.ndarray, FuncyArray):\n",
    "    @property\n",
    "    def dtype(self):\n",
    "        return super().dtype.type"
   ]
  },
  {
   "cell_type": "code",
   "execution_count": null,
   "id": "municipal-enzyme",
   "metadata": {},
   "outputs": [],
   "source": [
    "class MyClass(FuncyIncisable, Sequence):\n",
    "    def __init__(self, iterable = []):\n",
    "        self._content = list(iterable)\n",
    "    def __len__(self):\n",
    "        return len(self._content)\n",
    "    @property\n",
    "    def shape(self):\n",
    "        return (len(self),)\n",
    "    def _getitem_strict(self, arg):\n",
    "        return self._content[arg]\n",
    "    def _getitem_broad(self, arg):\n",
    "        return self._content[arg]\n",
    "    def _getitem_deep(self, arg):\n",
    "        return self.__class__(self.__getitem__(sub) for sub in arg)\n",
    "    def __repr__(self):\n",
    "        return self._content.__repr__()\n",
    "myobj = MyClass(range(10))\n",
    "print(myobj[0])\n",
    "print(myobj[2:5])\n",
    "print(myobj[0, 1:3, 4])"
   ]
  },
  {
   "cell_type": "code",
   "execution_count": null,
   "id": "productive-graph",
   "metadata": {},
   "outputs": [],
   "source": [
    "from collections.abc import *"
   ]
  },
  {
   "cell_type": "code",
   "execution_count": null,
   "id": "starting-elite",
   "metadata": {},
   "outputs": [],
   "source": [
    "issubclass(tuple, Sequence)"
   ]
  },
  {
   "cell_type": "code",
   "execution_count": 6,
   "id": "controversial-computer",
   "metadata": {},
   "outputs": [],
   "source": [
    "import numpy as np"
   ]
  },
  {
   "cell_type": "code",
   "execution_count": 16,
   "id": "polar-cleaner",
   "metadata": {},
   "outputs": [],
   "source": [
    "myarr = np.random.rand(3, 5, 2, 3, 4)"
   ]
  },
  {
   "cell_type": "code",
   "execution_count": 18,
   "id": "civil-danish",
   "metadata": {},
   "outputs": [
    {
     "ename": "IndexError",
     "evalue": "an index can only have a single ellipsis ('...')",
     "output_type": "error",
     "traceback": [
      "\u001b[0;31m---------------------------------------------------------------------------\u001b[0m",
      "\u001b[0;31mIndexError\u001b[0m                                Traceback (most recent call last)",
      "\u001b[0;32m<ipython-input-18-b7d19744a048>\u001b[0m in \u001b[0;36m<module>\u001b[0;34m\u001b[0m\n\u001b[0;32m----> 1\u001b[0;31m \u001b[0mmyarr\u001b[0m\u001b[0;34m[\u001b[0m\u001b[0;36m0\u001b[0m\u001b[0;34m,\u001b[0m \u001b[0;34m...\u001b[0m\u001b[0;34m,\u001b[0m \u001b[0;36m0\u001b[0m\u001b[0;34m,\u001b[0m \u001b[0;34m...\u001b[0m\u001b[0;34m,\u001b[0m \u001b[0;36m0\u001b[0m\u001b[0;34m]\u001b[0m\u001b[0;34m\u001b[0m\u001b[0;34m\u001b[0m\u001b[0m\n\u001b[0m",
      "\u001b[0;31mIndexError\u001b[0m: an index can only have a single ellipsis ('...')"
     ]
    }
   ],
   "source": [
    "myarr[0, ..., 0, ..., 0]"
   ]
  },
  {
   "cell_type": "code",
   "execution_count": 21,
   "id": "final-vaccine",
   "metadata": {},
   "outputs": [],
   "source": [
    "mytup = tuple((1, ..., 3))"
   ]
  },
  {
   "cell_type": "code",
   "execution_count": 23,
   "id": "rational-recognition",
   "metadata": {},
   "outputs": [
    {
     "data": {
      "text/plain": [
       "['__add__',\n",
       " '__class__',\n",
       " '__contains__',\n",
       " '__delattr__',\n",
       " '__dir__',\n",
       " '__doc__',\n",
       " '__eq__',\n",
       " '__format__',\n",
       " '__ge__',\n",
       " '__getattribute__',\n",
       " '__getitem__',\n",
       " '__getnewargs__',\n",
       " '__gt__',\n",
       " '__hash__',\n",
       " '__init__',\n",
       " '__init_subclass__',\n",
       " '__iter__',\n",
       " '__le__',\n",
       " '__len__',\n",
       " '__lt__',\n",
       " '__mul__',\n",
       " '__ne__',\n",
       " '__new__',\n",
       " '__reduce__',\n",
       " '__reduce_ex__',\n",
       " '__repr__',\n",
       " '__rmul__',\n",
       " '__setattr__',\n",
       " '__sizeof__',\n",
       " '__str__',\n",
       " '__subclasshook__',\n",
       " 'count',\n",
       " 'index']"
      ]
     },
     "execution_count": 23,
     "metadata": {},
     "output_type": "execute_result"
    }
   ],
   "source": [
    "dir(mytup)"
   ]
  },
  {
   "cell_type": "code",
   "execution_count": null,
   "id": "altered-grove",
   "metadata": {},
   "outputs": [],
   "source": []
  }
 ],
 "metadata": {
  "kernelspec": {
   "display_name": "Python 3",
   "language": "python",
   "name": "python3"
  },
  "language_info": {
   "codemirror_mode": {
    "name": "ipython",
    "version": 3
   },
   "file_extension": ".py",
   "mimetype": "text/x-python",
   "name": "python",
   "nbconvert_exporter": "python",
   "pygments_lexer": "ipython3",
   "version": "3.8.6"
  }
 },
 "nbformat": 4,
 "nbformat_minor": 5
}
