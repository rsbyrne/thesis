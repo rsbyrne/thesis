{
 "cells": [
  {
   "cell_type": "code",
   "execution_count": 1,
   "metadata": {},
   "outputs": [],
   "source": [
    "from thesis_initialise import *"
   ]
  },
  {
   "cell_type": "code",
   "execution_count": 2,
   "metadata": {},
   "outputs": [
    {
     "name": "stdout",
     "output_type": "stream",
     "text": [
      "1 2 3 4 5 6 7 8 () 9 10 11 110 1100 12 13 14 15 16 {}\n"
     ]
    }
   ],
   "source": [
    "def testfunc(a, b,\n",
    "        c,\n",
    "        d = 4, # another comment\n",
    "        /,\n",
    "        e: int = 5,\n",
    "        # stuff\n",
    "            f = 6,\n",
    "            g = 7,\n",
    "        h = 8,\n",
    "        *args,\n",
    "        # morestuff\n",
    "            i,\n",
    "            j = 10,\n",
    "            # k\n",
    "                k0 = 11,\n",
    "                k1 = 110,\n",
    "                k2 = 1100,\n",
    "            l = 12,\n",
    "        m = 13,\n",
    "        # bonusstuff\n",
    "            n = 14,\n",
    "        # morebonusstuff\n",
    "            o = 15,\n",
    "        # _ignore\n",
    "            fee = 'fee', fie = 'fie', foe = 'foe',\n",
    "            fum = 'fum',\n",
    "            # subignore\n",
    "                boo = 'boo',\n",
    "        p = 16,\n",
    "        **kwargs,\n",
    "        ):\n",
    "    print(a, b, c, d, e, f, g, h, args, i, j, k0, k1, k2, l, m, n, o, p, kwargs)\n",
    "\n",
    "class A:\n",
    "    def testfunc(a, b,\n",
    "            c,\n",
    "            d = 4, # another comment\n",
    "            /,\n",
    "            e: int = 5,\n",
    "            # stuff\n",
    "                f = 6,\n",
    "                g = 7,\n",
    "            h = 8,\n",
    "            *args,\n",
    "            # morestuff\n",
    "                i,\n",
    "                j = 10,\n",
    "                # k\n",
    "                    k0 = 11,\n",
    "                    k1 = 110,\n",
    "                    k2 = 1100,\n",
    "                l = 12,\n",
    "            m = 13,\n",
    "            # bonusstuff\n",
    "                n = 14,\n",
    "            # morebonusstuff\n",
    "                o = 15,\n",
    "            # _ignore\n",
    "                fee = 'fee', fie = 'fie', foe = 'foe',\n",
    "                fum = 'fum',\n",
    "                # subignore\n",
    "                    boo = 'boo',\n",
    "            p = 16,\n",
    "            **kwargs,\n",
    "            ):\n",
    "        print(a, b, c, d, e, f, g, h, args, i, j, k0, k1, k2, l, m, n, o, p, kwargs)\n",
    "testfunc(1, 2, 3, i = 9)"
   ]
  },
  {
   "cell_type": "code",
   "execution_count": 3,
   "metadata": {},
   "outputs": [],
   "source": [
    "from everest.cascade.cascade import Cascade\n",
    "from everest.cascade.signature import get_paramlevels, get_hierarchy, get_cascade, Signature"
   ]
  },
  {
   "cell_type": "code",
   "execution_count": 4,
   "metadata": {},
   "outputs": [
    {
     "data": {
      "text/plain": [
       "[(0, [<Parameter \"a\">, <Parameter \"b\">]),\n",
       " (0, [<Parameter \"c\">]),\n",
       " (0, [<Parameter \"d=4\">]),\n",
       " (0, []),\n",
       " (0, [<Parameter \"e: int = 5\">]),\n",
       " (0, 'stuff'),\n",
       " (1, [<Parameter \"f=6\">]),\n",
       " (1, [<Parameter \"g=7\">]),\n",
       " (0, [<Parameter \"h=8\">]),\n",
       " (0, [<Parameter \"*args\">]),\n",
       " (0, 'morestuff'),\n",
       " (1, [<Parameter \"i\">]),\n",
       " (1, [<Parameter \"j=10\">]),\n",
       " (1, 'k'),\n",
       " (2, [<Parameter \"k0=11\">]),\n",
       " (2, [<Parameter \"k1=110\">]),\n",
       " (2, [<Parameter \"k2=1100\">]),\n",
       " (1, [<Parameter \"l=12\">]),\n",
       " (0, [<Parameter \"m=13\">]),\n",
       " (0, 'bonusstuff'),\n",
       " (1, [<Parameter \"n=14\">]),\n",
       " (0, 'morebonusstuff'),\n",
       " (1, [<Parameter \"o=15\">]),\n",
       " (0, '_ignore'),\n",
       " (1,\n",
       "  [<Parameter \"fee='fee'\">, <Parameter \"fie='fie'\">, <Parameter \"foe='foe'\">]),\n",
       " (1, [<Parameter \"fum='fum'\">]),\n",
       " (1, 'subignore'),\n",
       " (2, [<Parameter \"boo='boo'\">]),\n",
       " (0, [<Parameter \"p=16\">]),\n",
       " (0, [<Parameter \"**kwargs\">]),\n",
       " (0, [])]"
      ]
     },
     "execution_count": 4,
     "metadata": {},
     "output_type": "execute_result"
    }
   ],
   "source": [
    "mylevs = get_paramlevels(testfunc)\n",
    "mylevs"
   ]
  },
  {
   "cell_type": "code",
   "execution_count": 5,
   "metadata": {},
   "outputs": [
    {
     "data": {
      "text/plain": [
       "[(0, [<Parameter \"a\">, <Parameter \"b\">]),\n",
       " (0, [<Parameter \"c\">]),\n",
       " (0, [<Parameter \"d=4\">]),\n",
       " (0, []),\n",
       " (0, [<Parameter \"e: int = 5\">]),\n",
       " (0, 'stuff'),\n",
       " (1, [<Parameter \"f=6\">]),\n",
       " (1, [<Parameter \"g=7\">]),\n",
       " (0, [<Parameter \"h=8\">]),\n",
       " (0, [<Parameter \"*args\">]),\n",
       " (0, 'morestuff'),\n",
       " (1, [<Parameter \"i\">]),\n",
       " (1, [<Parameter \"j=10\">]),\n",
       " (1, 'k'),\n",
       " (2, [<Parameter \"k0=11\">]),\n",
       " (2, [<Parameter \"k1=110\">]),\n",
       " (2, [<Parameter \"k2=1100\">]),\n",
       " (1, [<Parameter \"l=12\">]),\n",
       " (0, [<Parameter \"m=13\">]),\n",
       " (0, 'bonusstuff'),\n",
       " (1, [<Parameter \"n=14\">]),\n",
       " (0, 'morebonusstuff'),\n",
       " (1, [<Parameter \"o=15\">]),\n",
       " (0, '_ignore'),\n",
       " (1,\n",
       "  [<Parameter \"fee='fee'\">, <Parameter \"fie='fie'\">, <Parameter \"foe='foe'\">]),\n",
       " (1, [<Parameter \"fum='fum'\">]),\n",
       " (1, 'subignore'),\n",
       " (2, [<Parameter \"boo='boo'\">]),\n",
       " (0, [<Parameter \"p=16\">]),\n",
       " (0, [<Parameter \"**kwargs\">]),\n",
       " (0, [])]"
      ]
     },
     "execution_count": 5,
     "metadata": {},
     "output_type": "execute_result"
    }
   ],
   "source": [
    "mylevs = get_paramlevels(A.testfunc)\n",
    "mylevs"
   ]
  },
  {
   "cell_type": "code",
   "execution_count": 6,
   "metadata": {},
   "outputs": [
    {
     "data": {
      "text/plain": [
       "Hierarchy({\n",
       "    'a': <Parameter \"a\">,\n",
       "    'b': <Parameter \"b\">,\n",
       "    'c': <Parameter \"c\">,\n",
       "    'd': <Parameter \"d=4\">,\n",
       "    'e': <Parameter \"e: int = 5\">,\n",
       "    'stuff': Hierarchy({ 'f': <Parameter \"f=6\">, 'g': <Parameter \"g=7\"> }),\n",
       "    'h': <Parameter \"h=8\">,\n",
       "    'args': <Parameter \"*args\">,\n",
       "    'morestuff': Hierarchy({\n",
       "        'i': <Parameter \"i\">,\n",
       "        'j': <Parameter \"j=10\">,\n",
       "        'k': Hierarchy({\n",
       "            'k0': <Parameter \"k0=11\">,\n",
       "            'k1': <Parameter \"k1=110\">,\n",
       "            'k2': <Parameter \"k2=1100\">\n",
       "            }),\n",
       "        'l': <Parameter \"l=12\">\n",
       "        }),\n",
       "    'm': <Parameter \"m=13\">,\n",
       "    'bonusstuff': Hierarchy({\n",
       "        'n': <Parameter \"n=14\">,\n",
       "        'o': <Parameter \"o=15\">,\n",
       "        'fee': <Parameter \"fee='fee'\">,\n",
       "        'fie': <Parameter \"fie='fie'\">,\n",
       "        'foe': <Parameter \"foe='foe'\">,\n",
       "        'fum': <Parameter \"fum='fum'\">,\n",
       "        'subignore': Hierarchy({ 'boo': <Parameter \"boo='boo'\"> })\n",
       "        }),\n",
       "    'p': <Parameter \"p=16\">,\n",
       "    'kwargs': <Parameter \"**kwargs\">\n",
       "    })"
      ]
     },
     "execution_count": 6,
     "metadata": {},
     "output_type": "execute_result"
    }
   ],
   "source": [
    "myhier = get_hierarchy(testfunc)\n",
    "myhier"
   ]
  },
  {
   "cell_type": "code",
   "execution_count": 7,
   "metadata": {},
   "outputs": [
    {
     "data": {
      "text/plain": [
       "Cascade({\n",
       "    'a': <Parameter \"a\">,\n",
       "    'b': <Parameter \"b\">,\n",
       "    'c': <Parameter \"c\">,\n",
       "    'd': <Parameter \"d=4\">,\n",
       "    'e': <Parameter \"e: int = 5\">,\n",
       "    'stuff': Cascade({ 'f': <Parameter \"f=6\">, 'g': <Parameter \"g=7\"> }),\n",
       "    'h': <Parameter \"h=8\">,\n",
       "    'args': <Parameter \"*args\">,\n",
       "    'morestuff': Cascade({\n",
       "        'i': <Parameter \"i\">,\n",
       "        'j': <Parameter \"j=10\">,\n",
       "        'k': Cascade({\n",
       "            'k0': <Parameter \"k0=11\">,\n",
       "            'k1': <Parameter \"k1=110\">,\n",
       "            'k2': <Parameter \"k2=1100\">\n",
       "            }),\n",
       "        'l': <Parameter \"l=12\">\n",
       "        }),\n",
       "    'm': <Parameter \"m=13\">,\n",
       "    'bonusstuff': Cascade({\n",
       "        'n': <Parameter \"n=14\">,\n",
       "        'o': <Parameter \"o=15\">,\n",
       "        'fee': <Parameter \"fee='fee'\">,\n",
       "        'fie': <Parameter \"fie='fie'\">,\n",
       "        'foe': <Parameter \"foe='foe'\">,\n",
       "        'fum': <Parameter \"fum='fum'\">,\n",
       "        'subignore': Cascade({ 'boo': <Parameter \"boo='boo'\"> })\n",
       "        }),\n",
       "    'p': <Parameter \"p=16\">,\n",
       "    'kwargs': <Parameter \"**kwargs\">\n",
       "    })"
      ]
     },
     "execution_count": 7,
     "metadata": {},
     "output_type": "execute_result"
    }
   ],
   "source": [
    "mycasc = get_cascade(testfunc)\n",
    "mycasc"
   ]
  },
  {
   "cell_type": "code",
   "execution_count": 8,
   "metadata": {},
   "outputs": [
    {
     "data": {
      "text/plain": [
       "Signature({\n",
       "    'a': <Parameter \"a\">,\n",
       "    'b': <Parameter \"b\">,\n",
       "    'c': <Parameter \"c\">,\n",
       "    'd': <Parameter \"d=4\">,\n",
       "    'e': <Parameter \"e: int = 5\">,\n",
       "    'stuff': Signature({ 'f': <Parameter \"f=6\">, 'g': <Parameter \"g=7\"> }),\n",
       "    'h': <Parameter \"h=8\">,\n",
       "    'args': <Parameter \"*args\">,\n",
       "    'morestuff': Signature({\n",
       "        'i': <Parameter \"i\">,\n",
       "        'j': <Parameter \"j=10\">,\n",
       "        'k': Signature({\n",
       "            'k0': <Parameter \"k0=11\">,\n",
       "            'k1': <Parameter \"k1=110\">,\n",
       "            'k2': <Parameter \"k2=1100\">\n",
       "            }),\n",
       "        'l': <Parameter \"l=12\">\n",
       "        }),\n",
       "    'm': <Parameter \"m=13\">,\n",
       "    'bonusstuff': Signature({\n",
       "        'n': <Parameter \"n=14\">,\n",
       "        'o': <Parameter \"o=15\">,\n",
       "        'fee': <Parameter \"fee='fee'\">,\n",
       "        'fie': <Parameter \"fie='fie'\">,\n",
       "        'foe': <Parameter \"foe='foe'\">,\n",
       "        'fum': <Parameter \"fum='fum'\">,\n",
       "        'subignore': Signature({ 'boo': <Parameter \"boo='boo'\"> })\n",
       "        }),\n",
       "    'p': <Parameter \"p=16\">,\n",
       "    'kwargs': <Parameter \"**kwargs\">\n",
       "    })"
      ]
     },
     "execution_count": 8,
     "metadata": {},
     "output_type": "execute_result"
    }
   ],
   "source": [
    "mysig = Signature(testfunc)\n",
    "mysig"
   ]
  },
  {
   "cell_type": "code",
   "execution_count": 9,
   "metadata": {},
   "outputs": [
    {
     "data": {
      "text/plain": [
       "Signature({\n",
       "    'c': <Parameter \"c\">,\n",
       "    'd': <Parameter \"d=4\">,\n",
       "    'stuff': Signature({ 'f': <Parameter \"f=6\">, 'g': <Parameter \"g=7\"> }),\n",
       "    'h': <Parameter \"h=8\">,\n",
       "    'args': <Parameter \"*args\">,\n",
       "    'morestuff': Signature({\n",
       "        'i': <Parameter \"i\">,\n",
       "        'j': <Parameter \"j=10\">,\n",
       "        'k': Signature({\n",
       "            'k0': <Parameter \"k0=11\">,\n",
       "            'k1': <Parameter \"k1=110\">,\n",
       "            'k2': <Parameter \"k2=1100\">\n",
       "            }),\n",
       "        'l': <Parameter \"l=12\">\n",
       "        }),\n",
       "    'm': <Parameter \"m=13\">,\n",
       "    'bonusstuff': Signature({\n",
       "        'n': <Parameter \"n=14\">,\n",
       "        'o': <Parameter \"o=15\">,\n",
       "        'fee': <Parameter \"fee='fee'\">,\n",
       "        'fie': <Parameter \"fie='fie'\">,\n",
       "        'foe': <Parameter \"foe='foe'\">,\n",
       "        'fum': <Parameter \"fum='fum'\">,\n",
       "        'subignore': Signature({ 'boo': <Parameter \"boo='boo'\"> })\n",
       "        }),\n",
       "    'p': <Parameter \"p=16\">,\n",
       "    'kwargs': <Parameter \"**kwargs\">\n",
       "    })"
      ]
     },
     "execution_count": 9,
     "metadata": {},
     "output_type": "execute_result"
    }
   ],
   "source": [
    "myskip = Signature(testfunc, skip = 2, skipkeys = {'e'})\n",
    "myskip"
   ]
  },
  {
   "cell_type": "code",
   "execution_count": 24,
   "metadata": {},
   "outputs": [
    {
     "data": {
      "text/plain": [
       "Bound({\n",
       "    'c': 1,\n",
       "    'd': 4,\n",
       "    'stuff': Bound({ 'f': 6, 'g': 7 }),\n",
       "    'h': 8,\n",
       "    'args': inspect._empty,\n",
       "    'morestuff': Bound({\n",
       "        'i': 'bananas',\n",
       "        'j': 10,\n",
       "        'k': Bound({ 'k0': 11, 'k1': 110, 'k2': 1100 }),\n",
       "        'l': 12\n",
       "        }),\n",
       "    'm': 13,\n",
       "    'bonusstuff': Bound({\n",
       "        'n': 14,\n",
       "        'o': 15,\n",
       "        'fee': 'fee',\n",
       "        'fie': 'fie',\n",
       "        'foe': 'foe',\n",
       "        'fum': 'fum',\n",
       "        'subignore': Bound({ 'boo': 'boo' })\n",
       "        }),\n",
       "    'p': 16,\n",
       "    'kwargs': {'newkwarg': 'mynewkwarg'}\n",
       "    })"
      ]
     },
     "execution_count": 24,
     "metadata": {},
     "output_type": "execute_result"
    }
   ],
   "source": [
    "mybnd = myskip.bind(1, i = 'bananas', newkwarg = 'mynewkwarg')\n",
    "mybnd"
   ]
  },
  {
   "cell_type": "code",
   "execution_count": 25,
   "metadata": {},
   "outputs": [
    {
     "data": {
      "text/plain": [
       "'attempt-maritime'"
      ]
     },
     "execution_count": 25,
     "metadata": {},
     "output_type": "execute_result"
    }
   ],
   "source": [
    "mybnd.hashID"
   ]
  },
  {
   "cell_type": "code",
   "execution_count": 26,
   "metadata": {},
   "outputs": [
    {
     "data": {
      "text/plain": [
       "Bound({\n",
       "    'c': 1,\n",
       "    'd': 4,\n",
       "    'stuff': Bound({ 'f': 6, 'g': 7 }),\n",
       "    'h': 8,\n",
       "    'args': inspect._empty,\n",
       "    'morestuff': Bound({\n",
       "        'i': 'bananas',\n",
       "        'j': 10,\n",
       "        'k': Bound({ 'k0': 11, 'k1': 110, 'k2': 1100 }),\n",
       "        'l': 12\n",
       "        }),\n",
       "    'm': 13,\n",
       "    'bonusstuff': Bound({\n",
       "        'n': 14,\n",
       "        'o': 15,\n",
       "        'fee': 'fee',\n",
       "        'fie': 'fie',\n",
       "        'foe': 'foe',\n",
       "        'fum': 'fum',\n",
       "        'subignore': Bound({ 'boo': 'boo' })\n",
       "        }),\n",
       "    'p': 16,\n",
       "    'kwargs': {'newkwarg': 'mynewkwarg'}\n",
       "    })"
      ]
     },
     "execution_count": 26,
     "metadata": {},
     "output_type": "execute_result"
    }
   ],
   "source": [
    "mybnd2 = myskip.bind(1, 4, i = 'bananas', newkwarg = 'mynewkwarg')\n",
    "mybnd2"
   ]
  },
  {
   "cell_type": "code",
   "execution_count": 27,
   "metadata": {},
   "outputs": [
    {
     "data": {
      "text/plain": [
       "'attempt-maritime'"
      ]
     },
     "execution_count": 27,
     "metadata": {},
     "output_type": "execute_result"
    }
   ],
   "source": [
    "mybnd2.hashID"
   ]
  },
  {
   "cell_type": "code",
   "execution_count": null,
   "metadata": {},
   "outputs": [],
   "source": []
  }
 ],
 "metadata": {
  "kernelspec": {
   "display_name": "Python 3",
   "language": "python",
   "name": "python3"
  },
  "language_info": {
   "codemirror_mode": {
    "name": "ipython",
    "version": 3
   },
   "file_extension": ".py",
   "mimetype": "text/x-python",
   "name": "python",
   "nbconvert_exporter": "python",
   "pygments_lexer": "ipython3",
   "version": "3.8.5"
  }
 },
 "nbformat": 4,
 "nbformat_minor": 4
}
