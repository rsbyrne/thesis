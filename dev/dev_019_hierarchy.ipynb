{
 "cells": [
  {
   "cell_type": "code",
   "execution_count": null,
   "metadata": {},
   "outputs": [],
   "source": [
    "from thesis_initialise import *"
   ]
  },
  {
   "cell_type": "code",
   "execution_count": null,
   "metadata": {},
   "outputs": [],
   "source": [
    "def testfunc(a, b,\n",
    "        c,\n",
    "        d = 4, # another comment\n",
    "        /,\n",
    "        e: int = 5,\n",
    "        # stuff\n",
    "            f = 6,\n",
    "            g = 7,\n",
    "        h = 8,\n",
    "        *args,\n",
    "        # morestuff\n",
    "            i,\n",
    "            j = 10,\n",
    "            # k\n",
    "                k0 = 11,\n",
    "                k1 = 110,\n",
    "                k2 = 1100,\n",
    "            l = 12,\n",
    "        m = 13,\n",
    "        # bonusstuff\n",
    "            n = 14,\n",
    "        # morebonusstuff\n",
    "            o = 15,\n",
    "        # _ignore\n",
    "            fee = 'fee', fie = 'fie', foe = 'foe',\n",
    "            fum = 'fum',\n",
    "            # subignore\n",
    "                boo = 'boo',\n",
    "        p = 16,\n",
    "        **kwargs,\n",
    "        ):\n",
    "    print(a, b, c, d, e, f, g, h, args, i, j, k0, k1, k2, l, m, n, o, p, kwargs)\n",
    "\n",
    "class A:\n",
    "    def testfunc(a, b,\n",
    "            c,\n",
    "            d = 4, # another comment\n",
    "            /,\n",
    "            e: int = 5,\n",
    "            # stuff\n",
    "                f = 6,\n",
    "                g = 7,\n",
    "            h = 8,\n",
    "            *args,\n",
    "            # morestuff\n",
    "                i,\n",
    "                j = 10,\n",
    "                # k\n",
    "                    k0 = 11,\n",
    "                    k1 = 110,\n",
    "                    k2 = 1100,\n",
    "                l = 12,\n",
    "            m = 13,\n",
    "            # bonusstuff\n",
    "                n = 14,\n",
    "            # morebonusstuff\n",
    "                o = 15,\n",
    "            # _ignore\n",
    "                fee = 'fee', fie = 'fie', foe = 'foe',\n",
    "                fum = 'fum',\n",
    "                # subignore\n",
    "                    boo = 'boo',\n",
    "            p = 16,\n",
    "            **kwargs,\n",
    "            ):\n",
    "        print(a, b, c, d, e, f, g, h, args, i, j, k0, k1, k2, l, m, n, o, p, kwargs)\n",
    "testfunc(1, 2, 3, i = 9)"
   ]
  },
  {
   "cell_type": "code",
   "execution_count": null,
   "metadata": {},
   "outputs": [],
   "source": [
    "from everest.cascade.cascade import Cascade\n",
    "from everest.cascade.signature import get_paramlevels, get_hierarchy, get_cascade, Signature"
   ]
  },
  {
   "cell_type": "code",
   "execution_count": null,
   "metadata": {},
   "outputs": [],
   "source": [
    "mylevs = get_paramlevels(testfunc)\n",
    "mylevs"
   ]
  },
  {
   "cell_type": "code",
   "execution_count": null,
   "metadata": {},
   "outputs": [],
   "source": [
    "mylevs = get_paramlevels(A.testfunc)\n",
    "mylevs"
   ]
  },
  {
   "cell_type": "code",
   "execution_count": null,
   "metadata": {},
   "outputs": [],
   "source": [
    "myhier = get_hierarchy(testfunc)\n",
    "myhier"
   ]
  },
  {
   "cell_type": "code",
   "execution_count": null,
   "metadata": {},
   "outputs": [],
   "source": [
    "mycasc = get_cascade(testfunc)\n",
    "mycasc"
   ]
  },
  {
   "cell_type": "code",
   "execution_count": null,
   "metadata": {},
   "outputs": [],
   "source": [
    "mysig = Signature(testfunc)\n",
    "mysig"
   ]
  },
  {
   "cell_type": "code",
   "execution_count": null,
   "metadata": {},
   "outputs": [],
   "source": [
    "myskip = Signature(testfunc, skip = 2, skipkeys = {'e'})\n",
    "myskip"
   ]
  },
  {
   "cell_type": "code",
   "execution_count": null,
   "metadata": {},
   "outputs": [],
   "source": [
    "mybnd = myskip.bind(1, i = 'bananas', newkwarg = 'mynewkwarg')\n",
    "mybnd"
   ]
  },
  {
   "cell_type": "code",
   "execution_count": null,
   "metadata": {},
   "outputs": [],
   "source": [
    "mybnd.hashID"
   ]
  },
  {
   "cell_type": "code",
   "execution_count": null,
   "metadata": {},
   "outputs": [],
   "source": [
    "mybnd2 = myskip.bind(1, 4, i = 'bananas', newkwarg = 'mynewkwarg')\n",
    "mybnd2"
   ]
  },
  {
   "cell_type": "code",
   "execution_count": null,
   "metadata": {},
   "outputs": [],
   "source": [
    "mybnd2.hashID"
   ]
  },
  {
   "cell_type": "code",
   "execution_count": null,
   "metadata": {},
   "outputs": [],
   "source": []
  }
 ],
 "metadata": {
  "kernelspec": {
   "display_name": "Python 3",
   "language": "python",
   "name": "python3"
  },
  "language_info": {
   "codemirror_mode": {
    "name": "ipython",
    "version": 3
   },
   "file_extension": ".py",
   "mimetype": "text/x-python",
   "name": "python",
   "nbconvert_exporter": "python",
   "pygments_lexer": "ipython3",
   "version": "3.8.5"
  }
 },
 "nbformat": 4,
 "nbformat_minor": 4
}
