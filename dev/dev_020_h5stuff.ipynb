{
 "cells": [
  {
   "cell_type": "code",
   "execution_count": null,
   "id": "continent-juvenile",
   "metadata": {},
   "outputs": [],
   "source": [
    "import re"
   ]
  },
  {
   "cell_type": "code",
   "execution_count": null,
   "id": "featured-austin",
   "metadata": {},
   "outputs": [],
   "source": [
    "re"
   ]
  },
  {
   "cell_type": "code",
   "execution_count": null,
   "id": "advisory-switch",
   "metadata": {},
   "outputs": [],
   "source": [
    "import re\n",
    "\n",
    "txt = \"The rain in Spain\"\n",
    "x = re.search(\"^The.*Spain$\", txt)"
   ]
  },
  {
   "cell_type": "code",
   "execution_count": null,
   "id": "vanilla-condition",
   "metadata": {},
   "outputs": [],
   "source": [
    "import re\n",
    "p = re.compile('[a-z]+')"
   ]
  },
  {
   "cell_type": "code",
   "execution_count": null,
   "id": "optimum-finger",
   "metadata": {},
   "outputs": [],
   "source": [
    "p.match('ab')"
   ]
  },
  {
   "cell_type": "code",
   "execution_count": null,
   "id": "documentary-display",
   "metadata": {},
   "outputs": [],
   "source": []
  },
  {
   "cell_type": "code",
   "execution_count": null,
   "id": "activated-relationship",
   "metadata": {},
   "outputs": [],
   "source": [
    "instring = 'abcdefg'"
   ]
  },
  {
   "cell_type": "code",
   "execution_count": null,
   "id": "polar-flavor",
   "metadata": {},
   "outputs": [],
   "source": [
    "%%timeit\n",
    "isreg(instring)"
   ]
  },
  {
   "cell_type": "code",
   "execution_count": null,
   "id": "opening-configuration",
   "metadata": {},
   "outputs": [],
   "source": [
    "METACHARS = set('.^$*+?{}[]\\|()')\n",
    "def isreg(instring):\n",
    "    return bool(set(instring).intersection(METACHARS))\n",
    "def getregs(instring):\n",
    "    return (re.compile(st) if isreg(st) else st for )"
   ]
  },
  {
   "cell_type": "code",
   "execution_count": null,
   "id": "bibliographic-aerospace",
   "metadata": {},
   "outputs": [],
   "source": [
    "isreg(instring)"
   ]
  },
  {
   "cell_type": "code",
   "execution_count": null,
   "id": "friendly-supply",
   "metadata": {},
   "outputs": [],
   "source": [
    "myset = set()"
   ]
  },
  {
   "cell_type": "code",
   "execution_count": null,
   "id": "solved-expression",
   "metadata": {},
   "outputs": [],
   "source": [
    "dir(myset)"
   ]
  },
  {
   "cell_type": "code",
   "execution_count": null,
   "id": "alert-culture",
   "metadata": {},
   "outputs": [],
   "source": [
    "set(instring"
   ]
  },
  {
   "cell_type": "code",
   "execution_count": null,
   "id": "unnecessary-seating",
   "metadata": {},
   "outputs": [],
   "source": []
  },
  {
   "cell_type": "code",
   "execution_count": null,
   "id": "grateful-mouse",
   "metadata": {},
   "outputs": [],
   "source": []
  },
  {
   "cell_type": "code",
   "execution_count": null,
   "id": "breeding-dependence",
   "metadata": {},
   "outputs": [],
   "source": [
    "p = re.compile('abc')"
   ]
  },
  {
   "cell_type": "code",
   "execution_count": null,
   "id": "extraordinary-stranger",
   "metadata": {},
   "outputs": [],
   "source": [
    "re.findall"
   ]
  },
  {
   "cell_type": "code",
   "execution_count": null,
   "id": "veterinary-angle",
   "metadata": {},
   "outputs": [],
   "source": [
    "p.match('ab')"
   ]
  },
  {
   "cell_type": "code",
   "execution_count": null,
   "id": "brown-pursuit",
   "metadata": {},
   "outputs": [],
   "source": [
    "dir(re)"
   ]
  },
  {
   "cell_type": "code",
   "execution_count": null,
   "id": "incredible-perth",
   "metadata": {},
   "outputs": [],
   "source": [
    "import h5py\n",
    "import numpy as np\n",
    "\n",
    "with h5py.File('file1.h5', mode = 'w') as h5file:\n",
    "    grp = h5file.require_group('foo')\n",
    "    grp['bah'] = np.ones(100)\n",
    "\n",
    "with h5py.File('file2.h5', mode = 'w') as h5file:\n",
    "    h5file['bah'] = h5py.ExternalLink('file1.h5', '/foo/bah')\n",
    "\n",
    "# with h5py.File('file2.h5', mode = 'r') as h5file:\n",
    "#     dset = h5file['bah']\n",
    "\n",
    "# with h5py.File('file2.h5', mode = 'r+') as h5file:\n",
    "#     dset2 = h5file['bah']"
   ]
  },
  {
   "cell_type": "code",
   "execution_count": null,
   "id": "greenhouse-gilbert",
   "metadata": {},
   "outputs": [],
   "source": [
    "h5file = h5py.File('file2.h5', mode = 'r')"
   ]
  },
  {
   "cell_type": "code",
   "execution_count": null,
   "id": "dried-reunion",
   "metadata": {},
   "outputs": [],
   "source": [
    "h5file.attrs"
   ]
  },
  {
   "cell_type": "code",
   "execution_count": null,
   "id": "hazardous-october",
   "metadata": {},
   "outputs": [],
   "source": [
    "h5file.keys()"
   ]
  },
  {
   "cell_type": "code",
   "execution_count": null,
   "id": "realistic-jaguar",
   "metadata": {},
   "outputs": [],
   "source": [
    "h5"
   ]
  },
  {
   "cell_type": "code",
   "execution_count": null,
   "id": "wireless-suspect",
   "metadata": {},
   "outputs": [],
   "source": [
    "import re"
   ]
  },
  {
   "cell_type": "code",
   "execution_count": null,
   "id": "pressed-configuration",
   "metadata": {},
   "outputs": [],
   "source": [
    "import fnmatch"
   ]
  },
  {
   "cell_type": "code",
   "execution_count": null,
   "id": "affecting-residence",
   "metadata": {},
   "outputs": [],
   "source": [
    "help(fnmatch)"
   ]
  },
  {
   "cell_type": "code",
   "execution_count": null,
   "id": "reverse-compilation",
   "metadata": {},
   "outputs": [],
   "source": [
    "%%timeit\n",
    "fnmatch.fnmatch('ab*', 'abc')"
   ]
  },
  {
   "cell_type": "code",
   "execution_count": null,
   "id": "resident-treasury",
   "metadata": {},
   "outputs": [],
   "source": [
    "%%timeit\n",
    "'abc' == 'abc'"
   ]
  },
  {
   "cell_type": "code",
   "execution_count": null,
   "id": "stretch-complaint",
   "metadata": {},
   "outputs": [],
   "source": []
  },
  {
   "cell_type": "code",
   "execution_count": null,
   "id": "shaped-interim",
   "metadata": {},
   "outputs": [],
   "source": [
    "match = re.match('a\\wc\\w*', 'abcde')"
   ]
  },
  {
   "cell_type": "code",
   "execution_count": null,
   "id": "filled-waste",
   "metadata": {},
   "outputs": [],
   "source": [
    "match.span"
   ]
  },
  {
   "cell_type": "code",
   "execution_count": null,
   "id": "figured-awareness",
   "metadata": {},
   "outputs": [],
   "source": []
  },
  {
   "cell_type": "code",
   "execution_count": null,
   "id": "surrounded-exhaust",
   "metadata": {},
   "outputs": [],
   "source": [
    "with h5py.File('test.h5', mode = 'w') as h5file:\n",
    "    grp1 = h5file.require_group('grp1')\n",
    "    grp2 = grp1.require_group('grp2')\n",
    "    dset = grp2.require_dataset('foo', 100, int)"
   ]
  },
  {
   "cell_type": "code",
   "execution_count": null,
   "id": "floppy-story",
   "metadata": {},
   "outputs": [],
   "source": [
    "h5file = h5py.File('test.h5', mode = 'r')"
   ]
  },
  {
   "cell_type": "code",
   "execution_count": null,
   "id": "promotional-karma",
   "metadata": {},
   "outputs": [],
   "source": [
    "h5file.visit(print)"
   ]
  },
  {
   "cell_type": "code",
   "execution_count": null,
   "id": "continuing-moore",
   "metadata": {},
   "outputs": [],
   "source": [
    "h5file.visit()"
   ]
  },
  {
   "cell_type": "code",
   "execution_count": null,
   "id": "appropriate-admission",
   "metadata": {},
   "outputs": [],
   "source": [
    "dir(h5file)"
   ]
  },
  {
   "cell_type": "code",
   "execution_count": null,
   "id": "quantitative-routine",
   "metadata": {},
   "outputs": [],
   "source": [
    "dir(h5file.id)"
   ]
  },
  {
   "cell_type": "code",
   "execution_count": null,
   "id": "coated-jackson",
   "metadata": {},
   "outputs": [],
   "source": [
    "h5file.id.links.visit(print)"
   ]
  },
  {
   "cell_type": "code",
   "execution_count": null,
   "id": "diverse-deviation",
   "metadata": {},
   "outputs": [],
   "source": [
    "dir(h5file.id)"
   ]
  },
  {
   "cell_type": "code",
   "execution_count": null,
   "id": "scheduled-respondent",
   "metadata": {},
   "outputs": [],
   "source": [
    "dir(h5file.id.link)"
   ]
  },
  {
   "cell_type": "code",
   "execution_count": null,
   "id": "contemporary-capitol",
   "metadata": {},
   "outputs": [],
   "source": [
    "dir(h5file.id.links)"
   ]
  },
  {
   "cell_type": "code",
   "execution_count": null,
   "id": "accessible-furniture",
   "metadata": {},
   "outputs": [],
   "source": [
    "h5file.id.links.iterate(print)"
   ]
  },
  {
   "cell_type": "code",
   "execution_count": null,
   "id": "canadian-trainer",
   "metadata": {},
   "outputs": [],
   "source": [
    "h5file.id.links.visit(print)"
   ]
  },
  {
   "cell_type": "code",
   "execution_count": null,
   "id": "atomic-equipment",
   "metadata": {},
   "outputs": [],
   "source": [
    "b'grp1'"
   ]
  },
  {
   "cell_type": "code",
   "execution_count": null,
   "id": "capital-colony",
   "metadata": {},
   "outputs": [],
   "source": [
    "mygrp = h5file['grp1']"
   ]
  },
  {
   "cell_type": "code",
   "execution_count": null,
   "id": "light-description",
   "metadata": {},
   "outputs": [],
   "source": [
    "h5file.keys()"
   ]
  },
  {
   "cell_type": "code",
   "execution_count": null,
   "id": "clean-jesus",
   "metadata": {},
   "outputs": [],
   "source": [
    "mygrp.keys()"
   ]
  },
  {
   "cell_type": "code",
   "execution_count": null,
   "id": "portable-gothic",
   "metadata": {},
   "outputs": [],
   "source": [
    "h5file['*/grp2']"
   ]
  },
  {
   "cell_type": "code",
   "execution_count": null,
   "id": "acceptable-glance",
   "metadata": {},
   "outputs": [],
   "source": [
    "print('\\U000F0111')"
   ]
  },
  {
   "cell_type": "code",
   "execution_count": null,
   "id": "agreed-simple",
   "metadata": {},
   "outputs": [],
   "source": [
    "import glob"
   ]
  },
  {
   "cell_type": "code",
   "execution_count": null,
   "id": "capital-simpson",
   "metadata": {},
   "outputs": [],
   "source": [
    "glob.glob('*')"
   ]
  },
  {
   "cell_type": "code",
   "execution_count": null,
   "id": "adopted-answer",
   "metadata": {},
   "outputs": [],
   "source": [
    "h5file.visit(lambda name: None)"
   ]
  },
  {
   "cell_type": "code",
   "execution_count": null,
   "id": "imported-vertex",
   "metadata": {},
   "outputs": [],
   "source": [
    "h5file.id.links.iterate(print)"
   ]
  },
  {
   "cell_type": "code",
   "execution_count": null,
   "id": "manufactured-focus",
   "metadata": {},
   "outputs": [],
   "source": []
  }
 ],
 "metadata": {
  "kernelspec": {
   "display_name": "Python 3",
   "language": "python",
   "name": "python3"
  },
  "language_info": {
   "codemirror_mode": {
    "name": "ipython",
    "version": 3
   },
   "file_extension": ".py",
   "mimetype": "text/x-python",
   "name": "python",
   "nbconvert_exporter": "python",
   "pygments_lexer": "ipython3",
   "version": "3.8.6"
  }
 },
 "nbformat": 4,
 "nbformat_minor": 5
}
