{
 "cells": [
  {
   "cell_type": "code",
   "execution_count": null,
   "id": "continent-juvenile",
   "metadata": {},
   "outputs": [],
   "source": [
    "import re"
   ]
  },
  {
   "cell_type": "code",
   "execution_count": null,
   "id": "featured-austin",
   "metadata": {},
   "outputs": [],
   "source": [
    "re"
   ]
  },
  {
   "cell_type": "code",
   "execution_count": null,
   "id": "advisory-switch",
   "metadata": {},
   "outputs": [],
   "source": [
    "import re\n",
    "\n",
    "txt = \"The rain in Spain\"\n",
    "x = re.search(\"^The.*Spain$\", txt)"
   ]
  },
  {
   "cell_type": "code",
   "execution_count": null,
   "id": "vanilla-condition",
   "metadata": {},
   "outputs": [],
   "source": [
    "import re\n",
    "p = re.compile('[a-z]+')"
   ]
  },
  {
   "cell_type": "code",
   "execution_count": null,
   "id": "optimum-finger",
   "metadata": {},
   "outputs": [],
   "source": [
    "p.match('ab')"
   ]
  },
  {
   "cell_type": "code",
   "execution_count": null,
   "id": "documentary-display",
   "metadata": {},
   "outputs": [],
   "source": []
  },
  {
   "cell_type": "code",
   "execution_count": null,
   "id": "activated-relationship",
   "metadata": {},
   "outputs": [],
   "source": [
    "instring = 'abcdefg'"
   ]
  },
  {
   "cell_type": "code",
   "execution_count": null,
   "id": "polar-flavor",
   "metadata": {},
   "outputs": [],
   "source": [
    "%%timeit\n",
    "isreg(instring)"
   ]
  },
  {
   "cell_type": "code",
   "execution_count": null,
   "id": "opening-configuration",
   "metadata": {},
   "outputs": [],
   "source": [
    "METACHARS = set('.^$*+?{}[]\\|()')\n",
    "def isreg(instring):\n",
    "    return bool(set(instring).intersection(METACHARS))\n",
    "def getregs(instring):\n",
    "    return (re.compile(st) if isreg(st) else st for )"
   ]
  },
  {
   "cell_type": "code",
   "execution_count": null,
   "id": "bibliographic-aerospace",
   "metadata": {},
   "outputs": [],
   "source": [
    "isreg(instring)"
   ]
  },
  {
   "cell_type": "code",
   "execution_count": null,
   "id": "friendly-supply",
   "metadata": {},
   "outputs": [],
   "source": [
    "myset = set()"
   ]
  },
  {
   "cell_type": "code",
   "execution_count": null,
   "id": "solved-expression",
   "metadata": {},
   "outputs": [],
   "source": [
    "dir(myset)"
   ]
  },
  {
   "cell_type": "code",
   "execution_count": null,
   "id": "alert-culture",
   "metadata": {},
   "outputs": [],
   "source": [
    "set(instring"
   ]
  },
  {
   "cell_type": "code",
   "execution_count": null,
   "id": "unnecessary-seating",
   "metadata": {},
   "outputs": [],
   "source": []
  },
  {
   "cell_type": "code",
   "execution_count": null,
   "id": "grateful-mouse",
   "metadata": {},
   "outputs": [],
   "source": []
  },
  {
   "cell_type": "code",
   "execution_count": null,
   "id": "breeding-dependence",
   "metadata": {},
   "outputs": [],
   "source": [
    "p = re.compile('abc')"
   ]
  },
  {
   "cell_type": "code",
   "execution_count": null,
   "id": "extraordinary-stranger",
   "metadata": {},
   "outputs": [],
   "source": [
    "re.findall"
   ]
  },
  {
   "cell_type": "code",
   "execution_count": null,
   "id": "veterinary-angle",
   "metadata": {},
   "outputs": [],
   "source": [
    "p.match('ab')"
   ]
  },
  {
   "cell_type": "code",
   "execution_count": null,
   "id": "brown-pursuit",
   "metadata": {},
   "outputs": [],
   "source": [
    "dir(re)"
   ]
  },
  {
   "cell_type": "code",
   "execution_count": 1,
   "id": "incredible-perth",
   "metadata": {},
   "outputs": [],
   "source": [
    "import h5py\n",
    "import numpy as np\n",
    "\n",
    "with h5py.File('file1.h5', mode = 'w') as h5file:\n",
    "    grp = h5file.require_group('foo')\n",
    "    grp['bah'] = np.ones(100)\n",
    "\n",
    "with h5py.File('file2.h5', mode = 'w') as h5file:\n",
    "    h5file['bah'] = h5py.ExternalLink('file1.h5', '/foo/bah')\n",
    "\n",
    "# with h5py.File('file2.h5', mode = 'r') as h5file:\n",
    "#     dset = h5file['bah']\n",
    "\n",
    "# with h5py.File('file2.h5', mode = 'r+') as h5file:\n",
    "#     dset2 = h5file['bah']"
   ]
  },
  {
   "cell_type": "code",
   "execution_count": 2,
   "id": "greenhouse-gilbert",
   "metadata": {},
   "outputs": [],
   "source": [
    "h5file = h5py.File('file2.h5', mode = 'r')"
   ]
  },
  {
   "cell_type": "code",
   "execution_count": 3,
   "id": "dried-reunion",
   "metadata": {},
   "outputs": [
    {
     "data": {
      "text/plain": [
       "<Attributes of HDF5 object at 140566341521136>"
      ]
     },
     "execution_count": 3,
     "metadata": {},
     "output_type": "execute_result"
    }
   ],
   "source": [
    "h5file.attrs"
   ]
  },
  {
   "cell_type": "code",
   "execution_count": null,
   "id": "hazardous-october",
   "metadata": {},
   "outputs": [],
   "source": [
    "h5file.keys()"
   ]
  },
  {
   "cell_type": "code",
   "execution_count": null,
   "id": "realistic-jaguar",
   "metadata": {},
   "outputs": [],
   "source": [
    "h5"
   ]
  },
  {
   "cell_type": "code",
   "execution_count": 4,
   "id": "wireless-suspect",
   "metadata": {},
   "outputs": [],
   "source": [
    "import re"
   ]
  },
  {
   "cell_type": "code",
   "execution_count": 13,
   "id": "pressed-configuration",
   "metadata": {},
   "outputs": [],
   "source": [
    "import fnmatch"
   ]
  },
  {
   "cell_type": "code",
   "execution_count": 8,
   "id": "affecting-residence",
   "metadata": {},
   "outputs": [
    {
     "name": "stdout",
     "output_type": "stream",
     "text": [
      "Help on module fnmatch:\n",
      "\n",
      "NAME\n",
      "    fnmatch - Filename matching with shell patterns.\n",
      "\n",
      "MODULE REFERENCE\n",
      "    https://docs.python.org/3.8/library/fnmatch\n",
      "    \n",
      "    The following documentation is automatically generated from the Python\n",
      "    source files.  It may be incomplete, incorrect or include features that\n",
      "    are considered implementation detail and may vary between Python\n",
      "    implementations.  When in doubt, consult the module reference at the\n",
      "    location listed above.\n",
      "\n",
      "DESCRIPTION\n",
      "    fnmatch(FILENAME, PATTERN) matches according to the local convention.\n",
      "    fnmatchcase(FILENAME, PATTERN) always takes case in account.\n",
      "    \n",
      "    The functions operate by translating the pattern into a regular\n",
      "    expression.  They cache the compiled regular expressions for speed.\n",
      "    \n",
      "    The function translate(PATTERN) returns a regular expression\n",
      "    corresponding to PATTERN.  (It does not compile it.)\n",
      "\n",
      "FUNCTIONS\n",
      "    filter(names, pat)\n",
      "        Return the subset of the list NAMES that match PAT.\n",
      "    \n",
      "    fnmatch(name, pat)\n",
      "        Test whether FILENAME matches PATTERN.\n",
      "        \n",
      "        Patterns are Unix shell style:\n",
      "        \n",
      "        *       matches everything\n",
      "        ?       matches any single character\n",
      "        [seq]   matches any character in seq\n",
      "        [!seq]  matches any char not in seq\n",
      "        \n",
      "        An initial period in FILENAME is not special.\n",
      "        Both FILENAME and PATTERN are first case-normalized\n",
      "        if the operating system requires it.\n",
      "        If you don't want this, use fnmatchcase(FILENAME, PATTERN).\n",
      "    \n",
      "    fnmatchcase(name, pat)\n",
      "        Test whether FILENAME matches PATTERN, including case.\n",
      "        \n",
      "        This is a version of fnmatch() which doesn't case-normalize\n",
      "        its arguments.\n",
      "    \n",
      "    translate(pat)\n",
      "        Translate a shell PATTERN to a regular expression.\n",
      "        \n",
      "        There is no way to quote meta-characters.\n",
      "\n",
      "DATA\n",
      "    __all__ = ['filter', 'fnmatch', 'fnmatchcase', 'translate']\n",
      "\n",
      "FILE\n",
      "    /usr/lib/python3.8/fnmatch.py\n",
      "\n",
      "\n"
     ]
    }
   ],
   "source": [
    "help(fnmatch)"
   ]
  },
  {
   "cell_type": "code",
   "execution_count": 45,
   "id": "reverse-compilation",
   "metadata": {},
   "outputs": [
    {
     "name": "stdout",
     "output_type": "stream",
     "text": [
      "894 ns ± 0.752 ns per loop (mean ± std. dev. of 7 runs, 1000000 loops each)\n"
     ]
    }
   ],
   "source": [
    "%%timeit\n",
    "fnmatch.fnmatch('ab*', 'abc')"
   ]
  },
  {
   "cell_type": "code",
   "execution_count": 32,
   "id": "resident-treasury",
   "metadata": {},
   "outputs": [
    {
     "name": "stdout",
     "output_type": "stream",
     "text": [
      "32.6 ns ± 0.0688 ns per loop (mean ± std. dev. of 7 runs, 10000000 loops each)\n"
     ]
    }
   ],
   "source": [
    "%%timeit\n",
    "'abc' == 'abc'"
   ]
  },
  {
   "cell_type": "code",
   "execution_count": null,
   "id": "stretch-complaint",
   "metadata": {},
   "outputs": [],
   "source": []
  },
  {
   "cell_type": "code",
   "execution_count": 42,
   "id": "shaped-interim",
   "metadata": {},
   "outputs": [],
   "source": [
    "match = re.match('a\\wc\\w*', 'abcde')"
   ]
  },
  {
   "cell_type": "code",
   "execution_count": 44,
   "id": "filled-waste",
   "metadata": {},
   "outputs": [
    {
     "data": {
      "text/plain": [
       "<re.Match object; span=(0, 5), match='abcde'>"
      ]
     },
     "execution_count": 44,
     "metadata": {},
     "output_type": "execute_result"
    }
   ],
   "source": [
    "match.span"
   ]
  },
  {
   "cell_type": "code",
   "execution_count": null,
   "id": "figured-awareness",
   "metadata": {},
   "outputs": [],
   "source": []
  },
  {
   "cell_type": "code",
   "execution_count": null,
   "id": "surrounded-exhaust",
   "metadata": {},
   "outputs": [],
   "source": [
    "with h5py.File('test.h5', mode = 'w') as h5file:\n",
    "    grp1 = h5file.require_group('grp1')\n",
    "    grp2 = grp1.require_group('grp2')\n",
    "    dset = grp2.require_dataset('foo', 100, int)"
   ]
  },
  {
   "cell_type": "code",
   "execution_count": null,
   "id": "floppy-story",
   "metadata": {},
   "outputs": [],
   "source": [
    "h5file = h5py.File('test.h5', mode = 'r')"
   ]
  },
  {
   "cell_type": "code",
   "execution_count": null,
   "id": "promotional-karma",
   "metadata": {},
   "outputs": [],
   "source": [
    "h5file.visit(print)"
   ]
  },
  {
   "cell_type": "code",
   "execution_count": null,
   "id": "continuing-moore",
   "metadata": {},
   "outputs": [],
   "source": [
    "h5file.visit()"
   ]
  },
  {
   "cell_type": "code",
   "execution_count": null,
   "id": "appropriate-admission",
   "metadata": {},
   "outputs": [],
   "source": [
    "dir(h5file)"
   ]
  },
  {
   "cell_type": "code",
   "execution_count": null,
   "id": "quantitative-routine",
   "metadata": {},
   "outputs": [],
   "source": [
    "dir(h5file.id)"
   ]
  },
  {
   "cell_type": "code",
   "execution_count": null,
   "id": "coated-jackson",
   "metadata": {},
   "outputs": [],
   "source": [
    "h5file.id.links.visit(print)"
   ]
  },
  {
   "cell_type": "code",
   "execution_count": null,
   "id": "diverse-deviation",
   "metadata": {},
   "outputs": [],
   "source": [
    "dir(h5file.id)"
   ]
  },
  {
   "cell_type": "code",
   "execution_count": null,
   "id": "scheduled-respondent",
   "metadata": {},
   "outputs": [],
   "source": [
    "dir(h5file.id.link)"
   ]
  },
  {
   "cell_type": "code",
   "execution_count": null,
   "id": "contemporary-capitol",
   "metadata": {},
   "outputs": [],
   "source": [
    "dir(h5file.id.links)"
   ]
  },
  {
   "cell_type": "code",
   "execution_count": null,
   "id": "accessible-furniture",
   "metadata": {},
   "outputs": [],
   "source": [
    "h5file.id.links.iterate(print)"
   ]
  },
  {
   "cell_type": "code",
   "execution_count": null,
   "id": "canadian-trainer",
   "metadata": {},
   "outputs": [],
   "source": [
    "h5file.id.links.visit(print)"
   ]
  },
  {
   "cell_type": "code",
   "execution_count": null,
   "id": "atomic-equipment",
   "metadata": {},
   "outputs": [],
   "source": [
    "b'grp1'"
   ]
  },
  {
   "cell_type": "code",
   "execution_count": null,
   "id": "capital-colony",
   "metadata": {},
   "outputs": [],
   "source": [
    "mygrp = h5file['grp1']"
   ]
  },
  {
   "cell_type": "code",
   "execution_count": null,
   "id": "light-description",
   "metadata": {},
   "outputs": [],
   "source": [
    "h5file.keys()"
   ]
  },
  {
   "cell_type": "code",
   "execution_count": null,
   "id": "clean-jesus",
   "metadata": {},
   "outputs": [],
   "source": [
    "mygrp.keys()"
   ]
  },
  {
   "cell_type": "code",
   "execution_count": null,
   "id": "portable-gothic",
   "metadata": {},
   "outputs": [],
   "source": [
    "h5file['*/grp2']"
   ]
  },
  {
   "cell_type": "code",
   "execution_count": null,
   "id": "acceptable-glance",
   "metadata": {},
   "outputs": [],
   "source": [
    "print('\\U000F0111')"
   ]
  },
  {
   "cell_type": "code",
   "execution_count": null,
   "id": "agreed-simple",
   "metadata": {},
   "outputs": [],
   "source": [
    "import glob"
   ]
  },
  {
   "cell_type": "code",
   "execution_count": null,
   "id": "capital-simpson",
   "metadata": {},
   "outputs": [],
   "source": [
    "glob.glob('*')"
   ]
  },
  {
   "cell_type": "code",
   "execution_count": null,
   "id": "adopted-answer",
   "metadata": {},
   "outputs": [],
   "source": [
    "h5file.visit(lambda name: None)"
   ]
  },
  {
   "cell_type": "code",
   "execution_count": null,
   "id": "imported-vertex",
   "metadata": {},
   "outputs": [],
   "source": [
    "h5file.id.links.iterate(print)"
   ]
  },
  {
   "cell_type": "code",
   "execution_count": null,
   "id": "manufactured-focus",
   "metadata": {},
   "outputs": [],
   "source": []
  }
 ],
 "metadata": {
  "kernelspec": {
   "display_name": "Python 3",
   "language": "python",
   "name": "python3"
  },
  "language_info": {
   "codemirror_mode": {
    "name": "ipython",
    "version": 3
   },
   "file_extension": ".py",
   "mimetype": "text/x-python",
   "name": "python",
   "nbconvert_exporter": "python",
   "pygments_lexer": "ipython3",
   "version": "3.8.6"
  }
 },
 "nbformat": 4,
 "nbformat_minor": 5
}
