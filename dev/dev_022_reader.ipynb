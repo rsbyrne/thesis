{
 "cells": [
  {
   "cell_type": "code",
   "execution_count": null,
   "id": "hearing-great",
   "metadata": {},
   "outputs": [],
   "source": [
    "import aliases"
   ]
  },
  {
   "cell_type": "code",
   "execution_count": null,
   "id": "finite-inspector",
   "metadata": {},
   "outputs": [],
   "source": [
    "from everest.h5anchor import Reader"
   ]
  },
  {
   "cell_type": "code",
   "execution_count": null,
   "id": "romance-milan",
   "metadata": {},
   "outputs": [],
   "source": [
    "%%time\n",
    "reader = Reader('allout', aliases.datadir, 1)\n",
    "cut = reader['*/.type']\n",
    "transform = cut == 'Viscoplastic'\n",
    "selection = reader[transform]\n",
    "final = selection['*/.H']\n",
    "final.read()"
   ]
  },
  {
   "cell_type": "code",
   "execution_count": null,
   "id": "regional-compression",
   "metadata": {},
   "outputs": [],
   "source": [
    "%%time\n",
    "reader = Reader('allout', aliases.datadir, 1)\n",
    "cut = reader['*/.type']\n",
    "transform = cut == 'Viscoplastic'\n",
    "selection = reader[transform]\n",
    "final = selection['*/.H']"
   ]
  },
  {
   "cell_type": "code",
   "execution_count": null,
   "id": "personalized-cowboy",
   "metadata": {},
   "outputs": [],
   "source": [
    "%%time\n",
    "_ = reader.basekeys, reader.manifest, reader.basekeydict"
   ]
  },
  {
   "cell_type": "code",
   "execution_count": null,
   "id": "loaded-weight",
   "metadata": {},
   "outputs": [],
   "source": [
    "%%time\n",
    "_ = cut.basekeys, cut.manifest, cut.basekeydict"
   ]
  },
  {
   "cell_type": "code",
   "execution_count": null,
   "id": "anonymous-bunny",
   "metadata": {},
   "outputs": [],
   "source": [
    "%%time\n",
    "_ = transform.basekeys, transform.manifest, transform.basekeydict"
   ]
  },
  {
   "cell_type": "code",
   "execution_count": null,
   "id": "manual-directive",
   "metadata": {},
   "outputs": [],
   "source": [
    "%%time\n",
    "_ = transform.read()"
   ]
  },
  {
   "cell_type": "code",
   "execution_count": null,
   "id": "moved-shoot",
   "metadata": {},
   "outputs": [],
   "source": [
    "%%time\n",
    "_ = selection.basekeys, selection.manifest, selection.basekeydict"
   ]
  },
  {
   "cell_type": "code",
   "execution_count": null,
   "id": "protective-helicopter",
   "metadata": {},
   "outputs": [],
   "source": [
    "%%time\n",
    "_ = final.basekeys, final.manifest, final.basekeydict"
   ]
  },
  {
   "cell_type": "code",
   "execution_count": null,
   "id": "urban-carolina",
   "metadata": {},
   "outputs": [],
   "source": [
    "%%time\n",
    "final.read()"
   ]
  },
  {
   "cell_type": "code",
   "execution_count": null,
   "id": "architectural-syndication",
   "metadata": {},
   "outputs": [],
   "source": [
    "# %%time\n",
    "# allnus = cut['*/#Nu'].data"
   ]
  }
 ],
 "metadata": {
  "kernelspec": {
   "display_name": "Python 3",
   "language": "python",
   "name": "python3"
  },
  "language_info": {
   "codemirror_mode": {
    "name": "ipython",
    "version": 3
   },
   "file_extension": ".py",
   "mimetype": "text/x-python",
   "name": "python",
   "nbconvert_exporter": "python",
   "pygments_lexer": "ipython3",
   "version": "3.8.6"
  }
 },
 "nbformat": 4,
 "nbformat_minor": 5
}
