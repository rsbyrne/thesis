{
 "cells": [
  {
   "cell_type": "code",
   "execution_count": null,
   "id": "finite-country",
   "metadata": {},
   "outputs": [],
   "source": [
    "import aliases"
   ]
  },
  {
   "cell_type": "code",
   "execution_count": null,
   "id": "female-maximum",
   "metadata": {},
   "outputs": [],
   "source": [
    "_osjoin = _os.path.join\n",
    "\n",
    "from everest.h5anchor import disk, globevars\n",
    "from everest import classtools"
   ]
  },
  {
   "cell_type": "code",
   "execution_count": null,
   "id": "curious-inspector",
   "metadata": {},
   "outputs": [],
   "source": [
    "import ast as _ast\n",
    "import pickle as _pickle\n",
    "import os as _os\n",
    "\n",
    "import h5py as _h5py\n",
    "\n",
    "def resolve_eval(strn):\n",
    "    out = _ast.literal_eval(strn)\n",
    "    typout = type(out)\n",
    "    if issubclass(typout, (list, tuple, frozenset)):\n",
    "        return typout(resolve(sub) for sub in out)\n",
    "    return out\n",
    "\n",
    "stringresmeths = dict(\n",
    "    _bytes_ = lambda x: pickle.loads(ast.literal_eval(x)),\n",
    "    _eval_ = resolve_eval,\n",
    "    _string_ = lambda x: x,\n",
    "    )\n",
    "\n",
    "def resolve_str(strn, /):\n",
    "    for key, meth in stringresmeths.items():\n",
    "        if strn.startswith(key):\n",
    "            return meth(strn[len(key):])\n",
    "    return strn\n",
    "\n",
    "def resolve_attrs(attrs):\n",
    "    return {key: resolve(attr) for key, attr in attrs.items()}\n",
    "\n",
    "def resolve_dataset(dset):\n",
    "    return dset[()]\n",
    "\n",
    "def resolve_group(grp):\n",
    "    out = {key: resolve(item) for key, item in grp.items()}\n",
    "    out.update(resolve_attrs(grp.attrs))\n",
    "    return out\n",
    "\n",
    "resmeths = {\n",
    "    str: resolve_str,\n",
    "    _h5py.AttributeManager: resolve_attrs,\n",
    "    _h5py.Dataset: resolve_dataset,\n",
    "    _h5py.Group: resolve_group,\n",
    "    }\n",
    "\n",
    "def resolve(obj):\n",
    "    for key, meth in resmeths.items():\n",
    "        if isinstance(obj, key):\n",
    "            return meth(obj)\n",
    "    return obj"
   ]
  },
  {
   "cell_type": "code",
   "execution_count": null,
   "id": "heard-checklist",
   "metadata": {},
   "outputs": [],
   "source": [
    "def process_query(strn):\n",
    "    split = strn.split('/')\n",
    "    if len(split) > 1:\n",
    "        for sub in split:\n",
    "            yield from process_query(sub)\n",
    "    elif isreg(strn):\n",
    "        yield Reg(strn)\n",
    "    elif isfnmatch(strn):\n",
    "        yield FnMatch(strn)\n",
    "    else:\n",
    "        yield strn\n",
    "\n",
    "class Readlet:\n",
    "    __slots__ = ('reader', 'query')\n",
    "    def __init__(self, reader, query, /):\n",
    "        query = (process_query(query))\n",
    "        self.reader, self.query = reader, query\n",
    "    def read(self):\n",
    "        with self.reader as target:\n",
    "            for subquery in self.query:\n",
    "                try:\n",
    "                    target = subquery(target)\n",
    "                except KeyError:\n",
    "                    target = subquery(target.attrs)\n",
    "            return resolve(target)\n",
    "    def __getitem__(self, key):\n",
    "        return self.reader[_osjoin(*self.query, key)]\n",
    "\n",
    "@classtools.MROClassable\n",
    "class Reader(disk.H5Manager):\n",
    "    mroclasses = ('Readlet',)\n",
    "    mode = 'r'\n",
    "    Readlet = Readlet\n",
    "    def __getitem__(self, query):\n",
    "        return self.Readlet(self, query)"
   ]
  },
  {
   "cell_type": "code",
   "execution_count": null,
   "id": "usual-husband",
   "metadata": {},
   "outputs": [],
   "source": [
    "tuple(process_query('a/b/c'))"
   ]
  },
  {
   "cell_type": "code",
   "execution_count": null,
   "id": "regulation-invite",
   "metadata": {},
   "outputs": [],
   "source": [
    "myreader = Reader('allout', aliases.datadir)"
   ]
  },
  {
   "cell_type": "code",
   "execution_count": null,
   "id": "magnetic-validity",
   "metadata": {},
   "outputs": [],
   "source": [
    "out = myreader['aabaesweuh-luubrbriups']['inputs'].read()"
   ]
  },
  {
   "cell_type": "code",
   "execution_count": null,
   "id": "modular-luxembourg",
   "metadata": {},
   "outputs": [],
   "source": [
    "out"
   ]
  },
  {
   "cell_type": "code",
   "execution_count": null,
   "id": "annual-single",
   "metadata": {},
   "outputs": [],
   "source": [
    "myreader['aabaesweuh-luubrbriups']['inputs']['H'].read()"
   ]
  },
  {
   "cell_type": "code",
   "execution_count": null,
   "id": "alike-blond",
   "metadata": {},
   "outputs": [],
   "source": [
    "%%timeit\n",
    "myreader['aabaesweuh-luubrbriups']['inputs']['H'].read()"
   ]
  },
  {
   "cell_type": "code",
   "execution_count": null,
   "id": "worth-philosophy",
   "metadata": {},
   "outputs": [],
   "source": [
    "with myreader as h5file:\n",
    "    print(type(h5file['aabaesweuh-luubrbriups']['inputs']))"
   ]
  },
  {
   "cell_type": "code",
   "execution_count": null,
   "id": "rapid-feelings",
   "metadata": {},
   "outputs": [],
   "source": []
  },
  {
   "cell_type": "code",
   "execution_count": null,
   "id": "grand-march",
   "metadata": {},
   "outputs": [],
   "source": [
    "myreadlet = myreader['aabaesweuh-luubrbriups']"
   ]
  },
  {
   "cell_type": "code",
   "execution_count": null,
   "id": "earned-rough",
   "metadata": {},
   "outputs": [],
   "source": [
    "myreadlet.read()"
   ]
  },
  {
   "cell_type": "code",
   "execution_count": null,
   "id": "impossible-federal",
   "metadata": {},
   "outputs": [],
   "source": [
    "with myreader.open():\n",
    "    print(len(myreader.h5file.keys()))"
   ]
  },
  {
   "cell_type": "code",
   "execution_count": null,
   "id": "insured-rally",
   "metadata": {},
   "outputs": [],
   "source": [
    "with myreader as h5file:\n",
    "    print(list(h5file.keys())[0]"
   ]
  },
  {
   "cell_type": "code",
   "execution_count": null,
   "id": "democratic-criterion",
   "metadata": {},
   "outputs": [],
   "source": [
    "_h5py.AttributeManager"
   ]
  },
  {
   "cell_type": "code",
   "execution_count": null,
   "id": "expanded-signal",
   "metadata": {},
   "outputs": [],
   "source": [
    "with myreader as h5file:\n",
    "    print(type(h5file['aabaesweuh-luubrbriups'].attrs))"
   ]
  },
  {
   "cell_type": "code",
   "execution_count": null,
   "id": "legendary-processor",
   "metadata": {},
   "outputs": [],
   "source": [
    "def myfn(a, b = 1, /, *, mode = 'b'):\n",
    "    print(a, b, mode)"
   ]
  },
  {
   "cell_type": "code",
   "execution_count": null,
   "id": "expressed-indie",
   "metadata": {},
   "outputs": [],
   "source": [
    "myfn(1, 2)"
   ]
  },
  {
   "cell_type": "code",
   "execution_count": null,
   "id": "french-serbia",
   "metadata": {},
   "outputs": [],
   "source": []
  }
 ],
 "metadata": {
  "kernelspec": {
   "display_name": "Python 3",
   "language": "python",
   "name": "python3"
  },
  "language_info": {
   "codemirror_mode": {
    "name": "ipython",
    "version": 3
   },
   "file_extension": ".py",
   "mimetype": "text/x-python",
   "name": "python",
   "nbconvert_exporter": "python",
   "pygments_lexer": "ipython3",
   "version": "3.8.6"
  }
 },
 "nbformat": 4,
 "nbformat_minor": 5
}
