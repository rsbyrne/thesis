{
 "cells": [
  {
   "cell_type": "code",
   "execution_count": 1,
   "id": "thrown-barcelona",
   "metadata": {},
   "outputs": [],
   "source": [
    "from thesis_initialise import *"
   ]
  },
  {
   "cell_type": "code",
   "execution_count": null,
   "id": "sweet-chile",
   "metadata": {},
   "outputs": [],
   "source": []
  },
  {
   "cell_type": "code",
   "execution_count": null,
   "id": "extended-person",
   "metadata": {},
   "outputs": [],
   "source": []
  },
  {
   "cell_type": "code",
   "execution_count": null,
   "id": "proved-taiwan",
   "metadata": {},
   "outputs": [],
   "source": []
  },
  {
   "cell_type": "code",
   "execution_count": 2,
   "id": "balanced-constraint",
   "metadata": {},
   "outputs": [],
   "source": [
    "# from everest.funcy import generic as _generic"
   ]
  },
  {
   "cell_type": "code",
   "execution_count": 3,
   "id": "identical-stamp",
   "metadata": {},
   "outputs": [],
   "source": [
    "# from abc import abstractmethod as _abstractmethod\n",
    "\n",
    "# class FuncySetlike(_generic.FuncyGeneric):\n",
    "#     @_abstractmethod\n",
    "#     def __len__(self):\n",
    "#         raise _generic.FuncyAbstractMethodException\n",
    "#     @_abstractmethod\n",
    "#     def __iter__(self):\n",
    "#         raise _generic.FuncyAbstractMethodException\n",
    "# class FuncySetlikeReal(FuncySetlike):\n",
    "#     ...\n",
    "# class FuncySetlikeIntegral(FuncySetlikeReal):\n",
    "#     ...\n",
    "# class FuncySetlikeCategorical(FuncySetlike):\n",
    "#     ...\n",
    "\n",
    "# class FuncySetlikeMulti(FuncySetlike):\n",
    "#     @_abstractmethod\n",
    "#     def dims(self):\n",
    "#         raise _generic.FuncyAbstractMethodException"
   ]
  },
  {
   "cell_type": "code",
   "execution_count": 4,
   "id": "caroline-imperial",
   "metadata": {},
   "outputs": [],
   "source": [
    "from everest.funcy import special"
   ]
  },
  {
   "cell_type": "code",
   "execution_count": 7,
   "id": "turkish-confidence",
   "metadata": {},
   "outputs": [],
   "source": [
    "myiter = iter(range(special.infint))"
   ]
  },
  {
   "cell_type": "code",
   "execution_count": null,
   "id": "outer-swiss",
   "metadata": {},
   "outputs": [],
   "source": []
  }
 ],
 "metadata": {
  "kernelspec": {
   "display_name": "Python 3",
   "language": "python",
   "name": "python3"
  },
  "language_info": {
   "codemirror_mode": {
    "name": "ipython",
    "version": 3
   },
   "file_extension": ".py",
   "mimetype": "text/x-python",
   "name": "python",
   "nbconvert_exporter": "python",
   "pygments_lexer": "ipython3",
   "version": "3.8.6"
  }
 },
 "nbformat": 4,
 "nbformat_minor": 5
}
