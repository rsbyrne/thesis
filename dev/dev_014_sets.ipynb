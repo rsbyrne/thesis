{
 "cells": [
  {
   "cell_type": "code",
   "execution_count": 1,
   "id": "humanitarian-cattle",
   "metadata": {},
   "outputs": [],
   "source": [
    "from thesis_initialise import *"
   ]
  },
  {
   "cell_type": "code",
   "execution_count": 2,
   "id": "conditional-concord",
   "metadata": {},
   "outputs": [
    {
     "data": {
      "text/plain": [
       "SeqIterable(funcy.Regular(0, 3, 1)) == [0, 1, 2, 3]"
      ]
     },
     "execution_count": 2,
     "metadata": {},
     "output_type": "execute_result"
    }
   ],
   "source": [
    "Fn[:3].value"
   ]
  },
  {
   "cell_type": "code",
   "execution_count": 4,
   "id": "third-comparative",
   "metadata": {},
   "outputs": [
    {
     "data": {
      "text/plain": [
       "[1, 10, 100, 1000, 10000, 100000]"
      ]
     },
     "execution_count": 4,
     "metadata": {},
     "output_type": "execute_result"
    }
   ],
   "source": [
    "list(myseq.value)"
   ]
  },
  {
   "cell_type": "code",
   "execution_count": 7,
   "id": "sensitive-alignment",
   "metadata": {},
   "outputs": [
    {
     "data": {
      "text/plain": [
       "[0, 9, 18, 27]"
      ]
     },
     "execution_count": 7,
     "metadata": {},
     "output_type": "execute_result"
    }
   ],
   "source": [
    "list(Fn[:30:3].sub[::3].value)"
   ]
  },
  {
   "cell_type": "code",
   "execution_count": 8,
   "id": "cutting-salem",
   "metadata": {},
   "outputs": [],
   "source": [
    "myseq = 10 ** Fn[:5]"
   ]
  },
  {
   "cell_type": "code",
   "execution_count": 9,
   "id": "crucial-surge",
   "metadata": {},
   "outputs": [
    {
     "data": {
      "text/plain": [
       "SeqIterable(funcy.Op{opkey: pow}(10, funcy.Regular(0, 5, 1))) == [1, 10, 100, 1000, 10000, 100000]"
      ]
     },
     "execution_count": 9,
     "metadata": {},
     "output_type": "execute_result"
    }
   ],
   "source": [
    "myseq.value"
   ]
  },
  {
   "cell_type": "code",
   "execution_count": 11,
   "id": "functioning-athletics",
   "metadata": {},
   "outputs": [
    {
     "data": {
      "text/plain": [
       "SeqIterable(funcy.SeqSwathe(funcy.Op{opkey: pow}(10, funcy.Regular(0, 5, 1)), funcy.Regular(2, infint, 1))) == [100, 1000, 10000, 100000]"
      ]
     },
     "execution_count": 11,
     "metadata": {},
     "output_type": "execute_result"
    }
   ],
   "source": [
    "myseq.sub[2:].value"
   ]
  },
  {
   "cell_type": "code",
   "execution_count": 12,
   "id": "encouraging-attribute",
   "metadata": {},
   "outputs": [],
   "source": [
    "myseq = Fn(dict(\n",
    "    a = Fn[:5],\n",
    "    b = Fn[10:100:15],\n",
    "    c = 3\n",
    "    ))"
   ]
  },
  {
   "cell_type": "code",
   "execution_count": 18,
   "id": "widespread-return",
   "metadata": {},
   "outputs": [
    {
     "data": {
      "text/plain": [
       "Fn{'a': 0, 'b': 10, 'c': 3}"
      ]
     },
     "execution_count": 18,
     "metadata": {},
     "output_type": "execute_result"
    }
   ],
   "source": [
    "myseq.sub[0]."
   ]
  },
  {
   "cell_type": "code",
   "execution_count": null,
   "id": "fourth-wednesday",
   "metadata": {},
   "outputs": [],
   "source": [
    "# from everest.funcy import generic as _generic"
   ]
  },
  {
   "cell_type": "code",
   "execution_count": null,
   "id": "metric-burton",
   "metadata": {},
   "outputs": [],
   "source": [
    "# from abc import abstractmethod as _abstractmethod\n",
    "\n",
    "# class FuncySetlike(_generic.FuncyGeneric):\n",
    "#     @_abstractmethod\n",
    "#     def __len__(self):\n",
    "#         raise _generic.FuncyAbstractMethodException\n",
    "#     @_abstractmethod\n",
    "#     def __iter__(self):\n",
    "#         raise _generic.FuncyAbstractMethodException\n",
    "# class FuncySetlikeReal(FuncySetlike):\n",
    "#     ...\n",
    "# class FuncySetlikeIntegral(FuncySetlikeReal):\n",
    "#     ...\n",
    "# class FuncySetlikeCategorical(FuncySetlike):\n",
    "#     ...\n",
    "\n",
    "# class FuncySetlikeMulti(FuncySetlike):\n",
    "#     @_abstractmethod\n",
    "#     def dims(self):\n",
    "#         raise _generic.FuncyAbstractMethodException"
   ]
  },
  {
   "cell_type": "code",
   "execution_count": null,
   "id": "certified-toddler",
   "metadata": {},
   "outputs": [],
   "source": [
    "from everest.funcy import special"
   ]
  },
  {
   "cell_type": "code",
   "execution_count": null,
   "id": "coordinated-state",
   "metadata": {},
   "outputs": [],
   "source": [
    "myiter = iter(range(special.infint))"
   ]
  },
  {
   "cell_type": "code",
   "execution_count": null,
   "id": "noble-recall",
   "metadata": {},
   "outputs": [],
   "source": []
  }
 ],
 "metadata": {
  "kernelspec": {
   "display_name": "Python 3",
   "language": "python",
   "name": "python3"
  },
  "language_info": {
   "codemirror_mode": {
    "name": "ipython",
    "version": 3
   },
   "file_extension": ".py",
   "mimetype": "text/x-python",
   "name": "python",
   "nbconvert_exporter": "python",
   "pygments_lexer": "ipython3",
   "version": "3.8.6"
  }
 },
 "nbformat": 4,
 "nbformat_minor": 5
}
