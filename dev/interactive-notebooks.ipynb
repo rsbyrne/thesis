{
 "cells": [
  {
   "attachments": {},
   "cell_type": "markdown",
   "metadata": {
    "editable": true,
    "slideshow": {
     "slide_type": ""
    },
    "tags": []
   },
   "source": [
    "---\n",
    "title: Generate and Display Rich Outputs\n",
    "short_title: Generate Rich Outputs\n",
    "subtitle: Discover the types of cell outputs and metadata that MyST understands\n",
    "description: MyST allows you to include interactive visualizations directly in your projects using Jupyter Notebooks.\n",
    "thumbnail: ./thumbnails/interactive-notebooks.png\n",
    "---"
   ]
  },
  {
   "attachments": {},
   "cell_type": "markdown",
   "metadata": {
    "editable": true,
    "slideshow": {
     "slide_type": ""
    },
    "tags": []
   },
   "source": [
    "MyST allows you to directly include Jupyter Notebooks in your books, documents and websites. This page of the documentation is actually a Jupyter Notebook that is rendered directly using MyST.\n",
    "\n",
    "See below for several examples.\n",
    "\n",
    "## Supported cell outputs\n",
    "\n",
    "### Interactive visualizations\n",
    "\n",
    "You can include interactive visualizations that were created by executing code in Jupyter.\n",
    "For example, let us import `altair` and create a demo of an interactive plot!"
   ]
  },
  {
   "cell_type": "code",
   "execution_count": null,
   "metadata": {
    "editable": true,
    "slideshow": {
     "slide_type": ""
    },
    "tags": [
     "remove-stderr",
     "remove-stdout"
    ]
   },
   "outputs": [],
   "source": [
    "import altair as alt\n",
    "from vega_datasets import data\n",
    "\n",
    "source = data.cars()\n",
    "brush = alt.selection_interval(encodings=['x'])\n",
    "points = alt.Chart(source).mark_point().encode(\n",
    "    x='Horsepower:Q',\n",
    "    y='Miles_per_Gallon:Q',\n",
    "    size='Acceleration',\n",
    "    color=alt.condition(brush, 'Origin:N', alt.value('lightgray'))\n",
    ").add_params(brush)\n",
    "\n",
    "bars = alt.Chart(source).mark_bar().encode(\n",
    "    y='Origin:N',\n",
    "    color='Origin:N',\n",
    "    x='count(Origin):Q'\n",
    ").transform_filter(brush)"
   ]
  },
  {
   "attachments": {},
   "cell_type": "markdown",
   "metadata": {
    "editable": true,
    "slideshow": {
     "slide_type": ""
    },
    "tags": []
   },
   "source": [
    "We can now plot the `altair` example, which is fully interactive, try dragging in the plot to select cars by their horsepower."
   ]
  },
  {
   "cell_type": "code",
   "execution_count": null,
   "metadata": {
    "editable": true,
    "slideshow": {
     "slide_type": ""
    },
    "tags": [
     "remove-stderr"
    ]
   },
   "outputs": [],
   "source": [
    "#| label: img:altair-horsepower\n",
    "points & bars"
   ]
  },
  {
   "cell_type": "markdown",
   "metadata": {
    "editable": true,
    "slideshow": {
     "slide_type": ""
    },
    "tags": []
   },
   "source": [
    "### Static images\n",
    "\n",
    "Non-interactive images are embedded as PNGs:"
   ]
  },
  {
   "cell_type": "code",
   "execution_count": null,
   "metadata": {
    "editable": true,
    "slideshow": {
     "slide_type": ""
    },
    "tags": []
   },
   "outputs": [],
   "source": [
    "#| label: img:mpl\n",
    "#| caption: Horsepower and miles per gallon, from `vega_datasets`\n",
    "import matplotlib.pyplot as plt\n",
    "fig, ax = plt.subplots()\n",
    "ax.scatter(\"Horsepower\", \"Miles_per_Gallon\",\n",
    "           c=\"Acceleration\", data=data.cars())\n",
    "_ = ax.set(xlabel=\"Horsepower\", ylabel=\"Miles per gallon\",\n",
    "       title=\"Horsepower and miles per gallon\")"
   ]
  },
  {
   "cell_type": "markdown",
   "metadata": {
    "editable": true,
    "slideshow": {
     "slide_type": ""
    },
    "tags": []
   },
   "source": [
    "### Tables and DataFrames\n",
    "\n",
    "This works for non-image outputs as well.\n",
    "For example, below we'll **output a Table via a Pandas DataFrame**.\n",
    "We'll show the contents of a dataset loaded above, along with syntax to [label the cell in order to be embedded later](reuse-jupyter-outputs.md)."
   ]
  },
  {
   "cell_type": "code",
   "execution_count": null,
   "metadata": {
    "editable": true,
    "slideshow": {
     "slide_type": ""
    },
    "tags": []
   },
   "outputs": [],
   "source": [
    "#| label: tbl:data-cars\n",
    "# Take a subset of cars so it displays nicely\n",
    "data.cars().iloc[:5, :5]"
   ]
  },
  {
   "cell_type": "markdown",
   "metadata": {},
   "source": [
    "![](#tbl:data-cars)"
   ]
  },
  {
   "cell_type": "markdown",
   "metadata": {
    "editable": true,
    "slideshow": {
     "slide_type": ""
    },
    "tags": []
   },
   "source": [
    "### Text outputs"
   ]
  },
  {
   "cell_type": "markdown",
   "metadata": {
    "editable": true,
    "slideshow": {
     "slide_type": ""
    },
    "tags": []
   },
   "source": [
    "And here we demonstrate a text-based output."
   ]
  },
  {
   "cell_type": "code",
   "execution_count": null,
   "metadata": {
    "editable": true,
    "slideshow": {
     "slide_type": ""
    },
    "tags": []
   },
   "outputs": [],
   "source": [
    "#| label:zen\n",
    "import this"
   ]
  },
  {
   "cell_type": "markdown",
   "metadata": {
    "editable": true,
    "slideshow": {
     "slide_type": ""
    },
    "tags": []
   },
   "source": [
    "(notebooks:cell-visibility)=\n",
    "\n",
    "## Control cell visibility\n",
    "\n",
    "You can control the visibility of cell inputs and outputs by using **cell metadata tags**.\n",
    "These are special snippets of text that you can attach to a cell in a Jupyter interface like JupyterLab.\n",
    "\n",
    "The following tags are supported.\n",
    "\n",
    "Use the **`remove-input`** tag to remove the cell input:"
   ]
  },
  {
   "cell_type": "code",
   "execution_count": null,
   "metadata": {
    "editable": true,
    "slideshow": {
     "slide_type": ""
    },
    "tags": [
     "remove-input"
    ]
   },
   "outputs": [],
   "source": [
    "print(\"A text output with no input!\")"
   ]
  },
  {
   "cell_type": "markdown",
   "metadata": {
    "editable": true,
    "slideshow": {
     "slide_type": ""
    },
    "tags": []
   },
   "source": [
    "Use the **`remove-output`** tag to remove the cell output but keep the input:"
   ]
  },
  {
   "cell_type": "code",
   "execution_count": null,
   "metadata": {
    "editable": true,
    "slideshow": {
     "slide_type": ""
    },
    "tags": [
     "remove-output"
    ]
   },
   "outputs": [],
   "source": [
    "print(\"The input of a cell with no output!\")"
   ]
  },
  {
   "cell_type": "markdown",
   "metadata": {
    "editable": true,
    "slideshow": {
     "slide_type": ""
    },
    "tags": []
   },
   "source": [
    "Use the **`remove-cell`** tag to entirely remove the entire cell (for example, if it contains sensitive information that you don't want distributed with your MyST document)."
   ]
  },
  {
   "cell_type": "code",
   "execution_count": null,
   "metadata": {
    "editable": true,
    "slideshow": {
     "slide_type": ""
    },
    "tags": [
     "remove-cell"
    ]
   },
   "outputs": [],
   "source": [
    "# THIS IS ONLY FOR DEVELOPERS\n",
    "# It shouldn't show up in the documentation at all.\n",
    "# If it does, it means that there's likely a regression!\n",
    "#label: removed-cell\n",
    "print(\"Removed cell\")"
   ]
  },
  {
   "cell_type": "markdown",
   "metadata": {
    "editable": true,
    "slideshow": {
     "slide_type": ""
    },
    "tags": []
   },
   "source": [
    "## Include notebooks in your MyST site\n",
    "\n",
    "If you are working with Jupyter `*.ipynb` files, just move your notebooks into the project folder or list them in your table of contents to get them to show up in your website or as a document. `myst` will then include your notebook in parsing, and show the full results as soon as you save your notebook, including any interactive figures.\n",
    "\n",
    "To customize the title and other frontmatter, ensure the first Jupyter Notebook cell is a markdown cell, and only includes a `YAML` frontmatter block (i.e. surrounded in `---`)."
   ]
  },
  {
   "cell_type": "markdown",
   "metadata": {
    "editable": true,
    "slideshow": {
     "slide_type": ""
    },
    "tags": []
   },
   "source": [
    "## MyST in Jupyter User Interfaces\n",
    "\n",
    "If you'd like to write and read MyST Markdown in Jupyter interfaces, check out the [JupyterLab MyST Extension](./quickstart-jupyter-lab-myst.md).\n",
    "It allows for rich rendering of MyST markdown, frontmatter, and cross-references directly in JupyterLab."
   ]
  }
 ],
 "metadata": {
  "kernelspec": {
   "display_name": "Python 3 (ipykernel)",
   "language": "python",
   "name": "python3"
  },
  "language_info": {
   "codemirror_mode": {
    "name": "ipython",
    "version": 3
   },
   "file_extension": ".py",
   "mimetype": "text/x-python",
   "name": "python",
   "nbconvert_exporter": "python",
   "pygments_lexer": "ipython3",
   "version": "3.13.3"
  },
  "vscode": {
   "interpreter": {
    "hash": "d7b89e158b719c02a21186c9646700ecf5a8cc5b1b6f738df9b6ffa75e5e74e4"
   }
  }
 },
 "nbformat": 4,
 "nbformat_minor": 4
}
