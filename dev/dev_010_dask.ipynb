{
 "cells": [
  {
   "cell_type": "code",
   "execution_count": null,
   "id": "determined-islam",
   "metadata": {},
   "outputs": [],
   "source": [
    "from thesis_initialise import *"
   ]
  },
  {
   "cell_type": "code",
   "execution_count": null,
   "id": "herbal-scott",
   "metadata": {},
   "outputs": [],
   "source": [
    "def inc(x):\n",
    "    return x + 1\n",
    "\n",
    "def double(x):\n",
    "    return x * 2\n",
    "\n",
    "def add(x, y):\n",
    "    return x + y\n",
    "\n",
    "data = [1, 2, 3, 4, 5]\n",
    "\n",
    "output = []\n",
    "for x in data:\n",
    "    a = inc(x)\n",
    "    b = double(x)\n",
    "    c = add(a, b)\n",
    "    output.append(c)\n",
    "\n",
    "total = sum(output)\n",
    "\n",
    "\n",
    "print(total)"
   ]
  },
  {
   "cell_type": "code",
   "execution_count": null,
   "id": "aging-virgin",
   "metadata": {},
   "outputs": [],
   "source": [
    "output = []\n",
    "for x in data:\n",
    "    a = dask.delayed(inc)(x)\n",
    "    b = dask.delayed(double)(x)\n",
    "    c = dask.delayed(add)(a, b)\n",
    "    output.append(c)\n",
    "\n",
    "total = dask.delayed(sum)(output)\n",
    "\n",
    "### IS EQUIVALENT TO : ###\n",
    "\n",
    "@dask.delayed\n",
    "def inc(x):\n",
    "    return x + 1\n",
    "\n",
    "@dask.delayed\n",
    "def double(x):\n",
    "    return x * 2\n",
    "\n",
    "@dask.delayed\n",
    "def add(x, y):\n",
    "    return x + y\n",
    "\n",
    "data = [1, 2, 3, 4, 5]\n",
    "\n",
    "output = []\n",
    "for x in data:\n",
    "    a = inc(x)\n",
    "    b = double(x)\n",
    "    c = add(a, b)\n",
    "    output.append(c)\n",
    "\n",
    "total = dask.delayed(sum)(output)"
   ]
  },
  {
   "cell_type": "code",
   "execution_count": null,
   "id": "olympic-orange",
   "metadata": {},
   "outputs": [],
   "source": [
    "inc(2) * double(3)"
   ]
  },
  {
   "cell_type": "code",
   "execution_count": null,
   "id": "earlier-violence",
   "metadata": {},
   "outputs": [],
   "source": [
    "total"
   ]
  },
  {
   "cell_type": "code",
   "execution_count": null,
   "id": "bridal-manhattan",
   "metadata": {},
   "outputs": [],
   "source": [
    "total.visualize()"
   ]
  },
  {
   "cell_type": "code",
   "execution_count": null,
   "id": "lesser-momentum",
   "metadata": {},
   "outputs": [],
   "source": [
    "total.compute()"
   ]
  },
  {
   "cell_type": "code",
   "execution_count": null,
   "id": "animated-illinois",
   "metadata": {},
   "outputs": [],
   "source": [
    "\n",
    "copy"
   ]
  },
  {
   "cell_type": "code",
   "execution_count": null,
   "id": "annoying-affair",
   "metadata": {},
   "outputs": [],
   "source": [
    "import pandas as pd\n",
    "import numpy as np\n",
    "\n",
    "targetParams = pd.DataFrame(\n",
    "    np.random.random(size=(500, 4)),\n",
    "    columns = ['param_a', 'param_b', 'param_c', 'param_d'],\n",
    "    )\n",
    "targetParams.head()"
   ]
  },
  {
   "cell_type": "code",
   "execution_count": null,
   "id": "stuffed-secretariat",
   "metadata": {},
   "outputs": [],
   "source": [
    "def my_computation(args):\n",
    "    a, b, c, d = args\n",
    "    return (a - b) ** c / d\n",
    "from dask.distributed import Client, progress\n",
    "with Client(threads_per_worker=4, n_workers=1) as client:\n",
    "    futures = client.map(my_computation, targetParams.values)\n",
    "    results = client.gather(futures)"
   ]
  },
  {
   "cell_type": "code",
   "execution_count": null,
   "id": "responsible-defendant",
   "metadata": {},
   "outputs": [],
   "source": [
    "print(results[0])"
   ]
  }
 ],
 "metadata": {
  "kernelspec": {
   "display_name": "Python 3",
   "language": "python",
   "name": "python3"
  },
  "language_info": {
   "codemirror_mode": {
    "name": "ipython",
    "version": 3
   },
   "file_extension": ".py",
   "mimetype": "text/x-python",
   "name": "python",
   "nbconvert_exporter": "python",
   "pygments_lexer": "ipython3",
   "version": "3.8.6"
  }
 },
 "nbformat": 4,
 "nbformat_minor": 5
}
