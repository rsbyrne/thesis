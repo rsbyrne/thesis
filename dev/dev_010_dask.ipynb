{
 "cells": [
  {
   "cell_type": "code",
   "execution_count": 5,
   "id": "determined-islam",
   "metadata": {},
   "outputs": [],
   "source": [
    "from thesis_initialise import *"
   ]
  },
  {
   "cell_type": "code",
   "execution_count": null,
   "id": "herbal-scott",
   "metadata": {},
   "outputs": [],
   "source": [
    "def inc(x):\n",
    "    return x + 1\n",
    "\n",
    "def double(x):\n",
    "    return x * 2\n",
    "\n",
    "def add(x, y):\n",
    "    return x + y\n",
    "\n",
    "data = [1, 2, 3, 4, 5]\n",
    "\n",
    "output = []\n",
    "for x in data:\n",
    "    a = inc(x)\n",
    "    b = double(x)\n",
    "    c = add(a, b)\n",
    "    output.append(c)\n",
    "\n",
    "total = sum(output)\n",
    "\n",
    "\n",
    "print(total)"
   ]
  },
  {
   "cell_type": "code",
   "execution_count": null,
   "id": "aging-virgin",
   "metadata": {},
   "outputs": [],
   "source": [
    "output = []\n",
    "for x in data:\n",
    "    a = dask.delayed(inc)(x)\n",
    "    b = dask.delayed(double)(x)\n",
    "    c = dask.delayed(add)(a, b)\n",
    "    output.append(c)\n",
    "\n",
    "total = dask.delayed(sum)(output)\n",
    "\n",
    "### IS EQUIVALENT TO : ###\n",
    "\n",
    "@dask.delayed\n",
    "def inc(x):\n",
    "    return x + 1\n",
    "\n",
    "@dask.delayed\n",
    "def double(x):\n",
    "    return x * 2\n",
    "\n",
    "@dask.delayed\n",
    "def add(x, y):\n",
    "    return x + y\n",
    "\n",
    "data = [1, 2, 3, 4, 5]\n",
    "\n",
    "output = []\n",
    "for x in data:\n",
    "    a = inc(x)\n",
    "    b = double(x)\n",
    "    c = add(a, b)\n",
    "    output.append(c)\n",
    "\n",
    "total = dask.delayed(sum)(output)"
   ]
  },
  {
   "cell_type": "code",
   "execution_count": null,
   "id": "olympic-orange",
   "metadata": {},
   "outputs": [],
   "source": [
    "inc(2) * double(3)"
   ]
  },
  {
   "cell_type": "code",
   "execution_count": null,
   "id": "earlier-violence",
   "metadata": {},
   "outputs": [],
   "source": [
    "total"
   ]
  },
  {
   "cell_type": "code",
   "execution_count": null,
   "id": "bridal-manhattan",
   "metadata": {},
   "outputs": [],
   "source": [
    "total.visualize()"
   ]
  },
  {
   "cell_type": "code",
   "execution_count": null,
   "id": "lesser-momentum",
   "metadata": {},
   "outputs": [],
   "source": [
    "total.compute()"
   ]
  },
  {
   "cell_type": "code",
   "execution_count": null,
   "id": "animated-illinois",
   "metadata": {},
   "outputs": [],
   "source": [
    "\n",
    "copy"
   ]
  },
  {
   "cell_type": "code",
   "execution_count": 8,
   "id": "annoying-affair",
   "metadata": {},
   "outputs": [
    {
     "data": {
      "text/html": [
       "<div>\n",
       "<style scoped>\n",
       "    .dataframe tbody tr th:only-of-type {\n",
       "        vertical-align: middle;\n",
       "    }\n",
       "\n",
       "    .dataframe tbody tr th {\n",
       "        vertical-align: top;\n",
       "    }\n",
       "\n",
       "    .dataframe thead th {\n",
       "        text-align: right;\n",
       "    }\n",
       "</style>\n",
       "<table border=\"1\" class=\"dataframe\">\n",
       "  <thead>\n",
       "    <tr style=\"text-align: right;\">\n",
       "      <th></th>\n",
       "      <th>param_a</th>\n",
       "      <th>param_b</th>\n",
       "      <th>param_c</th>\n",
       "      <th>param_d</th>\n",
       "    </tr>\n",
       "  </thead>\n",
       "  <tbody>\n",
       "    <tr>\n",
       "      <th>0</th>\n",
       "      <td>0.923071</td>\n",
       "      <td>0.351226</td>\n",
       "      <td>0.214294</td>\n",
       "      <td>0.150659</td>\n",
       "    </tr>\n",
       "    <tr>\n",
       "      <th>1</th>\n",
       "      <td>0.722348</td>\n",
       "      <td>0.428281</td>\n",
       "      <td>0.005722</td>\n",
       "      <td>0.158654</td>\n",
       "    </tr>\n",
       "    <tr>\n",
       "      <th>2</th>\n",
       "      <td>0.098137</td>\n",
       "      <td>0.873687</td>\n",
       "      <td>0.364509</td>\n",
       "      <td>0.653047</td>\n",
       "    </tr>\n",
       "    <tr>\n",
       "      <th>3</th>\n",
       "      <td>0.713496</td>\n",
       "      <td>0.987003</td>\n",
       "      <td>0.177378</td>\n",
       "      <td>0.823623</td>\n",
       "    </tr>\n",
       "    <tr>\n",
       "      <th>4</th>\n",
       "      <td>0.455044</td>\n",
       "      <td>0.735572</td>\n",
       "      <td>0.502137</td>\n",
       "      <td>0.899129</td>\n",
       "    </tr>\n",
       "  </tbody>\n",
       "</table>\n",
       "</div>"
      ],
      "text/plain": [
       "    param_a   param_b   param_c   param_d\n",
       "0  0.923071  0.351226  0.214294  0.150659\n",
       "1  0.722348  0.428281  0.005722  0.158654\n",
       "2  0.098137  0.873687  0.364509  0.653047\n",
       "3  0.713496  0.987003  0.177378  0.823623\n",
       "4  0.455044  0.735572  0.502137  0.899129"
      ]
     },
     "execution_count": 8,
     "metadata": {},
     "output_type": "execute_result"
    }
   ],
   "source": [
    "import pandas as pd\n",
    "import numpy as np\n",
    "\n",
    "targetParams = pd.DataFrame(\n",
    "    np.random.random(size=(500, 4)),\n",
    "    columns = ['param_a', 'param_b', 'param_c', 'param_d'],\n",
    "    )\n",
    "targetParams.head()"
   ]
  },
  {
   "cell_type": "code",
   "execution_count": 27,
   "id": "stuffed-secretariat",
   "metadata": {},
   "outputs": [],
   "source": [
    "def my_computation(args):\n",
    "    a, b, c, d = args\n",
    "    return (a - b) ** c / d\n",
    "from dask.distributed import Client, progress\n",
    "with Client(threads_per_worker=4, n_workers=1) as client:\n",
    "    futures = client.map(my_computation, targetParams.values)\n",
    "    results = client.gather(futures)"
   ]
  },
  {
   "cell_type": "code",
   "execution_count": 28,
   "id": "responsible-defendant",
   "metadata": {},
   "outputs": [
    {
     "name": "stdout",
     "output_type": "stream",
     "text": [
      "5.88831165964084\n"
     ]
    }
   ],
   "source": [
    "print(results[0])"
   ]
  }
 ],
 "metadata": {
  "kernelspec": {
   "display_name": "Python 3",
   "language": "python",
   "name": "python3"
  },
  "language_info": {
   "codemirror_mode": {
    "name": "ipython",
    "version": 3
   },
   "file_extension": ".py",
   "mimetype": "text/x-python",
   "name": "python",
   "nbconvert_exporter": "python",
   "pygments_lexer": "ipython3",
   "version": "3.8.6"
  }
 },
 "nbformat": 4,
 "nbformat_minor": 5
}
