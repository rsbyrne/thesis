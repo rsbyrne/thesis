{
 "cells": [
  {
   "cell_type": "code",
   "execution_count": null,
   "id": "stopped-charm",
   "metadata": {},
   "outputs": [],
   "source": [
    "from thesis_initialise import *"
   ]
  },
  {
   "cell_type": "code",
   "execution_count": null,
   "id": "computational-child",
   "metadata": {},
   "outputs": [],
   "source": [
    "from collections import namedtuple\n",
    "\n",
    "from everest.funcy import generic, special\n",
    "from everest.wordhash import w_hash\n",
    "\n",
    "class A(generic.FuncyHardIncisable):\n",
    "    def __init__(self, **params):\n",
    "        self.params = params\n",
    "    def _incision_finalise(self, arg, /, *args):\n",
    "        params = {**self.params, **arg}\n",
    "        name = self.__class__.__name__ + '__' + w_hash(params).replace('-', '_')\n",
    "        out = namedtuple(name, params.keys(), defaults = params.values())\n",
    "        if args:\n",
    "            out = out()\n",
    "            for a in args:\n",
    "                out = out[a]\n",
    "        return out\n",
    "    def _getitem_strict(self, arg, /):\n",
    "        return self._incision_finalise(arg)\n",
    "    @property\n",
    "    def shape(self):\n",
    "        return tuple((*super().shape, special.unkint))\n",
    "\n",
    "# class B(generic.Func)"
   ]
  },
  {
   "cell_type": "code",
   "execution_count": null,
   "id": "downtown-fluid",
   "metadata": {},
   "outputs": [],
   "source": [
    "myovercls = A(a = 1)\n",
    "\n",
    "myobj = myovercls[list(\n",
    "    dict(zip(chars, vals)) for chars, vals in (\n",
    "        ('abc', (1, 2, 3)),\n",
    "        ('def', (10, 20, 30)),\n",
    "        ('ghi', (100, 200, 300)),\n",
    "        ('jkl', (1000, 2000, 3000)),\n",
    "        ('mno', (10000, 20000, 30000)),\n",
    "        )\n",
    "    )]"
   ]
  },
  {
   "cell_type": "code",
   "execution_count": null,
   "id": "compact-setup",
   "metadata": {},
   "outputs": [],
   "source": [
    "list(myobj[1])[0]"
   ]
  },
  {
   "cell_type": "code",
   "execution_count": null,
   "id": "bigger-michigan",
   "metadata": {},
   "outputs": [],
   "source": [
    "mycut = myobj[:2]"
   ]
  },
  {
   "cell_type": "code",
   "execution_count": null,
   "id": "virtual-invite",
   "metadata": {},
   "outputs": [],
   "source": [
    "list(mycut.value)"
   ]
  },
  {
   "cell_type": "code",
   "execution_count": null,
   "id": "hundred-plymouth",
   "metadata": {},
   "outputs": [],
   "source": [
    "list(myobj[1:][:3].value)"
   ]
  },
  {
   "cell_type": "code",
   "execution_count": null,
   "id": "convinced-authority",
   "metadata": {},
   "outputs": [],
   "source": [
    "mycut.source._get_indi(2)"
   ]
  },
  {
   "cell_type": "code",
   "execution_count": null,
   "id": "august-brisbane",
   "metadata": {},
   "outputs": [],
   "source": [
    "list(mycut.source._indices())[1][1]"
   ]
  },
  {
   "cell_type": "code",
   "execution_count": null,
   "id": "after-queens",
   "metadata": {},
   "outputs": [],
   "source": []
  },
  {
   "cell_type": "code",
   "execution_count": null,
   "id": "editorial-nurse",
   "metadata": {},
   "outputs": [],
   "source": [
    "mycut._get_indi(2)"
   ]
  },
  {
   "cell_type": "code",
   "execution_count": null,
   "id": "distant-cargo",
   "metadata": {},
   "outputs": [],
   "source": [
    "list(mycut._index_types())"
   ]
  },
  {
   "cell_type": "code",
   "execution_count": null,
   "id": "paperback-terrain",
   "metadata": {},
   "outputs": [],
   "source": [
    "list(mycut._index_sets())"
   ]
  },
  {
   "cell_type": "code",
   "execution_count": null,
   "id": "vocal-bunny",
   "metadata": {},
   "outputs": [],
   "source": [
    "list(mycut._indices())"
   ]
  },
  {
   "cell_type": "code",
   "execution_count": null,
   "id": "neither-postcard",
   "metadata": {},
   "outputs": [],
   "source": [
    "mycut._iterFn"
   ]
  },
  {
   "cell_type": "code",
   "execution_count": null,
   "id": "equal-miami",
   "metadata": {},
   "outputs": [],
   "source": [
    "list(myobj[:2]._indices())"
   ]
  },
  {
   "cell_type": "code",
   "execution_count": null,
   "id": "spiritual-phase",
   "metadata": {},
   "outputs": [],
   "source": [
    "list(myobj._indices())"
   ]
  },
  {
   "cell_type": "code",
   "execution_count": null,
   "id": "ordinary-resource",
   "metadata": {},
   "outputs": [],
   "source": [
    "myobj.value"
   ]
  },
  {
   "cell_type": "code",
   "execution_count": null,
   "id": "sealed-redhead",
   "metadata": {},
   "outputs": [],
   "source": [
    "myobj[0].value"
   ]
  },
  {
   "cell_type": "code",
   "execution_count": null,
   "id": "narrow-retreat",
   "metadata": {},
   "outputs": [],
   "source": [
    "tuple(myobj._prime_indices())"
   ]
  },
  {
   "cell_type": "code",
   "execution_count": null,
   "id": "accessory-foster",
   "metadata": {},
   "outputs": [],
   "source": [
    "tuple(myobj[:2]._index_sets())"
   ]
  },
  {
   "cell_type": "code",
   "execution_count": null,
   "id": "express-square",
   "metadata": {},
   "outputs": [],
   "source": [
    "tuple(myobj[:2]._prime_indices())"
   ]
  },
  {
   "cell_type": "code",
   "execution_count": null,
   "id": "thrown-signature",
   "metadata": {},
   "outputs": [],
   "source": [
    "list(myobj[:2])"
   ]
  },
  {
   "cell_type": "code",
   "execution_count": null,
   "id": "partial-transparency",
   "metadata": {},
   "outputs": [],
   "source": [
    "myobj.incisionTypes = 1"
   ]
  },
  {
   "cell_type": "code",
   "execution_count": null,
   "id": "imposed-swift",
   "metadata": {},
   "outputs": [],
   "source": []
  }
 ],
 "metadata": {
  "kernelspec": {
   "display_name": "Python 3",
   "language": "python",
   "name": "python3"
  },
  "language_info": {
   "codemirror_mode": {
    "name": "ipython",
    "version": 3
   },
   "file_extension": ".py",
   "mimetype": "text/x-python",
   "name": "python",
   "nbconvert_exporter": "python",
   "pygments_lexer": "ipython3",
   "version": "3.8.6"
  }
 },
 "nbformat": 4,
 "nbformat_minor": 5
}
