{
 "cells": [
  {
   "cell_type": "code",
   "execution_count": 1,
   "id": "separated-yorkshire",
   "metadata": {},
   "outputs": [],
   "source": [
    "from thesis_initialise import *"
   ]
  },
  {
   "cell_type": "code",
   "execution_count": 2,
   "id": "legitimate-rapid",
   "metadata": {},
   "outputs": [],
   "source": [
    "from abc import ABC, abstractmethod"
   ]
  },
  {
   "cell_type": "code",
   "execution_count": 3,
   "id": "celtic-cursor",
   "metadata": {},
   "outputs": [],
   "source": [
    "from everest.cascade import Cascade, Inputs"
   ]
  },
  {
   "cell_type": "code",
   "execution_count": 4,
   "id": "heavy-course",
   "metadata": {},
   "outputs": [],
   "source": []
  },
  {
   "cell_type": "code",
   "execution_count": 9,
   "id": "exact-drinking",
   "metadata": {},
   "outputs": [],
   "source": [
    "def myfn(\n",
    "        a = 1,\n",
    "        b = 2,\n",
    "        c = 3,\n",
    "        _d = 4,\n",
    "        ):\n",
    "    print(a, b, c, _d)\n",
    "myinps = Inputs(myfn)"
   ]
  },
  {
   "cell_type": "code",
   "execution_count": 10,
   "id": "renewable-acceptance",
   "metadata": {},
   "outputs": [
    {
     "data": {
      "text/plain": [
       "Inputs{None}(\n",
       "    a = 10\n",
       "    b = 2\n",
       "    c = 30\n",
       "    )"
      ]
     },
     "execution_count": 10,
     "metadata": {},
     "output_type": "execute_result"
    }
   ],
   "source": [
    "myinps.copy(10, c = 30)"
   ]
  },
  {
   "cell_type": "code",
   "execution_count": null,
   "id": "muslim-noise",
   "metadata": {},
   "outputs": [],
   "source": [
    "from everest.funcy import (\n",
    "    generic as _generic,\n",
    "    special as _special,\n",
    "    )\n",
    "from collections.abc import Mapping as _Mapping\n",
    "\n",
    "class Ptolemaic(type, _generic.FuncyIncisable):\n",
    "    def __new__(cls, name, bases, dic, *args, **kwargs):\n",
    "        obj = type.__new__(cls, name, bases, dic)\n",
    "        obj.defaults = Inputs(obj.__init__, name = name)\n",
    "        return obj\n",
    "    def __init__(self, name, bases, dic, case = None):\n",
    "        self.case = case\n",
    "        super().__init__(name, bases, dic)\n",
    "    @property\n",
    "    def shape(self):\n",
    "        return (_special.inf,)\n",
    "    @classmethod\n",
    "    def _proc_case(cls, case):\n",
    "        if case is None:\n",
    "            case \n",
    "    @classmethod\n",
    "    def _get_incision_method(cls, checkArg: _generic.FuncyIncisor, /):\n",
    "        typ = type(checkArg)\n",
    "        isinstance(checkArg, )\n",
    "        return NotImplemented\n",
    "    def _getitem_strict(self, arg):\n",
    "        if isinstance(arg, _Mapping):\n",
    "            case = Inputs(self.__init__, {**self.case, **arg})\n",
    "            return self.__class__(\n",
    "                f\"{self.__name__}:{case.hashID}\", \n",
    "                (self, *self.__bases__),\n",
    "                dict(self.__dict__),\n",
    "                arg,\n",
    "                )\n",
    "        else:\n",
    "            raise TypeError(type(arg))\n",
    "    def _getitem_broad(self, arg):\n",
    "        raise ValueError(\"Can't go that broad!\")\n",
    "    def _getitem_sub(self, arg):\n",
    "        raise ValueError(\"Can't go that deep!\")\n",
    "    def __call__(self, *args, **kwargs):\n",
    "        instance = object.__new__(self)\n",
    "        instance.case = Cascade(self.case, *args, **kwargs)\n",
    "        instance.__init__(**instance.case)\n",
    "        return instance"
   ]
  },
  {
   "cell_type": "code",
   "execution_count": null,
   "id": "processed-moment",
   "metadata": {},
   "outputs": [],
   "source": [
    "class MySchema(metaclass = Ptolemaic):\n",
    "    def __init__(self,\n",
    "            a = 1,\n",
    "            b = 2,\n",
    "            c = 3\n",
    "            ):\n",
    "        super().__init__()\n",
    "    @property\n",
    "    def foo(self):\n",
    "        print(self.case)"
   ]
  },
  {
   "cell_type": "code",
   "execution_count": null,
   "id": "binding-infrastructure",
   "metadata": {},
   "outputs": [],
   "source": [
    "MySchema.defaults"
   ]
  },
  {
   "cell_type": "code",
   "execution_count": null,
   "id": "south-gates",
   "metadata": {},
   "outputs": [],
   "source": [
    "myobj1 = MySchema(a = 10)"
   ]
  },
  {
   "cell_type": "code",
   "execution_count": null,
   "id": "burning-fraud",
   "metadata": {},
   "outputs": [],
   "source": [
    "myobj1.case"
   ]
  },
  {
   "cell_type": "code",
   "execution_count": null,
   "id": "given-major",
   "metadata": {},
   "outputs": [],
   "source": []
  },
  {
   "cell_type": "code",
   "execution_count": null,
   "id": "central-alabama",
   "metadata": {},
   "outputs": [],
   "source": []
  },
  {
   "cell_type": "code",
   "execution_count": null,
   "id": "brilliant-national",
   "metadata": {},
   "outputs": [],
   "source": []
  },
  {
   "cell_type": "code",
   "execution_count": null,
   "id": "visible-testing",
   "metadata": {},
   "outputs": [],
   "source": []
  },
  {
   "cell_type": "code",
   "execution_count": null,
   "id": "breathing-crisis",
   "metadata": {},
   "outputs": [],
   "source": [
    "MySchema._get_incision_method"
   ]
  },
  {
   "cell_type": "code",
   "execution_count": null,
   "id": "confirmed-booking",
   "metadata": {},
   "outputs": [],
   "source": [
    "myobj = MySchema()"
   ]
  },
  {
   "cell_type": "code",
   "execution_count": null,
   "id": "infectious-enzyme",
   "metadata": {},
   "outputs": [],
   "source": [
    "myobj.case"
   ]
  },
  {
   "cell_type": "code",
   "execution_count": null,
   "id": "interstate-nelson",
   "metadata": {},
   "outputs": [],
   "source": [
    "MySubSchema = MySchema[dict(a = 1, b = 2)]"
   ]
  },
  {
   "cell_type": "code",
   "execution_count": null,
   "id": "confident-current",
   "metadata": {},
   "outputs": [],
   "source": [
    "myobj2 = MySubSchema()"
   ]
  },
  {
   "cell_type": "code",
   "execution_count": null,
   "id": "close-plaintiff",
   "metadata": {},
   "outputs": [],
   "source": [
    "myobj2.case"
   ]
  },
  {
   "cell_type": "code",
   "execution_count": null,
   "id": "cosmetic-healing",
   "metadata": {},
   "outputs": [],
   "source": []
  }
 ],
 "metadata": {
  "kernelspec": {
   "display_name": "Python 3",
   "language": "python",
   "name": "python3"
  },
  "language_info": {
   "codemirror_mode": {
    "name": "ipython",
    "version": 3
   },
   "file_extension": ".py",
   "mimetype": "text/x-python",
   "name": "python",
   "nbconvert_exporter": "python",
   "pygments_lexer": "ipython3",
   "version": "3.8.6"
  }
 },
 "nbformat": 4,
 "nbformat_minor": 5
}
