{
 "cells": [
  {
   "cell_type": "code",
   "execution_count": 1,
   "id": "nuclear-detroit",
   "metadata": {},
   "outputs": [],
   "source": [
    "from thesis_initialise import *"
   ]
  },
  {
   "cell_type": "code",
   "execution_count": 2,
   "id": "collected-failure",
   "metadata": {},
   "outputs": [],
   "source": [
    "myfn = Fn(1, 2, 3)"
   ]
  },
  {
   "cell_type": "code",
   "execution_count": 5,
   "id": "authentic-monaco",
   "metadata": {},
   "outputs": [
    {
     "ename": "ValueError",
     "evalue": "Cannot slice that deep.",
     "output_type": "error",
     "traceback": [
      "\u001b[0;31m---------------------------------------------------------------------------\u001b[0m",
      "\u001b[0;31mValueError\u001b[0m                                Traceback (most recent call last)",
      "\u001b[0;32m<ipython-input-5-f93a85c6322a>\u001b[0m in \u001b[0;36m<module>\u001b[0;34m\u001b[0m\n\u001b[0;32m----> 1\u001b[0;31m \u001b[0mmyfn\u001b[0m\u001b[0;34m.\u001b[0m\u001b[0mvalue\u001b[0m\u001b[0;34m[\u001b[0m\u001b[0;34m:\u001b[0m\u001b[0;34m,\u001b[0m \u001b[0;36m0\u001b[0m\u001b[0;34m]\u001b[0m\u001b[0;34m\u001b[0m\u001b[0;34m\u001b[0m\u001b[0m\n\u001b[0m",
      "\u001b[0;32m~/workspace/mount/resources/everest/everest/funcy/generic.py\u001b[0m in \u001b[0;36m__getitem__\u001b[0;34m(self, args)\u001b[0m\n\u001b[1;32m    299\u001b[0m         \u001b[0;32mif\u001b[0m \u001b[0mincisionMethod\u001b[0m \u001b[0;32mis\u001b[0m \u001b[0mNotImplemented\u001b[0m\u001b[0;34m:\u001b[0m\u001b[0;34m\u001b[0m\u001b[0;34m\u001b[0m\u001b[0m\n\u001b[1;32m    300\u001b[0m             \u001b[0;32mraise\u001b[0m \u001b[0mTypeError\u001b[0m\u001b[0;34m(\u001b[0m\u001b[0;34mf\"FuncyIncisor type {argType} not accepted.\"\u001b[0m\u001b[0;34m)\u001b[0m\u001b[0;34m\u001b[0m\u001b[0;34m\u001b[0m\u001b[0m\n\u001b[0;32m--> 301\u001b[0;31m         \u001b[0;32mreturn\u001b[0m \u001b[0mincisionMethod\u001b[0m\u001b[0;34m(\u001b[0m\u001b[0mself\u001b[0m\u001b[0;34m,\u001b[0m \u001b[0;34m*\u001b[0m\u001b[0margs\u001b[0m\u001b[0;34m)\u001b[0m\u001b[0;34m\u001b[0m\u001b[0;34m\u001b[0m\u001b[0m\n\u001b[0m\u001b[1;32m    302\u001b[0m \u001b[0;34m\u001b[0m\u001b[0m\n\u001b[1;32m    303\u001b[0m \u001b[0;32mclass\u001b[0m \u001b[0mFuncyShallowIncisable\u001b[0m\u001b[0;34m(\u001b[0m\u001b[0mFuncyIncisable\u001b[0m\u001b[0;34m)\u001b[0m\u001b[0;34m:\u001b[0m\u001b[0;34m\u001b[0m\u001b[0;34m\u001b[0m\u001b[0m\n",
      "\u001b[0;32m~/workspace/mount/resources/everest/everest/funcy/generic.py\u001b[0m in \u001b[0;36m_getitem_deep\u001b[0;34m(self, *args)\u001b[0m\n\u001b[1;32m    241\u001b[0m             \u001b[0;32mreturn\u001b[0m \u001b[0mself\u001b[0m\u001b[0;34m.\u001b[0m\u001b[0m_getitem_trivial\u001b[0m\u001b[0;34m(\u001b[0m\u001b[0margs\u001b[0m\u001b[0;34m)\u001b[0m\u001b[0;34m\u001b[0m\u001b[0;34m\u001b[0m\u001b[0m\n\u001b[1;32m    242\u001b[0m         \u001b[0;32melif\u001b[0m \u001b[0mlen\u001b[0m\u001b[0;34m(\u001b[0m\u001b[0margs\u001b[0m\u001b[0;34m)\u001b[0m \u001b[0;34m>\u001b[0m \u001b[0mself\u001b[0m\u001b[0;34m.\u001b[0m\u001b[0mdepth\u001b[0m\u001b[0;34m:\u001b[0m\u001b[0;34m\u001b[0m\u001b[0;34m\u001b[0m\u001b[0m\n\u001b[0;32m--> 243\u001b[0;31m             \u001b[0;32mraise\u001b[0m \u001b[0mValueError\u001b[0m\u001b[0;34m(\u001b[0m\u001b[0;34m\"Cannot slice that deep.\"\u001b[0m\u001b[0;34m)\u001b[0m\u001b[0;34m\u001b[0m\u001b[0;34m\u001b[0m\u001b[0m\n\u001b[0m\u001b[1;32m    244\u001b[0m         \u001b[0marg0\u001b[0m\u001b[0;34m,\u001b[0m \u001b[0;34m*\u001b[0m\u001b[0margn\u001b[0m \u001b[0;34m=\u001b[0m \u001b[0margs\u001b[0m\u001b[0;34m\u001b[0m\u001b[0;34m\u001b[0m\u001b[0m\n\u001b[1;32m    245\u001b[0m         \u001b[0;32mif\u001b[0m \u001b[0marg0\u001b[0m \u001b[0;32mis\u001b[0m \u001b[0mEllipsis\u001b[0m\u001b[0;34m:\u001b[0m\u001b[0;34m\u001b[0m\u001b[0;34m\u001b[0m\u001b[0m\n",
      "\u001b[0;31mValueError\u001b[0m: Cannot slice that deep."
     ]
    }
   ],
   "source": [
    "myfn.value[:, 0]"
   ]
  },
  {
   "cell_type": "code",
   "execution_count": null,
   "id": "alpine-times",
   "metadata": {},
   "outputs": [],
   "source": []
  },
  {
   "cell_type": "code",
   "execution_count": null,
   "id": "revised-switzerland",
   "metadata": {},
   "outputs": [],
   "source": [
    "from abc import ABC, abstractmethod"
   ]
  },
  {
   "cell_type": "code",
   "execution_count": null,
   "id": "alone-pepper",
   "metadata": {},
   "outputs": [],
   "source": [
    "from everest.cascade import Cascade, Inputs"
   ]
  },
  {
   "cell_type": "code",
   "execution_count": null,
   "id": "informative-lending",
   "metadata": {},
   "outputs": [],
   "source": [
    "from everest.funcy import generic, special\n",
    "from collections.abc import Mapping"
   ]
  },
  {
   "cell_type": "code",
   "execution_count": null,
   "id": "funny-battlefield",
   "metadata": {},
   "outputs": [],
   "source": [
    "myarr = np.random.rand(3, 2, 3)"
   ]
  },
  {
   "cell_type": "code",
   "execution_count": null,
   "id": "sound-participant",
   "metadata": {},
   "outputs": [],
   "source": []
  },
  {
   "cell_type": "code",
   "execution_count": null,
   "id": "portable-mainland",
   "metadata": {},
   "outputs": [],
   "source": []
  },
  {
   "cell_type": "code",
   "execution_count": null,
   "id": "transparent-listening",
   "metadata": {},
   "outputs": [],
   "source": [
    "import itertools as _itertools\n",
    "def _proc_broadIncisor(arg: 'FuncyBroadIncisor') -> tuple:\n",
    "    if not Ellipsis in arg: return tuple(arg), Ellipsis\n",
    "    grpfn = lambda z: z is Ellipsis\n",
    "    tups = (tuple(y) for x, y in _itertools.groupby(arg, grpfn))\n",
    "    inci = tuple(t[0] if len(t) == 1 else t for t in tups)\n",
    "    if (length := len(inci)) > 3:\n",
    "        raise ValueError(\"Only one Ellipsis permitted in broad incisor.\")\n",
    "    elif length == 3:\n",
    "        return inci[0], tuple((inci[1], *inci[-1]))\n",
    "    else:\n",
    "        return inci"
   ]
  },
  {
   "cell_type": "code",
   "execution_count": null,
   "id": "abroad-nursery",
   "metadata": {},
   "outputs": [],
   "source": [
    "lst = [0, 1]\n",
    "arg, elided = _proc_broadIncisor(lst)\n",
    "print(arg, elided)\n",
    "\n",
    "lst = [0, ..., 1, 2]\n",
    "arg, elided = _proc_broadIncisor(lst)\n",
    "print(arg, elided)\n",
    "\n",
    "lst = [0, ...]\n",
    "arg, elided = _proc_broadIncisor(lst)\n",
    "print(arg, elided)\n",
    "\n",
    "lst = [..., 0, 1]\n",
    "arg, elided = _proc_broadIncisor(lst)\n",
    "print(arg, elided)"
   ]
  },
  {
   "cell_type": "code",
   "execution_count": null,
   "id": "authorized-pleasure",
   "metadata": {},
   "outputs": [],
   "source": [
    "lst = [0, 1, ..., 2, 3]\n",
    "arg, elided = _proc_broadIncisor(lst)\n",
    "print(arg, elided)"
   ]
  },
  {
   "cell_type": "code",
   "execution_count": null,
   "id": "agricultural-attitude",
   "metadata": {},
   "outputs": [],
   "source": [
    "arg0"
   ]
  },
  {
   "cell_type": "code",
   "execution_count": null,
   "id": "powered-pharmaceutical",
   "metadata": {},
   "outputs": [],
   "source": []
  },
  {
   "cell_type": "code",
   "execution_count": null,
   "id": "distinguished-roots",
   "metadata": {},
   "outputs": [],
   "source": [
    "import itertools\n",
    "\n",
    "lst = ['A', ..., 'B' , 'C' , ... , 'D']\n",
    "w = 'WORD'\n",
    "\n",
    "spl = [list(y) for x, y in itertools.groupby(lst, lambda z: z is Ellipsis) if not x]"
   ]
  },
  {
   "cell_type": "code",
   "execution_count": null,
   "id": "second-transformation",
   "metadata": {},
   "outputs": [],
   "source": [
    "spl"
   ]
  },
  {
   "cell_type": "code",
   "execution_count": null,
   "id": "cross-relative",
   "metadata": {},
   "outputs": [],
   "source": []
  },
  {
   "cell_type": "code",
   "execution_count": null,
   "id": "endless-roberts",
   "metadata": {},
   "outputs": [],
   "source": [
    "class Ptolemaic(type, generic.FuncyIncisable):\n",
    "    def __new__(cls, name, bases, dic, *args, **kwargs):\n",
    "        obj = type.__new__(cls, name, bases, dic)\n",
    "        obj.defaults = Inputs(obj.__init__, name = name)\n",
    "        return obj\n",
    "    def __init__(self, name, bases, dic, case = None):\n",
    "        self.case = self.defaults if case is None else Inputs(self.__init__, **case, \n",
    "        super().__init__(name, bases, dic)\n",
    "    @property\n",
    "    def shape(self):\n",
    "        return (special.inf,)\n",
    "    def _getitem_strict(self, arg):\n",
    "        if isinstance(arg, Mapping):\n",
    "            case = Inputs(self.__init__, {**self.case, **arg})\n",
    "            return self.__class__(\n",
    "                f\"{self.__name__}:{case.hashID}\", \n",
    "                (self, *self.__bases__),\n",
    "                dict(self.__dict__),\n",
    "                arg,\n",
    "                )\n",
    "        else:\n",
    "            raise TypeError(type(arg))\n",
    "    def _getitem_deep(self, arg):\n",
    "        raise ValueError(\"Can't go that deep!\")\n",
    "    def _getitem_broad(self, arg):\n",
    "        raise ValueError(\"Can't go that broad!\")\n",
    "    def __call__(self, *args, **kwargs):\n",
    "        instance = object.__new__(self)\n",
    "        instance.case = Cascade(self.case, *args, **kwargs)\n",
    "        instance.__init__(**instance.case)\n",
    "        return instance"
   ]
  },
  {
   "cell_type": "code",
   "execution_count": null,
   "id": "defined-organic",
   "metadata": {},
   "outputs": [],
   "source": [
    "class MySchema(metaclass = Ptolemaic):\n",
    "    def __init__(self,\n",
    "            a = 1,\n",
    "            b = 2,\n",
    "            c = 3\n",
    "            ):\n",
    "        super().__init__()\n",
    "    @property\n",
    "    def foo(self):\n",
    "        print(self.case)"
   ]
  },
  {
   "cell_type": "code",
   "execution_count": null,
   "id": "endangered-syndication",
   "metadata": {},
   "outputs": [],
   "source": [
    "MySchema.defaults"
   ]
  },
  {
   "cell_type": "code",
   "execution_count": null,
   "id": "pleasant-culture",
   "metadata": {},
   "outputs": [],
   "source": [
    "myobj1 = MySchema(a = 10)"
   ]
  },
  {
   "cell_type": "code",
   "execution_count": null,
   "id": "attached-fifth",
   "metadata": {},
   "outputs": [],
   "source": [
    "myobj1.case"
   ]
  },
  {
   "cell_type": "code",
   "execution_count": null,
   "id": "secondary-chicken",
   "metadata": {},
   "outputs": [],
   "source": []
  },
  {
   "cell_type": "code",
   "execution_count": null,
   "id": "danish-junior",
   "metadata": {},
   "outputs": [],
   "source": []
  },
  {
   "cell_type": "code",
   "execution_count": null,
   "id": "dramatic-mainland",
   "metadata": {},
   "outputs": [],
   "source": []
  },
  {
   "cell_type": "code",
   "execution_count": null,
   "id": "varying-thanksgiving",
   "metadata": {},
   "outputs": [],
   "source": []
  },
  {
   "cell_type": "code",
   "execution_count": null,
   "id": "dimensional-paragraph",
   "metadata": {},
   "outputs": [],
   "source": [
    "MySchema._get_incision_method"
   ]
  },
  {
   "cell_type": "code",
   "execution_count": null,
   "id": "vietnamese-elephant",
   "metadata": {},
   "outputs": [],
   "source": [
    "myobj = MySchema()"
   ]
  },
  {
   "cell_type": "code",
   "execution_count": null,
   "id": "dimensional-tsunami",
   "metadata": {},
   "outputs": [],
   "source": [
    "myobj.case"
   ]
  },
  {
   "cell_type": "code",
   "execution_count": null,
   "id": "invalid-brooks",
   "metadata": {},
   "outputs": [],
   "source": [
    "MySubSchema = MySchema[dict(a = 1, b = 2)]"
   ]
  },
  {
   "cell_type": "code",
   "execution_count": null,
   "id": "mechanical-jesus",
   "metadata": {},
   "outputs": [],
   "source": [
    "myobj2 = MySubSchema()"
   ]
  },
  {
   "cell_type": "code",
   "execution_count": null,
   "id": "mature-athens",
   "metadata": {},
   "outputs": [],
   "source": [
    "myobj2.case"
   ]
  },
  {
   "cell_type": "code",
   "execution_count": null,
   "id": "different-surfing",
   "metadata": {},
   "outputs": [],
   "source": []
  }
 ],
 "metadata": {
  "kernelspec": {
   "display_name": "Python 3",
   "language": "python",
   "name": "python3"
  },
  "language_info": {
   "codemirror_mode": {
    "name": "ipython",
    "version": 3
   },
   "file_extension": ".py",
   "mimetype": "text/x-python",
   "name": "python",
   "nbconvert_exporter": "python",
   "pygments_lexer": "ipython3",
   "version": "3.8.6"
  }
 },
 "nbformat": 4,
 "nbformat_minor": 5
}
