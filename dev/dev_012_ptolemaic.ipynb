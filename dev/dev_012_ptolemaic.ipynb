{
 "cells": [
  {
   "cell_type": "code",
   "execution_count": 1,
   "id": "authentic-throw",
   "metadata": {},
   "outputs": [],
   "source": [
    "from thesis_initialise import *"
   ]
  },
  {
   "cell_type": "code",
   "execution_count": 2,
   "id": "going-fitness",
   "metadata": {},
   "outputs": [],
   "source": [
    "from collections.abc import Mapping as _Mapping\n",
    "import numbers as _numbers\n",
    "import functools as _functools\n",
    "import inspect as _inspect\n",
    "import weakref as _weakref\n",
    "\n",
    "from everest.h5anchor import disk as _disk\n",
    "from everest import reseed as _reseed\n",
    "from everest.funcy import (\n",
    "    Function as _Function,\n",
    "    generic as _generic,\n",
    "    special as _special,\n",
    "    Fn as _Fn,\n",
    "    )\n",
    "from everest.cascade import (\n",
    "    Cascade as _Cascade,\n",
    "    Inputs as _Inputs,\n",
    "    )\n",
    "from everest.funcy.base import Base as _Base\n",
    "from everest import wordhash as _wordhash\n",
    "from everest.exceptions import *"
   ]
  },
  {
   "cell_type": "code",
   "execution_count": 3,
   "id": "valuable-flexibility",
   "metadata": {},
   "outputs": [],
   "source": [
    "class A:\n",
    "    @classmethod\n",
    "    def foo(cls):\n",
    "        print(cls)\n",
    "class B(A):\n",
    "    @classmethod\n",
    "    def foo(cls):\n",
    "        super().foo()\n",
    "        print(cls)"
   ]
  },
  {
   "cell_type": "code",
   "execution_count": 4,
   "id": "phantom-sacramento",
   "metadata": {},
   "outputs": [
    {
     "data": {
      "text/plain": [
       "(1,)"
      ]
     },
     "execution_count": 4,
     "metadata": {},
     "output_type": "execute_result"
    }
   ],
   "source": [
    "class A(type):\n",
    "    def _shape(self):\n",
    "        return ()\n",
    "    @property\n",
    "    def shape(self):\n",
    "        return self._shape()\n",
    "class B(metaclass = A):\n",
    "    @classmethod\n",
    "    def _shape(cls):\n",
    "        return tuple((*type(cls)._shape(cls,), 1))\n",
    "B.shape\n",
    "\n",
    "# class A(type):\n",
    "#     ...\n",
    "# class B(A):\n",
    "#     ...\n",
    "# class C(metaclass = A):\n",
    "#     ...\n",
    "# class D(metaclass = B):\n",
    "#     ...\n",
    "# class E(C):\n",
    "#     ...\n",
    "# class F(D):\n",
    "#     ..."
   ]
  },
  {
   "cell_type": "code",
   "execution_count": 19,
   "id": "analyzed-shelter",
   "metadata": {},
   "outputs": [],
   "source": [
    "################################################################################\n",
    "\n",
    "class Schema(_generic.FuncyIncisable, type):\n",
    "    userdefined = False\n",
    "    _premade = _weakref.WeakValueDictionary()\n",
    "    def __new__(meta, name, bases, dic, *args, **kwargs):\n",
    "        cls = super().__new__(meta, name, bases, dic)\n",
    "        cls.root = cls\n",
    "        if cls.userdefined:\n",
    "            cls.script = script = \\\n",
    "                str(_reseed.digits(12)) # <- TEMPORARY\n",
    "    #             _disk.ToOpen(inspect.getfile(schema))()\n",
    "            cls._schemaID = schemaID = \\\n",
    "                _wordhash.get_random_proper(2, seed = script)\n",
    "            try:\n",
    "                cls = meta._premade[schemaID]\n",
    "                assert cls.script == script, (script[:32], schema.script[:32])\n",
    "                raise KeyError\n",
    "            except KeyError:\n",
    "                meta._premade[schemaID] = cls\n",
    "        else:\n",
    "            cls._schemaID = f'EverestSchema_{cls.__name__}'\n",
    "            return cls\n",
    "        return cls\n",
    "    def __init__(self, *args, defaults = None, **kwargs):\n",
    "        if not defaults is None:\n",
    "            self._defaults = defaults\n",
    "        self.cases = _weakref.WeakValueDictionary()\n",
    "        self.oids = _weakref.WeakValueDictionary()\n",
    "        super().__init__(*args, **kwargs)\n",
    "    @property\n",
    "    def defaults(self):\n",
    "        try:\n",
    "            return self._defaults\n",
    "        except AttributeError:\n",
    "            defaults = self._defaults = _Inputs(\n",
    "                self.__init__,\n",
    "                name = self.__name__\n",
    "                )\n",
    "            return defaults\n",
    "    @property\n",
    "    def schemaID(self):\n",
    "        return self.root._schemaID\n",
    "    @property\n",
    "    def hashID(self):\n",
    "        return self.schemaID\n",
    "    @property\n",
    "    def shape(self) -> tuple:\n",
    "        return (_special.infint,)\n",
    "    @property\n",
    "    def sibling(self) -> type:\n",
    "        return Oid\n",
    "    @property\n",
    "    def child(self) -> type:\n",
    "        return Case\n",
    "    def _getitem_strict(self, incisor):\n",
    "        return self._get_case(**incisor)\n",
    "    def _get_case(self, *args, **kwargs):\n",
    "        case = _Cascade(*args, **kwargs)\n",
    "        try:\n",
    "            case = self.cases[(hashID := case.hashID)]\n",
    "        except KeyError:\n",
    "            case = self.child(\n",
    "                f\"{self.root.__name__}:{case.hashID}\",\n",
    "                (self, *self.__bases__),\n",
    "                dict(self.__dict__),\n",
    "#                 dict(),\n",
    "                case = case,\n",
    "                defaults = self.defaults,\n",
    "                )\n",
    "            case.root = self.root\n",
    "            self.cases[hashID] = case\n",
    "        return case\n",
    "    def _getitem_broad(self, incisor):\n",
    "        if not isinstance(incisor, _Function):\n",
    "            incisor = _Fn[incisor]\n",
    "        return self._get_oid(incisor)\n",
    "    def _getitem_deep(*_, **__):\n",
    "        raise NotYetImplemented\n",
    "    def _getitem_sub(*_, **__):\n",
    "        raise NotYetImplemented\n",
    "    def _get_oid(self, incisor):\n",
    "        try:\n",
    "            oid = self.oids[(hashID := incisor.hashID)]\n",
    "        except KeyError:\n",
    "            oid = self.sibling(\n",
    "                f\"{self.root.__name__}[{repr(incisor)}]\",\n",
    "                (self, *self.__bases__),\n",
    "                dict(self.__dict__),\n",
    "#                 dict(),\n",
    "                source = self.root, incisor = incisor,\n",
    "                )\n",
    "            oid.root = self.root\n",
    "            self.oids[oid.hashID] = oid\n",
    "        return oid\n",
    "    def _getitem_sub(self, arg):\n",
    "        raise ValueError(\"Can't go that deep!\")\n",
    "    @classmethod\n",
    "    def _get_incision_method(cls, arg):\n",
    "        if isinstance(arg, _Function):\n",
    "            if arg.isSeq:\n",
    "                return cls._getitem_broad\n",
    "        return super()._get_incision_method(arg)\n",
    "    def __call__(self, *args, **kwargs):\n",
    "        return self._get_case(*args, **kwargs)(**kwargs)\n",
    "\n",
    "class Oid(Schema, _generic.FuncyBroadIncision):\n",
    "    def _getitem_strict(self, incisor):\n",
    "        return self.root._getitem_strict(self.incisor.sub[incisor].value)\n",
    "    def _getitem_broad(self, incisor):\n",
    "        if not isinstance(incisor, _Function):\n",
    "            incisor = _Fn[incisor]\n",
    "        incisor = self.incisor.sub[incisor]\n",
    "        return self._get_oid(incisor)\n",
    "    @property\n",
    "    def hashID(self):\n",
    "        return self.schemaID + f\"[{self.incisor.hashID}]\"\n",
    "    @property\n",
    "    def shape(self) -> tuple:\n",
    "        return (_special.infint,)\n",
    "    def __call__(self, *args, **kwargs):\n",
    "        raise Exception(\"Cannot call Oid.\")\n",
    "\n",
    "class Case(Schema):\n",
    "    def __init__(self, *args, case: _Cascade, **kwargs):\n",
    "        self._case = case\n",
    "        self._inputs = self.defaults.copy(**case)\n",
    "        super().__init__(*args, **kwargs)\n",
    "    @property\n",
    "    def inputs(self):\n",
    "        return self._inputs\n",
    "    @property\n",
    "    def case(self):\n",
    "        return self._case\n",
    "    @property\n",
    "    def hashID(self):\n",
    "        return self.schemaID + ':' + self.case.hashID\n",
    "    @property\n",
    "    def shape(self):\n",
    "        _, *dims = super().shape\n",
    "        return tuple(dims)\n",
    "    @property\n",
    "    def sibling(self) -> type:\n",
    "        raise NotYetImplemented\n",
    "    @property\n",
    "    def child(self) -> type:\n",
    "        raise NotYetImplemented\n",
    "    def __call__(self, **kwargs):\n",
    "        instance = object.__new__(self)\n",
    "        inputs = self.inputs\n",
    "        setArgs, setKwargs = inputs.args, inputs.kwargs\n",
    "        instance.__init__(*setArgs, **{**kwargs, **setKwargs})\n",
    "        instance.case = self.case\n",
    "        instanceID = str(_reseed.digits(12))\n",
    "        instance.instanceID = instanceID\n",
    "        instance.hashID = self.hashID + ';' + instanceID\n",
    "        instance.inputs = inputs\n",
    "        return instance\n",
    "\n",
    "################################################################################\n",
    "\n",
    "class Basic(metaclass = Schema):\n",
    "    ...\n",
    "\n",
    "################################################################################\n",
    "\n",
    "class MyClass(Basic):\n",
    "    userdefined = False\n",
    "    def __init__(self,\n",
    "            a = 1,\n",
    "            b = 2,\n",
    "            c = 3,\n",
    "            _d = 4,\n",
    "            **kwargs,\n",
    "            ):\n",
    "        self.foo = a * b * c\n",
    "        super().__init__(**kwargs)"
   ]
  },
  {
   "cell_type": "code",
   "execution_count": 20,
   "id": "bridal-avenue",
   "metadata": {},
   "outputs": [
    {
     "name": "stdout",
     "output_type": "stream",
     "text": [
      "<__main__.MyClass:insignificant-cattery object at 0x7f549fc23970>\n",
      "EverestSchema_MyClass:insignificant-cattery;9487504950150\n",
      "Inputs{MyClass}(\n",
      "    a = 10\n",
      "    b = 2\n",
      "    c = 3\n",
      "    )\n",
      "60\n"
     ]
    }
   ],
   "source": [
    "myobj = MyClass(a = 10)\n",
    "print(repr(myobj))\n",
    "print(myobj.hashID)\n",
    "print(myobj.inputs)\n",
    "print(myobj.foo)"
   ]
  },
  {
   "cell_type": "code",
   "execution_count": 21,
   "id": "patient-halloween",
   "metadata": {},
   "outputs": [],
   "source": [
    "mycase1 = MyClass[dict(a = 10)]"
   ]
  },
  {
   "cell_type": "code",
   "execution_count": 22,
   "id": "hired-oracle",
   "metadata": {},
   "outputs": [],
   "source": [
    "mycase1 = MyClass[dict(a = 10)]\n",
    "mycase2 = MyClass[dict(a = 10)]\n",
    "assert mycase1 is mycase2"
   ]
  },
  {
   "cell_type": "code",
   "execution_count": 23,
   "id": "devoted-score",
   "metadata": {},
   "outputs": [
    {
     "name": "stdout",
     "output_type": "stream",
     "text": [
      "60\n"
     ]
    }
   ],
   "source": [
    "assert isinstance(MyClass, Schema)\n",
    "mycase = MyClass[dict(a = 10)]\n",
    "assert issubclass(mycase, MyClass)\n",
    "myinst = mycase()\n",
    "print(myinst.foo)\n",
    "assert isinstance(myinst, mycase)"
   ]
  },
  {
   "cell_type": "code",
   "execution_count": 24,
   "id": "statewide-heavy",
   "metadata": {},
   "outputs": [
    {
     "name": "stdout",
     "output_type": "stream",
     "text": [
      "<class '__main__.MyClass[funcy.Arbitrary(0, 1, 2)]'>\n",
      "'EverestSchema_MyClass[psuageuplou-skianyeew]'\n"
     ]
    }
   ],
   "source": [
    "oid1 = MyClass[[0, 1, 2]]\n",
    "print(repr(oid1))\n",
    "print(repr(oid1.hashID))"
   ]
  },
  {
   "cell_type": "code",
   "execution_count": 25,
   "id": "raising-frame",
   "metadata": {},
   "outputs": [
    {
     "name": "stdout",
     "output_type": "stream",
     "text": [
      "<class '__main__.MyClass[funcy.SeqSwathe(funcy.Arbitrary(0, 1, 2), funcy.Arbitrary(3, 4, 5))]'>\n",
      "'EverestSchema_MyClass[aswaeaeskou-deupspaakr]'\n"
     ]
    }
   ],
   "source": [
    "oid2 = oid1[[3, 4, 5]]\n",
    "print(repr(oid2))\n",
    "print(repr(oid2.hashID))"
   ]
  },
  {
   "cell_type": "code",
   "execution_count": 26,
   "id": "permanent-spectrum",
   "metadata": {},
   "outputs": [
    {
     "data": {
      "text/plain": [
       "__main__.MyClass[funcy.Map(funcy.Group(a, b, c), funcy.Group(funcy.Op{opkey: pow}(10, funcy.Regular(0, 3, 1)), funcy.Regular(0, 10, 1), 3))]"
      ]
     },
     "execution_count": 26,
     "metadata": {},
     "output_type": "execute_result"
    }
   ],
   "source": [
    "myoid = MyClass[Fn(dict(\n",
    "    a = 10 ** Fn[:3],\n",
    "    b = Fn[:10],\n",
    "    c = 3,\n",
    "    ))]\n",
    "myoid"
   ]
  },
  {
   "cell_type": "code",
   "execution_count": 30,
   "id": "hollow-weather",
   "metadata": {},
   "outputs": [
    {
     "data": {
      "text/plain": [
       "Inputs{MyClass}(\n",
       "    a = 1\n",
       "    b = 0\n",
       "    c = 3\n",
       "    )"
      ]
     },
     "execution_count": 30,
     "metadata": {},
     "output_type": "execute_result"
    }
   ],
   "source": [
    "myoid[0]().inputs"
   ]
  },
  {
   "cell_type": "code",
   "execution_count": 32,
   "id": "occasional-ceiling",
   "metadata": {},
   "outputs": [
    {
     "data": {
      "text/plain": [
       "3000"
      ]
     },
     "execution_count": 32,
     "metadata": {},
     "output_type": "execute_result"
    }
   ],
   "source": [
    "myoid[10]().foo"
   ]
  },
  {
   "cell_type": "code",
   "execution_count": null,
   "id": "closed-ground",
   "metadata": {},
   "outputs": [],
   "source": [
    "myoid.incisor.sub[0]"
   ]
  },
  {
   "cell_type": "code",
   "execution_count": null,
   "id": "mighty-lecture",
   "metadata": {},
   "outputs": [],
   "source": [
    "myseq = Fn(dict(\n",
    "    a = 10 ** Fn[:3],\n",
    "    b = Fn[:10],\n",
    "    c = 3,\n",
    "    ))"
   ]
  },
  {
   "cell_type": "code",
   "execution_count": null,
   "id": "consolidated-grass",
   "metadata": {},
   "outputs": [],
   "source": [
    "isinstance(myseq, _generic.FuncyStrictIncisor)"
   ]
  },
  {
   "cell_type": "code",
   "execution_count": null,
   "id": "dynamic-parcel",
   "metadata": {},
   "outputs": [],
   "source": [
    "myinst = myoid()"
   ]
  },
  {
   "cell_type": "code",
   "execution_count": null,
   "id": "sharp-report",
   "metadata": {},
   "outputs": [],
   "source": [
    "myinst.inputs"
   ]
  },
  {
   "cell_type": "code",
   "execution_count": null,
   "id": "continued-shannon",
   "metadata": {},
   "outputs": [],
   "source": [
    "myseq = Fn[1, 2, 3, 4, 5, 6]"
   ]
  },
  {
   "cell_type": "code",
   "execution_count": null,
   "id": "opened-ownership",
   "metadata": {},
   "outputs": [],
   "source": [
    "myseq.sub[Fn[3, 4, 5]]"
   ]
  },
  {
   "cell_type": "code",
   "execution_count": null,
   "id": "incorrect-cuisine",
   "metadata": {},
   "outputs": [],
   "source": [
    "oid2.incisor"
   ]
  },
  {
   "cell_type": "code",
   "execution_count": null,
   "id": "rising-hypothetical",
   "metadata": {},
   "outputs": [],
   "source": [
    "oid2[[6, 7, 8]]"
   ]
  },
  {
   "cell_type": "code",
   "execution_count": null,
   "id": "unknown-choir",
   "metadata": {},
   "outputs": [],
   "source": [
    "oid2.incisor"
   ]
  },
  {
   "cell_type": "code",
   "execution_count": null,
   "id": "matched-catalog",
   "metadata": {},
   "outputs": [],
   "source": [
    "oid2._incisors"
   ]
  },
  {
   "cell_type": "code",
   "execution_count": null,
   "id": "recent-edwards",
   "metadata": {},
   "outputs": [],
   "source": [
    "oid1.incisor"
   ]
  },
  {
   "cell_type": "code",
   "execution_count": null,
   "id": "offensive-korean",
   "metadata": {},
   "outputs": [],
   "source": [
    "oid2.incisor"
   ]
  },
  {
   "cell_type": "code",
   "execution_count": null,
   "id": "collaborative-abuse",
   "metadata": {},
   "outputs": [],
   "source": [
    "issubclass(list, _generic.FuncyUnpackable)"
   ]
  },
  {
   "cell_type": "code",
   "execution_count": null,
   "id": "every-techno",
   "metadata": {},
   "outputs": [],
   "source": [
    "issubclass(list, _generic.FuncyBroadIncisor)"
   ]
  },
  {
   "cell_type": "code",
   "execution_count": null,
   "id": "partial-athens",
   "metadata": {},
   "outputs": [],
   "source": []
  }
 ],
 "metadata": {
  "kernelspec": {
   "display_name": "Python 3",
   "language": "python",
   "name": "python3"
  },
  "language_info": {
   "codemirror_mode": {
    "name": "ipython",
    "version": 3
   },
   "file_extension": ".py",
   "mimetype": "text/x-python",
   "name": "python",
   "nbconvert_exporter": "python",
   "pygments_lexer": "ipython3",
   "version": "3.8.5"
  }
 },
 "nbformat": 4,
 "nbformat_minor": 5
}
