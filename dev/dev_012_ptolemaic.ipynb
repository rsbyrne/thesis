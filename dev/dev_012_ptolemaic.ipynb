{
 "cells": [
  {
   "cell_type": "code",
   "execution_count": 1,
   "id": "settled-tongue",
   "metadata": {},
   "outputs": [],
   "source": [
    "from thesis_initialise import *"
   ]
  },
  {
   "cell_type": "code",
   "execution_count": 2,
   "id": "copyrighted-reward",
   "metadata": {},
   "outputs": [],
   "source": [
    "from collections.abc import Mapping as _Mapping\n",
    "import functools as _functools\n",
    "import inspect as _inspect\n",
    "import weakref as _weakref\n",
    "\n",
    "from everest.h5anchor import disk as _disk\n",
    "from everest import reseed as _reseed\n",
    "from everest.funcy import (\n",
    "    generic as _generic,\n",
    "    special as _special,\n",
    "    )\n",
    "from everest.cascade import (\n",
    "    Cascade as _Cascade,\n",
    "    Inputs as _Inputs,\n",
    "    )\n",
    "from everest.funcy.base import Base as _Base\n",
    "from everest import wordhash as _wordhash"
   ]
  },
  {
   "cell_type": "code",
   "execution_count": 3,
   "id": "chief-arrangement",
   "metadata": {},
   "outputs": [
    {
     "name": "stdout",
     "output_type": "stream",
     "text": [
      "    def __init__(self, a = 1, b = 2):\n",
      "        ...\n",
      "\n"
     ]
    }
   ],
   "source": [
    "myplace = []\n",
    "\n",
    "import inspect\n",
    "class A(type):\n",
    "    def __init__(self, *args, **kwargs):\n",
    "        print(_inspect.getsource(self.__init__))\n",
    "        super().__init__(*args, **kwargs)\n",
    "class B(metaclass = A):\n",
    "    def __init__(self, a = 1, b = 2):\n",
    "        ..."
   ]
  },
  {
   "cell_type": "code",
   "execution_count": 12,
   "id": "excessive-calvin",
   "metadata": {},
   "outputs": [],
   "source": [
    "################################################################################\n",
    "\n",
    "class Schema(type, _generic.FuncyIncisable):\n",
    "    def __new__(meta, name, bases, dic, *args, **kwargs):\n",
    "        cls = super().__new__(meta, name, bases, dic)\n",
    "        return cls\n",
    "    def __init__(self, *args, defaults = None, **kwargs):\n",
    "        if not defaults is None:\n",
    "            self._defaults = defaults\n",
    "        super().__init__(*args, **kwargs)\n",
    "    @property\n",
    "    def defaults(self):\n",
    "        try:\n",
    "            return self._defaults\n",
    "        except AttributeError:\n",
    "            defaults = self._defaults = _Inputs(\n",
    "                self.__init__,\n",
    "                name = self.__name__\n",
    "                )\n",
    "            return defaults\n",
    "    @property\n",
    "    def schemaID(self):\n",
    "        return f'EverestSchema_{self.__name__}'\n",
    "    @property\n",
    "    def shape(self) -> tuple:\n",
    "        return (_special.infint,)\n",
    "    @property\n",
    "    def daughter(self) -> type:\n",
    "        return Case\n",
    "    def _getitem_strict(self, case):\n",
    "        return self._get_case(**case)\n",
    "    def _get_case(self, *args, **kwargs):\n",
    "        case = _Cascade(*args, **kwargs)\n",
    "        return self.daughter(\n",
    "            f\"{self.__name__}:{case.hashID}\",\n",
    "            (self, *self.__bases__),\n",
    "            dict(self.__dict__),\n",
    "            case = case,\n",
    "            defaults = self.defaults,\n",
    "            )\n",
    "    def _getitem_sub(self, arg):\n",
    "        raise ValueError(\"Can't go that deep!\")\n",
    "    def __call__(self, *args, **kwargs):\n",
    "        return self._get_case(*args, **kwargs)(**kwargs)\n",
    "\n",
    "class UserSchema(Schema):\n",
    "    _premade = _weakref.WeakValueDictionary()\n",
    "    def __new__(meta, *args, **kwargs):\n",
    "        cls = super().__new__(meta, *args, **kwargs)\n",
    "        cls._script = script = \\\n",
    "            str(_reseed.digits(12)) # <- TEMPORARY\n",
    "#             _disk.ToOpen(inspect.getfile(schema))()\n",
    "        cls._schemaID = schemaID = \\\n",
    "            _wordhash.get_random_proper(2, seed = script)\n",
    "        try:\n",
    "            cls = meta._premade[schemaID]\n",
    "            assert cls.script == script, (script[:32], schema.script[:32])\n",
    "            raise KeyError\n",
    "        except KeyError:\n",
    "            meta._premade[schemaID] = cls\n",
    "        return cls\n",
    "    @property\n",
    "    def script(self): return self._script\n",
    "    @property\n",
    "    def schemaID(self): return self._schemaID\n",
    "    @property\n",
    "    def daughter(self) -> type:\n",
    "        return UserCase\n",
    "\n",
    "class Case(Schema):\n",
    "    def __new__(meta, *args, **kwargs):\n",
    "        return Schema.__new__(meta, *args, **kwargs)\n",
    "    def __init__(self, *args, case: _Cascade, **kwargs):\n",
    "        self._case = case\n",
    "        self._inputs = self.defaults.copy(**case)\n",
    "        super().__init__(*args, **kwargs)\n",
    "    @property\n",
    "    def shape(self):\n",
    "        _, *dims = super().shape\n",
    "        return tuple(dims)\n",
    "    @property\n",
    "    def case(self): return self._case\n",
    "    @property\n",
    "    def caseID(self): return self.case.hashID\n",
    "    @property\n",
    "    def hashID(self): return self.schemaID + ':' + self.caseID\n",
    "    @property\n",
    "    def inputs(self):return self._inputs\n",
    "    def __call__(self, **kwargs):\n",
    "        instance = object.__new__(self)\n",
    "        inputs = self.inputs\n",
    "        setArgs, setKwargs = inputs.args, inputs.kwargs\n",
    "        instance.__init__(*setArgs, **{**kwargs, **setKwargs})\n",
    "        instance.case = self.case\n",
    "        instanceID = str(_reseed.digits(12))\n",
    "        instance.instanceID = instanceID\n",
    "        instance.hashID = self.hashID + ';' + instanceID\n",
    "        instance.inputs = inputs\n",
    "        return instance\n",
    "\n",
    "class UserCase(Case, UserSchema):\n",
    "    ...\n",
    "\n",
    "class Basic(metaclass = Schema):\n",
    "    ...\n",
    "\n",
    "class MyClass(Basic, metaclass = UserSchema):\n",
    "    def __init__(self,\n",
    "            a = 1,\n",
    "            b = 2,\n",
    "            c = 3,\n",
    "            **kwargs,\n",
    "            ):\n",
    "        self.foo = a * b * c\n",
    "        super().__init__(**kwargs)\n",
    "\n",
    "################################################################################"
   ]
  },
  {
   "cell_type": "code",
   "execution_count": 13,
   "id": "charming-victim",
   "metadata": {},
   "outputs": [
    {
     "name": "stdout",
     "output_type": "stream",
     "text": [
      "<__main__.MyClass:insignificant-cattery object at 0x7f1582c00a90>\n",
      "Glipsy-Mohamedamin:insignificant-cattery;9487504950150\n",
      "Inputs{MyClass}(\n",
      "    a = 10\n",
      "    b = 2\n",
      "    c = 3\n",
      "    )\n",
      "60\n"
     ]
    }
   ],
   "source": [
    "myobj = MyClass(a = 10)\n",
    "print(repr(myobj))\n",
    "print(myobj.hashID)\n",
    "print(myobj.inputs)\n",
    "print(myobj.foo)"
   ]
  },
  {
   "cell_type": "code",
   "execution_count": null,
   "id": "stable-external",
   "metadata": {},
   "outputs": [],
   "source": [
    "dict(UserSchema._premade)"
   ]
  },
  {
   "cell_type": "code",
   "execution_count": 8,
   "id": "satellite-legislation",
   "metadata": {},
   "outputs": [
    {
     "data": {
      "text/plain": [
       "__main__.MyClass"
      ]
     },
     "execution_count": 8,
     "metadata": {},
     "output_type": "execute_result"
    }
   ],
   "source": [
    "MyClass"
   ]
  },
  {
   "cell_type": "code",
   "execution_count": 14,
   "id": "correct-adobe",
   "metadata": {},
   "outputs": [],
   "source": [
    "class MyClass2(Basic, metaclass = UserSchema):\n",
    "    def __init__(self,\n",
    "            a = 10,\n",
    "            b = 20,\n",
    "            c = 30,\n",
    "            **kwargs,\n",
    "            ):\n",
    "        self.boo = a * b * c\n",
    "        super().__init__(**kwargs)"
   ]
  },
  {
   "cell_type": "code",
   "execution_count": 15,
   "id": "developed-grenada",
   "metadata": {},
   "outputs": [
    {
     "data": {
      "text/plain": [
       "{'Glipsy-Mohamedamin': __main__.MyClass, 'Liubomir-Basey': __main__.MyClass2}"
      ]
     },
     "execution_count": 15,
     "metadata": {},
     "output_type": "execute_result"
    }
   ],
   "source": [
    "dict(UserSchema._premade)"
   ]
  },
  {
   "cell_type": "code",
   "execution_count": null,
   "id": "dominant-demographic",
   "metadata": {},
   "outputs": [],
   "source": []
  }
 ],
 "metadata": {
  "kernelspec": {
   "display_name": "Python 3",
   "language": "python",
   "name": "python3"
  },
  "language_info": {
   "codemirror_mode": {
    "name": "ipython",
    "version": 3
   },
   "file_extension": ".py",
   "mimetype": "text/x-python",
   "name": "python",
   "nbconvert_exporter": "python",
   "pygments_lexer": "ipython3",
   "version": "3.8.6"
  }
 },
 "nbformat": 4,
 "nbformat_minor": 5
}
