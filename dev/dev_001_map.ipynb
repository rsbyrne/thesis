{
 "cells": [
  {
   "cell_type": "code",
   "execution_count": 1,
   "id": "devoted-florida",
   "metadata": {},
   "outputs": [],
   "source": [
    "from thesis_initialise import *"
   ]
  },
  {
   "cell_type": "code",
   "execution_count": 2,
   "id": "fluid-guidance",
   "metadata": {},
   "outputs": [],
   "source": [
    "from everest.funcy import Fn"
   ]
  },
  {
   "cell_type": "code",
   "execution_count": 3,
   "id": "naughty-apparatus",
   "metadata": {},
   "outputs": [
    {
     "data": {
      "text/plain": [
       "{'a': 1.0, 'b': 2.0, 'c': 3.0, 'd': 4.0}"
      ]
     },
     "execution_count": 3,
     "metadata": {},
     "output_type": "execute_result"
    }
   ],
   "source": [
    "mymap = Fn({\n",
    "    'a' : 1.,\n",
    "    ('b', 'c') : (2., 3.),\n",
    "    'd' : 4.\n",
    "    })\n",
    "mymap.value"
   ]
  },
  {
   "cell_type": "code",
   "execution_count": 4,
   "id": "third-professional",
   "metadata": {},
   "outputs": [
    {
     "data": {
      "text/plain": [
       "{'a': 1.0, 'b': 2.0, 'c': 3.0, 'd': 4.0}"
      ]
     },
     "execution_count": 4,
     "metadata": {},
     "output_type": "execute_result"
    }
   ],
   "source": [
    "mymap = Fn({\n",
    "    'a' : 1.,\n",
    "    Fn('b', 'c') : (2., 3.),\n",
    "    'd' : 4.\n",
    "    })\n",
    "mymap.value"
   ]
  },
  {
   "cell_type": "code",
   "execution_count": 5,
   "id": "closed-cabin",
   "metadata": {},
   "outputs": [
    {
     "data": {
      "text/plain": [
       "{'a': 1.0, 'b': 2.0, 'c': 3.0, 'd': 4.0}"
      ]
     },
     "execution_count": 5,
     "metadata": {},
     "output_type": "execute_result"
    }
   ],
   "source": [
    "mymap = Fn({\n",
    "    'a' : 1.,\n",
    "    ('b', 'c') : Fn(2., 3.),\n",
    "    'd' : 4.\n",
    "    })\n",
    "mymap.value"
   ]
  },
  {
   "cell_type": "code",
   "execution_count": 6,
   "id": "numerical-strength",
   "metadata": {},
   "outputs": [
    {
     "data": {
      "text/plain": [
       "{'a': 1.0, 'b': 2.0, 'c': 3.0, 'd': 4.0}"
      ]
     },
     "execution_count": 6,
     "metadata": {},
     "output_type": "execute_result"
    }
   ],
   "source": [
    "mymap = Fn({\n",
    "    'a' : 1.,\n",
    "    Fn('b', 'c') : Fn(2., 3.),\n",
    "    'd' : 4.\n",
    "    })\n",
    "mymap.value"
   ]
  },
  {
   "cell_type": "code",
   "execution_count": 7,
   "id": "regulation-latex",
   "metadata": {},
   "outputs": [
    {
     "data": {
      "text/plain": [
       "{'a': 1.0, 'b': 2, 'c': 3, 'd': 4}"
      ]
     },
     "execution_count": 7,
     "metadata": {},
     "output_type": "execute_result"
    }
   ],
   "source": [
    "mymap = Fn({\n",
    "    'a' : 1.,\n",
    "    ('b', ('c', 'd')) : (2, (3, 4))\n",
    "    })\n",
    "mymap.value"
   ]
  },
  {
   "cell_type": "code",
   "execution_count": 8,
   "id": "expired-houston",
   "metadata": {},
   "outputs": [
    {
     "data": {
      "text/plain": [
       "{'a': 1.0, 'b': 2, 'c': 3, 'd': 4}"
      ]
     },
     "execution_count": 8,
     "metadata": {},
     "output_type": "execute_result"
    }
   ],
   "source": [
    "mymap = Fn({\n",
    "    'a' : 1.,\n",
    "    Fn('b', Fn('c', 'd')) : Fn(2, Fn(3, 4))\n",
    "    })\n",
    "mymap.value"
   ]
  },
  {
   "cell_type": "code",
   "execution_count": 16,
   "id": "directed-watts",
   "metadata": {},
   "outputs": [
    {
     "data": {
      "text/plain": [
       "[getitem(Group(a, Group(b, Group(c, d))), 0),\n",
       " getitem(Group(a, Group(b, Group(c, d))), 1)]"
      ]
     },
     "execution_count": 16,
     "metadata": {},
     "output_type": "execute_result"
    }
   ],
   "source": [
    "list(mymap.keys())"
   ]
  },
  {
   "cell_type": "code",
   "execution_count": null,
   "id": "eligible-circuit",
   "metadata": {},
   "outputs": [],
   "source": []
  }
 ],
 "metadata": {
  "kernelspec": {
   "display_name": "Python 3",
   "language": "python",
   "name": "python3"
  },
  "language_info": {
   "codemirror_mode": {
    "name": "ipython",
    "version": 3
   },
   "file_extension": ".py",
   "mimetype": "text/x-python",
   "name": "python",
   "nbconvert_exporter": "python",
   "pygments_lexer": "ipython3",
   "version": "3.8.6"
  }
 },
 "nbformat": 4,
 "nbformat_minor": 5
}
