{
 "cells": [
  {
   "cell_type": "code",
   "execution_count": 1,
   "id": "chemical-publisher",
   "metadata": {
    "tags": [
     "remove_cell"
    ]
   },
   "outputs": [],
   "source": [
    "# This cell is tagged for removal\n",
    "\n",
    "import os\n",
    "import math\n",
    "import pickle\n",
    "from glob import glob\n",
    "\n",
    "import numpy as np\n",
    "import pandas as pd\n",
    "from IPython import display as idisplay\n",
    "\n",
    "from sklearn.metrics import r2_score\n",
    "\n",
    "import aliases # important this goes first to configure PATH\n",
    "\n",
    "from everest.window import Canvas, plot, raster, DataChannel as Channel, get_cmap\n",
    "from everest.window.colourmaps import *\n",
    "from everest.window import image, imop\n",
    "\n",
    "from referencing import search\n",
    "from myst_nb import glue\n",
    "from analysis import isovisc, arrhenius, utilities, common, analysis, visualisation\n",
    "%matplotlib inline\n",
    "\n",
    "osjoin = os.path.join\n",
    "\n",
    "import warnings\n",
    "\n",
    "warnings.filterwarnings(\"ignore\",category=UserWarning)"
   ]
  },
  {
   "cell_type": "code",
   "execution_count": null,
   "id": "unusual-horizontal",
   "metadata": {},
   "outputs": [],
   "source": []
  }
 ],
 "metadata": {
  "kernelspec": {
   "display_name": "Python 3",
   "language": "python",
   "name": "python3"
  },
  "language_info": {
   "codemirror_mode": {
    "name": "ipython",
    "version": 3
   },
   "file_extension": ".py",
   "mimetype": "text/x-python",
   "name": "python",
   "nbconvert_exporter": "python",
   "pygments_lexer": "ipython3",
   "version": "3.8.6"
  }
 },
 "nbformat": 4,
 "nbformat_minor": 5
}