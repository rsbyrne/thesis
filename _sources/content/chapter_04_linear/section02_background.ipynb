{
 "cells": [
  {
   "cell_type": "markdown",
   "id": "missing-friendly",
   "metadata": {},
   "source": [
    "# Background"
   ]
  },
  {
   "cell_type": "code",
   "execution_count": 1,
   "id": "rocky-boundary",
   "metadata": {
    "tags": [
     "remove_cell"
    ]
   },
   "outputs": [],
   "source": [
    "# This cell is tagged for removal\n",
    "from referencing import search"
   ]
  },
  {
   "cell_type": "markdown",
   "id": "opponent-bruce",
   "metadata": {},
   "source": [
    "Since the dawn of modern tectonic theory, geodynamicists have accepted that the interior of the Earth and other planets can to some degree be formalised as a variant of Rayleigh-Benard convection amenable to numerical simulation {cite}`Mckenzie1974-wb`. While early modelling efforts were focussed on simple rheologies and geometries out of necessity, increasing hardware and software capabilities have since allowed modern investigators to target much more sophisticated behaviours in the search for a truly Earth-like rheology, including strain-rate dependence {cite}`Moresi1998-az,Zhong1998-qg`, magmatic history {cite}`ONeill2018-hy`, chemical phases {cite}`Tackley2012-hq`, and more.\n",
    "\n",
    "The constant drive for increased model complexity comes at the expense of fundamental knowledge of the simpler rheologies which these more advanced systems are ultimately built over: ironic, as modern resources are only now able to support the breadth and detail that early authors would have preferred. There are two major contributors to this 'complexity preference' in the modelling literature:\n",
    "1. It is easier to argue that a new rheology represents novel work worth publishing.\n",
    "2. It is logistically less tiresome to orchestrate a small suite of large models than a large suite of small models.\n",
    "\n",
    "While there is not much to be done about the first factor, which plagues every academic literature, the second factor calls only for effort and invention. It suggests a particular lack of a particular capability: the means to design, operate, and analyse a modelling survey at a much higher level of abstraction.\n",
    "\n",
    "In this section it will be shown how the state of the art has developed over time with respect to linear rheologies in mantle convection, both in terms of analytical comprehension and numerical simulation. All pre-existing data regarding our parameter space of interest will be reviewed and any shortcoming or contradictions highlighted and discussed. Finally, the question of modelling strategy will be considered, and the essential demands of the problem underlined."
   ]
  },
  {
   "cell_type": "markdown",
   "id": "fitting-railway",
   "metadata": {},
   "source": [
    "## Basics of convection"
   ]
  },
  {
   "cell_type": "markdown",
   "id": "iraqi-choir",
   "metadata": {},
   "source": [
    "The essential model of planetary solid-state circulation is Rayleigh-Benard convection, in which a fluid held between two plane layers of different temperatures is observed to spontaneously self-organise into counter-rotating cells to maximise the efficiency of transport {cite}`Getling1998-gv`. Such a model is governed by three principal dimensionless quantities:\n",
    "- The *Prandtl* number, the ratio of momentum diffusivity (or kinematic viscosity) $\\nu$ to the thermal diffusivity $\\kappa$:\n",
    "\n",
    "$$ Pr = \\frac{\\nu}{\\kappa} $$\n",
    "\n",
    "- The *Reynolds* number, the ratio of inertial forces to viscous forces and hence a measure of flow turbulence (where $u$ is flow velocity and $L$ is a length scale):\n",
    "\n",
    "$$ Re =\\frac{u L}{\\nu} $$\n",
    "\n",
    "- And the *Rayleigh* number, the product of $Pr$ and $Re$, interperable as the ratio of buoyancy forces to viscous forces in the fluid (with thermal expansivity $\\alpha$, gravity $g$, thermal gradient $\\Delta T$, and length scale $D$):\n",
    "\n",
    "$$ Ra = \\frac{\\alpha g \\Delta T D^3}{\\kappa \\nu} $$\n",
    "\n",
    "In addition to these three input variables, one unifying output variable - also dimensionless - commonly enters into the analysis, and will prove an essential razor throughout this thesis: the *Nusselt* number, a measure of the efficiency of global thermal transport relative to that expected by conduction alone. It can be given in terms of the rate of change of the dimensionless potential temperature $\\theta^*$ with respect to dimensionless depth $y^*$ {cite}`Schubert2001-ea`:\n",
    "\n",
    "$$ Nu = 1 + \\left| \\frac{\\partial \\theta^*}{\\partial y^*} \\right| _S $$\n",
    "\n",
    "Where $|x|_S$ indicates the average value across a surface. The asterisks indicate a non-dimensionalised quantity: a common textbook convention. (In non-curved domains, $Nu$ is equivalent to the dimensionless surface temperature gradient, and it is confusingly defined as such in some contexts {cite}`Blankenbach1989-li`.)\n",
    "\n",
    "Because any convection of interest to us in the mantle is going to be occurring in the solid state, across great distances, and under tremendous heat gradients, we are able to make certain assumptions that simplify the analysis. Two are commonly made:\n",
    "- The *Boussinesq* approximation, in which non-gravitational terms of density are ignored, with the consequence that the fluid is incompressible. This is a justifiable assumption for just about any non-gaseous fluid, particularly one subjected to such extreme lithostatic pressures.\n",
    "- The infinite *Prandtl* assumption, in which momentum diffusivity is held to be much greater than thermal diffusivity. This is reasonable for the mantle given the measured value comes to at least $10^{23}$ {cite}`Schubert2001-ea`. Because $Pr \\cdot Re = Ra$, this also implies that the *Reynolds* number must be infinitesimal, and hence that inertial forces and the turbulent effects thereof are negligible.\n",
    "\n",
    "These two simplifications have many consequences. For one, they allow the four dimensionless parameters above to be collapsed to only two: the *Rayleigh* number $Ra$ and the *Nusselt* number $Nu$. It will shortly become clear that these two quantities actually bear a power-law relation through a third property, the '*beta* exponent' $\\beta$, that in a single stroke unifies the intrinsic and extrinsic characteristics of planetary thermal transport:\n",
    "\n",
    "$$ Nu \\propto Ra^{\\beta}$$\n",
    "\n",
    "This elegant law forms the analytical cornerstone of our work.\n",
    "\n",
    "Though we ground ourselves in theory, our method is empirical. Thankfully, the scheme we have laid out also provides a powerful framework for numericisation: by eliminating inertial, compressive, and turbulent forces, we are able to construct mantle convection as a kind of Stokes Flow under the body forcing of gravity $g$, limited by conservation of mass and iterated by advection-diffusion, and so captured by the equations:\n",
    "\n",
    "$$ \\begin{align*}\n",
    "\\nabla p - \\nabla \\left( \\eta D \\right) &= \\Delta \\rho \\mathbf{g} \\\\\n",
    "\\nabla \\cdot \\mathbf{u} &= 0 \\\\\n",
    "\\frac{\\partial T}{\\partial t} + \\mathbf{u} \\cdot \\nabla T &= \\kappa \\nabla^2 T + H \\\\\n",
    "\\end{align*} $$\n",
    "\n",
    "Where $\\eta$ is dynamic viscosity, $D$ the strain rate tensor, $p$ dynamic pressure, $\\Delta\\rho$ the density anomaly, $\\mathbf{g}$ the gravity vector, $\\mathbf{u}$ the velocity vector, $T$ temperature, $\\kappa$ thermal diffusivity, $t$ time, and $H$ a thermal source term, i.e. radiogenic heating.\n",
    "\n",
    "With these equations, we may implement an alternating cycle of instaneous pressure solutions followed by finite time-stepping of the temperature field (and any other state variables we choose to implement). Of course, such a system is meaningless and insoluble unless we further stipulate a geometry (width, length, depth, and curvature) and a set of boundary conditions for the temperature and velocity fields. The boundary conditions on each outer domain surface are typically set to be either:\n",
    "- Fixed in value (a 'Dirichlet' condition). For the temperature field, this would imply that the core and/or the space-facing surface of the planet are infinite thermal buffers. For the velocity field, this can be used - for example - to define surfaces that are impervious in the normal component and either no-stick, perfect-stick, or tractional in the parallel component.\n",
    "- Fixed in gradient (a 'Neumann' condition): for the temperature field, this would imply that the surface radiates heat at a fixed power, which in the case of zero power would make that boundary effectively insulating; for the velocity field, this essentially configures the strain rate in the chosen component.\n",
    "\n",
    "With respect to temperature, either of the above conditions can be set to inject or remove heat from the model, which - in tandem with the internal heat function $H$ - provides the fluid with the thermal situation its flow is expected to resolve, given sufficient time. On Earth, we imagine mantle convection and the interconnected phenomenon of surface tectonics to represent the Earth's own natural solution, or solution-in-progress, to the circumstance of volumetric radiogenic heating and basal heating from the core, although the debate over the relative significance of these is ancient and ongoing {cite}`Thomson1862-kb,Urey1955-zs,Korenaga2003-oy,Korenaga2008-js,Gando2011-sh,Mareschal2012-ie,Huang2013-eu,jaupart 2015,`. (For the models being discussed forthwith, we have restricted ourselves to free-slip velocity boundaries and Dirichlet thermal boundaries with a constant unit temperature gradient from top to bottom, such that the heating regime is always either purely basal or mixed.)\n",
    "\n",
    "Within these simplifying constraints, almost limitless variety is possible - which is why this essential formulation has become common to virtually all studies of mantle convection. However, while it is hoped that somewhere within problem-space a solution resembling Earth may be found, such a solution must elude us until our grasp of the fundamentals is absolute; and there is still much about even the simplest rheologies that we do not understand."
   ]
  },
  {
   "cell_type": "markdown",
   "id": "bound-belfast",
   "metadata": {},
   "source": [
    "## Linear rheologies\n",
    "\n",
    "When we talk about rheology, or a materials' style of flow, we are primarily talking about its viscosity function - the expression that maps the local viscosity at any point in the fluid to its context, history, or environment. While most fluids in the real world have complex 'Non-Newtonian' rheologies in which pressure and viscosity are co-dependent, mantle convection studies have often relied on simpler Newtonian rheologies that are more numerically and analytically tractable. These are what we here call 'linear rheologies'.\n",
    "\n",
    "The bulk of all mantle convection studies focus on one of the following three linear rheologies:\n",
    "- **Isoviscous** or 'constant viscosity' flow.\n",
    "- **Arrhenius**-type exponentially temperature-dependent viscosity.\n",
    "- **Spatialised** viscosity - either arbitrarily zoned or simply depth-dependent.\n",
    "\n",
    "For our investigation, we focussed on the Isoviscous and Arrhenius types, which we will now discuss in more detail."
   ]
  },
  {
   "cell_type": "markdown",
   "id": "serious-eleven",
   "metadata": {},
   "source": [
    "### Isoviscous rheology\n",
    "\n",
    "Due to their simplicity and amenability to symbolic analysis, isoviscous models were among the earliest published mantle convection models {cite}`McKenzie1973-gt,McKenzie1974-wb,Jarvis1986-me,Blankenbach1989-li`, and they continue to be produced and discussed today {cite}`Zhong2005-lh,Weller2016-ej,Weller2016-nm,Vilella2018-il`.\n",
    "\n",
    "In an isoviscous model, the viscosity function (usually set to $\\eta=1$) is constant throughouts space and time. Though simple, it is nevertheless albe to reproduce appropriate surface velocities, gravitational profiles, and even topographic wavelengths {cite}`McKenzie1973-gt,McKenzie1974-wb`. Though its parameters are few, there remain limitless possible variations through *Rayleigh* number, internal heat $H$, domain geometry, and choice of boundary condition - many of which boast long-term stability solutions with enough implicit nonlinearity to make purely analytical studies infeasible {cite}`Daly1980-xl`. And while the isoviscous model is certainly the most computationally tractable of all mantle-like rheologies, it is only in the last decade that simulations of appropriate scale for the Earth ($Ra>10^7$) have become possible {cite}`Vynnycky2013-wg,Trubitsyn2018-jo`; these have confirmed earlier intuitions that stable convective planforms may either not exist, or may never manifest, on planetary spatiotemporal scales {cite}`Huttig2011-jt`.\n",
    "\n",
    "Although the model does bely considerable complexity, it is simple enough to make some solutions analytically attainable. Like all convecting systems, a 'critical' *Rayleigh* number $Ra_{cr}$ should exist below which convection ceases and conduction dominates (i.e. $Nu=1$), defining a 'supercritical $Ra$':\n",
    "\n",
    "$$ R=\\frac{Ra}{Ra_{cr}} $$\n",
    "\n",
    "At $R=1$, perturbations of a certain 'critical' wavelength are uniquely able to grow faster than the conductive geotherm and hence become unstable; increasing $R$ beyond $1$ makes more wavelengths available for convective growth,  until at extreme values ($Ra >> 10^7$) even artificial heterogeneities introduced by random noise can grow, such that large-scale models become overwhelmingly time-dependent {cite}`Jarvis1984-xo`. For a plane domain of infinite horizontal extent, the critical wavelength $\\lambda_{cr}$ should be exactly $\\sqrt{2}$ {cite}`Chandrasekhar1961-ez`, corresponding to a $Ra_{cr}$ of exactly {cite}`Malkus1954-ee`:\n",
    "\n",
    "$$ Ra_{cr} = \\frac{27\\pi^4}{4} \\approx 657.5 $$\n",
    "\n",
    "In any real system, however, $A$ cannot be infinite, and may be literally or effectively compressed such that the critical wavelength is no longer available. The effect of this is to create a dependency of $Ra_{cr}$ on $A$ {cite}`Chandrasekhar1961-ez`:\n",
    "\n",
    "$$ Ra_{cr} = \\frac{\\pi^4 \\left( 1 + A^2 \\right)^3}{A^4} $$\n",
    "\n",
    "At the unit aspect ratios typically modelled, for instance, $Ra_{cr}$ should instead approach ({cite}`Grover1968-wa`):\n",
    "\n",
    "$$ Ra_{cr} = 2^3\\pi^4 \\approx 779.3 $$\n",
    "\n",
    "A value which is borne out in laboratory testing {cite}`Whitehead2011-gs`.\n",
    "\n",
    "If an isoviscous system does stabilise, the symmetry of the system requires that the upper and lower thermal boundaries become identical, 180-degree rotations of one another. Using Boundary Layer Theory {cite}`Olson1987-do` - the sub-analysis of arbitrarily thin layers at domain margins - a family of such stable planforms can be identified which follow a simple scaling law, mentioned previously and expounded in the textbook literature {cite}`Schubert2001-ea`:\n",
    "\n",
    "$$ Nu \\propto Ra^{\\beta}, \\quad \\beta \\to \\frac{1}{3} $$\n",
    "\n",
    "Where $Nu$ is the Nusselt number. The coefficient of proportionality is theoretically $\\approx 0.1941$ {cite}`Olson1987-do`, though it has been argued that its value will tend be dominated by uncertainty in practice {cite}`Lenardic2003-wd`; reported values have ranged between $0.25-0.27$ {cite}`Olson1987-do`.\n",
    "\n",
    "An equivalent scaling {cite}`Jarvis1982-ua` has instead:\n",
    "\n",
    "$$ Nu \\propto R^{\\beta} $$\n",
    "\n",
    "Where $R$, again, is the proportion by which $Ra$ exceeds $Ra_{cr}$. Defining $Ra$ in this way preserves the value of $\\beta$ but allows the coefficient to relate more strictly to non-thermal factors like the domain geometry, particularly the aspect ratio, which was observed to stretch or compress the planform horizontally without changing the underlying boundary stability criteria {cite}`Jarvis1982-ua`.\n",
    "\n",
    "In any case, at the state where $Nu$ satisfies this scaling, the interior of each cell becomes a homogeneous region of uniform temperatures and low velocities, with strong gradients and shears at the margins, with the overall cell dimensions approaching an aspect ratio of $\\sqrt{2}$. Because of the fixed temperature scale, the only way heat transport can be enhanced is by thinning the boundary layers, which in practice occurs by dripping/pluming until only the theoretical stable boundary thickness is left. For this reason, $Nu$ also functions as a useful proxy for boundary layer thickness when this is otherwise hard to define.\n",
    "\n",
    "The canonical *beta* scaling is seductive because it connects the relatively well-constrained fact of surface geothermal flux with the more mysterious thermal state of the mantle, and so allows parameterised thermal histories to be projected through deep time. The $\\beta \\to \\frac{1}{3}$ limit itself ultimately derives from the *Rayleigh* number's dependence on length cubed, and while there is no *a priori* reason to believe that this analytical justification must be borne out in practice, it has been recognised as extremely suggestive for over half a century {cite}`Chan1971-xv`. Testing this scaling behaviour empirically was an early priority of computational geodynamics, with several studies producing estimates that converged on, but did not achieve, the theoretical $\\frac{1}{3}$ scaling: the value has been reported as any of $0.313$ {cite}`Jarvis1982-ua`, $0.318$ {cite}`Jarvis1986-me`, $0.319$ {cite}`Schubert1985-sy`, and $0.36$ {cite}`Quareni1985-ff`, using various methods. The reason for the deviation is uncertain. It was for a time suggested that, at very high *Rayleigh* numbers, an 'asymptotic regime' of $\\beta \\to \\frac{1}{2}$ might emerge, which might help explain the apparent 'thermal catastophe' of the Early Earth {cite}`Urey1955-zs`; however, a definitive laboratory study using liquid helium {cite}`Niemela2000-cu` found that there is no such transition within $Ra<=10^7$, and reported instead an empirical value of $0.31$ for the interval $Ra: 10^6 - 10^7$, in close agreement with numerical results.\n",
    "\n",
    "While the *beta* scaling strictly holds only for those isoviscous systems with purely basal (no volumetric) heating, Cartesian geometry, and free-slip boundaries, it has been found to hold for a wide range of systems if certain corrections are made."
   ]
  },
  {
   "cell_type": "markdown",
   "id": "bearing-empire",
   "metadata": {},
   "source": [
    "#### Isoviscous rheology in cylindrical geometry\n",
    "\n",
    "If the domain is allowed to curve around the $z$ axis, a cylindrical or annular geometry is obtained which is more appropriate for planetary mantles. The curavture is defined by the ratio of radii $f$, where $f=1$ is equivalent to a Cartesian box, $f\\to0$ becomes a complete wedge, and the values $\\sim 0.5$ and $\\sim 0.9$ would be appropriate for the whole mantle and upper mantle respectively:\n",
    "\n",
    "$$ f = \\frac{r_{inner}}{r_{outer}} $$\n",
    "\n",
    "(Equivalently, the ratio of circumferences may be used.) It then becomes convenient to define the aspect ratio as the length of the arc through the mid-depth of the domain:\n",
    "\n",
    "$$ A_{f} = \\frac{1 + f}{2(1 - f} D $$\n",
    "\n",
    "Where $D = r_{outer} - r_{inner}$. A convenience of this definition is that the area of the domain remains constant when $A_f$ is constant, regardless of the curvature $f$.\n",
    "\n",
    "The curvature $f$ immediately affects the expected conductive geotherm: where in a Cartesian box, the flux goes constantly with depth $\\phi_q \\propto \\Delta T$, with curvature it becomes variable with radial height $r$ as the flux is progressively spread out over increasing area:\n",
    "\n",
    "$$ \\phi_q \\propto \\frac{-1}{r \\ln f} $$\n",
    "\n",
    "An important consequence of the changed conductive geotherm is that $Nu$ is no longer equivalent to the dimensionless temperature gradient, but rather scales from it by a function of $f$:\n",
    "\n",
    "$$ Nu = \\frac{\\ln f}{1 - f} \\cdot \\left| \\frac{\\partial T}{\\partial r} \\right| _{S} $$\n",
    "\n",
    "Where $|x|_S$ again represents the average value across a surface.\n",
    "\n",
    "The same factors of decreasing $f$ drive a decrease in intracellular temperatures, and hence global average temperatures {cite}`Jarvis1994-np`:\n",
    "\n",
    "$$ T_{av} = \\frac{1}{\\left( 1 + f^{-3/4} \\right)} $$\n",
    "\n",
    "When considering convection in a cylindrical domain, the immediate qualitative difference resulting from curvature is the asymmetry of the two boundary layers. The additional space at the top of the model now allows more room for downwellings relative to basal upwellings, tending to promote instability {cite}`Jarvis1991-ir`; on the other hand, the curved geotherm and the increased surface for radiating heat would tend to permit a comparatively thicker upper boundary layer. The effect of these countervailing forcings on the fundamental scaling scaling relation $Nu \\propto R^{\\beta}$ is not obvious, but one analytical treatment by Jarvis {cite}`Jarvis1993-cb` combines the results obtained above to produce a 'geometric correction' $g(f)$, which enters the power law as a scaling coefficient:\n",
    "\n",
    "$$\n",
    "g(f) = \\frac{\\ln f}{ \\left( 1 - f \\right) } \\cdot -\\left( \\frac{1}{1 + f^{-3/4}} \\right) ^{4/3} \\\\\n",
    "Nu = g(f) \\cdot R^{\\frac{1}{3}}\n",
    "$$\n",
    "\n",
    "Using this scaling, Jarvis was able to obtain a *beta* exponent of $0.321 \\pm 0.001$ across four values of $f$ from $(1.0 - 0.1)$ {cite}`Jarvis1993-cb`.\n",
    "\n",
    "To define $R=\\frac{Ra}{Ra_{cr}}$, Jarvis and Vangelov further provided an 'approximate' expression for the critical $Ra$ accounting for curvature $f$ in cylindrical shells:\n",
    "\n",
    "$$ Ra_{cr} = \\frac{\\left( \\pi^2 + F^{-2} \\right)}{ } $$\n",
    "\n",
    "In a later paper, Jarvis and Vangelov developed their analysis to include estimates of "
   ]
  },
  {
   "cell_type": "markdown",
   "id": "computational-rabbit",
   "metadata": {},
   "source": [
    "$$ Ra_{cr} = \\left( \\pi^2 + F^{-2} \\right)^3 F^2 $$\n",
    "$$ F = \\frac{1 + f}{2(1 - f)} $$"
   ]
  }
 ],
 "metadata": {
  "kernelspec": {
   "display_name": "Python 3",
   "language": "python",
   "name": "python3"
  },
  "language_info": {
   "codemirror_mode": {
    "name": "ipython",
    "version": 3
   },
   "file_extension": ".py",
   "mimetype": "text/x-python",
   "name": "python",
   "nbconvert_exporter": "python",
   "pygments_lexer": "ipython3",
   "version": "3.8.6"
  }
 },
 "nbformat": 4,
 "nbformat_minor": 5
}
