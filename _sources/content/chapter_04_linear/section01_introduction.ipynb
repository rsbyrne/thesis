{
 "cells": [
  {
   "cell_type": "markdown",
   "id": "radical-cisco",
   "metadata": {},
   "source": [
    "# Introduction"
   ]
  },
  {
   "cell_type": "code",
   "execution_count": 14,
   "id": "afraid-writer",
   "metadata": {
    "tags": [
     "remove-cell"
    ]
   },
   "outputs": [],
   "source": [
    "from referencing import search"
   ]
  },
  {
   "cell_type": "code",
   "execution_count": 15,
   "id": "agricultural-yesterday",
   "metadata": {
    "tags": [
     "remove-cell"
    ]
   },
   "outputs": [
    {
     "name": "stdout",
     "output_type": "stream",
     "text": [
      "\n",
      "\n",
      "-------------------------------------------------------------------------------\n",
      "Stern2015-fe\n",
      "The Pluto system: Initial results from its exploration by New\n",
      "Horizons\n",
      "Stern, S A and Bagenal, F and Ennico, K and Gladstone, G R and\n",
      "Grundy, W M and McKinnon, W B and Moore, J M and Olkin, C B and\n",
      "Spencer, J R and Weaver, H A and Young, L A and Andert, T and\n",
      "Andrews, J and Banks, M and Bauer, B and Bauman, J and Barnouin,\n",
      "O S and Bedini, P and Beisser, K and Beyer, R A and Bhaskaran, S\n",
      "and Binzel, R P and Birath, E and Bird, M and Bogan, D J and\n",
      "Bowman, A and Bray, V J and Brozovic, M and Bryan, C and Buckley,\n",
      "M R and Buie, M W and Buratti, B J and Bushman, S S and Calloway,\n",
      "A and Carcich, B and Cheng, A F and Conard, S and Conrad, C A and\n",
      "Cook, J C and Cruikshank, D P and Custodio, O S and Dalle Ore, C\n",
      "M and Deboy, C and Dischner, Z J B and Dumont, P and Earle, A M\n",
      "and Elliott, H A and Ercol, J and Ernst, C M and Finley, T and\n",
      "Flanigan, S H and Fountain, G and Freeze, M J and Greathouse, T\n",
      "and Green, J L and Guo, Y and Hahn, M and Hamilton, D P and\n",
      "Hamilton, S A and Hanley, J and Harch, A and Hart, H M and\n",
      "Hersman, C B and Hill, A and Hill, M E and Hinson, D P and\n",
      "Holdridge, M E and Horanyi, M and Howard, A D and Howett, C J A\n",
      "and Jackman, C and Jacobson, R A and Jennings, D E and Kammer, J\n",
      "A and Kang, H K and Kaufmann, D E and Kollmann, P and Krimigis, S\n",
      "M and Kusnierkiewicz, D and Lauer, T R and Lee, J E and\n",
      "Lindstrom, K L and Linscott, I R and Lisse, C M and Lunsford, A W\n",
      "and Mallder, V A and Martin, N and McComas, D J and McNutt, Jr, R\n",
      "L and Mehoke, D and Mehoke, T and Melin, E D and Mutchler, M and\n",
      "Nelson, D and Nimmo, F and Nunez, J I and Ocampo, A and Owen, W M\n",
      "and Paetzold, M and Page, B and Parker, A H and Parker, J W and\n",
      "Pelletier, F and Peterson, J and Pinkine, N and Piquette, M and\n",
      "Porter, S B and Protopapa, S and Redfern, J and Reitsema, H J and\n",
      "Reuter, D C and Roberts, J H and Robbins, S J and Rogers, G and\n",
      "Rose, D and Runyon, K and Retherford, K D and Ryschkewitsch, M G\n",
      "and Schenk, P and Schindhelm, E and Sepan, B and Showalter, M R\n",
      "and Singer, K N and Soluri, M and Stanbridge, D and Steffl, A J\n",
      "and Strobel, D F and Stryk, T and Summers, M E and Szalay, J R\n",
      "and Tapley, M and Taylor, A and Taylor, H and Throop, H B and\n",
      "Tsang, C C C and Tyler, G L and Umurhan, O M and Verbiscer, A J\n",
      "and Versteeg, M H and Vincent, M and Webbert, R and Weidner, S\n",
      "and Weigle, 2nd, G E and White, O L and Whittenburg, K and\n",
      "Williams, B G and Williams, K and Williams, S and Woods, W W and\n",
      "Zangari, A M and Zirnstein, E\n",
      "-------------------------------------------------------------------------------\n",
      "Abstract:\n",
      "The Pluto system was recently explored by NASA's New Horizons\n",
      "spacecraft, making closest approach on 14 July 2015. Pluto's\n",
      "surface displays diverse landforms, terrain ages, albedos,\n",
      "colors, and composition gradients. Evidence is found for a\n",
      "water-ice crust, geologically young surface units, surface ice\n",
      "convection, wind streaks, volatile transport, and glacial flow.\n",
      "Pluto's atmosphere is highly extended, with trace hydrocarbons, a\n",
      "global haze layer, and a surface pressure near 10 microbars.\n",
      "Pluto's diverse surface geology and long-term activity raise\n",
      "fundamental questions about how small planets remain active many\n",
      "billions of years after formation. Pluto's large moon Charon\n",
      "displays tectonics and evidence for a heterogeneous crustal\n",
      "composition; its north pole displays puzzling dark terrain. Small\n",
      "satellites Hydra and Nix have higher albedos than expected.\n",
      "-------------------------------------------------------------------------------\n",
      "\n",
      "\n"
     ]
    }
   ],
   "source": [
    "search('tectonics stern pluto')"
   ]
  },
  {
   "cell_type": "code",
   "execution_count": null,
   "id": "catholic-mechanism",
   "metadata": {},
   "outputs": [],
   "source": []
  }
 ],
 "metadata": {
  "kernelspec": {
   "display_name": "Python 3",
   "language": "python",
   "name": "python3"
  },
  "language_info": {
   "codemirror_mode": {
    "name": "ipython",
    "version": 3
   },
   "file_extension": ".py",
   "mimetype": "text/x-python",
   "name": "python",
   "nbconvert_exporter": "python",
   "pygments_lexer": "ipython3",
   "version": "3.8.6"
  }
 },
 "nbformat": 4,
 "nbformat_minor": 5
}
