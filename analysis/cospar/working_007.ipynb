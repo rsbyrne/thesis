{
 "cells": [
  {
   "cell_type": "code",
   "execution_count": 1,
   "metadata": {},
   "outputs": [],
   "source": [
    "import sys, os\n",
    "everestPath = os.path.abspath('everest')\n",
    "if not everestPath in sys.path:\n",
    "    sys.path.insert(0, everestPath)"
   ]
  },
  {
   "cell_type": "code",
   "execution_count": 2,
   "metadata": {},
   "outputs": [],
   "source": [
    "import math\n",
    "\n",
    "import numpy as np"
   ]
  },
  {
   "cell_type": "code",
   "execution_count": 3,
   "metadata": {},
   "outputs": [],
   "source": [
    "from everest.window.data import DataChannel"
   ]
  },
  {
   "cell_type": "code",
   "execution_count": 4,
   "metadata": {},
   "outputs": [
    {
     "name": "stdout",
     "output_type": "stream",
     "text": [
      "-9 ['0' '1' '2' '3' '4' '5'] E-9\n",
      "-8 ['0' '10' '20' '30' '40' '50'] E-9\n",
      "-7 ['0' '0.1' '0.2' '0.3' '0.4' '0.5'] E-6\n",
      "-6 ['0' '1' '2' '3' '4' '5'] E-6\n",
      "-5 ['0' '10' '20' '30' '40' '50'] E-6\n",
      "-4 ['0' '0.1' '0.2' '0.3' '0.4' '0.5'] E-3\n",
      "-3 ['0' '1' '2' '3' '4' '5'] E-3\n",
      "-2 ['0' '10' '20' '30' '40' '50'] E-3\n",
      "-1 ['0' '0.1' '0.2' '0.3' '0.4' '0.5'] \n",
      "0 ['0' '1' '2' '3' '4' '5'] \n",
      "1 ['0' '10' '20' '30' '40' '50'] \n",
      "2 ['0' '0.1' '0.2' '0.3' '0.4' '0.5'] E3\n",
      "3 ['0' '1' '2' '3' '4' '5'] E3\n",
      "4 ['0' '10' '20' '30' '40' '50'] E3\n",
      "5 ['0' '0.1' '0.2' '0.3' '0.4' '0.5'] E6\n",
      "6 ['0' '1' '2' '3' '4' '5'] E6\n",
      "7 ['0' '10' '20' '30' '40' '50'] E6\n",
      "8 ['0' '0.1' '0.2' '0.3' '0.4' '0.5'] E9\n",
      "9 ['0' '1' '2' '3' '4' '5'] E9\n"
     ]
    }
   ],
   "source": [
    "for i in [-9, -8, -7, -6, -5, -4, -3, -2, -1, 0, 1, 2, 3, 4, 5, 6, 7, 8, 9]:\n",
    "#     mychan = DataChannel([v * 10 ** i for v in range(3)])\n",
    "#     labels, suffix = mychan.nice_tickLabels(mychan.nice_tickVals(5)[0])\n",
    "#     print(i, labels, suffix)\n",
    "    mychan = DataChannel([v * 10 ** i for v in range(6)])\n",
    "    labels, suffix = mychan.nice_tickLabels(mychan.nice_tickVals(5)[0])\n",
    "    print(i, labels, suffix)"
   ]
  },
  {
   "cell_type": "code",
   "execution_count": null,
   "metadata": {},
   "outputs": [],
   "source": []
  }
 ],
 "metadata": {
  "kernelspec": {
   "display_name": "Python 3",
   "language": "python",
   "name": "python3"
  },
  "language_info": {
   "codemirror_mode": {
    "name": "ipython",
    "version": 3
   },
   "file_extension": ".py",
   "mimetype": "text/x-python",
   "name": "python",
   "nbconvert_exporter": "python",
   "pygments_lexer": "ipython3",
   "version": "3.8.5"
  }
 },
 "nbformat": 4,
 "nbformat_minor": 4
}
