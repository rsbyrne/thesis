{
 "cells": [
  {
   "cell_type": "code",
   "execution_count": 1,
   "id": "pleasant-stability",
   "metadata": {},
   "outputs": [],
   "source": [
    "import thesis_initialise"
   ]
  },
  {
   "cell_type": "code",
   "execution_count": null,
   "id": "bearing-fleet",
   "metadata": {},
   "outputs": [],
   "source": [
    "import cospar"
   ]
  },
  {
   "cell_type": "code",
   "execution_count": 2,
   "id": "nasty-hands",
   "metadata": {},
   "outputs": [],
   "source": [
    "from everest.funcy import Fn"
   ]
  },
  {
   "cell_type": "code",
   "execution_count": null,
   "id": "american-grave",
   "metadata": {},
   "outputs": [],
   "source": [
    "from everest.funcy.ops import ops"
   ]
  },
  {
   "cell_type": "code",
   "execution_count": null,
   "id": "advisory-siemens",
   "metadata": {},
   "outputs": [],
   "source": [
    "mygrp = Fn(1, 2, 3)"
   ]
  },
  {
   "cell_type": "code",
   "execution_count": null,
   "id": "sweet-hollow",
   "metadata": {},
   "outputs": [],
   "source": [
    "[*mygrp]"
   ]
  },
  {
   "cell_type": "code",
   "execution_count": null,
   "id": "extensive-blast",
   "metadata": {},
   "outputs": [],
   "source": [
    "mygrp[:2]"
   ]
  },
  {
   "cell_type": "code",
   "execution_count": null,
   "id": "blessed-vinyl",
   "metadata": {},
   "outputs": [],
   "source": []
  },
  {
   "cell_type": "code",
   "execution_count": null,
   "id": "blessed-external",
   "metadata": {},
   "outputs": [],
   "source": [
    "myget = ops.getitem(Fn([1, 2]), 1)"
   ]
  },
  {
   "cell_type": "code",
   "execution_count": null,
   "id": "brave-beauty",
   "metadata": {},
   "outputs": [],
   "source": [
    "myget.value"
   ]
  },
  {
   "cell_type": "code",
   "execution_count": null,
   "id": "dynamic-humanity",
   "metadata": {},
   "outputs": [],
   "source": [
    "myop = Fn(2) + 1"
   ]
  },
  {
   "cell_type": "code",
   "execution_count": null,
   "id": "recovered-choice",
   "metadata": {},
   "outputs": [],
   "source": [
    "myop.terms"
   ]
  },
  {
   "cell_type": "code",
   "execution_count": null,
   "id": "covered-thursday",
   "metadata": {},
   "outputs": [],
   "source": []
  }
 ],
 "metadata": {
  "kernelspec": {
   "display_name": "Python 3",
   "language": "python",
   "name": "python3"
  },
  "language_info": {
   "codemirror_mode": {
    "name": "ipython",
    "version": 3
   },
   "file_extension": ".py",
   "mimetype": "text/x-python",
   "name": "python",
   "nbconvert_exporter": "python",
   "pygments_lexer": "ipython3",
   "version": "3.8.6"
  }
 },
 "nbformat": 4,
 "nbformat_minor": 5
}
