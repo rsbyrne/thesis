{
 "cells": [
  {
   "cell_type": "code",
   "execution_count": null,
   "metadata": {},
   "outputs": [],
   "source": [
    "import sys, os\n",
    "everestPath = os.path.abspath('everest')\n",
    "if not everestPath in sys.path:\n",
    "    sys.path.insert(0, everestPath)"
   ]
  },
  {
   "cell_type": "code",
   "execution_count": null,
   "metadata": {},
   "outputs": [],
   "source": [
    "from functools import reduce\n",
    "import operator\n",
    "import math\n",
    "import numpy as np\n",
    "import scipy as sp\n",
    "import pandas as pd\n",
    "import sklearn"
   ]
  },
  {
   "cell_type": "code",
   "execution_count": null,
   "metadata": {},
   "outputs": [],
   "source": [
    "from everest.h5anchor import Reader, Fetch\n",
    "F = lambda key: Fetch(f\"*/{key}\")"
   ]
  },
  {
   "cell_type": "code",
   "execution_count": null,
   "metadata": {},
   "outputs": [],
   "source": [
    "reader = Reader('obsvisc', '.')"
   ]
  },
  {
   "cell_type": "code",
   "execution_count": null,
   "metadata": {},
   "outputs": [],
   "source": [
    "from everest.window import Canvas\n",
    "from matplotlib.pyplot import get_cmap\n",
    "from IPython.display import Video\n",
    "from everest.window.raster import animate\n",
    "%matplotlib inline"
   ]
  },
  {
   "cell_type": "code",
   "execution_count": null,
   "metadata": {},
   "outputs": [],
   "source": [
    "cut = reader[(F('f') == 0.5) & (F('aspect') == 2) & (F('tauRef') == 10 ** 5.6)]\n",
    "pulled = reader[cut : ('t', 'theta', 'psi', 'epsilon')]\n",
    "t, *datas = pulled[list(pulled.keys())[0]]\n",
    "myanim = animate(datas, t, pts = 0.1, size = (128, 128), outputPath = 'animations')\n",
    "Video(myanim, embed = True, width = 400)"
   ]
  },
  {
   "cell_type": "code",
   "execution_count": null,
   "metadata": {},
   "outputs": [],
   "source": [
    "cut = reader[(F('f') == 0.5) & (F('aspect') == 2) & (F('tauRef') == 10 ** 5)]\n",
    "pulled = reader[cut : ('t', 'theta', 'psi', 'epsilon')]\n",
    "t, *datas = pulled[list(pulled.keys())[0]]\n",
    "myanim = animate(datas, t, pts = 0.1, size = (128, 128), outputPath = 'animations')\n",
    "Video(myanim, embed = True, width = 400)"
   ]
  },
  {
   "cell_type": "code",
   "execution_count": null,
   "metadata": {},
   "outputs": [],
   "source": [
    "cut = reader[(F('f') == 1) & (F('aspect') == 2) & (F('tauRef') == 10 ** 6)]\n",
    "pulled = reader[cut : ('t', 'theta', 'psi', 'epsilon')]\n",
    "t, *datas = pulled[list(pulled.keys())[0]]\n",
    "myanim = animate(datas, t, pts = 0.1, size = (128, 128), outputPath = 'animations')\n",
    "Video(myanim, embed = True, width = 400)"
   ]
  },
  {
   "cell_type": "code",
   "execution_count": null,
   "metadata": {},
   "outputs": [],
   "source": [
    "cut = reader[(F('f') == 1) & (F('aspect') == 2) & (F('tauRef') == 10 ** 5)]\n",
    "pulled = reader[cut : ('t', 'theta', 'psi', 'epsilon')]\n",
    "t, *datas = pulled[list(pulled.keys())[0]]\n",
    "myanim = animate(datas, t, pts = 0.1, size = (128, 128), outputPath = 'animations')\n",
    "Video(myanim, embed = True, width = 400)"
   ]
  },
  {
   "cell_type": "code",
   "execution_count": null,
   "metadata": {},
   "outputs": [],
   "source": [
    "cut = reader[(F('f') == 1) & (F('aspect') == 1) & (F('tauRef') == 10 ** 5)]\n",
    "pulled = reader[cut : ('t', 'theta', 'psi', 'epsilon')]\n",
    "t, *datas = pulled[list(pulled.keys())[0]]\n",
    "myanim = animate(datas, t, pts = 0.1, size = (128, 128), outputPath = 'animations')\n",
    "Video(myanim, embed = True, width = 400)"
   ]
  },
  {
   "cell_type": "code",
   "execution_count": null,
   "metadata": {},
   "outputs": [],
   "source": [
    "cut = reader[(F('f') == 1) & (F('aspect') == 1) & (F('tauRef') == 10 ** 6)]\n",
    "pulled = reader[cut : ('t', 'theta', 'psi', 'epsilon')]\n",
    "t, *datas = pulled[list(pulled.keys())[0]]\n",
    "myanim = animate(datas, t, pts = 0.1, size = (128, 128), outputPath = 'animations')\n",
    "Video(myanim, embed = True, width = 400)"
   ]
  },
  {
   "cell_type": "code",
   "execution_count": null,
   "metadata": {},
   "outputs": [],
   "source": []
  }
 ],
 "metadata": {
  "kernelspec": {
   "display_name": "Python 3",
   "language": "python",
   "name": "python3"
  },
  "language_info": {
   "codemirror_mode": {
    "name": "ipython",
    "version": 3
   },
   "file_extension": ".py",
   "mimetype": "text/x-python",
   "name": "python",
   "nbconvert_exporter": "python",
   "pygments_lexer": "ipython3",
   "version": "3.8.5"
  }
 },
 "nbformat": 4,
 "nbformat_minor": 4
}
