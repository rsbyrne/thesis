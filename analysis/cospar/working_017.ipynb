{
 "cells": [
  {
   "cell_type": "code",
   "execution_count": 65,
   "metadata": {},
   "outputs": [
    {
     "name": "stdout",
     "output_type": "stream",
     "text": [
      "245470.89156850285\n"
     ]
    }
   ],
   "source": [
    "import numpy as np\n",
    "arg = 3\n",
    "\n",
    "f = 1.\n",
    "aspect = 1.\n",
    "freq = 1.\n",
    "tauBounds = {\n",
    "    (0.5, 1, 1): ((5.5, 5.55), (5.75, 5.8)),\n",
    "    (0.6, 1, 1): ((5.45, 5.5), (5.75, 5.8)),\n",
    "    (0.7, 1, 1): ((5.45, 5.5), (5.75, 5.8)),\n",
    "    (0.8, 1, 1): ((5.4, 5.45), (5.7, 5.75)),\n",
    "    (0.9, 1, 1): ((5.35, 5.4), (5.7, 5.75)),\n",
    "    (1.0, 1, 1): ((5.35, 5.4), (5.7, 5.75)),\n",
    "    }[f, aspect, freq]\n",
    "tauExps = []\n",
    "for l, u in tauBounds:\n",
    "    tauExps.extend(round(v, 2) for v in np.linspace(l, u, num = 6)[1:-1])\n",
    "tauExp = tauExps[arg]\n",
    "tauRef = 10 ** tauExp\n"
   ]
  },
  {
   "cell_type": "code",
   "execution_count": 66,
   "metadata": {},
   "outputs": [
    {
     "data": {
      "text/plain": [
       "[5.36, 5.37, 5.38, 5.39, 5.71, 5.72, 5.73, 5.74]"
      ]
     },
     "execution_count": 66,
     "metadata": {},
     "output_type": "execute_result"
    }
   ],
   "source": [
    "tauExps"
   ]
  },
  {
   "cell_type": "code",
   "execution_count": 38,
   "metadata": {},
   "outputs": [
    {
     "name": "stdout",
     "output_type": "stream",
     "text": [
      "5.35 5.4\n",
      "5.7 5.75\n"
     ]
    }
   ],
   "source": [
    "for l, u in tauBounds:\n",
    "    print(l, u)"
   ]
  },
  {
   "cell_type": "code",
   "execution_count": 37,
   "metadata": {},
   "outputs": [
    {
     "data": {
      "text/plain": [
       "((5.35, 5.4), (5.7, 5.75))"
      ]
     },
     "execution_count": 37,
     "metadata": {},
     "output_type": "execute_result"
    }
   ],
   "source": [
    "tauBounds"
   ]
  },
  {
   "cell_type": "code",
   "execution_count": 3,
   "metadata": {},
   "outputs": [],
   "source": [
    "\n",
    "tauExp = {\n",
    "    0.5: [5.52, 5.54, 5.56, 5.58, 5.57\n",
    "    0.6:\n",
    "    0.7:\n",
    "    0.8:\n",
    "    0.9:\n",
    "    1.0:\n",
    "    }[f]\n",
    "tauRefs = [10 ** i for i in tauExp]"
   ]
  },
  {
   "cell_type": "code",
   "execution_count": null,
   "metadata": {},
   "outputs": [],
   "source": [
    "import numpy as np\n",
    "np.linspace(0)"
   ]
  }
 ],
 "metadata": {
  "kernelspec": {
   "display_name": "Python 3",
   "language": "python",
   "name": "python3"
  },
  "language_info": {
   "codemirror_mode": {
    "name": "ipython",
    "version": 3
   },
   "file_extension": ".py",
   "mimetype": "text/x-python",
   "name": "python",
   "nbconvert_exporter": "python",
   "pygments_lexer": "ipython3",
   "version": "3.8.5"
  }
 },
 "nbformat": 4,
 "nbformat_minor": 4
}
