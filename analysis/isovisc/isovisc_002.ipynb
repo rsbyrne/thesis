{
 "cells": [
  {
   "cell_type": "code",
   "execution_count": 1,
   "id": "sustainable-alexander",
   "metadata": {},
   "outputs": [],
   "source": [
    "import os\n",
    "import math\n",
    "\n",
    "import numpy as np\n",
    "import pandas as pd\n",
    "\n",
    "from analysis import isovisc, utilities, common\n",
    "reader = isovisc.data.reader\n",
    "from everest.h5anchor import Fetch, Scope\n",
    "from everest.window import Canvas, plot, raster, DataChannel as Channel, get_cmap\n",
    "%matplotlib inline"
   ]
  },
  {
   "cell_type": "code",
   "execution_count": null,
   "id": "announced-blackjack",
   "metadata": {},
   "outputs": [],
   "source": [
    "inputs, initials, finals, averages = isovisc.data.get_summary_frames()\n",
    "rasters = isovisc.data.get_rasters()"
   ]
  },
  {
   "cell_type": "code",
   "execution_count": null,
   "id": "dietary-exhibit",
   "metadata": {},
   "outputs": [],
   "source": []
  },
  {
   "cell_type": "code",
   "execution_count": 2,
   "id": "electrical-isolation",
   "metadata": {},
   "outputs": [],
   "source": [
    "from analysis.analysis import linear_regression"
   ]
  },
  {
   "cell_type": "code",
   "execution_count": null,
   "id": "stone-breed",
   "metadata": {},
   "outputs": [],
   "source": [
    "print(f\"\\q\")"
   ]
  },
  {
   "cell_type": "code",
   "execution_count": null,
   "id": "advance-yorkshire",
   "metadata": {},
   "outputs": [],
   "source": [
    "class TeXStr(str):\n",
    "    def __init__(self, strn):\n",
    "        if not strn[0] == '$':\n",
    "            strn = '$' + strn\n",
    "        if not strn[-1] == '$'"
   ]
  },
  {
   "cell_type": "code",
   "execution_count": null,
   "id": "consistent-press",
   "metadata": {},
   "outputs": [],
   "source": [
    "predictor(fs)"
   ]
  },
  {
   "cell_type": "code",
   "execution_count": null,
   "id": "nasty-broadcasting",
   "metadata": {},
   "outputs": [],
   "source": []
  },
  {
   "cell_type": "code",
   "execution_count": null,
   "id": "serial-initial",
   "metadata": {},
   "outputs": [],
   "source": [
    "plot.line(\n",
    "    (x := np.linspace(0.1, 0.9, 100)),\n",
    "    x**2 / (x**2 + 1)\n",
    "    )"
   ]
  },
  {
   "cell_type": "code",
   "execution_count": null,
   "id": "central-anxiety",
   "metadata": {},
   "outputs": [],
   "source": [
    "ax.ax.dataLim"
   ]
  },
  {
   "cell_type": "code",
   "execution_count": null,
   "id": "micro-prefix",
   "metadata": {},
   "outputs": [],
   "source": [
    "dir(ax.ax)"
   ]
  },
  {
   "cell_type": "code",
   "execution_count": null,
   "id": "suited-topic",
   "metadata": {},
   "outputs": [],
   "source": [
    "ax.props.edges.x.ticks.minor.values"
   ]
  },
  {
   "cell_type": "code",
   "execution_count": null,
   "id": "developing-calculation",
   "metadata": {},
   "outputs": [],
   "source": []
  },
  {
   "cell_type": "code",
   "execution_count": null,
   "id": "stylish-quarter",
   "metadata": {},
   "outputs": [],
   "source": [
    "def tcell(f):\n",
    "    return f**2 / (f**2 + 1)\n",
    "\n",
    "canvas = Canvas(size = (6, 6))\n",
    "ax = canvas.make_ax()\n",
    "ax.scatter(\n",
    "    (fs := inputs.loc[sel]['f']),\n",
    "    Channel(averages.loc[sel]['temp_av'], lims = (0, 1)),\n",
    "    c = inputs.loc[sel]['alpha']\n",
    "    )\n",
    "ax.line(\n",
    "    (fs := np.linspace(0.5, 1., 100)),\n",
    "    [tcell(f) for f in fs],\n",
    "    )\n",
    "canvas.show()"
   ]
  },
  {
   "cell_type": "code",
   "execution_count": null,
   "id": "forbidden-outreach",
   "metadata": {},
   "outputs": [],
   "source": [
    "sorted(fs)"
   ]
  },
  {
   "cell_type": "code",
   "execution_count": null,
   "id": "another-booking",
   "metadata": {},
   "outputs": [],
   "source": []
  }
 ],
 "metadata": {
  "kernelspec": {
   "display_name": "Python 3",
   "language": "python",
   "name": "python3"
  },
  "language_info": {
   "codemirror_mode": {
    "name": "ipython",
    "version": 3
   },
   "file_extension": ".py",
   "mimetype": "text/x-python",
   "name": "python",
   "nbconvert_exporter": "python",
   "pygments_lexer": "ipython3",
   "version": "3.8.6"
  }
 },
 "nbformat": 4,
 "nbformat_minor": 5
}
