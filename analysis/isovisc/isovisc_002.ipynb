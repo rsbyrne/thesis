{
 "cells": [
  {
   "cell_type": "code",
   "execution_count": null,
   "id": "connected-snowboard",
   "metadata": {},
   "outputs": [],
   "source": [
    "import os\n",
    "\n",
    "import numpy as np\n",
    "import pandas as pd\n",
    "\n",
    "from analysis import isovisc, utilities, common\n",
    "reader = isovisc.data.reader\n",
    "from everest.h5anchor import Fetch, Scope\n",
    "from everest.window import Canvas, plot, raster, DataChannel as Channel, get_cmap\n",
    "%matplotlib inline"
   ]
  },
  {
   "cell_type": "code",
   "execution_count": null,
   "id": "respected-venezuela",
   "metadata": {},
   "outputs": [],
   "source": [
    "inputs, initials, finals, averages = isovisc.data.get_summary_frames()\n",
    "rasters = isovisc.data.get_rasters()"
   ]
  }
 ],
 "metadata": {
  "kernelspec": {
   "display_name": "Python 3",
   "language": "python",
   "name": "python3"
  },
  "language_info": {
   "codemirror_mode": {
    "name": "ipython",
    "version": 3
   },
   "file_extension": ".py",
   "mimetype": "text/x-python",
   "name": "python",
   "nbconvert_exporter": "python",
   "pygments_lexer": "ipython3",
   "version": "3.8.6"
  }
 },
 "nbformat": 4,
 "nbformat_minor": 5
}
