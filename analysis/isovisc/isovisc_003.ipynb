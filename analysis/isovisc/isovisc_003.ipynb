{
 "cells": [
  {
   "cell_type": "code",
   "execution_count": 1,
   "id": "sustained-marketplace",
   "metadata": {},
   "outputs": [],
   "source": [
    "import math\n",
    "\n",
    "import numpy as np\n",
    "\n",
    "import aliases\n",
    "\n",
    "from everest.window import Canvas, DataChannel as Channel\n",
    "%matplotlib inline"
   ]
  },
  {
   "cell_type": "code",
   "execution_count": null,
   "id": "retained-norway",
   "metadata": {},
   "outputs": [],
   "source": [
    "f = 0.1\n",
    "T = np.array([ 1.        ,  0.8927669 ,  0.80674479,  0.73492868,  0.6732911 ,\n",
    "        0.61930565,  0.57128162,  0.52803383,  0.48869781,  0.45262504,\n",
    "        0.41931538,  0.38837562,  0.35949094,  0.33240484,  0.30690687,\n",
    "        0.28282049,  0.25999763,  0.23831241,  0.21765635,  0.19793671,\n",
    "        0.17907254,  0.16099202,  0.14363249,  0.12693925,  0.11086317,\n",
    "        0.09535974,  0.08038923,  0.06591645,  0.05190992,  0.03834034,\n",
    "        0.02518119,  0.01240831,  0.        ])\n",
    "rinner = f / (1 - f)\n",
    "h = np.linspace(0, 1, len(T))\n",
    "r = h + rinner\n",
    "\n",
    "canvas = Canvas(shape = (1, 2), size = (6, 6))\n",
    "ax1 = canvas.make_ax((0, 0))\n",
    "ax1.line(\n",
    "    Tchan := Channel(T, label = 'T'),\n",
    "    Channel(h, label = 'h'),\n",
    "    )\n",
    "ax2 = canvas.make_ax((0, 1))\n",
    "ax2.line(\n",
    "    Tchan,\n",
    "    Channel(r, label = 'r', capped = (True, True), log = True),\n",
    "    )\n",
    "ax2.props.edges.y.swap()\n",
    "canvas.show()"
   ]
  },
  {
   "cell_type": "code",
   "execution_count": null,
   "id": "characteristic-initial",
   "metadata": {},
   "outputs": [],
   "source": [
    "majors = ax2.props.edges.y.ticks.major.values\n",
    "ax2.props.edges.y.ticks.major.values = sorted(ax2.props.edges.y.ticks.major.values.append(math.log10())"
   ]
  },
  {
   "cell_type": "code",
   "execution_count": null,
   "id": "bound-incentive",
   "metadata": {},
   "outputs": [],
   "source": [
    "canvas = Canvas(size = (4, 4))\n",
    "ax = canvas.make_ax()\n",
    "ax.line(\n",
    "    Channel((x := np.linspace(0.9137259129, 100000, 100)), capped = (True, True)),\n",
    "    Channel(x, log = True, lims = (113, 341087), capped = (True, True)),\n",
    "#     Channel(x, log = True)\n",
    "    )\n",
    "canvas.show()"
   ]
  },
  {
   "cell_type": "code",
   "execution_count": null,
   "id": "synthetic-mechanics",
   "metadata": {},
   "outputs": [],
   "source": [
    "x = 1. / np.linspace(0.9137259129, 100000, 100)\n",
    "\n",
    "canvas = Canvas(size = (4, 4))\n",
    "ax = canvas.make_ax()\n",
    "ax.line(\n",
    "    Channel(x, log = True),\n",
    "    Channel(x, log = True),\n",
    "#     Channel(x, log = True)\n",
    "    )\n",
    "canvas.show()"
   ]
  },
  {
   "cell_type": "code",
   "execution_count": null,
   "id": "dental-bedroom",
   "metadata": {},
   "outputs": [],
   "source": [
    "canvas = Canvas(size = (5, 5))\n",
    "ax = canvas.make_ax()\n",
    "ax.line(\n",
    "    Channel(np.log10(x)),\n",
    "    Channel(np.log10(x)),\n",
    "    )\n",
    "canvas.show()"
   ]
  },
  {
   "cell_type": "code",
   "execution_count": null,
   "id": "heard-metro",
   "metadata": {},
   "outputs": [],
   "source": [
    "ax.pile[0]['x'].nice_interval(1)"
   ]
  },
  {
   "cell_type": "code",
   "execution_count": null,
   "id": "statewide-baking",
   "metadata": {},
   "outputs": [],
   "source": [
    "ax.pile.concatenated['x'].data"
   ]
  },
  {
   "cell_type": "code",
   "execution_count": null,
   "id": "nearby-naples",
   "metadata": {},
   "outputs": [],
   "source": [
    "ax.pile.concatenated['y'].data"
   ]
  },
  {
   "cell_type": "code",
   "execution_count": null,
   "id": "anonymous-capture",
   "metadata": {},
   "outputs": [],
   "source": [
    "y = np.log10(x)"
   ]
  },
  {
   "cell_type": "code",
   "execution_count": null,
   "id": "practical-municipality",
   "metadata": {},
   "outputs": [],
   "source": [
    "y.min()"
   ]
  },
  {
   "cell_type": "code",
   "execution_count": null,
   "id": "split-winning",
   "metadata": {},
   "outputs": [],
   "source": [
    "x"
   ]
  },
  {
   "cell_type": "code",
   "execution_count": null,
   "id": "suspended-accused",
   "metadata": {},
   "outputs": [],
   "source": [
    "1e-5 / 5"
   ]
  },
  {
   "cell_type": "code",
   "execution_count": null,
   "id": "previous-today",
   "metadata": {},
   "outputs": [],
   "source": [
    "val"
   ]
  },
  {
   "cell_type": "code",
   "execution_count": null,
   "id": "false-booking",
   "metadata": {},
   "outputs": [],
   "source": [
    "round(val / 10**exp, 12) == 1"
   ]
  },
  {
   "cell_type": "code",
   "execution_count": null,
   "id": "circular-estate",
   "metadata": {},
   "outputs": [],
   "source": [
    "val = 1e-5\n",
    "exp = -5"
   ]
  },
  {
   "cell_type": "code",
   "execution_count": null,
   "id": "strategic-banana",
   "metadata": {},
   "outputs": [],
   "source": [
    "round(val / 10 ** exp, 1)"
   ]
  },
  {
   "cell_type": "code",
   "execution_count": null,
   "id": "valid-craft",
   "metadata": {},
   "outputs": [],
   "source": [
    "val = 1e-5\n",
    "exp = -5\n",
    "''.join((\n",
    "    r'(\\sim',\n",
    "    str(round(val / 10**-exp, 1)),\n",
    "    r'\\times10^{',\n",
    "    str(exp),\n",
    "    r'})',\n",
    "    ))"
   ]
  },
  {
   "cell_type": "code",
   "execution_count": null,
   "id": "congressional-andorra",
   "metadata": {},
   "outputs": [],
   "source": [
    "ax.props.edges.x.ticks.major.labels"
   ]
  },
  {
   "cell_type": "code",
   "execution_count": null,
   "id": "severe-brunswick",
   "metadata": {},
   "outputs": [],
   "source": [
    "ax.props.edges.y.ticks.major.labels"
   ]
  },
  {
   "cell_type": "code",
   "execution_count": null,
   "id": "single-pillow",
   "metadata": {},
   "outputs": [],
   "source": [
    "ax.props.edges.y.label.text"
   ]
  },
  {
   "cell_type": "code",
   "execution_count": null,
   "id": "posted-drama",
   "metadata": {},
   "outputs": [],
   "source": [
    "canvas.s"
   ]
  },
  {
   "cell_type": "code",
   "execution_count": null,
   "id": "thermal-dining",
   "metadata": {},
   "outputs": [],
   "source": [
    "import numpy as np"
   ]
  },
  {
   "cell_type": "code",
   "execution_count": null,
   "id": "surprising-surfing",
   "metadata": {},
   "outputs": [],
   "source": [
    "majors = ax.props.edges.y.ticks.major.values[1:-1]\n",
    "majors"
   ]
  },
  {
   "cell_type": "code",
   "execution_count": null,
   "id": "liquid-dubai",
   "metadata": {},
   "outputs": [],
   "source": [
    "nminors = 4\n",
    "for lmajor, umajor in zip(majors[:-1], majors[1:]):\n",
    "    lower, upper = 10**lmajor, 10**umajor\n",
    "    print(lower, upper, round(upper / lower))\n",
    "#     print(np.round(np.linspace(lower, upper)[1:-1]))"
   ]
  },
  {
   "cell_type": "code",
   "execution_count": null,
   "id": "younger-valve",
   "metadata": {},
   "outputs": [],
   "source": [
    "nminors = 5\n",
    "for major in majors[:-1]:\n",
    "    print(round(10 ** major))\n",
    "    print(np.round(np.linspace(\n",
    "        10 ** major, 10 ** (major + 1), nminors + 2\n",
    "        )))"
   ]
  },
  {
   "cell_type": "code",
   "execution_count": null,
   "id": "ranging-patent",
   "metadata": {},
   "outputs": [],
   "source": [
    "majo"
   ]
  },
  {
   "cell_type": "code",
   "execution_count": null,
   "id": "fiscal-rapid",
   "metadata": {},
   "outputs": [],
   "source": [
    "majors = [1, 2, 3, 4]"
   ]
  },
  {
   "cell_type": "code",
   "execution_count": null,
   "id": "racial-canadian",
   "metadata": {},
   "outputs": [],
   "source": [
    "minors = np.log10(np.linspace(\n",
    "    10**majors[0],\n",
    "    10**majors[-1],\n",
    "    len(majors) * 10,\n",
    "    ))"
   ]
  },
  {
   "cell_type": "code",
   "execution_count": null,
   "id": "sized-universal",
   "metadata": {},
   "outputs": [],
   "source": [
    "minors"
   ]
  },
  {
   "cell_type": "code",
   "execution_count": null,
   "id": "stupid-mechanics",
   "metadata": {},
   "outputs": [],
   "source": [
    "mylist = [1, 2, 3]"
   ]
  },
  {
   "cell_type": "code",
   "execution_count": null,
   "id": "italic-theology",
   "metadata": {},
   "outputs": [],
   "source": [
    "mylist[:] = range(10)"
   ]
  },
  {
   "cell_type": "code",
   "execution_count": null,
   "id": "mediterranean-general",
   "metadata": {},
   "outputs": [],
   "source": [
    "mylist"
   ]
  },
  {
   "cell_type": "code",
   "execution_count": null,
   "id": "nonprofit-participation",
   "metadata": {},
   "outputs": [],
   "source": [
    "val = 4\n",
    "math.log10(5*10**val)"
   ]
  },
  {
   "cell_type": "code",
   "execution_count": null,
   "id": "endless-nicholas",
   "metadata": {},
   "outputs": [],
   "source": [
    "def log_semi_val(val):\n",
    "    return math.log10(5 * 10 ** val)"
   ]
  },
  {
   "cell_type": "code",
   "execution_count": null,
   "id": "natural-billy",
   "metadata": {},
   "outputs": [],
   "source": [
    "val = log_semi_val(-4)\n",
    "print(val)\n",
    "\n",
    "def proc_semi_val(exp):\n",
    "    absexp = abs(exp)\n",
    "    sign = 1 if exp > 0 else -1\n",
    "    floored = math.floor(absexp)\n",
    "    val = round(10 ** absexp)\n",
    "    print(val, floored)\n",
    "    if not val % floored:\n",
    "        return val / 10 ** absval\n",
    "\n",
    "proc_semi_val(val)"
   ]
  },
  {
   "cell_type": "code",
   "execution_count": null,
   "id": "referenced-rochester",
   "metadata": {},
   "outputs": [],
   "source": [
    "val"
   ]
  },
  {
   "cell_type": "code",
   "execution_count": null,
   "id": "insured-reputation",
   "metadata": {},
   "outputs": [],
   "source": [
    "exp = log_semi_val(-4)"
   ]
  },
  {
   "cell_type": "code",
   "execution_count": null,
   "id": "linear-ridge",
   "metadata": {},
   "outputs": [],
   "source": [
    "def proc_semi_val(val):\n",
    "    floorexp = math.floor(val)\n",
    "    coeff = round(10 ** (val - floorexp), 1)\n",
    "    if (rnd := round(coeff)) == coeff:\n",
    "        if -2 <= floorexp <= 3:\n",
    "            return str(round(10.**exp, 2))\n",
    "        return str(rnd) + r'\\times10^{' + str(floorexp) + '}'\n",
    "#     if floorexp \n",
    "#     return str(rnd) + r'\\times'"
   ]
  },
  {
   "cell_type": "code",
   "execution_count": null,
   "id": "outstanding-montgomery",
   "metadata": {},
   "outputs": [],
   "source": [
    "print(proc_semi_val(log_semi_val(-4)))"
   ]
  },
  {
   "cell_type": "markdown",
   "id": "organic-services",
   "metadata": {},
   "source": [
    "$$\n",
    "5\\times10^{-4}\n",
    "$$"
   ]
  },
  {
   "cell_type": "code",
   "execution_count": null,
   "id": "white-romania",
   "metadata": {},
   "outputs": [],
   "source": [
    "exp"
   ]
  },
  {
   "cell_type": "code",
   "execution_count": null,
   "id": "photographic-march",
   "metadata": {},
   "outputs": [],
   "source": [
    "round(10**-2, 2)"
   ]
  },
  {
   "cell_type": "code",
   "execution_count": null,
   "id": "official-fifth",
   "metadata": {},
   "outputs": [],
   "source": [
    "math.floor(exp)"
   ]
  },
  {
   "cell_type": "code",
   "execution_count": null,
   "id": "owned-placement",
   "metadata": {},
   "outputs": [],
   "source": [
    "floorexp"
   ]
  },
  {
   "cell_type": "code",
   "execution_count": null,
   "id": "little-andrews",
   "metadata": {},
   "outputs": [],
   "source": [
    "coeff"
   ]
  },
  {
   "cell_type": "code",
   "execution_count": null,
   "id": "instrumental-eligibility",
   "metadata": {},
   "outputs": [],
   "source": [
    "10**-2"
   ]
  },
  {
   "cell_type": "code",
   "execution_count": null,
   "id": "arbitrary-district",
   "metadata": {},
   "outputs": [],
   "source": [
    "10**3"
   ]
  },
  {
   "cell_type": "code",
   "execution_count": null,
   "id": "comprehensive-likelihood",
   "metadata": {},
   "outputs": [],
   "source": [
    "round(10 ** val,"
   ]
  },
  {
   "cell_type": "code",
   "execution_count": null,
   "id": "boolean-wednesday",
   "metadata": {},
   "outputs": [],
   "source": []
  },
  {
   "cell_type": "code",
   "execution_count": null,
   "id": "fundamental-liberia",
   "metadata": {},
   "outputs": [],
   "source": []
  },
  {
   "cell_type": "code",
   "execution_count": null,
   "id": "noted-classification",
   "metadata": {},
   "outputs": [],
   "source": [
    "pro"
   ]
  },
  {
   "cell_type": "code",
   "execution_count": null,
   "id": "civic-queens",
   "metadata": {},
   "outputs": [],
   "source": [
    "val"
   ]
  },
  {
   "cell_type": "code",
   "execution_count": null,
   "id": "other-village",
   "metadata": {},
   "outputs": [],
   "source": [
    "10**0.301"
   ]
  },
  {
   "cell_type": "code",
   "execution_count": null,
   "id": "swiss-columbia",
   "metadata": {},
   "outputs": [],
   "source": [
    "math.floor(1.1)"
   ]
  },
  {
   "cell_type": "code",
   "execution_count": null,
   "id": "breeding-response",
   "metadata": {},
   "outputs": [],
   "source": [
    "math.floor(-1.1)"
   ]
  },
  {
   "cell_type": "code",
   "execution_count": null,
   "id": "endangered-blackberry",
   "metadata": {},
   "outputs": [],
   "source": [
    "(*tup for tup in ((1, 2), (3, 4)))"
   ]
  },
  {
   "cell_type": "code",
   "execution_count": null,
   "id": "vietnamese-vegetarian",
   "metadata": {},
   "outputs": [],
   "source": [
    "round(1.1, 2)"
   ]
  },
  {
   "cell_type": "code",
   "execution_count": null,
   "id": "annual-acceptance",
   "metadata": {},
   "outputs": [],
   "source": [
    "str(round(9000., 3))"
   ]
  },
  {
   "cell_type": "code",
   "execution_count": null,
   "id": "operational-villa",
   "metadata": {},
   "outputs": [],
   "source": [
    "x = 4863.4343091          # example float to format\n",
    "\n",
    "print(f\"{x:.6}\") "
   ]
  },
  {
   "cell_type": "code",
   "execution_count": null,
   "id": "mathematical-richards",
   "metadata": {},
   "outputs": [],
   "source": [
    "val = -4863.4343091\n",
    "scinote = f\"{val:.2}\""
   ]
  },
  {
   "cell_type": "code",
   "execution_count": null,
   "id": "competitive-painting",
   "metadata": {},
   "outputs": [],
   "source": [
    "scinote"
   ]
  },
  {
   "cell_type": "code",
   "execution_count": null,
   "id": "conceptual-quilt",
   "metadata": {},
   "outputs": [],
   "source": [
    "scinote.split('e')"
   ]
  },
  {
   "cell_type": "code",
   "execution_count": null,
   "id": "hungry-kitchen",
   "metadata": {},
   "outputs": [],
   "source": [
    "def short_label(val):\n",
    "    print(f\"{val:.3}\")\n",
    "    pre, exp = f\"{val:.3}\".split('e')\n",
    "    return pre + r\"\\mathrm{E}\" + exp"
   ]
  },
  {
   "cell_type": "code",
   "execution_count": null,
   "id": "lucky-vulnerability",
   "metadata": {},
   "outputs": [],
   "source": [
    "short_label(val)"
   ]
  },
  {
   "cell_type": "code",
   "execution_count": null,
   "id": "italic-printing",
   "metadata": {},
   "outputs": [],
   "source": []
  },
  {
   "cell_type": "code",
   "execution_count": null,
   "id": "southeast-turtle",
   "metadata": {},
   "outputs": [],
   "source": [
    "x = 4863.4343091\n",
    "\n",
    "print(f\"{x:.3}\")  # 4.86e+03"
   ]
  },
  {
   "cell_type": "code",
   "execution_count": null,
   "id": "institutional-picking",
   "metadata": {},
   "outputs": [],
   "source": [
    "10 ** 3.13"
   ]
  },
  {
   "cell_type": "code",
   "execution_count": null,
   "id": "announced-theme",
   "metadata": {},
   "outputs": [],
   "source": [
    "x = -7.1         # example float to format\n",
    "\n",
    "print(f\"{x:.3}\") "
   ]
  },
  {
   "cell_type": "markdown",
   "id": "seeing-seafood",
   "metadata": {},
   "source": [
    "$1\\mathrm{e}{-10}$"
   ]
  },
  {
   "cell_type": "code",
   "execution_count": null,
   "id": "pediatric-discretion",
   "metadata": {},
   "outputs": [],
   "source": [
    "4 % 1"
   ]
  },
  {
   "cell_type": "code",
   "execution_count": null,
   "id": "demanding-shelter",
   "metadata": {},
   "outputs": [],
   "source": [
    "100 % 10"
   ]
  },
  {
   "cell_type": "code",
   "execution_count": null,
   "id": "prompt-prairie",
   "metadata": {},
   "outputs": [],
   "source": [
    "mylist = [1, 2, 3]"
   ]
  },
  {
   "cell_type": "code",
   "execution_count": null,
   "id": "random-traffic",
   "metadata": {},
   "outputs": [],
   "source": [
    "mylist.pop"
   ]
  },
  {
   "cell_type": "code",
   "execution_count": null,
   "id": "impressed-entertainment",
   "metadata": {},
   "outputs": [],
   "source": [
    "mylist.insert()"
   ]
  },
  {
   "cell_type": "code",
   "execution_count": null,
   "id": "legendary-boating",
   "metadata": {},
   "outputs": [],
   "source": []
  },
  {
   "cell_type": "code",
   "execution_count": null,
   "id": "sealed-insurance",
   "metadata": {},
   "outputs": [],
   "source": [
    "import matplotlib.pyplot as plt\n",
    "plt.rcParams.update({\n",
    "    \"text.usetex\": True,\n",
    "    \"font.family\": \"sans-serif\",\n",
    "    \"font.sans-serif\": [\"Helvetica\"]})\n",
    "\n",
    "import numpy as np\n",
    "import matplotlib\n",
    "matplotlib.rcParams['text.usetex'] = True\n",
    "import matplotlib.pyplot as plt\n",
    "\n",
    "\n",
    "t = np.linspace(0.0, 1.0, 100)\n",
    "s = np.cos(4 * np.pi * t) + 2\n",
    "\n",
    "fig, ax = plt.subplots(figsize=(6, 4), tight_layout=True)\n",
    "ax.plot(t, s)\n",
    "\n",
    "ax.set_xlabel(r'\\textbf{time (s)}')\n",
    "ax.set_ylabel('\\\\textit{Velocity (\\N{DEGREE SIGN}/sec)}', fontsize=16)\n",
    "ax.set_title(r'\\TeX\\ is Number $\\displaystyle\\sum_{n=1}^\\infty'\n",
    "             r'\\frac{-e^{i\\pi}}{2^n}$!', fontsize=16, color='r')"
   ]
  },
  {
   "cell_type": "code",
   "execution_count": null,
   "id": "painted-aquarium",
   "metadata": {},
   "outputs": [],
   "source": [
    "import math"
   ]
  },
  {
   "cell_type": "code",
   "execution_count": null,
   "id": "premium-hometown",
   "metadata": {},
   "outputs": [],
   "source": [
    "2**3 * math.pi**4"
   ]
  },
  {
   "cell_type": "code",
   "execution_count": null,
   "id": "seven-islam",
   "metadata": {},
   "outputs": [],
   "source": [
    "657.5 / math.pi**"
   ]
  },
  {
   "cell_type": "code",
   "execution_count": null,
   "id": "unexpected-frontier",
   "metadata": {},
   "outputs": [],
   "source": [
    "math.log(1)"
   ]
  },
  {
   "cell_type": "code",
   "execution_count": null,
   "id": "legendary-raleigh",
   "metadata": {},
   "outputs": [],
   "source": [
    "def flux(f, r):\n",
    "    return -(r * math.log(f))**-1\n",
    "def Nufr(f, r):\n",
    "    return flux(f, r) / (2 * math.pi * r)\n",
    "def rinner(f):\n",
    "    return f / (1 - f)\n",
    "def router(f):\n",
    "    return 1 / (1 - f)\n",
    "def Nuf(f):\n",
    "    return (Nufr(f, rinner(f)), Nufr(f, router(f)))"
   ]
  },
  {
   "cell_type": "code",
   "execution_count": null,
   "id": "expensive-ottawa",
   "metadata": {},
   "outputs": [],
   "source": [
    "Nuf(0.5)"
   ]
  },
  {
   "cell_type": "code",
   "execution_count": null,
   "id": "verified-fabric",
   "metadata": {},
   "outputs": [],
   "source": [
    "0.229 / 0.056"
   ]
  },
  {
   "cell_type": "code",
   "execution_count": null,
   "id": "bound-naples",
   "metadata": {},
   "outputs": [],
   "source": [
    "router(0.5) ** 2 / rinner(0.5) ** 2"
   ]
  },
  {
   "cell_type": "code",
   "execution_count": null,
   "id": "weighted-cookie",
   "metadata": {},
   "outputs": [],
   "source": [
    "1 / math.log(0.5) * math.pi * 2"
   ]
  },
  {
   "cell_type": "code",
   "execution_count": null,
   "id": "clear-standard",
   "metadata": {},
   "outputs": [],
   "source": [
    "math.pi / math.sqrt(2)"
   ]
  },
  {
   "cell_type": "code",
   "execution_count": null,
   "id": "sublime-cycle",
   "metadata": {},
   "outputs": [],
   "source": [
    "def tcell(f):\n",
    "    return f**2 / (f**2 + 1)"
   ]
  },
  {
   "cell_type": "code",
   "execution_count": null,
   "id": "dental-sucking",
   "metadata": {},
   "outputs": [],
   "source": [
    "tcell(0.5)"
   ]
  },
  {
   "cell_type": "code",
   "execution_count": null,
   "id": "ancient-poker",
   "metadata": {},
   "outputs": [],
   "source": [
    "import math"
   ]
  },
  {
   "cell_type": "code",
   "execution_count": null,
   "id": "confident-infrared",
   "metadata": {},
   "outputs": [],
   "source": [
    "import os\n",
    "\n",
    "import aliases"
   ]
  },
  {
   "cell_type": "code",
   "execution_count": null,
   "id": "tribal-alliance",
   "metadata": {},
   "outputs": [],
   "source": [
    "from everest.h5anchor import Reader"
   ]
  },
  {
   "cell_type": "code",
   "execution_count": null,
   "id": "standard-median",
   "metadata": {},
   "outputs": [],
   "source": [
    "reader = Reader('allout', aliases.datadir)"
   ]
  },
  {
   "cell_type": "code",
   "execution_count": null,
   "id": "small-thong",
   "metadata": {},
   "outputs": [],
   "source": [
    "with reader.open():\n",
    "    keys = list(reader.h5file.keys())"
   ]
  },
  {
   "cell_type": "code",
   "execution_count": null,
   "id": "parliamentary-columbus",
   "metadata": {},
   "outputs": [],
   "source": [
    "reader[keys[0]]"
   ]
  },
  {
   "cell_type": "code",
   "execution_count": null,
   "id": "traditional-variance",
   "metadata": {},
   "outputs": [],
   "source": [
    "import h5py"
   ]
  },
  {
   "cell_type": "code",
   "execution_count": null,
   "id": "shaped-depth",
   "metadata": {},
   "outputs": [],
   "source": [
    "out = dict()\n",
    "with h5py.File(os.path.join(aliases.datadir, 'allout.frm'), mode = 'r') as rfile:\n",
    "    for i, (key, grp) in enumerate(rfile.items()):\n",
    "        if not i % 1000:\n",
    "            print('.')\n",
    "        sub = out.setdefault(key, dict())\n",
    "        sub.update(grp['inputs'].attrs)"
   ]
  }
 ],
 "metadata": {
  "kernelspec": {
   "display_name": "Python 3",
   "language": "python",
   "name": "python3"
  },
  "language_info": {
   "codemirror_mode": {
    "name": "ipython",
    "version": 3
   },
   "file_extension": ".py",
   "mimetype": "text/x-python",
   "name": "python",
   "nbconvert_exporter": "python",
   "pygments_lexer": "ipython3",
   "version": "3.8.6"
  }
 },
 "nbformat": 4,
 "nbformat_minor": 5
}
