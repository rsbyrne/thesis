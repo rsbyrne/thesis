{
 "cells": [
  {
   "cell_type": "code",
   "execution_count": 1,
   "id": "incoming-electronics",
   "metadata": {},
   "outputs": [],
   "source": [
    "import os\n",
    "import h5py\n",
    "\n",
    "from analysis.common import Common\n",
    "from aliases import cachedir\n",
    "\n",
    "common = Common()\n",
    "osjoin = os.path.join"
   ]
  },
  {
   "cell_type": "code",
   "execution_count": 2,
   "id": "metropolitan-index",
   "metadata": {},
   "outputs": [],
   "source": [
    "reader = common.reader"
   ]
  },
  {
   "cell_type": "code",
   "execution_count": 3,
   "id": "revolutionary-treat",
   "metadata": {},
   "outputs": [],
   "source": [
    "from everest.h5anchor.reader import Readlet"
   ]
  },
  {
   "cell_type": "code",
   "execution_count": 5,
   "id": "other-tuition",
   "metadata": {},
   "outputs": [
    {
     "name": "stdout",
     "output_type": "stream",
     "text": [
      "447 ns ± 1.69 ns per loop (mean ± std. dev. of 7 runs, 1000000 loops each)\n"
     ]
    }
   ],
   "source": [
    "%%timeit\n",
    "readlet = Readlet(reader.h5filename, '_globals_')"
   ]
  },
  {
   "cell_type": "code",
   "execution_count": null,
   "id": "scenic-investigation",
   "metadata": {},
   "outputs": [],
   "source": [
    "readlet.read()"
   ]
  },
  {
   "cell_type": "code",
   "execution_count": null,
   "id": "alternative-oxford",
   "metadata": {},
   "outputs": [],
   "source": []
  },
  {
   "cell_type": "code",
   "execution_count": null,
   "id": "explicit-anaheim",
   "metadata": {},
   "outputs": [],
   "source": [
    "mykeys = list(reader.keys())"
   ]
  },
  {
   "cell_type": "code",
   "execution_count": null,
   "id": "colored-radio",
   "metadata": {},
   "outputs": [],
   "source": [
    "count = 0\n",
    "def myfunc(name):\n",
    "    global count\n",
    "    count += 1\n",
    "    if not count % 1000:\n",
    "        print(name)\n",
    "#     if len(names) > 3000:\n",
    "#         return True"
   ]
  },
  {
   "cell_type": "code",
   "execution_count": null,
   "id": "naval-poker",
   "metadata": {},
   "outputs": [],
   "source": [
    "reader.visit(myfunc)"
   ]
  },
  {
   "cell_type": "code",
   "execution_count": null,
   "id": "pressed-sudan",
   "metadata": {},
   "outputs": [],
   "source": [
    "myfile = h5py.File(osjoin(cachedir, 'merged.frm'), mode = 'r')"
   ]
  },
  {
   "cell_type": "code",
   "execution_count": null,
   "id": "pursuant-firmware",
   "metadata": {},
   "outputs": [],
   "source": [
    "myfile.close()"
   ]
  },
  {
   "cell_type": "code",
   "execution_count": null,
   "id": "received-voice",
   "metadata": {},
   "outputs": [],
   "source": [
    "keys = myfile.keys()"
   ]
  },
  {
   "cell_type": "code",
   "execution_count": null,
   "id": "exposed-pioneer",
   "metadata": {},
   "outputs": [],
   "source": []
  },
  {
   "cell_type": "code",
   "execution_count": null,
   "id": "stylish-following",
   "metadata": {},
   "outputs": [],
   "source": [
    "myfile."
   ]
  },
  {
   "cell_type": "code",
   "execution_count": null,
   "id": "blocked-architecture",
   "metadata": {},
   "outputs": [],
   "source": [
    "myfile.close()"
   ]
  },
  {
   "cell_type": "code",
   "execution_count": null,
   "id": "marked-soccer",
   "metadata": {},
   "outputs": [],
   "source": [
    "mygrp = myfile[b'aabiabrish-dreoshaafua']"
   ]
  },
  {
   "cell_type": "code",
   "execution_count": null,
   "id": "emotional-questionnaire",
   "metadata": {},
   "outputs": [],
   "source": [
    "mygrp.visit(myfunc)"
   ]
  },
  {
   "cell_type": "code",
   "execution_count": null,
   "id": "continental-apple",
   "metadata": {},
   "outputs": [],
   "source": [
    "mygrp.keys()"
   ]
  },
  {
   "cell_type": "code",
   "execution_count": null,
   "id": "hairy-incident",
   "metadata": {},
   "outputs": [],
   "source": [
    "mygrp.visit"
   ]
  },
  {
   "cell_type": "code",
   "execution_count": null,
   "id": "amended-surface",
   "metadata": {},
   "outputs": [],
   "source": [
    "names"
   ]
  },
  {
   "cell_type": "code",
   "execution_count": null,
   "id": "democratic-roommate",
   "metadata": {},
   "outputs": [],
   "source": [
    "myfile.close()"
   ]
  },
  {
   "cell_type": "code",
   "execution_count": null,
   "id": "strange-healthcare",
   "metadata": {},
   "outputs": [],
   "source": [
    "names"
   ]
  },
  {
   "cell_type": "code",
   "execution_count": null,
   "id": "expanded-mattress",
   "metadata": {},
   "outputs": [],
   "source": []
  },
  {
   "cell_type": "code",
   "execution_count": null,
   "id": "activated-collar",
   "metadata": {},
   "outputs": [],
   "source": [
    "mygrp.visit"
   ]
  },
  {
   "cell_type": "code",
   "execution_count": null,
   "id": "steady-concord",
   "metadata": {},
   "outputs": [],
   "source": [
    "bool(None)"
   ]
  },
  {
   "cell_type": "code",
   "execution_count": null,
   "id": "aggressive-injection",
   "metadata": {},
   "outputs": [],
   "source": []
  },
  {
   "cell_type": "code",
   "execution_count": null,
   "id": "efficient-williams",
   "metadata": {},
   "outputs": [],
   "source": []
  },
  {
   "cell_type": "code",
   "execution_count": null,
   "id": "reverse-outdoors",
   "metadata": {},
   "outputs": [],
   "source": []
  },
  {
   "cell_type": "code",
   "execution_count": null,
   "id": "south-collar",
   "metadata": {},
   "outputs": [],
   "source": [
    "len(names)"
   ]
  },
  {
   "cell_type": "code",
   "execution_count": null,
   "id": "assisted-character",
   "metadata": {},
   "outputs": [],
   "source": [
    "names[12]"
   ]
  },
  {
   "cell_type": "code",
   "execution_count": null,
   "id": "accompanied-recruitment",
   "metadata": {},
   "outputs": [],
   "source": [
    "names = []\n",
    "def iterate(name):\n",
    "    global names\n",
    "    names.append(name)\n",
    "#     if len(names) > 100:\n",
    "#         return True\n",
    "with h5py.File(osjoin(cachedir, 'merged.frm'), mode = 'r') as h5file:\n",
    "    h5file.id.links.iterate(iterate, idx = 30000)"
   ]
  },
  {
   "cell_type": "code",
   "execution_count": null,
   "id": "great-weight",
   "metadata": {},
   "outputs": [],
   "source": [
    "for name in names:\n",
    "    name = str(name)\n",
    "    if '/' in name:\n",
    "        print(name)"
   ]
  },
  {
   "cell_type": "code",
   "execution_count": null,
   "id": "adjusted-neighbor",
   "metadata": {},
   "outputs": [],
   "source": [
    "len(names)"
   ]
  },
  {
   "cell_type": "code",
   "execution_count": null,
   "id": "serious-estimate",
   "metadata": {},
   "outputs": [],
   "source": [
    "count"
   ]
  },
  {
   "cell_type": "code",
   "execution_count": null,
   "id": "built-coupon",
   "metadata": {},
   "outputs": [],
   "source": [
    "del dset1"
   ]
  },
  {
   "cell_type": "code",
   "execution_count": null,
   "id": "flying-publication",
   "metadata": {},
   "outputs": [],
   "source": [
    "np.array(dset2)"
   ]
  },
  {
   "cell_type": "code",
   "execution_count": null,
   "id": "noticed-influence",
   "metadata": {},
   "outputs": [],
   "source": [
    "dset = np.array(dset)"
   ]
  },
  {
   "cell_type": "code",
   "execution_count": null,
   "id": "complimentary-vertical",
   "metadata": {},
   "outputs": [],
   "source": [
    "import numpy as np\n",
    "np.array(dset)"
   ]
  },
  {
   "cell_type": "code",
   "execution_count": null,
   "id": "metallic-hygiene",
   "metadata": {},
   "outputs": [],
   "source": []
  },
  {
   "cell_type": "code",
   "execution_count": null,
   "id": "changed-wages",
   "metadata": {},
   "outputs": [],
   "source": [
    "isovisc = common.isovisc\n",
    "reader = common.reader"
   ]
  },
  {
   "cell_type": "code",
   "execution_count": null,
   "id": "terminal-honey",
   "metadata": {},
   "outputs": [],
   "source": [
    "import h5py\n",
    "import numpy as np\n",
    "from aliases import cachedir\n",
    "\n",
    "cut = dict(list(isovisc.groupby(['H', 'aspect'])))[0., 1.]\n",
    "data = dict(zip(cut.index, (dict() for _ in range(len(cut)))))\n",
    "with h5py.File(osjoin(cachedir, 'merged.frm'), mode = 'r') as h5file:\n",
    "    for obstype in ('thermo', 'velvisc'):\n",
    "        for subdata, obsname in zip(data.values(), cut[obstype]):\n",
    "            newdata = h5file[osjoin(obsname, 'outputs')]\n",
    "            for dname, dset in newdata.items():\n",
    "                dvals = subdata[dname] = np.empty(dset.shape, dset.dtype)\n",
    "                dset.read_direct(dvals)\n",
    "                print(obsname, dname)"
   ]
  },
  {
   "cell_type": "code",
   "execution_count": null,
   "id": "hearing-characteristic",
   "metadata": {},
   "outputs": [],
   "source": [
    "dset = data['uaseoaakwue-ghuuchscaadr']['Nu']"
   ]
  },
  {
   "cell_type": "code",
   "execution_count": null,
   "id": "heavy-lawyer",
   "metadata": {},
   "outputs": [],
   "source": [
    "import pickle"
   ]
  },
  {
   "cell_type": "code",
   "execution_count": null,
   "id": "through-papua",
   "metadata": {},
   "outputs": [],
   "source": [
    "with open('testfile.pkl', mode = 'wb') as file:\n",
    "    file.write(pickle.dumps(dset))"
   ]
  },
  {
   "cell_type": "code",
   "execution_count": null,
   "id": "false-command",
   "metadata": {},
   "outputs": [],
   "source": [
    "import numpy as np"
   ]
  },
  {
   "cell_type": "code",
   "execution_count": null,
   "id": "naked-contrary",
   "metadata": {},
   "outputs": [],
   "source": [
    "myarr = np.empty(261)"
   ]
  },
  {
   "cell_type": "code",
   "execution_count": null,
   "id": "realistic-banana",
   "metadata": {},
   "outputs": [],
   "source": [
    "\n",
    "dset.read_direct(np.empty(dset.shape, dset.dtype))"
   ]
  },
  {
   "cell_type": "code",
   "execution_count": null,
   "id": "legal-parliament",
   "metadata": {},
   "outputs": [],
   "source": [
    "dset.dtype"
   ]
  },
  {
   "cell_type": "code",
   "execution_count": null,
   "id": "enabling-repair",
   "metadata": {},
   "outputs": [],
   "source": [
    "np.empty(dset.shape, dset.dtype)"
   ]
  },
  {
   "cell_type": "code",
   "execution_count": null,
   "id": "herbal-nothing",
   "metadata": {},
   "outputs": [],
   "source": []
  }
 ],
 "metadata": {
  "kernelspec": {
   "display_name": "Python 3",
   "language": "python",
   "name": "python3"
  },
  "language_info": {
   "codemirror_mode": {
    "name": "ipython",
    "version": 3
   },
   "file_extension": ".py",
   "mimetype": "text/x-python",
   "name": "python",
   "nbconvert_exporter": "python",
   "pygments_lexer": "ipython3",
   "version": "3.8.6"
  }
 },
 "nbformat": 4,
 "nbformat_minor": 5
}
