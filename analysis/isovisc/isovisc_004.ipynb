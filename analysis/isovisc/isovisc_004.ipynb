{
 "cells": [
  {
   "cell_type": "code",
   "execution_count": 10,
   "id": "gorgeous-scanning",
   "metadata": {},
   "outputs": [],
   "source": [
    "import os\n",
    "import math\n",
    "\n",
    "import math\n",
    "import numpy as np\n",
    "import scipy as sp\n",
    "import pandas as pd\n",
    "\n",
    "from analysis import isovisc, utilities, common\n",
    "reader = isovisc.data.reader\n",
    "from everest.h5anchor import Fetch, Scope\n",
    "from everest.window import Canvas, plot, raster, DataChannel as Channel, get_cmap\n",
    "%matplotlib inline"
   ]
  },
  {
   "cell_type": "code",
   "execution_count": 79,
   "id": "behavioral-shield",
   "metadata": {},
   "outputs": [],
   "source": [
    "inputs, initials, finals, averages = isovisc.data.get_summary_frames()\n",
    "initialrasters, finalrasters = isovisc.data.get_rasters()"
   ]
  },
  {
   "cell_type": "code",
   "execution_count": 3,
   "id": "described-daily",
   "metadata": {},
   "outputs": [
    {
     "data": {
      "text/plain": [
       "Index(['Nu', 'Nu_freq', 'Nu_min', 'Nu_range', 'VRMS', 'psi_av', 'psi_min',\n",
       "       'psi_range', 'strainRate_outer_av', 'strainRate_outer_min',\n",
       "       'strainRate_outer_range', 'stressAng_outer_av', 'stressAng_outer_min',\n",
       "       'stressAng_outer_range', 'stressRad_outer_av', 'stressRad_outer_min',\n",
       "       'stressRad_outer_range', 'temp_av', 'temp_min', 'temp_range',\n",
       "       'theta_av', 'theta_min', 'theta_range', 'velAng_outer_av',\n",
       "       'velAng_outer_min', 'velAng_outer_range', 'velMag_range'],\n",
       "      dtype='object')"
      ]
     },
     "execution_count": 3,
     "metadata": {},
     "output_type": "execute_result"
    }
   ],
   "source": [
    "finals.columns"
   ]
  },
  {
   "cell_type": "code",
   "execution_count": 8,
   "id": "moderate-summer",
   "metadata": {},
   "outputs": [
    {
     "data": {
      "text/html": [
       "<div>\n",
       "<style scoped>\n",
       "    .dataframe tbody tr th:only-of-type {\n",
       "        vertical-align: middle;\n",
       "    }\n",
       "\n",
       "    .dataframe tbody tr th {\n",
       "        vertical-align: top;\n",
       "    }\n",
       "\n",
       "    .dataframe thead th {\n",
       "        text-align: right;\n",
       "    }\n",
       "</style>\n",
       "<table border=\"1\" class=\"dataframe\">\n",
       "  <thead>\n",
       "    <tr style=\"text-align: right;\">\n",
       "      <th></th>\n",
       "      <th>H</th>\n",
       "      <th>alpha</th>\n",
       "      <th>aspect</th>\n",
       "      <th>f</th>\n",
       "      <th>res</th>\n",
       "      <th>temperatureField</th>\n",
       "    </tr>\n",
       "    <tr>\n",
       "      <th>hashID</th>\n",
       "      <th></th>\n",
       "      <th></th>\n",
       "      <th></th>\n",
       "      <th></th>\n",
       "      <th></th>\n",
       "      <th></th>\n",
       "    </tr>\n",
       "  </thead>\n",
       "  <tbody>\n",
       "    <tr>\n",
       "      <th>gleepsoiqio-rhuistsaist</th>\n",
       "      <td>10.000</td>\n",
       "      <td>4.8</td>\n",
       "      <td>1.0</td>\n",
       "      <td>0.90</td>\n",
       "      <td>28.0</td>\n",
       "      <td>_built_weykruizh-utrsmiuw</td>\n",
       "    </tr>\n",
       "    <tr>\n",
       "      <th>eewriieezoe-aaspaingub</th>\n",
       "      <td>0.056</td>\n",
       "      <td>4.9</td>\n",
       "      <td>1.0</td>\n",
       "      <td>0.75</td>\n",
       "      <td>16.0</td>\n",
       "      <td>_built_heuswdwei-todwliut</td>\n",
       "    </tr>\n",
       "    <tr>\n",
       "      <th>iicuigluob-hiabiufue</th>\n",
       "      <td>0.010</td>\n",
       "      <td>4.7</td>\n",
       "      <td>1.0</td>\n",
       "      <td>1.00</td>\n",
       "      <td>24.0</td>\n",
       "      <td>_built_oongaeijia-droobldwusl</td>\n",
       "    </tr>\n",
       "    <tr>\n",
       "      <th>thiraugee-eutzaeoeklui</th>\n",
       "      <td>5.623</td>\n",
       "      <td>7.0</td>\n",
       "      <td>1.0</td>\n",
       "      <td>0.95</td>\n",
       "      <td>64.0</td>\n",
       "      <td>_built_liewrskiiv-auyotreuj</td>\n",
       "    </tr>\n",
       "    <tr>\n",
       "      <th>eduokwiz-sluizkraubr</th>\n",
       "      <td>3.162</td>\n",
       "      <td>2.7</td>\n",
       "      <td>1.0</td>\n",
       "      <td>0.60</td>\n",
       "      <td>8.0</td>\n",
       "      <td>_built_twogphuw-zeetrdruesw</td>\n",
       "    </tr>\n",
       "    <tr>\n",
       "      <th>...</th>\n",
       "      <td>...</td>\n",
       "      <td>...</td>\n",
       "      <td>...</td>\n",
       "      <td>...</td>\n",
       "      <td>...</td>\n",
       "      <td>...</td>\n",
       "    </tr>\n",
       "    <tr>\n",
       "      <th>joaqiamoe-eoskaoaobla</th>\n",
       "      <td>0.178</td>\n",
       "      <td>5.0</td>\n",
       "      <td>1.0</td>\n",
       "      <td>0.90</td>\n",
       "      <td>32.0</td>\n",
       "      <td>_built_sheojloegl-euzoiisfio</td>\n",
       "    </tr>\n",
       "    <tr>\n",
       "      <th>nuaklqeusm-deahneeg</th>\n",
       "      <td>0.178</td>\n",
       "      <td>6.5</td>\n",
       "      <td>1.0</td>\n",
       "      <td>0.65</td>\n",
       "      <td>48.0</td>\n",
       "      <td>_built_jiusmvaim-naiqaudio</td>\n",
       "    </tr>\n",
       "    <tr>\n",
       "      <th>gruareuskiu-psoigshidr</th>\n",
       "      <td>0.562</td>\n",
       "      <td>5.1</td>\n",
       "      <td>1.0</td>\n",
       "      <td>0.80</td>\n",
       "      <td>16.0</td>\n",
       "      <td>_built_kriikrkioph-efraizouts</td>\n",
       "    </tr>\n",
       "    <tr>\n",
       "      <th>slougzaosp-psoecuaklae</th>\n",
       "      <td>0.032</td>\n",
       "      <td>3.0</td>\n",
       "      <td>1.0</td>\n",
       "      <td>0.50</td>\n",
       "      <td>8.0</td>\n",
       "      <td>_built_oupluianguo-zhiefrspoepl</td>\n",
       "    </tr>\n",
       "    <tr>\n",
       "      <th>triqboarh-eghuuosmoe</th>\n",
       "      <td>0.018</td>\n",
       "      <td>3.1</td>\n",
       "      <td>1.0</td>\n",
       "      <td>0.95</td>\n",
       "      <td>4.0</td>\n",
       "      <td>_built_zhoigrnugr-seekwskael</td>\n",
       "    </tr>\n",
       "  </tbody>\n",
       "</table>\n",
       "<p>8984 rows × 6 columns</p>\n",
       "</div>"
      ],
      "text/plain": [
       "                              H  alpha  aspect     f   res  \\\n",
       "hashID                                                       \n",
       "gleepsoiqio-rhuistsaist  10.000    4.8     1.0  0.90  28.0   \n",
       "eewriieezoe-aaspaingub    0.056    4.9     1.0  0.75  16.0   \n",
       "iicuigluob-hiabiufue      0.010    4.7     1.0  1.00  24.0   \n",
       "thiraugee-eutzaeoeklui    5.623    7.0     1.0  0.95  64.0   \n",
       "eduokwiz-sluizkraubr      3.162    2.7     1.0  0.60   8.0   \n",
       "...                         ...    ...     ...   ...   ...   \n",
       "joaqiamoe-eoskaoaobla     0.178    5.0     1.0  0.90  32.0   \n",
       "nuaklqeusm-deahneeg       0.178    6.5     1.0  0.65  48.0   \n",
       "gruareuskiu-psoigshidr    0.562    5.1     1.0  0.80  16.0   \n",
       "slougzaosp-psoecuaklae    0.032    3.0     1.0  0.50   8.0   \n",
       "triqboarh-eghuuosmoe      0.018    3.1     1.0  0.95   4.0   \n",
       "\n",
       "                                        temperatureField  \n",
       "hashID                                                    \n",
       "gleepsoiqio-rhuistsaist        _built_weykruizh-utrsmiuw  \n",
       "eewriieezoe-aaspaingub         _built_heuswdwei-todwliut  \n",
       "iicuigluob-hiabiufue       _built_oongaeijia-droobldwusl  \n",
       "thiraugee-eutzaeoeklui       _built_liewrskiiv-auyotreuj  \n",
       "eduokwiz-sluizkraubr         _built_twogphuw-zeetrdruesw  \n",
       "...                                                  ...  \n",
       "joaqiamoe-eoskaoaobla       _built_sheojloegl-euzoiisfio  \n",
       "nuaklqeusm-deahneeg           _built_jiusmvaim-naiqaudio  \n",
       "gruareuskiu-psoigshidr     _built_kriikrkioph-efraizouts  \n",
       "slougzaosp-psoecuaklae   _built_oupluianguo-zhiefrspoepl  \n",
       "triqboarh-eghuuosmoe        _built_zhoigrnugr-seekwskael  \n",
       "\n",
       "[8984 rows x 6 columns]"
      ]
     },
     "execution_count": 8,
     "metadata": {},
     "output_type": "execute_result"
    }
   ],
   "source": [
    "inputs"
   ]
  },
  {
   "cell_type": "code",
   "execution_count": 108,
   "id": "affecting-heater",
   "metadata": {},
   "outputs": [],
   "source": [
    "def linear2_fineres(alphaexp):\n",
    "    return max(8, round(2 ** alphaexp / 4) * 4)"
   ]
  },
  {
   "cell_type": "code",
   "execution_count": 132,
   "id": "english-reality",
   "metadata": {},
   "outputs": [
    {
     "data": {
      "text/plain": [
       "hashID\n",
       "gleepsoiqio-rhuistsaist    4.8\n",
       "eewriieezoe-aaspaingub     4.9\n",
       "iicuigluob-hiabiufue       4.7\n",
       "thiraugee-eutzaeoeklui     7.0\n",
       "eduokwiz-sluizkraubr       2.7\n",
       "                          ... \n",
       "joaqiamoe-eoskaoaobla      5.0\n",
       "nuaklqeusm-deahneeg        6.5\n",
       "gruareuskiu-psoigshidr     5.1\n",
       "slougzaosp-psoecuaklae     3.0\n",
       "triqboarh-eghuuosmoe       3.1\n",
       "Name: alpha, Length: 8984, dtype: float64"
      ]
     },
     "execution_count": 132,
     "metadata": {},
     "output_type": "execute_result"
    }
   ],
   "source": [
    "inputs['alpha']"
   ]
  },
  {
   "cell_type": "code",
   "execution_count": 128,
   "id": "ignored-desert",
   "metadata": {},
   "outputs": [],
   "source": [
    "sel = inputs.loc[inputs['res'] == inputs['alpha'].apply(linear2_fineres)].index"
   ]
  },
  {
   "cell_type": "code",
   "execution_count": 133,
   "id": "professional-auction",
   "metadata": {},
   "outputs": [
    {
     "name": "stderr",
     "output_type": "stream",
     "text": [
      "/home/morpheus/workspace/mount/resources/everest/everest/window/canvas.py:91: MatplotlibDeprecationWarning: savefig() got unexpected keyword argument \"dpi\" which is no longer supported as of 3.3 and will become an error two minor releases later\n",
      "  self.fig.tight_layout()\n"
     ]
    },
    {
     "data": {
      "image/png": "[encoded data removed]",
      "text/plain": [
       "<Figure size 600x500 with 1 Axes>"
      ]
     },
     "execution_count": 133,
     "metadata": {},
     "output_type": "execute_result"
    }
   ],
   "source": [
    "sel = inputs.loc[sel].loc[inputs['H'] == 0].index\n",
    "plot.scatter(\n",
    "    inputs.loc[sel]['f'],\n",
    "    averages.loc[sel]['temp_av'],\n",
    "    c = inputs.loc[sel]['alpha'],\n",
    "    size = (6, 5)\n",
    "    )"
   ]
  },
  {
   "cell_type": "code",
   "execution_count": 85,
   "id": "graduate-princeton",
   "metadata": {},
   "outputs": [
    {
     "data": {
      "text/plain": [
       "'froadwtseosn-jeudueswo'"
      ]
     },
     "execution_count": 85,
     "metadata": {},
     "output_type": "execute_result"
    }
   ],
   "source": [
    "inputs.loc[sel].index[0]"
   ]
  },
  {
   "cell_type": "code",
   "execution_count": 107,
   "id": "alternative-pricing",
   "metadata": {},
   "outputs": [
    {
     "data": {
      "image/png": "[encoded data removed]",
      "text/plain": [
       "<PIL.Image.Image image mode=RGB size=320x320 at 0x7FEA69217E50>"
      ]
     },
     "execution_count": 107,
     "metadata": {},
     "output_type": "execute_result"
    }
   ],
   "source": [
    "im = finalrasters[inputs.loc[sel].index[16]]\n",
    "im.resize((10*d for d in im.size))"
   ]
  },
  {
   "cell_type": "code",
   "execution_count": 11,
   "id": "tough-indianapolis",
   "metadata": {},
   "outputs": [
    {
     "data": {
      "text/plain": [
       "0.38746034225497533"
      ]
     },
     "execution_count": 11,
     "metadata": {},
     "output_type": "execute_result"
    }
   ],
   "source": [
    "0.5 * 0.5 ** (1. / math.e)"
   ]
  },
  {
   "cell_type": "code",
   "execution_count": 12,
   "id": "mexican-tradition",
   "metadata": {},
   "outputs": [
    {
     "data": {
      "text/plain": [
       "0.3333333333333333"
      ]
     },
     "execution_count": 12,
     "metadata": {},
     "output_type": "execute_result"
    }
   ],
   "source": [
    "0.5 / (0.5 + 1)"
   ]
  },
  {
   "cell_type": "code",
   "execution_count": 18,
   "id": "defensive-beverage",
   "metadata": {},
   "outputs": [],
   "source": [
    "def rprime(h, f):\n",
    "    return h * (1 - f) + f"
   ]
  },
  {
   "cell_type": "code",
   "execution_count": 20,
   "id": "selective-crystal",
   "metadata": {},
   "outputs": [
    {
     "name": "stdout",
     "output_type": "stream",
     "text": [
      "1.0 0.0\n",
      "1.0 0.1\n",
      "1.0 0.2\n",
      "1.0 0.3\n",
      "1.0 0.4\n",
      "1.0 0.5\n",
      "1.0 0.6\n",
      "1.0 0.7\n",
      "1.0 0.8\n",
      "1.0 0.9\n"
     ]
    }
   ],
   "source": [
    "for f in [v / 10 for v in range(10)]:\n",
    "    print(rprime(1, f), rprime(0, f))"
   ]
  },
  {
   "cell_type": "code",
   "execution_count": 21,
   "id": "formal-lancaster",
   "metadata": {},
   "outputs": [
    {
     "data": {
      "text/plain": [
       "225"
      ]
     },
     "execution_count": 21,
     "metadata": {},
     "output_type": "execute_result"
    }
   ],
   "source": [
    "15**2"
   ]
  },
  {
   "cell_type": "code",
   "execution_count": 22,
   "id": "wanted-athens",
   "metadata": {},
   "outputs": [
    {
     "data": {
      "text/plain": [
       "3.0"
      ]
     },
     "execution_count": 22,
     "metadata": {},
     "output_type": "execute_result"
    }
   ],
   "source": [
    "27 ** (1/3)"
   ]
  },
  {
   "cell_type": "code",
   "execution_count": 23,
   "id": "matched-pregnancy",
   "metadata": {},
   "outputs": [
    {
     "data": {
      "text/plain": [
       "1.4142135623730951"
      ]
     },
     "execution_count": 23,
     "metadata": {},
     "output_type": "execute_result"
    }
   ],
   "source": [
    "4 ** (1/4)"
   ]
  },
  {
   "cell_type": "code",
   "execution_count": 60,
   "id": "dental-input",
   "metadata": {},
   "outputs": [],
   "source": [
    "def tcell(f):\n",
    "    return f / (f + 1)\n",
    "def D_nought(f):\n",
    "    return 3. / math.sqrt(2) * (math.pi / tcell(f))**(1/3)\n",
    "def Nu_cond(f):\n",
    "    return (1 - f) / math.log(f)"
   ]
  },
  {
   "cell_type": "code",
   "execution_count": 61,
   "id": "solar-sponsorship",
   "metadata": {},
   "outputs": [
    {
     "data": {
      "text/plain": [
       "3.914409105681903"
      ]
     },
     "execution_count": 61,
     "metadata": {},
     "output_type": "execute_result"
    }
   ],
   "source": [
    "D_nought(1)"
   ]
  },
  {
   "cell_type": "code",
   "execution_count": 62,
   "id": "pregnant-album",
   "metadata": {},
   "outputs": [
    {
     "data": {
      "text/plain": [
       "0.25546639939817856"
      ]
     },
     "execution_count": 62,
     "metadata": {},
     "output_type": "execute_result"
    }
   ],
   "source": [
    "1 / D_nought(1)"
   ]
  },
  {
   "cell_type": "code",
   "execution_count": 63,
   "id": "growing-charge",
   "metadata": {},
   "outputs": [
    {
     "data": {
      "text/plain": [
       "0.2231704559107698"
      ]
     },
     "execution_count": 63,
     "metadata": {},
     "output_type": "execute_result"
    }
   ],
   "source": [
    "1 / D_nought(0.5)"
   ]
  },
  {
   "cell_type": "code",
   "execution_count": 64,
   "id": "fleet-rouge",
   "metadata": {},
   "outputs": [
    {
     "data": {
      "text/plain": [
       "0.0032186738685352307"
      ]
     },
     "execution_count": 64,
     "metadata": {},
     "output_type": "execute_result"
    }
   ],
   "source": [
    "1 / D_nought(0.000001)"
   ]
  },
  {
   "cell_type": "code",
   "execution_count": 65,
   "id": "compact-basement",
   "metadata": {},
   "outputs": [
    {
     "data": {
      "text/plain": [
       "0.3728848808245891"
      ]
     },
     "execution_count": 65,
     "metadata": {},
     "output_type": "execute_result"
    }
   ],
   "source": [
    "1/(1+0.5**(-3/4))"
   ]
  },
  {
   "cell_type": "code",
   "execution_count": 76,
   "id": "mysterious-corps",
   "metadata": {},
   "outputs": [
    {
     "data": {
      "text/plain": [
       "0.43351941948032385"
      ]
     },
     "execution_count": 76,
     "metadata": {},
     "output_type": "execute_result"
    }
   ],
   "source": [
    "1/(1+0.7**(-3/4))"
   ]
  },
  {
   "cell_type": "code",
   "execution_count": 77,
   "id": "comparable-equipment",
   "metadata": {},
   "outputs": [
    {
     "data": {
      "text/plain": [
       "0.4117647058823529"
      ]
     },
     "execution_count": 77,
     "metadata": {},
     "output_type": "execute_result"
    }
   ],
   "source": [
    "0.7/(0.7+1)"
   ]
  },
  {
   "cell_type": "code",
   "execution_count": null,
   "id": "acoustic-equity",
   "metadata": {},
   "outputs": [],
   "source": []
  }
 ],
 "metadata": {
  "kernelspec": {
   "display_name": "Python 3",
   "language": "python",
   "name": "python3"
  },
  "language_info": {
   "codemirror_mode": {
    "name": "ipython",
    "version": 3
   },
   "file_extension": ".py",
   "mimetype": "text/x-python",
   "name": "python",
   "nbconvert_exporter": "python",
   "pygments_lexer": "ipython3",
   "version": "3.8.6"
  }
 },
 "nbformat": 4,
 "nbformat_minor": 5
}
