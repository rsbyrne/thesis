{
 "cells": [
  {
   "cell_type": "code",
   "execution_count": 1,
   "id": "republican-sailing",
   "metadata": {},
   "outputs": [],
   "source": [
    "import os\n",
    "\n",
    "import numpy as np\n",
    "import pandas as pd\n",
    "\n",
    "from analysis import isovisc, utilities, common\n",
    "reader = isovisc.data.reader\n",
    "from everest.h5anchor import Fetch, Scope\n",
    "from everest.window import Canvas, plot, raster, DataChannel as Channel, get_cmap\n",
    "%matplotlib inline"
   ]
  },
  {
   "cell_type": "code",
   "execution_count": 2,
   "id": "annoying-singapore",
   "metadata": {},
   "outputs": [],
   "source": [
    "inputs, initials, finals, averages = isovisc.data.get_summary_frames()"
   ]
  },
  {
   "cell_type": "code",
   "execution_count": 3,
   "id": "organized-powder",
   "metadata": {},
   "outputs": [],
   "source": [
    "rasters = isovisc.data.get_rasters()"
   ]
  },
  {
   "cell_type": "code",
   "execution_count": null,
   "id": "blessed-laugh",
   "metadata": {},
   "outputs": [],
   "source": [
    "from PIL import Image\n",
    "class Rasters(dict):\n",
    "    def __init__(self, path):\n",
    "        super().__init__(\n",
    "            (fname[:-4], os.path.join(path, fname))\n",
    "                for fname in os.listdir(path)\n",
    "            )\n",
    "    def __getitem__(self, key):\n",
    "        return Image.open(super().__getitem__(key))"
   ]
  },
  {
   "cell_type": "code",
   "execution_count": null,
   "id": "bulgarian-myanmar",
   "metadata": {},
   "outputs": [],
   "source": [
    "initrasts = Rasters(rasters[0])"
   ]
  },
  {
   "cell_type": "code",
   "execution_count": null,
   "id": "level-utility",
   "metadata": {},
   "outputs": [],
   "source": [
    "inputs.index"
   ]
  },
  {
   "cell_type": "code",
   "execution_count": null,
   "id": "alpha-copper",
   "metadata": {},
   "outputs": [],
   "source": [
    "len(initrasts)"
   ]
  },
  {
   "cell_type": "code",
   "execution_count": null,
   "id": "isolated-violin",
   "metadata": {},
   "outputs": [],
   "source": [
    "initrasts['aeghaugrusf-aotweengoasf'].resize((512, 512))"
   ]
  },
  {
   "cell_type": "code",
   "execution_count": null,
   "id": "ambient-street",
   "metadata": {},
   "outputs": [],
   "source": [
    "import PIL"
   ]
  },
  {
   "cell_type": "code",
   "execution_count": null,
   "id": "lonely-george",
   "metadata": {},
   "outputs": [],
   "source": []
  },
  {
   "cell_type": "code",
   "execution_count": null,
   "id": "least-decision",
   "metadata": {},
   "outputs": [],
   "source": [
    "os.path.join(rasters[0], os.listdir(rasters[0])[0])"
   ]
  },
  {
   "cell_type": "code",
   "execution_count": null,
   "id": "mobile-diversity",
   "metadata": {},
   "outputs": [],
   "source": [
    "img = Image.open('/home/morpheus/workspace/mount/cache/rasters/isovisc/initial/tzatsor-uozhiidiesw.png')"
   ]
  },
  {
   "cell_type": "code",
   "execution_count": null,
   "id": "nuclear-stocks",
   "metadata": {},
   "outputs": [],
   "source": [
    "img.resize((256, 256))"
   ]
  },
  {
   "cell_type": "code",
   "execution_count": null,
   "id": "considered-rally",
   "metadata": {},
   "outputs": [],
   "source": []
  },
  {
   "cell_type": "code",
   "execution_count": null,
   "id": "scenic-absorption",
   "metadata": {},
   "outputs": [],
   "source": [
    "def get_maxres_indices(inputs):\n",
    "    '''Get hashIDs of only those models which equal the max resolution available for those parameters.'''\n",
    "    effkeys = [key for key in inputs.columns if not key in {'res', 'temperatureField'}]\n",
    "    mygrp = inputs.groupby(effkeys)\n",
    "    maxres = mygrp['res'].apply(max)\n",
    "    reind = inputs.reset_index().set_index(effkeys)\n",
    "    reind['maxres'] = maxres\n",
    "    selection = reind.loc[reind['res'] == reind['maxres']]['hashID']\n",
    "    return selection\n",
    "\n",
    "def linear2_fineres(alphaexp):\n",
    "    return max(8, round(2 ** alphaexp / 4) * 4)\n",
    "\n",
    "import math\n",
    "def linear_regression(x, y, log = False):\n",
    "    if log:\n",
    "        x, y = np.log(x), np.log(y)\n",
    "    linreg = LinearRegression().fit(\n",
    "        xlin := x.reshape(-1, 1),\n",
    "        ylin := y,\n",
    "        )\n",
    "    pred = linreg.predict(xlin)\n",
    "    r2 = r2_score(ylin, pred)\n",
    "    slope, intercept = linreg.coef_, linreg.intercept_\n",
    "    if log:\n",
    "        predictor = lambda x: math.e ** linreg.predict(np.log(x).reshape(-1, 1))\n",
    "        return predictor, math.e ** intercept, slope, r2\n",
    "    predictor = lambda x: linreg.predict(x.reshape(-1, 1))\n",
    "    return predictor, slope, intercept, r2\n",
    "\n",
    "def jarvis_geom(f):\n",
    "    f = 0.999 if f >= 1 else f\n",
    "    return -np.log(f) / ((1 - f) * (1 + f ** (-3 / 4)) ** (4 / 3))\n",
    "\n",
    "def colour(val, vals, cmap):\n",
    "    return cmap((val - min(vals)) / (max(vals) - min(vals)))"
   ]
  },
  {
   "cell_type": "code",
   "execution_count": null,
   "id": "juvenile-notice",
   "metadata": {},
   "outputs": [],
   "source": [
    "canvas = Canvas(size = (12, 12), fill = 'black', colour = 'white')\n",
    "ax = canvas.make_ax(title = 'Isoviscous convection:\\nNusselt number as a function of buoyancy')\n",
    "ax.scatter(\n",
    "    x := Channel(inputs['alpha'], label = 'alpha', lims = (None, None), capped = (True, None), islog = True),\n",
    "    y := Channel(averages['Nu'], label = 'Nu', lims = (0, None), capped = (True, None), log = True),\n",
    "    30 * (2 * inputs['f'] - 1) + 1,\n",
    "    c = inputs['H'],\n",
    "    marker = \"_\",\n",
    "    cmap = 'plasma',\n",
    "    )\n",
    "canvas.show()"
   ]
  },
  {
   "cell_type": "code",
   "execution_count": null,
   "id": "motivated-scenario",
   "metadata": {},
   "outputs": [],
   "source": [
    "from sklearn.linear_model import LinearRegression\n",
    "from sklearn.metrics import r2_score\n",
    "\n",
    "selection = inputs.loc[get_maxres_indices(inputs)]\n",
    "selection = dict(list(selection.groupby(['H', 'aspect'])))[0, 1]\n",
    "selection = selection.loc[selection['alpha'] >= 4]\n",
    "# selection = (selinit := initials.loc[selection.index]).loc[selinit['psi_av'] > -2000]\n",
    "selection = selection.loc[(selinit := initials.loc[selection.index]).loc[selinit['theta_range'] > 1].index]\n",
    "selection = selection.loc[initials.loc[selection.index]['theta_range'] > 1]\n",
    "selection = selection.loc[initials.loc[selection.index]['Nu_min'] < 2]\n",
    "selection = selection.loc[\n",
    "    (selinps := inputs.loc[selection.index]).loc[selinps['res'] == selinps['alpha'].apply(linear2_fineres)].index\n",
    "    ]\n",
    "selection = selection.index\n",
    "\n",
    "linreg = LinearRegression().fit(\n",
    "    x := inputs.loc[selection]['alpha'].to_numpy().reshape(-1, 1),\n",
    "    y := averages.loc[selection]['Nu'].apply(np.log10),\n",
    "    )\n",
    "pred = linreg.predict(x)\n",
    "r2 = r2_score(y, pred)\n",
    "slope, intercept = linreg.coef_, linreg.intercept_\n",
    "\n",
    "canvas = Canvas(size = (9, 9), fill = 'black', colour = 'white')\n",
    "\n",
    "title = '''\n",
    "Isoviscous convection:\n",
    "Nusselt number as a function of buoyancy\n",
    "{aspect = 1, H = 0}\n",
    "'''\n",
    "\n",
    "ax = canvas.make_ax(title = title)\n",
    "ax.scatter(\n",
    "    Channel(inputs.loc[selection]['alpha'], label = 'log10(alpha)', lims = (4, 7.5), capped = (True, None)),\n",
    "    Channel(np.log10(averages.loc[selection]['Nu']), label = 'log10(Nu)', lims = (0.6, 1.8), capped = (True, None)),\n",
    "    20 * (2 * inputs.loc[selection]['f'] - 1) + 1,\n",
    "    c = initials.loc[selection]['psi_av'],\n",
    "    marker = \"_\",\n",
    "    cmap = 'viridis',\n",
    "    )\n",
    "ax.line(x, pred)\n",
    "# slopeformat = \"{:.2e}\".format(slope[0])\n",
    "label = f\"y = {round(float(slope), 4)} x + {round(intercept, 4)}\\nr2 = {round(r2, 4)}\"\n",
    "ax.annotate(\n",
    "    *list(zip(x, pred))[round(len(pred) / 2)],\n",
    "    label,\n",
    "    points = (-45, 45),\n",
    "    arrowProps = {'arrowstyle': '->', 'color': 'white'},\n",
    "    color = 'white'\n",
    "    )\n",
    "canvas.show()"
   ]
  },
  {
   "cell_type": "code",
   "execution_count": null,
   "id": "trying-surfing",
   "metadata": {},
   "outputs": [],
   "source": [
    "jarv = inputs['f'].apply(jarvis_geom)"
   ]
  },
  {
   "cell_type": "code",
   "execution_count": null,
   "id": "geographic-namibia",
   "metadata": {},
   "outputs": [],
   "source": [
    "canvas = Canvas(size = (12, 12), colour = 'white', fill = 'black')\n",
    "ax = canvas.make_ax()\n",
    "cmap = get_cmap('viridis')\n",
    "alphas = list(set(inputs.loc[selection]['alpha']))\n",
    "\n",
    "for alpha, subfrm in inputs.groupby('alpha'):\n",
    "    subsel = sorted(set.intersection(set(selection), set(subfrm.index)))\n",
    "    if not len(subsel) > 1:\n",
    "#         alphas.remove(alpha)\n",
    "        continue\n",
    "    fs = inputs.loc[subsel]['f'].sort_values()\n",
    "    ax.line(\n",
    "        fs,\n",
    "        Channel(averages.loc[fs.index]['Nu'] / jarv.loc[fs.index], capped = (True, None)),\n",
    "        c = colour(alpha, alphas, cmap),\n",
    "        )\n",
    "# ax.props.legend.set_handles_labels(\n",
    "#     (row[0] for row in ax.collections),\n",
    "#     alphas,\n",
    "#     )\n",
    "canvas.show()"
   ]
  },
  {
   "cell_type": "code",
   "execution_count": null,
   "id": "blank-dividend",
   "metadata": {},
   "outputs": [],
   "source": [
    "canvas = Canvas(size = (12, 6), colour = 'white', fill = 'black', dpi = 100)\n",
    "ax = canvas.make_ax(\n",
    "    title = 'Power-law behaviour of isoviscous convection\\n{aspect = 1, H = 0}',\n",
    "    )\n",
    "ax.scatter(\n",
    "    Channel(\n",
    "        x := 10 ** inputs.loc[selection]['alpha'].to_numpy(),\n",
    "        label = 'alpha',\n",
    "        ),\n",
    "    Channel(\n",
    "        y := averages.loc[selection]['Nu'],\n",
    "        label = 'Nu',\n",
    "#         lims = (1, 2.2),\n",
    "        capped = (True, None),\n",
    "        ),\n",
    "    c = inputs.loc[selection]['f']\n",
    "    )\n",
    "\n",
    "predictor, coefficient, exponent, r2 = linear_regression(x, y, log = True)\n",
    "\n",
    "ax.line(\n",
    "    x := np.arange(1, max(x), 1e3),\n",
    "    y := predictor(x),\n",
    "    color = 'white'\n",
    "    )\n",
    "# slopeformat = \"{:.2e}\".format(slope[0])\n",
    "stco, stex, str2 = (str(arg) for arg in (round(coefficient, 4), round(float(exponent), 4), round(r2, 4)))\n",
    "label = r\"$Nu = \" + stco + r\"*Ra^{\" + stex + r\"}$\" + '\\n' + r\"$r^{2} = \" + str2 + r\"$\"\n",
    "# label = f\"Nu_j = {} Ra ^ {}\\nr2 = \"\n",
    "ax.annotate(\n",
    "    *list(zip(x, y))[round(len(y) / 2) - 1500],\n",
    "    label,\n",
    "    points = (0, -60),\n",
    "    arrowProps = {'arrowstyle': '->', 'color': 'white'},\n",
    "    color = 'white',\n",
    "    fontsize = 12,\n",
    "    )\n",
    "\n",
    "canvas.show()"
   ]
  },
  {
   "cell_type": "code",
   "execution_count": null,
   "id": "green-calgary",
   "metadata": {},
   "outputs": [],
   "source": [
    "canvas = Canvas(size = (12, 6), colour = 'white', fill = 'black', dpi = 100)\n",
    "ax = canvas.make_ax(\n",
    "    title = 'Power-law behaviour of isoviscous convection\\n{aspect = 1, H = 0}',\n",
    "    )\n",
    "ax.scatter(\n",
    "    Channel(\n",
    "        x := 10 ** inputs.loc[selection]['alpha'].to_numpy(),\n",
    "        label = 'alpha',\n",
    "        ),\n",
    "    Channel(\n",
    "        y := averages.loc[selection]['Nu'] / jarv.loc[selection],\n",
    "        label = 'Nu_Jarvis',\n",
    "#         lims = (1, 2.2),\n",
    "        capped = (True, None),\n",
    "        ),\n",
    "    c = inputs.loc[selection]['f']\n",
    "    )\n",
    "\n",
    "predictor, coefficient, exponent, r2 = linear_regression(x, y, log = True)\n",
    "\n",
    "ax.line(\n",
    "    x := np.arange(1, max(x), 1e3),\n",
    "    y := predictor(x),\n",
    "    color = 'white'\n",
    "    )\n",
    "# slopeformat = \"{:.2e}\".format(slope[0])\n",
    "stco, stex, str2 = (str(arg) for arg in (round(coefficient, 4), round(float(exponent), 4), round(r2, 4)))\n",
    "label = r\"$Nu = \" + stco + r\"*Ra^{\" + stex + r\"}$\" + '\\n' + r\"$r^{2} = \" + str2 + r\"$\"\n",
    "# label = f\"Nu_j = {} Ra ^ {}\\nr2 = \"\n",
    "ax.annotate(\n",
    "    *list(zip(x, y))[round(len(y) / 2) - 1500],\n",
    "    label,\n",
    "    points = (0, -60),\n",
    "    arrowProps = {'arrowstyle': '->', 'color': 'white'},\n",
    "    color = 'white',\n",
    "    fontsize = 12,\n",
    "    )\n",
    "\n",
    "canvas.show()"
   ]
  }
 ],
 "metadata": {
  "kernelspec": {
   "display_name": "Python 3",
   "language": "python",
   "name": "python3"
  },
  "language_info": {
   "codemirror_mode": {
    "name": "ipython",
    "version": 3
   },
   "file_extension": ".py",
   "mimetype": "text/x-python",
   "name": "python",
   "nbconvert_exporter": "python",
   "pygments_lexer": "ipython3",
   "version": "3.8.6"
  }
 },
 "nbformat": 4,
 "nbformat_minor": 5
}
