{
 "cells": [
  {
   "cell_type": "code",
   "execution_count": 1,
   "id": "spiritual-fusion",
   "metadata": {},
   "outputs": [],
   "source": [
    "from analysis.common import *"
   ]
  },
  {
   "cell_type": "code",
   "execution_count": 2,
   "id": "faced-variety",
   "metadata": {},
   "outputs": [],
   "source": [
    "plastinputs = inputs.viscoplastic"
   ]
  },
  {
   "cell_type": "code",
   "execution_count": null,
   "id": "handed-basics",
   "metadata": {},
   "outputs": [],
   "source": [
    "import numpy as np\n",
    "plastinputs['tauRef'] = plastinputs['tauRef'].apply(np.log10)"
   ]
  },
  {
   "cell_type": "code",
   "execution_count": null,
   "id": "baking-thomas",
   "metadata": {},
   "outputs": [],
   "source": [
    "plastinputs.loc[plastinputs['aspect'] == 'max']['tauRef']"
   ]
  },
  {
   "cell_type": "code",
   "execution_count": null,
   "id": "bibliographic-minimum",
   "metadata": {},
   "outputs": [],
   "source": [
    "import os\n",
    "\n",
    "datadir = aliases.datadir"
   ]
  },
  {
   "cell_type": "code",
   "execution_count": null,
   "id": "willing-magic",
   "metadata": {},
   "outputs": [],
   "source": [
    "    frmPaths = []\n",
    "    subDirs = [\n",
    "        p for p in (os.path.join(datadir, n) for n in os.listdir(datadir))\n",
    "            if os.path.isdir(p)\n",
    "        ]\n",
    "    for subDir in subDirs:\n",
    "        frmPaths.extend(\n",
    "            os.path.join(subDir, n) for n in os.listdir(subDir)\n",
    "                if (n.endswith('.frm') and n != 'merged.frm')\n",
    "            )"
   ]
  },
  {
   "cell_type": "code",
   "execution_count": null,
   "id": "spectacular-score",
   "metadata": {},
   "outputs": [],
   "source": [
    "os.path.relpath(frmPaths[0], '.')"
   ]
  },
  {
   "cell_type": "code",
   "execution_count": null,
   "id": "african-newfoundland",
   "metadata": {},
   "outputs": [],
   "source": [
    "frmPaths"
   ]
  },
  {
   "cell_type": "code",
   "execution_count": null,
   "id": "inner-helen",
   "metadata": {},
   "outputs": [],
   "source": []
  }
 ],
 "metadata": {
  "kernelspec": {
   "display_name": "Python 3",
   "language": "python",
   "name": "python3"
  },
  "language_info": {
   "codemirror_mode": {
    "name": "ipython",
    "version": 3
   },
   "file_extension": ".py",
   "mimetype": "text/x-python",
   "name": "python",
   "nbconvert_exporter": "python",
   "pygments_lexer": "ipython3",
   "version": "3.8.6"
  }
 },
 "nbformat": 4,
 "nbformat_minor": 5
}
