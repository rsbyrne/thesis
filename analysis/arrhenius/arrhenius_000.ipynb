{
 "cells": [
  {
   "cell_type": "code",
   "execution_count": 1,
   "id": "perceived-dubai",
   "metadata": {},
   "outputs": [],
   "source": [
    "import os\n",
    "\n",
    "import numpy as np\n",
    "import pandas as pd\n",
    "\n",
    "from analysis import arrhenius, utilities, common\n",
    "reader = arrhenius.data.reader\n",
    "from everest.h5anchor import Fetch, Scope\n",
    "from everest.window import Canvas, plot, raster, DataChannel as Channel, get_cmap\n",
    "%matplotlib inline"
   ]
  },
  {
   "cell_type": "code",
   "execution_count": null,
   "id": "retained-constitutional",
   "metadata": {},
   "outputs": [],
   "source": [
    "inputs, initials, finals, averages = arrhenius.data.get_summary_frames()"
   ]
  },
  {
   "cell_type": "code",
   "execution_count": 2,
   "id": "interesting-butter",
   "metadata": {},
   "outputs": [],
   "source": [
    "rasters = arrhenius.data.get_rasters()"
   ]
  },
  {
   "cell_type": "code",
   "execution_count": null,
   "id": "recorded-second",
   "metadata": {},
   "outputs": [],
   "source": [
    "# inputs, initials, finals, averages = arrhenius.data.get_summary_frames()\n",
    "inputs, averages = arrhenius.data.get_summary_frames()"
   ]
  },
  {
   "cell_type": "code",
   "execution_count": null,
   "id": "external-working",
   "metadata": {},
   "outputs": [],
   "source": [
    "canvas = Canvas(size = (12, 12), fill = 'black', colour = 'white')\n",
    "ax = canvas.make_ax(title = 'Isoviscous convection:\\nNusselt number as a function of buoyancy')\n",
    "ax.scatter(\n",
    "    x := Channel(inputs['alpha'], label = 'alpha', lims = (3, None), capped = (True, None), islog = True),\n",
    "    y := Channel(np.log10(averages['Nu']), label = 'Nu', lims = (0, 1.8), capped = (True, None), islog = True),\n",
    "    30 * (2 * inputs['f'] - 1) + 1,\n",
    "    c = inputs['H'],\n",
    "    marker = \"_\",\n",
    "    cmap = 'plasma',\n",
    "    )\n",
    "canvas.show()"
   ]
  },
  {
   "cell_type": "code",
   "execution_count": null,
   "id": "identified-dealing",
   "metadata": {},
   "outputs": [],
   "source": [
    "arrinputs"
   ]
  },
  {
   "cell_type": "code",
   "execution_count": null,
   "id": "worse-active",
   "metadata": {},
   "outputs": [],
   "source": [
    "arrinputs.loc[arrinputs['aspect'] == 1.414].loc[arrinputs['f'] == 0.5]"
   ]
  },
  {
   "cell_type": "code",
   "execution_count": null,
   "id": "bearing-pitch",
   "metadata": {},
   "outputs": [],
   "source": []
  }
 ],
 "metadata": {
  "kernelspec": {
   "display_name": "Python 3",
   "language": "python",
   "name": "python3"
  },
  "language_info": {
   "codemirror_mode": {
    "name": "ipython",
    "version": 3
   },
   "file_extension": ".py",
   "mimetype": "text/x-python",
   "name": "python",
   "nbconvert_exporter": "python",
   "pygments_lexer": "ipython3",
   "version": "3.8.6"
  }
 },
 "nbformat": 4,
 "nbformat_minor": 5
}
