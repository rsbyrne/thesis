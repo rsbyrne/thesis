{
 "cells": [
  {
   "cell_type": "code",
   "execution_count": 1,
   "id": "modified-association",
   "metadata": {},
   "outputs": [],
   "source": [
    "import numpy as np"
   ]
  },
  {
   "cell_type": "code",
   "execution_count": 97,
   "id": "marine-psychology",
   "metadata": {},
   "outputs": [
    {
     "data": {
      "text/plain": [
       "array([4.9 , 4.95, 5.  , 5.05, 5.1 , 5.15, 5.2 , 5.25, 5.3 , 5.35, 5.4 ,\n",
       "       5.45, 5.5 , 5.55, 5.6 , 5.65, 5.7 , 5.75, 5.8 , 5.85, 5.9 , 5.95,\n",
       "       6.  , 6.05])"
      ]
     },
     "execution_count": 97,
     "metadata": {},
     "output_type": "execute_result"
    }
   ],
   "source": [
    "np.linspace(4.9, 6.05, 24)"
   ]
  },
  {
   "cell_type": "code",
   "execution_count": 99,
   "id": "controlling-registration",
   "metadata": {},
   "outputs": [
    {
     "data": {
      "text/plain": [
       "array([5.9 , 5.95, 6.  , 6.05])"
      ]
     },
     "execution_count": 99,
     "metadata": {},
     "output_type": "execute_result"
    }
   ],
   "source": [
    "np.linspace(5.9, 6.05, 4)"
   ]
  },
  {
   "cell_type": "code",
   "execution_count": 92,
   "id": "forbidden-reduction",
   "metadata": {},
   "outputs": [
    {
     "data": {
      "text/plain": [
       "398107.1705534969"
      ]
     },
     "execution_count": 92,
     "metadata": {},
     "output_type": "execute_result"
    }
   ],
   "source": [
    "ARG1, ARG2 = 1, 2\n",
    "(10. ** (np.linspace(5.3, 5.85, 12), np.linspace(5.5, 6.05, 12))[ARG1])[ARG2]"
   ]
  },
  {
   "cell_type": "code",
   "execution_count": 82,
   "id": "brown-premises",
   "metadata": {},
   "outputs": [
    {
     "data": {
      "text/plain": [
       "True"
      ]
     },
     "execution_count": 82,
     "metadata": {},
     "output_type": "execute_result"
    }
   ],
   "source": [
    "5.3 in np.linspace(5.3, 5.85, 12)"
   ]
  },
  {
   "cell_type": "code",
   "execution_count": 87,
   "id": "occasional-turtle",
   "metadata": {},
   "outputs": [
    {
     "data": {
      "text/plain": [
       "array([4.9 , 4.95, 5.  , 5.05, 5.1 , 5.15, 5.2 , 5.25, 5.3 , 5.35, 5.4 ,\n",
       "       5.45, 5.5 , 5.55, 5.6 , 5.65, 5.7 , 5.75, 5.8 , 5.85, 5.9 , 5.95,\n",
       "       6.  , 6.05])"
      ]
     },
     "execution_count": 87,
     "metadata": {},
     "output_type": "execute_result"
    }
   ],
   "source": [
    "np.linspace(4.9, 6.05, 24)"
   ]
  },
  {
   "cell_type": "code",
   "execution_count": null,
   "id": "marked-colombia",
   "metadata": {},
   "outputs": [],
   "source": [
    "v for v in np.linspace(4.95)"
   ]
  },
  {
   "cell_type": "code",
   "execution_count": 74,
   "id": "simple-silence",
   "metadata": {},
   "outputs": [],
   "source": [
    "fs = [float(v) for v in [*np.linspace(0.72, 0.78, 4), *np.linspace(0.55, 0.95, 5)]]"
   ]
  },
  {
   "cell_type": "code",
   "execution_count": 80,
   "id": "adopted-azerbaijan",
   "metadata": {},
   "outputs": [
    {
     "data": {
      "text/plain": [
       "array([5.5 , 5.55, 5.6 , 5.65, 5.7 , 5.75, 5.8 , 5.85, 5.9 , 5.95, 6.  ,\n",
       "       6.05])"
      ]
     },
     "execution_count": 80,
     "metadata": {},
     "output_type": "execute_result"
    }
   ],
   "source": [
    "np.linspace(5.5, 6.05, 12)"
   ]
  },
  {
   "cell_type": "code",
   "execution_count": null,
   "id": "equipped-table",
   "metadata": {},
   "outputs": [],
   "source": [
    "np.linspace(5.3, 5.85, 12)"
   ]
  },
  {
   "cell_type": "code",
   "execution_count": 75,
   "id": "declared-candidate",
   "metadata": {},
   "outputs": [
    {
     "data": {
      "text/plain": [
       "[0.72, 0.74, 0.76, 0.78, 0.55, 0.65, 0.75, 0.85, 0.95]"
      ]
     },
     "execution_count": 75,
     "metadata": {},
     "output_type": "execute_result"
    }
   ],
   "source": [
    "fs"
   ]
  },
  {
   "cell_type": "code",
   "execution_count": 76,
   "id": "outdoor-genesis",
   "metadata": {},
   "outputs": [
    {
     "data": {
      "text/plain": [
       "9"
      ]
     },
     "execution_count": 76,
     "metadata": {},
     "output_type": "execute_result"
    }
   ],
   "source": [
    "len(fs)"
   ]
  },
  {
   "cell_type": "code",
   "execution_count": 60,
   "id": "accredited-links",
   "metadata": {},
   "outputs": [
    {
     "data": {
      "text/plain": [
       "array([0.72, 0.74, 0.76, 0.78])"
      ]
     },
     "execution_count": 60,
     "metadata": {},
     "output_type": "execute_result"
    }
   ],
   "source": [
    "np.linspace(0.72, 0.78, 4)"
   ]
  },
  {
   "cell_type": "code",
   "execution_count": 43,
   "id": "aggregate-target",
   "metadata": {},
   "outputs": [],
   "source": [
    "aspects = [float(i) for i in np.round(2. ** np.linspace(0, 0.5, 11), 3)][1:-1]"
   ]
  },
  {
   "cell_type": "code",
   "execution_count": 53,
   "id": "registered-bottom",
   "metadata": {},
   "outputs": [
    {
     "data": {
      "text/plain": [
       "9"
      ]
     },
     "execution_count": 53,
     "metadata": {},
     "output_type": "execute_result"
    }
   ],
   "source": [
    "len(aspects)"
   ]
  },
  {
   "cell_type": "code",
   "execution_count": null,
   "id": "detailed-offer",
   "metadata": {},
   "outputs": [],
   "source": [
    "inputs['aspect'] = round((2. ** np.linspace(0, 0.5, 6)[1:-1])[ARG2], 3)\n",
    "inputs['aspect'] = [1.072, 1.149, 1.231, 1.32][ARG2]"
   ]
  },
  {
   "cell_type": "code",
   "execution_count": 12,
   "id": "overhead-marble",
   "metadata": {},
   "outputs": [
    {
     "data": {
      "text/plain": [
       "array([1.032, 1.065, 1.099, 1.134, 1.171, 1.208, 1.247, 1.287, 1.328,\n",
       "       1.37 ])"
      ]
     },
     "execution_count": 12,
     "metadata": {},
     "output_type": "execute_result"
    }
   ],
   "source": [
    "np.round((2. ** np.linspace(0, 0.5, 12))[1:-1], 3)"
   ]
  },
  {
   "cell_type": "code",
   "execution_count": 15,
   "id": "powerful-delta",
   "metadata": {},
   "outputs": [],
   "source": [
    "aspect = [1.032, 1.065, 1.099, 1.134, 1.171, 1.208, 1.247, 1.287, 1.328, 1.37]"
   ]
  },
  {
   "cell_type": "code",
   "execution_count": 16,
   "id": "municipal-likelihood",
   "metadata": {},
   "outputs": [
    {
     "data": {
      "text/plain": [
       "[1.032, 1.065, 1.099, 1.134, 1.171, 1.208, 1.247, 1.287, 1.328, 1.37]"
      ]
     },
     "execution_count": 16,
     "metadata": {},
     "output_type": "execute_result"
    }
   ],
   "source": [
    "aspect"
   ]
  },
  {
   "cell_type": "code",
   "execution_count": 17,
   "id": "medieval-brisbane",
   "metadata": {},
   "outputs": [
    {
     "data": {
      "text/plain": [
       "10"
      ]
     },
     "execution_count": 17,
     "metadata": {},
     "output_type": "execute_result"
    }
   ],
   "source": [
    "len(aspect)"
   ]
  },
  {
   "cell_type": "code",
   "execution_count": null,
   "id": "changing-fleece",
   "metadata": {},
   "outputs": [],
   "source": [
    "[1.072, 1.149, 1.231, 1.32]"
   ]
  },
  {
   "cell_type": "code",
   "execution_count": 50,
   "id": "lesser-apparatus",
   "metadata": {},
   "outputs": [
    {
     "data": {
      "text/plain": [
       "[1.035, 1.072, 1.11, 1.149, 1.189, 1.231, 1.275, 1.32, 1.366]"
      ]
     },
     "execution_count": 50,
     "metadata": {},
     "output_type": "execute_result"
    }
   ],
   "source": [
    "aspects"
   ]
  },
  {
   "cell_type": "code",
   "execution_count": 51,
   "id": "failing-fossil",
   "metadata": {},
   "outputs": [],
   "source": [
    "args = [0, 2, 4, 6, 8]"
   ]
  },
  {
   "cell_type": "code",
   "execution_count": 52,
   "id": "victorian-reference",
   "metadata": {},
   "outputs": [
    {
     "data": {
      "text/plain": [
       "[1.035, 1.11, 1.189, 1.275, 1.366]"
      ]
     },
     "execution_count": 52,
     "metadata": {},
     "output_type": "execute_result"
    }
   ],
   "source": [
    "[aspects[i] for i in args]"
   ]
  },
  {
   "cell_type": "code",
   "execution_count": null,
   "id": "unsigned-creature",
   "metadata": {},
   "outputs": [],
   "source": []
  },
  {
   "cell_type": "code",
   "execution_count": null,
   "id": "dressed-threshold",
   "metadata": {},
   "outputs": [],
   "source": []
  },
  {
   "cell_type": "code",
   "execution_count": 11,
   "id": "ordered-beatles",
   "metadata": {},
   "outputs": [
    {
     "data": {
      "text/plain": [
       "<function numpy.round_(a, decimals=0, out=None)>"
      ]
     },
     "execution_count": 11,
     "metadata": {},
     "output_type": "execute_result"
    }
   ],
   "source": [
    "np.round"
   ]
  },
  {
   "cell_type": "code",
   "execution_count": 2,
   "id": "sophisticated-course",
   "metadata": {},
   "outputs": [
    {
     "data": {
      "text/plain": [
       "array([5.3 , 5.35, 5.4 , 5.45, 5.5 , 5.55, 5.6 , 5.65, 5.7 , 5.75, 5.8 ,\n",
       "       5.85])"
      ]
     },
     "execution_count": 2,
     "metadata": {},
     "output_type": "execute_result"
    }
   ],
   "source": [
    "np.linspace(5.3, 5.85, 12)"
   ]
  },
  {
   "cell_type": "code",
   "execution_count": 5,
   "id": "marine-transsexual",
   "metadata": {},
   "outputs": [
    {
     "data": {
      "text/plain": [
       "[4.95, 5.01, 5.07, 5.13, 5.19, 5.25]"
      ]
     },
     "execution_count": 5,
     "metadata": {},
     "output_type": "execute_result"
    }
   ],
   "source": [
    "[*np.linspace(4.95, 5.25, 6),]"
   ]
  },
  {
   "cell_type": "code",
   "execution_count": 6,
   "id": "simple-break",
   "metadata": {},
   "outputs": [
    {
     "data": {
      "text/plain": [
       "array([5.9 , 5.76, 5.62, 5.48, 5.34, 5.2 ])"
      ]
     },
     "execution_count": 6,
     "metadata": {},
     "output_type": "execute_result"
    }
   ],
   "source": [
    "np.linspace(5.9, 5.2, 6)"
   ]
  },
  {
   "cell_type": "code",
   "execution_count": null,
   "id": "parallel-temple",
   "metadata": {},
   "outputs": [],
   "source": [
    "np.linspace(5.3, 5.85, 12)"
   ]
  },
  {
   "cell_type": "code",
   "execution_count": null,
   "id": "confident-disco",
   "metadata": {},
   "outputs": [],
   "source": [
    "tauRefs = 10. ** np.linspace(5.3, 5.85, 12)"
   ]
  },
  {
   "cell_type": "code",
   "execution_count": null,
   "id": "through-profile",
   "metadata": {},
   "outputs": [],
   "source": [
    "tauRefs[0]"
   ]
  },
  {
   "cell_type": "code",
   "execution_count": null,
   "id": "entitled-nigeria",
   "metadata": {},
   "outputs": [],
   "source": [
    "np.log10(tauRefs[0])"
   ]
  },
  {
   "cell_type": "code",
   "execution_count": null,
   "id": "public-ability",
   "metadata": {},
   "outputs": [],
   "source": [
    "np.linspace(0.72, 0.78, 4)"
   ]
  },
  {
   "cell_type": "code",
   "execution_count": null,
   "id": "operational-madrid",
   "metadata": {},
   "outputs": [],
   "source": [
    "2. ** np.linspace(-0.5, 0.5, 5)"
   ]
  },
  {
   "cell_type": "code",
   "execution_count": null,
   "id": "vital-warning",
   "metadata": {},
   "outputs": [],
   "source": [
    "2. ** np.linspace(0, 0.5, 6)[1:-1]"
   ]
  },
  {
   "cell_type": "code",
   "execution_count": null,
   "id": "upset-lending",
   "metadata": {},
   "outputs": [],
   "source": [
    "ARG2 = 2"
   ]
  },
  {
   "cell_type": "code",
   "execution_count": null,
   "id": "initial-authority",
   "metadata": {},
   "outputs": [],
   "source": [
    "round((2. ** np.linspace(0, 0.5, 6)[1:-1])[ARG2], 3)"
   ]
  },
  {
   "cell_type": "code",
   "execution_count": null,
   "id": "robust-traveler",
   "metadata": {},
   "outputs": [],
   "source": [
    "for ARG2 in range(4):\n",
    "    print(round((2. ** np.linspace(0, 0.5, 6)[1:-1])[ARG2], 3))"
   ]
  },
  {
   "cell_type": "code",
   "execution_count": null,
   "id": "identified-ranking",
   "metadata": {},
   "outputs": [],
   "source": [
    "ARG2 = 0\n",
    "[round((2. ** np.linspace(0, 0.5, 6)[1:-1])[i], 3) for i in range(4)]"
   ]
  },
  {
   "cell_type": "code",
   "execution_count": null,
   "id": "above-credits",
   "metadata": {},
   "outputs": [],
   "source": [
    "round(64 * 1.32)"
   ]
  },
  {
   "cell_type": "code",
   "execution_count": null,
   "id": "suburban-government",
   "metadata": {},
   "outputs": [],
   "source": [
    "np.linspace(0., 1., round(64 * 1.072))"
   ]
  },
  {
   "cell_type": "code",
   "execution_count": null,
   "id": "designing-source",
   "metadata": {},
   "outputs": [],
   "source": []
  }
 ],
 "metadata": {
  "kernelspec": {
   "display_name": "Python 3",
   "language": "python",
   "name": "python3"
  },
  "language_info": {
   "codemirror_mode": {
    "name": "ipython",
    "version": 3
   },
   "file_extension": ".py",
   "mimetype": "text/x-python",
   "name": "python",
   "nbconvert_exporter": "python",
   "pygments_lexer": "ipython3",
   "version": "3.8.6"
  }
 },
 "nbformat": 4,
 "nbformat_minor": 5
}
